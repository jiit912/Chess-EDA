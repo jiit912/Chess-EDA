{
 "cells": [
  {
   "cell_type": "code",
   "execution_count": 2,
   "id": "05d404ac",
   "metadata": {},
   "outputs": [],
   "source": [
    "from converter.pgn_data import PGNData\n",
    "import urllib\n",
    "import urllib.request\n"
   ]
  },
  {
   "cell_type": "code",
   "execution_count": 19,
   "id": "c491a365",
   "metadata": {},
   "outputs": [
    {
     "name": "stdout",
     "output_type": "stream",
     "text": [
      "2020-04.pgn has been downloaded.\n",
      "2020-05.pgn has been downloaded.\n",
      "2020-06.pgn has been downloaded.\n",
      "2020-07.pgn has been downloaded.\n",
      "2020-08.pgn has been downloaded.\n",
      "2020-09.pgn has been downloaded.\n",
      "2020-10.pgn has been downloaded.\n",
      "2020-11.pgn has been downloaded.\n",
      "2020-12.pgn has been downloaded.\n",
      "2021-01.pgn has been downloaded.\n",
      "2021-02.pgn has been downloaded.\n",
      "2021-03.pgn has been downloaded.\n",
      "2021-04.pgn has been downloaded.\n",
      "2021-05.pgn has been downloaded.\n",
      "2021-06.pgn has been downloaded.\n",
      "2021-07.pgn has been downloaded.\n",
      "2021-08.pgn has been downloaded.\n",
      "2021-10.pgn has been downloaded.\n",
      "2021-11.pgn has been downloaded.\n",
      "2021-12.pgn has been downloaded.\n",
      "2022-01.pgn has been downloaded.\n",
      "2022-02.pgn has been downloaded.\n",
      "2022-03.pgn has been downloaded.\n",
      "2022-04.pgn has been downloaded.\n",
      "2022-05.pgn has been downloaded.\n",
      "2022-06.pgn has been downloaded.\n",
      "2022-07.pgn has been downloaded.\n",
      "2022-08.pgn has been downloaded.\n",
      "2022-09.pgn has been downloaded.\n",
      "2022-10.pgn has been downloaded.\n",
      "2022-11.pgn has been downloaded.\n",
      "2022-12.pgn has been downloaded.\n",
      "2023-01.pgn has been downloaded.\n",
      "2023-02.pgn has been downloaded.\n",
      "2023-03.pgn has been downloaded.\n",
      "2023-04.pgn has been downloaded.\n",
      "2023-05.pgn has been downloaded.\n",
      "2023-06.pgn has been downloaded.\n",
      "2023-07.pgn has been downloaded.\n",
      "2023-08.pgn has been downloaded.\n",
      "2023-09.pgn has been downloaded.\n",
      "2023-10.pgn has been downloaded.\n",
      "All files have been downloaded.\n"
     ]
    }
   ],
   "source": [
    "username = \"jiit9124\" #change \n",
    "baseUrl = \"https://api.chess.com/pub/player/\" + username + \"/games/\"\n",
    "archivesUrl = baseUrl + \"archives\"\n",
    "\n",
    "#read the archives url and store in a list\n",
    "f = urllib.request.urlopen(archivesUrl)\n",
    "archives = f.read().decode(\"utf-8\")\n",
    "archives = archives.replace(\"{\\\"archives\\\":[\\\"\", \"\\\",\\\"\")\n",
    "archivesList = archives.split(\"\\\",\\\"\" + baseUrl)\n",
    "archivesList[len(archivesList)-1] = archivesList[len(archivesList)-1].rstrip(\"\\\"]}\")\n",
    "filenames = []\n",
    "#download all the archives\n",
    "for i in range(len(archivesList)-1):\n",
    "    url = baseUrl + archivesList[i+1] + \"/pgn\"\n",
    "    filename = archivesList[i+1].replace(\"/\", \"-\")\n",
    "    urllib.request.urlretrieve(url, \"./All pgn/\" + filename + \".pgn\") #change\n",
    "    print(filename + \".pgn has been downloaded.\")\n",
    "    filenames.append(filename+'.pgn')\n",
    "print (\"All files have been downloaded.\")"
   ]
  },
  {
   "cell_type": "code",
   "execution_count": 12,
   "id": "c370d11c",
   "metadata": {},
   "outputs": [
    {
     "name": "stderr",
     "output_type": "stream",
     "text": [
      "INFO:pgn2data - log_time:initializing at...2023-10-24 16:56:14.246342\n",
      "INFO:pgn2data - pgn_data class:Starting process..\n",
      "INFO:pgn2data - process:Processing games and moves in file:2020-04.pgn\n",
      "INFO:pgn2data - pgn_data class:ending process..\n",
      "INFO:pgn2data - log_time:time taken sec: 0.37041970000001356 sec\n",
      "INFO:pgn2data - log_time:time taken: 0.37041970000001356 seconds, \n",
      "INFO:pgn2data - log_time:time started...2023-10-24 16:56:14.246342\n",
      "INFO:pgn2data - log_time:time ended.....2023-10-24 16:56:14.619524\n",
      "INFO:pgn2data - log_time:initializing at...2023-10-24 16:56:14.619524\n",
      "INFO:pgn2data - pgn_data class:Starting process..\n",
      "INFO:pgn2data - process:Processing games and moves in file:2020-04.pgn\n",
      "INFO:pgn2data - pgn_data class:ending process..\n",
      "INFO:pgn2data - log_time:time taken sec: 0.44620140000000674 sec\n",
      "INFO:pgn2data - log_time:time taken: 0.44620140000000674 seconds, \n",
      "INFO:pgn2data - log_time:time started...2023-10-24 16:56:14.619524\n",
      "INFO:pgn2data - log_time:time ended.....2023-10-24 16:56:15.069365\n",
      "INFO:pgn2data - log_time:initializing at...2023-10-24 16:56:15.071369\n",
      "INFO:pgn2data - pgn_data class:Starting process..\n",
      "INFO:pgn2data - process:Processing games and moves in file:2020-05.pgn\n"
     ]
    },
    {
     "name": "stdout",
     "output_type": "stream",
     "text": [
      "is complete: True\n",
      "games file: 2020-04_game_info.csv | size: 2129\n",
      "moves file: 2020-04_moves.csv | size: 252081\n"
     ]
    },
    {
     "name": "stderr",
     "output_type": "stream",
     "text": [
      "INFO:pgn2data - pgn_data class:ending process..\n",
      "INFO:pgn2data - log_time:time taken sec: 0.7837195000000179 sec\n",
      "INFO:pgn2data - log_time:time taken: 0.7837195000000179 seconds, \n",
      "INFO:pgn2data - log_time:time started...2023-10-24 16:56:15.071369\n",
      "INFO:pgn2data - log_time:time ended.....2023-10-24 16:56:15.857284\n",
      "INFO:pgn2data - log_time:initializing at...2023-10-24 16:56:15.857284\n",
      "INFO:pgn2data - pgn_data class:Starting process..\n",
      "INFO:pgn2data - process:Processing games and moves in file:2020-05.pgn\n",
      "INFO:pgn2data - pgn_data class:ending process..\n",
      "INFO:pgn2data - log_time:time taken sec: 0.706153200000017 sec\n",
      "INFO:pgn2data - log_time:time taken: 0.706153200000017 seconds, \n",
      "INFO:pgn2data - log_time:time started...2023-10-24 16:56:15.857284\n",
      "INFO:pgn2data - log_time:time ended.....2023-10-24 16:56:16.567442\n",
      "INFO:pgn2data - log_time:initializing at...2023-10-24 16:56:16.571491\n",
      "INFO:pgn2data - pgn_data class:Starting process..\n",
      "INFO:pgn2data - process:Processing games and moves in file:2020-06.pgn\n"
     ]
    },
    {
     "name": "stdout",
     "output_type": "stream",
     "text": [
      "is complete: True\n",
      "games file: 2020-05_game_info.csv | size: 4971\n",
      "moves file: 2020-05_moves.csv | size: 483627\n"
     ]
    },
    {
     "name": "stderr",
     "output_type": "stream",
     "text": [
      "INFO:pgn2data - pgn_data class:ending process..\n",
      "INFO:pgn2data - log_time:time taken sec: 1.0571160000000077 sec\n",
      "INFO:pgn2data - log_time:time taken: 1.0571160000000077 seconds, \n",
      "INFO:pgn2data - log_time:time started...2023-10-24 16:56:16.571491\n",
      "INFO:pgn2data - log_time:time ended.....2023-10-24 16:56:17.630554\n",
      "INFO:pgn2data - log_time:initializing at...2023-10-24 16:56:17.630554\n",
      "INFO:pgn2data - pgn_data class:Starting process..\n",
      "INFO:pgn2data - process:Processing games and moves in file:2020-06.pgn\n",
      "INFO:pgn2data - pgn_data class:ending process..\n",
      "INFO:pgn2data - log_time:time taken sec: 0.7935968999999545 sec\n",
      "INFO:pgn2data - log_time:time taken: 0.7935968999999545 seconds, \n",
      "INFO:pgn2data - log_time:time started...2023-10-24 16:56:17.630554\n",
      "INFO:pgn2data - log_time:time ended.....2023-10-24 16:56:18.426370\n",
      "INFO:pgn2data - log_time:initializing at...2023-10-24 16:56:18.427329\n",
      "INFO:pgn2data - pgn_data class:Starting process..\n",
      "INFO:pgn2data - process:Processing games and moves in file:2020-07.pgn\n"
     ]
    },
    {
     "name": "stdout",
     "output_type": "stream",
     "text": [
      "is complete: True\n",
      "games file: 2020-06_game_info.csv | size: 7309\n",
      "moves file: 2020-06_moves.csv | size: 443818\n"
     ]
    },
    {
     "name": "stderr",
     "output_type": "stream",
     "text": [
      "INFO:pgn2data - pgn_data class:ending process..\n",
      "INFO:pgn2data - log_time:time taken sec: 1.9999268000000257 sec\n",
      "INFO:pgn2data - log_time:time taken: 1.9999268000000257 seconds, \n",
      "INFO:pgn2data - log_time:time started...2023-10-24 16:56:18.427329\n",
      "INFO:pgn2data - log_time:time ended.....2023-10-24 16:56:20.428757\n",
      "INFO:pgn2data - log_time:initializing at...2023-10-24 16:56:20.429833\n",
      "INFO:pgn2data - pgn_data class:Starting process..\n",
      "INFO:pgn2data - process:Processing games and moves in file:2020-07.pgn\n",
      "INFO:pgn2data - pgn_data class:ending process..\n",
      "INFO:pgn2data - log_time:time taken sec: 1.7103177000000187 sec\n",
      "INFO:pgn2data - log_time:time taken: 1.7103177000000187 seconds, \n",
      "INFO:pgn2data - log_time:time started...2023-10-24 16:56:20.429833\n",
      "INFO:pgn2data - log_time:time ended.....2023-10-24 16:56:22.141642\n",
      "INFO:pgn2data - log_time:initializing at...2023-10-24 16:56:22.141642\n",
      "INFO:pgn2data - pgn_data class:Starting process..\n",
      "INFO:pgn2data - process:Processing games and moves in file:2020-08.pgn\n"
     ]
    },
    {
     "name": "stdout",
     "output_type": "stream",
     "text": [
      "is complete: True\n",
      "games file: 2020-07_game_info.csv | size: 9863\n",
      "moves file: 2020-07_moves.csv | size: 1224038\n"
     ]
    },
    {
     "name": "stderr",
     "output_type": "stream",
     "text": [
      "INFO:pgn2data - pgn_data class:ending process..\n",
      "INFO:pgn2data - log_time:time taken sec: 0.24901439999996455 sec\n",
      "INFO:pgn2data - log_time:time taken: 0.24901439999996455 seconds, \n",
      "INFO:pgn2data - log_time:time started...2023-10-24 16:56:22.141642\n",
      "INFO:pgn2data - log_time:time ended.....2023-10-24 16:56:22.393175\n",
      "INFO:pgn2data - log_time:initializing at...2023-10-24 16:56:22.393175\n",
      "INFO:pgn2data - pgn_data class:Starting process..\n",
      "INFO:pgn2data - process:Processing games and moves in file:2020-08.pgn\n",
      "INFO:pgn2data - pgn_data class:ending process..\n",
      "INFO:pgn2data - log_time:time taken sec: 0.2533162999999945 sec\n",
      "INFO:pgn2data - log_time:time taken: 0.2533162999999945 seconds, \n",
      "INFO:pgn2data - log_time:time started...2023-10-24 16:56:22.393175\n",
      "INFO:pgn2data - log_time:time ended.....2023-10-24 16:56:22.650289\n",
      "INFO:pgn2data - log_time:initializing at...2023-10-24 16:56:22.650639\n",
      "INFO:pgn2data - pgn_data class:Starting process..\n",
      "INFO:pgn2data - process:Processing games and moves in file:2020-09.pgn\n"
     ]
    },
    {
     "name": "stdout",
     "output_type": "stream",
     "text": [
      "is complete: True\n",
      "games file: 2020-08_game_info.csv | size: 1471\n",
      "moves file: 2020-08_moves.csv | size: 182187\n"
     ]
    },
    {
     "name": "stderr",
     "output_type": "stream",
     "text": [
      "INFO:pgn2data - pgn_data class:ending process..\n",
      "INFO:pgn2data - log_time:time taken sec: 0.38876170000003185 sec\n",
      "INFO:pgn2data - log_time:time taken: 0.38876170000003185 seconds, \n",
      "INFO:pgn2data - log_time:time started...2023-10-24 16:56:22.650639\n",
      "INFO:pgn2data - log_time:time ended.....2023-10-24 16:56:23.043898\n",
      "INFO:pgn2data - log_time:initializing at...2023-10-24 16:56:23.045882\n",
      "INFO:pgn2data - pgn_data class:Starting process..\n",
      "INFO:pgn2data - process:Processing games and moves in file:2020-09.pgn\n",
      "INFO:pgn2data - pgn_data class:ending process..\n",
      "INFO:pgn2data - log_time:time taken sec: 0.29177399999997533 sec\n",
      "INFO:pgn2data - log_time:time taken: 0.29177399999997533 seconds, \n",
      "INFO:pgn2data - log_time:time started...2023-10-24 16:56:23.045882\n",
      "INFO:pgn2data - log_time:time ended.....2023-10-24 16:56:23.338769\n",
      "INFO:pgn2data - log_time:initializing at...2023-10-24 16:56:23.340711\n",
      "INFO:pgn2data - pgn_data class:Starting process..\n",
      "INFO:pgn2data - process:Processing games and moves in file:2020-10.pgn\n"
     ]
    },
    {
     "name": "stdout",
     "output_type": "stream",
     "text": [
      "is complete: True\n",
      "games file: 2020-09_game_info.csv | size: 2438\n",
      "moves file: 2020-09_moves.csv | size: 177866\n"
     ]
    },
    {
     "name": "stderr",
     "output_type": "stream",
     "text": [
      "INFO:pgn2data - pgn_data class:ending process..\n",
      "INFO:pgn2data - log_time:time taken sec: 0.9360599999999977 sec\n",
      "INFO:pgn2data - log_time:time taken: 0.9360599999999977 seconds, \n",
      "INFO:pgn2data - log_time:time started...2023-10-24 16:56:23.340711\n",
      "INFO:pgn2data - log_time:time ended.....2023-10-24 16:56:24.278247\n",
      "INFO:pgn2data - log_time:initializing at...2023-10-24 16:56:24.279292\n",
      "INFO:pgn2data - pgn_data class:Starting process..\n",
      "INFO:pgn2data - process:Processing games and moves in file:2020-10.pgn\n",
      "INFO:pgn2data - pgn_data class:ending process..\n",
      "INFO:pgn2data - log_time:time taken sec: 0.8439220999999861 sec\n",
      "INFO:pgn2data - log_time:time taken: 0.8439220999999861 seconds, \n",
      "INFO:pgn2data - log_time:time started...2023-10-24 16:56:24.279292\n",
      "INFO:pgn2data - log_time:time ended.....2023-10-24 16:56:25.126557\n",
      "INFO:pgn2data - log_time:initializing at...2023-10-24 16:56:25.127569\n",
      "INFO:pgn2data - pgn_data class:Starting process..\n",
      "INFO:pgn2data - process:Processing games and moves in file:2020-11.pgn\n"
     ]
    },
    {
     "name": "stdout",
     "output_type": "stream",
     "text": [
      "is complete: True\n",
      "games file: 2020-10_game_info.csv | size: 4320\n",
      "moves file: 2020-10_moves.csv | size: 520336\n"
     ]
    },
    {
     "name": "stderr",
     "output_type": "stream",
     "text": [
      "INFO:pgn2data - pgn_data class:ending process..\n",
      "INFO:pgn2data - log_time:time taken sec: 0.6418633000000113 sec\n",
      "INFO:pgn2data - log_time:time taken: 0.6418633000000113 seconds, \n",
      "INFO:pgn2data - log_time:time started...2023-10-24 16:56:25.127569\n",
      "INFO:pgn2data - log_time:time ended.....2023-10-24 16:56:25.770397\n",
      "INFO:pgn2data - log_time:initializing at...2023-10-24 16:56:25.771845\n",
      "INFO:pgn2data - pgn_data class:Starting process..\n",
      "INFO:pgn2data - process:Processing games and moves in file:2020-11.pgn\n",
      "INFO:pgn2data - pgn_data class:ending process..\n",
      "INFO:pgn2data - log_time:time taken sec: 0.523280600000021 sec\n",
      "INFO:pgn2data - log_time:time taken: 0.523280600000021 seconds, \n",
      "INFO:pgn2data - log_time:time started...2023-10-24 16:56:25.771845\n",
      "INFO:pgn2data - log_time:time ended.....2023-10-24 16:56:26.296319\n",
      "INFO:pgn2data - log_time:initializing at...2023-10-24 16:56:26.297833\n",
      "INFO:pgn2data - pgn_data class:Starting process..\n",
      "INFO:pgn2data - process:Processing games and moves in file:2020-12.pgn\n"
     ]
    },
    {
     "name": "stdout",
     "output_type": "stream",
     "text": [
      "is complete: True\n",
      "games file: 2020-11_game_info.csv | size: 4399\n",
      "moves file: 2020-11_moves.csv | size: 310916\n"
     ]
    },
    {
     "name": "stderr",
     "output_type": "stream",
     "text": [
      "INFO:pgn2data - pgn_data class:ending process..\n",
      "INFO:pgn2data - log_time:time taken sec: 2.589465099999984 sec\n",
      "INFO:pgn2data - log_time:time taken: 2.589465099999984 seconds, \n",
      "INFO:pgn2data - log_time:time started...2023-10-24 16:56:26.297833\n",
      "INFO:pgn2data - log_time:time ended.....2023-10-24 16:56:28.888301\n",
      "INFO:pgn2data - log_time:initializing at...2023-10-24 16:56:28.889394\n",
      "INFO:pgn2data - pgn_data class:Starting process..\n",
      "INFO:pgn2data - process:Processing games and moves in file:2020-12.pgn\n",
      "INFO:pgn2data - pgn_data class:ending process..\n",
      "INFO:pgn2data - log_time:time taken sec: 2.2744961999999873 sec\n",
      "INFO:pgn2data - log_time:time taken: 2.2744961999999873 seconds, \n",
      "INFO:pgn2data - log_time:time started...2023-10-24 16:56:28.889394\n",
      "INFO:pgn2data - log_time:time ended.....2023-10-24 16:56:31.165057\n",
      "INFO:pgn2data - log_time:initializing at...2023-10-24 16:56:31.166234\n",
      "INFO:pgn2data - pgn_data class:Starting process..\n",
      "INFO:pgn2data - process:Processing games and moves in file:2021-01.pgn\n"
     ]
    },
    {
     "name": "stdout",
     "output_type": "stream",
     "text": [
      "is complete: True\n",
      "games file: 2020-12_game_info.csv | size: 15558\n",
      "moves file: 2020-12_moves.csv | size: 1680459\n"
     ]
    },
    {
     "name": "stderr",
     "output_type": "stream",
     "text": [
      "INFO:pgn2data - pgn_data class:ending process..\n",
      "INFO:pgn2data - log_time:time taken sec: 0.5502978000000098 sec\n",
      "INFO:pgn2data - log_time:time taken: 0.5502978000000098 seconds, \n",
      "INFO:pgn2data - log_time:time started...2023-10-24 16:56:31.166234\n",
      "INFO:pgn2data - log_time:time ended.....2023-10-24 16:56:31.718355\n",
      "INFO:pgn2data - log_time:initializing at...2023-10-24 16:56:31.718355\n",
      "INFO:pgn2data - pgn_data class:Starting process..\n",
      "INFO:pgn2data - process:Processing games and moves in file:2021-01.pgn\n",
      "INFO:pgn2data - pgn_data class:ending process..\n",
      "INFO:pgn2data - log_time:time taken sec: 0.5344195999999783 sec\n",
      "INFO:pgn2data - log_time:time taken: 0.5344195999999783 seconds, \n",
      "INFO:pgn2data - log_time:time started...2023-10-24 16:56:31.718355\n",
      "INFO:pgn2data - log_time:time ended.....2023-10-24 16:56:32.255245\n",
      "INFO:pgn2data - log_time:initializing at...2023-10-24 16:56:32.256591\n",
      "INFO:pgn2data - pgn_data class:Starting process..\n",
      "INFO:pgn2data - process:Processing games and moves in file:2021-02.pgn\n",
      "INFO:pgn2data - pgn_data class:ending process..\n",
      "INFO:pgn2data - log_time:time taken sec: 0.11438399999997273 sec\n",
      "INFO:pgn2data - log_time:time taken: 0.11438399999997273 seconds, \n",
      "INFO:pgn2data - log_time:time started...2023-10-24 16:56:32.256591\n",
      "INFO:pgn2data - log_time:time ended.....2023-10-24 16:56:32.372917\n",
      "INFO:pgn2data - log_time:initializing at...2023-10-24 16:56:32.373915\n",
      "INFO:pgn2data - pgn_data class:Starting process..\n",
      "INFO:pgn2data - process:Processing games and moves in file:2021-02.pgn\n"
     ]
    },
    {
     "name": "stdout",
     "output_type": "stream",
     "text": [
      "is complete: True\n",
      "games file: 2021-01_game_info.csv | size: 4411\n",
      "moves file: 2021-01_moves.csv | size: 365842\n"
     ]
    },
    {
     "name": "stderr",
     "output_type": "stream",
     "text": [
      "INFO:pgn2data - pgn_data class:ending process..\n",
      "INFO:pgn2data - log_time:time taken sec: 0.14948530000003757 sec\n",
      "INFO:pgn2data - log_time:time taken: 0.14948530000003757 seconds, \n",
      "INFO:pgn2data - log_time:time started...2023-10-24 16:56:32.373915\n",
      "INFO:pgn2data - log_time:time ended.....2023-10-24 16:56:32.524400\n",
      "INFO:pgn2data - log_time:initializing at...2023-10-24 16:56:32.525912\n",
      "INFO:pgn2data - pgn_data class:Starting process..\n",
      "INFO:pgn2data - process:Processing games and moves in file:2021-03.pgn\n"
     ]
    },
    {
     "name": "stdout",
     "output_type": "stream",
     "text": [
      "is complete: True\n",
      "games file: 2021-02_game_info.csv | size: 1249\n",
      "moves file: 2021-02_moves.csv | size: 53240\n"
     ]
    },
    {
     "name": "stderr",
     "output_type": "stream",
     "text": [
      "INFO:pgn2data - pgn_data class:ending process..\n",
      "INFO:pgn2data - log_time:time taken sec: 0.956561899999997 sec\n",
      "INFO:pgn2data - log_time:time taken: 0.956561899999997 seconds, \n",
      "INFO:pgn2data - log_time:time started...2023-10-24 16:56:32.525912\n",
      "INFO:pgn2data - log_time:time ended.....2023-10-24 16:56:33.484000\n",
      "INFO:pgn2data - log_time:initializing at...2023-10-24 16:56:33.485155\n",
      "INFO:pgn2data - pgn_data class:Starting process..\n",
      "INFO:pgn2data - process:Processing games and moves in file:2021-03.pgn\n",
      "INFO:pgn2data - pgn_data class:ending process..\n",
      "INFO:pgn2data - log_time:time taken sec: 1.0911887999999976 sec\n",
      "INFO:pgn2data - log_time:time taken: 1.0911887999999976 seconds, \n",
      "INFO:pgn2data - log_time:time started...2023-10-24 16:56:33.485155\n",
      "INFO:pgn2data - log_time:time ended.....2023-10-24 16:56:34.578112\n",
      "INFO:pgn2data - log_time:initializing at...2023-10-24 16:56:34.579142\n",
      "INFO:pgn2data - pgn_data class:Starting process..\n",
      "INFO:pgn2data - process:Processing games and moves in file:2021-04.pgn\n"
     ]
    },
    {
     "name": "stdout",
     "output_type": "stream",
     "text": [
      "is complete: True\n",
      "games file: 2021-03_game_info.csv | size: 5330\n",
      "moves file: 2021-03_moves.csv | size: 514114\n"
     ]
    },
    {
     "name": "stderr",
     "output_type": "stream",
     "text": [
      "INFO:pgn2data - pgn_data class:ending process..\n",
      "INFO:pgn2data - log_time:time taken sec: 2.6746076000000016 sec\n",
      "INFO:pgn2data - log_time:time taken: 2.6746076000000016 seconds, \n",
      "INFO:pgn2data - log_time:time started...2023-10-24 16:56:34.579142\n",
      "INFO:pgn2data - log_time:time ended.....2023-10-24 16:56:37.254870\n",
      "INFO:pgn2data - log_time:initializing at...2023-10-24 16:56:37.255868\n",
      "INFO:pgn2data - pgn_data class:Starting process..\n",
      "INFO:pgn2data - process:Processing games and moves in file:2021-04.pgn\n",
      "INFO:pgn2data - pgn_data class:ending process..\n",
      "INFO:pgn2data - log_time:time taken sec: 2.1019035000000486 sec\n",
      "INFO:pgn2data - log_time:time taken: 2.1019035000000486 seconds, \n",
      "INFO:pgn2data - log_time:time started...2023-10-24 16:56:37.255868\n",
      "INFO:pgn2data - log_time:time ended.....2023-10-24 16:56:39.359748\n",
      "INFO:pgn2data - log_time:initializing at...2023-10-24 16:56:39.360749\n",
      "INFO:pgn2data - pgn_data class:Starting process..\n",
      "INFO:pgn2data - process:Processing games and moves in file:2021-05.pgn\n"
     ]
    },
    {
     "name": "stdout",
     "output_type": "stream",
     "text": [
      "is complete: True\n",
      "games file: 2021-04_game_info.csv | size: 14648\n",
      "moves file: 2021-04_moves.csv | size: 1529725\n"
     ]
    },
    {
     "name": "stderr",
     "output_type": "stream",
     "text": [
      "INFO:pgn2data - pgn_data class:ending process..\n",
      "INFO:pgn2data - log_time:time taken sec: 9.825273399999958 sec\n",
      "INFO:pgn2data - log_time:time taken: 9.825273399999958 seconds, \n",
      "INFO:pgn2data - log_time:time started...2023-10-24 16:56:39.360749\n",
      "INFO:pgn2data - log_time:time ended.....2023-10-24 16:56:49.188200\n",
      "INFO:pgn2data - log_time:initializing at...2023-10-24 16:56:49.189470\n",
      "INFO:pgn2data - pgn_data class:Starting process..\n",
      "INFO:pgn2data - process:Processing games and moves in file:2021-05.pgn\n",
      "INFO:pgn2data - pgn_data class:ending process..\n",
      "INFO:pgn2data - log_time:time taken sec: 12.50713660000008 sec\n",
      "INFO:pgn2data - log_time:time taken: 12.50713660000008 seconds, \n",
      "INFO:pgn2data - log_time:time started...2023-10-24 16:56:49.189470\n",
      "INFO:pgn2data - log_time:time ended.....2023-10-24 16:57:01.699296\n",
      "INFO:pgn2data - log_time:initializing at...2023-10-24 16:57:01.701578\n",
      "INFO:pgn2data - pgn_data class:Starting process..\n",
      "INFO:pgn2data - process:Processing games and moves in file:2021-06.pgn\n"
     ]
    },
    {
     "name": "stdout",
     "output_type": "stream",
     "text": [
      "is complete: True\n",
      "games file: 2021-05_game_info.csv | size: 56883\n",
      "moves file: 2021-05_moves.csv | size: 5798751\n"
     ]
    },
    {
     "name": "stderr",
     "output_type": "stream",
     "text": [
      "INFO:pgn2data - pgn_data class:ending process..\n",
      "INFO:pgn2data - log_time:time taken sec: 10.425287600000047 sec\n",
      "INFO:pgn2data - log_time:time taken: 10.425287600000047 seconds, \n",
      "INFO:pgn2data - log_time:time started...2023-10-24 16:57:01.701578\n",
      "INFO:pgn2data - log_time:time ended.....2023-10-24 16:57:12.128467\n",
      "INFO:pgn2data - log_time:initializing at...2023-10-24 16:57:12.129553\n",
      "INFO:pgn2data - pgn_data class:Starting process..\n",
      "INFO:pgn2data - process:Processing games and moves in file:2021-06.pgn\n",
      "INFO:pgn2data - pgn_data class:ending process..\n",
      "INFO:pgn2data - log_time:time taken sec: 8.491984000000002 sec\n",
      "INFO:pgn2data - log_time:time taken: 8.491984000000002 seconds, \n",
      "INFO:pgn2data - log_time:time started...2023-10-24 16:57:12.129553\n",
      "INFO:pgn2data - log_time:time ended.....2023-10-24 16:57:20.623122\n",
      "INFO:pgn2data - log_time:initializing at...2023-10-24 16:57:20.624230\n",
      "INFO:pgn2data - pgn_data class:Starting process..\n",
      "INFO:pgn2data - process:Processing games and moves in file:2021-07.pgn\n"
     ]
    },
    {
     "name": "stdout",
     "output_type": "stream",
     "text": [
      "is complete: True\n",
      "games file: 2021-06_game_info.csv | size: 48424\n",
      "moves file: 2021-06_moves.csv | size: 5089957\n"
     ]
    },
    {
     "name": "stderr",
     "output_type": "stream",
     "text": [
      "INFO:pgn2data - pgn_data class:ending process..\n",
      "INFO:pgn2data - log_time:time taken sec: 0.8752526999999191 sec\n",
      "INFO:pgn2data - log_time:time taken: 0.8752526999999191 seconds, \n",
      "INFO:pgn2data - log_time:time started...2023-10-24 16:57:20.624230\n",
      "INFO:pgn2data - log_time:time ended.....2023-10-24 16:57:21.500996\n",
      "INFO:pgn2data - log_time:initializing at...2023-10-24 16:57:21.500996\n",
      "INFO:pgn2data - pgn_data class:Starting process..\n",
      "INFO:pgn2data - process:Processing games and moves in file:2021-07.pgn\n",
      "INFO:pgn2data - pgn_data class:ending process..\n",
      "INFO:pgn2data - log_time:time taken sec: 1.0340507999999318 sec\n",
      "INFO:pgn2data - log_time:time taken: 1.0340507999999318 seconds, \n",
      "INFO:pgn2data - log_time:time started...2023-10-24 16:57:21.500996\n",
      "INFO:pgn2data - log_time:time ended.....2023-10-24 16:57:22.537317\n",
      "INFO:pgn2data - log_time:initializing at...2023-10-24 16:57:22.538332\n",
      "INFO:pgn2data - pgn_data class:Starting process..\n",
      "INFO:pgn2data - process:Processing games and moves in file:2021-08.pgn\n",
      "INFO:pgn2data - pgn_data class:ending process..\n",
      "INFO:pgn2data - log_time:time taken sec: 0.1241711000000123 sec\n",
      "INFO:pgn2data - log_time:time taken: 0.1241711000000123 seconds, \n",
      "INFO:pgn2data - log_time:time started...2023-10-24 16:57:22.538332\n",
      "INFO:pgn2data - log_time:time ended.....2023-10-24 16:57:22.664040\n",
      "INFO:pgn2data - log_time:initializing at...2023-10-24 16:57:22.665378\n",
      "INFO:pgn2data - pgn_data class:Starting process..\n",
      "INFO:pgn2data - process:Processing games and moves in file:2021-08.pgn\n"
     ]
    },
    {
     "name": "stdout",
     "output_type": "stream",
     "text": [
      "is complete: True\n",
      "games file: 2021-07_game_info.csv | size: 6612\n",
      "moves file: 2021-07_moves.csv | size: 582976\n"
     ]
    },
    {
     "name": "stderr",
     "output_type": "stream",
     "text": [
      "INFO:pgn2data - pgn_data class:ending process..\n",
      "INFO:pgn2data - log_time:time taken sec: 0.0955417000000125 sec\n",
      "INFO:pgn2data - log_time:time taken: 0.0955417000000125 seconds, \n",
      "INFO:pgn2data - log_time:time started...2023-10-24 16:57:22.665378\n",
      "INFO:pgn2data - log_time:time ended.....2023-10-24 16:57:22.763133\n",
      "INFO:pgn2data - log_time:initializing at...2023-10-24 16:57:22.763133\n",
      "INFO:pgn2data - pgn_data class:Starting process..\n",
      "INFO:pgn2data - process:Processing games and moves in file:2021-10.pgn\n"
     ]
    },
    {
     "name": "stdout",
     "output_type": "stream",
     "text": [
      "is complete: True\n",
      "games file: 2021-08_game_info.csv | size: 776\n",
      "moves file: 2021-08_moves.csv | size: 43387\n"
     ]
    },
    {
     "name": "stderr",
     "output_type": "stream",
     "text": [
      "INFO:pgn2data - pgn_data class:ending process..\n",
      "INFO:pgn2data - log_time:time taken sec: 0.2702855999999656 sec\n",
      "INFO:pgn2data - log_time:time taken: 0.2702855999999656 seconds, \n",
      "INFO:pgn2data - log_time:time started...2023-10-24 16:57:22.763133\n",
      "INFO:pgn2data - log_time:time ended.....2023-10-24 16:57:23.036138\n",
      "INFO:pgn2data - log_time:initializing at...2023-10-24 16:57:23.037646\n",
      "INFO:pgn2data - pgn_data class:Starting process..\n",
      "INFO:pgn2data - process:Processing games and moves in file:2021-10.pgn\n",
      "INFO:pgn2data - pgn_data class:ending process..\n",
      "INFO:pgn2data - log_time:time taken sec: 0.2725012999999308 sec\n",
      "INFO:pgn2data - log_time:time taken: 0.2725012999999308 seconds, \n",
      "INFO:pgn2data - log_time:time started...2023-10-24 16:57:23.037646\n",
      "INFO:pgn2data - log_time:time ended.....2023-10-24 16:57:23.312712\n",
      "INFO:pgn2data - log_time:initializing at...2023-10-24 16:57:23.312712\n",
      "INFO:pgn2data - pgn_data class:Starting process..\n",
      "INFO:pgn2data - process:Processing games and moves in file:2021-11.pgn\n"
     ]
    },
    {
     "name": "stdout",
     "output_type": "stream",
     "text": [
      "is complete: True\n",
      "games file: 2021-10_game_info.csv | size: 1225\n",
      "moves file: 2021-10_moves.csv | size: 134518\n"
     ]
    },
    {
     "name": "stderr",
     "output_type": "stream",
     "text": [
      "INFO:pgn2data - pgn_data class:ending process..\n",
      "INFO:pgn2data - log_time:time taken sec: 0.43421409999996285 sec\n",
      "INFO:pgn2data - log_time:time taken: 0.43421409999996285 seconds, \n",
      "INFO:pgn2data - log_time:time started...2023-10-24 16:57:23.312712\n",
      "INFO:pgn2data - log_time:time ended.....2023-10-24 16:57:23.749614\n",
      "INFO:pgn2data - log_time:initializing at...2023-10-24 16:57:23.749614\n",
      "INFO:pgn2data - pgn_data class:Starting process..\n",
      "INFO:pgn2data - process:Processing games and moves in file:2021-11.pgn\n",
      "INFO:pgn2data - pgn_data class:ending process..\n",
      "INFO:pgn2data - log_time:time taken sec: 0.3852829999999585 sec\n",
      "INFO:pgn2data - log_time:time taken: 0.3852829999999585 seconds, \n",
      "INFO:pgn2data - log_time:time started...2023-10-24 16:57:23.749614\n",
      "INFO:pgn2data - log_time:time ended.....2023-10-24 16:57:24.138463\n",
      "INFO:pgn2data - log_time:initializing at...2023-10-24 16:57:24.139537\n",
      "INFO:pgn2data - pgn_data class:Starting process..\n",
      "INFO:pgn2data - process:Processing games and moves in file:2021-12.pgn\n",
      "INFO:pgn2data - pgn_data class:ending process..\n",
      "INFO:pgn2data - log_time:time taken sec: 0.05500270000004548 sec\n",
      "INFO:pgn2data - log_time:time taken: 0.05500270000004548 seconds, \n",
      "INFO:pgn2data - log_time:time started...2023-10-24 16:57:24.139537\n",
      "INFO:pgn2data - log_time:time ended.....2023-10-24 16:57:24.196143\n",
      "INFO:pgn2data - log_time:initializing at...2023-10-24 16:57:24.196143\n",
      "INFO:pgn2data - pgn_data class:Starting process..\n",
      "INFO:pgn2data - process:Processing games and moves in file:2021-12.pgn\n",
      "INFO:pgn2data - pgn_data class:ending process..\n",
      "INFO:pgn2data - log_time:time taken sec: 0.03598609999994551 sec\n",
      "INFO:pgn2data - log_time:time taken: 0.03598609999994551 seconds, \n",
      "INFO:pgn2data - log_time:time started...2023-10-24 16:57:24.196143\n",
      "INFO:pgn2data - log_time:time ended.....2023-10-24 16:57:24.236877\n",
      "INFO:pgn2data - log_time:initializing at...2023-10-24 16:57:24.237384\n",
      "INFO:pgn2data - pgn_data class:Starting process..\n",
      "INFO:pgn2data - process:Processing games and moves in file:2022-01.pgn\n"
     ]
    },
    {
     "name": "stdout",
     "output_type": "stream",
     "text": [
      "is complete: True\n",
      "games file: 2021-11_game_info.csv | size: 2442\n",
      "moves file: 2021-11_moves.csv | size: 186850\n",
      "is complete: True\n",
      "games file: 2021-12_game_info.csv | size: 525\n",
      "moves file: 2021-12_moves.csv | size: 12543\n"
     ]
    },
    {
     "name": "stderr",
     "output_type": "stream",
     "text": [
      "INFO:pgn2data - pgn_data class:ending process..\n",
      "INFO:pgn2data - log_time:time taken sec: 0.5848459999999704 sec\n",
      "INFO:pgn2data - log_time:time taken: 0.5848459999999704 seconds, \n",
      "INFO:pgn2data - log_time:time started...2023-10-24 16:57:24.237384\n",
      "INFO:pgn2data - log_time:time ended.....2023-10-24 16:57:24.824924\n",
      "INFO:pgn2data - log_time:initializing at...2023-10-24 16:57:24.824924\n",
      "INFO:pgn2data - pgn_data class:Starting process..\n",
      "INFO:pgn2data - process:Processing games and moves in file:2022-01.pgn\n",
      "INFO:pgn2data - pgn_data class:ending process..\n",
      "INFO:pgn2data - log_time:time taken sec: 0.3965203999999858 sec\n",
      "INFO:pgn2data - log_time:time taken: 0.3965203999999858 seconds, \n",
      "INFO:pgn2data - log_time:time started...2023-10-24 16:57:24.824924\n",
      "INFO:pgn2data - log_time:time ended.....2023-10-24 16:57:25.223652\n",
      "INFO:pgn2data - log_time:initializing at...2023-10-24 16:57:25.225666\n",
      "INFO:pgn2data - pgn_data class:Starting process..\n",
      "INFO:pgn2data - process:Processing games and moves in file:2022-02.pgn\n"
     ]
    },
    {
     "name": "stdout",
     "output_type": "stream",
     "text": [
      "is complete: True\n",
      "games file: 2022-01_game_info.csv | size: 2426\n",
      "moves file: 2022-01_moves.csv | size: 226522\n"
     ]
    },
    {
     "name": "stderr",
     "output_type": "stream",
     "text": [
      "INFO:pgn2data - pgn_data class:ending process..\n",
      "INFO:pgn2data - log_time:time taken sec: 1.5899650000000065 sec\n",
      "INFO:pgn2data - log_time:time taken: 1.5899650000000065 seconds, \n",
      "INFO:pgn2data - log_time:time started...2023-10-24 16:57:25.225666\n",
      "INFO:pgn2data - log_time:time ended.....2023-10-24 16:57:26.817390\n",
      "INFO:pgn2data - log_time:initializing at...2023-10-24 16:57:26.818895\n",
      "INFO:pgn2data - pgn_data class:Starting process..\n",
      "INFO:pgn2data - process:Processing games and moves in file:2022-02.pgn\n",
      "INFO:pgn2data - pgn_data class:ending process..\n",
      "INFO:pgn2data - log_time:time taken sec: 1.2242880000000014 sec\n",
      "INFO:pgn2data - log_time:time taken: 1.2242880000000014 seconds, \n",
      "INFO:pgn2data - log_time:time started...2023-10-24 16:57:26.818895\n",
      "INFO:pgn2data - log_time:time ended.....2023-10-24 16:57:28.044837\n",
      "INFO:pgn2data - log_time:initializing at...2023-10-24 16:57:28.045999\n",
      "INFO:pgn2data - pgn_data class:Starting process..\n",
      "INFO:pgn2data - process:Processing games and moves in file:2022-03.pgn\n"
     ]
    },
    {
     "name": "stdout",
     "output_type": "stream",
     "text": [
      "is complete: True\n",
      "games file: 2022-02_game_info.csv | size: 7478\n",
      "moves file: 2022-02_moves.csv | size: 674286\n"
     ]
    },
    {
     "name": "stderr",
     "output_type": "stream",
     "text": [
      "INFO:pgn2data - pgn_data class:ending process..\n",
      "INFO:pgn2data - log_time:time taken sec: 0.5691309000000047 sec\n",
      "INFO:pgn2data - log_time:time taken: 0.5691309000000047 seconds, \n",
      "INFO:pgn2data - log_time:time started...2023-10-24 16:57:28.045999\n",
      "INFO:pgn2data - log_time:time ended.....2023-10-24 16:57:28.618415\n",
      "INFO:pgn2data - log_time:initializing at...2023-10-24 16:57:28.618415\n",
      "INFO:pgn2data - pgn_data class:Starting process..\n",
      "INFO:pgn2data - process:Processing games and moves in file:2022-03.pgn\n",
      "INFO:pgn2data - pgn_data class:ending process..\n",
      "INFO:pgn2data - log_time:time taken sec: 0.5858068999999659 sec\n",
      "INFO:pgn2data - log_time:time taken: 0.5858068999999659 seconds, \n",
      "INFO:pgn2data - log_time:time started...2023-10-24 16:57:28.618415\n",
      "INFO:pgn2data - log_time:time ended.....2023-10-24 16:57:29.207634\n",
      "INFO:pgn2data - log_time:initializing at...2023-10-24 16:57:29.208166\n",
      "INFO:pgn2data - pgn_data class:Starting process..\n",
      "INFO:pgn2data - process:Processing games and moves in file:2022-04.pgn\n"
     ]
    },
    {
     "name": "stdout",
     "output_type": "stream",
     "text": [
      "is complete: True\n",
      "games file: 2022-03_game_info.csv | size: 3440\n",
      "moves file: 2022-03_moves.csv | size: 258334\n"
     ]
    },
    {
     "name": "stderr",
     "output_type": "stream",
     "text": [
      "INFO:pgn2data - pgn_data class:ending process..\n",
      "INFO:pgn2data - log_time:time taken sec: 3.579155900000046 sec\n",
      "INFO:pgn2data - log_time:time taken: 3.579155900000046 seconds, \n",
      "INFO:pgn2data - log_time:time started...2023-10-24 16:57:29.208166\n",
      "INFO:pgn2data - log_time:time ended.....2023-10-24 16:57:32.789634\n",
      "INFO:pgn2data - log_time:initializing at...2023-10-24 16:57:32.790789\n",
      "INFO:pgn2data - pgn_data class:Starting process..\n",
      "INFO:pgn2data - process:Processing games and moves in file:2022-04.pgn\n",
      "INFO:pgn2data - pgn_data class:ending process..\n",
      "INFO:pgn2data - log_time:time taken sec: 2.5911139999999477 sec\n",
      "INFO:pgn2data - log_time:time taken: 2.5911139999999477 seconds, \n",
      "INFO:pgn2data - log_time:time started...2023-10-24 16:57:32.790789\n",
      "INFO:pgn2data - log_time:time ended.....2023-10-24 16:57:35.384688\n",
      "INFO:pgn2data - log_time:initializing at...2023-10-24 16:57:35.385735\n",
      "INFO:pgn2data - pgn_data class:Starting process..\n",
      "INFO:pgn2data - process:Processing games and moves in file:2022-05.pgn\n"
     ]
    },
    {
     "name": "stdout",
     "output_type": "stream",
     "text": [
      "is complete: True\n",
      "games file: 2022-04_game_info.csv | size: 16669\n",
      "moves file: 2022-04_moves.csv | size: 1741329\n"
     ]
    },
    {
     "name": "stderr",
     "output_type": "stream",
     "text": [
      "INFO:pgn2data - pgn_data class:ending process..\n",
      "INFO:pgn2data - log_time:time taken sec: 4.621603100000016 sec\n",
      "INFO:pgn2data - log_time:time taken: 4.621603100000016 seconds, \n",
      "INFO:pgn2data - log_time:time started...2023-10-24 16:57:35.385735\n",
      "INFO:pgn2data - log_time:time ended.....2023-10-24 16:57:40.009541\n",
      "INFO:pgn2data - log_time:initializing at...2023-10-24 16:57:40.011119\n",
      "INFO:pgn2data - pgn_data class:Starting process..\n",
      "INFO:pgn2data - process:Processing games and moves in file:2022-05.pgn\n",
      "INFO:pgn2data - pgn_data class:ending process..\n",
      "INFO:pgn2data - log_time:time taken sec: 3.4926002000000835 sec\n",
      "INFO:pgn2data - log_time:time taken: 3.4926002000000835 seconds, \n",
      "INFO:pgn2data - log_time:time started...2023-10-24 16:57:40.011119\n",
      "INFO:pgn2data - log_time:time ended.....2023-10-24 16:57:43.505027\n",
      "INFO:pgn2data - log_time:initializing at...2023-10-24 16:57:43.506296\n",
      "INFO:pgn2data - pgn_data class:Starting process..\n",
      "INFO:pgn2data - process:Processing games and moves in file:2022-06.pgn\n"
     ]
    },
    {
     "name": "stdout",
     "output_type": "stream",
     "text": [
      "is complete: True\n",
      "games file: 2022-05_game_info.csv | size: 24081\n",
      "moves file: 2022-05_moves.csv | size: 2200626\n"
     ]
    },
    {
     "name": "stderr",
     "output_type": "stream",
     "text": [
      "INFO:pgn2data - pgn_data class:ending process..\n",
      "INFO:pgn2data - log_time:time taken sec: 2.950642000000016 sec\n",
      "INFO:pgn2data - log_time:time taken: 2.950642000000016 seconds, \n",
      "INFO:pgn2data - log_time:time started...2023-10-24 16:57:43.506296\n",
      "INFO:pgn2data - log_time:time ended.....2023-10-24 16:57:46.458746\n",
      "INFO:pgn2data - log_time:initializing at...2023-10-24 16:57:46.460225\n",
      "INFO:pgn2data - pgn_data class:Starting process..\n",
      "INFO:pgn2data - process:Processing games and moves in file:2022-06.pgn\n",
      "INFO:pgn2data - pgn_data class:ending process..\n",
      "INFO:pgn2data - log_time:time taken sec: 2.3171074000000544 sec\n",
      "INFO:pgn2data - log_time:time taken: 2.3171074000000544 seconds, \n",
      "INFO:pgn2data - log_time:time started...2023-10-24 16:57:46.460225\n",
      "INFO:pgn2data - log_time:time ended.....2023-10-24 16:57:48.778572\n",
      "INFO:pgn2data - log_time:initializing at...2023-10-24 16:57:48.779712\n",
      "INFO:pgn2data - pgn_data class:Starting process..\n",
      "INFO:pgn2data - process:Processing games and moves in file:2022-07.pgn\n"
     ]
    },
    {
     "name": "stdout",
     "output_type": "stream",
     "text": [
      "is complete: True\n",
      "games file: 2022-06_game_info.csv | size: 15752\n",
      "moves file: 2022-06_moves.csv | size: 1403763\n"
     ]
    },
    {
     "name": "stderr",
     "output_type": "stream",
     "text": [
      "INFO:pgn2data - pgn_data class:ending process..\n",
      "INFO:pgn2data - log_time:time taken sec: 0.2673416999999745 sec\n",
      "INFO:pgn2data - log_time:time taken: 0.2673416999999745 seconds, \n",
      "INFO:pgn2data - log_time:time started...2023-10-24 16:57:48.779712\n",
      "INFO:pgn2data - log_time:time ended.....2023-10-24 16:57:49.048561\n",
      "INFO:pgn2data - log_time:initializing at...2023-10-24 16:57:49.050078\n",
      "INFO:pgn2data - pgn_data class:Starting process..\n",
      "INFO:pgn2data - process:Processing games and moves in file:2022-07.pgn\n",
      "INFO:pgn2data - pgn_data class:ending process..\n",
      "INFO:pgn2data - log_time:time taken sec: 0.2084520999999313 sec\n",
      "INFO:pgn2data - log_time:time taken: 0.2084520999999313 seconds, \n",
      "INFO:pgn2data - log_time:time started...2023-10-24 16:57:49.050078\n",
      "INFO:pgn2data - log_time:time ended.....2023-10-24 16:57:49.259847\n",
      "INFO:pgn2data - log_time:initializing at...2023-10-24 16:57:49.260861\n",
      "INFO:pgn2data - pgn_data class:Starting process..\n",
      "INFO:pgn2data - process:Processing games and moves in file:2022-08.pgn\n"
     ]
    },
    {
     "name": "stdout",
     "output_type": "stream",
     "text": [
      "is complete: True\n",
      "games file: 2022-07_game_info.csv | size: 1712\n",
      "moves file: 2022-07_moves.csv | size: 147843\n"
     ]
    },
    {
     "name": "stderr",
     "output_type": "stream",
     "text": [
      "INFO:pgn2data - pgn_data class:ending process..\n",
      "INFO:pgn2data - log_time:time taken sec: 0.6152992999999469 sec\n",
      "INFO:pgn2data - log_time:time taken: 0.6152992999999469 seconds, \n",
      "INFO:pgn2data - log_time:time started...2023-10-24 16:57:49.260861\n",
      "INFO:pgn2data - log_time:time ended.....2023-10-24 16:57:49.877645\n",
      "INFO:pgn2data - log_time:initializing at...2023-10-24 16:57:49.878156\n",
      "INFO:pgn2data - pgn_data class:Starting process..\n",
      "INFO:pgn2data - process:Processing games and moves in file:2022-08.pgn\n",
      "INFO:pgn2data - pgn_data class:ending process..\n",
      "INFO:pgn2data - log_time:time taken sec: 0.7924809999999525 sec\n",
      "INFO:pgn2data - log_time:time taken: 0.7924809999999525 seconds, \n",
      "INFO:pgn2data - log_time:time started...2023-10-24 16:57:49.878156\n",
      "INFO:pgn2data - log_time:time ended.....2023-10-24 16:57:50.672436\n",
      "INFO:pgn2data - log_time:initializing at...2023-10-24 16:57:50.673434\n",
      "INFO:pgn2data - pgn_data class:Starting process..\n",
      "INFO:pgn2data - process:Processing games and moves in file:2022-09.pgn\n"
     ]
    },
    {
     "name": "stdout",
     "output_type": "stream",
     "text": [
      "is complete: True\n",
      "games file: 2022-08_game_info.csv | size: 4184\n",
      "moves file: 2022-08_moves.csv | size: 373723\n"
     ]
    },
    {
     "name": "stderr",
     "output_type": "stream",
     "text": [
      "INFO:pgn2data - pgn_data class:ending process..\n",
      "INFO:pgn2data - log_time:time taken sec: 1.5155174999999872 sec\n",
      "INFO:pgn2data - log_time:time taken: 1.5155174999999872 seconds, \n",
      "INFO:pgn2data - log_time:time started...2023-10-24 16:57:50.673434\n",
      "INFO:pgn2data - log_time:time ended.....2023-10-24 16:57:52.190362\n",
      "INFO:pgn2data - log_time:initializing at...2023-10-24 16:57:52.191444\n",
      "INFO:pgn2data - pgn_data class:Starting process..\n",
      "INFO:pgn2data - process:Processing games and moves in file:2022-09.pgn\n",
      "INFO:pgn2data - pgn_data class:ending process..\n",
      "INFO:pgn2data - log_time:time taken sec: 1.2727856999999858 sec\n",
      "INFO:pgn2data - log_time:time taken: 1.2727856999999858 seconds, \n",
      "INFO:pgn2data - log_time:time started...2023-10-24 16:57:52.191444\n",
      "INFO:pgn2data - log_time:time ended.....2023-10-24 16:57:53.465399\n",
      "INFO:pgn2data - log_time:initializing at...2023-10-24 16:57:53.466578\n",
      "INFO:pgn2data - pgn_data class:Starting process..\n",
      "INFO:pgn2data - process:Processing games and moves in file:2022-10.pgn\n"
     ]
    },
    {
     "name": "stdout",
     "output_type": "stream",
     "text": [
      "is complete: True\n",
      "games file: 2022-09_game_info.csv | size: 8455\n",
      "moves file: 2022-09_moves.csv | size: 714792\n"
     ]
    },
    {
     "name": "stderr",
     "output_type": "stream",
     "text": [
      "INFO:pgn2data - pgn_data class:ending process..\n",
      "INFO:pgn2data - log_time:time taken sec: 1.2065377999999782 sec\n",
      "INFO:pgn2data - log_time:time taken: 1.2065377999999782 seconds, \n",
      "INFO:pgn2data - log_time:time started...2023-10-24 16:57:53.466578\n",
      "INFO:pgn2data - log_time:time ended.....2023-10-24 16:57:54.673995\n",
      "INFO:pgn2data - log_time:initializing at...2023-10-24 16:57:54.674996\n",
      "INFO:pgn2data - pgn_data class:Starting process..\n",
      "INFO:pgn2data - process:Processing games and moves in file:2022-10.pgn\n",
      "INFO:pgn2data - pgn_data class:ending process..\n",
      "INFO:pgn2data - log_time:time taken sec: 1.0986228000000438 sec\n",
      "INFO:pgn2data - log_time:time taken: 1.0986228000000438 seconds, \n",
      "INFO:pgn2data - log_time:time started...2023-10-24 16:57:54.674996\n",
      "INFO:pgn2data - log_time:time ended.....2023-10-24 16:57:55.775279\n",
      "INFO:pgn2data - log_time:initializing at...2023-10-24 16:57:55.775279\n",
      "INFO:pgn2data - pgn_data class:Starting process..\n",
      "INFO:pgn2data - process:Processing games and moves in file:2022-11.pgn\n"
     ]
    },
    {
     "name": "stdout",
     "output_type": "stream",
     "text": [
      "is complete: True\n",
      "games file: 2022-10_game_info.csv | size: 9163\n",
      "moves file: 2022-10_moves.csv | size: 772786\n"
     ]
    },
    {
     "name": "stderr",
     "output_type": "stream",
     "text": [
      "INFO:pgn2data - pgn_data class:ending process..\n",
      "INFO:pgn2data - log_time:time taken sec: 0.8996907999999166 sec\n",
      "INFO:pgn2data - log_time:time taken: 0.8996907999999166 seconds, \n",
      "INFO:pgn2data - log_time:time started...2023-10-24 16:57:55.775279\n",
      "INFO:pgn2data - log_time:time ended.....2023-10-24 16:57:56.677503\n",
      "INFO:pgn2data - log_time:initializing at...2023-10-24 16:57:56.678508\n",
      "INFO:pgn2data - pgn_data class:Starting process..\n",
      "INFO:pgn2data - process:Processing games and moves in file:2022-11.pgn\n",
      "INFO:pgn2data - pgn_data class:ending process..\n",
      "INFO:pgn2data - log_time:time taken sec: 0.733156699999995 sec\n",
      "INFO:pgn2data - log_time:time taken: 0.733156699999995 seconds, \n",
      "INFO:pgn2data - log_time:time started...2023-10-24 16:57:56.678508\n",
      "INFO:pgn2data - log_time:time ended.....2023-10-24 16:57:57.412679\n",
      "INFO:pgn2data - log_time:initializing at...2023-10-24 16:57:57.414551\n",
      "INFO:pgn2data - pgn_data class:Starting process..\n",
      "INFO:pgn2data - process:Processing games and moves in file:2022-12.pgn\n"
     ]
    },
    {
     "name": "stdout",
     "output_type": "stream",
     "text": [
      "is complete: True\n",
      "games file: 2022-11_game_info.csv | size: 5097\n",
      "moves file: 2022-11_moves.csv | size: 400596\n"
     ]
    },
    {
     "name": "stderr",
     "output_type": "stream",
     "text": [
      "INFO:pgn2data - pgn_data class:ending process..\n",
      "INFO:pgn2data - log_time:time taken sec: 1.8305642999999918 sec\n",
      "INFO:pgn2data - log_time:time taken: 1.8305642999999918 seconds, \n",
      "INFO:pgn2data - log_time:time started...2023-10-24 16:57:57.414551\n",
      "INFO:pgn2data - log_time:time ended.....2023-10-24 16:57:59.245882\n",
      "INFO:pgn2data - log_time:initializing at...2023-10-24 16:57:59.247388\n",
      "INFO:pgn2data - pgn_data class:Starting process..\n",
      "INFO:pgn2data - process:Processing games and moves in file:2022-12.pgn\n",
      "INFO:pgn2data - pgn_data class:ending process..\n",
      "INFO:pgn2data - log_time:time taken sec: 1.7532192000001032 sec\n",
      "INFO:pgn2data - log_time:time taken: 1.7532192000001032 seconds, \n",
      "INFO:pgn2data - log_time:time started...2023-10-24 16:57:59.247388\n",
      "INFO:pgn2data - log_time:time ended.....2023-10-24 16:58:01.001982\n",
      "INFO:pgn2data - log_time:initializing at...2023-10-24 16:58:01.002980\n",
      "INFO:pgn2data - pgn_data class:Starting process..\n",
      "INFO:pgn2data - process:Processing games and moves in file:2023-01.pgn\n"
     ]
    },
    {
     "name": "stdout",
     "output_type": "stream",
     "text": [
      "is complete: True\n",
      "games file: 2022-12_game_info.csv | size: 11544\n",
      "moves file: 2022-12_moves.csv | size: 1017951\n"
     ]
    },
    {
     "name": "stderr",
     "output_type": "stream",
     "text": [
      "INFO:pgn2data - pgn_data class:ending process..\n",
      "INFO:pgn2data - log_time:time taken sec: 0.21119790000000194 sec\n",
      "INFO:pgn2data - log_time:time taken: 0.21119790000000194 seconds, \n",
      "INFO:pgn2data - log_time:time started...2023-10-24 16:58:01.002980\n",
      "INFO:pgn2data - log_time:time ended.....2023-10-24 16:58:01.215716\n",
      "INFO:pgn2data - log_time:initializing at...2023-10-24 16:58:01.215716\n",
      "INFO:pgn2data - pgn_data class:Starting process..\n",
      "INFO:pgn2data - process:Processing games and moves in file:2023-01.pgn\n",
      "INFO:pgn2data - pgn_data class:ending process..\n",
      "INFO:pgn2data - log_time:time taken sec: 0.24741430000005948 sec\n",
      "INFO:pgn2data - log_time:time taken: 0.24741430000005948 seconds, \n",
      "INFO:pgn2data - log_time:time started...2023-10-24 16:58:01.215716\n",
      "INFO:pgn2data - log_time:time ended.....2023-10-24 16:58:01.465462\n",
      "INFO:pgn2data - log_time:initializing at...2023-10-24 16:58:01.466461\n",
      "INFO:pgn2data - pgn_data class:Starting process..\n",
      "INFO:pgn2data - process:Processing games and moves in file:2023-02.pgn\n"
     ]
    },
    {
     "name": "stdout",
     "output_type": "stream",
     "text": [
      "is complete: True\n",
      "games file: 2023-01_game_info.csv | size: 1467\n",
      "moves file: 2023-01_moves.csv | size: 150422\n"
     ]
    },
    {
     "name": "stderr",
     "output_type": "stream",
     "text": [
      "INFO:pgn2data - pgn_data class:ending process..\n",
      "INFO:pgn2data - log_time:time taken sec: 0.5270816000000877 sec\n",
      "INFO:pgn2data - log_time:time taken: 0.5270816000000877 seconds, \n",
      "INFO:pgn2data - log_time:time started...2023-10-24 16:58:01.466461\n",
      "INFO:pgn2data - log_time:time ended.....2023-10-24 16:58:01.994810\n",
      "INFO:pgn2data - log_time:initializing at...2023-10-24 16:58:01.996193\n",
      "INFO:pgn2data - pgn_data class:Starting process..\n",
      "INFO:pgn2data - process:Processing games and moves in file:2023-02.pgn\n",
      "INFO:pgn2data - pgn_data class:ending process..\n",
      "INFO:pgn2data - log_time:time taken sec: 0.34409259999995356 sec\n",
      "INFO:pgn2data - log_time:time taken: 0.34409259999995356 seconds, \n",
      "INFO:pgn2data - log_time:time started...2023-10-24 16:58:01.996193\n",
      "INFO:pgn2data - log_time:time ended.....2023-10-24 16:58:02.342221\n",
      "INFO:pgn2data - log_time:initializing at...2023-10-24 16:58:02.343466\n",
      "INFO:pgn2data - pgn_data class:Starting process..\n",
      "INFO:pgn2data - process:Processing games and moves in file:2023-03.pgn\n"
     ]
    },
    {
     "name": "stdout",
     "output_type": "stream",
     "text": [
      "is complete: True\n",
      "games file: 2023-02_game_info.csv | size: 2500\n",
      "moves file: 2023-02_moves.csv | size: 183251\n"
     ]
    },
    {
     "name": "stderr",
     "output_type": "stream",
     "text": [
      "INFO:pgn2data - pgn_data class:ending process..\n",
      "INFO:pgn2data - log_time:time taken sec: 4.558261899999934 sec\n",
      "INFO:pgn2data - log_time:time taken: 4.558261899999934 seconds, \n",
      "INFO:pgn2data - log_time:time started...2023-10-24 16:58:02.343466\n",
      "INFO:pgn2data - log_time:time ended.....2023-10-24 16:58:06.904752\n",
      "INFO:pgn2data - log_time:initializing at...2023-10-24 16:58:06.906169\n",
      "INFO:pgn2data - pgn_data class:Starting process..\n",
      "INFO:pgn2data - process:Processing games and moves in file:2023-03.pgn\n",
      "INFO:pgn2data - pgn_data class:ending process..\n",
      "INFO:pgn2data - log_time:time taken sec: 3.6739241999999876 sec\n",
      "INFO:pgn2data - log_time:time taken: 3.6739241999999876 seconds, \n",
      "INFO:pgn2data - log_time:time started...2023-10-24 16:58:06.906169\n",
      "INFO:pgn2data - log_time:time ended.....2023-10-24 16:58:10.581561\n",
      "INFO:pgn2data - log_time:initializing at...2023-10-24 16:58:10.583780\n",
      "INFO:pgn2data - pgn_data class:Starting process..\n",
      "INFO:pgn2data - process:Processing games and moves in file:2023-04.pgn\n"
     ]
    },
    {
     "name": "stdout",
     "output_type": "stream",
     "text": [
      "is complete: True\n",
      "games file: 2023-03_game_info.csv | size: 14220\n",
      "moves file: 2023-03_moves.csv | size: 1709698\n"
     ]
    },
    {
     "name": "stderr",
     "output_type": "stream",
     "text": [
      "INFO:pgn2data - pgn_data class:ending process..\n",
      "INFO:pgn2data - log_time:time taken sec: 2.5653873999999632 sec\n",
      "INFO:pgn2data - log_time:time taken: 2.5653873999999632 seconds, \n",
      "INFO:pgn2data - log_time:time started...2023-10-24 16:58:10.583780\n",
      "INFO:pgn2data - log_time:time ended.....2023-10-24 16:58:13.152432\n",
      "INFO:pgn2data - log_time:initializing at...2023-10-24 16:58:13.152432\n",
      "INFO:pgn2data - pgn_data class:Starting process..\n",
      "INFO:pgn2data - process:Processing games and moves in file:2023-04.pgn\n",
      "INFO:pgn2data - pgn_data class:ending process..\n",
      "INFO:pgn2data - log_time:time taken sec: 2.63839669999993 sec\n",
      "INFO:pgn2data - log_time:time taken: 2.63839669999993 seconds, \n",
      "INFO:pgn2data - log_time:time started...2023-10-24 16:58:13.152432\n",
      "INFO:pgn2data - log_time:time ended.....2023-10-24 16:58:15.793981\n",
      "INFO:pgn2data - log_time:initializing at...2023-10-24 16:58:15.793981\n",
      "INFO:pgn2data - pgn_data class:Starting process..\n",
      "INFO:pgn2data - process:Processing games and moves in file:2023-05.pgn\n"
     ]
    },
    {
     "name": "stdout",
     "output_type": "stream",
     "text": [
      "is complete: True\n",
      "games file: 2023-04_game_info.csv | size: 7761\n",
      "moves file: 2023-04_moves.csv | size: 983554\n"
     ]
    },
    {
     "name": "stderr",
     "output_type": "stream",
     "text": [
      "INFO:pgn2data - pgn_data class:ending process..\n",
      "INFO:pgn2data - log_time:time taken sec: 4.601716399999987 sec\n",
      "INFO:pgn2data - log_time:time taken: 4.601716399999987 seconds, \n",
      "INFO:pgn2data - log_time:time started...2023-10-24 16:58:15.793981\n",
      "INFO:pgn2data - log_time:time ended.....2023-10-24 16:58:20.397503\n",
      "INFO:pgn2data - log_time:initializing at...2023-10-24 16:58:20.398520\n",
      "INFO:pgn2data - pgn_data class:Starting process..\n",
      "INFO:pgn2data - process:Processing games and moves in file:2023-05.pgn\n",
      "INFO:pgn2data - pgn_data class:ending process..\n",
      "INFO:pgn2data - log_time:time taken sec: 2.537386099999935 sec\n",
      "INFO:pgn2data - log_time:time taken: 2.537386099999935 seconds, \n",
      "INFO:pgn2data - log_time:time started...2023-10-24 16:58:20.398520\n",
      "INFO:pgn2data - log_time:time ended.....2023-10-24 16:58:22.938099\n",
      "INFO:pgn2data - log_time:initializing at...2023-10-24 16:58:22.939107\n",
      "INFO:pgn2data - pgn_data class:Starting process..\n",
      "INFO:pgn2data - process:Processing games and moves in file:2023-06.pgn\n"
     ]
    },
    {
     "name": "stdout",
     "output_type": "stream",
     "text": [
      "is complete: True\n",
      "games file: 2023-05_game_info.csv | size: 16222\n",
      "moves file: 2023-05_moves.csv | size: 1838310\n"
     ]
    },
    {
     "name": "stderr",
     "output_type": "stream",
     "text": [
      "INFO:pgn2data - pgn_data class:ending process..\n",
      "INFO:pgn2data - log_time:time taken sec: 3.394505899999899 sec\n",
      "INFO:pgn2data - log_time:time taken: 3.394505899999899 seconds, \n",
      "INFO:pgn2data - log_time:time started...2023-10-24 16:58:22.939107\n",
      "INFO:pgn2data - log_time:time ended.....2023-10-24 16:58:26.335418\n",
      "INFO:pgn2data - log_time:initializing at...2023-10-24 16:58:26.336416\n",
      "INFO:pgn2data - pgn_data class:Starting process..\n",
      "INFO:pgn2data - process:Processing games and moves in file:2023-06.pgn\n",
      "INFO:pgn2data - pgn_data class:ending process..\n",
      "INFO:pgn2data - log_time:time taken sec: 2.495869299999981 sec\n",
      "INFO:pgn2data - log_time:time taken: 2.495869299999981 seconds, \n",
      "INFO:pgn2data - log_time:time started...2023-10-24 16:58:26.336416\n",
      "INFO:pgn2data - log_time:time ended.....2023-10-24 16:58:28.833941\n",
      "INFO:pgn2data - log_time:initializing at...2023-10-24 16:58:28.833941\n",
      "INFO:pgn2data - pgn_data class:Starting process..\n",
      "INFO:pgn2data - process:Processing games and moves in file:2023-07.pgn\n"
     ]
    },
    {
     "name": "stdout",
     "output_type": "stream",
     "text": [
      "is complete: True\n",
      "games file: 2023-06_game_info.csv | size: 14433\n",
      "moves file: 2023-06_moves.csv | size: 1701387\n"
     ]
    },
    {
     "name": "stderr",
     "output_type": "stream",
     "text": [
      "INFO:pgn2data - pgn_data class:ending process..\n",
      "INFO:pgn2data - log_time:time taken sec: 12.643778699999984 sec\n",
      "INFO:pgn2data - log_time:time taken: 12.643778699999984 seconds, \n",
      "INFO:pgn2data - log_time:time started...2023-10-24 16:58:28.833941\n",
      "INFO:pgn2data - log_time:time ended.....2023-10-24 16:58:41.480512\n",
      "INFO:pgn2data - log_time:initializing at...2023-10-24 16:58:41.480512\n",
      "INFO:pgn2data - pgn_data class:Starting process..\n",
      "INFO:pgn2data - process:Processing games and moves in file:2023-07.pgn\n",
      "INFO:pgn2data - pgn_data class:ending process..\n",
      "INFO:pgn2data - log_time:time taken sec: 9.847616499999958 sec\n",
      "INFO:pgn2data - log_time:time taken: 9.847616499999958 seconds, \n",
      "INFO:pgn2data - log_time:time started...2023-10-24 16:58:41.480512\n",
      "INFO:pgn2data - log_time:time ended.....2023-10-24 16:58:51.332897\n",
      "INFO:pgn2data - log_time:initializing at...2023-10-24 16:58:51.334897\n",
      "INFO:pgn2data - pgn_data class:Starting process..\n",
      "INFO:pgn2data - process:Processing games and moves in file:2023-08.pgn\n"
     ]
    },
    {
     "name": "stdout",
     "output_type": "stream",
     "text": [
      "is complete: True\n",
      "games file: 2023-07_game_info.csv | size: 67522\n",
      "moves file: 2023-07_moves.csv | size: 6785083\n"
     ]
    },
    {
     "name": "stderr",
     "output_type": "stream",
     "text": [
      "INFO:pgn2data - pgn_data class:ending process..\n",
      "INFO:pgn2data - log_time:time taken sec: 12.26878899999997 sec\n",
      "INFO:pgn2data - log_time:time taken: 12.26878899999997 seconds, \n",
      "INFO:pgn2data - log_time:time started...2023-10-24 16:58:51.334897\n",
      "INFO:pgn2data - log_time:time ended.....2023-10-24 16:59:03.605590\n",
      "INFO:pgn2data - log_time:initializing at...2023-10-24 16:59:03.606619\n",
      "INFO:pgn2data - pgn_data class:Starting process..\n",
      "INFO:pgn2data - process:Processing games and moves in file:2023-08.pgn\n",
      "INFO:pgn2data - pgn_data class:ending process..\n",
      "INFO:pgn2data - log_time:time taken sec: 8.617281599999956 sec\n",
      "INFO:pgn2data - log_time:time taken: 8.617281599999956 seconds, \n",
      "INFO:pgn2data - log_time:time started...2023-10-24 16:59:03.606619\n",
      "INFO:pgn2data - log_time:time ended.....2023-10-24 16:59:12.225080\n",
      "INFO:pgn2data - log_time:initializing at...2023-10-24 16:59:12.226078\n",
      "INFO:pgn2data - pgn_data class:Starting process..\n",
      "INFO:pgn2data - process:Processing games and moves in file:2023-09.pgn\n"
     ]
    },
    {
     "name": "stdout",
     "output_type": "stream",
     "text": [
      "is complete: True\n",
      "games file: 2023-08_game_info.csv | size: 63006\n",
      "moves file: 2023-08_moves.csv | size: 5900595\n"
     ]
    },
    {
     "name": "stderr",
     "output_type": "stream",
     "text": [
      "INFO:pgn2data - pgn_data class:ending process..\n",
      "INFO:pgn2data - log_time:time taken sec: 5.883889600000089 sec\n",
      "INFO:pgn2data - log_time:time taken: 5.883889600000089 seconds, \n",
      "INFO:pgn2data - log_time:time started...2023-10-24 16:59:12.226078\n",
      "INFO:pgn2data - log_time:time ended.....2023-10-24 16:59:18.112817\n",
      "INFO:pgn2data - log_time:initializing at...2023-10-24 16:59:18.112817\n",
      "INFO:pgn2data - pgn_data class:Starting process..\n",
      "INFO:pgn2data - process:Processing games and moves in file:2023-09.pgn\n",
      "INFO:pgn2data - pgn_data class:ending process..\n",
      "INFO:pgn2data - log_time:time taken sec: 4.539841000000024 sec\n",
      "INFO:pgn2data - log_time:time taken: 4.539841000000024 seconds, \n",
      "INFO:pgn2data - log_time:time started...2023-10-24 16:59:18.112817\n",
      "INFO:pgn2data - log_time:time ended.....2023-10-24 16:59:22.655295\n",
      "INFO:pgn2data - log_time:initializing at...2023-10-24 16:59:22.656292\n",
      "INFO:pgn2data - pgn_data class:Starting process..\n",
      "INFO:pgn2data - process:Processing games and moves in file:2023-10.pgn\n"
     ]
    },
    {
     "name": "stdout",
     "output_type": "stream",
     "text": [
      "is complete: True\n",
      "games file: 2023-09_game_info.csv | size: 29040\n",
      "moves file: 2023-09_moves.csv | size: 2850358\n"
     ]
    },
    {
     "name": "stderr",
     "output_type": "stream",
     "text": [
      "INFO:pgn2data - pgn_data class:ending process..\n",
      "INFO:pgn2data - log_time:time taken sec: 2.150579999999991 sec\n",
      "INFO:pgn2data - log_time:time taken: 2.150579999999991 seconds, \n",
      "INFO:pgn2data - log_time:time started...2023-10-24 16:59:22.656292\n",
      "INFO:pgn2data - log_time:time ended.....2023-10-24 16:59:24.809357\n",
      "INFO:pgn2data - log_time:initializing at...2023-10-24 16:59:24.810801\n",
      "INFO:pgn2data - pgn_data class:Starting process..\n",
      "INFO:pgn2data - process:Processing games and moves in file:2023-10.pgn\n",
      "INFO:pgn2data - pgn_data class:ending process..\n",
      "INFO:pgn2data - log_time:time taken sec: 2.583003500000018 sec\n",
      "INFO:pgn2data - log_time:time taken: 2.583003500000018 seconds, \n",
      "INFO:pgn2data - log_time:time started...2023-10-24 16:59:24.810801\n",
      "INFO:pgn2data - log_time:time ended.....2023-10-24 16:59:27.396034\n"
     ]
    },
    {
     "name": "stdout",
     "output_type": "stream",
     "text": [
      "is complete: True\n",
      "games file: 2023-10_game_info.csv | size: 11273\n",
      "moves file: 2023-10_moves.csv | size: 1208616\n"
     ]
    }
   ],
   "source": [
    "for filename in filenames:\n",
    "    pgn_data = PGNData(filename)\n",
    "    pgn_data.export()\n",
    "    result = pgn_data.export()\n",
    "    result.print_summary()"
   ]
  },
  {
   "cell_type": "markdown",
   "id": "fbbcb489",
   "metadata": {},
   "source": [
    "### Downloading data of another account"
   ]
  },
  {
   "cell_type": "code",
   "execution_count": 3,
   "id": "b3d95e4c",
   "metadata": {},
   "outputs": [
    {
     "name": "stdout",
     "output_type": "stream",
     "text": [
      "2019-10.pgn has been downloaded.\n",
      "2019-11.pgn has been downloaded.\n",
      "2020-04.pgn has been downloaded.\n",
      "2020-05.pgn has been downloaded.\n",
      "2020-06.pgn has been downloaded.\n",
      "2020-07.pgn has been downloaded.\n",
      "2020-08.pgn has been downloaded.\n",
      "2020-09.pgn has been downloaded.\n",
      "2020-10.pgn has been downloaded.\n",
      "2020-11.pgn has been downloaded.\n",
      "2020-12.pgn has been downloaded.\n",
      "2021-01.pgn has been downloaded.\n",
      "2021-02.pgn has been downloaded.\n",
      "2021-03.pgn has been downloaded.\n",
      "2021-04.pgn has been downloaded.\n",
      "2021-05.pgn has been downloaded.\n",
      "2021-06.pgn has been downloaded.\n",
      "2021-07.pgn has been downloaded.\n",
      "2021-08.pgn has been downloaded.\n",
      "2021-09.pgn has been downloaded.\n",
      "2021-10.pgn has been downloaded.\n",
      "2021-11.pgn has been downloaded.\n",
      "2021-12.pgn has been downloaded.\n",
      "2022-01.pgn has been downloaded.\n",
      "2022-02.pgn has been downloaded.\n",
      "2022-03.pgn has been downloaded.\n",
      "2022-04.pgn has been downloaded.\n",
      "2022-05.pgn has been downloaded.\n",
      "2022-06.pgn has been downloaded.\n",
      "2022-07.pgn has been downloaded.\n",
      "2022-09.pgn has been downloaded.\n",
      "2022-10.pgn has been downloaded.\n",
      "2023-02.pgn has been downloaded.\n",
      "2023-03.pgn has been downloaded.\n",
      "2023-05.pgn has been downloaded.\n",
      "2023-06.pgn has been downloaded.\n",
      "2023-07.pgn has been downloaded.\n",
      "2023-08.pgn has been downloaded.\n",
      "2023-09.pgn has been downloaded.\n",
      "2023-10.pgn has been downloaded.\n",
      "All files have been downloaded.\n"
     ]
    }
   ],
   "source": [
    "username = \"jiit912\" #change \n",
    "baseUrl = \"https://api.chess.com/pub/player/\" + username + \"/games/\"\n",
    "archivesUrl = baseUrl + \"archives\"\n",
    "\n",
    "#read the archives url and store in a list\n",
    "f = urllib.request.urlopen(archivesUrl)\n",
    "archives = f.read().decode(\"utf-8\")\n",
    "archives = archives.replace(\"{\\\"archives\\\":[\\\"\", \"\\\",\\\"\")\n",
    "archivesList = archives.split(\"\\\",\\\"\" + baseUrl)\n",
    "archivesList[len(archivesList)-1] = archivesList[len(archivesList)-1].rstrip(\"\\\"]}\")\n",
    "filenames = []\n",
    "#download all the archives\n",
    "for i in range(len(archivesList)-1):\n",
    "    url = baseUrl + archivesList[i+1] + \"/pgn\"\n",
    "    filename = archivesList[i+1].replace(\"/\", \"-\")\n",
    "    urllib.request.urlretrieve(url, \"./All pgn/\" + username + filename + \".pgn\") #change\n",
    "    print(filename + \".pgn has been downloaded.\")\n",
    "    filenames.append(filename+'.pgn')\n",
    "print (\"All files have been downloaded.\")"
   ]
  },
  {
   "cell_type": "code",
   "execution_count": 5,
   "id": "43eb824c",
   "metadata": {},
   "outputs": [
    {
     "name": "stderr",
     "output_type": "stream",
     "text": [
      "INFO:pgn2data - log_time:initializing at...2023-10-24 17:37:02.875372\n",
      "INFO:pgn2data - pgn_data class:Starting process..\n",
      "INFO:pgn2data - process:Processing games and moves in file:./All pgn/jiit9122019-10.pgn\n",
      "INFO:pgn2data - pgn_data class:ending process..\n",
      "INFO:pgn2data - log_time:time taken sec: 0.6810881000000109 sec\n",
      "INFO:pgn2data - log_time:time taken: 0.6810881000000109 seconds, \n",
      "INFO:pgn2data - log_time:time started...2023-10-24 17:37:02.875372\n",
      "INFO:pgn2data - log_time:time ended.....2023-10-24 17:37:03.558178\n",
      "INFO:pgn2data - log_time:initializing at...2023-10-24 17:37:03.559471\n",
      "INFO:pgn2data - pgn_data class:Starting process..\n",
      "INFO:pgn2data - process:Processing games and moves in file:./All pgn/jiit9122019-10.pgn\n",
      "INFO:pgn2data - pgn_data class:ending process..\n",
      "INFO:pgn2data - log_time:time taken sec: 0.6999150000000043 sec\n",
      "INFO:pgn2data - log_time:time taken: 0.6999150000000043 seconds, \n",
      "INFO:pgn2data - log_time:time started...2023-10-24 17:37:03.559471\n",
      "INFO:pgn2data - log_time:time ended.....2023-10-24 17:37:04.260131\n",
      "INFO:pgn2data - log_time:initializing at...2023-10-24 17:37:04.261128\n",
      "INFO:pgn2data - pgn_data class:Starting process..\n",
      "INFO:pgn2data - process:Processing games and moves in file:./All pgn/jiit9122019-11.pgn\n"
     ]
    },
    {
     "name": "stdout",
     "output_type": "stream",
     "text": [
      "is complete: True\n",
      "games file: jiit9122019-10_game_info.csv | size: 4566\n",
      "moves file: jiit9122019-10_moves.csv | size: 442814\n"
     ]
    },
    {
     "name": "stderr",
     "output_type": "stream",
     "text": [
      "INFO:pgn2data - pgn_data class:ending process..\n",
      "INFO:pgn2data - log_time:time taken sec: 1.3348999999999904 sec\n",
      "INFO:pgn2data - log_time:time taken: 1.3348999999999904 seconds, \n",
      "INFO:pgn2data - log_time:time started...2023-10-24 17:37:04.261128\n",
      "INFO:pgn2data - log_time:time ended.....2023-10-24 17:37:05.597285\n",
      "INFO:pgn2data - log_time:initializing at...2023-10-24 17:37:05.598493\n",
      "INFO:pgn2data - pgn_data class:Starting process..\n",
      "INFO:pgn2data - process:Processing games and moves in file:./All pgn/jiit9122019-11.pgn\n",
      "INFO:pgn2data - pgn_data class:ending process..\n",
      "INFO:pgn2data - log_time:time taken sec: 1.1174526000000071 sec\n",
      "INFO:pgn2data - log_time:time taken: 1.1174526000000071 seconds, \n",
      "INFO:pgn2data - log_time:time started...2023-10-24 17:37:05.598493\n",
      "INFO:pgn2data - log_time:time ended.....2023-10-24 17:37:06.719091\n",
      "INFO:pgn2data - log_time:initializing at...2023-10-24 17:37:06.720548\n",
      "INFO:pgn2data - pgn_data class:Starting process..\n",
      "INFO:pgn2data - process:Processing games and moves in file:./All pgn/jiit9122020-04.pgn\n"
     ]
    },
    {
     "name": "stdout",
     "output_type": "stream",
     "text": [
      "is complete: True\n",
      "games file: jiit9122019-11_game_info.csv | size: 8327\n",
      "moves file: jiit9122019-11_moves.csv | size: 798223\n"
     ]
    },
    {
     "name": "stderr",
     "output_type": "stream",
     "text": [
      "INFO:pgn2data - pgn_data class:ending process..\n",
      "INFO:pgn2data - log_time:time taken sec: 2.863394900000003 sec\n",
      "INFO:pgn2data - log_time:time taken: 2.863394900000003 seconds, \n",
      "INFO:pgn2data - log_time:time started...2023-10-24 17:37:06.720548\n",
      "INFO:pgn2data - log_time:time ended.....2023-10-24 17:37:09.585681\n",
      "INFO:pgn2data - log_time:initializing at...2023-10-24 17:37:09.586681\n",
      "INFO:pgn2data - pgn_data class:Starting process..\n",
      "INFO:pgn2data - process:Processing games and moves in file:./All pgn/jiit9122020-04.pgn\n",
      "INFO:pgn2data - pgn_data class:ending process..\n",
      "INFO:pgn2data - log_time:time taken sec: 2.406697600000001 sec\n",
      "INFO:pgn2data - log_time:time taken: 2.406697600000001 seconds, \n",
      "INFO:pgn2data - log_time:time started...2023-10-24 17:37:09.586681\n",
      "INFO:pgn2data - log_time:time ended.....2023-10-24 17:37:11.995632\n",
      "INFO:pgn2data - log_time:initializing at...2023-10-24 17:37:11.996775\n",
      "INFO:pgn2data - pgn_data class:Starting process..\n",
      "INFO:pgn2data - process:Processing games and moves in file:./All pgn/jiit9122020-05.pgn\n"
     ]
    },
    {
     "name": "stdout",
     "output_type": "stream",
     "text": [
      "is complete: True\n",
      "games file: jiit9122020-04_game_info.csv | size: 17162\n",
      "moves file: jiit9122020-04_moves.csv | size: 1540130\n"
     ]
    },
    {
     "name": "stderr",
     "output_type": "stream",
     "text": [
      "INFO:pgn2data - pgn_data class:ending process..\n",
      "INFO:pgn2data - log_time:time taken sec: 11.351694300000005 sec\n",
      "INFO:pgn2data - log_time:time taken: 11.351694300000005 seconds, \n",
      "INFO:pgn2data - log_time:time started...2023-10-24 17:37:11.996775\n",
      "INFO:pgn2data - log_time:time ended.....2023-10-24 17:37:23.350709\n",
      "INFO:pgn2data - log_time:initializing at...2023-10-24 17:37:23.351715\n",
      "INFO:pgn2data - pgn_data class:Starting process..\n",
      "INFO:pgn2data - process:Processing games and moves in file:./All pgn/jiit9122020-05.pgn\n",
      "INFO:pgn2data - pgn_data class:ending process..\n",
      "INFO:pgn2data - log_time:time taken sec: 10.057076300000006 sec\n",
      "INFO:pgn2data - log_time:time taken: 10.057076300000006 seconds, \n",
      "INFO:pgn2data - log_time:time started...2023-10-24 17:37:23.351715\n",
      "INFO:pgn2data - log_time:time ended.....2023-10-24 17:37:33.410163\n",
      "INFO:pgn2data - log_time:initializing at...2023-10-24 17:37:33.411228\n",
      "INFO:pgn2data - pgn_data class:Starting process..\n",
      "INFO:pgn2data - process:Processing games and moves in file:./All pgn/jiit9122020-06.pgn\n"
     ]
    },
    {
     "name": "stdout",
     "output_type": "stream",
     "text": [
      "is complete: True\n",
      "games file: jiit9122020-05_game_info.csv | size: 72356\n",
      "moves file: jiit9122020-05_moves.csv | size: 7097362\n"
     ]
    },
    {
     "name": "stderr",
     "output_type": "stream",
     "text": [
      "INFO:pgn2data - pgn_data class:ending process..\n",
      "INFO:pgn2data - log_time:time taken sec: 9.234489699999997 sec\n",
      "INFO:pgn2data - log_time:time taken: 9.234489699999997 seconds, \n",
      "INFO:pgn2data - log_time:time started...2023-10-24 17:37:33.411228\n",
      "INFO:pgn2data - log_time:time ended.....2023-10-24 17:37:42.647482\n",
      "INFO:pgn2data - log_time:initializing at...2023-10-24 17:37:42.648991\n",
      "INFO:pgn2data - pgn_data class:Starting process..\n",
      "INFO:pgn2data - process:Processing games and moves in file:./All pgn/jiit9122020-06.pgn\n",
      "INFO:pgn2data - pgn_data class:ending process..\n",
      "INFO:pgn2data - log_time:time taken sec: 6.842282400000002 sec\n",
      "INFO:pgn2data - log_time:time taken: 6.842282400000002 seconds, \n",
      "INFO:pgn2data - log_time:time started...2023-10-24 17:37:42.648991\n",
      "INFO:pgn2data - log_time:time ended.....2023-10-24 17:37:49.493359\n",
      "INFO:pgn2data - log_time:initializing at...2023-10-24 17:37:49.494461\n",
      "INFO:pgn2data - pgn_data class:Starting process..\n",
      "INFO:pgn2data - process:Processing games and moves in file:./All pgn/jiit9122020-07.pgn\n"
     ]
    },
    {
     "name": "stdout",
     "output_type": "stream",
     "text": [
      "is complete: True\n",
      "games file: jiit9122020-06_game_info.csv | size: 48134\n",
      "moves file: jiit9122020-06_moves.csv | size: 4800908\n"
     ]
    },
    {
     "name": "stderr",
     "output_type": "stream",
     "text": [
      "INFO:pgn2data - pgn_data class:ending process..\n",
      "INFO:pgn2data - log_time:time taken sec: 6.619192900000002 sec\n",
      "INFO:pgn2data - log_time:time taken: 6.619192900000002 seconds, \n",
      "INFO:pgn2data - log_time:time started...2023-10-24 17:37:49.494461\n",
      "INFO:pgn2data - log_time:time ended.....2023-10-24 17:37:56.114797\n",
      "INFO:pgn2data - log_time:initializing at...2023-10-24 17:37:56.115795\n",
      "INFO:pgn2data - pgn_data class:Starting process..\n",
      "INFO:pgn2data - process:Processing games and moves in file:./All pgn/jiit9122020-07.pgn\n",
      "INFO:pgn2data - pgn_data class:ending process..\n",
      "INFO:pgn2data - log_time:time taken sec: 4.891056100000014 sec\n",
      "INFO:pgn2data - log_time:time taken: 4.891056100000014 seconds, \n",
      "INFO:pgn2data - log_time:time started...2023-10-24 17:37:56.115795\n",
      "INFO:pgn2data - log_time:time ended.....2023-10-24 17:38:01.008350\n",
      "INFO:pgn2data - log_time:initializing at...2023-10-24 17:38:01.010369\n",
      "INFO:pgn2data - pgn_data class:Starting process..\n",
      "INFO:pgn2data - process:Processing games and moves in file:./All pgn/jiit9122020-08.pgn\n"
     ]
    },
    {
     "name": "stdout",
     "output_type": "stream",
     "text": [
      "is complete: True\n",
      "games file: jiit9122020-07_game_info.csv | size: 30705\n",
      "moves file: jiit9122020-07_moves.csv | size: 3486783\n"
     ]
    },
    {
     "name": "stderr",
     "output_type": "stream",
     "text": [
      "INFO:pgn2data - pgn_data class:ending process..\n",
      "INFO:pgn2data - log_time:time taken sec: 2.499958499999991 sec\n",
      "INFO:pgn2data - log_time:time taken: 2.499958499999991 seconds, \n",
      "INFO:pgn2data - log_time:time started...2023-10-24 17:38:01.010369\n",
      "INFO:pgn2data - log_time:time ended.....2023-10-24 17:38:03.512509\n",
      "INFO:pgn2data - log_time:initializing at...2023-10-24 17:38:03.512509\n",
      "INFO:pgn2data - pgn_data class:Starting process..\n",
      "INFO:pgn2data - process:Processing games and moves in file:./All pgn/jiit9122020-08.pgn\n",
      "INFO:pgn2data - pgn_data class:ending process..\n",
      "INFO:pgn2data - log_time:time taken sec: 2.5779328000000135 sec\n",
      "INFO:pgn2data - log_time:time taken: 2.5779328000000135 seconds, \n",
      "INFO:pgn2data - log_time:time started...2023-10-24 17:38:03.512509\n",
      "INFO:pgn2data - log_time:time ended.....2023-10-24 17:38:06.092794\n",
      "INFO:pgn2data - log_time:initializing at...2023-10-24 17:38:06.093962\n",
      "INFO:pgn2data - pgn_data class:Starting process..\n",
      "INFO:pgn2data - process:Processing games and moves in file:./All pgn/jiit9122020-09.pgn\n"
     ]
    },
    {
     "name": "stdout",
     "output_type": "stream",
     "text": [
      "is complete: True\n",
      "games file: jiit9122020-08_game_info.csv | size: 12447\n",
      "moves file: jiit9122020-08_moves.csv | size: 1432947\n"
     ]
    },
    {
     "name": "stderr",
     "output_type": "stream",
     "text": [
      "INFO:pgn2data - pgn_data class:ending process..\n",
      "INFO:pgn2data - log_time:time taken sec: 1.8957427999999936 sec\n",
      "INFO:pgn2data - log_time:time taken: 1.8957427999999936 seconds, \n",
      "INFO:pgn2data - log_time:time started...2023-10-24 17:38:06.093962\n",
      "INFO:pgn2data - log_time:time ended.....2023-10-24 17:38:07.992451\n",
      "INFO:pgn2data - log_time:initializing at...2023-10-24 17:38:07.992451\n",
      "INFO:pgn2data - pgn_data class:Starting process..\n",
      "INFO:pgn2data - process:Processing games and moves in file:./All pgn/jiit9122020-09.pgn\n",
      "INFO:pgn2data - pgn_data class:ending process..\n",
      "INFO:pgn2data - log_time:time taken sec: 1.6872512999999856 sec\n",
      "INFO:pgn2data - log_time:time taken: 1.6872512999999856 seconds, \n",
      "INFO:pgn2data - log_time:time started...2023-10-24 17:38:07.992451\n",
      "INFO:pgn2data - log_time:time ended.....2023-10-24 17:38:09.681698\n",
      "INFO:pgn2data - log_time:initializing at...2023-10-24 17:38:09.682704\n",
      "INFO:pgn2data - pgn_data class:Starting process..\n",
      "INFO:pgn2data - process:Processing games and moves in file:./All pgn/jiit9122020-10.pgn\n"
     ]
    },
    {
     "name": "stdout",
     "output_type": "stream",
     "text": [
      "is complete: True\n",
      "games file: jiit9122020-09_game_info.csv | size: 10195\n",
      "moves file: jiit9122020-09_moves.csv | size: 917913\n"
     ]
    },
    {
     "name": "stderr",
     "output_type": "stream",
     "text": [
      "INFO:pgn2data - pgn_data class:ending process..\n",
      "INFO:pgn2data - log_time:time taken sec: 4.714592599999975 sec\n",
      "INFO:pgn2data - log_time:time taken: 4.714592599999975 seconds, \n",
      "INFO:pgn2data - log_time:time started...2023-10-24 17:38:09.682704\n",
      "INFO:pgn2data - log_time:time ended.....2023-10-24 17:38:14.399363\n",
      "INFO:pgn2data - log_time:initializing at...2023-10-24 17:38:14.400582\n",
      "INFO:pgn2data - pgn_data class:Starting process..\n",
      "INFO:pgn2data - process:Processing games and moves in file:./All pgn/jiit9122020-10.pgn\n",
      "INFO:pgn2data - pgn_data class:ending process..\n",
      "INFO:pgn2data - log_time:time taken sec: 3.8289167000000077 sec\n",
      "INFO:pgn2data - log_time:time taken: 3.8289167000000077 seconds, \n",
      "INFO:pgn2data - log_time:time started...2023-10-24 17:38:14.400582\n",
      "INFO:pgn2data - log_time:time ended.....2023-10-24 17:38:18.230794\n",
      "INFO:pgn2data - log_time:initializing at...2023-10-24 17:38:18.231795\n",
      "INFO:pgn2data - pgn_data class:Starting process..\n",
      "INFO:pgn2data - process:Processing games and moves in file:./All pgn/jiit9122020-11.pgn\n"
     ]
    },
    {
     "name": "stdout",
     "output_type": "stream",
     "text": [
      "is complete: True\n",
      "games file: jiit9122020-10_game_info.csv | size: 28908\n",
      "moves file: jiit9122020-10_moves.csv | size: 2714497\n"
     ]
    },
    {
     "name": "stderr",
     "output_type": "stream",
     "text": [
      "INFO:pgn2data - pgn_data class:ending process..\n",
      "INFO:pgn2data - log_time:time taken sec: 10.707078800000005 sec\n",
      "INFO:pgn2data - log_time:time taken: 10.707078800000005 seconds, \n",
      "INFO:pgn2data - log_time:time started...2023-10-24 17:38:18.231795\n",
      "INFO:pgn2data - log_time:time ended.....2023-10-24 17:38:28.940056\n",
      "INFO:pgn2data - log_time:initializing at...2023-10-24 17:38:28.941090\n",
      "INFO:pgn2data - pgn_data class:Starting process..\n",
      "INFO:pgn2data - process:Processing games and moves in file:./All pgn/jiit9122020-11.pgn\n",
      "INFO:pgn2data - pgn_data class:ending process..\n",
      "INFO:pgn2data - log_time:time taken sec: 9.210749300000003 sec\n",
      "INFO:pgn2data - log_time:time taken: 9.210749300000003 seconds, \n",
      "INFO:pgn2data - log_time:time started...2023-10-24 17:38:28.941090\n",
      "INFO:pgn2data - log_time:time ended.....2023-10-24 17:38:38.154649\n",
      "INFO:pgn2data - log_time:initializing at...2023-10-24 17:38:38.155707\n",
      "INFO:pgn2data - pgn_data class:Starting process..\n",
      "INFO:pgn2data - process:Processing games and moves in file:./All pgn/jiit9122020-12.pgn\n"
     ]
    },
    {
     "name": "stdout",
     "output_type": "stream",
     "text": [
      "is complete: True\n",
      "games file: jiit9122020-11_game_info.csv | size: 62453\n",
      "moves file: jiit9122020-11_moves.csv | size: 6768963\n"
     ]
    },
    {
     "name": "stderr",
     "output_type": "stream",
     "text": [
      "INFO:pgn2data - pgn_data class:ending process..\n",
      "INFO:pgn2data - log_time:time taken sec: 7.772182499999985 sec\n",
      "INFO:pgn2data - log_time:time taken: 7.772182499999985 seconds, \n",
      "INFO:pgn2data - log_time:time started...2023-10-24 17:38:38.155707\n",
      "INFO:pgn2data - log_time:time ended.....2023-10-24 17:38:45.930276\n",
      "INFO:pgn2data - log_time:initializing at...2023-10-24 17:38:45.931027\n",
      "INFO:pgn2data - pgn_data class:Starting process..\n",
      "INFO:pgn2data - process:Processing games and moves in file:./All pgn/jiit9122020-12.pgn\n",
      "INFO:pgn2data - pgn_data class:ending process..\n",
      "INFO:pgn2data - log_time:time taken sec: 5.856616500000001 sec\n",
      "INFO:pgn2data - log_time:time taken: 5.856616500000001 seconds, \n",
      "INFO:pgn2data - log_time:time started...2023-10-24 17:38:45.931027\n",
      "INFO:pgn2data - log_time:time ended.....2023-10-24 17:38:51.790261\n",
      "INFO:pgn2data - log_time:initializing at...2023-10-24 17:38:51.791259\n",
      "INFO:pgn2data - pgn_data class:Starting process..\n",
      "INFO:pgn2data - process:Processing games and moves in file:./All pgn/jiit9122021-01.pgn\n"
     ]
    },
    {
     "name": "stdout",
     "output_type": "stream",
     "text": [
      "is complete: True\n",
      "games file: jiit9122020-12_game_info.csv | size: 37390\n",
      "moves file: jiit9122020-12_moves.csv | size: 3556198\n"
     ]
    },
    {
     "name": "stderr",
     "output_type": "stream",
     "text": [
      "INFO:pgn2data - pgn_data class:ending process..\n",
      "INFO:pgn2data - log_time:time taken sec: 6.179207500000018 sec\n",
      "INFO:pgn2data - log_time:time taken: 6.179207500000018 seconds, \n",
      "INFO:pgn2data - log_time:time started...2023-10-24 17:38:51.791259\n",
      "INFO:pgn2data - log_time:time ended.....2023-10-24 17:38:57.976429\n",
      "INFO:pgn2data - log_time:initializing at...2023-10-24 17:38:57.981625\n",
      "INFO:pgn2data - pgn_data class:Starting process..\n",
      "INFO:pgn2data - process:Processing games and moves in file:./All pgn/jiit9122021-01.pgn\n",
      "INFO:pgn2data - pgn_data class:ending process..\n",
      "INFO:pgn2data - log_time:time taken sec: 4.822357600000004 sec\n",
      "INFO:pgn2data - log_time:time taken: 4.822357600000004 seconds, \n",
      "INFO:pgn2data - log_time:time started...2023-10-24 17:38:57.981625\n",
      "INFO:pgn2data - log_time:time ended.....2023-10-24 17:39:02.807750\n",
      "INFO:pgn2data - log_time:initializing at...2023-10-24 17:39:02.809435\n",
      "INFO:pgn2data - pgn_data class:Starting process..\n",
      "INFO:pgn2data - process:Processing games and moves in file:./All pgn/jiit9122021-02.pgn\n"
     ]
    },
    {
     "name": "stdout",
     "output_type": "stream",
     "text": [
      "is complete: True\n",
      "games file: jiit9122021-01_game_info.csv | size: 28266\n",
      "moves file: jiit9122021-01_moves.csv | size: 2781277\n"
     ]
    },
    {
     "name": "stderr",
     "output_type": "stream",
     "text": [
      "INFO:pgn2data - pgn_data class:ending process..\n",
      "INFO:pgn2data - log_time:time taken sec: 3.5239132000000097 sec\n",
      "INFO:pgn2data - log_time:time taken: 3.5239132000000097 seconds, \n",
      "INFO:pgn2data - log_time:time started...2023-10-24 17:39:02.809435\n",
      "INFO:pgn2data - log_time:time ended.....2023-10-24 17:39:06.335961\n",
      "INFO:pgn2data - log_time:initializing at...2023-10-24 17:39:06.337470\n",
      "INFO:pgn2data - pgn_data class:Starting process..\n",
      "INFO:pgn2data - process:Processing games and moves in file:./All pgn/jiit9122021-02.pgn\n",
      "INFO:pgn2data - pgn_data class:ending process..\n",
      "INFO:pgn2data - log_time:time taken sec: 2.836756699999995 sec\n",
      "INFO:pgn2data - log_time:time taken: 2.836756699999995 seconds, \n",
      "INFO:pgn2data - log_time:time started...2023-10-24 17:39:06.337470\n",
      "INFO:pgn2data - log_time:time ended.....2023-10-24 17:39:09.176427\n",
      "INFO:pgn2data - log_time:initializing at...2023-10-24 17:39:09.177434\n",
      "INFO:pgn2data - pgn_data class:Starting process..\n",
      "INFO:pgn2data - process:Processing games and moves in file:./All pgn/jiit9122021-03.pgn\n"
     ]
    },
    {
     "name": "stdout",
     "output_type": "stream",
     "text": [
      "is complete: True\n",
      "games file: jiit9122021-02_game_info.csv | size: 13145\n",
      "moves file: jiit9122021-02_moves.csv | size: 1719462\n"
     ]
    },
    {
     "name": "stderr",
     "output_type": "stream",
     "text": [
      "INFO:pgn2data - pgn_data class:ending process..\n",
      "INFO:pgn2data - log_time:time taken sec: 6.883895300000006 sec\n",
      "INFO:pgn2data - log_time:time taken: 6.883895300000006 seconds, \n",
      "INFO:pgn2data - log_time:time started...2023-10-24 17:39:09.177434\n",
      "INFO:pgn2data - log_time:time ended.....2023-10-24 17:39:16.062618\n",
      "INFO:pgn2data - log_time:initializing at...2023-10-24 17:39:16.062618\n",
      "INFO:pgn2data - pgn_data class:Starting process..\n",
      "INFO:pgn2data - process:Processing games and moves in file:./All pgn/jiit9122021-03.pgn\n",
      "INFO:pgn2data - pgn_data class:ending process..\n",
      "INFO:pgn2data - log_time:time taken sec: 6.060516500000006 sec\n",
      "INFO:pgn2data - log_time:time taken: 6.060516500000006 seconds, \n",
      "INFO:pgn2data - log_time:time started...2023-10-24 17:39:16.062618\n",
      "INFO:pgn2data - log_time:time ended.....2023-10-24 17:39:22.127219\n",
      "INFO:pgn2data - log_time:initializing at...2023-10-24 17:39:22.128728\n",
      "INFO:pgn2data - pgn_data class:Starting process..\n",
      "INFO:pgn2data - process:Processing games and moves in file:./All pgn/jiit9122021-04.pgn\n"
     ]
    },
    {
     "name": "stdout",
     "output_type": "stream",
     "text": [
      "is complete: True\n",
      "games file: jiit9122021-03_game_info.csv | size: 36708\n",
      "moves file: jiit9122021-03_moves.csv | size: 4276655\n"
     ]
    },
    {
     "name": "stderr",
     "output_type": "stream",
     "text": [
      "INFO:pgn2data - pgn_data class:ending process..\n",
      "INFO:pgn2data - log_time:time taken sec: 1.8083311000000037 sec\n",
      "INFO:pgn2data - log_time:time taken: 1.8083311000000037 seconds, \n",
      "INFO:pgn2data - log_time:time started...2023-10-24 17:39:22.128728\n",
      "INFO:pgn2data - log_time:time ended.....2023-10-24 17:39:23.938545\n",
      "INFO:pgn2data - log_time:initializing at...2023-10-24 17:39:23.939722\n",
      "INFO:pgn2data - pgn_data class:Starting process..\n",
      "INFO:pgn2data - process:Processing games and moves in file:./All pgn/jiit9122021-04.pgn\n",
      "INFO:pgn2data - pgn_data class:ending process..\n",
      "INFO:pgn2data - log_time:time taken sec: 1.8958264999999983 sec\n",
      "INFO:pgn2data - log_time:time taken: 1.8958264999999983 seconds, \n",
      "INFO:pgn2data - log_time:time started...2023-10-24 17:39:23.939722\n",
      "INFO:pgn2data - log_time:time ended.....2023-10-24 17:39:25.838377\n",
      "INFO:pgn2data - log_time:initializing at...2023-10-24 17:39:25.839164\n",
      "INFO:pgn2data - pgn_data class:Starting process..\n",
      "INFO:pgn2data - process:Processing games and moves in file:./All pgn/jiit9122021-05.pgn\n"
     ]
    },
    {
     "name": "stdout",
     "output_type": "stream",
     "text": [
      "is complete: True\n",
      "games file: jiit9122021-04_game_info.csv | size: 10687\n",
      "moves file: jiit9122021-04_moves.csv | size: 874218\n"
     ]
    },
    {
     "name": "stderr",
     "output_type": "stream",
     "text": [
      "INFO:pgn2data - pgn_data class:ending process..\n",
      "INFO:pgn2data - log_time:time taken sec: 27.862033499999995 sec\n",
      "INFO:pgn2data - log_time:time taken: 27.862033499999995 seconds, \n",
      "INFO:pgn2data - log_time:time started...2023-10-24 17:39:25.839164\n",
      "INFO:pgn2data - log_time:time ended.....2023-10-24 17:39:53.705920\n",
      "INFO:pgn2data - log_time:initializing at...2023-10-24 17:39:53.705920\n",
      "INFO:pgn2data - pgn_data class:Starting process..\n",
      "INFO:pgn2data - process:Processing games and moves in file:./All pgn/jiit9122021-05.pgn\n",
      "INFO:pgn2data - pgn_data class:ending process..\n",
      "INFO:pgn2data - log_time:time taken sec: 22.401292099999978 sec\n",
      "INFO:pgn2data - log_time:time taken: 22.401292099999978 seconds, \n",
      "INFO:pgn2data - log_time:time started...2023-10-24 17:39:53.705920\n",
      "INFO:pgn2data - log_time:time ended.....2023-10-24 17:40:16.109391\n",
      "INFO:pgn2data - log_time:initializing at...2023-10-24 17:40:16.109391\n",
      "INFO:pgn2data - pgn_data class:Starting process..\n",
      "INFO:pgn2data - process:Processing games and moves in file:./All pgn/jiit9122021-06.pgn\n"
     ]
    },
    {
     "name": "stdout",
     "output_type": "stream",
     "text": [
      "is complete: True\n",
      "games file: jiit9122021-05_game_info.csv | size: 119634\n",
      "moves file: jiit9122021-05_moves.csv | size: 11704954\n"
     ]
    },
    {
     "name": "stderr",
     "output_type": "stream",
     "text": [
      "INFO:pgn2data - pgn_data class:ending process..\n",
      "INFO:pgn2data - log_time:time taken sec: 21.21449800000005 sec\n",
      "INFO:pgn2data - log_time:time taken: 21.21449800000005 seconds, \n",
      "INFO:pgn2data - log_time:time started...2023-10-24 17:40:16.109391\n",
      "INFO:pgn2data - log_time:time ended.....2023-10-24 17:40:37.332454\n",
      "INFO:pgn2data - log_time:initializing at...2023-10-24 17:40:37.333650\n",
      "INFO:pgn2data - pgn_data class:Starting process..\n",
      "INFO:pgn2data - process:Processing games and moves in file:./All pgn/jiit9122021-06.pgn\n",
      "INFO:pgn2data - pgn_data class:ending process..\n",
      "INFO:pgn2data - log_time:time taken sec: 17.472905200000014 sec\n",
      "INFO:pgn2data - log_time:time taken: 17.472905200000014 seconds, \n",
      "INFO:pgn2data - log_time:time started...2023-10-24 17:40:37.333650\n",
      "INFO:pgn2data - log_time:time ended.....2023-10-24 17:40:54.809510\n",
      "INFO:pgn2data - log_time:initializing at...2023-10-24 17:40:54.810990\n",
      "INFO:pgn2data - pgn_data class:Starting process..\n",
      "INFO:pgn2data - process:Processing games and moves in file:./All pgn/jiit9122021-07.pgn\n"
     ]
    },
    {
     "name": "stdout",
     "output_type": "stream",
     "text": [
      "is complete: True\n",
      "games file: jiit9122021-06_game_info.csv | size: 80587\n",
      "moves file: jiit9122021-06_moves.csv | size: 8531789\n"
     ]
    },
    {
     "name": "stderr",
     "output_type": "stream",
     "text": [
      "INFO:pgn2data - pgn_data class:ending process..\n",
      "INFO:pgn2data - log_time:time taken sec: 11.498213799999974 sec\n",
      "INFO:pgn2data - log_time:time taken: 11.498213799999974 seconds, \n",
      "INFO:pgn2data - log_time:time started...2023-10-24 17:40:54.810990\n",
      "INFO:pgn2data - log_time:time ended.....2023-10-24 17:41:06.313233\n",
      "INFO:pgn2data - log_time:initializing at...2023-10-24 17:41:06.316295\n",
      "INFO:pgn2data - pgn_data class:Starting process..\n",
      "INFO:pgn2data - process:Processing games and moves in file:./All pgn/jiit9122021-07.pgn\n",
      "INFO:pgn2data - pgn_data class:ending process..\n",
      "INFO:pgn2data - log_time:time taken sec: 7.680665400000009 sec\n",
      "INFO:pgn2data - log_time:time taken: 7.680665400000009 seconds, \n",
      "INFO:pgn2data - log_time:time started...2023-10-24 17:41:06.316295\n",
      "INFO:pgn2data - log_time:time ended.....2023-10-24 17:41:13.998221\n",
      "INFO:pgn2data - log_time:initializing at...2023-10-24 17:41:13.999711\n",
      "INFO:pgn2data - pgn_data class:Starting process..\n",
      "INFO:pgn2data - process:Processing games and moves in file:./All pgn/jiit9122021-08.pgn\n"
     ]
    },
    {
     "name": "stdout",
     "output_type": "stream",
     "text": [
      "is complete: True\n",
      "games file: jiit9122021-07_game_info.csv | size: 37358\n",
      "moves file: jiit9122021-07_moves.csv | size: 3762560\n"
     ]
    },
    {
     "name": "stderr",
     "output_type": "stream",
     "text": [
      "INFO:pgn2data - pgn_data class:ending process..\n",
      "INFO:pgn2data - log_time:time taken sec: 8.6466049 sec\n",
      "INFO:pgn2data - log_time:time taken: 8.6466049 seconds, \n",
      "INFO:pgn2data - log_time:time started...2023-10-24 17:41:13.999711\n",
      "INFO:pgn2data - log_time:time ended.....2023-10-24 17:41:22.648232\n",
      "INFO:pgn2data - log_time:initializing at...2023-10-24 17:41:22.649372\n",
      "INFO:pgn2data - pgn_data class:Starting process..\n",
      "INFO:pgn2data - process:Processing games and moves in file:./All pgn/jiit9122021-08.pgn\n",
      "INFO:pgn2data - pgn_data class:ending process..\n",
      "INFO:pgn2data - log_time:time taken sec: 10.88243650000004 sec\n",
      "INFO:pgn2data - log_time:time taken: 10.88243650000004 seconds, \n",
      "INFO:pgn2data - log_time:time started...2023-10-24 17:41:22.649372\n",
      "INFO:pgn2data - log_time:time ended.....2023-10-24 17:41:33.534165\n",
      "INFO:pgn2data - log_time:initializing at...2023-10-24 17:41:33.538476\n",
      "INFO:pgn2data - pgn_data class:Starting process..\n",
      "INFO:pgn2data - process:Processing games and moves in file:./All pgn/jiit9122021-09.pgn\n"
     ]
    },
    {
     "name": "stdout",
     "output_type": "stream",
     "text": [
      "is complete: True\n",
      "games file: jiit9122021-08_game_info.csv | size: 30643\n",
      "moves file: jiit9122021-08_moves.csv | size: 3449034\n"
     ]
    },
    {
     "name": "stderr",
     "output_type": "stream",
     "text": [
      "INFO:pgn2data - pgn_data class:ending process..\n",
      "INFO:pgn2data - log_time:time taken sec: 4.882864100000006 sec\n",
      "INFO:pgn2data - log_time:time taken: 4.882864100000006 seconds, \n",
      "INFO:pgn2data - log_time:time started...2023-10-24 17:41:33.538476\n",
      "INFO:pgn2data - log_time:time ended.....2023-10-24 17:41:38.423987\n",
      "INFO:pgn2data - log_time:initializing at...2023-10-24 17:41:38.424985\n",
      "INFO:pgn2data - pgn_data class:Starting process..\n",
      "INFO:pgn2data - process:Processing games and moves in file:./All pgn/jiit9122021-09.pgn\n",
      "INFO:pgn2data - pgn_data class:ending process..\n",
      "INFO:pgn2data - log_time:time taken sec: 4.10879970000002 sec\n",
      "INFO:pgn2data - log_time:time taken: 4.10879970000002 seconds, \n",
      "INFO:pgn2data - log_time:time started...2023-10-24 17:41:38.424985\n",
      "INFO:pgn2data - log_time:time ended.....2023-10-24 17:41:42.537493\n",
      "INFO:pgn2data - log_time:initializing at...2023-10-24 17:41:42.538422\n",
      "INFO:pgn2data - pgn_data class:Starting process..\n",
      "INFO:pgn2data - process:Processing games and moves in file:./All pgn/jiit9122021-10.pgn\n"
     ]
    },
    {
     "name": "stdout",
     "output_type": "stream",
     "text": [
      "is complete: True\n",
      "games file: jiit9122021-09_game_info.csv | size: 15463\n",
      "moves file: jiit9122021-09_moves.csv | size: 1591604\n"
     ]
    },
    {
     "name": "stderr",
     "output_type": "stream",
     "text": [
      "INFO:pgn2data - pgn_data class:ending process..\n",
      "INFO:pgn2data - log_time:time taken sec: 3.702358599999968 sec\n",
      "INFO:pgn2data - log_time:time taken: 3.702358599999968 seconds, \n",
      "INFO:pgn2data - log_time:time started...2023-10-24 17:41:42.538422\n",
      "INFO:pgn2data - log_time:time ended.....2023-10-24 17:41:46.243125\n",
      "INFO:pgn2data - log_time:initializing at...2023-10-24 17:41:46.244124\n",
      "INFO:pgn2data - pgn_data class:Starting process..\n",
      "INFO:pgn2data - process:Processing games and moves in file:./All pgn/jiit9122021-10.pgn\n",
      "INFO:pgn2data - pgn_data class:ending process..\n",
      "INFO:pgn2data - log_time:time taken sec: 2.9757181000000514 sec\n",
      "INFO:pgn2data - log_time:time taken: 2.9757181000000514 seconds, \n",
      "INFO:pgn2data - log_time:time started...2023-10-24 17:41:46.244124\n",
      "INFO:pgn2data - log_time:time ended.....2023-10-24 17:41:49.224488\n",
      "INFO:pgn2data - log_time:initializing at...2023-10-24 17:41:49.225495\n",
      "INFO:pgn2data - pgn_data class:Starting process..\n",
      "INFO:pgn2data - process:Processing games and moves in file:./All pgn/jiit9122021-11.pgn\n"
     ]
    },
    {
     "name": "stdout",
     "output_type": "stream",
     "text": [
      "is complete: True\n",
      "games file: jiit9122021-10_game_info.csv | size: 14257\n",
      "moves file: jiit9122021-10_moves.csv | size: 1260157\n"
     ]
    },
    {
     "name": "stderr",
     "output_type": "stream",
     "text": [
      "INFO:pgn2data - pgn_data class:ending process..\n",
      "INFO:pgn2data - log_time:time taken sec: 6.335810999999978 sec\n",
      "INFO:pgn2data - log_time:time taken: 6.335810999999978 seconds, \n",
      "INFO:pgn2data - log_time:time started...2023-10-24 17:41:49.225495\n",
      "INFO:pgn2data - log_time:time ended.....2023-10-24 17:41:55.564616\n",
      "INFO:pgn2data - log_time:initializing at...2023-10-24 17:41:55.565611\n",
      "INFO:pgn2data - pgn_data class:Starting process..\n",
      "INFO:pgn2data - process:Processing games and moves in file:./All pgn/jiit9122021-11.pgn\n",
      "INFO:pgn2data - pgn_data class:ending process..\n",
      "INFO:pgn2data - log_time:time taken sec: 4.655868400000031 sec\n",
      "INFO:pgn2data - log_time:time taken: 4.655868400000031 seconds, \n",
      "INFO:pgn2data - log_time:time started...2023-10-24 17:41:55.565611\n",
      "INFO:pgn2data - log_time:time ended.....2023-10-24 17:42:00.224322\n",
      "INFO:pgn2data - log_time:initializing at...2023-10-24 17:42:00.227323\n",
      "INFO:pgn2data - pgn_data class:Starting process..\n",
      "INFO:pgn2data - process:Processing games and moves in file:./All pgn/jiit9122021-12.pgn\n"
     ]
    },
    {
     "name": "stdout",
     "output_type": "stream",
     "text": [
      "is complete: True\n",
      "games file: jiit9122021-11_game_info.csv | size: 21107\n",
      "moves file: jiit9122021-11_moves.csv | size: 2104063\n"
     ]
    },
    {
     "name": "stderr",
     "output_type": "stream",
     "text": [
      "INFO:pgn2data - pgn_data class:ending process..\n",
      "INFO:pgn2data - log_time:time taken sec: 8.200798100000043 sec\n",
      "INFO:pgn2data - log_time:time taken: 8.200798100000043 seconds, \n",
      "INFO:pgn2data - log_time:time started...2023-10-24 17:42:00.227323\n",
      "INFO:pgn2data - log_time:time ended.....2023-10-24 17:42:08.429922\n",
      "INFO:pgn2data - log_time:initializing at...2023-10-24 17:42:08.430923\n",
      "INFO:pgn2data - pgn_data class:Starting process..\n",
      "INFO:pgn2data - process:Processing games and moves in file:./All pgn/jiit9122021-12.pgn\n",
      "INFO:pgn2data - pgn_data class:ending process..\n",
      "INFO:pgn2data - log_time:time taken sec: 7.008249999999975 sec\n",
      "INFO:pgn2data - log_time:time taken: 7.008249999999975 seconds, \n",
      "INFO:pgn2data - log_time:time started...2023-10-24 17:42:08.430923\n",
      "INFO:pgn2data - log_time:time ended.....2023-10-24 17:42:15.440208\n",
      "INFO:pgn2data - log_time:initializing at...2023-10-24 17:42:15.441215\n",
      "INFO:pgn2data - pgn_data class:Starting process..\n",
      "INFO:pgn2data - process:Processing games and moves in file:./All pgn/jiit9122022-01.pgn\n"
     ]
    },
    {
     "name": "stdout",
     "output_type": "stream",
     "text": [
      "is complete: True\n",
      "games file: jiit9122021-12_game_info.csv | size: 43851\n",
      "moves file: jiit9122021-12_moves.csv | size: 3801727\n"
     ]
    },
    {
     "name": "stderr",
     "output_type": "stream",
     "text": [
      "INFO:pgn2data - pgn_data class:ending process..\n",
      "INFO:pgn2data - log_time:time taken sec: 1.4020684000000188 sec\n",
      "INFO:pgn2data - log_time:time taken: 1.4020684000000188 seconds, \n",
      "INFO:pgn2data - log_time:time started...2023-10-24 17:42:15.441215\n",
      "INFO:pgn2data - log_time:time ended.....2023-10-24 17:42:16.845535\n",
      "INFO:pgn2data - log_time:initializing at...2023-10-24 17:42:16.846532\n",
      "INFO:pgn2data - pgn_data class:Starting process..\n",
      "INFO:pgn2data - process:Processing games and moves in file:./All pgn/jiit9122022-01.pgn\n",
      "INFO:pgn2data - pgn_data class:ending process..\n",
      "INFO:pgn2data - log_time:time taken sec: 1.6243915999999672 sec\n",
      "INFO:pgn2data - log_time:time taken: 1.6243915999999672 seconds, \n",
      "INFO:pgn2data - log_time:time started...2023-10-24 17:42:16.846532\n",
      "INFO:pgn2data - log_time:time ended.....2023-10-24 17:42:18.473367\n",
      "INFO:pgn2data - log_time:initializing at...2023-10-24 17:42:18.474566\n",
      "INFO:pgn2data - pgn_data class:Starting process..\n",
      "INFO:pgn2data - process:Processing games and moves in file:./All pgn/jiit9122022-02.pgn\n"
     ]
    },
    {
     "name": "stdout",
     "output_type": "stream",
     "text": [
      "is complete: True\n",
      "games file: jiit9122022-01_game_info.csv | size: 8002\n",
      "moves file: jiit9122022-01_moves.csv | size: 822840\n"
     ]
    },
    {
     "name": "stderr",
     "output_type": "stream",
     "text": [
      "INFO:pgn2data - pgn_data class:ending process..\n",
      "INFO:pgn2data - log_time:time taken sec: 4.0877578999999855 sec\n",
      "INFO:pgn2data - log_time:time taken: 4.0877578999999855 seconds, \n",
      "INFO:pgn2data - log_time:time started...2023-10-24 17:42:18.474566\n",
      "INFO:pgn2data - log_time:time ended.....2023-10-24 17:42:22.564641\n",
      "INFO:pgn2data - log_time:initializing at...2023-10-24 17:42:22.565705\n",
      "INFO:pgn2data - pgn_data class:Starting process..\n",
      "INFO:pgn2data - process:Processing games and moves in file:./All pgn/jiit9122022-02.pgn\n",
      "INFO:pgn2data - pgn_data class:ending process..\n",
      "INFO:pgn2data - log_time:time taken sec: 3.1130521000000044 sec\n",
      "INFO:pgn2data - log_time:time taken: 3.1130521000000044 seconds, \n",
      "INFO:pgn2data - log_time:time started...2023-10-24 17:42:22.565705\n",
      "INFO:pgn2data - log_time:time ended.....2023-10-24 17:42:25.680994\n",
      "INFO:pgn2data - log_time:initializing at...2023-10-24 17:42:25.682908\n",
      "INFO:pgn2data - pgn_data class:Starting process..\n",
      "INFO:pgn2data - process:Processing games and moves in file:./All pgn/jiit9122022-03.pgn\n"
     ]
    },
    {
     "name": "stdout",
     "output_type": "stream",
     "text": [
      "is complete: True\n",
      "games file: jiit9122022-02_game_info.csv | size: 20116\n",
      "moves file: jiit9122022-02_moves.csv | size: 1707425\n"
     ]
    },
    {
     "name": "stderr",
     "output_type": "stream",
     "text": [
      "INFO:pgn2data - pgn_data class:ending process..\n",
      "INFO:pgn2data - log_time:time taken sec: 6.335200999999984 sec\n",
      "INFO:pgn2data - log_time:time taken: 6.335200999999984 seconds, \n",
      "INFO:pgn2data - log_time:time started...2023-10-24 17:42:25.682908\n",
      "INFO:pgn2data - log_time:time ended.....2023-10-24 17:42:32.020858\n",
      "INFO:pgn2data - log_time:initializing at...2023-10-24 17:42:32.021857\n",
      "INFO:pgn2data - pgn_data class:Starting process..\n",
      "INFO:pgn2data - process:Processing games and moves in file:./All pgn/jiit9122022-03.pgn\n",
      "INFO:pgn2data - pgn_data class:ending process..\n",
      "INFO:pgn2data - log_time:time taken sec: 5.3735845000000495 sec\n",
      "INFO:pgn2data - log_time:time taken: 5.3735845000000495 seconds, \n",
      "INFO:pgn2data - log_time:time started...2023-10-24 17:42:32.021857\n",
      "INFO:pgn2data - log_time:time ended.....2023-10-24 17:42:37.399194\n",
      "INFO:pgn2data - log_time:initializing at...2023-10-24 17:42:37.400667\n",
      "INFO:pgn2data - pgn_data class:Starting process..\n",
      "INFO:pgn2data - process:Processing games and moves in file:./All pgn/jiit9122022-04.pgn\n"
     ]
    },
    {
     "name": "stdout",
     "output_type": "stream",
     "text": [
      "is complete: True\n",
      "games file: jiit9122022-03_game_info.csv | size: 24741\n",
      "moves file: jiit9122022-03_moves.csv | size: 2449545\n"
     ]
    },
    {
     "name": "stderr",
     "output_type": "stream",
     "text": [
      "INFO:pgn2data - pgn_data class:ending process..\n",
      "INFO:pgn2data - log_time:time taken sec: 2.8692517000000066 sec\n",
      "INFO:pgn2data - log_time:time taken: 2.8692517000000066 seconds, \n",
      "INFO:pgn2data - log_time:time started...2023-10-24 17:42:37.400667\n",
      "INFO:pgn2data - log_time:time ended.....2023-10-24 17:42:40.271740\n",
      "INFO:pgn2data - log_time:initializing at...2023-10-24 17:42:40.272739\n",
      "INFO:pgn2data - pgn_data class:Starting process..\n",
      "INFO:pgn2data - process:Processing games and moves in file:./All pgn/jiit9122022-04.pgn\n",
      "INFO:pgn2data - pgn_data class:ending process..\n",
      "INFO:pgn2data - log_time:time taken sec: 2.3654665999999906 sec\n",
      "INFO:pgn2data - log_time:time taken: 2.3654665999999906 seconds, \n",
      "INFO:pgn2data - log_time:time started...2023-10-24 17:42:40.272739\n",
      "INFO:pgn2data - log_time:time ended.....2023-10-24 17:42:42.641034\n",
      "INFO:pgn2data - log_time:initializing at...2023-10-24 17:42:42.642336\n",
      "INFO:pgn2data - pgn_data class:Starting process..\n",
      "INFO:pgn2data - process:Processing games and moves in file:./All pgn/jiit9122022-05.pgn\n"
     ]
    },
    {
     "name": "stdout",
     "output_type": "stream",
     "text": [
      "is complete: True\n",
      "games file: jiit9122022-04_game_info.csv | size: 9773\n",
      "moves file: jiit9122022-04_moves.csv | size: 1059482\n"
     ]
    },
    {
     "name": "stderr",
     "output_type": "stream",
     "text": [
      "INFO:pgn2data - pgn_data class:ending process..\n",
      "INFO:pgn2data - log_time:time taken sec: 2.119540699999959 sec\n",
      "INFO:pgn2data - log_time:time taken: 2.119540699999959 seconds, \n",
      "INFO:pgn2data - log_time:time started...2023-10-24 17:42:42.642336\n",
      "INFO:pgn2data - log_time:time ended.....2023-10-24 17:42:44.764326\n",
      "INFO:pgn2data - log_time:initializing at...2023-10-24 17:42:44.764326\n",
      "INFO:pgn2data - pgn_data class:Starting process..\n",
      "INFO:pgn2data - process:Processing games and moves in file:./All pgn/jiit9122022-05.pgn\n",
      "INFO:pgn2data - pgn_data class:ending process..\n",
      "INFO:pgn2data - log_time:time taken sec: 1.719125800000029 sec\n",
      "INFO:pgn2data - log_time:time taken: 1.719125800000029 seconds, \n",
      "INFO:pgn2data - log_time:time started...2023-10-24 17:42:44.764326\n",
      "INFO:pgn2data - log_time:time ended.....2023-10-24 17:42:46.486052\n",
      "INFO:pgn2data - log_time:initializing at...2023-10-24 17:42:46.487562\n",
      "INFO:pgn2data - pgn_data class:Starting process..\n",
      "INFO:pgn2data - process:Processing games and moves in file:./All pgn/jiit9122022-06.pgn\n"
     ]
    },
    {
     "name": "stdout",
     "output_type": "stream",
     "text": [
      "is complete: True\n",
      "games file: jiit9122022-05_game_info.csv | size: 8798\n",
      "moves file: jiit9122022-05_moves.csv | size: 939064\n"
     ]
    },
    {
     "name": "stderr",
     "output_type": "stream",
     "text": [
      "INFO:pgn2data - pgn_data class:ending process..\n",
      "INFO:pgn2data - log_time:time taken sec: 0.2729594999999563 sec\n",
      "INFO:pgn2data - log_time:time taken: 0.2729594999999563 seconds, \n",
      "INFO:pgn2data - log_time:time started...2023-10-24 17:42:46.487562\n",
      "INFO:pgn2data - log_time:time ended.....2023-10-24 17:42:46.762854\n",
      "INFO:pgn2data - log_time:initializing at...2023-10-24 17:42:46.762854\n",
      "INFO:pgn2data - pgn_data class:Starting process..\n",
      "INFO:pgn2data - process:Processing games and moves in file:./All pgn/jiit9122022-06.pgn\n",
      "INFO:pgn2data - pgn_data class:ending process..\n",
      "INFO:pgn2data - log_time:time taken sec: 0.23285479999998415 sec\n",
      "INFO:pgn2data - log_time:time taken: 0.23285479999998415 seconds, \n",
      "INFO:pgn2data - log_time:time started...2023-10-24 17:42:46.762854\n",
      "INFO:pgn2data - log_time:time ended.....2023-10-24 17:42:46.997632\n",
      "INFO:pgn2data - log_time:initializing at...2023-10-24 17:42:46.998143\n",
      "INFO:pgn2data - pgn_data class:Starting process..\n",
      "INFO:pgn2data - process:Processing games and moves in file:./All pgn/jiit9122022-07.pgn\n"
     ]
    },
    {
     "name": "stdout",
     "output_type": "stream",
     "text": [
      "is complete: True\n",
      "games file: jiit9122022-06_game_info.csv | size: 1281\n",
      "moves file: jiit9122022-06_moves.csv | size: 123282\n"
     ]
    },
    {
     "name": "stderr",
     "output_type": "stream",
     "text": [
      "INFO:pgn2data - pgn_data class:ending process..\n",
      "INFO:pgn2data - log_time:time taken sec: 0.4189987000000315 sec\n",
      "INFO:pgn2data - log_time:time taken: 0.4189987000000315 seconds, \n",
      "INFO:pgn2data - log_time:time started...2023-10-24 17:42:46.998143\n",
      "INFO:pgn2data - log_time:time ended.....2023-10-24 17:42:47.421097\n",
      "INFO:pgn2data - log_time:initializing at...2023-10-24 17:42:47.422101\n",
      "INFO:pgn2data - pgn_data class:Starting process..\n",
      "INFO:pgn2data - process:Processing games and moves in file:./All pgn/jiit9122022-07.pgn\n",
      "INFO:pgn2data - pgn_data class:ending process..\n",
      "INFO:pgn2data - log_time:time taken sec: 0.43308430000001863 sec\n",
      "INFO:pgn2data - log_time:time taken: 0.43308430000001863 seconds, \n",
      "INFO:pgn2data - log_time:time started...2023-10-24 17:42:47.422101\n",
      "INFO:pgn2data - log_time:time ended.....2023-10-24 17:42:47.857432\n",
      "INFO:pgn2data - log_time:initializing at...2023-10-24 17:42:47.858448\n",
      "INFO:pgn2data - pgn_data class:Starting process..\n",
      "INFO:pgn2data - process:Processing games and moves in file:./All pgn/jiit9122022-09.pgn\n"
     ]
    },
    {
     "name": "stdout",
     "output_type": "stream",
     "text": [
      "is complete: True\n",
      "games file: jiit9122022-07_game_info.csv | size: 2760\n",
      "moves file: jiit9122022-07_moves.csv | size: 163797\n"
     ]
    },
    {
     "name": "stderr",
     "output_type": "stream",
     "text": [
      "INFO:pgn2data - pgn_data class:ending process..\n",
      "INFO:pgn2data - log_time:time taken sec: 0.25981380000001764 sec\n",
      "INFO:pgn2data - log_time:time taken: 0.25981380000001764 seconds, \n",
      "INFO:pgn2data - log_time:time started...2023-10-24 17:42:47.858448\n",
      "INFO:pgn2data - log_time:time ended.....2023-10-24 17:42:48.122042\n",
      "INFO:pgn2data - log_time:initializing at...2023-10-24 17:42:48.123024\n",
      "INFO:pgn2data - pgn_data class:Starting process..\n",
      "INFO:pgn2data - process:Processing games and moves in file:./All pgn/jiit9122022-09.pgn\n",
      "INFO:pgn2data - pgn_data class:ending process..\n",
      "INFO:pgn2data - log_time:time taken sec: 0.24275169999998525 sec\n",
      "INFO:pgn2data - log_time:time taken: 0.24275169999998525 seconds, \n",
      "INFO:pgn2data - log_time:time started...2023-10-24 17:42:48.123024\n",
      "INFO:pgn2data - log_time:time ended.....2023-10-24 17:42:48.368976\n",
      "INFO:pgn2data - log_time:initializing at...2023-10-24 17:42:48.370982\n",
      "INFO:pgn2data - pgn_data class:Starting process..\n",
      "INFO:pgn2data - process:Processing games and moves in file:./All pgn/jiit9122022-10.pgn\n"
     ]
    },
    {
     "name": "stdout",
     "output_type": "stream",
     "text": [
      "is complete: True\n",
      "games file: jiit9122022-09_game_info.csv | size: 1297\n",
      "moves file: jiit9122022-09_moves.csv | size: 98075\n"
     ]
    },
    {
     "name": "stderr",
     "output_type": "stream",
     "text": [
      "INFO:pgn2data - pgn_data class:ending process..\n",
      "INFO:pgn2data - log_time:time taken sec: 0.22444719999998597 sec\n",
      "INFO:pgn2data - log_time:time taken: 0.22444719999998597 seconds, \n",
      "INFO:pgn2data - log_time:time started...2023-10-24 17:42:48.370982\n",
      "INFO:pgn2data - log_time:time ended.....2023-10-24 17:42:48.597796\n",
      "INFO:pgn2data - log_time:initializing at...2023-10-24 17:42:48.598308\n",
      "INFO:pgn2data - pgn_data class:Starting process..\n",
      "INFO:pgn2data - process:Processing games and moves in file:./All pgn/jiit9122022-10.pgn\n",
      "INFO:pgn2data - pgn_data class:ending process..\n",
      "INFO:pgn2data - log_time:time taken sec: 0.24123369999995248 sec\n",
      "INFO:pgn2data - log_time:time taken: 0.24123369999995248 seconds, \n",
      "INFO:pgn2data - log_time:time started...2023-10-24 17:42:48.598308\n",
      "INFO:pgn2data - log_time:time ended.....2023-10-24 17:42:48.842785\n",
      "INFO:pgn2data - log_time:initializing at...2023-10-24 17:42:48.845398\n",
      "INFO:pgn2data - pgn_data class:Starting process..\n",
      "INFO:pgn2data - process:Processing games and moves in file:./All pgn/jiit9122023-02.pgn\n",
      "INFO:pgn2data - pgn_data class:ending process..\n",
      "INFO:pgn2data - log_time:time taken sec: 0.06062059999999292 sec\n",
      "INFO:pgn2data - log_time:time taken: 0.06062059999999292 seconds, \n",
      "INFO:pgn2data - log_time:time started...2023-10-24 17:42:48.845398\n",
      "INFO:pgn2data - log_time:time ended.....2023-10-24 17:42:48.911490\n",
      "INFO:pgn2data - log_time:initializing at...2023-10-24 17:42:48.914536\n",
      "INFO:pgn2data - pgn_data class:Starting process..\n",
      "INFO:pgn2data - process:Processing games and moves in file:./All pgn/jiit9122023-02.pgn\n",
      "INFO:pgn2data - pgn_data class:ending process..\n",
      "INFO:pgn2data - log_time:time taken sec: 0.05557490000001053 sec\n",
      "INFO:pgn2data - log_time:time taken: 0.05557490000001053 seconds, \n",
      "INFO:pgn2data - log_time:time started...2023-10-24 17:42:48.914536\n",
      "INFO:pgn2data - log_time:time ended.....2023-10-24 17:42:48.976041\n",
      "INFO:pgn2data - log_time:initializing at...2023-10-24 17:42:48.980298\n",
      "INFO:pgn2data - pgn_data class:Starting process..\n",
      "INFO:pgn2data - process:Processing games and moves in file:./All pgn/jiit9122023-03.pgn\n"
     ]
    },
    {
     "name": "stdout",
     "output_type": "stream",
     "text": [
      "is complete: True\n",
      "games file: jiit9122022-10_game_info.csv | size: 822\n",
      "moves file: jiit9122022-10_moves.csv | size: 72463\n",
      "is complete: True\n",
      "games file: jiit9122023-02_game_info.csv | size: 551\n",
      "moves file: jiit9122023-02_moves.csv | size: 11621\n"
     ]
    },
    {
     "name": "stderr",
     "output_type": "stream",
     "text": [
      "INFO:pgn2data - pgn_data class:ending process..\n",
      "INFO:pgn2data - log_time:time taken sec: 0.43143760000003795 sec\n",
      "INFO:pgn2data - log_time:time taken: 0.43143760000003795 seconds, \n",
      "INFO:pgn2data - log_time:time started...2023-10-24 17:42:48.980298\n",
      "INFO:pgn2data - log_time:time ended.....2023-10-24 17:42:49.413756\n",
      "INFO:pgn2data - log_time:initializing at...2023-10-24 17:42:49.415171\n",
      "INFO:pgn2data - pgn_data class:Starting process..\n",
      "INFO:pgn2data - process:Processing games and moves in file:./All pgn/jiit9122023-03.pgn\n",
      "INFO:pgn2data - pgn_data class:ending process..\n",
      "INFO:pgn2data - log_time:time taken sec: 0.34171309999999266 sec\n",
      "INFO:pgn2data - log_time:time taken: 0.34171309999999266 seconds, \n",
      "INFO:pgn2data - log_time:time started...2023-10-24 17:42:49.415171\n",
      "INFO:pgn2data - log_time:time ended.....2023-10-24 17:42:49.759403\n",
      "INFO:pgn2data - log_time:initializing at...2023-10-24 17:42:49.760916\n",
      "INFO:pgn2data - pgn_data class:Starting process..\n",
      "INFO:pgn2data - process:Processing games and moves in file:./All pgn/jiit9122023-05.pgn\n"
     ]
    },
    {
     "name": "stdout",
     "output_type": "stream",
     "text": [
      "is complete: True\n",
      "games file: jiit9122023-03_game_info.csv | size: 1513\n",
      "moves file: jiit9122023-03_moves.csv | size: 124601\n"
     ]
    },
    {
     "name": "stderr",
     "output_type": "stream",
     "text": [
      "INFO:pgn2data - pgn_data class:ending process..\n",
      "INFO:pgn2data - log_time:time taken sec: 0.5521139000000517 sec\n",
      "INFO:pgn2data - log_time:time taken: 0.5521139000000517 seconds, \n",
      "INFO:pgn2data - log_time:time started...2023-10-24 17:42:49.760916\n",
      "INFO:pgn2data - log_time:time ended.....2023-10-24 17:42:50.314319\n",
      "INFO:pgn2data - log_time:initializing at...2023-10-24 17:42:50.315814\n",
      "INFO:pgn2data - pgn_data class:Starting process..\n",
      "INFO:pgn2data - process:Processing games and moves in file:./All pgn/jiit9122023-05.pgn\n",
      "INFO:pgn2data - pgn_data class:ending process..\n",
      "INFO:pgn2data - log_time:time taken sec: 0.5869586000000027 sec\n",
      "INFO:pgn2data - log_time:time taken: 0.5869586000000027 seconds, \n",
      "INFO:pgn2data - log_time:time started...2023-10-24 17:42:50.315814\n",
      "INFO:pgn2data - log_time:time ended.....2023-10-24 17:42:50.904766\n",
      "INFO:pgn2data - log_time:initializing at...2023-10-24 17:42:50.905765\n",
      "INFO:pgn2data - pgn_data class:Starting process..\n",
      "INFO:pgn2data - process:Processing games and moves in file:./All pgn/jiit9122023-06.pgn\n"
     ]
    },
    {
     "name": "stdout",
     "output_type": "stream",
     "text": [
      "is complete: True\n",
      "games file: jiit9122023-05_game_info.csv | size: 3261\n",
      "moves file: jiit9122023-05_moves.csv | size: 254275\n"
     ]
    },
    {
     "name": "stderr",
     "output_type": "stream",
     "text": [
      "INFO:pgn2data - pgn_data class:ending process..\n",
      "INFO:pgn2data - log_time:time taken sec: 0.22558259999999564 sec\n",
      "INFO:pgn2data - log_time:time taken: 0.22558259999999564 seconds, \n",
      "INFO:pgn2data - log_time:time started...2023-10-24 17:42:50.905765\n",
      "INFO:pgn2data - log_time:time ended.....2023-10-24 17:42:51.132993\n",
      "INFO:pgn2data - log_time:initializing at...2023-10-24 17:42:51.134377\n",
      "INFO:pgn2data - pgn_data class:Starting process..\n",
      "INFO:pgn2data - process:Processing games and moves in file:./All pgn/jiit9122023-06.pgn\n",
      "INFO:pgn2data - pgn_data class:ending process..\n",
      "INFO:pgn2data - log_time:time taken sec: 0.16581530000001976 sec\n",
      "INFO:pgn2data - log_time:time taken: 0.16581530000001976 seconds, \n",
      "INFO:pgn2data - log_time:time started...2023-10-24 17:42:51.134377\n",
      "INFO:pgn2data - log_time:time ended.....2023-10-24 17:42:51.301562\n",
      "INFO:pgn2data - log_time:initializing at...2023-10-24 17:42:51.302946\n",
      "INFO:pgn2data - pgn_data class:Starting process..\n",
      "INFO:pgn2data - process:Processing games and moves in file:./All pgn/jiit9122023-07.pgn\n"
     ]
    },
    {
     "name": "stdout",
     "output_type": "stream",
     "text": [
      "is complete: True\n",
      "games file: jiit9122023-06_game_info.csv | size: 1263\n",
      "moves file: jiit9122023-06_moves.csv | size: 79073\n"
     ]
    },
    {
     "name": "stderr",
     "output_type": "stream",
     "text": [
      "INFO:pgn2data - pgn_data class:ending process..\n",
      "INFO:pgn2data - log_time:time taken sec: 0.29025799999999435 sec\n",
      "INFO:pgn2data - log_time:time taken: 0.29025799999999435 seconds, \n",
      "INFO:pgn2data - log_time:time started...2023-10-24 17:42:51.302946\n",
      "INFO:pgn2data - log_time:time ended.....2023-10-24 17:42:51.595725\n",
      "INFO:pgn2data - log_time:initializing at...2023-10-24 17:42:51.596726\n",
      "INFO:pgn2data - pgn_data class:Starting process..\n",
      "INFO:pgn2data - process:Processing games and moves in file:./All pgn/jiit9122023-07.pgn\n",
      "INFO:pgn2data - pgn_data class:ending process..\n",
      "INFO:pgn2data - log_time:time taken sec: 0.27082480000001397 sec\n",
      "INFO:pgn2data - log_time:time taken: 0.27082480000001397 seconds, \n",
      "INFO:pgn2data - log_time:time started...2023-10-24 17:42:51.596726\n",
      "INFO:pgn2data - log_time:time ended.....2023-10-24 17:42:51.869920\n",
      "INFO:pgn2data - log_time:initializing at...2023-10-24 17:42:51.871460\n",
      "INFO:pgn2data - pgn_data class:Starting process..\n",
      "INFO:pgn2data - process:Processing games and moves in file:./All pgn/jiit9122023-08.pgn\n"
     ]
    },
    {
     "name": "stdout",
     "output_type": "stream",
     "text": [
      "is complete: True\n",
      "games file: jiit9122023-07_game_info.csv | size: 1529\n",
      "moves file: jiit9122023-07_moves.csv | size: 129766\n"
     ]
    },
    {
     "name": "stderr",
     "output_type": "stream",
     "text": [
      "INFO:pgn2data - pgn_data class:ending process..\n",
      "INFO:pgn2data - log_time:time taken sec: 1.5424314999999638 sec\n",
      "INFO:pgn2data - log_time:time taken: 1.5424314999999638 seconds, \n",
      "INFO:pgn2data - log_time:time started...2023-10-24 17:42:51.871460\n",
      "INFO:pgn2data - log_time:time ended.....2023-10-24 17:42:53.417560\n",
      "INFO:pgn2data - log_time:initializing at...2023-10-24 17:42:53.418563\n",
      "INFO:pgn2data - pgn_data class:Starting process..\n",
      "INFO:pgn2data - process:Processing games and moves in file:./All pgn/jiit9122023-08.pgn\n",
      "INFO:pgn2data - pgn_data class:ending process..\n",
      "INFO:pgn2data - log_time:time taken sec: 1.3286853999999835 sec\n",
      "INFO:pgn2data - log_time:time taken: 1.3286853999999835 seconds, \n",
      "INFO:pgn2data - log_time:time started...2023-10-24 17:42:53.418563\n",
      "INFO:pgn2data - log_time:time ended.....2023-10-24 17:42:54.749395\n",
      "INFO:pgn2data - log_time:initializing at...2023-10-24 17:42:54.751396\n",
      "INFO:pgn2data - pgn_data class:Starting process..\n",
      "INFO:pgn2data - process:Processing games and moves in file:./All pgn/jiit9122023-09.pgn\n"
     ]
    },
    {
     "name": "stdout",
     "output_type": "stream",
     "text": [
      "is complete: True\n",
      "games file: jiit9122023-08_game_info.csv | size: 6833\n",
      "moves file: jiit9122023-08_moves.csv | size: 600118\n"
     ]
    },
    {
     "name": "stderr",
     "output_type": "stream",
     "text": [
      "INFO:pgn2data - pgn_data class:ending process..\n",
      "INFO:pgn2data - log_time:time taken sec: 1.0222077999999897 sec\n",
      "INFO:pgn2data - log_time:time taken: 1.0222077999999897 seconds, \n",
      "INFO:pgn2data - log_time:time started...2023-10-24 17:42:54.751396\n",
      "INFO:pgn2data - log_time:time ended.....2023-10-24 17:42:55.776624\n",
      "INFO:pgn2data - log_time:initializing at...2023-10-24 17:42:55.778151\n",
      "INFO:pgn2data - pgn_data class:Starting process..\n",
      "INFO:pgn2data - process:Processing games and moves in file:./All pgn/jiit9122023-09.pgn\n",
      "INFO:pgn2data - pgn_data class:ending process..\n",
      "INFO:pgn2data - log_time:time taken sec: 0.8511589999999956 sec\n",
      "INFO:pgn2data - log_time:time taken: 0.8511589999999956 seconds, \n",
      "INFO:pgn2data - log_time:time started...2023-10-24 17:42:55.778151\n",
      "INFO:pgn2data - log_time:time ended.....2023-10-24 17:42:56.630743\n",
      "INFO:pgn2data - log_time:initializing at...2023-10-24 17:42:56.632186\n",
      "INFO:pgn2data - pgn_data class:Starting process..\n",
      "INFO:pgn2data - process:Processing games and moves in file:./All pgn/jiit9122023-10.pgn\n"
     ]
    },
    {
     "name": "stdout",
     "output_type": "stream",
     "text": [
      "is complete: True\n",
      "games file: jiit9122023-09_game_info.csv | size: 3948\n",
      "moves file: jiit9122023-09_moves.csv | size: 347631\n"
     ]
    },
    {
     "name": "stderr",
     "output_type": "stream",
     "text": [
      "INFO:pgn2data - pgn_data class:ending process..\n",
      "INFO:pgn2data - log_time:time taken sec: 0.7512585999999715 sec\n",
      "INFO:pgn2data - log_time:time taken: 0.7512585999999715 seconds, \n",
      "INFO:pgn2data - log_time:time started...2023-10-24 17:42:56.632186\n",
      "INFO:pgn2data - log_time:time ended.....2023-10-24 17:42:57.384794\n",
      "INFO:pgn2data - log_time:initializing at...2023-10-24 17:42:57.386150\n",
      "INFO:pgn2data - pgn_data class:Starting process..\n",
      "INFO:pgn2data - process:Processing games and moves in file:./All pgn/jiit9122023-10.pgn\n",
      "INFO:pgn2data - pgn_data class:ending process..\n",
      "INFO:pgn2data - log_time:time taken sec: 0.7033552999999984 sec\n",
      "INFO:pgn2data - log_time:time taken: 0.7033552999999984 seconds, \n",
      "INFO:pgn2data - log_time:time started...2023-10-24 17:42:57.386150\n",
      "INFO:pgn2data - log_time:time ended.....2023-10-24 17:42:58.091770\n"
     ]
    },
    {
     "name": "stdout",
     "output_type": "stream",
     "text": [
      "is complete: True\n",
      "games file: jiit9122023-10_game_info.csv | size: 4155\n",
      "moves file: jiit9122023-10_moves.csv | size: 304659\n"
     ]
    }
   ],
   "source": [
    "for filename in filenames:\n",
    "    pgn_data = PGNData('./All pgn/'+ username + filename)\n",
    "    pgn_data.export()\n",
    "    result = pgn_data.export()\n",
    "    result.print_summary()"
   ]
  },
  {
   "cell_type": "code",
   "execution_count": 24,
   "id": "9458ea3f",
   "metadata": {},
   "outputs": [
    {
     "data": {
      "text/plain": [
       "['2019-10.pgn',\n",
       " '2019-11.pgn',\n",
       " '2020-04.pgn',\n",
       " '2020-05.pgn',\n",
       " '2020-06.pgn',\n",
       " '2020-07.pgn',\n",
       " '2020-08.pgn',\n",
       " '2020-09.pgn',\n",
       " '2020-10.pgn',\n",
       " '2020-11.pgn',\n",
       " '2020-12.pgn',\n",
       " '2021-01.pgn',\n",
       " '2021-02.pgn',\n",
       " '2021-03.pgn',\n",
       " '2021-04.pgn',\n",
       " '2021-05.pgn',\n",
       " '2021-06.pgn',\n",
       " '2021-07.pgn',\n",
       " '2021-08.pgn',\n",
       " '2021-09.pgn',\n",
       " '2021-10.pgn',\n",
       " '2021-11.pgn',\n",
       " '2021-12.pgn',\n",
       " '2022-01.pgn',\n",
       " '2022-02.pgn',\n",
       " '2022-03.pgn',\n",
       " '2022-04.pgn',\n",
       " '2022-05.pgn',\n",
       " '2022-06.pgn',\n",
       " '2022-07.pgn',\n",
       " '2022-09.pgn',\n",
       " '2022-10.pgn',\n",
       " '2023-02.pgn',\n",
       " '2023-03.pgn',\n",
       " '2023-05.pgn',\n",
       " '2023-06.pgn',\n",
       " '2023-07.pgn',\n",
       " '2023-08.pgn',\n",
       " '2023-09.pgn',\n",
       " '2023-10.pgn']"
      ]
     },
     "execution_count": 24,
     "metadata": {},
     "output_type": "execute_result"
    }
   ],
   "source": [
    "filenames"
   ]
  },
  {
   "cell_type": "code",
   "execution_count": null,
   "id": "08777dec",
   "metadata": {},
   "outputs": [],
   "source": [
    "pgn_data = PGNData('lichess_jiit912_2023-09-19.pgn')\n",
    "pgn_data.export()\n",
    "result = pgn_data.export()\n",
    "result.print_summary()"
   ]
  },
  {
   "cell_type": "markdown",
   "id": "88830205",
   "metadata": {},
   "source": [
    "## Moved all games csv to Game Data Folder And moves csv to move data folder"
   ]
  }
 ],
 "metadata": {
  "kernelspec": {
   "display_name": "Python 3 (ipykernel)",
   "language": "python",
   "name": "python3"
  },
  "language_info": {
   "codemirror_mode": {
    "name": "ipython",
    "version": 3
   },
   "file_extension": ".py",
   "mimetype": "text/x-python",
   "name": "python",
   "nbconvert_exporter": "python",
   "pygments_lexer": "ipython3",
   "version": "3.8.17"
  }
 },
 "nbformat": 4,
 "nbformat_minor": 5
}
