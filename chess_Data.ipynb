{
 "cells": [
  {
   "cell_type": "code",
   "execution_count": 1,
   "id": "d93164e3",
   "metadata": {},
   "outputs": [
    {
     "name": "stdout",
     "output_type": "stream",
     "text": [
      "Requirement already satisfied: pgn2data in c:\\users\\dell\\anaconda3\\envs\\anaconda\\lib\\site-packages (0.0.9)Note: you may need to restart the kernel to use updated packages.\n",
      "\n",
      "Requirement already satisfied: chess in c:\\users\\dell\\anaconda3\\envs\\anaconda\\lib\\site-packages (from pgn2data) (1.10.0)\n",
      "Requirement already satisfied: pandas in c:\\users\\dell\\anaconda3\\envs\\anaconda\\lib\\site-packages (from pgn2data) (2.0.3)\n",
      "Requirement already satisfied: python-dateutil>=2.8.2 in c:\\users\\dell\\anaconda3\\envs\\anaconda\\lib\\site-packages (from pandas->pgn2data) (2.8.2)\n",
      "Requirement already satisfied: pytz>=2020.1 in c:\\users\\dell\\anaconda3\\envs\\anaconda\\lib\\site-packages (from pandas->pgn2data) (2023.3)\n",
      "Requirement already satisfied: tzdata>=2022.1 in c:\\users\\dell\\anaconda3\\envs\\anaconda\\lib\\site-packages (from pandas->pgn2data) (2023.3)\n",
      "Requirement already satisfied: numpy>=1.20.3 in c:\\users\\dell\\anaconda3\\envs\\anaconda\\lib\\site-packages (from pandas->pgn2data) (1.24.4)\n",
      "Requirement already satisfied: six>=1.5 in c:\\users\\dell\\anaconda3\\envs\\anaconda\\lib\\site-packages (from python-dateutil>=2.8.2->pandas->pgn2data) (1.16.0)\n"
     ]
    }
   ],
   "source": [
    "pip install pgn2data"
   ]
  },
  {
   "cell_type": "code",
   "execution_count": 1,
   "id": "84e2d77f",
   "metadata": {},
   "outputs": [],
   "source": [
    "from converter.pgn_data import PGNData\n",
    "import pandas as pd\n",
    "import numpy as np\n",
    "import plotly.express as px\n",
    "import os\n",
    "from pathlib import Path"
   ]
  },
  {
   "cell_type": "code",
   "execution_count": 2,
   "id": "045f5554",
   "metadata": {},
   "outputs": [],
   "source": [
    "import matplotlib.pyplot as plt\n",
    "%matplotlib inline\n",
    "import seaborn as sns"
   ]
  },
  {
   "cell_type": "code",
   "execution_count": 3,
   "id": "969d6929",
   "metadata": {},
   "outputs": [],
   "source": [
    "path='./Games Data/'\n",
    "combine = []\n",
    "for filename in os.listdir(path):\n",
    "    if filename.endswith('.csv'):\n",
    "        # Construct the full path of the CSV file\n",
    "        file_path = os.path.join(path, filename)\n",
    "        \n",
    "        # Read the CSV file into a DataFrame using pandas\n",
    "        df = pd.read_csv(file_path)\n",
    "        \n",
    "        # Append the DataFrame to the list\n",
    "        combine.append(df)"
   ]
  },
  {
   "cell_type": "code",
   "execution_count": 4,
   "id": "a63dc8d9",
   "metadata": {},
   "outputs": [
    {
     "data": {
      "text/html": [
       "<div>\n",
       "<style scoped>\n",
       "    .dataframe tbody tr th:only-of-type {\n",
       "        vertical-align: middle;\n",
       "    }\n",
       "\n",
       "    .dataframe tbody tr th {\n",
       "        vertical-align: top;\n",
       "    }\n",
       "\n",
       "    .dataframe thead th {\n",
       "        text-align: right;\n",
       "    }\n",
       "</style>\n",
       "<table border=\"1\" class=\"dataframe\">\n",
       "  <thead>\n",
       "    <tr style=\"text-align: right;\">\n",
       "      <th></th>\n",
       "      <th>game_id</th>\n",
       "      <th>game_order</th>\n",
       "      <th>event</th>\n",
       "      <th>site</th>\n",
       "      <th>date_played</th>\n",
       "      <th>round</th>\n",
       "      <th>white</th>\n",
       "      <th>black</th>\n",
       "      <th>result</th>\n",
       "      <th>white_elo</th>\n",
       "      <th>...</th>\n",
       "      <th>winner_loser_elo_diff</th>\n",
       "      <th>eco</th>\n",
       "      <th>termination</th>\n",
       "      <th>time_control</th>\n",
       "      <th>utc_date</th>\n",
       "      <th>utc_time</th>\n",
       "      <th>variant</th>\n",
       "      <th>ply_count</th>\n",
       "      <th>date_created</th>\n",
       "      <th>file_name</th>\n",
       "    </tr>\n",
       "  </thead>\n",
       "  <tbody>\n",
       "    <tr>\n",
       "      <th>0</th>\n",
       "      <td>7d5fd681-2e65-43f9-8ce4-82b86169a109</td>\n",
       "      <td>1</td>\n",
       "      <td>Live Chess</td>\n",
       "      <td>Chess.com</td>\n",
       "      <td>2020.04.29</td>\n",
       "      <td>-</td>\n",
       "      <td>jiit9124</td>\n",
       "      <td>zugirdor</td>\n",
       "      <td>0-1</td>\n",
       "      <td>845</td>\n",
       "      <td>...</td>\n",
       "      <td>37</td>\n",
       "      <td>C40</td>\n",
       "      <td>zugirdor won by checkmate</td>\n",
       "      <td>600</td>\n",
       "      <td>2020.04.29</td>\n",
       "      <td>06:43:59</td>\n",
       "      <td>NaN</td>\n",
       "      <td>NaN</td>\n",
       "      <td>2023-10-24T16:56:14+0000</td>\n",
       "      <td>2020-04.pgn</td>\n",
       "    </tr>\n",
       "    <tr>\n",
       "      <th>1</th>\n",
       "      <td>313eaa89-bd69-4c79-8fb4-27eaec1c545f</td>\n",
       "      <td>2</td>\n",
       "      <td>Live Chess</td>\n",
       "      <td>Chess.com</td>\n",
       "      <td>2020.04.28</td>\n",
       "      <td>-</td>\n",
       "      <td>jiit9124</td>\n",
       "      <td>aspatil1006</td>\n",
       "      <td>1/2-1/2</td>\n",
       "      <td>897</td>\n",
       "      <td>...</td>\n",
       "      <td>0</td>\n",
       "      <td>C20</td>\n",
       "      <td>Game drawn by repetition</td>\n",
       "      <td>600</td>\n",
       "      <td>2020.04.28</td>\n",
       "      <td>09:18:13</td>\n",
       "      <td>NaN</td>\n",
       "      <td>NaN</td>\n",
       "      <td>2023-10-24T16:56:14+0000</td>\n",
       "      <td>2020-04.pgn</td>\n",
       "    </tr>\n",
       "    <tr>\n",
       "      <th>2</th>\n",
       "      <td>c52003a2-3878-41ec-89f9-216bb6cf5d4e</td>\n",
       "      <td>3</td>\n",
       "      <td>Live Chess</td>\n",
       "      <td>Chess.com</td>\n",
       "      <td>2020.04.28</td>\n",
       "      <td>-</td>\n",
       "      <td>DoNaT2K</td>\n",
       "      <td>jiit9124</td>\n",
       "      <td>1-0</td>\n",
       "      <td>954</td>\n",
       "      <td>...</td>\n",
       "      <td>159</td>\n",
       "      <td>B01</td>\n",
       "      <td>DoNaT2K won by checkmate</td>\n",
       "      <td>900+10</td>\n",
       "      <td>2020.04.28</td>\n",
       "      <td>08:35:09</td>\n",
       "      <td>NaN</td>\n",
       "      <td>NaN</td>\n",
       "      <td>2023-10-24T16:56:14+0000</td>\n",
       "      <td>2020-04.pgn</td>\n",
       "    </tr>\n",
       "    <tr>\n",
       "      <th>3</th>\n",
       "      <td>55388fdd-e538-4bdf-9809-af4f1a6eb274</td>\n",
       "      <td>4</td>\n",
       "      <td>Live Chess</td>\n",
       "      <td>Chess.com</td>\n",
       "      <td>2020.04.28</td>\n",
       "      <td>-</td>\n",
       "      <td>khan2260</td>\n",
       "      <td>jiit9124</td>\n",
       "      <td>0-1</td>\n",
       "      <td>827</td>\n",
       "      <td>...</td>\n",
       "      <td>75</td>\n",
       "      <td>B10</td>\n",
       "      <td>jiit9124 won by checkmate</td>\n",
       "      <td>600</td>\n",
       "      <td>2020.04.28</td>\n",
       "      <td>08:19:11</td>\n",
       "      <td>NaN</td>\n",
       "      <td>NaN</td>\n",
       "      <td>2023-10-24T16:56:14+0000</td>\n",
       "      <td>2020-04.pgn</td>\n",
       "    </tr>\n",
       "    <tr>\n",
       "      <th>4</th>\n",
       "      <td>ed4ad15d-b1c4-4fec-9956-5dce2892599b</td>\n",
       "      <td>5</td>\n",
       "      <td>Live Chess</td>\n",
       "      <td>Chess.com</td>\n",
       "      <td>2020.04.27</td>\n",
       "      <td>-</td>\n",
       "      <td>jiit9124</td>\n",
       "      <td>solankigaurav26</td>\n",
       "      <td>1-0</td>\n",
       "      <td>833</td>\n",
       "      <td>...</td>\n",
       "      <td>15</td>\n",
       "      <td>C41</td>\n",
       "      <td>jiit9124 won on time</td>\n",
       "      <td>600</td>\n",
       "      <td>2020.04.27</td>\n",
       "      <td>10:10:45</td>\n",
       "      <td>NaN</td>\n",
       "      <td>NaN</td>\n",
       "      <td>2023-10-24T16:56:14+0000</td>\n",
       "      <td>2020-04.pgn</td>\n",
       "    </tr>\n",
       "    <tr>\n",
       "      <th>...</th>\n",
       "      <td>...</td>\n",
       "      <td>...</td>\n",
       "      <td>...</td>\n",
       "      <td>...</td>\n",
       "      <td>...</td>\n",
       "      <td>...</td>\n",
       "      <td>...</td>\n",
       "      <td>...</td>\n",
       "      <td>...</td>\n",
       "      <td>...</td>\n",
       "      <td>...</td>\n",
       "      <td>...</td>\n",
       "      <td>...</td>\n",
       "      <td>...</td>\n",
       "      <td>...</td>\n",
       "      <td>...</td>\n",
       "      <td>...</td>\n",
       "      <td>...</td>\n",
       "      <td>...</td>\n",
       "      <td>...</td>\n",
       "      <td>...</td>\n",
       "    </tr>\n",
       "    <tr>\n",
       "      <th>6348</th>\n",
       "      <td>e5635bc2-4166-421a-84fe-8a28144aa630</td>\n",
       "      <td>585</td>\n",
       "      <td>Div 2 : 1000-1200</td>\n",
       "      <td>https://lichess.org/JbQgKHDF</td>\n",
       "      <td>2021.01.29</td>\n",
       "      <td>?</td>\n",
       "      <td>jiit912</td>\n",
       "      <td>shreshthsarda14</td>\n",
       "      <td>1-0</td>\n",
       "      <td>1195</td>\n",
       "      <td>...</td>\n",
       "      <td>-92</td>\n",
       "      <td>A40</td>\n",
       "      <td>Time forfeit</td>\n",
       "      <td>300+3</td>\n",
       "      <td>2021.01.29</td>\n",
       "      <td>14:23:56</td>\n",
       "      <td>Standard</td>\n",
       "      <td>NaN</td>\n",
       "      <td>2023-10-24T16:36:09+0000</td>\n",
       "      <td>lichess_jiit912_2023-10-24.pgn</td>\n",
       "    </tr>\n",
       "    <tr>\n",
       "      <th>6349</th>\n",
       "      <td>24632ec4-4c02-4a70-b5c1-c97f811b641e</td>\n",
       "      <td>586</td>\n",
       "      <td>Div 2 : 1000-1200</td>\n",
       "      <td>https://lichess.org/VD6xABFE</td>\n",
       "      <td>2021.01.29</td>\n",
       "      <td>?</td>\n",
       "      <td>H_K_1_4</td>\n",
       "      <td>jiit912</td>\n",
       "      <td>1-0</td>\n",
       "      <td>1309</td>\n",
       "      <td>...</td>\n",
       "      <td>23</td>\n",
       "      <td>B20</td>\n",
       "      <td>Normal</td>\n",
       "      <td>300+3</td>\n",
       "      <td>2021.01.29</td>\n",
       "      <td>14:09:10</td>\n",
       "      <td>Standard</td>\n",
       "      <td>NaN</td>\n",
       "      <td>2023-10-24T16:36:09+0000</td>\n",
       "      <td>lichess_jiit912_2023-10-24.pgn</td>\n",
       "    </tr>\n",
       "    <tr>\n",
       "      <th>6350</th>\n",
       "      <td>06e07828-54fd-42af-ab2b-27e875a497b7</td>\n",
       "      <td>587</td>\n",
       "      <td>Div 2 : 1000-1200</td>\n",
       "      <td>https://lichess.org/w6L6vmXl</td>\n",
       "      <td>2021.01.29</td>\n",
       "      <td>?</td>\n",
       "      <td>jiit912</td>\n",
       "      <td>Sourav_Edits</td>\n",
       "      <td>0-1</td>\n",
       "      <td>1444</td>\n",
       "      <td>...</td>\n",
       "      <td>-246</td>\n",
       "      <td>D20</td>\n",
       "      <td>Normal</td>\n",
       "      <td>300+3</td>\n",
       "      <td>2021.01.29</td>\n",
       "      <td>13:59:15</td>\n",
       "      <td>Standard</td>\n",
       "      <td>NaN</td>\n",
       "      <td>2023-10-24T16:36:09+0000</td>\n",
       "      <td>lichess_jiit912_2023-10-24.pgn</td>\n",
       "    </tr>\n",
       "    <tr>\n",
       "      <th>6351</th>\n",
       "      <td>c43d50a2-d0ac-46e4-8a8f-04b44b8c288e</td>\n",
       "      <td>588</td>\n",
       "      <td>Div 2 : 1000-1200</td>\n",
       "      <td>https://lichess.org/l2iw6mCA</td>\n",
       "      <td>2021.01.29</td>\n",
       "      <td>?</td>\n",
       "      <td>jiit912</td>\n",
       "      <td>rahil_mittal</td>\n",
       "      <td>0-1</td>\n",
       "      <td>1699</td>\n",
       "      <td>...</td>\n",
       "      <td>-227</td>\n",
       "      <td>D08</td>\n",
       "      <td>Normal</td>\n",
       "      <td>300+3</td>\n",
       "      <td>2021.01.29</td>\n",
       "      <td>13:45:40</td>\n",
       "      <td>Standard</td>\n",
       "      <td>NaN</td>\n",
       "      <td>2023-10-24T16:36:09+0000</td>\n",
       "      <td>lichess_jiit912_2023-10-24.pgn</td>\n",
       "    </tr>\n",
       "    <tr>\n",
       "      <th>6352</th>\n",
       "      <td>6f11c68a-8a12-4ef7-a83d-3846a8ceb6a9</td>\n",
       "      <td>589</td>\n",
       "      <td>Div 2 : 1000-1200</td>\n",
       "      <td>https://lichess.org/Ky2UlPxY</td>\n",
       "      <td>2021.01.29</td>\n",
       "      <td>?</td>\n",
       "      <td>ADITYEAH</td>\n",
       "      <td>jiit912</td>\n",
       "      <td>0-1</td>\n",
       "      <td>1433</td>\n",
       "      <td>...</td>\n",
       "      <td>67</td>\n",
       "      <td>A43</td>\n",
       "      <td>Normal</td>\n",
       "      <td>300+3</td>\n",
       "      <td>2021.01.29</td>\n",
       "      <td>13:30:01</td>\n",
       "      <td>Standard</td>\n",
       "      <td>NaN</td>\n",
       "      <td>2023-10-24T16:36:09+0000</td>\n",
       "      <td>lichess_jiit912_2023-10-24.pgn</td>\n",
       "    </tr>\n",
       "  </tbody>\n",
       "</table>\n",
       "<p>6353 rows × 29 columns</p>\n",
       "</div>"
      ],
      "text/plain": [
       "                                   game_id  game_order              event  \\\n",
       "0     7d5fd681-2e65-43f9-8ce4-82b86169a109           1         Live Chess   \n",
       "1     313eaa89-bd69-4c79-8fb4-27eaec1c545f           2         Live Chess   \n",
       "2     c52003a2-3878-41ec-89f9-216bb6cf5d4e           3         Live Chess   \n",
       "3     55388fdd-e538-4bdf-9809-af4f1a6eb274           4         Live Chess   \n",
       "4     ed4ad15d-b1c4-4fec-9956-5dce2892599b           5         Live Chess   \n",
       "...                                    ...         ...                ...   \n",
       "6348  e5635bc2-4166-421a-84fe-8a28144aa630         585  Div 2 : 1000-1200   \n",
       "6349  24632ec4-4c02-4a70-b5c1-c97f811b641e         586  Div 2 : 1000-1200   \n",
       "6350  06e07828-54fd-42af-ab2b-27e875a497b7         587  Div 2 : 1000-1200   \n",
       "6351  c43d50a2-d0ac-46e4-8a8f-04b44b8c288e         588  Div 2 : 1000-1200   \n",
       "6352  6f11c68a-8a12-4ef7-a83d-3846a8ceb6a9         589  Div 2 : 1000-1200   \n",
       "\n",
       "                              site date_played round     white  \\\n",
       "0                        Chess.com  2020.04.29     -  jiit9124   \n",
       "1                        Chess.com  2020.04.28     -  jiit9124   \n",
       "2                        Chess.com  2020.04.28     -   DoNaT2K   \n",
       "3                        Chess.com  2020.04.28     -  khan2260   \n",
       "4                        Chess.com  2020.04.27     -  jiit9124   \n",
       "...                            ...         ...   ...       ...   \n",
       "6348  https://lichess.org/JbQgKHDF  2021.01.29     ?   jiit912   \n",
       "6349  https://lichess.org/VD6xABFE  2021.01.29     ?   H_K_1_4   \n",
       "6350  https://lichess.org/w6L6vmXl  2021.01.29     ?   jiit912   \n",
       "6351  https://lichess.org/l2iw6mCA  2021.01.29     ?   jiit912   \n",
       "6352  https://lichess.org/Ky2UlPxY  2021.01.29     ?  ADITYEAH   \n",
       "\n",
       "                black   result  white_elo  ...  winner_loser_elo_diff  eco  \\\n",
       "0            zugirdor      0-1        845  ...                     37  C40   \n",
       "1         aspatil1006  1/2-1/2        897  ...                      0  C20   \n",
       "2            jiit9124      1-0        954  ...                    159  B01   \n",
       "3            jiit9124      0-1        827  ...                     75  B10   \n",
       "4     solankigaurav26      1-0        833  ...                     15  C41   \n",
       "...               ...      ...        ...  ...                    ...  ...   \n",
       "6348  shreshthsarda14      1-0       1195  ...                    -92  A40   \n",
       "6349          jiit912      1-0       1309  ...                     23  B20   \n",
       "6350     Sourav_Edits      0-1       1444  ...                   -246  D20   \n",
       "6351     rahil_mittal      0-1       1699  ...                   -227  D08   \n",
       "6352          jiit912      0-1       1433  ...                     67  A43   \n",
       "\n",
       "                    termination  time_control    utc_date  utc_time   variant  \\\n",
       "0     zugirdor won by checkmate           600  2020.04.29  06:43:59       NaN   \n",
       "1      Game drawn by repetition           600  2020.04.28  09:18:13       NaN   \n",
       "2      DoNaT2K won by checkmate        900+10  2020.04.28  08:35:09       NaN   \n",
       "3     jiit9124 won by checkmate           600  2020.04.28  08:19:11       NaN   \n",
       "4          jiit9124 won on time           600  2020.04.27  10:10:45       NaN   \n",
       "...                         ...           ...         ...       ...       ...   \n",
       "6348               Time forfeit         300+3  2021.01.29  14:23:56  Standard   \n",
       "6349                     Normal         300+3  2021.01.29  14:09:10  Standard   \n",
       "6350                     Normal         300+3  2021.01.29  13:59:15  Standard   \n",
       "6351                     Normal         300+3  2021.01.29  13:45:40  Standard   \n",
       "6352                     Normal         300+3  2021.01.29  13:30:01  Standard   \n",
       "\n",
       "     ply_count              date_created                       file_name  \n",
       "0          NaN  2023-10-24T16:56:14+0000                     2020-04.pgn  \n",
       "1          NaN  2023-10-24T16:56:14+0000                     2020-04.pgn  \n",
       "2          NaN  2023-10-24T16:56:14+0000                     2020-04.pgn  \n",
       "3          NaN  2023-10-24T16:56:14+0000                     2020-04.pgn  \n",
       "4          NaN  2023-10-24T16:56:14+0000                     2020-04.pgn  \n",
       "...        ...                       ...                             ...  \n",
       "6348       NaN  2023-10-24T16:36:09+0000  lichess_jiit912_2023-10-24.pgn  \n",
       "6349       NaN  2023-10-24T16:36:09+0000  lichess_jiit912_2023-10-24.pgn  \n",
       "6350       NaN  2023-10-24T16:36:09+0000  lichess_jiit912_2023-10-24.pgn  \n",
       "6351       NaN  2023-10-24T16:36:09+0000  lichess_jiit912_2023-10-24.pgn  \n",
       "6352       NaN  2023-10-24T16:36:09+0000  lichess_jiit912_2023-10-24.pgn  \n",
       "\n",
       "[6353 rows x 29 columns]"
      ]
     },
     "execution_count": 4,
     "metadata": {},
     "output_type": "execute_result"
    }
   ],
   "source": [
    "games_data = pd.concat(combine)\n",
    "games_data = games_data.reset_index(drop=True)\n",
    "games_data"
   ]
  },
  {
   "cell_type": "code",
   "execution_count": 5,
   "id": "7950d782",
   "metadata": {},
   "outputs": [
    {
     "data": {
      "text/html": [
       "<div>\n",
       "<style scoped>\n",
       "    .dataframe tbody tr th:only-of-type {\n",
       "        vertical-align: middle;\n",
       "    }\n",
       "\n",
       "    .dataframe tbody tr th {\n",
       "        vertical-align: top;\n",
       "    }\n",
       "\n",
       "    .dataframe thead th {\n",
       "        text-align: right;\n",
       "    }\n",
       "</style>\n",
       "<table border=\"1\" class=\"dataframe\">\n",
       "  <thead>\n",
       "    <tr style=\"text-align: right;\">\n",
       "      <th></th>\n",
       "      <th>game_id</th>\n",
       "      <th>game_order</th>\n",
       "      <th>event</th>\n",
       "      <th>site</th>\n",
       "      <th>date_played</th>\n",
       "      <th>white</th>\n",
       "      <th>black</th>\n",
       "      <th>result</th>\n",
       "      <th>white_elo</th>\n",
       "      <th>white_rating_diff</th>\n",
       "      <th>...</th>\n",
       "      <th>winner_loser_elo_diff</th>\n",
       "      <th>eco</th>\n",
       "      <th>termination</th>\n",
       "      <th>time_control</th>\n",
       "      <th>utc_date</th>\n",
       "      <th>utc_time</th>\n",
       "      <th>variant</th>\n",
       "      <th>ply_count</th>\n",
       "      <th>date_created</th>\n",
       "      <th>file_name</th>\n",
       "    </tr>\n",
       "  </thead>\n",
       "  <tbody>\n",
       "    <tr>\n",
       "      <th>0</th>\n",
       "      <td>7d5fd681-2e65-43f9-8ce4-82b86169a109</td>\n",
       "      <td>1</td>\n",
       "      <td>Live Chess</td>\n",
       "      <td>Chess.com</td>\n",
       "      <td>2020.04.29</td>\n",
       "      <td>jiit9124</td>\n",
       "      <td>zugirdor</td>\n",
       "      <td>0-1</td>\n",
       "      <td>845</td>\n",
       "      <td>NaN</td>\n",
       "      <td>...</td>\n",
       "      <td>37</td>\n",
       "      <td>C40</td>\n",
       "      <td>zugirdor won by checkmate</td>\n",
       "      <td>600</td>\n",
       "      <td>2020.04.29</td>\n",
       "      <td>06:43:59</td>\n",
       "      <td>NaN</td>\n",
       "      <td>NaN</td>\n",
       "      <td>2023-10-24T16:56:14+0000</td>\n",
       "      <td>2020-04.pgn</td>\n",
       "    </tr>\n",
       "    <tr>\n",
       "      <th>1</th>\n",
       "      <td>313eaa89-bd69-4c79-8fb4-27eaec1c545f</td>\n",
       "      <td>2</td>\n",
       "      <td>Live Chess</td>\n",
       "      <td>Chess.com</td>\n",
       "      <td>2020.04.28</td>\n",
       "      <td>jiit9124</td>\n",
       "      <td>aspatil1006</td>\n",
       "      <td>1/2-1/2</td>\n",
       "      <td>897</td>\n",
       "      <td>NaN</td>\n",
       "      <td>...</td>\n",
       "      <td>0</td>\n",
       "      <td>C20</td>\n",
       "      <td>Game drawn by repetition</td>\n",
       "      <td>600</td>\n",
       "      <td>2020.04.28</td>\n",
       "      <td>09:18:13</td>\n",
       "      <td>NaN</td>\n",
       "      <td>NaN</td>\n",
       "      <td>2023-10-24T16:56:14+0000</td>\n",
       "      <td>2020-04.pgn</td>\n",
       "    </tr>\n",
       "    <tr>\n",
       "      <th>2</th>\n",
       "      <td>c52003a2-3878-41ec-89f9-216bb6cf5d4e</td>\n",
       "      <td>3</td>\n",
       "      <td>Live Chess</td>\n",
       "      <td>Chess.com</td>\n",
       "      <td>2020.04.28</td>\n",
       "      <td>DoNaT2K</td>\n",
       "      <td>jiit9124</td>\n",
       "      <td>1-0</td>\n",
       "      <td>954</td>\n",
       "      <td>NaN</td>\n",
       "      <td>...</td>\n",
       "      <td>159</td>\n",
       "      <td>B01</td>\n",
       "      <td>DoNaT2K won by checkmate</td>\n",
       "      <td>900+10</td>\n",
       "      <td>2020.04.28</td>\n",
       "      <td>08:35:09</td>\n",
       "      <td>NaN</td>\n",
       "      <td>NaN</td>\n",
       "      <td>2023-10-24T16:56:14+0000</td>\n",
       "      <td>2020-04.pgn</td>\n",
       "    </tr>\n",
       "    <tr>\n",
       "      <th>3</th>\n",
       "      <td>55388fdd-e538-4bdf-9809-af4f1a6eb274</td>\n",
       "      <td>4</td>\n",
       "      <td>Live Chess</td>\n",
       "      <td>Chess.com</td>\n",
       "      <td>2020.04.28</td>\n",
       "      <td>khan2260</td>\n",
       "      <td>jiit9124</td>\n",
       "      <td>0-1</td>\n",
       "      <td>827</td>\n",
       "      <td>NaN</td>\n",
       "      <td>...</td>\n",
       "      <td>75</td>\n",
       "      <td>B10</td>\n",
       "      <td>jiit9124 won by checkmate</td>\n",
       "      <td>600</td>\n",
       "      <td>2020.04.28</td>\n",
       "      <td>08:19:11</td>\n",
       "      <td>NaN</td>\n",
       "      <td>NaN</td>\n",
       "      <td>2023-10-24T16:56:14+0000</td>\n",
       "      <td>2020-04.pgn</td>\n",
       "    </tr>\n",
       "    <tr>\n",
       "      <th>4</th>\n",
       "      <td>ed4ad15d-b1c4-4fec-9956-5dce2892599b</td>\n",
       "      <td>5</td>\n",
       "      <td>Live Chess</td>\n",
       "      <td>Chess.com</td>\n",
       "      <td>2020.04.27</td>\n",
       "      <td>jiit9124</td>\n",
       "      <td>solankigaurav26</td>\n",
       "      <td>1-0</td>\n",
       "      <td>833</td>\n",
       "      <td>NaN</td>\n",
       "      <td>...</td>\n",
       "      <td>15</td>\n",
       "      <td>C41</td>\n",
       "      <td>jiit9124 won on time</td>\n",
       "      <td>600</td>\n",
       "      <td>2020.04.27</td>\n",
       "      <td>10:10:45</td>\n",
       "      <td>NaN</td>\n",
       "      <td>NaN</td>\n",
       "      <td>2023-10-24T16:56:14+0000</td>\n",
       "      <td>2020-04.pgn</td>\n",
       "    </tr>\n",
       "    <tr>\n",
       "      <th>...</th>\n",
       "      <td>...</td>\n",
       "      <td>...</td>\n",
       "      <td>...</td>\n",
       "      <td>...</td>\n",
       "      <td>...</td>\n",
       "      <td>...</td>\n",
       "      <td>...</td>\n",
       "      <td>...</td>\n",
       "      <td>...</td>\n",
       "      <td>...</td>\n",
       "      <td>...</td>\n",
       "      <td>...</td>\n",
       "      <td>...</td>\n",
       "      <td>...</td>\n",
       "      <td>...</td>\n",
       "      <td>...</td>\n",
       "      <td>...</td>\n",
       "      <td>...</td>\n",
       "      <td>...</td>\n",
       "      <td>...</td>\n",
       "      <td>...</td>\n",
       "    </tr>\n",
       "    <tr>\n",
       "      <th>6348</th>\n",
       "      <td>e5635bc2-4166-421a-84fe-8a28144aa630</td>\n",
       "      <td>585</td>\n",
       "      <td>Div 2 : 1000-1200</td>\n",
       "      <td>https://lichess.org/JbQgKHDF</td>\n",
       "      <td>2021.01.29</td>\n",
       "      <td>jiit912</td>\n",
       "      <td>shreshthsarda14</td>\n",
       "      <td>1-0</td>\n",
       "      <td>1195</td>\n",
       "      <td>NaN</td>\n",
       "      <td>...</td>\n",
       "      <td>-92</td>\n",
       "      <td>A40</td>\n",
       "      <td>Time forfeit</td>\n",
       "      <td>300+3</td>\n",
       "      <td>2021.01.29</td>\n",
       "      <td>14:23:56</td>\n",
       "      <td>Standard</td>\n",
       "      <td>NaN</td>\n",
       "      <td>2023-10-24T16:36:09+0000</td>\n",
       "      <td>lichess_jiit912_2023-10-24.pgn</td>\n",
       "    </tr>\n",
       "    <tr>\n",
       "      <th>6349</th>\n",
       "      <td>24632ec4-4c02-4a70-b5c1-c97f811b641e</td>\n",
       "      <td>586</td>\n",
       "      <td>Div 2 : 1000-1200</td>\n",
       "      <td>https://lichess.org/VD6xABFE</td>\n",
       "      <td>2021.01.29</td>\n",
       "      <td>H_K_1_4</td>\n",
       "      <td>jiit912</td>\n",
       "      <td>1-0</td>\n",
       "      <td>1309</td>\n",
       "      <td>13.0</td>\n",
       "      <td>...</td>\n",
       "      <td>23</td>\n",
       "      <td>B20</td>\n",
       "      <td>Normal</td>\n",
       "      <td>300+3</td>\n",
       "      <td>2021.01.29</td>\n",
       "      <td>14:09:10</td>\n",
       "      <td>Standard</td>\n",
       "      <td>NaN</td>\n",
       "      <td>2023-10-24T16:36:09+0000</td>\n",
       "      <td>lichess_jiit912_2023-10-24.pgn</td>\n",
       "    </tr>\n",
       "    <tr>\n",
       "      <th>6350</th>\n",
       "      <td>06e07828-54fd-42af-ab2b-27e875a497b7</td>\n",
       "      <td>587</td>\n",
       "      <td>Div 2 : 1000-1200</td>\n",
       "      <td>https://lichess.org/w6L6vmXl</td>\n",
       "      <td>2021.01.29</td>\n",
       "      <td>jiit912</td>\n",
       "      <td>Sourav_Edits</td>\n",
       "      <td>0-1</td>\n",
       "      <td>1444</td>\n",
       "      <td>-158.0</td>\n",
       "      <td>...</td>\n",
       "      <td>-246</td>\n",
       "      <td>D20</td>\n",
       "      <td>Normal</td>\n",
       "      <td>300+3</td>\n",
       "      <td>2021.01.29</td>\n",
       "      <td>13:59:15</td>\n",
       "      <td>Standard</td>\n",
       "      <td>NaN</td>\n",
       "      <td>2023-10-24T16:36:09+0000</td>\n",
       "      <td>lichess_jiit912_2023-10-24.pgn</td>\n",
       "    </tr>\n",
       "    <tr>\n",
       "      <th>6351</th>\n",
       "      <td>c43d50a2-d0ac-46e4-8a8f-04b44b8c288e</td>\n",
       "      <td>588</td>\n",
       "      <td>Div 2 : 1000-1200</td>\n",
       "      <td>https://lichess.org/l2iw6mCA</td>\n",
       "      <td>2021.01.29</td>\n",
       "      <td>jiit912</td>\n",
       "      <td>rahil_mittal</td>\n",
       "      <td>0-1</td>\n",
       "      <td>1699</td>\n",
       "      <td>-255.0</td>\n",
       "      <td>...</td>\n",
       "      <td>-227</td>\n",
       "      <td>D08</td>\n",
       "      <td>Normal</td>\n",
       "      <td>300+3</td>\n",
       "      <td>2021.01.29</td>\n",
       "      <td>13:45:40</td>\n",
       "      <td>Standard</td>\n",
       "      <td>NaN</td>\n",
       "      <td>2023-10-24T16:36:09+0000</td>\n",
       "      <td>lichess_jiit912_2023-10-24.pgn</td>\n",
       "    </tr>\n",
       "    <tr>\n",
       "      <th>6352</th>\n",
       "      <td>6f11c68a-8a12-4ef7-a83d-3846a8ceb6a9</td>\n",
       "      <td>589</td>\n",
       "      <td>Div 2 : 1000-1200</td>\n",
       "      <td>https://lichess.org/Ky2UlPxY</td>\n",
       "      <td>2021.01.29</td>\n",
       "      <td>ADITYEAH</td>\n",
       "      <td>jiit912</td>\n",
       "      <td>0-1</td>\n",
       "      <td>1433</td>\n",
       "      <td>-3.0</td>\n",
       "      <td>...</td>\n",
       "      <td>67</td>\n",
       "      <td>A43</td>\n",
       "      <td>Normal</td>\n",
       "      <td>300+3</td>\n",
       "      <td>2021.01.29</td>\n",
       "      <td>13:30:01</td>\n",
       "      <td>Standard</td>\n",
       "      <td>NaN</td>\n",
       "      <td>2023-10-24T16:36:09+0000</td>\n",
       "      <td>lichess_jiit912_2023-10-24.pgn</td>\n",
       "    </tr>\n",
       "  </tbody>\n",
       "</table>\n",
       "<p>6353 rows × 28 columns</p>\n",
       "</div>"
      ],
      "text/plain": [
       "                                   game_id  game_order              event  \\\n",
       "0     7d5fd681-2e65-43f9-8ce4-82b86169a109           1         Live Chess   \n",
       "1     313eaa89-bd69-4c79-8fb4-27eaec1c545f           2         Live Chess   \n",
       "2     c52003a2-3878-41ec-89f9-216bb6cf5d4e           3         Live Chess   \n",
       "3     55388fdd-e538-4bdf-9809-af4f1a6eb274           4         Live Chess   \n",
       "4     ed4ad15d-b1c4-4fec-9956-5dce2892599b           5         Live Chess   \n",
       "...                                    ...         ...                ...   \n",
       "6348  e5635bc2-4166-421a-84fe-8a28144aa630         585  Div 2 : 1000-1200   \n",
       "6349  24632ec4-4c02-4a70-b5c1-c97f811b641e         586  Div 2 : 1000-1200   \n",
       "6350  06e07828-54fd-42af-ab2b-27e875a497b7         587  Div 2 : 1000-1200   \n",
       "6351  c43d50a2-d0ac-46e4-8a8f-04b44b8c288e         588  Div 2 : 1000-1200   \n",
       "6352  6f11c68a-8a12-4ef7-a83d-3846a8ceb6a9         589  Div 2 : 1000-1200   \n",
       "\n",
       "                              site date_played     white            black  \\\n",
       "0                        Chess.com  2020.04.29  jiit9124         zugirdor   \n",
       "1                        Chess.com  2020.04.28  jiit9124      aspatil1006   \n",
       "2                        Chess.com  2020.04.28   DoNaT2K         jiit9124   \n",
       "3                        Chess.com  2020.04.28  khan2260         jiit9124   \n",
       "4                        Chess.com  2020.04.27  jiit9124  solankigaurav26   \n",
       "...                            ...         ...       ...              ...   \n",
       "6348  https://lichess.org/JbQgKHDF  2021.01.29   jiit912  shreshthsarda14   \n",
       "6349  https://lichess.org/VD6xABFE  2021.01.29   H_K_1_4          jiit912   \n",
       "6350  https://lichess.org/w6L6vmXl  2021.01.29   jiit912     Sourav_Edits   \n",
       "6351  https://lichess.org/l2iw6mCA  2021.01.29   jiit912     rahil_mittal   \n",
       "6352  https://lichess.org/Ky2UlPxY  2021.01.29  ADITYEAH          jiit912   \n",
       "\n",
       "       result  white_elo  white_rating_diff  ...  winner_loser_elo_diff  eco  \\\n",
       "0         0-1        845                NaN  ...                     37  C40   \n",
       "1     1/2-1/2        897                NaN  ...                      0  C20   \n",
       "2         1-0        954                NaN  ...                    159  B01   \n",
       "3         0-1        827                NaN  ...                     75  B10   \n",
       "4         1-0        833                NaN  ...                     15  C41   \n",
       "...       ...        ...                ...  ...                    ...  ...   \n",
       "6348      1-0       1195                NaN  ...                    -92  A40   \n",
       "6349      1-0       1309               13.0  ...                     23  B20   \n",
       "6350      0-1       1444             -158.0  ...                   -246  D20   \n",
       "6351      0-1       1699             -255.0  ...                   -227  D08   \n",
       "6352      0-1       1433               -3.0  ...                     67  A43   \n",
       "\n",
       "                    termination  time_control    utc_date  utc_time   variant  \\\n",
       "0     zugirdor won by checkmate           600  2020.04.29  06:43:59       NaN   \n",
       "1      Game drawn by repetition           600  2020.04.28  09:18:13       NaN   \n",
       "2      DoNaT2K won by checkmate        900+10  2020.04.28  08:35:09       NaN   \n",
       "3     jiit9124 won by checkmate           600  2020.04.28  08:19:11       NaN   \n",
       "4          jiit9124 won on time           600  2020.04.27  10:10:45       NaN   \n",
       "...                         ...           ...         ...       ...       ...   \n",
       "6348               Time forfeit         300+3  2021.01.29  14:23:56  Standard   \n",
       "6349                     Normal         300+3  2021.01.29  14:09:10  Standard   \n",
       "6350                     Normal         300+3  2021.01.29  13:59:15  Standard   \n",
       "6351                     Normal         300+3  2021.01.29  13:45:40  Standard   \n",
       "6352                     Normal         300+3  2021.01.29  13:30:01  Standard   \n",
       "\n",
       "      ply_count              date_created                       file_name  \n",
       "0           NaN  2023-10-24T16:56:14+0000                     2020-04.pgn  \n",
       "1           NaN  2023-10-24T16:56:14+0000                     2020-04.pgn  \n",
       "2           NaN  2023-10-24T16:56:14+0000                     2020-04.pgn  \n",
       "3           NaN  2023-10-24T16:56:14+0000                     2020-04.pgn  \n",
       "4           NaN  2023-10-24T16:56:14+0000                     2020-04.pgn  \n",
       "...         ...                       ...                             ...  \n",
       "6348        NaN  2023-10-24T16:36:09+0000  lichess_jiit912_2023-10-24.pgn  \n",
       "6349        NaN  2023-10-24T16:36:09+0000  lichess_jiit912_2023-10-24.pgn  \n",
       "6350        NaN  2023-10-24T16:36:09+0000  lichess_jiit912_2023-10-24.pgn  \n",
       "6351        NaN  2023-10-24T16:36:09+0000  lichess_jiit912_2023-10-24.pgn  \n",
       "6352        NaN  2023-10-24T16:36:09+0000  lichess_jiit912_2023-10-24.pgn  \n",
       "\n",
       "[6353 rows x 28 columns]"
      ]
     },
     "execution_count": 5,
     "metadata": {},
     "output_type": "execute_result"
    }
   ],
   "source": [
    "games_data.drop(['round'],axis=1)"
   ]
  },
  {
   "cell_type": "code",
   "execution_count": 6,
   "id": "cdc963c6",
   "metadata": {},
   "outputs": [
    {
     "data": {
      "text/plain": [
       "0           0-1\n",
       "1       1/2-1/2\n",
       "2           1-0\n",
       "3           0-1\n",
       "4           1-0\n",
       "         ...   \n",
       "6348        1-0\n",
       "6349        1-0\n",
       "6350        0-1\n",
       "6351        0-1\n",
       "6352        0-1\n",
       "Name: result, Length: 6353, dtype: object"
      ]
     },
     "execution_count": 6,
     "metadata": {},
     "output_type": "execute_result"
    }
   ],
   "source": [
    "games_data['result']"
   ]
  },
  {
   "cell_type": "code",
   "execution_count": 7,
   "id": "c33bc55a",
   "metadata": {},
   "outputs": [
    {
     "name": "stdout",
     "output_type": "stream",
     "text": [
      "<class 'pandas.core.frame.DataFrame'>\n",
      "RangeIndex: 6353 entries, 0 to 6352\n",
      "Data columns (total 22 columns):\n",
      " #   Column                 Non-Null Count  Dtype  \n",
      "---  ------                 --------------  -----  \n",
      " 0   event                  6353 non-null   object \n",
      " 1   site                   6353 non-null   object \n",
      " 2   date_played            6353 non-null   object \n",
      " 3   round                  6353 non-null   object \n",
      " 4   white                  6353 non-null   object \n",
      " 5   black                  6353 non-null   object \n",
      " 6   result                 6353 non-null   object \n",
      " 7   white_elo              6353 non-null   int64  \n",
      " 8   white_rating_diff      588 non-null    float64\n",
      " 9   black_elo              6353 non-null   int64  \n",
      " 10  black_rating_diff      588 non-null    float64\n",
      " 11  winner                 6353 non-null   object \n",
      " 12  winner_elo             6180 non-null   float64\n",
      " 13  loser                  6353 non-null   object \n",
      " 14  loser_elo              6180 non-null   float64\n",
      " 15  winner_loser_elo_diff  6353 non-null   int64  \n",
      " 16  eco                    6349 non-null   object \n",
      " 17  termination            6353 non-null   object \n",
      " 18  time_control           6353 non-null   object \n",
      " 19  utc_date               6353 non-null   object \n",
      " 20  utc_time               6353 non-null   object \n",
      " 21  variant                610 non-null    object \n",
      "dtypes: float64(4), int64(3), object(15)\n",
      "memory usage: 1.1+ MB\n"
     ]
    }
   ],
   "source": [
    "games_data = games_data.drop(columns=['game_id', 'game_order', 'white_title', 'black_title', 'ply_count', 'date_created', 'file_name'] )\n",
    "games_data.info()"
   ]
  },
  {
   "cell_type": "code",
   "execution_count": 8,
   "id": "d0ad9bbc",
   "metadata": {},
   "outputs": [
    {
     "data": {
      "text/plain": [
       "event                       0\n",
       "site                        0\n",
       "date_played                 0\n",
       "round                       0\n",
       "white                       0\n",
       "black                       0\n",
       "result                      0\n",
       "white_elo                   0\n",
       "white_rating_diff        5765\n",
       "black_elo                   0\n",
       "black_rating_diff        5765\n",
       "winner                      0\n",
       "winner_elo                173\n",
       "loser                       0\n",
       "loser_elo                 173\n",
       "winner_loser_elo_diff       0\n",
       "eco                         4\n",
       "termination                 0\n",
       "time_control                0\n",
       "utc_date                    0\n",
       "utc_time                    0\n",
       "variant                  5743\n",
       "dtype: int64"
      ]
     },
     "execution_count": 8,
     "metadata": {},
     "output_type": "execute_result"
    }
   ],
   "source": [
    "games_data.isnull().sum()"
   ]
  },
  {
   "cell_type": "code",
   "execution_count": 9,
   "id": "3c9ad6b3",
   "metadata": {},
   "outputs": [
    {
     "data": {
      "text/plain": [
       "0           zugirdor\n",
       "1               draw\n",
       "2            DoNaT2K\n",
       "3           jiit9124\n",
       "4           jiit9124\n",
       "            ...     \n",
       "6348         jiit912\n",
       "6349         H_K_1_4\n",
       "6350    Sourav_Edits\n",
       "6351    rahil_mittal\n",
       "6352         jiit912\n",
       "Name: winner, Length: 6353, dtype: object"
      ]
     },
     "execution_count": 9,
     "metadata": {},
     "output_type": "execute_result"
    }
   ],
   "source": [
    "games_data['winner']"
   ]
  },
  {
   "cell_type": "code",
   "execution_count": 10,
   "id": "7d237b9e",
   "metadata": {},
   "outputs": [
    {
     "data": {
      "text/plain": [
       "winner\n",
       "jiit912           2085\n",
       "jiit9124          1111\n",
       "draw               173\n",
       "Aditya14092001       8\n",
       "winterist            7\n",
       "                  ... \n",
       "nemanjart10416       1\n",
       "LasPalmas470         1\n",
       "Tizzy85              1\n",
       "Chadfrancis          1\n",
       "rahil_mittal         1\n",
       "Name: count, Length: 2902, dtype: int64"
      ]
     },
     "execution_count": 10,
     "metadata": {},
     "output_type": "execute_result"
    }
   ],
   "source": [
    "games_data['winner'].value_counts()"
   ]
  },
  {
   "cell_type": "code",
   "execution_count": 11,
   "id": "9a1728cf",
   "metadata": {},
   "outputs": [],
   "source": [
    "games_data['white_rating_diff'].fillna('0', inplace=True)\n",
    "games_data['black_rating_diff'].fillna('0', inplace=True)\n",
    "games_data['winner_elo'].fillna('0', inplace=True)\n",
    "games_data['loser_elo'].fillna('0', inplace=True)"
   ]
  },
  {
   "cell_type": "code",
   "execution_count": 12,
   "id": "03eed7fc",
   "metadata": {},
   "outputs": [],
   "source": [
    "def classify_time_control(tc):\n",
    "    try:\n",
    "        if isinstance(tc, str):\n",
    "            if \"+\" in tc:\n",
    "                tc_minutes = int(tc.split(\"+\")[0])\n",
    "            else:\n",
    "                tc_minutes = int(tc)\n",
    "        elif isinstance(tc, int):\n",
    "            tc_minutes = tc\n",
    "        else:\n",
    "            raise ValueError(\"Invalid input\")\n",
    "        \n",
    "        if tc_minutes < 180:\n",
    "            return \"Bullet\"\n",
    "        elif tc_minutes >= 180 and tc_minutes < 310:\n",
    "            return \"Blitz\"\n",
    "        elif tc_minutes >= 310 and tc_minutes <= 900:\n",
    "            return \"Rapid\"\n",
    "        else:\n",
    "            return \"Classical\"\n",
    "    except (ValueError, TypeError):\n",
    "        # Handle the case where 'tc' couldn't be classified\n",
    "        return \"Invalid\"\n",
    "\n",
    "games_data['time_control'] = games_data['time_control'].apply(classify_time_control)"
   ]
  },
  {
   "cell_type": "code",
   "execution_count": 13,
   "id": "2082e21a",
   "metadata": {},
   "outputs": [
    {
     "data": {
      "text/plain": [
       "time_control\n",
       "Rapid        3402\n",
       "Bullet       2445\n",
       "Blitz         480\n",
       "Classical      20\n",
       "Invalid         6\n",
       "Name: count, dtype: int64"
      ]
     },
     "execution_count": 13,
     "metadata": {},
     "output_type": "execute_result"
    }
   ],
   "source": [
    "games_data['time_control'].value_counts()"
   ]
  },
  {
   "cell_type": "code",
   "execution_count": 14,
   "id": "d6dec7c0",
   "metadata": {},
   "outputs": [
    {
     "data": {
      "text/plain": [
       "result\n",
       "Won     3196\n",
       "Lost    2984\n",
       "Draw     173\n",
       "Name: count, dtype: int64"
      ]
     },
     "execution_count": 14,
     "metadata": {},
     "output_type": "execute_result"
    }
   ],
   "source": [
    "games_data['result'] =np.where(((games_data['white'] == 'jiit912') | (games_data['white'] == 'jiit9124')) & (games_data['result'] == '1-0'), 'Won', \n",
    "                np.where(((games_data['black'] == 'jiit912') | (games_data['black'] == 'jiit9124')) & (games_data['result'] == '0-1'), 'Won', \n",
    "                np.where(games_data['result'] == '1/2-1/2', 'Draw', 'Lost')))\n",
    "games_data['result'].value_counts()"
   ]
  },
  {
   "cell_type": "code",
   "execution_count": 15,
   "id": "f417ae66",
   "metadata": {},
   "outputs": [
    {
     "data": {
      "image/png": "[encoded data removed]",
      "text/plain": [
       "<Figure size 640x480 with 1 Axes>"
      ]
     },
     "metadata": {},
     "output_type": "display_data"
    }
   ],
   "source": [
    "result_counts = games_data['result'].value_counts()\n",
    "plt.pie(result_counts,autopct='%.2f')\n",
    "plt.axis('equal')\n",
    "plt.legend(labels=result_counts.index)\n",
    "plt.show()"
   ]
  },
  {
   "cell_type": "code",
   "execution_count": 16,
   "id": "5d72aa1d",
   "metadata": {},
   "outputs": [],
   "source": [
    "eco_codes = pd.read_csv('eco_codes.csv')"
   ]
  },
  {
   "cell_type": "code",
   "execution_count": 17,
   "id": "a501bbe1",
   "metadata": {},
   "outputs": [],
   "source": [
    "def opening_name(eco_code):\n",
    "    if eco_code in ['A00']:\n",
    "        return 'Polish(Sokolsky) Opening'\n",
    "    elif eco_code in ['A01']:\n",
    "        return 'Nimzovich-Larsen attack'\n",
    "    elif eco_code in ['A02', 'A03']:\n",
    "        return \"Bird's Opening\"\n",
    "    elif eco_code in ['A04', 'A05', 'A07', 'A08', 'A09']:\n",
    "        return 'Reti Opening'\n",
    "    elif eco_code in ['A10', 'A15', 'A17', 'A13', 'A19', 'A20', 'A21', 'A22', 'A23', 'A24', 'A25', 'A26', 'A27', 'A28','A29','A30','A31','A32','A33','A34','A35','A36','A37','A38','A39']:\n",
    "        return 'English Opening'\n",
    "    elif eco_code in ['A40', 'A41']:\n",
    "        return \"Queen's Pawn' Opening\"\n",
    "    elif eco_code in ['A42']:\n",
    "        return \"Modern defence, Averbakh system\"\n",
    "    elif eco_code in ['A43', 'A44']:\n",
    "        return 'Old Benoni Defense'\n",
    "    elif eco_code in ['A45', 'A46','A50','D00','D02','D04','D05','E00','E10']:\n",
    "        return \"Queen's pawn game\"\n",
    "    elif eco_code in ['A47']:\n",
    "        return \"Queen's Indian Defense\"\n",
    "    elif eco_code in ['A48', 'A49']:\n",
    "        return \"King's Indian, East Indian Defense\" \n",
    "    elif eco_code in ['A51', 'A52']:\n",
    "        return \"Budapest Defense\"\n",
    "    elif eco_code in ['A53', 'A54', 'A55']:\n",
    "        return \"Old Indian Defense\"  \n",
    "    elif eco_code in ['A57', 'A58', 'A59']:\n",
    "        return \"Benko Gambit\" \n",
    "    elif eco_code in ['A56','A60',\n",
    "                        'A61','A62','A63','A64','A65','A66','A68','A67','A69','A70',\n",
    "                        'A71','A72','A73','A74','A75','A77','A76','A78','A79']:\n",
    "        return \"Benoni Defense\"  \n",
    "    elif eco_code in ['A80', 'A81', 'A82', 'A83', 'A84', 'A85', 'A86', 'A87', 'A88', 'A89', 'A90', \n",
    "                        'A91', 'A92', 'A93', 'A94', 'A95', 'A96', 'A97', 'A98', 'A99']:\n",
    "        return \"Dutch\" \n",
    "    elif eco_code in ['B00']:\n",
    "        return \"King's pawn opening\"\n",
    "    elif eco_code in ['B01']:\n",
    "        return 'Scandinavian Defense'\n",
    "    elif eco_code in ['B02','B03','B04','B05']:\n",
    "        return \"Alekhine's defence\"\n",
    "    elif eco_code in ['B06']:\n",
    "        return \"Robatsch (modern) defence\"\n",
    "    elif eco_code in ['B07','B08','B09']:\n",
    "        return \"Pirc defence\"\n",
    "    elif eco_code in ['B10', 'B11', 'B12', 'B13', 'B14', 'B15', 'B16', 'B17', 'B18', 'B19']:\n",
    "        return 'Caro-Kann Defense'    \n",
    "    elif eco_code in ['B20', 'B21', 'B22', 'B23', 'B24', 'B25', 'B26', 'B27', 'B28', 'B29', \n",
    "                    'B30', 'B31', 'B32', 'B33', 'B34', 'B35', 'B36', 'B37', 'B38', 'B39', \n",
    "                    'B40', 'B41', 'B42', 'B43', 'B44', 'B45', 'B46', 'B47', 'B48', 'B49', \n",
    "                    'B50', 'B51', 'B52', 'B53', 'B54', 'B55', 'B56', 'B57', 'B58', 'B59', \n",
    "                    'B60', 'B61', 'B62', 'B63', 'B64', 'B65', 'B66', 'B67', 'B68', 'B69', \n",
    "                    'B70', 'B71', 'B72', 'B73', 'B74', 'B75', 'B76', 'B77', 'B78', 'B79', \n",
    "                    'B80', 'B81', 'B82', 'B83', 'B84', 'B85', 'B86', 'B87', 'B88', 'B89', \n",
    "                    'B90', 'B91', 'B92', 'B93', 'B94', 'B95', 'B96', 'B97', 'B98', 'B99'\n",
    "                    ]:\n",
    "        return 'Sicillian Defense'\n",
    "  \n",
    "    elif eco_code in ['C00', 'C01', 'C02', 'C03', 'C04', 'C05', 'C06', 'C07', 'C08', 'C09', \n",
    "                        'C10', 'C11', 'C12', 'C13', 'C14', 'C15', 'C16', 'C17', 'C18', 'C19']:\n",
    "        return 'French Defense'\n",
    "        \n",
    "    elif eco_code in [\"C20\"]:\n",
    "        return \"King's Pawn Opening\" \n",
    "    elif eco_code in [\"C21\",'C22']:\n",
    "        return \"Centre game\" \n",
    "    elif eco_code in [\"C23\",'C24']:\n",
    "        return \"Bishop's opening\" \n",
    "    elif eco_code in [\"C25\",'C26','C27','C28','C29']:\n",
    "        return \"Vienna game\" \n",
    "    elif eco_code in [\"C30\", \"C31\", \"C32\", \"C33\", \"C34\", \"C35\", \"C36\", \"C37\", \"C38\", \"C39\"]:\n",
    "        return \"King's Gambit\"\n",
    "    elif eco_code in ['C40']:\n",
    "        return \"King's Knight Opening\"\n",
    "    elif eco_code in ['C41']:\n",
    "        return \"Philidor's Defense\"\n",
    "    elif eco_code in ['C42', 'C43']:\n",
    "        return \"Petrov's Defense\"\n",
    "    elif eco_code in ['C44']:\n",
    "        return \"King's Pawn Opening\"\n",
    "    elif eco_code in ['C45']:\n",
    "        return \"Scotch Opening\"\n",
    "    elif eco_code in ['C46']:\n",
    "        return \"Three Knights Game\"\n",
    "    elif eco_code in ['C47', 'C48', 'C49']:\n",
    "        return \"Four Knights, Scotch Variation\"\n",
    "    elif eco_code in ['C50']:\n",
    "        return \"Italian Game\"\n",
    "    elif eco_code in ['C51', 'C52']:\n",
    "        return \"Evans Gambit\"\n",
    "    elif eco_code in ['C53', 'C54']:\n",
    "        return \"Giuoco Piano\"\n",
    "    elif eco_code in ['C55', 'C56', 'C57', 'C58', 'C59']:\n",
    "        return \"Two Knights Defence\"\n",
    "    elif eco_code in ['C60', 'C61', 'C62', 'C63', 'C64', 'C65', 'C66', 'C67', 'C68', 'C69', \n",
    "                    'C70', 'C71', 'C72', 'C73', 'C74', 'C75', 'C76', 'C77', 'C78', 'C79', \n",
    "                    'C80', 'C81', 'C82', 'C83', 'C84', 'C85', 'C86', 'C87', 'C88', 'C89', \n",
    "                    'C90', 'C91', 'C92', 'C93', 'C94', 'C95', 'C96', 'C97', 'C98', 'C99']:\n",
    "        return \"Ruy Lopez (Spanish Opening)\"\n",
    "    elif eco_code in ['D01']:\n",
    "        return \"Richter-Veresov attack\" \n",
    "    elif eco_code in ['D03']:\n",
    "        return \"Torre attack (Tartakower variation)\" \n",
    "    elif eco_code in ['D06','D07','D08','D09','D10','D11','D12','D13','D14','D15','D16', 'D17', 'D18', 'D19', \n",
    "                      'D20', 'D21', 'D22', 'D23', 'D24', 'D25', 'D26', 'D27', 'D28', 'D29',\n",
    "                      'D30', 'D31', 'D32', 'D33', 'D34', 'D35', 'D36', 'D37', 'D38', 'D39', \n",
    "                      'D40', 'D41', 'D42','D43', 'D44', 'D45', 'D46', 'D47', 'D48', 'D49',\n",
    "                      'D50', 'D51', 'D52','D53', 'D54', 'D55', 'D56', 'D57', 'D58', 'D59',\n",
    "                      'D60', 'D61', 'D62','D63', 'D64', 'D65', 'D66', 'D67', 'D68', 'D69',]:\n",
    "        return \"Queen's Gambit Accepted or Declined\"\n",
    "    elif eco_code in ['D70', 'D71', 'D72','D73', 'D74', 'D75', 'D76', 'D77', 'D78', 'D79']:\n",
    "        return \"Neo-Gruenfeld defence\"\n",
    "    elif eco_code in [\"D80\", \"D81\", \"D82\", \"D83\", \"D84\", \"D85\", \"D86\", \"D87\", \"D88\", \"D89\",\n",
    "                    \"D90\", \"D91\", \"D92\", \"D93\", \"D94\", \"D95\", \"D96\", \"D97\", \"D98\", \"D99\"]:\n",
    "        return \"Gruenfeld Defense\"\n",
    "    elif eco_code in ['E01', 'E02','E03', 'E04', 'E05', 'E06', 'E07', 'E08', 'E09']:\n",
    "        return \"Catalan, closed\"\n",
    "    elif eco_code in ['E11']:\n",
    "        return \"Bogo-Indian defence\"\n",
    "    elif eco_code in ['E12', 'E13', 'E14','E15','E16', 'E17', 'E18', 'E19']:\n",
    "        return \"Queen's Indian defence\"\n",
    "    elif eco_code in  ['E20', 'E21', 'E22', 'E23', 'E24', 'E25', 'E26', 'E27', 'E28', 'E29',     \n",
    "                    'E30', 'E31', 'E32', 'E33', 'E34', 'E35', 'E36', 'E37', 'E38', 'E39',     \n",
    "                    'E40', 'E41', 'E42', 'E43', 'E44', 'E45', 'E46', 'E47', 'E48', 'E49',\n",
    "                    'E50', 'E51', 'E52', 'E53', 'E54', 'E55', 'E56', 'E57', 'E58', 'E59']:\n",
    "        return \"Nimzo-Indian Defense\"\n",
    "    elif eco_code in ['E60', 'E61', 'E62', 'E63', 'E64', 'E65', 'E66', 'E67', 'E68', 'E69',  \n",
    "                    'E70', 'E71', 'E72', 'E73', 'E74', 'E75', 'E76', 'E77', 'E78', 'E79',  \n",
    "                    'E80', 'E81', 'E82', 'E83', 'E84', 'E85', 'E86', 'E87', 'E88', 'E89',  \n",
    "                    'E90', 'E91', 'E92', 'E93', 'E94', 'E95', 'E96', 'E97', 'E98', 'E99']:\n",
    "        return \"King's Indian Defense\"\n",
    "    elif eco_code in ['?']:\n",
    "        return 'Unknown'\n",
    "    else:\n",
    "        return 'Mixed of opening I usually not played Or Missing data'\n",
    "        \n",
    "\n",
    "\n",
    "games_data['Opening'] = games_data['eco'].apply(opening_name)"
   ]
  },
  {
   "cell_type": "code",
   "execution_count": 18,
   "id": "bcdd6207",
   "metadata": {},
   "outputs": [
    {
     "data": {
      "text/html": [
       "<div>\n",
       "<style scoped>\n",
       "    .dataframe tbody tr th:only-of-type {\n",
       "        vertical-align: middle;\n",
       "    }\n",
       "\n",
       "    .dataframe tbody tr th {\n",
       "        vertical-align: top;\n",
       "    }\n",
       "\n",
       "    .dataframe thead th {\n",
       "        text-align: right;\n",
       "    }\n",
       "</style>\n",
       "<table border=\"1\" class=\"dataframe\">\n",
       "  <thead>\n",
       "    <tr style=\"text-align: right;\">\n",
       "      <th></th>\n",
       "      <th>Opening</th>\n",
       "      <th>eco</th>\n",
       "    </tr>\n",
       "  </thead>\n",
       "  <tbody>\n",
       "    <tr>\n",
       "      <th>0</th>\n",
       "      <td>King's Knight Opening</td>\n",
       "      <td>C40</td>\n",
       "    </tr>\n",
       "    <tr>\n",
       "      <th>1</th>\n",
       "      <td>King's Pawn Opening</td>\n",
       "      <td>C20</td>\n",
       "    </tr>\n",
       "    <tr>\n",
       "      <th>2</th>\n",
       "      <td>Scandinavian Defense</td>\n",
       "      <td>B01</td>\n",
       "    </tr>\n",
       "    <tr>\n",
       "      <th>3</th>\n",
       "      <td>Caro-Kann Defense</td>\n",
       "      <td>B10</td>\n",
       "    </tr>\n",
       "    <tr>\n",
       "      <th>4</th>\n",
       "      <td>Philidor's Defense</td>\n",
       "      <td>C41</td>\n",
       "    </tr>\n",
       "    <tr>\n",
       "      <th>...</th>\n",
       "      <td>...</td>\n",
       "      <td>...</td>\n",
       "    </tr>\n",
       "    <tr>\n",
       "      <th>6348</th>\n",
       "      <td>Queen's Pawn' Opening</td>\n",
       "      <td>A40</td>\n",
       "    </tr>\n",
       "    <tr>\n",
       "      <th>6349</th>\n",
       "      <td>Sicillian Defense</td>\n",
       "      <td>B20</td>\n",
       "    </tr>\n",
       "    <tr>\n",
       "      <th>6350</th>\n",
       "      <td>Queen's Gambit Accepted or Declined</td>\n",
       "      <td>D20</td>\n",
       "    </tr>\n",
       "    <tr>\n",
       "      <th>6351</th>\n",
       "      <td>Queen's Gambit Accepted or Declined</td>\n",
       "      <td>D08</td>\n",
       "    </tr>\n",
       "    <tr>\n",
       "      <th>6352</th>\n",
       "      <td>Old Benoni Defense</td>\n",
       "      <td>A43</td>\n",
       "    </tr>\n",
       "  </tbody>\n",
       "</table>\n",
       "<p>6353 rows × 2 columns</p>\n",
       "</div>"
      ],
      "text/plain": [
       "                                  Opening  eco\n",
       "0                   King's Knight Opening  C40\n",
       "1                     King's Pawn Opening  C20\n",
       "2                    Scandinavian Defense  B01\n",
       "3                       Caro-Kann Defense  B10\n",
       "4                      Philidor's Defense  C41\n",
       "...                                   ...  ...\n",
       "6348                Queen's Pawn' Opening  A40\n",
       "6349                    Sicillian Defense  B20\n",
       "6350  Queen's Gambit Accepted or Declined  D20\n",
       "6351  Queen's Gambit Accepted or Declined  D08\n",
       "6352                   Old Benoni Defense  A43\n",
       "\n",
       "[6353 rows x 2 columns]"
      ]
     },
     "execution_count": 18,
     "metadata": {},
     "output_type": "execute_result"
    }
   ],
   "source": [
    "games_data[['Opening','eco']]"
   ]
  },
  {
   "cell_type": "code",
   "execution_count": 19,
   "id": "1acf880d",
   "metadata": {},
   "outputs": [
    {
     "data": {
      "text/plain": [
       "Opening\n",
       "Queen's pawn game                                        1330\n",
       "Sicillian Defense                                        1118\n",
       "Queen's Pawn' Opening                                    1004\n",
       "Queen's Gambit Accepted or Declined                       772\n",
       "Caro-Kann Defense                                         460\n",
       "Polish(Sokolsky) Opening                                  306\n",
       "Old Benoni Defense                                        195\n",
       "Scandinavian Defense                                      131\n",
       "King's Pawn Opening                                       114\n",
       "Centre game                                               113\n",
       "Robatsch (modern) defence                                 104\n",
       "King's Indian Defense                                      72\n",
       "King's pawn opening                                        63\n",
       "Reti Opening                                               56\n",
       "King's Knight Opening                                      47\n",
       "Nimzovich-Larsen attack                                    44\n",
       "English Opening                                            44\n",
       "French Defense                                             42\n",
       "Mixed of opening I usually not played Or Missing data      40\n",
       "Bird's Opening                                             33\n",
       "Dutch                                                      32\n",
       "Old Indian Defense                                         29\n",
       "Nimzo-Indian Defense                                       27\n",
       "Pirc defence                                               25\n",
       "Bishop's opening                                           19\n",
       "Scotch Opening                                             17\n",
       "Petrov's Defense                                           14\n",
       "Vienna game                                                12\n",
       "Budapest Defense                                           11\n",
       "Alekhine's defence                                         10\n",
       "King's Indian, East Indian Defense                          9\n",
       "Ruy Lopez (Spanish Opening)                                 9\n",
       "Philidor's Defense                                          8\n",
       "Gruenfeld Defense                                           8\n",
       "King's Gambit                                               7\n",
       "Two Knights Defence                                         7\n",
       "Four Knights, Scotch Variation                              7\n",
       "Italian Game                                                4\n",
       "Three Knights Game                                          3\n",
       "Benoni Defense                                              2\n",
       "Queen's Indian defence                                      2\n",
       "Richter-Veresov attack                                      1\n",
       "Modern defence, Averbakh system                             1\n",
       "Neo-Gruenfeld defence                                       1\n",
       "Name: count, dtype: int64"
      ]
     },
     "execution_count": 19,
     "metadata": {},
     "output_type": "execute_result"
    }
   ],
   "source": [
    "games_data['Opening'].value_counts()"
   ]
  },
  {
   "cell_type": "code",
   "execution_count": 20,
   "id": "ef04c6d9",
   "metadata": {},
   "outputs": [],
   "source": [
    "games_data['myrating'] = None\n",
    "games_data['white_elo'].replace('?', np.nan, inplace=True)\n",
    "games_data['black_elo'].replace('?', np.nan, inplace=True)\n",
    "\n",
    "games_data['white_elo'] = pd.to_numeric(games_data['white_elo'], errors='coerce')\n",
    "games_data['black_elo'] = pd.to_numeric(games_data['black_elo'], errors='coerce')\n",
    "\n",
    "games_data['white_rating_diff'] = pd.to_numeric(games_data['white_rating_diff'], errors='coerce')\n",
    "games_data['black_rating_diff'] = pd.to_numeric(games_data['black_rating_diff'], errors='coerce')\n",
    "for i, row in games_data.iterrows():\n",
    "    if row['event'] not in ['Casual Blitz game', 'Casual Rapid game', 'Casual Classical game', 'Casual Bullet game']:\n",
    "        if (row['white'] == 'jiit912') | (row['white'] == 'jiit9124') and row['result'] == 'Won':\n",
    "            games_data.at[i, 'myrating'] = row['white_elo'] + row['white_rating_diff']\n",
    "        elif ((row['black'] == 'jiit912') or (row['black'] == 'jiit9124')) and row['result'] == 'Won':\n",
    "            games_data.at[i, 'myrating'] = row['black_elo'] + row['black_rating_diff']\n",
    "        elif ((row['white'] == 'jiit912') or (row['white'] == 'jiit9124')) and row['result'] == 'Lost':\n",
    "            games_data.at[i, 'myrating'] = row['white_elo']\n",
    "        elif (row['black'] == 'jiit912') or (row['black'] == 'jiit9124') and row['result'] == 'Lost':\n",
    "            games_data.at[i, 'myrating'] = row['black_elo']"
   ]
  },
  {
   "cell_type": "code",
   "execution_count": 21,
   "id": "7994e3a9",
   "metadata": {},
   "outputs": [],
   "source": [
    "games_data['myrating'] = games_data['myrating'].astype(float)"
   ]
  },
  {
   "cell_type": "code",
   "execution_count": 22,
   "id": "46851488",
   "metadata": {},
   "outputs": [
    {
     "data": {
      "text/plain": [
       "count    6241.000000\n",
       "mean     1251.102868\n",
       "std       245.694915\n",
       "min       658.000000\n",
       "25%      1079.000000\n",
       "50%      1264.000000\n",
       "75%      1413.000000\n",
       "max      1875.000000\n",
       "Name: myrating, dtype: float64"
      ]
     },
     "execution_count": 22,
     "metadata": {},
     "output_type": "execute_result"
    }
   ],
   "source": [
    "games_data['myrating'].describe()"
   ]
  },
  {
   "cell_type": "code",
   "execution_count": 23,
   "id": "b8c3bdd2",
   "metadata": {},
   "outputs": [
    {
     "name": "stderr",
     "output_type": "stream",
     "text": [
      "C:\\Users\\Dell\\AppData\\Local\\Temp\\ipykernel_15628\\2679998190.py:1: UserWarning: Could not infer format, so each element will be parsed individually, falling back to `dateutil`. To ensure parsing is consistent and as-expected, please specify a format.\n",
      "  games_data['utc_time'] = pd.to_datetime(games_data['utc_time'])\n"
     ]
    }
   ],
   "source": [
    "games_data['utc_time'] = pd.to_datetime(games_data['utc_time'])"
   ]
  },
  {
   "cell_type": "code",
   "execution_count": 24,
   "id": "6cee05d2",
   "metadata": {},
   "outputs": [],
   "source": [
    "games_data['hour'] = games_data['utc_time'].dt.hour\n",
    "games_data['time_of_day'] = np.where((games_data['hour'] >= 6) & (games_data['hour'] < 12), 'Morning',\n",
    "                   np.where((games_data['hour'] >= 12) & (games_data['hour'] < 16), 'Afternoon',\n",
    "                            np.where((games_data['hour'] >= 16) & (games_data['hour'] < 19), 'Evening', 'Night')))"
   ]
  },
  {
   "cell_type": "code",
   "execution_count": 25,
   "id": "920a0efa",
   "metadata": {},
   "outputs": [
    {
     "data": {
      "text/plain": [
       "0         Morning\n",
       "1         Morning\n",
       "2         Morning\n",
       "3         Morning\n",
       "4         Morning\n",
       "          ...    \n",
       "6348    Afternoon\n",
       "6349    Afternoon\n",
       "6350    Afternoon\n",
       "6351    Afternoon\n",
       "6352    Afternoon\n",
       "Name: time_of_day, Length: 6353, dtype: object"
      ]
     },
     "execution_count": 25,
     "metadata": {},
     "output_type": "execute_result"
    }
   ],
   "source": [
    "games_data['time_of_day']"
   ]
  },
  {
   "cell_type": "code",
   "execution_count": 26,
   "id": "1c10a07a",
   "metadata": {},
   "outputs": [],
   "source": [
    "games_data['termination'].replace(\"Normal\", \"Resignation/Checkmate\", inplace=True)"
   ]
  },
  {
   "cell_type": "code",
   "execution_count": 27,
   "id": "0ab590d3",
   "metadata": {},
   "outputs": [
    {
     "name": "stdout",
     "output_type": "stream",
     "text": [
      "termination\n",
      "jiit912 won by resignation        693\n",
      "jiit912 won by checkmate          566\n",
      "jiit912 won on time               459\n",
      "Resignation/Checkmate             452\n",
      "jiit9124 won on time              377\n",
      "                                 ... \n",
      "fadyo won by resignation            1\n",
      "Aslansw won on time                 1\n",
      "coachabel won by resignation        1\n",
      "rmanz65 won by resignation          1\n",
      "ChessKing2206 won by checkmate      1\n",
      "Name: count, Length: 2677, dtype: int64\n"
     ]
    }
   ],
   "source": [
    "print(games_data['termination'].value_counts())"
   ]
  },
  {
   "cell_type": "code",
   "execution_count": 28,
   "id": "a3d8989b",
   "metadata": {},
   "outputs": [
    {
     "data": {
      "text/plain": [
       "time_of_day\n",
       "Afternoon    2129\n",
       "Evening      1587\n",
       "Morning      1540\n",
       "Night        1097\n",
       "Name: count, dtype: int64"
      ]
     },
     "execution_count": 28,
     "metadata": {},
     "output_type": "execute_result"
    }
   ],
   "source": [
    "games_data['time_of_day'].value_counts()"
   ]
  },
  {
   "cell_type": "code",
   "execution_count": 29,
   "id": "fb426b0f",
   "metadata": {},
   "outputs": [
    {
     "name": "stdout",
     "output_type": "stream",
     "text": [
      "1572\n"
     ]
    }
   ],
   "source": [
    "print(max(games_data['winner_loser_elo_diff']) - min(games_data['winner_loser_elo_diff']))"
   ]
  },
  {
   "cell_type": "code",
   "execution_count": 30,
   "id": "d1678f2b",
   "metadata": {},
   "outputs": [],
   "source": [
    "for i, row in games_data.iterrows():\n",
    "    if (row['white'] == 'jiit912') | (row['white'] == 'jiit9124') and row['result'] == 'Won':\n",
    "        if row['winner_loser_elo_diff'] >= 100:\n",
    "            games_data.at[i, 'winner_loser_elo_diff'] = 'Won against very high rated player'\n",
    "        elif row['winner_loser_elo_diff'] >= 50 and row['winner_loser_elo_diff'] < 100:\n",
    "            games_data.at[i, 'winner_loser_elo_diff'] = 'Won agaist high rated player'\n",
    "        elif row['winner_loser_elo_diff'] > 0 and row['winner_loser_elo_diff'] < 50:\n",
    "            games_data.at[i, 'winner_loser_elo_diff'] = 'Won against Similar Rating'\n",
    "\n",
    "        elif row['winner_loser_elo_diff'] <= -100:\n",
    "            games_data.at[i, 'winner_loser_elo_diff'] = 'Won against very high rated player'\n",
    "        elif row['winner_loser_elo_diff'] <= -50 and row['winner_loser_elo_diff'] > -100:\n",
    "            games_data.at[i, 'winner_loser_elo_diff'] = 'Won agaist high rated player'\n",
    "        elif row['winner_loser_elo_diff'] < 0 and row['winner_loser_elo_diff'] > -50:\n",
    "            games_data.at[i, 'winner_loser_elo_diff'] = 'Won against Similar Rating'\n",
    "            \n",
    "\n",
    "    elif (row['white'] == 'jiit912') | (row['white'] == 'jiit9124') and row['result'] == 'Lost':\n",
    "        if row['winner_loser_elo_diff'] >= 100:\n",
    "            games_data.at[i, 'winner_loser_elo_diff'] = 'Lost against very high rated player'\n",
    "        elif row['winner_loser_elo_diff'] >= 50 and row['winner_loser_elo_diff'] < 100:\n",
    "            games_data.at[i, 'winner_loser_elo_diff'] = 'Lost agaist high rated player'\n",
    "        elif row['winner_loser_elo_diff'] >= 0 and row['winner_loser_elo_diff'] < 50:\n",
    "            games_data.at[i, 'winner_loser_elo_diff'] = 'Lost against Similar Rating'\n",
    "        if row['winner_loser_elo_diff'] <= -100:\n",
    "            games_data.at[i, 'winner_loser_elo_diff'] = 'Lost against very high rated player'\n",
    "        elif row['winner_loser_elo_diff'] <= -50 and row['winner_loser_elo_diff'] > -100:\n",
    "            games_data.at[i, 'winner_loser_elo_diff'] = 'Lost agaist high rated player'\n",
    "        elif row['winner_loser_elo_diff'] < 0 and row['winner_loser_elo_diff'] > -50:\n",
    "            games_data.at[i, 'winner_loser_elo_diff'] = 'Lost against Similar Rating'\n",
    "        # if row['winner_loser_elo_diff'] >= 70:\n",
    "        #     df.at[i, 'winner_loser_elo_diff'] = 'Lost against very high rated player'\n",
    "        # elif row['winner_loser_elo_diff'] >= 30 and row['winner_loser_elo_diff'] <= 70:\n",
    "        #     df.at[i, 'winner_loser_elo_diff'] = 'Lost agaist high rated player'\n",
    "        # elif row['winner_loser_elo_diff'] >= 0 and row['winner_loser_elo_diff'] <= 30:\n",
    "        #     df.at[i, 'winner_loser_elo_diff'] = 'Lost against Similar Rating'\n",
    "\n",
    "    elif (row['black'] == 'jiit912') | (row['black'] == 'jiit9124') and row['result'] == 'Won':\n",
    "        # if row['winner_loser_elo_diff'] <= -100:\n",
    "        #     df.at[i, 'winner_loser_elo_diff'] = 'Won against very high rated player (Great Victory)'\n",
    "        # elif row['winner_loser_elo_diff'] <= -50 and row['winner_loser_elo_diff'] > -100:\n",
    "        #     df.at[i, 'winner_loser_elo_diff'] = 'Won agaist high rated player (Excellent Win)'\n",
    "        # elif row['winner_loser_elo_diff'] <= 0 and row['winner_loser_elo_diff'] > -50:\n",
    "        #     df.at[i, 'winner_loser_elo_diff'] = 'Won against Similar Rating (Good Win)'\n",
    "        if row['winner_loser_elo_diff'] >= 100:\n",
    "            games_data.at[i, 'winner_loser_elo_diff'] = 'Won against very high rated player'\n",
    "        elif row['winner_loser_elo_diff'] >= 50 and row['winner_loser_elo_diff'] < 100:\n",
    "            games_data.at[i, 'winner_loser_elo_diff'] = 'Won agaist high rated player'\n",
    "        elif row['winner_loser_elo_diff'] >= 0 and row['winner_loser_elo_diff'] < 50:\n",
    "            games_data.at[i, 'winner_loser_elo_diff'] = 'Won against Similar Rating'\n",
    "        elif row['winner_loser_elo_diff'] <= -100:\n",
    "            games_data.at[i, 'winner_loser_elo_diff'] = 'Won against very high rated player'\n",
    "        elif row['winner_loser_elo_diff'] <= -50 and row['winner_loser_elo_diff'] > -100:\n",
    "            games_data.at[i, 'winner_loser_elo_diff'] = 'Won agaist high rated player'\n",
    "        elif row['winner_loser_elo_diff'] < 0 and row['winner_loser_elo_diff'] > -50:\n",
    "            games_data.at[i, 'winner_loser_elo_diff'] = 'Won against Similar Rating'\n",
    "\n",
    "\n",
    "    \n",
    "    elif (row['black'] == 'jiit912') | (row['black'] == 'jiit9124') and row['result'] == 'Lost':\n",
    "        if row['winner_loser_elo_diff'] <= -100:\n",
    "            games_data.at[i, 'winner_loser_elo_diff'] = 'Lost against very high rated player'\n",
    "        elif row['winner_loser_elo_diff'] <= -50 and row['winner_loser_elo_diff'] > -100:\n",
    "            games_data.at[i, 'winner_loser_elo_diff'] = 'Lost agaist high rated player'\n",
    "        elif row['winner_loser_elo_diff'] <= 0 and row['winner_loser_elo_diff'] > -50:\n",
    "            games_data.at[i, 'winner_loser_elo_diff'] = 'Lost against Similar Rating'\n",
    "        elif row['winner_loser_elo_diff'] >= 100:\n",
    "            games_data.at[i, 'winner_loser_elo_diff'] = 'Lost against very high rated player'\n",
    "        elif row['winner_loser_elo_diff'] >= 50 and row['winner_loser_elo_diff'] < 100:\n",
    "            games_data.at[i, 'winner_loser_elo_diff'] = 'Lost agaist high rated player'\n",
    "        elif row['winner_loser_elo_diff'] > 0 and row['winner_loser_elo_diff'] < 50:\n",
    "            games_data.at[i, 'winner_loser_elo_diff'] = 'Lost against Similar Rating'\n",
    "    else:\n",
    "        games_data.at[i, 'winner_loser_elo_diff'] = \"Draw Game\""
   ]
  },
  {
   "cell_type": "code",
   "execution_count": 31,
   "id": "8af7cc2d",
   "metadata": {},
   "outputs": [
    {
     "data": {
      "text/plain": [
       "winner_loser_elo_diff\n",
       "Won against Similar Rating             2506\n",
       "Lost against Similar Rating            2369\n",
       "Won agaist high rated player            528\n",
       "Lost agaist high rated player           484\n",
       "Draw Game                               173\n",
       "Won against very high rated player      144\n",
       "Lost against very high rated player     131\n",
       "0                                        18\n",
       "Name: count, dtype: int64"
      ]
     },
     "execution_count": 31,
     "metadata": {},
     "output_type": "execute_result"
    }
   ],
   "source": [
    "games_data['winner_loser_elo_diff'].value_counts()"
   ]
  },
  {
   "cell_type": "code",
   "execution_count": 32,
   "id": "eeaeff23",
   "metadata": {},
   "outputs": [
    {
     "data": {
      "text/plain": [
       "variant\n",
       "Standard            589\n",
       "Crazyhouse           17\n",
       "3-check               2\n",
       "King of the Hill      1\n",
       "Chess960              1\n",
       "Name: count, dtype: int64"
      ]
     },
     "execution_count": 32,
     "metadata": {},
     "output_type": "execute_result"
    }
   ],
   "source": [
    "games_data['variant'].value_counts()"
   ]
  },
  {
   "cell_type": "markdown",
   "id": "2d929416",
   "metadata": {},
   "source": [
    "### Jiit912 Chess.com rating line chart\n",
    "\n",
    "#### In Rapid"
   ]
  },
  {
   "cell_type": "code",
   "execution_count": 33,
   "id": "bb0f4570",
   "metadata": {},
   "outputs": [],
   "source": [
    "jiitchesscomrating = []\n",
    "dates = []\n",
    "for i, row in games_data.iterrows():\n",
    "    if row['time_control'] in ['Rapid']:\n",
    "        if row['site'] == 'Chess.com' and (row['white']=='jiit912' or row['black']=='jiit912'):\n",
    "            rating = row['myrating']\n",
    "            jiitchesscomrating.append(rating)\n",
    "            date = row['utc_date']\n",
    "            dates.append(date)\n",
    "\n",
    "# Create a DataFrame from the lists\n",
    "ratings_df = pd.DataFrame({'Rating': jiitchesscomrating, 'Date': dates})\n"
   ]
  },
  {
   "cell_type": "code",
   "execution_count": 34,
   "id": "baaada12",
   "metadata": {},
   "outputs": [
    {
     "data": {
      "text/html": [
       "<div>\n",
       "<style scoped>\n",
       "    .dataframe tbody tr th:only-of-type {\n",
       "        vertical-align: middle;\n",
       "    }\n",
       "\n",
       "    .dataframe tbody tr th {\n",
       "        vertical-align: top;\n",
       "    }\n",
       "\n",
       "    .dataframe thead th {\n",
       "        text-align: right;\n",
       "    }\n",
       "</style>\n",
       "<table border=\"1\" class=\"dataframe\">\n",
       "  <thead>\n",
       "    <tr style=\"text-align: right;\">\n",
       "      <th></th>\n",
       "      <th>Rating</th>\n",
       "      <th>Date</th>\n",
       "    </tr>\n",
       "  </thead>\n",
       "  <tbody>\n",
       "    <tr>\n",
       "      <th>0</th>\n",
       "      <td>756.0</td>\n",
       "      <td>2020.05.20</td>\n",
       "    </tr>\n",
       "    <tr>\n",
       "      <th>1</th>\n",
       "      <td>818.0</td>\n",
       "      <td>2019.11.01</td>\n",
       "    </tr>\n",
       "    <tr>\n",
       "      <th>2</th>\n",
       "      <td>797.0</td>\n",
       "      <td>2019.11.01</td>\n",
       "    </tr>\n",
       "    <tr>\n",
       "      <th>3</th>\n",
       "      <td>812.0</td>\n",
       "      <td>2019.11.01</td>\n",
       "    </tr>\n",
       "    <tr>\n",
       "      <th>4</th>\n",
       "      <td>828.0</td>\n",
       "      <td>2019.11.01</td>\n",
       "    </tr>\n",
       "    <tr>\n",
       "      <th>...</th>\n",
       "      <td>...</td>\n",
       "      <td>...</td>\n",
       "    </tr>\n",
       "    <tr>\n",
       "      <th>2087</th>\n",
       "      <td>1479.0</td>\n",
       "      <td>2023.10.03</td>\n",
       "    </tr>\n",
       "    <tr>\n",
       "      <th>2088</th>\n",
       "      <td>1488.0</td>\n",
       "      <td>2023.10.03</td>\n",
       "    </tr>\n",
       "    <tr>\n",
       "      <th>2089</th>\n",
       "      <td>1496.0</td>\n",
       "      <td>2023.10.03</td>\n",
       "    </tr>\n",
       "    <tr>\n",
       "      <th>2090</th>\n",
       "      <td>1487.0</td>\n",
       "      <td>2023.10.03</td>\n",
       "    </tr>\n",
       "    <tr>\n",
       "      <th>2091</th>\n",
       "      <td>1478.0</td>\n",
       "      <td>2023.10.03</td>\n",
       "    </tr>\n",
       "  </tbody>\n",
       "</table>\n",
       "<p>2092 rows × 2 columns</p>\n",
       "</div>"
      ],
      "text/plain": [
       "      Rating        Date\n",
       "0      756.0  2020.05.20\n",
       "1      818.0  2019.11.01\n",
       "2      797.0  2019.11.01\n",
       "3      812.0  2019.11.01\n",
       "4      828.0  2019.11.01\n",
       "...      ...         ...\n",
       "2087  1479.0  2023.10.03\n",
       "2088  1488.0  2023.10.03\n",
       "2089  1496.0  2023.10.03\n",
       "2090  1487.0  2023.10.03\n",
       "2091  1478.0  2023.10.03\n",
       "\n",
       "[2092 rows x 2 columns]"
      ]
     },
     "execution_count": 34,
     "metadata": {},
     "output_type": "execute_result"
    }
   ],
   "source": [
    "ratings_df"
   ]
  },
  {
   "cell_type": "code",
   "execution_count": 35,
   "id": "aeef9326",
   "metadata": {},
   "outputs": [],
   "source": [
    "ratings_df = ratings_df.sort_values(by='Date')\n",
    "ratings_df\n",
    "ratings_df['Date'] = pd.to_datetime(ratings_df['Date'])\n",
    "grouped_by_year = ratings_df.groupby(ratings_df['Date'].dt.year)"
   ]
  },
  {
   "cell_type": "markdown",
   "id": "1536fc48",
   "metadata": {},
   "source": [
    "### Line Plots for all the individual year Ratings"
   ]
  },
  {
   "cell_type": "code",
   "execution_count": null,
   "id": "0257a954",
   "metadata": {},
   "outputs": [],
   "source": [
    "fig = plt.subplots(figsize=(20, 6))\n",
    "sns.lineplot(x='Date', y='Rating', data=ratings_df).set(title='Chess Ratings Over Time', xlabel='Date', ylabel='Rating')\n",
    "sns.set_theme(style='white', font_scale=3)\n",
    "##2019\n",
    "fig = plt.subplots(figsize=(20, 6))\n",
    "sns.lineplot(x='Date', y='Rating', data=ratings_df[ratings_df['Date'].dt.year == 2019]).set(title='Chess Ratings for year 2019', xlabel='Date', ylabel='Rating')\n",
    "sns.set_theme(style='white', font_scale=3)\n",
    "# Rotate x-axis labels for better readability (optional)\n",
    "plt.xticks(rotation=45)\n",
    "##2020\n",
    "fig = plt.subplots(figsize=(20, 6))\n",
    "sns.lineplot(x='Date', y='Rating', data=ratings_df[ratings_df['Date'].dt.year == 2020]).set(title='Chess Ratings for year 2020', xlabel='Date', ylabel='Rating')\n",
    "sns.set_theme(style='white', font_scale=3)\n",
    "# Rotate x-axis labels for better readability (optional)\n",
    "plt.xticks(rotation=45)\n",
    "##2021\n",
    "fig = plt.subplots(figsize=(20, 6))\n",
    "sns.lineplot(x='Date', y='Rating', data=ratings_df[ratings_df['Date'].dt.year == 2021]).set(title='Chess Ratings for year 2021', xlabel='Date', ylabel='Rating')\n",
    "sns.set_theme(style='white', font_scale=3)\n",
    "# Rotate x-axis labels for better readability (optional)\n",
    "plt.xticks(rotation=45)\n",
    "##2022\n",
    "fig = plt.subplots(figsize=(20, 6))\n",
    "sns.lineplot(x='Date', y='Rating', data=ratings_df[ratings_df['Date'].dt.year == 2022]).set(title='Chess Ratings for year 2022', xlabel='Date', ylabel='Rating')\n",
    "sns.set_theme(style='white', font_scale=3)\n",
    "# Rotate x-axis labels for better readability (optional)\n",
    "plt.xticks(rotation=45)\n",
    "##2023\n",
    "fig = plt.subplots(figsize=(20, 6))\n",
    "sns.lineplot(x='Date', y='Rating', data=ratings_df[ratings_df['Date'].dt.year == 2023]).set(title='Chess Ratings for year 2023', xlabel='Date', ylabel='Rating')\n",
    "sns.set_theme(style='white', font_scale=3)\n",
    "# Rotate x-axis labels for better readability (optional)\n",
    "plt.xticks(rotation=45)\n",
    "fig.show()"
   ]
  },
  {
   "cell_type": "markdown",
   "id": "bbb9da2b",
   "metadata": {},
   "source": [
    "### Interactive Line Plots for all Individual Years"
   ]
  },
  {
   "cell_type": "code",
   "execution_count": 117,
   "id": "652b3450",
   "metadata": {},
   "outputs": [
    {
     "data": {
      "application/vnd.plotly.v1+json": {
       "config": {
        "plotlyServerURL": "https://plot.ly"
       },
       "data": [
        {
         "hovertemplate": "Date=%{x}<br>Rating=%{y}<extra></extra>",
         "legendgroup": "",
         "line": {
          "color": "#636efa",
          "dash": "solid"
         },
         "marker": {
          "symbol": "circle"
         },
         "mode": "lines",
         "name": "",
         "orientation": "v",
         "showlegend": false,
         "type": "scatter",
         "x": [],
         "xaxis": "x",
         "y": [],
         "yaxis": "y"
        }
       ],
       "layout": {
        "legend": {
         "tracegroupgap": 0
        },
        "margin": {
         "t": 60
        },
        "template": {
         "data": {
          "bar": [
           {
            "error_x": {
             "color": "#2a3f5f"
            },
            "error_y": {
             "color": "#2a3f5f"
            },
            "marker": {
             "line": {
              "color": "#E5ECF6",
              "width": 0.5
             },
             "pattern": {
              "fillmode": "overlay",
              "size": 10,
              "solidity": 0.2
             }
            },
            "type": "bar"
           }
          ],
          "barpolar": [
           {
            "marker": {
             "line": {
              "color": "#E5ECF6",
              "width": 0.5
             },
             "pattern": {
              "fillmode": "overlay",
              "size": 10,
              "solidity": 0.2
             }
            },
            "type": "barpolar"
           }
          ],
          "carpet": [
           {
            "aaxis": {
             "endlinecolor": "#2a3f5f",
             "gridcolor": "white",
             "linecolor": "white",
             "minorgridcolor": "white",
             "startlinecolor": "#2a3f5f"
            },
            "baxis": {
             "endlinecolor": "#2a3f5f",
             "gridcolor": "white",
             "linecolor": "white",
             "minorgridcolor": "white",
             "startlinecolor": "#2a3f5f"
            },
            "type": "carpet"
           }
          ],
          "choropleth": [
           {
            "colorbar": {
             "outlinewidth": 0,
             "ticks": ""
            },
            "type": "choropleth"
           }
          ],
          "contour": [
           {
            "colorbar": {
             "outlinewidth": 0,
             "ticks": ""
            },
            "colorscale": [
             [
              0,
              "#0d0887"
             ],
             [
              0.1111111111111111,
              "#46039f"
             ],
             [
              0.2222222222222222,
              "#7201a8"
             ],
             [
              0.3333333333333333,
              "#9c179e"
             ],
             [
              0.4444444444444444,
              "#bd3786"
             ],
             [
              0.5555555555555556,
              "#d8576b"
             ],
             [
              0.6666666666666666,
              "#ed7953"
             ],
             [
              0.7777777777777778,
              "#fb9f3a"
             ],
             [
              0.8888888888888888,
              "#fdca26"
             ],
             [
              1,
              "#f0f921"
             ]
            ],
            "type": "contour"
           }
          ],
          "contourcarpet": [
           {
            "colorbar": {
             "outlinewidth": 0,
             "ticks": ""
            },
            "type": "contourcarpet"
           }
          ],
          "heatmap": [
           {
            "colorbar": {
             "outlinewidth": 0,
             "ticks": ""
            },
            "colorscale": [
             [
              0,
              "#0d0887"
             ],
             [
              0.1111111111111111,
              "#46039f"
             ],
             [
              0.2222222222222222,
              "#7201a8"
             ],
             [
              0.3333333333333333,
              "#9c179e"
             ],
             [
              0.4444444444444444,
              "#bd3786"
             ],
             [
              0.5555555555555556,
              "#d8576b"
             ],
             [
              0.6666666666666666,
              "#ed7953"
             ],
             [
              0.7777777777777778,
              "#fb9f3a"
             ],
             [
              0.8888888888888888,
              "#fdca26"
             ],
             [
              1,
              "#f0f921"
             ]
            ],
            "type": "heatmap"
           }
          ],
          "heatmapgl": [
           {
            "colorbar": {
             "outlinewidth": 0,
             "ticks": ""
            },
            "colorscale": [
             [
              0,
              "#0d0887"
             ],
             [
              0.1111111111111111,
              "#46039f"
             ],
             [
              0.2222222222222222,
              "#7201a8"
             ],
             [
              0.3333333333333333,
              "#9c179e"
             ],
             [
              0.4444444444444444,
              "#bd3786"
             ],
             [
              0.5555555555555556,
              "#d8576b"
             ],
             [
              0.6666666666666666,
              "#ed7953"
             ],
             [
              0.7777777777777778,
              "#fb9f3a"
             ],
             [
              0.8888888888888888,
              "#fdca26"
             ],
             [
              1,
              "#f0f921"
             ]
            ],
            "type": "heatmapgl"
           }
          ],
          "histogram": [
           {
            "marker": {
             "pattern": {
              "fillmode": "overlay",
              "size": 10,
              "solidity": 0.2
             }
            },
            "type": "histogram"
           }
          ],
          "histogram2d": [
           {
            "colorbar": {
             "outlinewidth": 0,
             "ticks": ""
            },
            "colorscale": [
             [
              0,
              "#0d0887"
             ],
             [
              0.1111111111111111,
              "#46039f"
             ],
             [
              0.2222222222222222,
              "#7201a8"
             ],
             [
              0.3333333333333333,
              "#9c179e"
             ],
             [
              0.4444444444444444,
              "#bd3786"
             ],
             [
              0.5555555555555556,
              "#d8576b"
             ],
             [
              0.6666666666666666,
              "#ed7953"
             ],
             [
              0.7777777777777778,
              "#fb9f3a"
             ],
             [
              0.8888888888888888,
              "#fdca26"
             ],
             [
              1,
              "#f0f921"
             ]
            ],
            "type": "histogram2d"
           }
          ],
          "histogram2dcontour": [
           {
            "colorbar": {
             "outlinewidth": 0,
             "ticks": ""
            },
            "colorscale": [
             [
              0,
              "#0d0887"
             ],
             [
              0.1111111111111111,
              "#46039f"
             ],
             [
              0.2222222222222222,
              "#7201a8"
             ],
             [
              0.3333333333333333,
              "#9c179e"
             ],
             [
              0.4444444444444444,
              "#bd3786"
             ],
             [
              0.5555555555555556,
              "#d8576b"
             ],
             [
              0.6666666666666666,
              "#ed7953"
             ],
             [
              0.7777777777777778,
              "#fb9f3a"
             ],
             [
              0.8888888888888888,
              "#fdca26"
             ],
             [
              1,
              "#f0f921"
             ]
            ],
            "type": "histogram2dcontour"
           }
          ],
          "mesh3d": [
           {
            "colorbar": {
             "outlinewidth": 0,
             "ticks": ""
            },
            "type": "mesh3d"
           }
          ],
          "parcoords": [
           {
            "line": {
             "colorbar": {
              "outlinewidth": 0,
              "ticks": ""
             }
            },
            "type": "parcoords"
           }
          ],
          "pie": [
           {
            "automargin": true,
            "type": "pie"
           }
          ],
          "scatter": [
           {
            "fillpattern": {
             "fillmode": "overlay",
             "size": 10,
             "solidity": 0.2
            },
            "type": "scatter"
           }
          ],
          "scatter3d": [
           {
            "line": {
             "colorbar": {
              "outlinewidth": 0,
              "ticks": ""
             }
            },
            "marker": {
             "colorbar": {
              "outlinewidth": 0,
              "ticks": ""
             }
            },
            "type": "scatter3d"
           }
          ],
          "scattercarpet": [
           {
            "marker": {
             "colorbar": {
              "outlinewidth": 0,
              "ticks": ""
             }
            },
            "type": "scattercarpet"
           }
          ],
          "scattergeo": [
           {
            "marker": {
             "colorbar": {
              "outlinewidth": 0,
              "ticks": ""
             }
            },
            "type": "scattergeo"
           }
          ],
          "scattergl": [
           {
            "marker": {
             "colorbar": {
              "outlinewidth": 0,
              "ticks": ""
             }
            },
            "type": "scattergl"
           }
          ],
          "scattermapbox": [
           {
            "marker": {
             "colorbar": {
              "outlinewidth": 0,
              "ticks": ""
             }
            },
            "type": "scattermapbox"
           }
          ],
          "scatterpolar": [
           {
            "marker": {
             "colorbar": {
              "outlinewidth": 0,
              "ticks": ""
             }
            },
            "type": "scatterpolar"
           }
          ],
          "scatterpolargl": [
           {
            "marker": {
             "colorbar": {
              "outlinewidth": 0,
              "ticks": ""
             }
            },
            "type": "scatterpolargl"
           }
          ],
          "scatterternary": [
           {
            "marker": {
             "colorbar": {
              "outlinewidth": 0,
              "ticks": ""
             }
            },
            "type": "scatterternary"
           }
          ],
          "surface": [
           {
            "colorbar": {
             "outlinewidth": 0,
             "ticks": ""
            },
            "colorscale": [
             [
              0,
              "#0d0887"
             ],
             [
              0.1111111111111111,
              "#46039f"
             ],
             [
              0.2222222222222222,
              "#7201a8"
             ],
             [
              0.3333333333333333,
              "#9c179e"
             ],
             [
              0.4444444444444444,
              "#bd3786"
             ],
             [
              0.5555555555555556,
              "#d8576b"
             ],
             [
              0.6666666666666666,
              "#ed7953"
             ],
             [
              0.7777777777777778,
              "#fb9f3a"
             ],
             [
              0.8888888888888888,
              "#fdca26"
             ],
             [
              1,
              "#f0f921"
             ]
            ],
            "type": "surface"
           }
          ],
          "table": [
           {
            "cells": {
             "fill": {
              "color": "#EBF0F8"
             },
             "line": {
              "color": "white"
             }
            },
            "header": {
             "fill": {
              "color": "#C8D4E3"
             },
             "line": {
              "color": "white"
             }
            },
            "type": "table"
           }
          ]
         },
         "layout": {
          "annotationdefaults": {
           "arrowcolor": "#2a3f5f",
           "arrowhead": 0,
           "arrowwidth": 1
          },
          "autotypenumbers": "strict",
          "coloraxis": {
           "colorbar": {
            "outlinewidth": 0,
            "ticks": ""
           }
          },
          "colorscale": {
           "diverging": [
            [
             0,
             "#8e0152"
            ],
            [
             0.1,
             "#c51b7d"
            ],
            [
             0.2,
             "#de77ae"
            ],
            [
             0.3,
             "#f1b6da"
            ],
            [
             0.4,
             "#fde0ef"
            ],
            [
             0.5,
             "#f7f7f7"
            ],
            [
             0.6,
             "#e6f5d0"
            ],
            [
             0.7,
             "#b8e186"
            ],
            [
             0.8,
             "#7fbc41"
            ],
            [
             0.9,
             "#4d9221"
            ],
            [
             1,
             "#276419"
            ]
           ],
           "sequential": [
            [
             0,
             "#0d0887"
            ],
            [
             0.1111111111111111,
             "#46039f"
            ],
            [
             0.2222222222222222,
             "#7201a8"
            ],
            [
             0.3333333333333333,
             "#9c179e"
            ],
            [
             0.4444444444444444,
             "#bd3786"
            ],
            [
             0.5555555555555556,
             "#d8576b"
            ],
            [
             0.6666666666666666,
             "#ed7953"
            ],
            [
             0.7777777777777778,
             "#fb9f3a"
            ],
            [
             0.8888888888888888,
             "#fdca26"
            ],
            [
             1,
             "#f0f921"
            ]
           ],
           "sequentialminus": [
            [
             0,
             "#0d0887"
            ],
            [
             0.1111111111111111,
             "#46039f"
            ],
            [
             0.2222222222222222,
             "#7201a8"
            ],
            [
             0.3333333333333333,
             "#9c179e"
            ],
            [
             0.4444444444444444,
             "#bd3786"
            ],
            [
             0.5555555555555556,
             "#d8576b"
            ],
            [
             0.6666666666666666,
             "#ed7953"
            ],
            [
             0.7777777777777778,
             "#fb9f3a"
            ],
            [
             0.8888888888888888,
             "#fdca26"
            ],
            [
             1,
             "#f0f921"
            ]
           ]
          },
          "colorway": [
           "#636efa",
           "#EF553B",
           "#00cc96",
           "#ab63fa",
           "#FFA15A",
           "#19d3f3",
           "#FF6692",
           "#B6E880",
           "#FF97FF",
           "#FECB52"
          ],
          "font": {
           "color": "#2a3f5f"
          },
          "geo": {
           "bgcolor": "white",
           "lakecolor": "white",
           "landcolor": "#E5ECF6",
           "showlakes": true,
           "showland": true,
           "subunitcolor": "white"
          },
          "hoverlabel": {
           "align": "left"
          },
          "hovermode": "closest",
          "mapbox": {
           "style": "light"
          },
          "paper_bgcolor": "white",
          "plot_bgcolor": "#E5ECF6",
          "polar": {
           "angularaxis": {
            "gridcolor": "white",
            "linecolor": "white",
            "ticks": ""
           },
           "bgcolor": "#E5ECF6",
           "radialaxis": {
            "gridcolor": "white",
            "linecolor": "white",
            "ticks": ""
           }
          },
          "scene": {
           "xaxis": {
            "backgroundcolor": "#E5ECF6",
            "gridcolor": "white",
            "gridwidth": 2,
            "linecolor": "white",
            "showbackground": true,
            "ticks": "",
            "zerolinecolor": "white"
           },
           "yaxis": {
            "backgroundcolor": "#E5ECF6",
            "gridcolor": "white",
            "gridwidth": 2,
            "linecolor": "white",
            "showbackground": true,
            "ticks": "",
            "zerolinecolor": "white"
           },
           "zaxis": {
            "backgroundcolor": "#E5ECF6",
            "gridcolor": "white",
            "gridwidth": 2,
            "linecolor": "white",
            "showbackground": true,
            "ticks": "",
            "zerolinecolor": "white"
           }
          },
          "shapedefaults": {
           "line": {
            "color": "#2a3f5f"
           }
          },
          "ternary": {
           "aaxis": {
            "gridcolor": "white",
            "linecolor": "white",
            "ticks": ""
           },
           "baxis": {
            "gridcolor": "white",
            "linecolor": "white",
            "ticks": ""
           },
           "bgcolor": "#E5ECF6",
           "caxis": {
            "gridcolor": "white",
            "linecolor": "white",
            "ticks": ""
           }
          },
          "title": {
           "x": 0.05
          },
          "xaxis": {
           "automargin": true,
           "gridcolor": "white",
           "linecolor": "white",
           "ticks": "",
           "title": {
            "standoff": 15
           },
           "zerolinecolor": "white",
           "zerolinewidth": 2
          },
          "yaxis": {
           "automargin": true,
           "gridcolor": "white",
           "linecolor": "white",
           "ticks": "",
           "title": {
            "standoff": 15
           },
           "zerolinecolor": "white",
           "zerolinewidth": 2
          }
         }
        },
        "title": {
         "text": "Chess Ratings for year 2019"
        },
        "xaxis": {
         "anchor": "y",
         "domain": [
          0,
          1
         ],
         "title": {
          "text": "Date"
         }
        },
        "yaxis": {
         "anchor": "x",
         "domain": [
          0,
          1
         ],
         "title": {
          "text": "Rating"
         }
        }
       }
      },
      "text/html": [
       "<div>                            <div id=\"7b936bdf-f705-4785-aed7-12ad85d4655c\" class=\"plotly-graph-div\" style=\"height:525px; width:100%;\"></div>            <script type=\"text/javascript\">                require([\"plotly\"], function(Plotly) {                    window.PLOTLYENV=window.PLOTLYENV || {};                                    if (document.getElementById(\"7b936bdf-f705-4785-aed7-12ad85d4655c\")) {                    Plotly.newPlot(                        \"7b936bdf-f705-4785-aed7-12ad85d4655c\",                        [{\"hovertemplate\":\"Date=%{x}\\u003cbr\\u003eRating=%{y}\\u003cextra\\u003e\\u003c\\u002fextra\\u003e\",\"legendgroup\":\"\",\"line\":{\"color\":\"#636efa\",\"dash\":\"solid\"},\"marker\":{\"symbol\":\"circle\"},\"mode\":\"lines\",\"name\":\"\",\"orientation\":\"v\",\"showlegend\":false,\"x\":[],\"xaxis\":\"x\",\"y\":[],\"yaxis\":\"y\",\"type\":\"scatter\"}],                        {\"template\":{\"data\":{\"histogram2dcontour\":[{\"type\":\"histogram2dcontour\",\"colorbar\":{\"outlinewidth\":0,\"ticks\":\"\"},\"colorscale\":[[0.0,\"#0d0887\"],[0.1111111111111111,\"#46039f\"],[0.2222222222222222,\"#7201a8\"],[0.3333333333333333,\"#9c179e\"],[0.4444444444444444,\"#bd3786\"],[0.5555555555555556,\"#d8576b\"],[0.6666666666666666,\"#ed7953\"],[0.7777777777777778,\"#fb9f3a\"],[0.8888888888888888,\"#fdca26\"],[1.0,\"#f0f921\"]]}],\"choropleth\":[{\"type\":\"choropleth\",\"colorbar\":{\"outlinewidth\":0,\"ticks\":\"\"}}],\"histogram2d\":[{\"type\":\"histogram2d\",\"colorbar\":{\"outlinewidth\":0,\"ticks\":\"\"},\"colorscale\":[[0.0,\"#0d0887\"],[0.1111111111111111,\"#46039f\"],[0.2222222222222222,\"#7201a8\"],[0.3333333333333333,\"#9c179e\"],[0.4444444444444444,\"#bd3786\"],[0.5555555555555556,\"#d8576b\"],[0.6666666666666666,\"#ed7953\"],[0.7777777777777778,\"#fb9f3a\"],[0.8888888888888888,\"#fdca26\"],[1.0,\"#f0f921\"]]}],\"heatmap\":[{\"type\":\"heatmap\",\"colorbar\":{\"outlinewidth\":0,\"ticks\":\"\"},\"colorscale\":[[0.0,\"#0d0887\"],[0.1111111111111111,\"#46039f\"],[0.2222222222222222,\"#7201a8\"],[0.3333333333333333,\"#9c179e\"],[0.4444444444444444,\"#bd3786\"],[0.5555555555555556,\"#d8576b\"],[0.6666666666666666,\"#ed7953\"],[0.7777777777777778,\"#fb9f3a\"],[0.8888888888888888,\"#fdca26\"],[1.0,\"#f0f921\"]]}],\"heatmapgl\":[{\"type\":\"heatmapgl\",\"colorbar\":{\"outlinewidth\":0,\"ticks\":\"\"},\"colorscale\":[[0.0,\"#0d0887\"],[0.1111111111111111,\"#46039f\"],[0.2222222222222222,\"#7201a8\"],[0.3333333333333333,\"#9c179e\"],[0.4444444444444444,\"#bd3786\"],[0.5555555555555556,\"#d8576b\"],[0.6666666666666666,\"#ed7953\"],[0.7777777777777778,\"#fb9f3a\"],[0.8888888888888888,\"#fdca26\"],[1.0,\"#f0f921\"]]}],\"contourcarpet\":[{\"type\":\"contourcarpet\",\"colorbar\":{\"outlinewidth\":0,\"ticks\":\"\"}}],\"contour\":[{\"type\":\"contour\",\"colorbar\":{\"outlinewidth\":0,\"ticks\":\"\"},\"colorscale\":[[0.0,\"#0d0887\"],[0.1111111111111111,\"#46039f\"],[0.2222222222222222,\"#7201a8\"],[0.3333333333333333,\"#9c179e\"],[0.4444444444444444,\"#bd3786\"],[0.5555555555555556,\"#d8576b\"],[0.6666666666666666,\"#ed7953\"],[0.7777777777777778,\"#fb9f3a\"],[0.8888888888888888,\"#fdca26\"],[1.0,\"#f0f921\"]]}],\"surface\":[{\"type\":\"surface\",\"colorbar\":{\"outlinewidth\":0,\"ticks\":\"\"},\"colorscale\":[[0.0,\"#0d0887\"],[0.1111111111111111,\"#46039f\"],[0.2222222222222222,\"#7201a8\"],[0.3333333333333333,\"#9c179e\"],[0.4444444444444444,\"#bd3786\"],[0.5555555555555556,\"#d8576b\"],[0.6666666666666666,\"#ed7953\"],[0.7777777777777778,\"#fb9f3a\"],[0.8888888888888888,\"#fdca26\"],[1.0,\"#f0f921\"]]}],\"mesh3d\":[{\"type\":\"mesh3d\",\"colorbar\":{\"outlinewidth\":0,\"ticks\":\"\"}}],\"scatter\":[{\"fillpattern\":{\"fillmode\":\"overlay\",\"size\":10,\"solidity\":0.2},\"type\":\"scatter\"}],\"parcoords\":[{\"type\":\"parcoords\",\"line\":{\"colorbar\":{\"outlinewidth\":0,\"ticks\":\"\"}}}],\"scatterpolargl\":[{\"type\":\"scatterpolargl\",\"marker\":{\"colorbar\":{\"outlinewidth\":0,\"ticks\":\"\"}}}],\"bar\":[{\"error_x\":{\"color\":\"#2a3f5f\"},\"error_y\":{\"color\":\"#2a3f5f\"},\"marker\":{\"line\":{\"color\":\"#E5ECF6\",\"width\":0.5},\"pattern\":{\"fillmode\":\"overlay\",\"size\":10,\"solidity\":0.2}},\"type\":\"bar\"}],\"scattergeo\":[{\"type\":\"scattergeo\",\"marker\":{\"colorbar\":{\"outlinewidth\":0,\"ticks\":\"\"}}}],\"scatterpolar\":[{\"type\":\"scatterpolar\",\"marker\":{\"colorbar\":{\"outlinewidth\":0,\"ticks\":\"\"}}}],\"histogram\":[{\"marker\":{\"pattern\":{\"fillmode\":\"overlay\",\"size\":10,\"solidity\":0.2}},\"type\":\"histogram\"}],\"scattergl\":[{\"type\":\"scattergl\",\"marker\":{\"colorbar\":{\"outlinewidth\":0,\"ticks\":\"\"}}}],\"scatter3d\":[{\"type\":\"scatter3d\",\"line\":{\"colorbar\":{\"outlinewidth\":0,\"ticks\":\"\"}},\"marker\":{\"colorbar\":{\"outlinewidth\":0,\"ticks\":\"\"}}}],\"scattermapbox\":[{\"type\":\"scattermapbox\",\"marker\":{\"colorbar\":{\"outlinewidth\":0,\"ticks\":\"\"}}}],\"scatterternary\":[{\"type\":\"scatterternary\",\"marker\":{\"colorbar\":{\"outlinewidth\":0,\"ticks\":\"\"}}}],\"scattercarpet\":[{\"type\":\"scattercarpet\",\"marker\":{\"colorbar\":{\"outlinewidth\":0,\"ticks\":\"\"}}}],\"carpet\":[{\"aaxis\":{\"endlinecolor\":\"#2a3f5f\",\"gridcolor\":\"white\",\"linecolor\":\"white\",\"minorgridcolor\":\"white\",\"startlinecolor\":\"#2a3f5f\"},\"baxis\":{\"endlinecolor\":\"#2a3f5f\",\"gridcolor\":\"white\",\"linecolor\":\"white\",\"minorgridcolor\":\"white\",\"startlinecolor\":\"#2a3f5f\"},\"type\":\"carpet\"}],\"table\":[{\"cells\":{\"fill\":{\"color\":\"#EBF0F8\"},\"line\":{\"color\":\"white\"}},\"header\":{\"fill\":{\"color\":\"#C8D4E3\"},\"line\":{\"color\":\"white\"}},\"type\":\"table\"}],\"barpolar\":[{\"marker\":{\"line\":{\"color\":\"#E5ECF6\",\"width\":0.5},\"pattern\":{\"fillmode\":\"overlay\",\"size\":10,\"solidity\":0.2}},\"type\":\"barpolar\"}],\"pie\":[{\"automargin\":true,\"type\":\"pie\"}]},\"layout\":{\"autotypenumbers\":\"strict\",\"colorway\":[\"#636efa\",\"#EF553B\",\"#00cc96\",\"#ab63fa\",\"#FFA15A\",\"#19d3f3\",\"#FF6692\",\"#B6E880\",\"#FF97FF\",\"#FECB52\"],\"font\":{\"color\":\"#2a3f5f\"},\"hovermode\":\"closest\",\"hoverlabel\":{\"align\":\"left\"},\"paper_bgcolor\":\"white\",\"plot_bgcolor\":\"#E5ECF6\",\"polar\":{\"bgcolor\":\"#E5ECF6\",\"angularaxis\":{\"gridcolor\":\"white\",\"linecolor\":\"white\",\"ticks\":\"\"},\"radialaxis\":{\"gridcolor\":\"white\",\"linecolor\":\"white\",\"ticks\":\"\"}},\"ternary\":{\"bgcolor\":\"#E5ECF6\",\"aaxis\":{\"gridcolor\":\"white\",\"linecolor\":\"white\",\"ticks\":\"\"},\"baxis\":{\"gridcolor\":\"white\",\"linecolor\":\"white\",\"ticks\":\"\"},\"caxis\":{\"gridcolor\":\"white\",\"linecolor\":\"white\",\"ticks\":\"\"}},\"coloraxis\":{\"colorbar\":{\"outlinewidth\":0,\"ticks\":\"\"}},\"colorscale\":{\"sequential\":[[0.0,\"#0d0887\"],[0.1111111111111111,\"#46039f\"],[0.2222222222222222,\"#7201a8\"],[0.3333333333333333,\"#9c179e\"],[0.4444444444444444,\"#bd3786\"],[0.5555555555555556,\"#d8576b\"],[0.6666666666666666,\"#ed7953\"],[0.7777777777777778,\"#fb9f3a\"],[0.8888888888888888,\"#fdca26\"],[1.0,\"#f0f921\"]],\"sequentialminus\":[[0.0,\"#0d0887\"],[0.1111111111111111,\"#46039f\"],[0.2222222222222222,\"#7201a8\"],[0.3333333333333333,\"#9c179e\"],[0.4444444444444444,\"#bd3786\"],[0.5555555555555556,\"#d8576b\"],[0.6666666666666666,\"#ed7953\"],[0.7777777777777778,\"#fb9f3a\"],[0.8888888888888888,\"#fdca26\"],[1.0,\"#f0f921\"]],\"diverging\":[[0,\"#8e0152\"],[0.1,\"#c51b7d\"],[0.2,\"#de77ae\"],[0.3,\"#f1b6da\"],[0.4,\"#fde0ef\"],[0.5,\"#f7f7f7\"],[0.6,\"#e6f5d0\"],[0.7,\"#b8e186\"],[0.8,\"#7fbc41\"],[0.9,\"#4d9221\"],[1,\"#276419\"]]},\"xaxis\":{\"gridcolor\":\"white\",\"linecolor\":\"white\",\"ticks\":\"\",\"title\":{\"standoff\":15},\"zerolinecolor\":\"white\",\"automargin\":true,\"zerolinewidth\":2},\"yaxis\":{\"gridcolor\":\"white\",\"linecolor\":\"white\",\"ticks\":\"\",\"title\":{\"standoff\":15},\"zerolinecolor\":\"white\",\"automargin\":true,\"zerolinewidth\":2},\"scene\":{\"xaxis\":{\"backgroundcolor\":\"#E5ECF6\",\"gridcolor\":\"white\",\"linecolor\":\"white\",\"showbackground\":true,\"ticks\":\"\",\"zerolinecolor\":\"white\",\"gridwidth\":2},\"yaxis\":{\"backgroundcolor\":\"#E5ECF6\",\"gridcolor\":\"white\",\"linecolor\":\"white\",\"showbackground\":true,\"ticks\":\"\",\"zerolinecolor\":\"white\",\"gridwidth\":2},\"zaxis\":{\"backgroundcolor\":\"#E5ECF6\",\"gridcolor\":\"white\",\"linecolor\":\"white\",\"showbackground\":true,\"ticks\":\"\",\"zerolinecolor\":\"white\",\"gridwidth\":2}},\"shapedefaults\":{\"line\":{\"color\":\"#2a3f5f\"}},\"annotationdefaults\":{\"arrowcolor\":\"#2a3f5f\",\"arrowhead\":0,\"arrowwidth\":1},\"geo\":{\"bgcolor\":\"white\",\"landcolor\":\"#E5ECF6\",\"subunitcolor\":\"white\",\"showland\":true,\"showlakes\":true,\"lakecolor\":\"white\"},\"title\":{\"x\":0.05},\"mapbox\":{\"style\":\"light\"}}},\"xaxis\":{\"anchor\":\"y\",\"domain\":[0.0,1.0],\"title\":{\"text\":\"Date\"}},\"yaxis\":{\"anchor\":\"x\",\"domain\":[0.0,1.0],\"title\":{\"text\":\"Rating\"}},\"legend\":{\"tracegroupgap\":0},\"margin\":{\"t\":60},\"title\":{\"text\":\"Chess Ratings for year 2019\"}},                        {\"responsive\": true}                    ).then(function(){\n",
       "                            \n",
       "var gd = document.getElementById('7b936bdf-f705-4785-aed7-12ad85d4655c');\n",
       "var x = new MutationObserver(function (mutations, observer) {{\n",
       "        var display = window.getComputedStyle(gd).display;\n",
       "        if (!display || display === 'none') {{\n",
       "            console.log([gd, 'removed!']);\n",
       "            Plotly.purge(gd);\n",
       "            observer.disconnect();\n",
       "        }}\n",
       "}});\n",
       "\n",
       "// Listen for the removal of the full notebook cells\n",
       "var notebookContainer = gd.closest('#notebook-container');\n",
       "if (notebookContainer) {{\n",
       "    x.observe(notebookContainer, {childList: true});\n",
       "}}\n",
       "\n",
       "// Listen for the clearing of the current output cell\n",
       "var outputEl = gd.closest('.output');\n",
       "if (outputEl) {{\n",
       "    x.observe(outputEl, {childList: true});\n",
       "}}\n",
       "\n",
       "                        })                };                });            </script>        </div>"
      ]
     },
     "metadata": {},
     "output_type": "display_data"
    },
    {
     "data": {
      "application/vnd.plotly.v1+json": {
       "config": {
        "plotlyServerURL": "https://plot.ly"
       },
       "data": [
        {
         "hovertemplate": "Date=%{x}<br>Rating=%{y}<extra></extra>",
         "legendgroup": "",
         "line": {
          "color": "#636efa",
          "dash": "solid"
         },
         "marker": {
          "symbol": "circle"
         },
         "mode": "lines",
         "name": "",
         "orientation": "v",
         "showlegend": false,
         "type": "scatter",
         "x": [
          "2020-04-27T00:00:00",
          "2020-04-27T00:00:00",
          "2020-04-27T00:00:00",
          "2020-04-27T00:00:00",
          "2020-04-28T00:00:00",
          "2020-04-28T00:00:00",
          "2020-04-28T00:00:00",
          "2020-04-29T00:00:00",
          "2020-05-03T00:00:00",
          "2020-05-03T00:00:00",
          "2020-05-03T00:00:00",
          "2020-05-03T00:00:00",
          "2020-05-03T00:00:00",
          "2020-05-04T00:00:00",
          "2020-05-04T00:00:00",
          "2020-05-08T00:00:00",
          "2020-05-08T00:00:00",
          "2020-05-08T00:00:00",
          "2020-05-08T00:00:00",
          "2020-05-13T00:00:00",
          "2020-05-13T00:00:00",
          "2020-05-14T00:00:00",
          "2020-05-15T00:00:00",
          "2020-05-15T00:00:00",
          "2020-05-15T00:00:00",
          "2020-05-20T00:00:00",
          "2020-05-20T00:00:00",
          "2020-05-31T00:00:00",
          "2020-05-31T00:00:00",
          "2020-06-05T00:00:00",
          "2020-06-05T00:00:00",
          "2020-06-05T00:00:00",
          "2020-06-11T00:00:00",
          "2020-06-12T00:00:00",
          "2020-06-12T00:00:00",
          "2020-06-17T00:00:00",
          "2020-06-17T00:00:00",
          "2020-06-24T00:00:00",
          "2020-06-26T00:00:00",
          "2020-06-27T00:00:00",
          "2020-06-30T00:00:00",
          "2020-07-02T00:00:00",
          "2020-07-02T00:00:00",
          "2020-07-02T00:00:00",
          "2020-07-02T00:00:00",
          "2020-07-02T00:00:00",
          "2020-07-02T00:00:00",
          "2020-07-02T00:00:00",
          "2020-07-03T00:00:00",
          "2020-07-03T00:00:00",
          "2020-07-03T00:00:00",
          "2020-07-03T00:00:00",
          "2020-07-04T00:00:00",
          "2020-07-11T00:00:00",
          "2020-07-11T00:00:00",
          "2020-07-11T00:00:00",
          "2020-07-13T00:00:00",
          "2020-07-13T00:00:00",
          "2020-07-13T00:00:00",
          "2020-07-14T00:00:00",
          "2020-07-14T00:00:00",
          "2020-07-14T00:00:00",
          "2020-07-18T00:00:00",
          "2020-07-18T00:00:00",
          "2020-07-19T00:00:00",
          "2020-07-19T00:00:00",
          "2020-07-19T00:00:00",
          "2020-07-19T00:00:00",
          "2020-07-20T00:00:00",
          "2020-07-21T00:00:00",
          "2020-07-22T00:00:00",
          "2020-07-22T00:00:00",
          "2020-07-22T00:00:00",
          "2020-07-22T00:00:00",
          "2020-07-23T00:00:00",
          "2020-07-23T00:00:00",
          "2020-07-25T00:00:00",
          "2020-07-25T00:00:00",
          "2020-07-25T00:00:00",
          "2020-08-02T00:00:00",
          "2020-08-21T00:00:00",
          "2020-08-21T00:00:00",
          "2020-08-21T00:00:00",
          "2020-08-22T00:00:00",
          "2020-09-04T00:00:00",
          "2020-09-04T00:00:00",
          "2020-09-04T00:00:00",
          "2020-09-04T00:00:00",
          "2020-09-04T00:00:00",
          "2020-09-05T00:00:00",
          "2020-09-18T00:00:00",
          "2020-11-30T00:00:00",
          "2020-11-30T00:00:00",
          "2020-12-01T00:00:00",
          "2020-12-01T00:00:00",
          "2020-12-01T00:00:00",
          "2020-12-01T00:00:00",
          "2020-12-02T00:00:00",
          "2020-12-02T00:00:00",
          "2020-12-02T00:00:00",
          "2020-12-02T00:00:00",
          "2020-12-03T00:00:00",
          "2020-12-03T00:00:00",
          "2020-12-03T00:00:00",
          "2020-12-03T00:00:00",
          "2020-12-04T00:00:00",
          "2020-12-04T00:00:00",
          "2020-12-04T00:00:00",
          "2020-12-04T00:00:00",
          "2020-12-05T00:00:00",
          "2020-12-05T00:00:00",
          "2020-12-08T00:00:00",
          "2020-12-09T00:00:00",
          "2020-12-09T00:00:00",
          "2020-12-10T00:00:00",
          "2020-12-11T00:00:00",
          "2020-12-11T00:00:00",
          "2020-12-11T00:00:00",
          "2020-12-11T00:00:00",
          "2020-12-12T00:00:00",
          "2020-12-12T00:00:00",
          "2020-12-13T00:00:00",
          "2020-12-13T00:00:00",
          "2020-12-13T00:00:00",
          "2020-12-13T00:00:00",
          "2020-12-13T00:00:00",
          "2020-12-14T00:00:00",
          "2020-12-14T00:00:00",
          "2020-12-15T00:00:00",
          "2020-12-15T00:00:00",
          "2020-12-16T00:00:00",
          "2020-12-17T00:00:00",
          "2020-12-17T00:00:00",
          "2020-12-17T00:00:00",
          "2020-12-17T00:00:00",
          "2020-12-17T00:00:00",
          "2020-12-18T00:00:00",
          "2020-12-21T00:00:00",
          "2020-12-24T00:00:00",
          "2020-12-24T00:00:00",
          "2020-12-24T00:00:00",
          "2020-12-24T00:00:00",
          "2020-12-28T00:00:00",
          "2020-12-28T00:00:00",
          "2020-12-28T00:00:00",
          "2020-12-30T00:00:00",
          "2020-12-30T00:00:00",
          "2020-12-30T00:00:00"
         ],
         "xaxis": "x",
         "y": [
          833,
          735,
          null,
          840,
          null,
          795,
          902,
          845,
          754,
          813,
          782,
          887,
          850,
          759,
          737,
          null,
          820,
          801,
          785,
          823,
          843,
          846,
          860,
          830,
          846,
          756,
          756,
          888,
          871,
          885,
          888,
          872,
          773,
          1130,
          1042,
          886,
          901,
          900,
          914,
          925,
          937,
          969,
          957,
          947,
          923,
          946,
          934,
          935,
          938,
          948,
          928,
          958,
          919,
          947,
          937,
          928,
          971,
          963,
          955,
          962,
          955,
          963,
          968,
          976,
          984,
          985,
          977,
          null,
          993,
          1001,
          1018,
          1010,
          1018,
          1026,
          1017,
          1009,
          1024,
          1008,
          1016,
          1016,
          1007,
          1007,
          998,
          1015,
          1022,
          1030,
          1022,
          1014,
          1024,
          1013,
          1120,
          1098,
          1023,
          1164,
          1126,
          null,
          1166,
          1125,
          1160,
          1188,
          1211,
          1235,
          1262,
          1236,
          1255,
          1221,
          1237,
          1242,
          null,
          1206,
          1224,
          1219,
          1232,
          1247,
          1258,
          1272,
          1246,
          1234,
          1260,
          1222,
          null,
          1242,
          1231,
          1241,
          1250,
          1233,
          1241,
          1249,
          1258,
          1250,
          1260,
          1279,
          null,
          1270,
          1271,
          1264,
          1273,
          1280,
          1279,
          1272,
          1272,
          1265,
          1286,
          1294,
          1302,
          1294,
          1286,
          1294
         ],
         "yaxis": "y"
        }
       ],
       "layout": {
        "legend": {
         "tracegroupgap": 0
        },
        "margin": {
         "t": 60
        },
        "template": {
         "data": {
          "bar": [
           {
            "error_x": {
             "color": "#2a3f5f"
            },
            "error_y": {
             "color": "#2a3f5f"
            },
            "marker": {
             "line": {
              "color": "#E5ECF6",
              "width": 0.5
             },
             "pattern": {
              "fillmode": "overlay",
              "size": 10,
              "solidity": 0.2
             }
            },
            "type": "bar"
           }
          ],
          "barpolar": [
           {
            "marker": {
             "line": {
              "color": "#E5ECF6",
              "width": 0.5
             },
             "pattern": {
              "fillmode": "overlay",
              "size": 10,
              "solidity": 0.2
             }
            },
            "type": "barpolar"
           }
          ],
          "carpet": [
           {
            "aaxis": {
             "endlinecolor": "#2a3f5f",
             "gridcolor": "white",
             "linecolor": "white",
             "minorgridcolor": "white",
             "startlinecolor": "#2a3f5f"
            },
            "baxis": {
             "endlinecolor": "#2a3f5f",
             "gridcolor": "white",
             "linecolor": "white",
             "minorgridcolor": "white",
             "startlinecolor": "#2a3f5f"
            },
            "type": "carpet"
           }
          ],
          "choropleth": [
           {
            "colorbar": {
             "outlinewidth": 0,
             "ticks": ""
            },
            "type": "choropleth"
           }
          ],
          "contour": [
           {
            "colorbar": {
             "outlinewidth": 0,
             "ticks": ""
            },
            "colorscale": [
             [
              0,
              "#0d0887"
             ],
             [
              0.1111111111111111,
              "#46039f"
             ],
             [
              0.2222222222222222,
              "#7201a8"
             ],
             [
              0.3333333333333333,
              "#9c179e"
             ],
             [
              0.4444444444444444,
              "#bd3786"
             ],
             [
              0.5555555555555556,
              "#d8576b"
             ],
             [
              0.6666666666666666,
              "#ed7953"
             ],
             [
              0.7777777777777778,
              "#fb9f3a"
             ],
             [
              0.8888888888888888,
              "#fdca26"
             ],
             [
              1,
              "#f0f921"
             ]
            ],
            "type": "contour"
           }
          ],
          "contourcarpet": [
           {
            "colorbar": {
             "outlinewidth": 0,
             "ticks": ""
            },
            "type": "contourcarpet"
           }
          ],
          "heatmap": [
           {
            "colorbar": {
             "outlinewidth": 0,
             "ticks": ""
            },
            "colorscale": [
             [
              0,
              "#0d0887"
             ],
             [
              0.1111111111111111,
              "#46039f"
             ],
             [
              0.2222222222222222,
              "#7201a8"
             ],
             [
              0.3333333333333333,
              "#9c179e"
             ],
             [
              0.4444444444444444,
              "#bd3786"
             ],
             [
              0.5555555555555556,
              "#d8576b"
             ],
             [
              0.6666666666666666,
              "#ed7953"
             ],
             [
              0.7777777777777778,
              "#fb9f3a"
             ],
             [
              0.8888888888888888,
              "#fdca26"
             ],
             [
              1,
              "#f0f921"
             ]
            ],
            "type": "heatmap"
           }
          ],
          "heatmapgl": [
           {
            "colorbar": {
             "outlinewidth": 0,
             "ticks": ""
            },
            "colorscale": [
             [
              0,
              "#0d0887"
             ],
             [
              0.1111111111111111,
              "#46039f"
             ],
             [
              0.2222222222222222,
              "#7201a8"
             ],
             [
              0.3333333333333333,
              "#9c179e"
             ],
             [
              0.4444444444444444,
              "#bd3786"
             ],
             [
              0.5555555555555556,
              "#d8576b"
             ],
             [
              0.6666666666666666,
              "#ed7953"
             ],
             [
              0.7777777777777778,
              "#fb9f3a"
             ],
             [
              0.8888888888888888,
              "#fdca26"
             ],
             [
              1,
              "#f0f921"
             ]
            ],
            "type": "heatmapgl"
           }
          ],
          "histogram": [
           {
            "marker": {
             "pattern": {
              "fillmode": "overlay",
              "size": 10,
              "solidity": 0.2
             }
            },
            "type": "histogram"
           }
          ],
          "histogram2d": [
           {
            "colorbar": {
             "outlinewidth": 0,
             "ticks": ""
            },
            "colorscale": [
             [
              0,
              "#0d0887"
             ],
             [
              0.1111111111111111,
              "#46039f"
             ],
             [
              0.2222222222222222,
              "#7201a8"
             ],
             [
              0.3333333333333333,
              "#9c179e"
             ],
             [
              0.4444444444444444,
              "#bd3786"
             ],
             [
              0.5555555555555556,
              "#d8576b"
             ],
             [
              0.6666666666666666,
              "#ed7953"
             ],
             [
              0.7777777777777778,
              "#fb9f3a"
             ],
             [
              0.8888888888888888,
              "#fdca26"
             ],
             [
              1,
              "#f0f921"
             ]
            ],
            "type": "histogram2d"
           }
          ],
          "histogram2dcontour": [
           {
            "colorbar": {
             "outlinewidth": 0,
             "ticks": ""
            },
            "colorscale": [
             [
              0,
              "#0d0887"
             ],
             [
              0.1111111111111111,
              "#46039f"
             ],
             [
              0.2222222222222222,
              "#7201a8"
             ],
             [
              0.3333333333333333,
              "#9c179e"
             ],
             [
              0.4444444444444444,
              "#bd3786"
             ],
             [
              0.5555555555555556,
              "#d8576b"
             ],
             [
              0.6666666666666666,
              "#ed7953"
             ],
             [
              0.7777777777777778,
              "#fb9f3a"
             ],
             [
              0.8888888888888888,
              "#fdca26"
             ],
             [
              1,
              "#f0f921"
             ]
            ],
            "type": "histogram2dcontour"
           }
          ],
          "mesh3d": [
           {
            "colorbar": {
             "outlinewidth": 0,
             "ticks": ""
            },
            "type": "mesh3d"
           }
          ],
          "parcoords": [
           {
            "line": {
             "colorbar": {
              "outlinewidth": 0,
              "ticks": ""
             }
            },
            "type": "parcoords"
           }
          ],
          "pie": [
           {
            "automargin": true,
            "type": "pie"
           }
          ],
          "scatter": [
           {
            "fillpattern": {
             "fillmode": "overlay",
             "size": 10,
             "solidity": 0.2
            },
            "type": "scatter"
           }
          ],
          "scatter3d": [
           {
            "line": {
             "colorbar": {
              "outlinewidth": 0,
              "ticks": ""
             }
            },
            "marker": {
             "colorbar": {
              "outlinewidth": 0,
              "ticks": ""
             }
            },
            "type": "scatter3d"
           }
          ],
          "scattercarpet": [
           {
            "marker": {
             "colorbar": {
              "outlinewidth": 0,
              "ticks": ""
             }
            },
            "type": "scattercarpet"
           }
          ],
          "scattergeo": [
           {
            "marker": {
             "colorbar": {
              "outlinewidth": 0,
              "ticks": ""
             }
            },
            "type": "scattergeo"
           }
          ],
          "scattergl": [
           {
            "marker": {
             "colorbar": {
              "outlinewidth": 0,
              "ticks": ""
             }
            },
            "type": "scattergl"
           }
          ],
          "scattermapbox": [
           {
            "marker": {
             "colorbar": {
              "outlinewidth": 0,
              "ticks": ""
             }
            },
            "type": "scattermapbox"
           }
          ],
          "scatterpolar": [
           {
            "marker": {
             "colorbar": {
              "outlinewidth": 0,
              "ticks": ""
             }
            },
            "type": "scatterpolar"
           }
          ],
          "scatterpolargl": [
           {
            "marker": {
             "colorbar": {
              "outlinewidth": 0,
              "ticks": ""
             }
            },
            "type": "scatterpolargl"
           }
          ],
          "scatterternary": [
           {
            "marker": {
             "colorbar": {
              "outlinewidth": 0,
              "ticks": ""
             }
            },
            "type": "scatterternary"
           }
          ],
          "surface": [
           {
            "colorbar": {
             "outlinewidth": 0,
             "ticks": ""
            },
            "colorscale": [
             [
              0,
              "#0d0887"
             ],
             [
              0.1111111111111111,
              "#46039f"
             ],
             [
              0.2222222222222222,
              "#7201a8"
             ],
             [
              0.3333333333333333,
              "#9c179e"
             ],
             [
              0.4444444444444444,
              "#bd3786"
             ],
             [
              0.5555555555555556,
              "#d8576b"
             ],
             [
              0.6666666666666666,
              "#ed7953"
             ],
             [
              0.7777777777777778,
              "#fb9f3a"
             ],
             [
              0.8888888888888888,
              "#fdca26"
             ],
             [
              1,
              "#f0f921"
             ]
            ],
            "type": "surface"
           }
          ],
          "table": [
           {
            "cells": {
             "fill": {
              "color": "#EBF0F8"
             },
             "line": {
              "color": "white"
             }
            },
            "header": {
             "fill": {
              "color": "#C8D4E3"
             },
             "line": {
              "color": "white"
             }
            },
            "type": "table"
           }
          ]
         },
         "layout": {
          "annotationdefaults": {
           "arrowcolor": "#2a3f5f",
           "arrowhead": 0,
           "arrowwidth": 1
          },
          "autotypenumbers": "strict",
          "coloraxis": {
           "colorbar": {
            "outlinewidth": 0,
            "ticks": ""
           }
          },
          "colorscale": {
           "diverging": [
            [
             0,
             "#8e0152"
            ],
            [
             0.1,
             "#c51b7d"
            ],
            [
             0.2,
             "#de77ae"
            ],
            [
             0.3,
             "#f1b6da"
            ],
            [
             0.4,
             "#fde0ef"
            ],
            [
             0.5,
             "#f7f7f7"
            ],
            [
             0.6,
             "#e6f5d0"
            ],
            [
             0.7,
             "#b8e186"
            ],
            [
             0.8,
             "#7fbc41"
            ],
            [
             0.9,
             "#4d9221"
            ],
            [
             1,
             "#276419"
            ]
           ],
           "sequential": [
            [
             0,
             "#0d0887"
            ],
            [
             0.1111111111111111,
             "#46039f"
            ],
            [
             0.2222222222222222,
             "#7201a8"
            ],
            [
             0.3333333333333333,
             "#9c179e"
            ],
            [
             0.4444444444444444,
             "#bd3786"
            ],
            [
             0.5555555555555556,
             "#d8576b"
            ],
            [
             0.6666666666666666,
             "#ed7953"
            ],
            [
             0.7777777777777778,
             "#fb9f3a"
            ],
            [
             0.8888888888888888,
             "#fdca26"
            ],
            [
             1,
             "#f0f921"
            ]
           ],
           "sequentialminus": [
            [
             0,
             "#0d0887"
            ],
            [
             0.1111111111111111,
             "#46039f"
            ],
            [
             0.2222222222222222,
             "#7201a8"
            ],
            [
             0.3333333333333333,
             "#9c179e"
            ],
            [
             0.4444444444444444,
             "#bd3786"
            ],
            [
             0.5555555555555556,
             "#d8576b"
            ],
            [
             0.6666666666666666,
             "#ed7953"
            ],
            [
             0.7777777777777778,
             "#fb9f3a"
            ],
            [
             0.8888888888888888,
             "#fdca26"
            ],
            [
             1,
             "#f0f921"
            ]
           ]
          },
          "colorway": [
           "#636efa",
           "#EF553B",
           "#00cc96",
           "#ab63fa",
           "#FFA15A",
           "#19d3f3",
           "#FF6692",
           "#B6E880",
           "#FF97FF",
           "#FECB52"
          ],
          "font": {
           "color": "#2a3f5f"
          },
          "geo": {
           "bgcolor": "white",
           "lakecolor": "white",
           "landcolor": "#E5ECF6",
           "showlakes": true,
           "showland": true,
           "subunitcolor": "white"
          },
          "hoverlabel": {
           "align": "left"
          },
          "hovermode": "closest",
          "mapbox": {
           "style": "light"
          },
          "paper_bgcolor": "white",
          "plot_bgcolor": "#E5ECF6",
          "polar": {
           "angularaxis": {
            "gridcolor": "white",
            "linecolor": "white",
            "ticks": ""
           },
           "bgcolor": "#E5ECF6",
           "radialaxis": {
            "gridcolor": "white",
            "linecolor": "white",
            "ticks": ""
           }
          },
          "scene": {
           "xaxis": {
            "backgroundcolor": "#E5ECF6",
            "gridcolor": "white",
            "gridwidth": 2,
            "linecolor": "white",
            "showbackground": true,
            "ticks": "",
            "zerolinecolor": "white"
           },
           "yaxis": {
            "backgroundcolor": "#E5ECF6",
            "gridcolor": "white",
            "gridwidth": 2,
            "linecolor": "white",
            "showbackground": true,
            "ticks": "",
            "zerolinecolor": "white"
           },
           "zaxis": {
            "backgroundcolor": "#E5ECF6",
            "gridcolor": "white",
            "gridwidth": 2,
            "linecolor": "white",
            "showbackground": true,
            "ticks": "",
            "zerolinecolor": "white"
           }
          },
          "shapedefaults": {
           "line": {
            "color": "#2a3f5f"
           }
          },
          "ternary": {
           "aaxis": {
            "gridcolor": "white",
            "linecolor": "white",
            "ticks": ""
           },
           "baxis": {
            "gridcolor": "white",
            "linecolor": "white",
            "ticks": ""
           },
           "bgcolor": "#E5ECF6",
           "caxis": {
            "gridcolor": "white",
            "linecolor": "white",
            "ticks": ""
           }
          },
          "title": {
           "x": 0.05
          },
          "xaxis": {
           "automargin": true,
           "gridcolor": "white",
           "linecolor": "white",
           "ticks": "",
           "title": {
            "standoff": 15
           },
           "zerolinecolor": "white",
           "zerolinewidth": 2
          },
          "yaxis": {
           "automargin": true,
           "gridcolor": "white",
           "linecolor": "white",
           "ticks": "",
           "title": {
            "standoff": 15
           },
           "zerolinecolor": "white",
           "zerolinewidth": 2
          }
         }
        },
        "title": {
         "text": "Chess Ratings for year 2020"
        },
        "xaxis": {
         "anchor": "y",
         "domain": [
          0,
          1
         ],
         "title": {
          "text": "Date"
         }
        },
        "yaxis": {
         "anchor": "x",
         "domain": [
          0,
          1
         ],
         "title": {
          "text": "Rating"
         }
        }
       }
      },
      "text/html": [
       "<div>                            <div id=\"4e9d786d-d45e-4d57-acc5-321516c53d2e\" class=\"plotly-graph-div\" style=\"height:525px; width:100%;\"></div>            <script type=\"text/javascript\">                require([\"plotly\"], function(Plotly) {                    window.PLOTLYENV=window.PLOTLYENV || {};                                    if (document.getElementById(\"4e9d786d-d45e-4d57-acc5-321516c53d2e\")) {                    Plotly.newPlot(                        \"4e9d786d-d45e-4d57-acc5-321516c53d2e\",                        [{\"hovertemplate\":\"Date=%{x}\\u003cbr\\u003eRating=%{y}\\u003cextra\\u003e\\u003c\\u002fextra\\u003e\",\"legendgroup\":\"\",\"line\":{\"color\":\"#636efa\",\"dash\":\"solid\"},\"marker\":{\"symbol\":\"circle\"},\"mode\":\"lines\",\"name\":\"\",\"orientation\":\"v\",\"showlegend\":false,\"x\":[\"2020-04-27T00:00:00\",\"2020-04-27T00:00:00\",\"2020-04-27T00:00:00\",\"2020-04-27T00:00:00\",\"2020-04-28T00:00:00\",\"2020-04-28T00:00:00\",\"2020-04-28T00:00:00\",\"2020-04-29T00:00:00\",\"2020-05-03T00:00:00\",\"2020-05-03T00:00:00\",\"2020-05-03T00:00:00\",\"2020-05-03T00:00:00\",\"2020-05-03T00:00:00\",\"2020-05-04T00:00:00\",\"2020-05-04T00:00:00\",\"2020-05-08T00:00:00\",\"2020-05-08T00:00:00\",\"2020-05-08T00:00:00\",\"2020-05-08T00:00:00\",\"2020-05-13T00:00:00\",\"2020-05-13T00:00:00\",\"2020-05-14T00:00:00\",\"2020-05-15T00:00:00\",\"2020-05-15T00:00:00\",\"2020-05-15T00:00:00\",\"2020-05-20T00:00:00\",\"2020-05-20T00:00:00\",\"2020-05-31T00:00:00\",\"2020-05-31T00:00:00\",\"2020-06-05T00:00:00\",\"2020-06-05T00:00:00\",\"2020-06-05T00:00:00\",\"2020-06-11T00:00:00\",\"2020-06-12T00:00:00\",\"2020-06-12T00:00:00\",\"2020-06-17T00:00:00\",\"2020-06-17T00:00:00\",\"2020-06-24T00:00:00\",\"2020-06-26T00:00:00\",\"2020-06-27T00:00:00\",\"2020-06-30T00:00:00\",\"2020-07-02T00:00:00\",\"2020-07-02T00:00:00\",\"2020-07-02T00:00:00\",\"2020-07-02T00:00:00\",\"2020-07-02T00:00:00\",\"2020-07-02T00:00:00\",\"2020-07-02T00:00:00\",\"2020-07-03T00:00:00\",\"2020-07-03T00:00:00\",\"2020-07-03T00:00:00\",\"2020-07-03T00:00:00\",\"2020-07-04T00:00:00\",\"2020-07-11T00:00:00\",\"2020-07-11T00:00:00\",\"2020-07-11T00:00:00\",\"2020-07-13T00:00:00\",\"2020-07-13T00:00:00\",\"2020-07-13T00:00:00\",\"2020-07-14T00:00:00\",\"2020-07-14T00:00:00\",\"2020-07-14T00:00:00\",\"2020-07-18T00:00:00\",\"2020-07-18T00:00:00\",\"2020-07-19T00:00:00\",\"2020-07-19T00:00:00\",\"2020-07-19T00:00:00\",\"2020-07-19T00:00:00\",\"2020-07-20T00:00:00\",\"2020-07-21T00:00:00\",\"2020-07-22T00:00:00\",\"2020-07-22T00:00:00\",\"2020-07-22T00:00:00\",\"2020-07-22T00:00:00\",\"2020-07-23T00:00:00\",\"2020-07-23T00:00:00\",\"2020-07-25T00:00:00\",\"2020-07-25T00:00:00\",\"2020-07-25T00:00:00\",\"2020-08-02T00:00:00\",\"2020-08-21T00:00:00\",\"2020-08-21T00:00:00\",\"2020-08-21T00:00:00\",\"2020-08-22T00:00:00\",\"2020-09-04T00:00:00\",\"2020-09-04T00:00:00\",\"2020-09-04T00:00:00\",\"2020-09-04T00:00:00\",\"2020-09-04T00:00:00\",\"2020-09-05T00:00:00\",\"2020-09-18T00:00:00\",\"2020-11-30T00:00:00\",\"2020-11-30T00:00:00\",\"2020-12-01T00:00:00\",\"2020-12-01T00:00:00\",\"2020-12-01T00:00:00\",\"2020-12-01T00:00:00\",\"2020-12-02T00:00:00\",\"2020-12-02T00:00:00\",\"2020-12-02T00:00:00\",\"2020-12-02T00:00:00\",\"2020-12-03T00:00:00\",\"2020-12-03T00:00:00\",\"2020-12-03T00:00:00\",\"2020-12-03T00:00:00\",\"2020-12-04T00:00:00\",\"2020-12-04T00:00:00\",\"2020-12-04T00:00:00\",\"2020-12-04T00:00:00\",\"2020-12-05T00:00:00\",\"2020-12-05T00:00:00\",\"2020-12-08T00:00:00\",\"2020-12-09T00:00:00\",\"2020-12-09T00:00:00\",\"2020-12-10T00:00:00\",\"2020-12-11T00:00:00\",\"2020-12-11T00:00:00\",\"2020-12-11T00:00:00\",\"2020-12-11T00:00:00\",\"2020-12-12T00:00:00\",\"2020-12-12T00:00:00\",\"2020-12-13T00:00:00\",\"2020-12-13T00:00:00\",\"2020-12-13T00:00:00\",\"2020-12-13T00:00:00\",\"2020-12-13T00:00:00\",\"2020-12-14T00:00:00\",\"2020-12-14T00:00:00\",\"2020-12-15T00:00:00\",\"2020-12-15T00:00:00\",\"2020-12-16T00:00:00\",\"2020-12-17T00:00:00\",\"2020-12-17T00:00:00\",\"2020-12-17T00:00:00\",\"2020-12-17T00:00:00\",\"2020-12-17T00:00:00\",\"2020-12-18T00:00:00\",\"2020-12-21T00:00:00\",\"2020-12-24T00:00:00\",\"2020-12-24T00:00:00\",\"2020-12-24T00:00:00\",\"2020-12-24T00:00:00\",\"2020-12-28T00:00:00\",\"2020-12-28T00:00:00\",\"2020-12-28T00:00:00\",\"2020-12-30T00:00:00\",\"2020-12-30T00:00:00\",\"2020-12-30T00:00:00\"],\"xaxis\":\"x\",\"y\":[833.0,735.0,null,840.0,null,795.0,902.0,845.0,754.0,813.0,782.0,887.0,850.0,759.0,737.0,null,820.0,801.0,785.0,823.0,843.0,846.0,860.0,830.0,846.0,756.0,756.0,888.0,871.0,885.0,888.0,872.0,773.0,1130.0,1042.0,886.0,901.0,900.0,914.0,925.0,937.0,969.0,957.0,947.0,923.0,946.0,934.0,935.0,938.0,948.0,928.0,958.0,919.0,947.0,937.0,928.0,971.0,963.0,955.0,962.0,955.0,963.0,968.0,976.0,984.0,985.0,977.0,null,993.0,1001.0,1018.0,1010.0,1018.0,1026.0,1017.0,1009.0,1024.0,1008.0,1016.0,1016.0,1007.0,1007.0,998.0,1015.0,1022.0,1030.0,1022.0,1014.0,1024.0,1013.0,1120.0,1098.0,1023.0,1164.0,1126.0,null,1166.0,1125.0,1160.0,1188.0,1211.0,1235.0,1262.0,1236.0,1255.0,1221.0,1237.0,1242.0,null,1206.0,1224.0,1219.0,1232.0,1247.0,1258.0,1272.0,1246.0,1234.0,1260.0,1222.0,null,1242.0,1231.0,1241.0,1250.0,1233.0,1241.0,1249.0,1258.0,1250.0,1260.0,1279.0,null,1270.0,1271.0,1264.0,1273.0,1280.0,1279.0,1272.0,1272.0,1265.0,1286.0,1294.0,1302.0,1294.0,1286.0,1294.0],\"yaxis\":\"y\",\"type\":\"scatter\"}],                        {\"template\":{\"data\":{\"histogram2dcontour\":[{\"type\":\"histogram2dcontour\",\"colorbar\":{\"outlinewidth\":0,\"ticks\":\"\"},\"colorscale\":[[0.0,\"#0d0887\"],[0.1111111111111111,\"#46039f\"],[0.2222222222222222,\"#7201a8\"],[0.3333333333333333,\"#9c179e\"],[0.4444444444444444,\"#bd3786\"],[0.5555555555555556,\"#d8576b\"],[0.6666666666666666,\"#ed7953\"],[0.7777777777777778,\"#fb9f3a\"],[0.8888888888888888,\"#fdca26\"],[1.0,\"#f0f921\"]]}],\"choropleth\":[{\"type\":\"choropleth\",\"colorbar\":{\"outlinewidth\":0,\"ticks\":\"\"}}],\"histogram2d\":[{\"type\":\"histogram2d\",\"colorbar\":{\"outlinewidth\":0,\"ticks\":\"\"},\"colorscale\":[[0.0,\"#0d0887\"],[0.1111111111111111,\"#46039f\"],[0.2222222222222222,\"#7201a8\"],[0.3333333333333333,\"#9c179e\"],[0.4444444444444444,\"#bd3786\"],[0.5555555555555556,\"#d8576b\"],[0.6666666666666666,\"#ed7953\"],[0.7777777777777778,\"#fb9f3a\"],[0.8888888888888888,\"#fdca26\"],[1.0,\"#f0f921\"]]}],\"heatmap\":[{\"type\":\"heatmap\",\"colorbar\":{\"outlinewidth\":0,\"ticks\":\"\"},\"colorscale\":[[0.0,\"#0d0887\"],[0.1111111111111111,\"#46039f\"],[0.2222222222222222,\"#7201a8\"],[0.3333333333333333,\"#9c179e\"],[0.4444444444444444,\"#bd3786\"],[0.5555555555555556,\"#d8576b\"],[0.6666666666666666,\"#ed7953\"],[0.7777777777777778,\"#fb9f3a\"],[0.8888888888888888,\"#fdca26\"],[1.0,\"#f0f921\"]]}],\"heatmapgl\":[{\"type\":\"heatmapgl\",\"colorbar\":{\"outlinewidth\":0,\"ticks\":\"\"},\"colorscale\":[[0.0,\"#0d0887\"],[0.1111111111111111,\"#46039f\"],[0.2222222222222222,\"#7201a8\"],[0.3333333333333333,\"#9c179e\"],[0.4444444444444444,\"#bd3786\"],[0.5555555555555556,\"#d8576b\"],[0.6666666666666666,\"#ed7953\"],[0.7777777777777778,\"#fb9f3a\"],[0.8888888888888888,\"#fdca26\"],[1.0,\"#f0f921\"]]}],\"contourcarpet\":[{\"type\":\"contourcarpet\",\"colorbar\":{\"outlinewidth\":0,\"ticks\":\"\"}}],\"contour\":[{\"type\":\"contour\",\"colorbar\":{\"outlinewidth\":0,\"ticks\":\"\"},\"colorscale\":[[0.0,\"#0d0887\"],[0.1111111111111111,\"#46039f\"],[0.2222222222222222,\"#7201a8\"],[0.3333333333333333,\"#9c179e\"],[0.4444444444444444,\"#bd3786\"],[0.5555555555555556,\"#d8576b\"],[0.6666666666666666,\"#ed7953\"],[0.7777777777777778,\"#fb9f3a\"],[0.8888888888888888,\"#fdca26\"],[1.0,\"#f0f921\"]]}],\"surface\":[{\"type\":\"surface\",\"colorbar\":{\"outlinewidth\":0,\"ticks\":\"\"},\"colorscale\":[[0.0,\"#0d0887\"],[0.1111111111111111,\"#46039f\"],[0.2222222222222222,\"#7201a8\"],[0.3333333333333333,\"#9c179e\"],[0.4444444444444444,\"#bd3786\"],[0.5555555555555556,\"#d8576b\"],[0.6666666666666666,\"#ed7953\"],[0.7777777777777778,\"#fb9f3a\"],[0.8888888888888888,\"#fdca26\"],[1.0,\"#f0f921\"]]}],\"mesh3d\":[{\"type\":\"mesh3d\",\"colorbar\":{\"outlinewidth\":0,\"ticks\":\"\"}}],\"scatter\":[{\"fillpattern\":{\"fillmode\":\"overlay\",\"size\":10,\"solidity\":0.2},\"type\":\"scatter\"}],\"parcoords\":[{\"type\":\"parcoords\",\"line\":{\"colorbar\":{\"outlinewidth\":0,\"ticks\":\"\"}}}],\"scatterpolargl\":[{\"type\":\"scatterpolargl\",\"marker\":{\"colorbar\":{\"outlinewidth\":0,\"ticks\":\"\"}}}],\"bar\":[{\"error_x\":{\"color\":\"#2a3f5f\"},\"error_y\":{\"color\":\"#2a3f5f\"},\"marker\":{\"line\":{\"color\":\"#E5ECF6\",\"width\":0.5},\"pattern\":{\"fillmode\":\"overlay\",\"size\":10,\"solidity\":0.2}},\"type\":\"bar\"}],\"scattergeo\":[{\"type\":\"scattergeo\",\"marker\":{\"colorbar\":{\"outlinewidth\":0,\"ticks\":\"\"}}}],\"scatterpolar\":[{\"type\":\"scatterpolar\",\"marker\":{\"colorbar\":{\"outlinewidth\":0,\"ticks\":\"\"}}}],\"histogram\":[{\"marker\":{\"pattern\":{\"fillmode\":\"overlay\",\"size\":10,\"solidity\":0.2}},\"type\":\"histogram\"}],\"scattergl\":[{\"type\":\"scattergl\",\"marker\":{\"colorbar\":{\"outlinewidth\":0,\"ticks\":\"\"}}}],\"scatter3d\":[{\"type\":\"scatter3d\",\"line\":{\"colorbar\":{\"outlinewidth\":0,\"ticks\":\"\"}},\"marker\":{\"colorbar\":{\"outlinewidth\":0,\"ticks\":\"\"}}}],\"scattermapbox\":[{\"type\":\"scattermapbox\",\"marker\":{\"colorbar\":{\"outlinewidth\":0,\"ticks\":\"\"}}}],\"scatterternary\":[{\"type\":\"scatterternary\",\"marker\":{\"colorbar\":{\"outlinewidth\":0,\"ticks\":\"\"}}}],\"scattercarpet\":[{\"type\":\"scattercarpet\",\"marker\":{\"colorbar\":{\"outlinewidth\":0,\"ticks\":\"\"}}}],\"carpet\":[{\"aaxis\":{\"endlinecolor\":\"#2a3f5f\",\"gridcolor\":\"white\",\"linecolor\":\"white\",\"minorgridcolor\":\"white\",\"startlinecolor\":\"#2a3f5f\"},\"baxis\":{\"endlinecolor\":\"#2a3f5f\",\"gridcolor\":\"white\",\"linecolor\":\"white\",\"minorgridcolor\":\"white\",\"startlinecolor\":\"#2a3f5f\"},\"type\":\"carpet\"}],\"table\":[{\"cells\":{\"fill\":{\"color\":\"#EBF0F8\"},\"line\":{\"color\":\"white\"}},\"header\":{\"fill\":{\"color\":\"#C8D4E3\"},\"line\":{\"color\":\"white\"}},\"type\":\"table\"}],\"barpolar\":[{\"marker\":{\"line\":{\"color\":\"#E5ECF6\",\"width\":0.5},\"pattern\":{\"fillmode\":\"overlay\",\"size\":10,\"solidity\":0.2}},\"type\":\"barpolar\"}],\"pie\":[{\"automargin\":true,\"type\":\"pie\"}]},\"layout\":{\"autotypenumbers\":\"strict\",\"colorway\":[\"#636efa\",\"#EF553B\",\"#00cc96\",\"#ab63fa\",\"#FFA15A\",\"#19d3f3\",\"#FF6692\",\"#B6E880\",\"#FF97FF\",\"#FECB52\"],\"font\":{\"color\":\"#2a3f5f\"},\"hovermode\":\"closest\",\"hoverlabel\":{\"align\":\"left\"},\"paper_bgcolor\":\"white\",\"plot_bgcolor\":\"#E5ECF6\",\"polar\":{\"bgcolor\":\"#E5ECF6\",\"angularaxis\":{\"gridcolor\":\"white\",\"linecolor\":\"white\",\"ticks\":\"\"},\"radialaxis\":{\"gridcolor\":\"white\",\"linecolor\":\"white\",\"ticks\":\"\"}},\"ternary\":{\"bgcolor\":\"#E5ECF6\",\"aaxis\":{\"gridcolor\":\"white\",\"linecolor\":\"white\",\"ticks\":\"\"},\"baxis\":{\"gridcolor\":\"white\",\"linecolor\":\"white\",\"ticks\":\"\"},\"caxis\":{\"gridcolor\":\"white\",\"linecolor\":\"white\",\"ticks\":\"\"}},\"coloraxis\":{\"colorbar\":{\"outlinewidth\":0,\"ticks\":\"\"}},\"colorscale\":{\"sequential\":[[0.0,\"#0d0887\"],[0.1111111111111111,\"#46039f\"],[0.2222222222222222,\"#7201a8\"],[0.3333333333333333,\"#9c179e\"],[0.4444444444444444,\"#bd3786\"],[0.5555555555555556,\"#d8576b\"],[0.6666666666666666,\"#ed7953\"],[0.7777777777777778,\"#fb9f3a\"],[0.8888888888888888,\"#fdca26\"],[1.0,\"#f0f921\"]],\"sequentialminus\":[[0.0,\"#0d0887\"],[0.1111111111111111,\"#46039f\"],[0.2222222222222222,\"#7201a8\"],[0.3333333333333333,\"#9c179e\"],[0.4444444444444444,\"#bd3786\"],[0.5555555555555556,\"#d8576b\"],[0.6666666666666666,\"#ed7953\"],[0.7777777777777778,\"#fb9f3a\"],[0.8888888888888888,\"#fdca26\"],[1.0,\"#f0f921\"]],\"diverging\":[[0,\"#8e0152\"],[0.1,\"#c51b7d\"],[0.2,\"#de77ae\"],[0.3,\"#f1b6da\"],[0.4,\"#fde0ef\"],[0.5,\"#f7f7f7\"],[0.6,\"#e6f5d0\"],[0.7,\"#b8e186\"],[0.8,\"#7fbc41\"],[0.9,\"#4d9221\"],[1,\"#276419\"]]},\"xaxis\":{\"gridcolor\":\"white\",\"linecolor\":\"white\",\"ticks\":\"\",\"title\":{\"standoff\":15},\"zerolinecolor\":\"white\",\"automargin\":true,\"zerolinewidth\":2},\"yaxis\":{\"gridcolor\":\"white\",\"linecolor\":\"white\",\"ticks\":\"\",\"title\":{\"standoff\":15},\"zerolinecolor\":\"white\",\"automargin\":true,\"zerolinewidth\":2},\"scene\":{\"xaxis\":{\"backgroundcolor\":\"#E5ECF6\",\"gridcolor\":\"white\",\"linecolor\":\"white\",\"showbackground\":true,\"ticks\":\"\",\"zerolinecolor\":\"white\",\"gridwidth\":2},\"yaxis\":{\"backgroundcolor\":\"#E5ECF6\",\"gridcolor\":\"white\",\"linecolor\":\"white\",\"showbackground\":true,\"ticks\":\"\",\"zerolinecolor\":\"white\",\"gridwidth\":2},\"zaxis\":{\"backgroundcolor\":\"#E5ECF6\",\"gridcolor\":\"white\",\"linecolor\":\"white\",\"showbackground\":true,\"ticks\":\"\",\"zerolinecolor\":\"white\",\"gridwidth\":2}},\"shapedefaults\":{\"line\":{\"color\":\"#2a3f5f\"}},\"annotationdefaults\":{\"arrowcolor\":\"#2a3f5f\",\"arrowhead\":0,\"arrowwidth\":1},\"geo\":{\"bgcolor\":\"white\",\"landcolor\":\"#E5ECF6\",\"subunitcolor\":\"white\",\"showland\":true,\"showlakes\":true,\"lakecolor\":\"white\"},\"title\":{\"x\":0.05},\"mapbox\":{\"style\":\"light\"}}},\"xaxis\":{\"anchor\":\"y\",\"domain\":[0.0,1.0],\"title\":{\"text\":\"Date\"}},\"yaxis\":{\"anchor\":\"x\",\"domain\":[0.0,1.0],\"title\":{\"text\":\"Rating\"}},\"legend\":{\"tracegroupgap\":0},\"margin\":{\"t\":60},\"title\":{\"text\":\"Chess Ratings for year 2020\"}},                        {\"responsive\": true}                    ).then(function(){\n",
       "                            \n",
       "var gd = document.getElementById('4e9d786d-d45e-4d57-acc5-321516c53d2e');\n",
       "var x = new MutationObserver(function (mutations, observer) {{\n",
       "        var display = window.getComputedStyle(gd).display;\n",
       "        if (!display || display === 'none') {{\n",
       "            console.log([gd, 'removed!']);\n",
       "            Plotly.purge(gd);\n",
       "            observer.disconnect();\n",
       "        }}\n",
       "}});\n",
       "\n",
       "// Listen for the removal of the full notebook cells\n",
       "var notebookContainer = gd.closest('#notebook-container');\n",
       "if (notebookContainer) {{\n",
       "    x.observe(notebookContainer, {childList: true});\n",
       "}}\n",
       "\n",
       "// Listen for the clearing of the current output cell\n",
       "var outputEl = gd.closest('.output');\n",
       "if (outputEl) {{\n",
       "    x.observe(outputEl, {childList: true});\n",
       "}}\n",
       "\n",
       "                        })                };                });            </script>        </div>"
      ]
     },
     "metadata": {},
     "output_type": "display_data"
    },
    {
     "data": {
      "application/vnd.plotly.v1+json": {
       "config": {
        "plotlyServerURL": "https://plot.ly"
       },
       "data": [
        {
         "hovertemplate": "Date=%{x}<br>Rating=%{y}<extra></extra>",
         "legendgroup": "",
         "line": {
          "color": "#636efa",
          "dash": "solid"
         },
         "marker": {
          "symbol": "circle"
         },
         "mode": "lines",
         "name": "",
         "orientation": "v",
         "showlegend": false,
         "type": "scatter",
         "x": [
          "2021-01-02T00:00:00",
          "2021-01-04T00:00:00",
          "2021-01-04T00:00:00",
          "2021-01-05T00:00:00",
          "2021-01-05T00:00:00",
          "2021-01-10T00:00:00",
          "2021-01-10T00:00:00",
          "2021-01-12T00:00:00",
          "2021-01-18T00:00:00",
          "2021-01-20T00:00:00",
          "2021-01-22T00:00:00",
          "2021-01-22T00:00:00",
          "2021-01-23T00:00:00",
          "2021-01-23T00:00:00",
          "2021-01-23T00:00:00",
          "2021-01-29T00:00:00",
          "2021-01-30T00:00:00",
          "2021-02-04T00:00:00",
          "2021-02-15T00:00:00",
          "2021-02-20T00:00:00",
          "2021-02-20T00:00:00",
          "2021-03-01T00:00:00",
          "2021-03-02T00:00:00",
          "2021-03-02T00:00:00",
          "2021-03-08T00:00:00",
          "2021-03-21T00:00:00",
          "2021-03-21T00:00:00",
          "2021-03-21T00:00:00",
          "2021-04-02T00:00:00",
          "2021-04-02T00:00:00",
          "2021-04-02T00:00:00",
          "2021-04-03T00:00:00",
          "2021-04-03T00:00:00",
          "2021-04-03T00:00:00",
          "2021-04-03T00:00:00",
          "2021-04-04T00:00:00",
          "2021-04-04T00:00:00",
          "2021-04-04T00:00:00",
          "2021-04-04T00:00:00",
          "2021-04-05T00:00:00",
          "2021-04-06T00:00:00",
          "2021-04-06T00:00:00",
          "2021-04-06T00:00:00",
          "2021-04-07T00:00:00",
          "2021-04-07T00:00:00",
          "2021-04-07T00:00:00",
          "2021-04-08T00:00:00",
          "2021-04-08T00:00:00",
          "2021-04-09T00:00:00",
          "2021-04-09T00:00:00",
          "2021-04-10T00:00:00",
          "2021-04-10T00:00:00",
          "2021-04-11T00:00:00",
          "2021-04-11T00:00:00",
          "2021-04-11T00:00:00",
          "2021-04-11T00:00:00",
          "2021-04-11T00:00:00",
          "2021-04-11T00:00:00",
          "2021-04-12T00:00:00",
          "2021-04-13T00:00:00",
          "2021-04-13T00:00:00",
          "2021-04-13T00:00:00",
          "2021-04-14T00:00:00",
          "2021-04-14T00:00:00",
          "2021-04-14T00:00:00",
          "2021-04-15T00:00:00",
          "2021-04-15T00:00:00",
          "2021-04-15T00:00:00",
          "2021-04-16T00:00:00",
          "2021-04-16T00:00:00",
          "2021-04-16T00:00:00",
          "2021-04-16T00:00:00",
          "2021-04-17T00:00:00",
          "2021-04-19T00:00:00",
          "2021-04-20T00:00:00",
          "2021-04-20T00:00:00",
          "2021-04-20T00:00:00",
          "2021-04-22T00:00:00",
          "2021-04-22T00:00:00",
          "2021-04-22T00:00:00",
          "2021-04-23T00:00:00",
          "2021-04-25T00:00:00",
          "2021-04-25T00:00:00",
          "2021-04-27T00:00:00",
          "2021-04-27T00:00:00",
          "2021-04-28T00:00:00",
          "2021-04-30T00:00:00",
          "2021-05-09T00:00:00",
          "2021-05-09T00:00:00",
          "2021-05-09T00:00:00",
          "2021-05-09T00:00:00",
          "2021-05-10T00:00:00",
          "2021-05-10T00:00:00",
          "2021-05-10T00:00:00",
          "2021-05-10T00:00:00",
          "2021-05-11T00:00:00",
          "2021-05-11T00:00:00",
          "2021-05-12T00:00:00",
          "2021-05-12T00:00:00",
          "2021-05-12T00:00:00",
          "2021-05-13T00:00:00",
          "2021-05-15T00:00:00",
          "2021-05-15T00:00:00",
          "2021-05-15T00:00:00",
          "2021-05-16T00:00:00",
          "2021-05-16T00:00:00",
          "2021-05-16T00:00:00",
          "2021-05-16T00:00:00",
          "2021-05-22T00:00:00",
          "2021-05-25T00:00:00",
          "2021-05-25T00:00:00",
          "2021-05-29T00:00:00",
          "2021-05-30T00:00:00",
          "2021-05-31T00:00:00",
          "2021-05-31T00:00:00",
          "2021-05-31T00:00:00",
          "2021-06-01T00:00:00",
          "2021-06-01T00:00:00",
          "2021-06-01T00:00:00",
          "2021-06-02T00:00:00",
          "2021-06-02T00:00:00",
          "2021-06-03T00:00:00",
          "2021-06-03T00:00:00",
          "2021-06-05T00:00:00",
          "2021-06-05T00:00:00",
          "2021-06-07T00:00:00",
          "2021-06-07T00:00:00",
          "2021-06-10T00:00:00",
          "2021-06-12T00:00:00",
          "2021-06-19T00:00:00",
          "2021-06-19T00:00:00",
          "2021-06-19T00:00:00",
          "2021-06-19T00:00:00",
          "2021-06-23T00:00:00",
          "2021-06-23T00:00:00",
          "2021-06-24T00:00:00",
          "2021-06-24T00:00:00",
          "2021-06-24T00:00:00",
          "2021-06-24T00:00:00",
          "2021-06-24T00:00:00",
          "2021-06-24T00:00:00",
          "2021-06-25T00:00:00",
          "2021-06-25T00:00:00",
          "2021-06-26T00:00:00",
          "2021-06-26T00:00:00",
          "2021-06-26T00:00:00",
          "2021-06-26T00:00:00",
          "2021-06-26T00:00:00",
          "2021-06-27T00:00:00",
          "2021-06-27T00:00:00",
          "2021-06-27T00:00:00",
          "2021-06-27T00:00:00",
          "2021-06-27T00:00:00",
          "2021-06-28T00:00:00",
          "2021-06-28T00:00:00",
          "2021-06-28T00:00:00",
          "2021-06-28T00:00:00",
          "2021-06-28T00:00:00",
          "2021-06-28T00:00:00",
          "2021-06-28T00:00:00",
          "2021-06-28T00:00:00",
          "2021-06-29T00:00:00",
          "2021-06-29T00:00:00",
          "2021-06-29T00:00:00",
          "2021-06-29T00:00:00",
          "2021-06-29T00:00:00",
          "2021-06-30T00:00:00",
          "2021-06-30T00:00:00",
          "2021-06-30T00:00:00",
          "2021-06-30T00:00:00",
          "2021-06-30T00:00:00",
          "2021-06-30T00:00:00",
          "2021-06-30T00:00:00",
          "2021-06-30T00:00:00",
          "2021-07-01T00:00:00",
          "2021-07-01T00:00:00",
          "2021-07-01T00:00:00",
          "2021-07-01T00:00:00",
          "2021-07-01T00:00:00",
          "2021-07-01T00:00:00",
          "2021-07-02T00:00:00",
          "2021-07-03T00:00:00",
          "2021-07-03T00:00:00",
          "2021-07-03T00:00:00",
          "2021-07-09T00:00:00",
          "2021-07-13T00:00:00",
          "2021-07-13T00:00:00",
          "2021-07-13T00:00:00",
          "2021-07-17T00:00:00",
          "2021-07-17T00:00:00",
          "2021-07-17T00:00:00",
          "2021-07-17T00:00:00",
          "2021-07-17T00:00:00",
          "2021-07-17T00:00:00",
          "2021-08-02T00:00:00",
          "2021-08-15T00:00:00",
          "2021-10-18T00:00:00",
          "2021-10-18T00:00:00",
          "2021-10-18T00:00:00",
          "2021-10-18T00:00:00",
          "2021-11-04T00:00:00",
          "2021-11-04T00:00:00",
          "2021-11-04T00:00:00",
          "2021-11-04T00:00:00",
          "2021-11-04T00:00:00",
          "2021-11-04T00:00:00",
          "2021-11-04T00:00:00",
          "2021-11-04T00:00:00",
          "2021-11-04T00:00:00",
          "2021-12-03T00:00:00"
         ],
         "xaxis": "x",
         "y": [
          1311,
          1318,
          1309,
          1316,
          1324,
          1315,
          1307,
          1299,
          1290,
          1299,
          1299,
          1292,
          1290,
          1297,
          1289,
          1296,
          1289,
          1295,
          1304,
          1304,
          1295,
          1295,
          1286,
          1278,
          1268,
          1258,
          1248,
          1257,
          1248,
          1257,
          1248,
          1262,
          1272,
          1283,
          1292,
          1283,
          1274,
          1265,
          1256,
          1245,
          1245,
          1254,
          1252,
          1241,
          1249,
          1258,
          1231,
          1223,
          1234,
          1227,
          1213,
          1219,
          1224,
          null,
          1235,
          1234,
          1221,
          1227,
          1225,
          1232,
          1222,
          1227,
          1236,
          1226,
          1234,
          1226,
          1220,
          1229,
          1215,
          1222,
          1230,
          1239,
          1224,
          1213,
          1220,
          1213,
          1219,
          1227,
          1217,
          1225,
          1216,
          1207,
          1213,
          1221,
          1230,
          1223,
          null,
          1231,
          1221,
          1227,
          null,
          1217,
          1217,
          1210,
          1210,
          1225,
          1219,
          1226,
          null,
          1217,
          1236,
          1235,
          1241,
          1231,
          1209,
          1218,
          1225,
          1202,
          1195,
          1175,
          1184,
          1166,
          1177,
          1186,
          1192,
          1202,
          1209,
          1201,
          1209,
          1210,
          1218,
          1193,
          1203,
          null,
          1197,
          1204,
          1214,
          1206,
          1196,
          1189,
          1187,
          1178,
          1183,
          1171,
          1181,
          1190,
          1187,
          1180,
          1173,
          1182,
          1179,
          1190,
          1182,
          1213,
          1205,
          1197,
          1189,
          1197,
          1221,
          1229,
          1238,
          1247,
          1255,
          1248,
          1255,
          1264,
          1256,
          1265,
          1257,
          1251,
          1258,
          1268,
          1250,
          1255,
          null,
          1262,
          1251,
          1251,
          null,
          1261,
          1254,
          1247,
          1240,
          1258,
          1278,
          1271,
          1259,
          1257,
          1250,
          1264,
          1286,
          null,
          1273,
          1279,
          1264,
          1264,
          1280,
          1272,
          1288,
          1296,
          1304,
          1296,
          1305,
          1296,
          1289,
          1281,
          1280,
          1267,
          1292,
          null,
          1252,
          1242,
          1233,
          1244,
          1256,
          1268,
          1257,
          1268,
          1281,
          1240
         ],
         "yaxis": "y"
        }
       ],
       "layout": {
        "legend": {
         "tracegroupgap": 0
        },
        "margin": {
         "t": 60
        },
        "template": {
         "data": {
          "bar": [
           {
            "error_x": {
             "color": "#2a3f5f"
            },
            "error_y": {
             "color": "#2a3f5f"
            },
            "marker": {
             "line": {
              "color": "#E5ECF6",
              "width": 0.5
             },
             "pattern": {
              "fillmode": "overlay",
              "size": 10,
              "solidity": 0.2
             }
            },
            "type": "bar"
           }
          ],
          "barpolar": [
           {
            "marker": {
             "line": {
              "color": "#E5ECF6",
              "width": 0.5
             },
             "pattern": {
              "fillmode": "overlay",
              "size": 10,
              "solidity": 0.2
             }
            },
            "type": "barpolar"
           }
          ],
          "carpet": [
           {
            "aaxis": {
             "endlinecolor": "#2a3f5f",
             "gridcolor": "white",
             "linecolor": "white",
             "minorgridcolor": "white",
             "startlinecolor": "#2a3f5f"
            },
            "baxis": {
             "endlinecolor": "#2a3f5f",
             "gridcolor": "white",
             "linecolor": "white",
             "minorgridcolor": "white",
             "startlinecolor": "#2a3f5f"
            },
            "type": "carpet"
           }
          ],
          "choropleth": [
           {
            "colorbar": {
             "outlinewidth": 0,
             "ticks": ""
            },
            "type": "choropleth"
           }
          ],
          "contour": [
           {
            "colorbar": {
             "outlinewidth": 0,
             "ticks": ""
            },
            "colorscale": [
             [
              0,
              "#0d0887"
             ],
             [
              0.1111111111111111,
              "#46039f"
             ],
             [
              0.2222222222222222,
              "#7201a8"
             ],
             [
              0.3333333333333333,
              "#9c179e"
             ],
             [
              0.4444444444444444,
              "#bd3786"
             ],
             [
              0.5555555555555556,
              "#d8576b"
             ],
             [
              0.6666666666666666,
              "#ed7953"
             ],
             [
              0.7777777777777778,
              "#fb9f3a"
             ],
             [
              0.8888888888888888,
              "#fdca26"
             ],
             [
              1,
              "#f0f921"
             ]
            ],
            "type": "contour"
           }
          ],
          "contourcarpet": [
           {
            "colorbar": {
             "outlinewidth": 0,
             "ticks": ""
            },
            "type": "contourcarpet"
           }
          ],
          "heatmap": [
           {
            "colorbar": {
             "outlinewidth": 0,
             "ticks": ""
            },
            "colorscale": [
             [
              0,
              "#0d0887"
             ],
             [
              0.1111111111111111,
              "#46039f"
             ],
             [
              0.2222222222222222,
              "#7201a8"
             ],
             [
              0.3333333333333333,
              "#9c179e"
             ],
             [
              0.4444444444444444,
              "#bd3786"
             ],
             [
              0.5555555555555556,
              "#d8576b"
             ],
             [
              0.6666666666666666,
              "#ed7953"
             ],
             [
              0.7777777777777778,
              "#fb9f3a"
             ],
             [
              0.8888888888888888,
              "#fdca26"
             ],
             [
              1,
              "#f0f921"
             ]
            ],
            "type": "heatmap"
           }
          ],
          "heatmapgl": [
           {
            "colorbar": {
             "outlinewidth": 0,
             "ticks": ""
            },
            "colorscale": [
             [
              0,
              "#0d0887"
             ],
             [
              0.1111111111111111,
              "#46039f"
             ],
             [
              0.2222222222222222,
              "#7201a8"
             ],
             [
              0.3333333333333333,
              "#9c179e"
             ],
             [
              0.4444444444444444,
              "#bd3786"
             ],
             [
              0.5555555555555556,
              "#d8576b"
             ],
             [
              0.6666666666666666,
              "#ed7953"
             ],
             [
              0.7777777777777778,
              "#fb9f3a"
             ],
             [
              0.8888888888888888,
              "#fdca26"
             ],
             [
              1,
              "#f0f921"
             ]
            ],
            "type": "heatmapgl"
           }
          ],
          "histogram": [
           {
            "marker": {
             "pattern": {
              "fillmode": "overlay",
              "size": 10,
              "solidity": 0.2
             }
            },
            "type": "histogram"
           }
          ],
          "histogram2d": [
           {
            "colorbar": {
             "outlinewidth": 0,
             "ticks": ""
            },
            "colorscale": [
             [
              0,
              "#0d0887"
             ],
             [
              0.1111111111111111,
              "#46039f"
             ],
             [
              0.2222222222222222,
              "#7201a8"
             ],
             [
              0.3333333333333333,
              "#9c179e"
             ],
             [
              0.4444444444444444,
              "#bd3786"
             ],
             [
              0.5555555555555556,
              "#d8576b"
             ],
             [
              0.6666666666666666,
              "#ed7953"
             ],
             [
              0.7777777777777778,
              "#fb9f3a"
             ],
             [
              0.8888888888888888,
              "#fdca26"
             ],
             [
              1,
              "#f0f921"
             ]
            ],
            "type": "histogram2d"
           }
          ],
          "histogram2dcontour": [
           {
            "colorbar": {
             "outlinewidth": 0,
             "ticks": ""
            },
            "colorscale": [
             [
              0,
              "#0d0887"
             ],
             [
              0.1111111111111111,
              "#46039f"
             ],
             [
              0.2222222222222222,
              "#7201a8"
             ],
             [
              0.3333333333333333,
              "#9c179e"
             ],
             [
              0.4444444444444444,
              "#bd3786"
             ],
             [
              0.5555555555555556,
              "#d8576b"
             ],
             [
              0.6666666666666666,
              "#ed7953"
             ],
             [
              0.7777777777777778,
              "#fb9f3a"
             ],
             [
              0.8888888888888888,
              "#fdca26"
             ],
             [
              1,
              "#f0f921"
             ]
            ],
            "type": "histogram2dcontour"
           }
          ],
          "mesh3d": [
           {
            "colorbar": {
             "outlinewidth": 0,
             "ticks": ""
            },
            "type": "mesh3d"
           }
          ],
          "parcoords": [
           {
            "line": {
             "colorbar": {
              "outlinewidth": 0,
              "ticks": ""
             }
            },
            "type": "parcoords"
           }
          ],
          "pie": [
           {
            "automargin": true,
            "type": "pie"
           }
          ],
          "scatter": [
           {
            "fillpattern": {
             "fillmode": "overlay",
             "size": 10,
             "solidity": 0.2
            },
            "type": "scatter"
           }
          ],
          "scatter3d": [
           {
            "line": {
             "colorbar": {
              "outlinewidth": 0,
              "ticks": ""
             }
            },
            "marker": {
             "colorbar": {
              "outlinewidth": 0,
              "ticks": ""
             }
            },
            "type": "scatter3d"
           }
          ],
          "scattercarpet": [
           {
            "marker": {
             "colorbar": {
              "outlinewidth": 0,
              "ticks": ""
             }
            },
            "type": "scattercarpet"
           }
          ],
          "scattergeo": [
           {
            "marker": {
             "colorbar": {
              "outlinewidth": 0,
              "ticks": ""
             }
            },
            "type": "scattergeo"
           }
          ],
          "scattergl": [
           {
            "marker": {
             "colorbar": {
              "outlinewidth": 0,
              "ticks": ""
             }
            },
            "type": "scattergl"
           }
          ],
          "scattermapbox": [
           {
            "marker": {
             "colorbar": {
              "outlinewidth": 0,
              "ticks": ""
             }
            },
            "type": "scattermapbox"
           }
          ],
          "scatterpolar": [
           {
            "marker": {
             "colorbar": {
              "outlinewidth": 0,
              "ticks": ""
             }
            },
            "type": "scatterpolar"
           }
          ],
          "scatterpolargl": [
           {
            "marker": {
             "colorbar": {
              "outlinewidth": 0,
              "ticks": ""
             }
            },
            "type": "scatterpolargl"
           }
          ],
          "scatterternary": [
           {
            "marker": {
             "colorbar": {
              "outlinewidth": 0,
              "ticks": ""
             }
            },
            "type": "scatterternary"
           }
          ],
          "surface": [
           {
            "colorbar": {
             "outlinewidth": 0,
             "ticks": ""
            },
            "colorscale": [
             [
              0,
              "#0d0887"
             ],
             [
              0.1111111111111111,
              "#46039f"
             ],
             [
              0.2222222222222222,
              "#7201a8"
             ],
             [
              0.3333333333333333,
              "#9c179e"
             ],
             [
              0.4444444444444444,
              "#bd3786"
             ],
             [
              0.5555555555555556,
              "#d8576b"
             ],
             [
              0.6666666666666666,
              "#ed7953"
             ],
             [
              0.7777777777777778,
              "#fb9f3a"
             ],
             [
              0.8888888888888888,
              "#fdca26"
             ],
             [
              1,
              "#f0f921"
             ]
            ],
            "type": "surface"
           }
          ],
          "table": [
           {
            "cells": {
             "fill": {
              "color": "#EBF0F8"
             },
             "line": {
              "color": "white"
             }
            },
            "header": {
             "fill": {
              "color": "#C8D4E3"
             },
             "line": {
              "color": "white"
             }
            },
            "type": "table"
           }
          ]
         },
         "layout": {
          "annotationdefaults": {
           "arrowcolor": "#2a3f5f",
           "arrowhead": 0,
           "arrowwidth": 1
          },
          "autotypenumbers": "strict",
          "coloraxis": {
           "colorbar": {
            "outlinewidth": 0,
            "ticks": ""
           }
          },
          "colorscale": {
           "diverging": [
            [
             0,
             "#8e0152"
            ],
            [
             0.1,
             "#c51b7d"
            ],
            [
             0.2,
             "#de77ae"
            ],
            [
             0.3,
             "#f1b6da"
            ],
            [
             0.4,
             "#fde0ef"
            ],
            [
             0.5,
             "#f7f7f7"
            ],
            [
             0.6,
             "#e6f5d0"
            ],
            [
             0.7,
             "#b8e186"
            ],
            [
             0.8,
             "#7fbc41"
            ],
            [
             0.9,
             "#4d9221"
            ],
            [
             1,
             "#276419"
            ]
           ],
           "sequential": [
            [
             0,
             "#0d0887"
            ],
            [
             0.1111111111111111,
             "#46039f"
            ],
            [
             0.2222222222222222,
             "#7201a8"
            ],
            [
             0.3333333333333333,
             "#9c179e"
            ],
            [
             0.4444444444444444,
             "#bd3786"
            ],
            [
             0.5555555555555556,
             "#d8576b"
            ],
            [
             0.6666666666666666,
             "#ed7953"
            ],
            [
             0.7777777777777778,
             "#fb9f3a"
            ],
            [
             0.8888888888888888,
             "#fdca26"
            ],
            [
             1,
             "#f0f921"
            ]
           ],
           "sequentialminus": [
            [
             0,
             "#0d0887"
            ],
            [
             0.1111111111111111,
             "#46039f"
            ],
            [
             0.2222222222222222,
             "#7201a8"
            ],
            [
             0.3333333333333333,
             "#9c179e"
            ],
            [
             0.4444444444444444,
             "#bd3786"
            ],
            [
             0.5555555555555556,
             "#d8576b"
            ],
            [
             0.6666666666666666,
             "#ed7953"
            ],
            [
             0.7777777777777778,
             "#fb9f3a"
            ],
            [
             0.8888888888888888,
             "#fdca26"
            ],
            [
             1,
             "#f0f921"
            ]
           ]
          },
          "colorway": [
           "#636efa",
           "#EF553B",
           "#00cc96",
           "#ab63fa",
           "#FFA15A",
           "#19d3f3",
           "#FF6692",
           "#B6E880",
           "#FF97FF",
           "#FECB52"
          ],
          "font": {
           "color": "#2a3f5f"
          },
          "geo": {
           "bgcolor": "white",
           "lakecolor": "white",
           "landcolor": "#E5ECF6",
           "showlakes": true,
           "showland": true,
           "subunitcolor": "white"
          },
          "hoverlabel": {
           "align": "left"
          },
          "hovermode": "closest",
          "mapbox": {
           "style": "light"
          },
          "paper_bgcolor": "white",
          "plot_bgcolor": "#E5ECF6",
          "polar": {
           "angularaxis": {
            "gridcolor": "white",
            "linecolor": "white",
            "ticks": ""
           },
           "bgcolor": "#E5ECF6",
           "radialaxis": {
            "gridcolor": "white",
            "linecolor": "white",
            "ticks": ""
           }
          },
          "scene": {
           "xaxis": {
            "backgroundcolor": "#E5ECF6",
            "gridcolor": "white",
            "gridwidth": 2,
            "linecolor": "white",
            "showbackground": true,
            "ticks": "",
            "zerolinecolor": "white"
           },
           "yaxis": {
            "backgroundcolor": "#E5ECF6",
            "gridcolor": "white",
            "gridwidth": 2,
            "linecolor": "white",
            "showbackground": true,
            "ticks": "",
            "zerolinecolor": "white"
           },
           "zaxis": {
            "backgroundcolor": "#E5ECF6",
            "gridcolor": "white",
            "gridwidth": 2,
            "linecolor": "white",
            "showbackground": true,
            "ticks": "",
            "zerolinecolor": "white"
           }
          },
          "shapedefaults": {
           "line": {
            "color": "#2a3f5f"
           }
          },
          "ternary": {
           "aaxis": {
            "gridcolor": "white",
            "linecolor": "white",
            "ticks": ""
           },
           "baxis": {
            "gridcolor": "white",
            "linecolor": "white",
            "ticks": ""
           },
           "bgcolor": "#E5ECF6",
           "caxis": {
            "gridcolor": "white",
            "linecolor": "white",
            "ticks": ""
           }
          },
          "title": {
           "x": 0.05
          },
          "xaxis": {
           "automargin": true,
           "gridcolor": "white",
           "linecolor": "white",
           "ticks": "",
           "title": {
            "standoff": 15
           },
           "zerolinecolor": "white",
           "zerolinewidth": 2
          },
          "yaxis": {
           "automargin": true,
           "gridcolor": "white",
           "linecolor": "white",
           "ticks": "",
           "title": {
            "standoff": 15
           },
           "zerolinecolor": "white",
           "zerolinewidth": 2
          }
         }
        },
        "title": {
         "text": "Chess Ratings for year 2021"
        },
        "xaxis": {
         "anchor": "y",
         "domain": [
          0,
          1
         ],
         "title": {
          "text": "Date"
         }
        },
        "yaxis": {
         "anchor": "x",
         "domain": [
          0,
          1
         ],
         "title": {
          "text": "Rating"
         }
        }
       }
      },
      "text/html": [
       "<div>                            <div id=\"bdc44315-8f41-415f-86ad-7286c96b8541\" class=\"plotly-graph-div\" style=\"height:525px; width:100%;\"></div>            <script type=\"text/javascript\">                require([\"plotly\"], function(Plotly) {                    window.PLOTLYENV=window.PLOTLYENV || {};                                    if (document.getElementById(\"bdc44315-8f41-415f-86ad-7286c96b8541\")) {                    Plotly.newPlot(                        \"bdc44315-8f41-415f-86ad-7286c96b8541\",                        [{\"hovertemplate\":\"Date=%{x}\\u003cbr\\u003eRating=%{y}\\u003cextra\\u003e\\u003c\\u002fextra\\u003e\",\"legendgroup\":\"\",\"line\":{\"color\":\"#636efa\",\"dash\":\"solid\"},\"marker\":{\"symbol\":\"circle\"},\"mode\":\"lines\",\"name\":\"\",\"orientation\":\"v\",\"showlegend\":false,\"x\":[\"2021-01-02T00:00:00\",\"2021-01-04T00:00:00\",\"2021-01-04T00:00:00\",\"2021-01-05T00:00:00\",\"2021-01-05T00:00:00\",\"2021-01-10T00:00:00\",\"2021-01-10T00:00:00\",\"2021-01-12T00:00:00\",\"2021-01-18T00:00:00\",\"2021-01-20T00:00:00\",\"2021-01-22T00:00:00\",\"2021-01-22T00:00:00\",\"2021-01-23T00:00:00\",\"2021-01-23T00:00:00\",\"2021-01-23T00:00:00\",\"2021-01-29T00:00:00\",\"2021-01-30T00:00:00\",\"2021-02-04T00:00:00\",\"2021-02-15T00:00:00\",\"2021-02-20T00:00:00\",\"2021-02-20T00:00:00\",\"2021-03-01T00:00:00\",\"2021-03-02T00:00:00\",\"2021-03-02T00:00:00\",\"2021-03-08T00:00:00\",\"2021-03-21T00:00:00\",\"2021-03-21T00:00:00\",\"2021-03-21T00:00:00\",\"2021-04-02T00:00:00\",\"2021-04-02T00:00:00\",\"2021-04-02T00:00:00\",\"2021-04-03T00:00:00\",\"2021-04-03T00:00:00\",\"2021-04-03T00:00:00\",\"2021-04-03T00:00:00\",\"2021-04-04T00:00:00\",\"2021-04-04T00:00:00\",\"2021-04-04T00:00:00\",\"2021-04-04T00:00:00\",\"2021-04-05T00:00:00\",\"2021-04-06T00:00:00\",\"2021-04-06T00:00:00\",\"2021-04-06T00:00:00\",\"2021-04-07T00:00:00\",\"2021-04-07T00:00:00\",\"2021-04-07T00:00:00\",\"2021-04-08T00:00:00\",\"2021-04-08T00:00:00\",\"2021-04-09T00:00:00\",\"2021-04-09T00:00:00\",\"2021-04-10T00:00:00\",\"2021-04-10T00:00:00\",\"2021-04-11T00:00:00\",\"2021-04-11T00:00:00\",\"2021-04-11T00:00:00\",\"2021-04-11T00:00:00\",\"2021-04-11T00:00:00\",\"2021-04-11T00:00:00\",\"2021-04-12T00:00:00\",\"2021-04-13T00:00:00\",\"2021-04-13T00:00:00\",\"2021-04-13T00:00:00\",\"2021-04-14T00:00:00\",\"2021-04-14T00:00:00\",\"2021-04-14T00:00:00\",\"2021-04-15T00:00:00\",\"2021-04-15T00:00:00\",\"2021-04-15T00:00:00\",\"2021-04-16T00:00:00\",\"2021-04-16T00:00:00\",\"2021-04-16T00:00:00\",\"2021-04-16T00:00:00\",\"2021-04-17T00:00:00\",\"2021-04-19T00:00:00\",\"2021-04-20T00:00:00\",\"2021-04-20T00:00:00\",\"2021-04-20T00:00:00\",\"2021-04-22T00:00:00\",\"2021-04-22T00:00:00\",\"2021-04-22T00:00:00\",\"2021-04-23T00:00:00\",\"2021-04-25T00:00:00\",\"2021-04-25T00:00:00\",\"2021-04-27T00:00:00\",\"2021-04-27T00:00:00\",\"2021-04-28T00:00:00\",\"2021-04-30T00:00:00\",\"2021-05-09T00:00:00\",\"2021-05-09T00:00:00\",\"2021-05-09T00:00:00\",\"2021-05-09T00:00:00\",\"2021-05-10T00:00:00\",\"2021-05-10T00:00:00\",\"2021-05-10T00:00:00\",\"2021-05-10T00:00:00\",\"2021-05-11T00:00:00\",\"2021-05-11T00:00:00\",\"2021-05-12T00:00:00\",\"2021-05-12T00:00:00\",\"2021-05-12T00:00:00\",\"2021-05-13T00:00:00\",\"2021-05-15T00:00:00\",\"2021-05-15T00:00:00\",\"2021-05-15T00:00:00\",\"2021-05-16T00:00:00\",\"2021-05-16T00:00:00\",\"2021-05-16T00:00:00\",\"2021-05-16T00:00:00\",\"2021-05-22T00:00:00\",\"2021-05-25T00:00:00\",\"2021-05-25T00:00:00\",\"2021-05-29T00:00:00\",\"2021-05-30T00:00:00\",\"2021-05-31T00:00:00\",\"2021-05-31T00:00:00\",\"2021-05-31T00:00:00\",\"2021-06-01T00:00:00\",\"2021-06-01T00:00:00\",\"2021-06-01T00:00:00\",\"2021-06-02T00:00:00\",\"2021-06-02T00:00:00\",\"2021-06-03T00:00:00\",\"2021-06-03T00:00:00\",\"2021-06-05T00:00:00\",\"2021-06-05T00:00:00\",\"2021-06-07T00:00:00\",\"2021-06-07T00:00:00\",\"2021-06-10T00:00:00\",\"2021-06-12T00:00:00\",\"2021-06-19T00:00:00\",\"2021-06-19T00:00:00\",\"2021-06-19T00:00:00\",\"2021-06-19T00:00:00\",\"2021-06-23T00:00:00\",\"2021-06-23T00:00:00\",\"2021-06-24T00:00:00\",\"2021-06-24T00:00:00\",\"2021-06-24T00:00:00\",\"2021-06-24T00:00:00\",\"2021-06-24T00:00:00\",\"2021-06-24T00:00:00\",\"2021-06-25T00:00:00\",\"2021-06-25T00:00:00\",\"2021-06-26T00:00:00\",\"2021-06-26T00:00:00\",\"2021-06-26T00:00:00\",\"2021-06-26T00:00:00\",\"2021-06-26T00:00:00\",\"2021-06-27T00:00:00\",\"2021-06-27T00:00:00\",\"2021-06-27T00:00:00\",\"2021-06-27T00:00:00\",\"2021-06-27T00:00:00\",\"2021-06-28T00:00:00\",\"2021-06-28T00:00:00\",\"2021-06-28T00:00:00\",\"2021-06-28T00:00:00\",\"2021-06-28T00:00:00\",\"2021-06-28T00:00:00\",\"2021-06-28T00:00:00\",\"2021-06-28T00:00:00\",\"2021-06-29T00:00:00\",\"2021-06-29T00:00:00\",\"2021-06-29T00:00:00\",\"2021-06-29T00:00:00\",\"2021-06-29T00:00:00\",\"2021-06-30T00:00:00\",\"2021-06-30T00:00:00\",\"2021-06-30T00:00:00\",\"2021-06-30T00:00:00\",\"2021-06-30T00:00:00\",\"2021-06-30T00:00:00\",\"2021-06-30T00:00:00\",\"2021-06-30T00:00:00\",\"2021-07-01T00:00:00\",\"2021-07-01T00:00:00\",\"2021-07-01T00:00:00\",\"2021-07-01T00:00:00\",\"2021-07-01T00:00:00\",\"2021-07-01T00:00:00\",\"2021-07-02T00:00:00\",\"2021-07-03T00:00:00\",\"2021-07-03T00:00:00\",\"2021-07-03T00:00:00\",\"2021-07-09T00:00:00\",\"2021-07-13T00:00:00\",\"2021-07-13T00:00:00\",\"2021-07-13T00:00:00\",\"2021-07-17T00:00:00\",\"2021-07-17T00:00:00\",\"2021-07-17T00:00:00\",\"2021-07-17T00:00:00\",\"2021-07-17T00:00:00\",\"2021-07-17T00:00:00\",\"2021-08-02T00:00:00\",\"2021-08-15T00:00:00\",\"2021-10-18T00:00:00\",\"2021-10-18T00:00:00\",\"2021-10-18T00:00:00\",\"2021-10-18T00:00:00\",\"2021-11-04T00:00:00\",\"2021-11-04T00:00:00\",\"2021-11-04T00:00:00\",\"2021-11-04T00:00:00\",\"2021-11-04T00:00:00\",\"2021-11-04T00:00:00\",\"2021-11-04T00:00:00\",\"2021-11-04T00:00:00\",\"2021-11-04T00:00:00\",\"2021-12-03T00:00:00\"],\"xaxis\":\"x\",\"y\":[1311.0,1318.0,1309.0,1316.0,1324.0,1315.0,1307.0,1299.0,1290.0,1299.0,1299.0,1292.0,1290.0,1297.0,1289.0,1296.0,1289.0,1295.0,1304.0,1304.0,1295.0,1295.0,1286.0,1278.0,1268.0,1258.0,1248.0,1257.0,1248.0,1257.0,1248.0,1262.0,1272.0,1283.0,1292.0,1283.0,1274.0,1265.0,1256.0,1245.0,1245.0,1254.0,1252.0,1241.0,1249.0,1258.0,1231.0,1223.0,1234.0,1227.0,1213.0,1219.0,1224.0,null,1235.0,1234.0,1221.0,1227.0,1225.0,1232.0,1222.0,1227.0,1236.0,1226.0,1234.0,1226.0,1220.0,1229.0,1215.0,1222.0,1230.0,1239.0,1224.0,1213.0,1220.0,1213.0,1219.0,1227.0,1217.0,1225.0,1216.0,1207.0,1213.0,1221.0,1230.0,1223.0,null,1231.0,1221.0,1227.0,null,1217.0,1217.0,1210.0,1210.0,1225.0,1219.0,1226.0,null,1217.0,1236.0,1235.0,1241.0,1231.0,1209.0,1218.0,1225.0,1202.0,1195.0,1175.0,1184.0,1166.0,1177.0,1186.0,1192.0,1202.0,1209.0,1201.0,1209.0,1210.0,1218.0,1193.0,1203.0,null,1197.0,1204.0,1214.0,1206.0,1196.0,1189.0,1187.0,1178.0,1183.0,1171.0,1181.0,1190.0,1187.0,1180.0,1173.0,1182.0,1179.0,1190.0,1182.0,1213.0,1205.0,1197.0,1189.0,1197.0,1221.0,1229.0,1238.0,1247.0,1255.0,1248.0,1255.0,1264.0,1256.0,1265.0,1257.0,1251.0,1258.0,1268.0,1250.0,1255.0,null,1262.0,1251.0,1251.0,null,1261.0,1254.0,1247.0,1240.0,1258.0,1278.0,1271.0,1259.0,1257.0,1250.0,1264.0,1286.0,null,1273.0,1279.0,1264.0,1264.0,1280.0,1272.0,1288.0,1296.0,1304.0,1296.0,1305.0,1296.0,1289.0,1281.0,1280.0,1267.0,1292.0,null,1252.0,1242.0,1233.0,1244.0,1256.0,1268.0,1257.0,1268.0,1281.0,1240.0],\"yaxis\":\"y\",\"type\":\"scatter\"}],                        {\"template\":{\"data\":{\"histogram2dcontour\":[{\"type\":\"histogram2dcontour\",\"colorbar\":{\"outlinewidth\":0,\"ticks\":\"\"},\"colorscale\":[[0.0,\"#0d0887\"],[0.1111111111111111,\"#46039f\"],[0.2222222222222222,\"#7201a8\"],[0.3333333333333333,\"#9c179e\"],[0.4444444444444444,\"#bd3786\"],[0.5555555555555556,\"#d8576b\"],[0.6666666666666666,\"#ed7953\"],[0.7777777777777778,\"#fb9f3a\"],[0.8888888888888888,\"#fdca26\"],[1.0,\"#f0f921\"]]}],\"choropleth\":[{\"type\":\"choropleth\",\"colorbar\":{\"outlinewidth\":0,\"ticks\":\"\"}}],\"histogram2d\":[{\"type\":\"histogram2d\",\"colorbar\":{\"outlinewidth\":0,\"ticks\":\"\"},\"colorscale\":[[0.0,\"#0d0887\"],[0.1111111111111111,\"#46039f\"],[0.2222222222222222,\"#7201a8\"],[0.3333333333333333,\"#9c179e\"],[0.4444444444444444,\"#bd3786\"],[0.5555555555555556,\"#d8576b\"],[0.6666666666666666,\"#ed7953\"],[0.7777777777777778,\"#fb9f3a\"],[0.8888888888888888,\"#fdca26\"],[1.0,\"#f0f921\"]]}],\"heatmap\":[{\"type\":\"heatmap\",\"colorbar\":{\"outlinewidth\":0,\"ticks\":\"\"},\"colorscale\":[[0.0,\"#0d0887\"],[0.1111111111111111,\"#46039f\"],[0.2222222222222222,\"#7201a8\"],[0.3333333333333333,\"#9c179e\"],[0.4444444444444444,\"#bd3786\"],[0.5555555555555556,\"#d8576b\"],[0.6666666666666666,\"#ed7953\"],[0.7777777777777778,\"#fb9f3a\"],[0.8888888888888888,\"#fdca26\"],[1.0,\"#f0f921\"]]}],\"heatmapgl\":[{\"type\":\"heatmapgl\",\"colorbar\":{\"outlinewidth\":0,\"ticks\":\"\"},\"colorscale\":[[0.0,\"#0d0887\"],[0.1111111111111111,\"#46039f\"],[0.2222222222222222,\"#7201a8\"],[0.3333333333333333,\"#9c179e\"],[0.4444444444444444,\"#bd3786\"],[0.5555555555555556,\"#d8576b\"],[0.6666666666666666,\"#ed7953\"],[0.7777777777777778,\"#fb9f3a\"],[0.8888888888888888,\"#fdca26\"],[1.0,\"#f0f921\"]]}],\"contourcarpet\":[{\"type\":\"contourcarpet\",\"colorbar\":{\"outlinewidth\":0,\"ticks\":\"\"}}],\"contour\":[{\"type\":\"contour\",\"colorbar\":{\"outlinewidth\":0,\"ticks\":\"\"},\"colorscale\":[[0.0,\"#0d0887\"],[0.1111111111111111,\"#46039f\"],[0.2222222222222222,\"#7201a8\"],[0.3333333333333333,\"#9c179e\"],[0.4444444444444444,\"#bd3786\"],[0.5555555555555556,\"#d8576b\"],[0.6666666666666666,\"#ed7953\"],[0.7777777777777778,\"#fb9f3a\"],[0.8888888888888888,\"#fdca26\"],[1.0,\"#f0f921\"]]}],\"surface\":[{\"type\":\"surface\",\"colorbar\":{\"outlinewidth\":0,\"ticks\":\"\"},\"colorscale\":[[0.0,\"#0d0887\"],[0.1111111111111111,\"#46039f\"],[0.2222222222222222,\"#7201a8\"],[0.3333333333333333,\"#9c179e\"],[0.4444444444444444,\"#bd3786\"],[0.5555555555555556,\"#d8576b\"],[0.6666666666666666,\"#ed7953\"],[0.7777777777777778,\"#fb9f3a\"],[0.8888888888888888,\"#fdca26\"],[1.0,\"#f0f921\"]]}],\"mesh3d\":[{\"type\":\"mesh3d\",\"colorbar\":{\"outlinewidth\":0,\"ticks\":\"\"}}],\"scatter\":[{\"fillpattern\":{\"fillmode\":\"overlay\",\"size\":10,\"solidity\":0.2},\"type\":\"scatter\"}],\"parcoords\":[{\"type\":\"parcoords\",\"line\":{\"colorbar\":{\"outlinewidth\":0,\"ticks\":\"\"}}}],\"scatterpolargl\":[{\"type\":\"scatterpolargl\",\"marker\":{\"colorbar\":{\"outlinewidth\":0,\"ticks\":\"\"}}}],\"bar\":[{\"error_x\":{\"color\":\"#2a3f5f\"},\"error_y\":{\"color\":\"#2a3f5f\"},\"marker\":{\"line\":{\"color\":\"#E5ECF6\",\"width\":0.5},\"pattern\":{\"fillmode\":\"overlay\",\"size\":10,\"solidity\":0.2}},\"type\":\"bar\"}],\"scattergeo\":[{\"type\":\"scattergeo\",\"marker\":{\"colorbar\":{\"outlinewidth\":0,\"ticks\":\"\"}}}],\"scatterpolar\":[{\"type\":\"scatterpolar\",\"marker\":{\"colorbar\":{\"outlinewidth\":0,\"ticks\":\"\"}}}],\"histogram\":[{\"marker\":{\"pattern\":{\"fillmode\":\"overlay\",\"size\":10,\"solidity\":0.2}},\"type\":\"histogram\"}],\"scattergl\":[{\"type\":\"scattergl\",\"marker\":{\"colorbar\":{\"outlinewidth\":0,\"ticks\":\"\"}}}],\"scatter3d\":[{\"type\":\"scatter3d\",\"line\":{\"colorbar\":{\"outlinewidth\":0,\"ticks\":\"\"}},\"marker\":{\"colorbar\":{\"outlinewidth\":0,\"ticks\":\"\"}}}],\"scattermapbox\":[{\"type\":\"scattermapbox\",\"marker\":{\"colorbar\":{\"outlinewidth\":0,\"ticks\":\"\"}}}],\"scatterternary\":[{\"type\":\"scatterternary\",\"marker\":{\"colorbar\":{\"outlinewidth\":0,\"ticks\":\"\"}}}],\"scattercarpet\":[{\"type\":\"scattercarpet\",\"marker\":{\"colorbar\":{\"outlinewidth\":0,\"ticks\":\"\"}}}],\"carpet\":[{\"aaxis\":{\"endlinecolor\":\"#2a3f5f\",\"gridcolor\":\"white\",\"linecolor\":\"white\",\"minorgridcolor\":\"white\",\"startlinecolor\":\"#2a3f5f\"},\"baxis\":{\"endlinecolor\":\"#2a3f5f\",\"gridcolor\":\"white\",\"linecolor\":\"white\",\"minorgridcolor\":\"white\",\"startlinecolor\":\"#2a3f5f\"},\"type\":\"carpet\"}],\"table\":[{\"cells\":{\"fill\":{\"color\":\"#EBF0F8\"},\"line\":{\"color\":\"white\"}},\"header\":{\"fill\":{\"color\":\"#C8D4E3\"},\"line\":{\"color\":\"white\"}},\"type\":\"table\"}],\"barpolar\":[{\"marker\":{\"line\":{\"color\":\"#E5ECF6\",\"width\":0.5},\"pattern\":{\"fillmode\":\"overlay\",\"size\":10,\"solidity\":0.2}},\"type\":\"barpolar\"}],\"pie\":[{\"automargin\":true,\"type\":\"pie\"}]},\"layout\":{\"autotypenumbers\":\"strict\",\"colorway\":[\"#636efa\",\"#EF553B\",\"#00cc96\",\"#ab63fa\",\"#FFA15A\",\"#19d3f3\",\"#FF6692\",\"#B6E880\",\"#FF97FF\",\"#FECB52\"],\"font\":{\"color\":\"#2a3f5f\"},\"hovermode\":\"closest\",\"hoverlabel\":{\"align\":\"left\"},\"paper_bgcolor\":\"white\",\"plot_bgcolor\":\"#E5ECF6\",\"polar\":{\"bgcolor\":\"#E5ECF6\",\"angularaxis\":{\"gridcolor\":\"white\",\"linecolor\":\"white\",\"ticks\":\"\"},\"radialaxis\":{\"gridcolor\":\"white\",\"linecolor\":\"white\",\"ticks\":\"\"}},\"ternary\":{\"bgcolor\":\"#E5ECF6\",\"aaxis\":{\"gridcolor\":\"white\",\"linecolor\":\"white\",\"ticks\":\"\"},\"baxis\":{\"gridcolor\":\"white\",\"linecolor\":\"white\",\"ticks\":\"\"},\"caxis\":{\"gridcolor\":\"white\",\"linecolor\":\"white\",\"ticks\":\"\"}},\"coloraxis\":{\"colorbar\":{\"outlinewidth\":0,\"ticks\":\"\"}},\"colorscale\":{\"sequential\":[[0.0,\"#0d0887\"],[0.1111111111111111,\"#46039f\"],[0.2222222222222222,\"#7201a8\"],[0.3333333333333333,\"#9c179e\"],[0.4444444444444444,\"#bd3786\"],[0.5555555555555556,\"#d8576b\"],[0.6666666666666666,\"#ed7953\"],[0.7777777777777778,\"#fb9f3a\"],[0.8888888888888888,\"#fdca26\"],[1.0,\"#f0f921\"]],\"sequentialminus\":[[0.0,\"#0d0887\"],[0.1111111111111111,\"#46039f\"],[0.2222222222222222,\"#7201a8\"],[0.3333333333333333,\"#9c179e\"],[0.4444444444444444,\"#bd3786\"],[0.5555555555555556,\"#d8576b\"],[0.6666666666666666,\"#ed7953\"],[0.7777777777777778,\"#fb9f3a\"],[0.8888888888888888,\"#fdca26\"],[1.0,\"#f0f921\"]],\"diverging\":[[0,\"#8e0152\"],[0.1,\"#c51b7d\"],[0.2,\"#de77ae\"],[0.3,\"#f1b6da\"],[0.4,\"#fde0ef\"],[0.5,\"#f7f7f7\"],[0.6,\"#e6f5d0\"],[0.7,\"#b8e186\"],[0.8,\"#7fbc41\"],[0.9,\"#4d9221\"],[1,\"#276419\"]]},\"xaxis\":{\"gridcolor\":\"white\",\"linecolor\":\"white\",\"ticks\":\"\",\"title\":{\"standoff\":15},\"zerolinecolor\":\"white\",\"automargin\":true,\"zerolinewidth\":2},\"yaxis\":{\"gridcolor\":\"white\",\"linecolor\":\"white\",\"ticks\":\"\",\"title\":{\"standoff\":15},\"zerolinecolor\":\"white\",\"automargin\":true,\"zerolinewidth\":2},\"scene\":{\"xaxis\":{\"backgroundcolor\":\"#E5ECF6\",\"gridcolor\":\"white\",\"linecolor\":\"white\",\"showbackground\":true,\"ticks\":\"\",\"zerolinecolor\":\"white\",\"gridwidth\":2},\"yaxis\":{\"backgroundcolor\":\"#E5ECF6\",\"gridcolor\":\"white\",\"linecolor\":\"white\",\"showbackground\":true,\"ticks\":\"\",\"zerolinecolor\":\"white\",\"gridwidth\":2},\"zaxis\":{\"backgroundcolor\":\"#E5ECF6\",\"gridcolor\":\"white\",\"linecolor\":\"white\",\"showbackground\":true,\"ticks\":\"\",\"zerolinecolor\":\"white\",\"gridwidth\":2}},\"shapedefaults\":{\"line\":{\"color\":\"#2a3f5f\"}},\"annotationdefaults\":{\"arrowcolor\":\"#2a3f5f\",\"arrowhead\":0,\"arrowwidth\":1},\"geo\":{\"bgcolor\":\"white\",\"landcolor\":\"#E5ECF6\",\"subunitcolor\":\"white\",\"showland\":true,\"showlakes\":true,\"lakecolor\":\"white\"},\"title\":{\"x\":0.05},\"mapbox\":{\"style\":\"light\"}}},\"xaxis\":{\"anchor\":\"y\",\"domain\":[0.0,1.0],\"title\":{\"text\":\"Date\"}},\"yaxis\":{\"anchor\":\"x\",\"domain\":[0.0,1.0],\"title\":{\"text\":\"Rating\"}},\"legend\":{\"tracegroupgap\":0},\"margin\":{\"t\":60},\"title\":{\"text\":\"Chess Ratings for year 2021\"}},                        {\"responsive\": true}                    ).then(function(){\n",
       "                            \n",
       "var gd = document.getElementById('bdc44315-8f41-415f-86ad-7286c96b8541');\n",
       "var x = new MutationObserver(function (mutations, observer) {{\n",
       "        var display = window.getComputedStyle(gd).display;\n",
       "        if (!display || display === 'none') {{\n",
       "            console.log([gd, 'removed!']);\n",
       "            Plotly.purge(gd);\n",
       "            observer.disconnect();\n",
       "        }}\n",
       "}});\n",
       "\n",
       "// Listen for the removal of the full notebook cells\n",
       "var notebookContainer = gd.closest('#notebook-container');\n",
       "if (notebookContainer) {{\n",
       "    x.observe(notebookContainer, {childList: true});\n",
       "}}\n",
       "\n",
       "// Listen for the clearing of the current output cell\n",
       "var outputEl = gd.closest('.output');\n",
       "if (outputEl) {{\n",
       "    x.observe(outputEl, {childList: true});\n",
       "}}\n",
       "\n",
       "                        })                };                });            </script>        </div>"
      ]
     },
     "metadata": {},
     "output_type": "display_data"
    },
    {
     "data": {
      "application/vnd.plotly.v1+json": {
       "config": {
        "plotlyServerURL": "https://plot.ly"
       },
       "data": [
        {
         "hovertemplate": "Date=%{x}<br>Rating=%{y}<extra></extra>",
         "legendgroup": "",
         "line": {
          "color": "#636efa",
          "dash": "solid"
         },
         "marker": {
          "symbol": "circle"
         },
         "mode": "lines",
         "name": "",
         "orientation": "v",
         "showlegend": false,
         "type": "scatter",
         "x": [
          "2022-01-30T00:00:00",
          "2022-01-30T00:00:00",
          "2022-01-30T00:00:00",
          "2022-01-30T00:00:00",
          "2022-01-30T00:00:00",
          "2022-01-30T00:00:00",
          "2022-02-12T00:00:00",
          "2022-02-12T00:00:00",
          "2022-02-12T00:00:00",
          "2022-02-12T00:00:00",
          "2022-02-12T00:00:00",
          "2022-02-12T00:00:00",
          "2022-02-16T00:00:00",
          "2022-02-16T00:00:00",
          "2022-02-16T00:00:00",
          "2022-02-16T00:00:00",
          "2022-02-16T00:00:00",
          "2022-02-16T00:00:00",
          "2022-02-16T00:00:00",
          "2022-02-16T00:00:00",
          "2022-02-16T00:00:00",
          "2022-02-18T00:00:00",
          "2022-02-18T00:00:00",
          "2022-02-20T00:00:00",
          "2022-02-20T00:00:00",
          "2022-02-20T00:00:00",
          "2022-02-20T00:00:00",
          "2022-02-20T00:00:00",
          "2022-02-20T00:00:00",
          "2022-02-21T00:00:00",
          "2022-02-21T00:00:00",
          "2022-02-24T00:00:00",
          "2022-02-24T00:00:00",
          "2022-02-24T00:00:00",
          "2022-02-24T00:00:00",
          "2022-02-28T00:00:00",
          "2022-03-02T00:00:00",
          "2022-03-03T00:00:00",
          "2022-03-03T00:00:00",
          "2022-03-05T00:00:00",
          "2022-03-05T00:00:00",
          "2022-03-05T00:00:00",
          "2022-03-05T00:00:00",
          "2022-03-05T00:00:00",
          "2022-03-05T00:00:00",
          "2022-03-05T00:00:00",
          "2022-03-31T00:00:00",
          "2022-03-31T00:00:00",
          "2022-03-31T00:00:00",
          "2022-04-02T00:00:00",
          "2022-04-02T00:00:00",
          "2022-04-02T00:00:00",
          "2022-04-03T00:00:00",
          "2022-04-03T00:00:00",
          "2022-04-03T00:00:00",
          "2022-04-03T00:00:00",
          "2022-04-03T00:00:00",
          "2022-04-03T00:00:00",
          "2022-04-04T00:00:00",
          "2022-04-04T00:00:00",
          "2022-04-04T00:00:00",
          "2022-04-04T00:00:00",
          "2022-04-06T00:00:00",
          "2022-04-06T00:00:00",
          "2022-04-07T00:00:00",
          "2022-04-07T00:00:00",
          "2022-04-07T00:00:00",
          "2022-04-07T00:00:00",
          "2022-04-09T00:00:00",
          "2022-04-17T00:00:00",
          "2022-04-17T00:00:00",
          "2022-04-17T00:00:00",
          "2022-04-17T00:00:00",
          "2022-04-21T00:00:00",
          "2022-05-05T00:00:00",
          "2022-05-15T00:00:00",
          "2022-05-15T00:00:00",
          "2022-06-08T00:00:00",
          "2022-06-10T00:00:00",
          "2022-06-12T00:00:00",
          "2022-06-12T00:00:00",
          "2022-06-12T00:00:00",
          "2022-06-12T00:00:00",
          "2022-06-12T00:00:00",
          "2022-06-12T00:00:00",
          "2022-06-12T00:00:00",
          "2022-06-13T00:00:00",
          "2022-06-13T00:00:00",
          "2022-06-14T00:00:00",
          "2022-06-15T00:00:00",
          "2022-06-16T00:00:00",
          "2022-06-16T00:00:00",
          "2022-06-17T00:00:00",
          "2022-06-17T00:00:00",
          "2022-06-17T00:00:00",
          "2022-06-18T00:00:00",
          "2022-06-18T00:00:00",
          "2022-06-18T00:00:00",
          "2022-06-23T00:00:00",
          "2022-06-23T00:00:00",
          "2022-06-25T00:00:00",
          "2022-07-01T00:00:00",
          "2022-07-04T00:00:00",
          "2022-07-13T00:00:00",
          "2022-07-13T00:00:00",
          "2022-08-16T00:00:00",
          "2022-08-23T00:00:00",
          "2022-08-24T00:00:00",
          "2022-08-24T00:00:00",
          "2022-08-24T00:00:00",
          "2022-08-24T00:00:00",
          "2022-08-24T00:00:00",
          "2022-08-24T00:00:00",
          "2022-08-24T00:00:00",
          "2022-08-24T00:00:00",
          "2022-08-24T00:00:00",
          "2022-08-25T00:00:00",
          "2022-08-25T00:00:00",
          "2022-08-25T00:00:00",
          "2022-08-25T00:00:00",
          "2022-08-25T00:00:00",
          "2022-09-02T00:00:00",
          "2022-09-02T00:00:00",
          "2022-09-03T00:00:00",
          "2022-09-03T00:00:00",
          "2022-09-12T00:00:00",
          "2022-09-13T00:00:00",
          "2022-09-13T00:00:00",
          "2022-09-14T00:00:00",
          "2022-09-15T00:00:00",
          "2022-09-15T00:00:00",
          "2022-09-17T00:00:00",
          "2022-09-19T00:00:00",
          "2022-09-19T00:00:00",
          "2022-09-19T00:00:00",
          "2022-09-19T00:00:00",
          "2022-09-19T00:00:00",
          "2022-09-21T00:00:00",
          "2022-09-21T00:00:00",
          "2022-09-22T00:00:00",
          "2022-09-22T00:00:00",
          "2022-09-22T00:00:00",
          "2022-09-24T00:00:00",
          "2022-09-24T00:00:00",
          "2022-09-25T00:00:00",
          "2022-09-25T00:00:00",
          "2022-09-25T00:00:00",
          "2022-09-25T00:00:00",
          "2022-09-25T00:00:00",
          "2022-09-26T00:00:00",
          "2022-09-26T00:00:00",
          "2022-09-26T00:00:00",
          "2022-09-26T00:00:00",
          "2022-09-29T00:00:00",
          "2022-09-29T00:00:00",
          "2022-10-03T00:00:00",
          "2022-10-06T00:00:00",
          "2022-10-10T00:00:00",
          "2022-10-13T00:00:00",
          "2022-10-13T00:00:00",
          "2022-10-18T00:00:00",
          "2022-10-18T00:00:00",
          "2022-10-18T00:00:00",
          "2022-10-22T00:00:00",
          "2022-10-22T00:00:00",
          "2022-10-22T00:00:00",
          "2022-10-23T00:00:00",
          "2022-10-23T00:00:00",
          "2022-10-23T00:00:00",
          "2022-10-26T00:00:00",
          "2022-10-26T00:00:00",
          "2022-10-26T00:00:00",
          "2022-10-27T00:00:00",
          "2022-10-27T00:00:00",
          "2022-10-27T00:00:00",
          "2022-10-31T00:00:00",
          "2022-10-31T00:00:00",
          "2022-10-31T00:00:00",
          "2022-10-31T00:00:00",
          "2022-10-31T00:00:00",
          "2022-10-31T00:00:00",
          "2022-11-18T00:00:00",
          "2022-11-18T00:00:00",
          "2022-11-18T00:00:00",
          "2022-11-18T00:00:00",
          "2022-11-18T00:00:00",
          "2022-11-18T00:00:00",
          "2022-11-19T00:00:00",
          "2022-11-19T00:00:00",
          "2022-11-21T00:00:00",
          "2022-11-21T00:00:00",
          "2022-11-25T00:00:00",
          "2022-11-25T00:00:00",
          "2022-11-28T00:00:00",
          "2022-11-28T00:00:00",
          "2022-11-28T00:00:00",
          "2022-11-28T00:00:00",
          "2022-11-28T00:00:00",
          "2022-11-28T00:00:00",
          "2022-11-30T00:00:00",
          "2022-11-30T00:00:00",
          "2022-12-01T00:00:00",
          "2022-12-02T00:00:00",
          "2022-12-05T00:00:00",
          "2022-12-06T00:00:00",
          "2022-12-06T00:00:00",
          "2022-12-06T00:00:00",
          "2022-12-07T00:00:00",
          "2022-12-07T00:00:00",
          "2022-12-08T00:00:00",
          "2022-12-08T00:00:00",
          "2022-12-08T00:00:00",
          "2022-12-11T00:00:00",
          "2022-12-11T00:00:00",
          "2022-12-11T00:00:00",
          "2022-12-11T00:00:00",
          "2022-12-11T00:00:00",
          "2022-12-13T00:00:00",
          "2022-12-13T00:00:00",
          "2022-12-14T00:00:00",
          "2022-12-14T00:00:00",
          "2022-12-14T00:00:00",
          "2022-12-14T00:00:00",
          "2022-12-14T00:00:00",
          "2022-12-14T00:00:00",
          "2022-12-14T00:00:00",
          "2022-12-14T00:00:00",
          "2022-12-15T00:00:00",
          "2022-12-15T00:00:00",
          "2022-12-15T00:00:00",
          "2022-12-15T00:00:00",
          "2022-12-15T00:00:00",
          "2022-12-15T00:00:00",
          "2022-12-15T00:00:00",
          "2022-12-15T00:00:00",
          "2022-12-16T00:00:00",
          "2022-12-16T00:00:00",
          "2022-12-16T00:00:00",
          "2022-12-16T00:00:00",
          "2022-12-16T00:00:00",
          "2022-12-17T00:00:00",
          "2022-12-17T00:00:00",
          "2022-12-17T00:00:00",
          "2022-12-18T00:00:00",
          "2022-12-18T00:00:00",
          "2022-12-18T00:00:00",
          "2022-12-19T00:00:00",
          "2022-12-20T00:00:00"
         ],
         "xaxis": "x",
         "y": [
          1258,
          1291,
          1276,
          1292,
          1278,
          1277,
          1279,
          1265,
          1291,
          1251,
          1265,
          1302,
          1315,
          1304,
          1292,
          1280,
          1270,
          1261,
          1252,
          1242,
          1233,
          null,
          1223,
          1231,
          1250,
          1241,
          1249,
          1240,
          1241,
          1249,
          1257,
          1263,
          1256,
          1270,
          1248,
          1263,
          1271,
          1278,
          1285,
          1300,
          1292,
          1301,
          1293,
          1302,
          1293,
          1291,
          1282,
          null,
          1290,
          1283,
          1281,
          1290,
          1291,
          1299,
          1291,
          1298,
          1305,
          1312,
          1297,
          1305,
          1305,
          1297,
          1306,
          1314,
          1322,
          1330,
          1338,
          1331,
          1338,
          1339,
          1331,
          1340,
          1346,
          1347,
          1355,
          1373,
          1364,
          1382,
          1393,
          1413,
          1423,
          1422,
          1440,
          1431,
          1402,
          1432,
          1442,
          1450,
          1433,
          1424,
          1441,
          1433,
          1448,
          1442,
          1433,
          1441,
          1425,
          1433,
          1434,
          1441,
          1449,
          1442,
          1435,
          1435,
          1443,
          1447,
          1457,
          1447,
          1457,
          1466,
          1474,
          1493,
          1482,
          1492,
          1501,
          1502,
          1509,
          1519,
          1527,
          1519,
          1525,
          1508,
          1516,
          1500,
          1491,
          1500,
          1508,
          1499,
          1507,
          1515,
          1523,
          1532,
          1524,
          1524,
          1516,
          1524,
          1532,
          1539,
          1531,
          1529,
          1537,
          1530,
          1530,
          1538,
          1523,
          1515,
          1523,
          1531,
          1538,
          1545,
          1553,
          1545,
          1537,
          1521,
          1529,
          1512,
          1505,
          1513,
          1506,
          1513,
          1522,
          1521,
          1513,
          1515,
          1506,
          1514,
          1506,
          1498,
          1506,
          1482,
          1498,
          1489,
          1476,
          1477,
          1485,
          1492,
          1493,
          1485,
          1500,
          1493,
          1486,
          1502,
          1510,
          1502,
          1509,
          1518,
          1525,
          1533,
          1525,
          1511,
          1517,
          1510,
          1502,
          1517,
          1509,
          1501,
          1493,
          1501,
          1493,
          1485,
          1492,
          1500,
          1491,
          1484,
          1482,
          1474,
          1492,
          1474,
          1482,
          1467,
          1459,
          1450,
          1465,
          1442,
          1456,
          1457,
          1450,
          1464,
          1472,
          1502,
          1479,
          1487,
          1494,
          1510,
          1502,
          1510,
          1502,
          1508,
          1500,
          1509,
          1517,
          1508,
          1492,
          1499,
          1499,
          1531,
          1507,
          1523,
          1524,
          1515,
          1533,
          1524,
          1516,
          1509,
          1518,
          1510,
          1502,
          1495
         ],
         "yaxis": "y"
        }
       ],
       "layout": {
        "legend": {
         "tracegroupgap": 0
        },
        "margin": {
         "t": 60
        },
        "template": {
         "data": {
          "bar": [
           {
            "error_x": {
             "color": "#2a3f5f"
            },
            "error_y": {
             "color": "#2a3f5f"
            },
            "marker": {
             "line": {
              "color": "#E5ECF6",
              "width": 0.5
             },
             "pattern": {
              "fillmode": "overlay",
              "size": 10,
              "solidity": 0.2
             }
            },
            "type": "bar"
           }
          ],
          "barpolar": [
           {
            "marker": {
             "line": {
              "color": "#E5ECF6",
              "width": 0.5
             },
             "pattern": {
              "fillmode": "overlay",
              "size": 10,
              "solidity": 0.2
             }
            },
            "type": "barpolar"
           }
          ],
          "carpet": [
           {
            "aaxis": {
             "endlinecolor": "#2a3f5f",
             "gridcolor": "white",
             "linecolor": "white",
             "minorgridcolor": "white",
             "startlinecolor": "#2a3f5f"
            },
            "baxis": {
             "endlinecolor": "#2a3f5f",
             "gridcolor": "white",
             "linecolor": "white",
             "minorgridcolor": "white",
             "startlinecolor": "#2a3f5f"
            },
            "type": "carpet"
           }
          ],
          "choropleth": [
           {
            "colorbar": {
             "outlinewidth": 0,
             "ticks": ""
            },
            "type": "choropleth"
           }
          ],
          "contour": [
           {
            "colorbar": {
             "outlinewidth": 0,
             "ticks": ""
            },
            "colorscale": [
             [
              0,
              "#0d0887"
             ],
             [
              0.1111111111111111,
              "#46039f"
             ],
             [
              0.2222222222222222,
              "#7201a8"
             ],
             [
              0.3333333333333333,
              "#9c179e"
             ],
             [
              0.4444444444444444,
              "#bd3786"
             ],
             [
              0.5555555555555556,
              "#d8576b"
             ],
             [
              0.6666666666666666,
              "#ed7953"
             ],
             [
              0.7777777777777778,
              "#fb9f3a"
             ],
             [
              0.8888888888888888,
              "#fdca26"
             ],
             [
              1,
              "#f0f921"
             ]
            ],
            "type": "contour"
           }
          ],
          "contourcarpet": [
           {
            "colorbar": {
             "outlinewidth": 0,
             "ticks": ""
            },
            "type": "contourcarpet"
           }
          ],
          "heatmap": [
           {
            "colorbar": {
             "outlinewidth": 0,
             "ticks": ""
            },
            "colorscale": [
             [
              0,
              "#0d0887"
             ],
             [
              0.1111111111111111,
              "#46039f"
             ],
             [
              0.2222222222222222,
              "#7201a8"
             ],
             [
              0.3333333333333333,
              "#9c179e"
             ],
             [
              0.4444444444444444,
              "#bd3786"
             ],
             [
              0.5555555555555556,
              "#d8576b"
             ],
             [
              0.6666666666666666,
              "#ed7953"
             ],
             [
              0.7777777777777778,
              "#fb9f3a"
             ],
             [
              0.8888888888888888,
              "#fdca26"
             ],
             [
              1,
              "#f0f921"
             ]
            ],
            "type": "heatmap"
           }
          ],
          "heatmapgl": [
           {
            "colorbar": {
             "outlinewidth": 0,
             "ticks": ""
            },
            "colorscale": [
             [
              0,
              "#0d0887"
             ],
             [
              0.1111111111111111,
              "#46039f"
             ],
             [
              0.2222222222222222,
              "#7201a8"
             ],
             [
              0.3333333333333333,
              "#9c179e"
             ],
             [
              0.4444444444444444,
              "#bd3786"
             ],
             [
              0.5555555555555556,
              "#d8576b"
             ],
             [
              0.6666666666666666,
              "#ed7953"
             ],
             [
              0.7777777777777778,
              "#fb9f3a"
             ],
             [
              0.8888888888888888,
              "#fdca26"
             ],
             [
              1,
              "#f0f921"
             ]
            ],
            "type": "heatmapgl"
           }
          ],
          "histogram": [
           {
            "marker": {
             "pattern": {
              "fillmode": "overlay",
              "size": 10,
              "solidity": 0.2
             }
            },
            "type": "histogram"
           }
          ],
          "histogram2d": [
           {
            "colorbar": {
             "outlinewidth": 0,
             "ticks": ""
            },
            "colorscale": [
             [
              0,
              "#0d0887"
             ],
             [
              0.1111111111111111,
              "#46039f"
             ],
             [
              0.2222222222222222,
              "#7201a8"
             ],
             [
              0.3333333333333333,
              "#9c179e"
             ],
             [
              0.4444444444444444,
              "#bd3786"
             ],
             [
              0.5555555555555556,
              "#d8576b"
             ],
             [
              0.6666666666666666,
              "#ed7953"
             ],
             [
              0.7777777777777778,
              "#fb9f3a"
             ],
             [
              0.8888888888888888,
              "#fdca26"
             ],
             [
              1,
              "#f0f921"
             ]
            ],
            "type": "histogram2d"
           }
          ],
          "histogram2dcontour": [
           {
            "colorbar": {
             "outlinewidth": 0,
             "ticks": ""
            },
            "colorscale": [
             [
              0,
              "#0d0887"
             ],
             [
              0.1111111111111111,
              "#46039f"
             ],
             [
              0.2222222222222222,
              "#7201a8"
             ],
             [
              0.3333333333333333,
              "#9c179e"
             ],
             [
              0.4444444444444444,
              "#bd3786"
             ],
             [
              0.5555555555555556,
              "#d8576b"
             ],
             [
              0.6666666666666666,
              "#ed7953"
             ],
             [
              0.7777777777777778,
              "#fb9f3a"
             ],
             [
              0.8888888888888888,
              "#fdca26"
             ],
             [
              1,
              "#f0f921"
             ]
            ],
            "type": "histogram2dcontour"
           }
          ],
          "mesh3d": [
           {
            "colorbar": {
             "outlinewidth": 0,
             "ticks": ""
            },
            "type": "mesh3d"
           }
          ],
          "parcoords": [
           {
            "line": {
             "colorbar": {
              "outlinewidth": 0,
              "ticks": ""
             }
            },
            "type": "parcoords"
           }
          ],
          "pie": [
           {
            "automargin": true,
            "type": "pie"
           }
          ],
          "scatter": [
           {
            "fillpattern": {
             "fillmode": "overlay",
             "size": 10,
             "solidity": 0.2
            },
            "type": "scatter"
           }
          ],
          "scatter3d": [
           {
            "line": {
             "colorbar": {
              "outlinewidth": 0,
              "ticks": ""
             }
            },
            "marker": {
             "colorbar": {
              "outlinewidth": 0,
              "ticks": ""
             }
            },
            "type": "scatter3d"
           }
          ],
          "scattercarpet": [
           {
            "marker": {
             "colorbar": {
              "outlinewidth": 0,
              "ticks": ""
             }
            },
            "type": "scattercarpet"
           }
          ],
          "scattergeo": [
           {
            "marker": {
             "colorbar": {
              "outlinewidth": 0,
              "ticks": ""
             }
            },
            "type": "scattergeo"
           }
          ],
          "scattergl": [
           {
            "marker": {
             "colorbar": {
              "outlinewidth": 0,
              "ticks": ""
             }
            },
            "type": "scattergl"
           }
          ],
          "scattermapbox": [
           {
            "marker": {
             "colorbar": {
              "outlinewidth": 0,
              "ticks": ""
             }
            },
            "type": "scattermapbox"
           }
          ],
          "scatterpolar": [
           {
            "marker": {
             "colorbar": {
              "outlinewidth": 0,
              "ticks": ""
             }
            },
            "type": "scatterpolar"
           }
          ],
          "scatterpolargl": [
           {
            "marker": {
             "colorbar": {
              "outlinewidth": 0,
              "ticks": ""
             }
            },
            "type": "scatterpolargl"
           }
          ],
          "scatterternary": [
           {
            "marker": {
             "colorbar": {
              "outlinewidth": 0,
              "ticks": ""
             }
            },
            "type": "scatterternary"
           }
          ],
          "surface": [
           {
            "colorbar": {
             "outlinewidth": 0,
             "ticks": ""
            },
            "colorscale": [
             [
              0,
              "#0d0887"
             ],
             [
              0.1111111111111111,
              "#46039f"
             ],
             [
              0.2222222222222222,
              "#7201a8"
             ],
             [
              0.3333333333333333,
              "#9c179e"
             ],
             [
              0.4444444444444444,
              "#bd3786"
             ],
             [
              0.5555555555555556,
              "#d8576b"
             ],
             [
              0.6666666666666666,
              "#ed7953"
             ],
             [
              0.7777777777777778,
              "#fb9f3a"
             ],
             [
              0.8888888888888888,
              "#fdca26"
             ],
             [
              1,
              "#f0f921"
             ]
            ],
            "type": "surface"
           }
          ],
          "table": [
           {
            "cells": {
             "fill": {
              "color": "#EBF0F8"
             },
             "line": {
              "color": "white"
             }
            },
            "header": {
             "fill": {
              "color": "#C8D4E3"
             },
             "line": {
              "color": "white"
             }
            },
            "type": "table"
           }
          ]
         },
         "layout": {
          "annotationdefaults": {
           "arrowcolor": "#2a3f5f",
           "arrowhead": 0,
           "arrowwidth": 1
          },
          "autotypenumbers": "strict",
          "coloraxis": {
           "colorbar": {
            "outlinewidth": 0,
            "ticks": ""
           }
          },
          "colorscale": {
           "diverging": [
            [
             0,
             "#8e0152"
            ],
            [
             0.1,
             "#c51b7d"
            ],
            [
             0.2,
             "#de77ae"
            ],
            [
             0.3,
             "#f1b6da"
            ],
            [
             0.4,
             "#fde0ef"
            ],
            [
             0.5,
             "#f7f7f7"
            ],
            [
             0.6,
             "#e6f5d0"
            ],
            [
             0.7,
             "#b8e186"
            ],
            [
             0.8,
             "#7fbc41"
            ],
            [
             0.9,
             "#4d9221"
            ],
            [
             1,
             "#276419"
            ]
           ],
           "sequential": [
            [
             0,
             "#0d0887"
            ],
            [
             0.1111111111111111,
             "#46039f"
            ],
            [
             0.2222222222222222,
             "#7201a8"
            ],
            [
             0.3333333333333333,
             "#9c179e"
            ],
            [
             0.4444444444444444,
             "#bd3786"
            ],
            [
             0.5555555555555556,
             "#d8576b"
            ],
            [
             0.6666666666666666,
             "#ed7953"
            ],
            [
             0.7777777777777778,
             "#fb9f3a"
            ],
            [
             0.8888888888888888,
             "#fdca26"
            ],
            [
             1,
             "#f0f921"
            ]
           ],
           "sequentialminus": [
            [
             0,
             "#0d0887"
            ],
            [
             0.1111111111111111,
             "#46039f"
            ],
            [
             0.2222222222222222,
             "#7201a8"
            ],
            [
             0.3333333333333333,
             "#9c179e"
            ],
            [
             0.4444444444444444,
             "#bd3786"
            ],
            [
             0.5555555555555556,
             "#d8576b"
            ],
            [
             0.6666666666666666,
             "#ed7953"
            ],
            [
             0.7777777777777778,
             "#fb9f3a"
            ],
            [
             0.8888888888888888,
             "#fdca26"
            ],
            [
             1,
             "#f0f921"
            ]
           ]
          },
          "colorway": [
           "#636efa",
           "#EF553B",
           "#00cc96",
           "#ab63fa",
           "#FFA15A",
           "#19d3f3",
           "#FF6692",
           "#B6E880",
           "#FF97FF",
           "#FECB52"
          ],
          "font": {
           "color": "#2a3f5f"
          },
          "geo": {
           "bgcolor": "white",
           "lakecolor": "white",
           "landcolor": "#E5ECF6",
           "showlakes": true,
           "showland": true,
           "subunitcolor": "white"
          },
          "hoverlabel": {
           "align": "left"
          },
          "hovermode": "closest",
          "mapbox": {
           "style": "light"
          },
          "paper_bgcolor": "white",
          "plot_bgcolor": "#E5ECF6",
          "polar": {
           "angularaxis": {
            "gridcolor": "white",
            "linecolor": "white",
            "ticks": ""
           },
           "bgcolor": "#E5ECF6",
           "radialaxis": {
            "gridcolor": "white",
            "linecolor": "white",
            "ticks": ""
           }
          },
          "scene": {
           "xaxis": {
            "backgroundcolor": "#E5ECF6",
            "gridcolor": "white",
            "gridwidth": 2,
            "linecolor": "white",
            "showbackground": true,
            "ticks": "",
            "zerolinecolor": "white"
           },
           "yaxis": {
            "backgroundcolor": "#E5ECF6",
            "gridcolor": "white",
            "gridwidth": 2,
            "linecolor": "white",
            "showbackground": true,
            "ticks": "",
            "zerolinecolor": "white"
           },
           "zaxis": {
            "backgroundcolor": "#E5ECF6",
            "gridcolor": "white",
            "gridwidth": 2,
            "linecolor": "white",
            "showbackground": true,
            "ticks": "",
            "zerolinecolor": "white"
           }
          },
          "shapedefaults": {
           "line": {
            "color": "#2a3f5f"
           }
          },
          "ternary": {
           "aaxis": {
            "gridcolor": "white",
            "linecolor": "white",
            "ticks": ""
           },
           "baxis": {
            "gridcolor": "white",
            "linecolor": "white",
            "ticks": ""
           },
           "bgcolor": "#E5ECF6",
           "caxis": {
            "gridcolor": "white",
            "linecolor": "white",
            "ticks": ""
           }
          },
          "title": {
           "x": 0.05
          },
          "xaxis": {
           "automargin": true,
           "gridcolor": "white",
           "linecolor": "white",
           "ticks": "",
           "title": {
            "standoff": 15
           },
           "zerolinecolor": "white",
           "zerolinewidth": 2
          },
          "yaxis": {
           "automargin": true,
           "gridcolor": "white",
           "linecolor": "white",
           "ticks": "",
           "title": {
            "standoff": 15
           },
           "zerolinecolor": "white",
           "zerolinewidth": 2
          }
         }
        },
        "title": {
         "text": "Chess Ratings for year 2022"
        },
        "xaxis": {
         "anchor": "y",
         "domain": [
          0,
          1
         ],
         "title": {
          "text": "Date"
         }
        },
        "yaxis": {
         "anchor": "x",
         "domain": [
          0,
          1
         ],
         "title": {
          "text": "Rating"
         }
        }
       }
      },
      "text/html": [
       "<div>                            <div id=\"c7bfef25-9991-48fa-8bc8-879eb70081a6\" class=\"plotly-graph-div\" style=\"height:525px; width:100%;\"></div>            <script type=\"text/javascript\">                require([\"plotly\"], function(Plotly) {                    window.PLOTLYENV=window.PLOTLYENV || {};                                    if (document.getElementById(\"c7bfef25-9991-48fa-8bc8-879eb70081a6\")) {                    Plotly.newPlot(                        \"c7bfef25-9991-48fa-8bc8-879eb70081a6\",                        [{\"hovertemplate\":\"Date=%{x}\\u003cbr\\u003eRating=%{y}\\u003cextra\\u003e\\u003c\\u002fextra\\u003e\",\"legendgroup\":\"\",\"line\":{\"color\":\"#636efa\",\"dash\":\"solid\"},\"marker\":{\"symbol\":\"circle\"},\"mode\":\"lines\",\"name\":\"\",\"orientation\":\"v\",\"showlegend\":false,\"x\":[\"2022-01-30T00:00:00\",\"2022-01-30T00:00:00\",\"2022-01-30T00:00:00\",\"2022-01-30T00:00:00\",\"2022-01-30T00:00:00\",\"2022-01-30T00:00:00\",\"2022-02-12T00:00:00\",\"2022-02-12T00:00:00\",\"2022-02-12T00:00:00\",\"2022-02-12T00:00:00\",\"2022-02-12T00:00:00\",\"2022-02-12T00:00:00\",\"2022-02-16T00:00:00\",\"2022-02-16T00:00:00\",\"2022-02-16T00:00:00\",\"2022-02-16T00:00:00\",\"2022-02-16T00:00:00\",\"2022-02-16T00:00:00\",\"2022-02-16T00:00:00\",\"2022-02-16T00:00:00\",\"2022-02-16T00:00:00\",\"2022-02-18T00:00:00\",\"2022-02-18T00:00:00\",\"2022-02-20T00:00:00\",\"2022-02-20T00:00:00\",\"2022-02-20T00:00:00\",\"2022-02-20T00:00:00\",\"2022-02-20T00:00:00\",\"2022-02-20T00:00:00\",\"2022-02-21T00:00:00\",\"2022-02-21T00:00:00\",\"2022-02-24T00:00:00\",\"2022-02-24T00:00:00\",\"2022-02-24T00:00:00\",\"2022-02-24T00:00:00\",\"2022-02-28T00:00:00\",\"2022-03-02T00:00:00\",\"2022-03-03T00:00:00\",\"2022-03-03T00:00:00\",\"2022-03-05T00:00:00\",\"2022-03-05T00:00:00\",\"2022-03-05T00:00:00\",\"2022-03-05T00:00:00\",\"2022-03-05T00:00:00\",\"2022-03-05T00:00:00\",\"2022-03-05T00:00:00\",\"2022-03-31T00:00:00\",\"2022-03-31T00:00:00\",\"2022-03-31T00:00:00\",\"2022-04-02T00:00:00\",\"2022-04-02T00:00:00\",\"2022-04-02T00:00:00\",\"2022-04-03T00:00:00\",\"2022-04-03T00:00:00\",\"2022-04-03T00:00:00\",\"2022-04-03T00:00:00\",\"2022-04-03T00:00:00\",\"2022-04-03T00:00:00\",\"2022-04-04T00:00:00\",\"2022-04-04T00:00:00\",\"2022-04-04T00:00:00\",\"2022-04-04T00:00:00\",\"2022-04-06T00:00:00\",\"2022-04-06T00:00:00\",\"2022-04-07T00:00:00\",\"2022-04-07T00:00:00\",\"2022-04-07T00:00:00\",\"2022-04-07T00:00:00\",\"2022-04-09T00:00:00\",\"2022-04-17T00:00:00\",\"2022-04-17T00:00:00\",\"2022-04-17T00:00:00\",\"2022-04-17T00:00:00\",\"2022-04-21T00:00:00\",\"2022-05-05T00:00:00\",\"2022-05-15T00:00:00\",\"2022-05-15T00:00:00\",\"2022-06-08T00:00:00\",\"2022-06-10T00:00:00\",\"2022-06-12T00:00:00\",\"2022-06-12T00:00:00\",\"2022-06-12T00:00:00\",\"2022-06-12T00:00:00\",\"2022-06-12T00:00:00\",\"2022-06-12T00:00:00\",\"2022-06-12T00:00:00\",\"2022-06-13T00:00:00\",\"2022-06-13T00:00:00\",\"2022-06-14T00:00:00\",\"2022-06-15T00:00:00\",\"2022-06-16T00:00:00\",\"2022-06-16T00:00:00\",\"2022-06-17T00:00:00\",\"2022-06-17T00:00:00\",\"2022-06-17T00:00:00\",\"2022-06-18T00:00:00\",\"2022-06-18T00:00:00\",\"2022-06-18T00:00:00\",\"2022-06-23T00:00:00\",\"2022-06-23T00:00:00\",\"2022-06-25T00:00:00\",\"2022-07-01T00:00:00\",\"2022-07-04T00:00:00\",\"2022-07-13T00:00:00\",\"2022-07-13T00:00:00\",\"2022-08-16T00:00:00\",\"2022-08-23T00:00:00\",\"2022-08-24T00:00:00\",\"2022-08-24T00:00:00\",\"2022-08-24T00:00:00\",\"2022-08-24T00:00:00\",\"2022-08-24T00:00:00\",\"2022-08-24T00:00:00\",\"2022-08-24T00:00:00\",\"2022-08-24T00:00:00\",\"2022-08-24T00:00:00\",\"2022-08-25T00:00:00\",\"2022-08-25T00:00:00\",\"2022-08-25T00:00:00\",\"2022-08-25T00:00:00\",\"2022-08-25T00:00:00\",\"2022-09-02T00:00:00\",\"2022-09-02T00:00:00\",\"2022-09-03T00:00:00\",\"2022-09-03T00:00:00\",\"2022-09-12T00:00:00\",\"2022-09-13T00:00:00\",\"2022-09-13T00:00:00\",\"2022-09-14T00:00:00\",\"2022-09-15T00:00:00\",\"2022-09-15T00:00:00\",\"2022-09-17T00:00:00\",\"2022-09-19T00:00:00\",\"2022-09-19T00:00:00\",\"2022-09-19T00:00:00\",\"2022-09-19T00:00:00\",\"2022-09-19T00:00:00\",\"2022-09-21T00:00:00\",\"2022-09-21T00:00:00\",\"2022-09-22T00:00:00\",\"2022-09-22T00:00:00\",\"2022-09-22T00:00:00\",\"2022-09-24T00:00:00\",\"2022-09-24T00:00:00\",\"2022-09-25T00:00:00\",\"2022-09-25T00:00:00\",\"2022-09-25T00:00:00\",\"2022-09-25T00:00:00\",\"2022-09-25T00:00:00\",\"2022-09-26T00:00:00\",\"2022-09-26T00:00:00\",\"2022-09-26T00:00:00\",\"2022-09-26T00:00:00\",\"2022-09-29T00:00:00\",\"2022-09-29T00:00:00\",\"2022-10-03T00:00:00\",\"2022-10-06T00:00:00\",\"2022-10-10T00:00:00\",\"2022-10-13T00:00:00\",\"2022-10-13T00:00:00\",\"2022-10-18T00:00:00\",\"2022-10-18T00:00:00\",\"2022-10-18T00:00:00\",\"2022-10-22T00:00:00\",\"2022-10-22T00:00:00\",\"2022-10-22T00:00:00\",\"2022-10-23T00:00:00\",\"2022-10-23T00:00:00\",\"2022-10-23T00:00:00\",\"2022-10-26T00:00:00\",\"2022-10-26T00:00:00\",\"2022-10-26T00:00:00\",\"2022-10-27T00:00:00\",\"2022-10-27T00:00:00\",\"2022-10-27T00:00:00\",\"2022-10-31T00:00:00\",\"2022-10-31T00:00:00\",\"2022-10-31T00:00:00\",\"2022-10-31T00:00:00\",\"2022-10-31T00:00:00\",\"2022-10-31T00:00:00\",\"2022-11-18T00:00:00\",\"2022-11-18T00:00:00\",\"2022-11-18T00:00:00\",\"2022-11-18T00:00:00\",\"2022-11-18T00:00:00\",\"2022-11-18T00:00:00\",\"2022-11-19T00:00:00\",\"2022-11-19T00:00:00\",\"2022-11-21T00:00:00\",\"2022-11-21T00:00:00\",\"2022-11-25T00:00:00\",\"2022-11-25T00:00:00\",\"2022-11-28T00:00:00\",\"2022-11-28T00:00:00\",\"2022-11-28T00:00:00\",\"2022-11-28T00:00:00\",\"2022-11-28T00:00:00\",\"2022-11-28T00:00:00\",\"2022-11-30T00:00:00\",\"2022-11-30T00:00:00\",\"2022-12-01T00:00:00\",\"2022-12-02T00:00:00\",\"2022-12-05T00:00:00\",\"2022-12-06T00:00:00\",\"2022-12-06T00:00:00\",\"2022-12-06T00:00:00\",\"2022-12-07T00:00:00\",\"2022-12-07T00:00:00\",\"2022-12-08T00:00:00\",\"2022-12-08T00:00:00\",\"2022-12-08T00:00:00\",\"2022-12-11T00:00:00\",\"2022-12-11T00:00:00\",\"2022-12-11T00:00:00\",\"2022-12-11T00:00:00\",\"2022-12-11T00:00:00\",\"2022-12-13T00:00:00\",\"2022-12-13T00:00:00\",\"2022-12-14T00:00:00\",\"2022-12-14T00:00:00\",\"2022-12-14T00:00:00\",\"2022-12-14T00:00:00\",\"2022-12-14T00:00:00\",\"2022-12-14T00:00:00\",\"2022-12-14T00:00:00\",\"2022-12-14T00:00:00\",\"2022-12-15T00:00:00\",\"2022-12-15T00:00:00\",\"2022-12-15T00:00:00\",\"2022-12-15T00:00:00\",\"2022-12-15T00:00:00\",\"2022-12-15T00:00:00\",\"2022-12-15T00:00:00\",\"2022-12-15T00:00:00\",\"2022-12-16T00:00:00\",\"2022-12-16T00:00:00\",\"2022-12-16T00:00:00\",\"2022-12-16T00:00:00\",\"2022-12-16T00:00:00\",\"2022-12-17T00:00:00\",\"2022-12-17T00:00:00\",\"2022-12-17T00:00:00\",\"2022-12-18T00:00:00\",\"2022-12-18T00:00:00\",\"2022-12-18T00:00:00\",\"2022-12-19T00:00:00\",\"2022-12-20T00:00:00\"],\"xaxis\":\"x\",\"y\":[1258.0,1291.0,1276.0,1292.0,1278.0,1277.0,1279.0,1265.0,1291.0,1251.0,1265.0,1302.0,1315.0,1304.0,1292.0,1280.0,1270.0,1261.0,1252.0,1242.0,1233.0,null,1223.0,1231.0,1250.0,1241.0,1249.0,1240.0,1241.0,1249.0,1257.0,1263.0,1256.0,1270.0,1248.0,1263.0,1271.0,1278.0,1285.0,1300.0,1292.0,1301.0,1293.0,1302.0,1293.0,1291.0,1282.0,null,1290.0,1283.0,1281.0,1290.0,1291.0,1299.0,1291.0,1298.0,1305.0,1312.0,1297.0,1305.0,1305.0,1297.0,1306.0,1314.0,1322.0,1330.0,1338.0,1331.0,1338.0,1339.0,1331.0,1340.0,1346.0,1347.0,1355.0,1373.0,1364.0,1382.0,1393.0,1413.0,1423.0,1422.0,1440.0,1431.0,1402.0,1432.0,1442.0,1450.0,1433.0,1424.0,1441.0,1433.0,1448.0,1442.0,1433.0,1441.0,1425.0,1433.0,1434.0,1441.0,1449.0,1442.0,1435.0,1435.0,1443.0,1447.0,1457.0,1447.0,1457.0,1466.0,1474.0,1493.0,1482.0,1492.0,1501.0,1502.0,1509.0,1519.0,1527.0,1519.0,1525.0,1508.0,1516.0,1500.0,1491.0,1500.0,1508.0,1499.0,1507.0,1515.0,1523.0,1532.0,1524.0,1524.0,1516.0,1524.0,1532.0,1539.0,1531.0,1529.0,1537.0,1530.0,1530.0,1538.0,1523.0,1515.0,1523.0,1531.0,1538.0,1545.0,1553.0,1545.0,1537.0,1521.0,1529.0,1512.0,1505.0,1513.0,1506.0,1513.0,1522.0,1521.0,1513.0,1515.0,1506.0,1514.0,1506.0,1498.0,1506.0,1482.0,1498.0,1489.0,1476.0,1477.0,1485.0,1492.0,1493.0,1485.0,1500.0,1493.0,1486.0,1502.0,1510.0,1502.0,1509.0,1518.0,1525.0,1533.0,1525.0,1511.0,1517.0,1510.0,1502.0,1517.0,1509.0,1501.0,1493.0,1501.0,1493.0,1485.0,1492.0,1500.0,1491.0,1484.0,1482.0,1474.0,1492.0,1474.0,1482.0,1467.0,1459.0,1450.0,1465.0,1442.0,1456.0,1457.0,1450.0,1464.0,1472.0,1502.0,1479.0,1487.0,1494.0,1510.0,1502.0,1510.0,1502.0,1508.0,1500.0,1509.0,1517.0,1508.0,1492.0,1499.0,1499.0,1531.0,1507.0,1523.0,1524.0,1515.0,1533.0,1524.0,1516.0,1509.0,1518.0,1510.0,1502.0,1495.0],\"yaxis\":\"y\",\"type\":\"scatter\"}],                        {\"template\":{\"data\":{\"histogram2dcontour\":[{\"type\":\"histogram2dcontour\",\"colorbar\":{\"outlinewidth\":0,\"ticks\":\"\"},\"colorscale\":[[0.0,\"#0d0887\"],[0.1111111111111111,\"#46039f\"],[0.2222222222222222,\"#7201a8\"],[0.3333333333333333,\"#9c179e\"],[0.4444444444444444,\"#bd3786\"],[0.5555555555555556,\"#d8576b\"],[0.6666666666666666,\"#ed7953\"],[0.7777777777777778,\"#fb9f3a\"],[0.8888888888888888,\"#fdca26\"],[1.0,\"#f0f921\"]]}],\"choropleth\":[{\"type\":\"choropleth\",\"colorbar\":{\"outlinewidth\":0,\"ticks\":\"\"}}],\"histogram2d\":[{\"type\":\"histogram2d\",\"colorbar\":{\"outlinewidth\":0,\"ticks\":\"\"},\"colorscale\":[[0.0,\"#0d0887\"],[0.1111111111111111,\"#46039f\"],[0.2222222222222222,\"#7201a8\"],[0.3333333333333333,\"#9c179e\"],[0.4444444444444444,\"#bd3786\"],[0.5555555555555556,\"#d8576b\"],[0.6666666666666666,\"#ed7953\"],[0.7777777777777778,\"#fb9f3a\"],[0.8888888888888888,\"#fdca26\"],[1.0,\"#f0f921\"]]}],\"heatmap\":[{\"type\":\"heatmap\",\"colorbar\":{\"outlinewidth\":0,\"ticks\":\"\"},\"colorscale\":[[0.0,\"#0d0887\"],[0.1111111111111111,\"#46039f\"],[0.2222222222222222,\"#7201a8\"],[0.3333333333333333,\"#9c179e\"],[0.4444444444444444,\"#bd3786\"],[0.5555555555555556,\"#d8576b\"],[0.6666666666666666,\"#ed7953\"],[0.7777777777777778,\"#fb9f3a\"],[0.8888888888888888,\"#fdca26\"],[1.0,\"#f0f921\"]]}],\"heatmapgl\":[{\"type\":\"heatmapgl\",\"colorbar\":{\"outlinewidth\":0,\"ticks\":\"\"},\"colorscale\":[[0.0,\"#0d0887\"],[0.1111111111111111,\"#46039f\"],[0.2222222222222222,\"#7201a8\"],[0.3333333333333333,\"#9c179e\"],[0.4444444444444444,\"#bd3786\"],[0.5555555555555556,\"#d8576b\"],[0.6666666666666666,\"#ed7953\"],[0.7777777777777778,\"#fb9f3a\"],[0.8888888888888888,\"#fdca26\"],[1.0,\"#f0f921\"]]}],\"contourcarpet\":[{\"type\":\"contourcarpet\",\"colorbar\":{\"outlinewidth\":0,\"ticks\":\"\"}}],\"contour\":[{\"type\":\"contour\",\"colorbar\":{\"outlinewidth\":0,\"ticks\":\"\"},\"colorscale\":[[0.0,\"#0d0887\"],[0.1111111111111111,\"#46039f\"],[0.2222222222222222,\"#7201a8\"],[0.3333333333333333,\"#9c179e\"],[0.4444444444444444,\"#bd3786\"],[0.5555555555555556,\"#d8576b\"],[0.6666666666666666,\"#ed7953\"],[0.7777777777777778,\"#fb9f3a\"],[0.8888888888888888,\"#fdca26\"],[1.0,\"#f0f921\"]]}],\"surface\":[{\"type\":\"surface\",\"colorbar\":{\"outlinewidth\":0,\"ticks\":\"\"},\"colorscale\":[[0.0,\"#0d0887\"],[0.1111111111111111,\"#46039f\"],[0.2222222222222222,\"#7201a8\"],[0.3333333333333333,\"#9c179e\"],[0.4444444444444444,\"#bd3786\"],[0.5555555555555556,\"#d8576b\"],[0.6666666666666666,\"#ed7953\"],[0.7777777777777778,\"#fb9f3a\"],[0.8888888888888888,\"#fdca26\"],[1.0,\"#f0f921\"]]}],\"mesh3d\":[{\"type\":\"mesh3d\",\"colorbar\":{\"outlinewidth\":0,\"ticks\":\"\"}}],\"scatter\":[{\"fillpattern\":{\"fillmode\":\"overlay\",\"size\":10,\"solidity\":0.2},\"type\":\"scatter\"}],\"parcoords\":[{\"type\":\"parcoords\",\"line\":{\"colorbar\":{\"outlinewidth\":0,\"ticks\":\"\"}}}],\"scatterpolargl\":[{\"type\":\"scatterpolargl\",\"marker\":{\"colorbar\":{\"outlinewidth\":0,\"ticks\":\"\"}}}],\"bar\":[{\"error_x\":{\"color\":\"#2a3f5f\"},\"error_y\":{\"color\":\"#2a3f5f\"},\"marker\":{\"line\":{\"color\":\"#E5ECF6\",\"width\":0.5},\"pattern\":{\"fillmode\":\"overlay\",\"size\":10,\"solidity\":0.2}},\"type\":\"bar\"}],\"scattergeo\":[{\"type\":\"scattergeo\",\"marker\":{\"colorbar\":{\"outlinewidth\":0,\"ticks\":\"\"}}}],\"scatterpolar\":[{\"type\":\"scatterpolar\",\"marker\":{\"colorbar\":{\"outlinewidth\":0,\"ticks\":\"\"}}}],\"histogram\":[{\"marker\":{\"pattern\":{\"fillmode\":\"overlay\",\"size\":10,\"solidity\":0.2}},\"type\":\"histogram\"}],\"scattergl\":[{\"type\":\"scattergl\",\"marker\":{\"colorbar\":{\"outlinewidth\":0,\"ticks\":\"\"}}}],\"scatter3d\":[{\"type\":\"scatter3d\",\"line\":{\"colorbar\":{\"outlinewidth\":0,\"ticks\":\"\"}},\"marker\":{\"colorbar\":{\"outlinewidth\":0,\"ticks\":\"\"}}}],\"scattermapbox\":[{\"type\":\"scattermapbox\",\"marker\":{\"colorbar\":{\"outlinewidth\":0,\"ticks\":\"\"}}}],\"scatterternary\":[{\"type\":\"scatterternary\",\"marker\":{\"colorbar\":{\"outlinewidth\":0,\"ticks\":\"\"}}}],\"scattercarpet\":[{\"type\":\"scattercarpet\",\"marker\":{\"colorbar\":{\"outlinewidth\":0,\"ticks\":\"\"}}}],\"carpet\":[{\"aaxis\":{\"endlinecolor\":\"#2a3f5f\",\"gridcolor\":\"white\",\"linecolor\":\"white\",\"minorgridcolor\":\"white\",\"startlinecolor\":\"#2a3f5f\"},\"baxis\":{\"endlinecolor\":\"#2a3f5f\",\"gridcolor\":\"white\",\"linecolor\":\"white\",\"minorgridcolor\":\"white\",\"startlinecolor\":\"#2a3f5f\"},\"type\":\"carpet\"}],\"table\":[{\"cells\":{\"fill\":{\"color\":\"#EBF0F8\"},\"line\":{\"color\":\"white\"}},\"header\":{\"fill\":{\"color\":\"#C8D4E3\"},\"line\":{\"color\":\"white\"}},\"type\":\"table\"}],\"barpolar\":[{\"marker\":{\"line\":{\"color\":\"#E5ECF6\",\"width\":0.5},\"pattern\":{\"fillmode\":\"overlay\",\"size\":10,\"solidity\":0.2}},\"type\":\"barpolar\"}],\"pie\":[{\"automargin\":true,\"type\":\"pie\"}]},\"layout\":{\"autotypenumbers\":\"strict\",\"colorway\":[\"#636efa\",\"#EF553B\",\"#00cc96\",\"#ab63fa\",\"#FFA15A\",\"#19d3f3\",\"#FF6692\",\"#B6E880\",\"#FF97FF\",\"#FECB52\"],\"font\":{\"color\":\"#2a3f5f\"},\"hovermode\":\"closest\",\"hoverlabel\":{\"align\":\"left\"},\"paper_bgcolor\":\"white\",\"plot_bgcolor\":\"#E5ECF6\",\"polar\":{\"bgcolor\":\"#E5ECF6\",\"angularaxis\":{\"gridcolor\":\"white\",\"linecolor\":\"white\",\"ticks\":\"\"},\"radialaxis\":{\"gridcolor\":\"white\",\"linecolor\":\"white\",\"ticks\":\"\"}},\"ternary\":{\"bgcolor\":\"#E5ECF6\",\"aaxis\":{\"gridcolor\":\"white\",\"linecolor\":\"white\",\"ticks\":\"\"},\"baxis\":{\"gridcolor\":\"white\",\"linecolor\":\"white\",\"ticks\":\"\"},\"caxis\":{\"gridcolor\":\"white\",\"linecolor\":\"white\",\"ticks\":\"\"}},\"coloraxis\":{\"colorbar\":{\"outlinewidth\":0,\"ticks\":\"\"}},\"colorscale\":{\"sequential\":[[0.0,\"#0d0887\"],[0.1111111111111111,\"#46039f\"],[0.2222222222222222,\"#7201a8\"],[0.3333333333333333,\"#9c179e\"],[0.4444444444444444,\"#bd3786\"],[0.5555555555555556,\"#d8576b\"],[0.6666666666666666,\"#ed7953\"],[0.7777777777777778,\"#fb9f3a\"],[0.8888888888888888,\"#fdca26\"],[1.0,\"#f0f921\"]],\"sequentialminus\":[[0.0,\"#0d0887\"],[0.1111111111111111,\"#46039f\"],[0.2222222222222222,\"#7201a8\"],[0.3333333333333333,\"#9c179e\"],[0.4444444444444444,\"#bd3786\"],[0.5555555555555556,\"#d8576b\"],[0.6666666666666666,\"#ed7953\"],[0.7777777777777778,\"#fb9f3a\"],[0.8888888888888888,\"#fdca26\"],[1.0,\"#f0f921\"]],\"diverging\":[[0,\"#8e0152\"],[0.1,\"#c51b7d\"],[0.2,\"#de77ae\"],[0.3,\"#f1b6da\"],[0.4,\"#fde0ef\"],[0.5,\"#f7f7f7\"],[0.6,\"#e6f5d0\"],[0.7,\"#b8e186\"],[0.8,\"#7fbc41\"],[0.9,\"#4d9221\"],[1,\"#276419\"]]},\"xaxis\":{\"gridcolor\":\"white\",\"linecolor\":\"white\",\"ticks\":\"\",\"title\":{\"standoff\":15},\"zerolinecolor\":\"white\",\"automargin\":true,\"zerolinewidth\":2},\"yaxis\":{\"gridcolor\":\"white\",\"linecolor\":\"white\",\"ticks\":\"\",\"title\":{\"standoff\":15},\"zerolinecolor\":\"white\",\"automargin\":true,\"zerolinewidth\":2},\"scene\":{\"xaxis\":{\"backgroundcolor\":\"#E5ECF6\",\"gridcolor\":\"white\",\"linecolor\":\"white\",\"showbackground\":true,\"ticks\":\"\",\"zerolinecolor\":\"white\",\"gridwidth\":2},\"yaxis\":{\"backgroundcolor\":\"#E5ECF6\",\"gridcolor\":\"white\",\"linecolor\":\"white\",\"showbackground\":true,\"ticks\":\"\",\"zerolinecolor\":\"white\",\"gridwidth\":2},\"zaxis\":{\"backgroundcolor\":\"#E5ECF6\",\"gridcolor\":\"white\",\"linecolor\":\"white\",\"showbackground\":true,\"ticks\":\"\",\"zerolinecolor\":\"white\",\"gridwidth\":2}},\"shapedefaults\":{\"line\":{\"color\":\"#2a3f5f\"}},\"annotationdefaults\":{\"arrowcolor\":\"#2a3f5f\",\"arrowhead\":0,\"arrowwidth\":1},\"geo\":{\"bgcolor\":\"white\",\"landcolor\":\"#E5ECF6\",\"subunitcolor\":\"white\",\"showland\":true,\"showlakes\":true,\"lakecolor\":\"white\"},\"title\":{\"x\":0.05},\"mapbox\":{\"style\":\"light\"}}},\"xaxis\":{\"anchor\":\"y\",\"domain\":[0.0,1.0],\"title\":{\"text\":\"Date\"}},\"yaxis\":{\"anchor\":\"x\",\"domain\":[0.0,1.0],\"title\":{\"text\":\"Rating\"}},\"legend\":{\"tracegroupgap\":0},\"margin\":{\"t\":60},\"title\":{\"text\":\"Chess Ratings for year 2022\"}},                        {\"responsive\": true}                    ).then(function(){\n",
       "                            \n",
       "var gd = document.getElementById('c7bfef25-9991-48fa-8bc8-879eb70081a6');\n",
       "var x = new MutationObserver(function (mutations, observer) {{\n",
       "        var display = window.getComputedStyle(gd).display;\n",
       "        if (!display || display === 'none') {{\n",
       "            console.log([gd, 'removed!']);\n",
       "            Plotly.purge(gd);\n",
       "            observer.disconnect();\n",
       "        }}\n",
       "}});\n",
       "\n",
       "// Listen for the removal of the full notebook cells\n",
       "var notebookContainer = gd.closest('#notebook-container');\n",
       "if (notebookContainer) {{\n",
       "    x.observe(notebookContainer, {childList: true});\n",
       "}}\n",
       "\n",
       "// Listen for the clearing of the current output cell\n",
       "var outputEl = gd.closest('.output');\n",
       "if (outputEl) {{\n",
       "    x.observe(outputEl, {childList: true});\n",
       "}}\n",
       "\n",
       "                        })                };                });            </script>        </div>"
      ]
     },
     "metadata": {},
     "output_type": "display_data"
    },
    {
     "data": {
      "application/vnd.plotly.v1+json": {
       "config": {
        "plotlyServerURL": "https://plot.ly"
       },
       "data": [
        {
         "hovertemplate": "Date=%{x}<br>Rating=%{y}<extra></extra>",
         "legendgroup": "",
         "line": {
          "color": "#636efa",
          "dash": "solid"
         },
         "marker": {
          "symbol": "circle"
         },
         "mode": "lines",
         "name": "",
         "orientation": "v",
         "showlegend": false,
         "type": "scatter",
         "x": [
          "2023-01-20T00:00:00",
          "2023-01-20T00:00:00",
          "2023-01-20T00:00:00",
          "2023-01-26T00:00:00",
          "2023-01-31T00:00:00",
          "2023-02-01T00:00:00",
          "2023-02-18T00:00:00",
          "2023-02-18T00:00:00",
          "2023-02-20T00:00:00",
          "2023-02-26T00:00:00",
          "2023-02-26T00:00:00",
          "2023-02-26T00:00:00",
          "2023-02-26T00:00:00",
          "2023-02-27T00:00:00",
          "2023-03-11T00:00:00",
          "2023-03-12T00:00:00",
          "2023-03-12T00:00:00",
          "2023-03-12T00:00:00",
          "2023-03-12T00:00:00",
          "2023-03-12T00:00:00",
          "2023-03-12T00:00:00",
          "2023-03-13T00:00:00",
          "2023-03-13T00:00:00",
          "2023-03-15T00:00:00",
          "2023-03-16T00:00:00",
          "2023-03-20T00:00:00",
          "2023-03-20T00:00:00",
          "2023-03-20T00:00:00",
          "2023-03-20T00:00:00",
          "2023-03-20T00:00:00",
          "2023-03-20T00:00:00",
          "2023-03-20T00:00:00",
          "2023-03-20T00:00:00",
          "2023-03-21T00:00:00",
          "2023-03-21T00:00:00",
          "2023-03-21T00:00:00",
          "2023-03-21T00:00:00",
          "2023-03-21T00:00:00",
          "2023-03-21T00:00:00",
          "2023-03-21T00:00:00",
          "2023-03-21T00:00:00",
          "2023-03-21T00:00:00",
          "2023-03-21T00:00:00",
          "2023-03-21T00:00:00",
          "2023-03-21T00:00:00",
          "2023-03-22T00:00:00",
          "2023-03-22T00:00:00",
          "2023-03-23T00:00:00",
          "2023-03-23T00:00:00",
          "2023-03-23T00:00:00",
          "2023-03-23T00:00:00",
          "2023-03-23T00:00:00",
          "2023-03-24T00:00:00",
          "2023-03-24T00:00:00",
          "2023-03-25T00:00:00",
          "2023-03-26T00:00:00",
          "2023-03-26T00:00:00",
          "2023-03-28T00:00:00",
          "2023-03-29T00:00:00",
          "2023-03-29T00:00:00",
          "2023-03-30T00:00:00",
          "2023-03-30T00:00:00",
          "2023-03-30T00:00:00",
          "2023-03-30T00:00:00",
          "2023-03-31T00:00:00",
          "2023-04-03T00:00:00",
          "2023-04-04T00:00:00",
          "2023-04-04T00:00:00",
          "2023-04-04T00:00:00",
          "2023-04-04T00:00:00",
          "2023-04-04T00:00:00",
          "2023-04-04T00:00:00",
          "2023-04-06T00:00:00",
          "2023-04-06T00:00:00",
          "2023-04-08T00:00:00",
          "2023-04-08T00:00:00",
          "2023-04-12T00:00:00",
          "2023-04-12T00:00:00",
          "2023-04-13T00:00:00",
          "2023-04-13T00:00:00",
          "2023-04-13T00:00:00",
          "2023-04-27T00:00:00",
          "2023-04-27T00:00:00",
          "2023-04-27T00:00:00",
          "2023-04-28T00:00:00",
          "2023-04-28T00:00:00",
          "2023-04-28T00:00:00",
          "2023-04-29T00:00:00",
          "2023-04-29T00:00:00",
          "2023-04-29T00:00:00",
          "2023-04-29T00:00:00",
          "2023-04-29T00:00:00",
          "2023-04-29T00:00:00",
          "2023-04-29T00:00:00",
          "2023-04-30T00:00:00",
          "2023-05-02T00:00:00",
          "2023-05-02T00:00:00",
          "2023-05-02T00:00:00",
          "2023-05-03T00:00:00",
          "2023-05-03T00:00:00",
          "2023-05-03T00:00:00",
          "2023-05-03T00:00:00",
          "2023-05-03T00:00:00",
          "2023-05-04T00:00:00",
          "2023-05-04T00:00:00",
          "2023-05-04T00:00:00",
          "2023-05-04T00:00:00",
          "2023-05-05T00:00:00",
          "2023-05-06T00:00:00",
          "2023-05-06T00:00:00",
          "2023-05-06T00:00:00",
          "2023-05-07T00:00:00",
          "2023-05-07T00:00:00",
          "2023-05-08T00:00:00",
          "2023-05-09T00:00:00",
          "2023-05-09T00:00:00",
          "2023-05-10T00:00:00",
          "2023-05-10T00:00:00",
          "2023-05-10T00:00:00",
          "2023-05-10T00:00:00",
          "2023-05-10T00:00:00",
          "2023-05-10T00:00:00",
          "2023-05-10T00:00:00",
          "2023-05-10T00:00:00",
          "2023-05-11T00:00:00",
          "2023-05-11T00:00:00",
          "2023-05-11T00:00:00",
          "2023-05-11T00:00:00",
          "2023-05-11T00:00:00",
          "2023-05-11T00:00:00",
          "2023-05-11T00:00:00",
          "2023-05-11T00:00:00",
          "2023-05-12T00:00:00",
          "2023-05-12T00:00:00",
          "2023-05-13T00:00:00",
          "2023-05-13T00:00:00",
          "2023-05-13T00:00:00",
          "2023-05-13T00:00:00",
          "2023-05-13T00:00:00",
          "2023-05-13T00:00:00",
          "2023-05-14T00:00:00",
          "2023-05-14T00:00:00",
          "2023-05-14T00:00:00",
          "2023-05-16T00:00:00",
          "2023-05-16T00:00:00",
          "2023-05-16T00:00:00",
          "2023-05-16T00:00:00",
          "2023-05-17T00:00:00",
          "2023-05-17T00:00:00",
          "2023-05-17T00:00:00",
          "2023-05-18T00:00:00",
          "2023-05-18T00:00:00",
          "2023-05-18T00:00:00",
          "2023-05-18T00:00:00",
          "2023-05-18T00:00:00",
          "2023-05-18T00:00:00",
          "2023-05-18T00:00:00",
          "2023-05-20T00:00:00",
          "2023-05-20T00:00:00",
          "2023-05-20T00:00:00",
          "2023-06-01T00:00:00",
          "2023-06-02T00:00:00",
          "2023-06-03T00:00:00",
          "2023-06-04T00:00:00",
          "2023-06-05T00:00:00",
          "2023-06-10T00:00:00",
          "2023-06-11T00:00:00",
          "2023-06-11T00:00:00",
          "2023-06-11T00:00:00",
          "2023-06-11T00:00:00",
          "2023-06-11T00:00:00",
          "2023-06-11T00:00:00",
          "2023-06-16T00:00:00",
          "2023-06-17T00:00:00",
          "2023-06-17T00:00:00",
          "2023-06-17T00:00:00",
          "2023-06-18T00:00:00",
          "2023-06-18T00:00:00",
          "2023-06-18T00:00:00",
          "2023-06-19T00:00:00",
          "2023-06-19T00:00:00",
          "2023-06-20T00:00:00",
          "2023-06-20T00:00:00",
          "2023-06-20T00:00:00",
          "2023-06-20T00:00:00",
          "2023-06-20T00:00:00",
          "2023-06-20T00:00:00",
          "2023-06-21T00:00:00",
          "2023-06-22T00:00:00",
          "2023-06-22T00:00:00",
          "2023-06-22T00:00:00",
          "2023-06-24T00:00:00",
          "2023-06-24T00:00:00",
          "2023-06-24T00:00:00",
          "2023-06-24T00:00:00",
          "2023-06-26T00:00:00",
          "2023-06-26T00:00:00",
          "2023-06-27T00:00:00",
          "2023-06-28T00:00:00",
          "2023-06-28T00:00:00",
          "2023-07-01T00:00:00",
          "2023-07-01T00:00:00",
          "2023-07-01T00:00:00",
          "2023-07-01T00:00:00",
          "2023-07-01T00:00:00",
          "2023-07-01T00:00:00",
          "2023-07-03T00:00:00",
          "2023-07-07T00:00:00",
          "2023-07-08T00:00:00",
          "2023-07-08T00:00:00",
          "2023-07-08T00:00:00",
          "2023-07-08T00:00:00",
          "2023-07-08T00:00:00",
          "2023-07-12T00:00:00",
          "2023-07-12T00:00:00",
          "2023-07-12T00:00:00",
          "2023-07-13T00:00:00",
          "2023-07-13T00:00:00",
          "2023-07-13T00:00:00",
          "2023-07-13T00:00:00",
          "2023-07-13T00:00:00",
          "2023-07-13T00:00:00",
          "2023-07-14T00:00:00",
          "2023-07-14T00:00:00",
          "2023-07-14T00:00:00",
          "2023-07-15T00:00:00",
          "2023-07-15T00:00:00",
          "2023-07-15T00:00:00",
          "2023-07-15T00:00:00",
          "2023-07-15T00:00:00",
          "2023-07-16T00:00:00",
          "2023-07-16T00:00:00",
          "2023-07-18T00:00:00",
          "2023-07-18T00:00:00",
          "2023-07-18T00:00:00",
          "2023-07-19T00:00:00",
          "2023-07-20T00:00:00",
          "2023-07-20T00:00:00",
          "2023-07-20T00:00:00",
          "2023-07-20T00:00:00",
          "2023-07-20T00:00:00",
          "2023-07-20T00:00:00",
          "2023-07-22T00:00:00",
          "2023-07-24T00:00:00",
          "2023-07-24T00:00:00",
          "2023-07-24T00:00:00",
          "2023-07-24T00:00:00",
          "2023-07-24T00:00:00",
          "2023-07-27T00:00:00",
          "2023-07-27T00:00:00",
          "2023-08-01T00:00:00",
          "2023-08-01T00:00:00",
          "2023-08-04T00:00:00",
          "2023-08-04T00:00:00",
          "2023-08-04T00:00:00",
          "2023-08-05T00:00:00",
          "2023-08-10T00:00:00",
          "2023-08-10T00:00:00",
          "2023-08-22T00:00:00",
          "2023-08-22T00:00:00",
          "2023-08-22T00:00:00",
          "2023-08-22T00:00:00",
          "2023-08-23T00:00:00",
          "2023-08-23T00:00:00",
          "2023-08-25T00:00:00",
          "2023-08-26T00:00:00",
          "2023-08-26T00:00:00",
          "2023-08-26T00:00:00",
          "2023-08-26T00:00:00",
          "2023-08-26T00:00:00",
          "2023-08-28T00:00:00",
          "2023-08-28T00:00:00",
          "2023-08-28T00:00:00",
          "2023-08-28T00:00:00",
          "2023-08-28T00:00:00",
          "2023-08-29T00:00:00",
          "2023-08-30T00:00:00",
          "2023-09-04T00:00:00",
          "2023-09-05T00:00:00",
          "2023-09-07T00:00:00",
          "2023-09-07T00:00:00",
          "2023-09-07T00:00:00",
          "2023-09-07T00:00:00",
          "2023-09-07T00:00:00",
          "2023-09-07T00:00:00",
          "2023-09-08T00:00:00",
          "2023-09-09T00:00:00",
          "2023-09-09T00:00:00",
          "2023-09-09T00:00:00",
          "2023-09-09T00:00:00",
          "2023-09-09T00:00:00",
          "2023-09-09T00:00:00",
          "2023-09-09T00:00:00",
          "2023-09-09T00:00:00",
          "2023-09-09T00:00:00",
          "2023-09-09T00:00:00",
          "2023-09-09T00:00:00",
          "2023-09-09T00:00:00",
          "2023-09-09T00:00:00",
          "2023-09-09T00:00:00",
          "2023-09-13T00:00:00",
          "2023-09-13T00:00:00",
          "2023-09-14T00:00:00",
          "2023-09-14T00:00:00",
          "2023-09-15T00:00:00",
          "2023-09-15T00:00:00",
          "2023-09-15T00:00:00",
          "2023-09-15T00:00:00",
          "2023-09-15T00:00:00",
          "2023-09-16T00:00:00",
          "2023-09-18T00:00:00",
          "2023-09-18T00:00:00",
          "2023-09-18T00:00:00",
          "2023-09-18T00:00:00",
          "2023-09-18T00:00:00",
          "2023-09-18T00:00:00",
          "2023-09-18T00:00:00",
          "2023-09-18T00:00:00",
          "2023-09-18T00:00:00",
          "2023-09-18T00:00:00",
          "2023-09-18T00:00:00",
          "2023-09-18T00:00:00",
          "2023-09-18T00:00:00",
          "2023-09-18T00:00:00",
          "2023-09-18T00:00:00",
          "2023-09-19T00:00:00",
          "2023-09-19T00:00:00",
          "2023-09-20T00:00:00",
          "2023-09-20T00:00:00",
          "2023-09-20T00:00:00",
          "2023-09-20T00:00:00",
          "2023-09-20T00:00:00",
          "2023-09-21T00:00:00",
          "2023-09-22T00:00:00",
          "2023-09-22T00:00:00",
          "2023-09-22T00:00:00",
          "2023-09-22T00:00:00",
          "2023-09-22T00:00:00",
          "2023-09-22T00:00:00",
          "2023-09-22T00:00:00",
          "2023-09-22T00:00:00",
          "2023-09-22T00:00:00",
          "2023-09-22T00:00:00",
          "2023-09-22T00:00:00",
          "2023-09-25T00:00:00",
          "2023-09-25T00:00:00",
          "2023-09-25T00:00:00",
          "2023-09-25T00:00:00",
          "2023-09-25T00:00:00",
          "2023-09-26T00:00:00",
          "2023-09-26T00:00:00",
          "2023-09-26T00:00:00",
          "2023-09-27T00:00:00",
          "2023-09-27T00:00:00",
          "2023-09-27T00:00:00",
          "2023-09-27T00:00:00",
          "2023-09-27T00:00:00",
          "2023-09-28T00:00:00",
          "2023-09-28T00:00:00",
          "2023-09-28T00:00:00",
          "2023-09-29T00:00:00",
          "2023-09-29T00:00:00",
          "2023-09-29T00:00:00",
          "2023-09-29T00:00:00",
          "2023-09-29T00:00:00",
          "2023-09-30T00:00:00",
          "2023-09-30T00:00:00",
          "2023-10-01T00:00:00",
          "2023-10-01T00:00:00",
          "2023-10-01T00:00:00",
          "2023-10-02T00:00:00",
          "2023-10-03T00:00:00",
          "2023-10-04T00:00:00",
          "2023-10-04T00:00:00",
          "2023-10-04T00:00:00",
          "2023-10-05T00:00:00",
          "2023-10-05T00:00:00",
          "2023-10-06T00:00:00",
          "2023-10-08T00:00:00",
          "2023-10-08T00:00:00",
          "2023-10-08T00:00:00",
          "2023-10-08T00:00:00",
          "2023-10-08T00:00:00",
          "2023-10-08T00:00:00",
          "2023-10-08T00:00:00",
          "2023-10-08T00:00:00",
          "2023-10-15T00:00:00",
          "2023-10-15T00:00:00",
          "2023-10-16T00:00:00",
          "2023-10-21T00:00:00",
          "2023-10-21T00:00:00",
          "2023-10-21T00:00:00",
          "2023-10-22T00:00:00",
          "2023-10-22T00:00:00",
          "2023-10-22T00:00:00",
          "2023-10-23T00:00:00",
          "2023-10-23T00:00:00",
          "2023-10-23T00:00:00"
         ],
         "xaxis": "x",
         "y": [
          1503,
          1495,
          1504,
          1495,
          1488,
          1496,
          1504,
          1496,
          1504,
          1512,
          1495,
          1487,
          1503,
          1478,
          1487,
          1497,
          1489,
          1498,
          1490,
          1499,
          1491,
          1500,
          1492,
          1502,
          1494,
          1509,
          1502,
          1510,
          1518,
          1526,
          1517,
          1517,
          1508,
          1517,
          1509,
          1525,
          1526,
          1500,
          1518,
          1541,
          1533,
          1542,
          1550,
          1542,
          1533,
          1532,
          1524,
          1531,
          1540,
          1541,
          1533,
          1549,
          1523,
          1515,
          1507,
          1507,
          1515,
          1514,
          1505,
          1496,
          1488,
          1496,
          1505,
          1497,
          1492,
          1485,
          1477,
          1468,
          1475,
          1482,
          1490,
          1483,
          1476,
          1485,
          1501,
          1494,
          1485,
          1493,
          1486,
          null,
          1477,
          1479,
          1487,
          1495,
          1472,
          1479,
          1470,
          1504,
          null,
          1496,
          1495,
          1487,
          1479,
          null,
          null,
          1486,
          1493,
          1485,
          1478,
          1492,
          1485,
          1477,
          1484,
          1469,
          1462,
          1470,
          1461,
          1469,
          1477,
          1469,
          1460,
          1453,
          1444,
          1436,
          1427,
          1420,
          1413,
          1420,
          1405,
          1413,
          1398,
          1405,
          1413,
          1406,
          1425,
          1409,
          1418,
          null,
          1410,
          1419,
          1412,
          1417,
          1426,
          1434,
          1467,
          1442,
          1450,
          null,
          1459,
          1434,
          null,
          1459,
          1452,
          1419,
          1426,
          1444,
          1435,
          1427,
          1435,
          1443,
          1457,
          1449,
          1449,
          1450,
          1449,
          1441,
          1441,
          1458,
          1450,
          1448,
          1441,
          1433,
          1441,
          1449,
          1456,
          1448,
          1457,
          1465,
          1458,
          1466,
          1458,
          1457,
          1466,
          1482,
          1473,
          1491,
          1499,
          null,
          1508,
          1500,
          1492,
          1483,
          1474,
          1489,
          1481,
          1482,
          1490,
          1482,
          1491,
          1484,
          1476,
          1469,
          1477,
          1469,
          1462,
          1470,
          1462,
          1470,
          1487,
          1478,
          1472,
          1480,
          1488,
          1487,
          1495,
          1495,
          1480,
          1473,
          null,
          1480,
          1487,
          1478,
          1470,
          1478,
          1485,
          1494,
          1520,
          null,
          1503,
          1512,
          1511,
          1519,
          1496,
          1504,
          1512,
          1501,
          1493,
          1486,
          1495,
          1503,
          1492,
          1483,
          1490,
          1499,
          1490,
          null,
          1505,
          1488,
          1496,
          1489,
          1482,
          1496,
          1513,
          1505,
          1512,
          1521,
          1513,
          1506,
          1490,
          1498,
          1491,
          1498,
          1483,
          1491,
          1500,
          1491,
          1475,
          1483,
          1490,
          1483,
          1475,
          1467,
          1490,
          1497,
          1498,
          1507,
          1500,
          1508,
          1516,
          1491,
          1517,
          1511,
          1518,
          1526,
          1518,
          1510,
          1518,
          1525,
          1517,
          1498,
          1490,
          null,
          1499,
          null,
          1508,
          1489,
          1476,
          1468,
          1476,
          1484,
          1476,
          1484,
          1476,
          1457,
          1458,
          1466,
          1465,
          1473,
          1480,
          1467,
          1484,
          1492,
          1483,
          1491,
          1481,
          1482,
          1474,
          1488,
          1495,
          1502,
          1502,
          1509,
          1495,
          1487,
          1494,
          null,
          1486,
          1495,
          1504,
          1488,
          1495,
          1495,
          1497,
          1505,
          1504,
          1513,
          1505,
          1498,
          1506,
          null,
          1498,
          1506,
          1513,
          1501,
          1507,
          1500,
          1509,
          1492,
          1522,
          1506,
          1513,
          1522,
          1499,
          1530,
          1498,
          1507,
          1499,
          1507,
          1499,
          1490,
          1483,
          1490,
          1486,
          1494,
          1508,
          1499,
          1501,
          1493,
          1485,
          1493,
          1517,
          1508,
          1485,
          1493,
          1501,
          null,
          1524,
          1508,
          1500,
          1515,
          1492,
          1500,
          1506,
          null,
          null,
          null,
          1499,
          1490,
          1497,
          1488,
          1496,
          1502,
          1508,
          1500,
          1490,
          1513,
          1498,
          1506,
          1513,
          1521,
          1529,
          1536,
          1544,
          1552,
          1559,
          1567,
          1576,
          1584
         ],
         "yaxis": "y"
        }
       ],
       "layout": {
        "legend": {
         "tracegroupgap": 0
        },
        "margin": {
         "t": 60
        },
        "template": {
         "data": {
          "bar": [
           {
            "error_x": {
             "color": "#2a3f5f"
            },
            "error_y": {
             "color": "#2a3f5f"
            },
            "marker": {
             "line": {
              "color": "#E5ECF6",
              "width": 0.5
             },
             "pattern": {
              "fillmode": "overlay",
              "size": 10,
              "solidity": 0.2
             }
            },
            "type": "bar"
           }
          ],
          "barpolar": [
           {
            "marker": {
             "line": {
              "color": "#E5ECF6",
              "width": 0.5
             },
             "pattern": {
              "fillmode": "overlay",
              "size": 10,
              "solidity": 0.2
             }
            },
            "type": "barpolar"
           }
          ],
          "carpet": [
           {
            "aaxis": {
             "endlinecolor": "#2a3f5f",
             "gridcolor": "white",
             "linecolor": "white",
             "minorgridcolor": "white",
             "startlinecolor": "#2a3f5f"
            },
            "baxis": {
             "endlinecolor": "#2a3f5f",
             "gridcolor": "white",
             "linecolor": "white",
             "minorgridcolor": "white",
             "startlinecolor": "#2a3f5f"
            },
            "type": "carpet"
           }
          ],
          "choropleth": [
           {
            "colorbar": {
             "outlinewidth": 0,
             "ticks": ""
            },
            "type": "choropleth"
           }
          ],
          "contour": [
           {
            "colorbar": {
             "outlinewidth": 0,
             "ticks": ""
            },
            "colorscale": [
             [
              0,
              "#0d0887"
             ],
             [
              0.1111111111111111,
              "#46039f"
             ],
             [
              0.2222222222222222,
              "#7201a8"
             ],
             [
              0.3333333333333333,
              "#9c179e"
             ],
             [
              0.4444444444444444,
              "#bd3786"
             ],
             [
              0.5555555555555556,
              "#d8576b"
             ],
             [
              0.6666666666666666,
              "#ed7953"
             ],
             [
              0.7777777777777778,
              "#fb9f3a"
             ],
             [
              0.8888888888888888,
              "#fdca26"
             ],
             [
              1,
              "#f0f921"
             ]
            ],
            "type": "contour"
           }
          ],
          "contourcarpet": [
           {
            "colorbar": {
             "outlinewidth": 0,
             "ticks": ""
            },
            "type": "contourcarpet"
           }
          ],
          "heatmap": [
           {
            "colorbar": {
             "outlinewidth": 0,
             "ticks": ""
            },
            "colorscale": [
             [
              0,
              "#0d0887"
             ],
             [
              0.1111111111111111,
              "#46039f"
             ],
             [
              0.2222222222222222,
              "#7201a8"
             ],
             [
              0.3333333333333333,
              "#9c179e"
             ],
             [
              0.4444444444444444,
              "#bd3786"
             ],
             [
              0.5555555555555556,
              "#d8576b"
             ],
             [
              0.6666666666666666,
              "#ed7953"
             ],
             [
              0.7777777777777778,
              "#fb9f3a"
             ],
             [
              0.8888888888888888,
              "#fdca26"
             ],
             [
              1,
              "#f0f921"
             ]
            ],
            "type": "heatmap"
           }
          ],
          "heatmapgl": [
           {
            "colorbar": {
             "outlinewidth": 0,
             "ticks": ""
            },
            "colorscale": [
             [
              0,
              "#0d0887"
             ],
             [
              0.1111111111111111,
              "#46039f"
             ],
             [
              0.2222222222222222,
              "#7201a8"
             ],
             [
              0.3333333333333333,
              "#9c179e"
             ],
             [
              0.4444444444444444,
              "#bd3786"
             ],
             [
              0.5555555555555556,
              "#d8576b"
             ],
             [
              0.6666666666666666,
              "#ed7953"
             ],
             [
              0.7777777777777778,
              "#fb9f3a"
             ],
             [
              0.8888888888888888,
              "#fdca26"
             ],
             [
              1,
              "#f0f921"
             ]
            ],
            "type": "heatmapgl"
           }
          ],
          "histogram": [
           {
            "marker": {
             "pattern": {
              "fillmode": "overlay",
              "size": 10,
              "solidity": 0.2
             }
            },
            "type": "histogram"
           }
          ],
          "histogram2d": [
           {
            "colorbar": {
             "outlinewidth": 0,
             "ticks": ""
            },
            "colorscale": [
             [
              0,
              "#0d0887"
             ],
             [
              0.1111111111111111,
              "#46039f"
             ],
             [
              0.2222222222222222,
              "#7201a8"
             ],
             [
              0.3333333333333333,
              "#9c179e"
             ],
             [
              0.4444444444444444,
              "#bd3786"
             ],
             [
              0.5555555555555556,
              "#d8576b"
             ],
             [
              0.6666666666666666,
              "#ed7953"
             ],
             [
              0.7777777777777778,
              "#fb9f3a"
             ],
             [
              0.8888888888888888,
              "#fdca26"
             ],
             [
              1,
              "#f0f921"
             ]
            ],
            "type": "histogram2d"
           }
          ],
          "histogram2dcontour": [
           {
            "colorbar": {
             "outlinewidth": 0,
             "ticks": ""
            },
            "colorscale": [
             [
              0,
              "#0d0887"
             ],
             [
              0.1111111111111111,
              "#46039f"
             ],
             [
              0.2222222222222222,
              "#7201a8"
             ],
             [
              0.3333333333333333,
              "#9c179e"
             ],
             [
              0.4444444444444444,
              "#bd3786"
             ],
             [
              0.5555555555555556,
              "#d8576b"
             ],
             [
              0.6666666666666666,
              "#ed7953"
             ],
             [
              0.7777777777777778,
              "#fb9f3a"
             ],
             [
              0.8888888888888888,
              "#fdca26"
             ],
             [
              1,
              "#f0f921"
             ]
            ],
            "type": "histogram2dcontour"
           }
          ],
          "mesh3d": [
           {
            "colorbar": {
             "outlinewidth": 0,
             "ticks": ""
            },
            "type": "mesh3d"
           }
          ],
          "parcoords": [
           {
            "line": {
             "colorbar": {
              "outlinewidth": 0,
              "ticks": ""
             }
            },
            "type": "parcoords"
           }
          ],
          "pie": [
           {
            "automargin": true,
            "type": "pie"
           }
          ],
          "scatter": [
           {
            "fillpattern": {
             "fillmode": "overlay",
             "size": 10,
             "solidity": 0.2
            },
            "type": "scatter"
           }
          ],
          "scatter3d": [
           {
            "line": {
             "colorbar": {
              "outlinewidth": 0,
              "ticks": ""
             }
            },
            "marker": {
             "colorbar": {
              "outlinewidth": 0,
              "ticks": ""
             }
            },
            "type": "scatter3d"
           }
          ],
          "scattercarpet": [
           {
            "marker": {
             "colorbar": {
              "outlinewidth": 0,
              "ticks": ""
             }
            },
            "type": "scattercarpet"
           }
          ],
          "scattergeo": [
           {
            "marker": {
             "colorbar": {
              "outlinewidth": 0,
              "ticks": ""
             }
            },
            "type": "scattergeo"
           }
          ],
          "scattergl": [
           {
            "marker": {
             "colorbar": {
              "outlinewidth": 0,
              "ticks": ""
             }
            },
            "type": "scattergl"
           }
          ],
          "scattermapbox": [
           {
            "marker": {
             "colorbar": {
              "outlinewidth": 0,
              "ticks": ""
             }
            },
            "type": "scattermapbox"
           }
          ],
          "scatterpolar": [
           {
            "marker": {
             "colorbar": {
              "outlinewidth": 0,
              "ticks": ""
             }
            },
            "type": "scatterpolar"
           }
          ],
          "scatterpolargl": [
           {
            "marker": {
             "colorbar": {
              "outlinewidth": 0,
              "ticks": ""
             }
            },
            "type": "scatterpolargl"
           }
          ],
          "scatterternary": [
           {
            "marker": {
             "colorbar": {
              "outlinewidth": 0,
              "ticks": ""
             }
            },
            "type": "scatterternary"
           }
          ],
          "surface": [
           {
            "colorbar": {
             "outlinewidth": 0,
             "ticks": ""
            },
            "colorscale": [
             [
              0,
              "#0d0887"
             ],
             [
              0.1111111111111111,
              "#46039f"
             ],
             [
              0.2222222222222222,
              "#7201a8"
             ],
             [
              0.3333333333333333,
              "#9c179e"
             ],
             [
              0.4444444444444444,
              "#bd3786"
             ],
             [
              0.5555555555555556,
              "#d8576b"
             ],
             [
              0.6666666666666666,
              "#ed7953"
             ],
             [
              0.7777777777777778,
              "#fb9f3a"
             ],
             [
              0.8888888888888888,
              "#fdca26"
             ],
             [
              1,
              "#f0f921"
             ]
            ],
            "type": "surface"
           }
          ],
          "table": [
           {
            "cells": {
             "fill": {
              "color": "#EBF0F8"
             },
             "line": {
              "color": "white"
             }
            },
            "header": {
             "fill": {
              "color": "#C8D4E3"
             },
             "line": {
              "color": "white"
             }
            },
            "type": "table"
           }
          ]
         },
         "layout": {
          "annotationdefaults": {
           "arrowcolor": "#2a3f5f",
           "arrowhead": 0,
           "arrowwidth": 1
          },
          "autotypenumbers": "strict",
          "coloraxis": {
           "colorbar": {
            "outlinewidth": 0,
            "ticks": ""
           }
          },
          "colorscale": {
           "diverging": [
            [
             0,
             "#8e0152"
            ],
            [
             0.1,
             "#c51b7d"
            ],
            [
             0.2,
             "#de77ae"
            ],
            [
             0.3,
             "#f1b6da"
            ],
            [
             0.4,
             "#fde0ef"
            ],
            [
             0.5,
             "#f7f7f7"
            ],
            [
             0.6,
             "#e6f5d0"
            ],
            [
             0.7,
             "#b8e186"
            ],
            [
             0.8,
             "#7fbc41"
            ],
            [
             0.9,
             "#4d9221"
            ],
            [
             1,
             "#276419"
            ]
           ],
           "sequential": [
            [
             0,
             "#0d0887"
            ],
            [
             0.1111111111111111,
             "#46039f"
            ],
            [
             0.2222222222222222,
             "#7201a8"
            ],
            [
             0.3333333333333333,
             "#9c179e"
            ],
            [
             0.4444444444444444,
             "#bd3786"
            ],
            [
             0.5555555555555556,
             "#d8576b"
            ],
            [
             0.6666666666666666,
             "#ed7953"
            ],
            [
             0.7777777777777778,
             "#fb9f3a"
            ],
            [
             0.8888888888888888,
             "#fdca26"
            ],
            [
             1,
             "#f0f921"
            ]
           ],
           "sequentialminus": [
            [
             0,
             "#0d0887"
            ],
            [
             0.1111111111111111,
             "#46039f"
            ],
            [
             0.2222222222222222,
             "#7201a8"
            ],
            [
             0.3333333333333333,
             "#9c179e"
            ],
            [
             0.4444444444444444,
             "#bd3786"
            ],
            [
             0.5555555555555556,
             "#d8576b"
            ],
            [
             0.6666666666666666,
             "#ed7953"
            ],
            [
             0.7777777777777778,
             "#fb9f3a"
            ],
            [
             0.8888888888888888,
             "#fdca26"
            ],
            [
             1,
             "#f0f921"
            ]
           ]
          },
          "colorway": [
           "#636efa",
           "#EF553B",
           "#00cc96",
           "#ab63fa",
           "#FFA15A",
           "#19d3f3",
           "#FF6692",
           "#B6E880",
           "#FF97FF",
           "#FECB52"
          ],
          "font": {
           "color": "#2a3f5f"
          },
          "geo": {
           "bgcolor": "white",
           "lakecolor": "white",
           "landcolor": "#E5ECF6",
           "showlakes": true,
           "showland": true,
           "subunitcolor": "white"
          },
          "hoverlabel": {
           "align": "left"
          },
          "hovermode": "closest",
          "mapbox": {
           "style": "light"
          },
          "paper_bgcolor": "white",
          "plot_bgcolor": "#E5ECF6",
          "polar": {
           "angularaxis": {
            "gridcolor": "white",
            "linecolor": "white",
            "ticks": ""
           },
           "bgcolor": "#E5ECF6",
           "radialaxis": {
            "gridcolor": "white",
            "linecolor": "white",
            "ticks": ""
           }
          },
          "scene": {
           "xaxis": {
            "backgroundcolor": "#E5ECF6",
            "gridcolor": "white",
            "gridwidth": 2,
            "linecolor": "white",
            "showbackground": true,
            "ticks": "",
            "zerolinecolor": "white"
           },
           "yaxis": {
            "backgroundcolor": "#E5ECF6",
            "gridcolor": "white",
            "gridwidth": 2,
            "linecolor": "white",
            "showbackground": true,
            "ticks": "",
            "zerolinecolor": "white"
           },
           "zaxis": {
            "backgroundcolor": "#E5ECF6",
            "gridcolor": "white",
            "gridwidth": 2,
            "linecolor": "white",
            "showbackground": true,
            "ticks": "",
            "zerolinecolor": "white"
           }
          },
          "shapedefaults": {
           "line": {
            "color": "#2a3f5f"
           }
          },
          "ternary": {
           "aaxis": {
            "gridcolor": "white",
            "linecolor": "white",
            "ticks": ""
           },
           "baxis": {
            "gridcolor": "white",
            "linecolor": "white",
            "ticks": ""
           },
           "bgcolor": "#E5ECF6",
           "caxis": {
            "gridcolor": "white",
            "linecolor": "white",
            "ticks": ""
           }
          },
          "title": {
           "x": 0.05
          },
          "xaxis": {
           "automargin": true,
           "gridcolor": "white",
           "linecolor": "white",
           "ticks": "",
           "title": {
            "standoff": 15
           },
           "zerolinecolor": "white",
           "zerolinewidth": 2
          },
          "yaxis": {
           "automargin": true,
           "gridcolor": "white",
           "linecolor": "white",
           "ticks": "",
           "title": {
            "standoff": 15
           },
           "zerolinecolor": "white",
           "zerolinewidth": 2
          }
         }
        },
        "title": {
         "text": "Chess Ratings for year 2023"
        },
        "xaxis": {
         "anchor": "y",
         "domain": [
          0,
          1
         ],
         "title": {
          "text": "Date"
         }
        },
        "yaxis": {
         "anchor": "x",
         "domain": [
          0,
          1
         ],
         "title": {
          "text": "Rating"
         }
        }
       }
      },
      "text/html": [
       "<div>                            <div id=\"2bc61541-cfb2-433a-8d47-542f68913f11\" class=\"plotly-graph-div\" style=\"height:525px; width:100%;\"></div>            <script type=\"text/javascript\">                require([\"plotly\"], function(Plotly) {                    window.PLOTLYENV=window.PLOTLYENV || {};                                    if (document.getElementById(\"2bc61541-cfb2-433a-8d47-542f68913f11\")) {                    Plotly.newPlot(                        \"2bc61541-cfb2-433a-8d47-542f68913f11\",                        [{\"hovertemplate\":\"Date=%{x}\\u003cbr\\u003eRating=%{y}\\u003cextra\\u003e\\u003c\\u002fextra\\u003e\",\"legendgroup\":\"\",\"line\":{\"color\":\"#636efa\",\"dash\":\"solid\"},\"marker\":{\"symbol\":\"circle\"},\"mode\":\"lines\",\"name\":\"\",\"orientation\":\"v\",\"showlegend\":false,\"x\":[\"2023-01-20T00:00:00\",\"2023-01-20T00:00:00\",\"2023-01-20T00:00:00\",\"2023-01-26T00:00:00\",\"2023-01-31T00:00:00\",\"2023-02-01T00:00:00\",\"2023-02-18T00:00:00\",\"2023-02-18T00:00:00\",\"2023-02-20T00:00:00\",\"2023-02-26T00:00:00\",\"2023-02-26T00:00:00\",\"2023-02-26T00:00:00\",\"2023-02-26T00:00:00\",\"2023-02-27T00:00:00\",\"2023-03-11T00:00:00\",\"2023-03-12T00:00:00\",\"2023-03-12T00:00:00\",\"2023-03-12T00:00:00\",\"2023-03-12T00:00:00\",\"2023-03-12T00:00:00\",\"2023-03-12T00:00:00\",\"2023-03-13T00:00:00\",\"2023-03-13T00:00:00\",\"2023-03-15T00:00:00\",\"2023-03-16T00:00:00\",\"2023-03-20T00:00:00\",\"2023-03-20T00:00:00\",\"2023-03-20T00:00:00\",\"2023-03-20T00:00:00\",\"2023-03-20T00:00:00\",\"2023-03-20T00:00:00\",\"2023-03-20T00:00:00\",\"2023-03-20T00:00:00\",\"2023-03-21T00:00:00\",\"2023-03-21T00:00:00\",\"2023-03-21T00:00:00\",\"2023-03-21T00:00:00\",\"2023-03-21T00:00:00\",\"2023-03-21T00:00:00\",\"2023-03-21T00:00:00\",\"2023-03-21T00:00:00\",\"2023-03-21T00:00:00\",\"2023-03-21T00:00:00\",\"2023-03-21T00:00:00\",\"2023-03-21T00:00:00\",\"2023-03-22T00:00:00\",\"2023-03-22T00:00:00\",\"2023-03-23T00:00:00\",\"2023-03-23T00:00:00\",\"2023-03-23T00:00:00\",\"2023-03-23T00:00:00\",\"2023-03-23T00:00:00\",\"2023-03-24T00:00:00\",\"2023-03-24T00:00:00\",\"2023-03-25T00:00:00\",\"2023-03-26T00:00:00\",\"2023-03-26T00:00:00\",\"2023-03-28T00:00:00\",\"2023-03-29T00:00:00\",\"2023-03-29T00:00:00\",\"2023-03-30T00:00:00\",\"2023-03-30T00:00:00\",\"2023-03-30T00:00:00\",\"2023-03-30T00:00:00\",\"2023-03-31T00:00:00\",\"2023-04-03T00:00:00\",\"2023-04-04T00:00:00\",\"2023-04-04T00:00:00\",\"2023-04-04T00:00:00\",\"2023-04-04T00:00:00\",\"2023-04-04T00:00:00\",\"2023-04-04T00:00:00\",\"2023-04-06T00:00:00\",\"2023-04-06T00:00:00\",\"2023-04-08T00:00:00\",\"2023-04-08T00:00:00\",\"2023-04-12T00:00:00\",\"2023-04-12T00:00:00\",\"2023-04-13T00:00:00\",\"2023-04-13T00:00:00\",\"2023-04-13T00:00:00\",\"2023-04-27T00:00:00\",\"2023-04-27T00:00:00\",\"2023-04-27T00:00:00\",\"2023-04-28T00:00:00\",\"2023-04-28T00:00:00\",\"2023-04-28T00:00:00\",\"2023-04-29T00:00:00\",\"2023-04-29T00:00:00\",\"2023-04-29T00:00:00\",\"2023-04-29T00:00:00\",\"2023-04-29T00:00:00\",\"2023-04-29T00:00:00\",\"2023-04-29T00:00:00\",\"2023-04-30T00:00:00\",\"2023-05-02T00:00:00\",\"2023-05-02T00:00:00\",\"2023-05-02T00:00:00\",\"2023-05-03T00:00:00\",\"2023-05-03T00:00:00\",\"2023-05-03T00:00:00\",\"2023-05-03T00:00:00\",\"2023-05-03T00:00:00\",\"2023-05-04T00:00:00\",\"2023-05-04T00:00:00\",\"2023-05-04T00:00:00\",\"2023-05-04T00:00:00\",\"2023-05-05T00:00:00\",\"2023-05-06T00:00:00\",\"2023-05-06T00:00:00\",\"2023-05-06T00:00:00\",\"2023-05-07T00:00:00\",\"2023-05-07T00:00:00\",\"2023-05-08T00:00:00\",\"2023-05-09T00:00:00\",\"2023-05-09T00:00:00\",\"2023-05-10T00:00:00\",\"2023-05-10T00:00:00\",\"2023-05-10T00:00:00\",\"2023-05-10T00:00:00\",\"2023-05-10T00:00:00\",\"2023-05-10T00:00:00\",\"2023-05-10T00:00:00\",\"2023-05-10T00:00:00\",\"2023-05-11T00:00:00\",\"2023-05-11T00:00:00\",\"2023-05-11T00:00:00\",\"2023-05-11T00:00:00\",\"2023-05-11T00:00:00\",\"2023-05-11T00:00:00\",\"2023-05-11T00:00:00\",\"2023-05-11T00:00:00\",\"2023-05-12T00:00:00\",\"2023-05-12T00:00:00\",\"2023-05-13T00:00:00\",\"2023-05-13T00:00:00\",\"2023-05-13T00:00:00\",\"2023-05-13T00:00:00\",\"2023-05-13T00:00:00\",\"2023-05-13T00:00:00\",\"2023-05-14T00:00:00\",\"2023-05-14T00:00:00\",\"2023-05-14T00:00:00\",\"2023-05-16T00:00:00\",\"2023-05-16T00:00:00\",\"2023-05-16T00:00:00\",\"2023-05-16T00:00:00\",\"2023-05-17T00:00:00\",\"2023-05-17T00:00:00\",\"2023-05-17T00:00:00\",\"2023-05-18T00:00:00\",\"2023-05-18T00:00:00\",\"2023-05-18T00:00:00\",\"2023-05-18T00:00:00\",\"2023-05-18T00:00:00\",\"2023-05-18T00:00:00\",\"2023-05-18T00:00:00\",\"2023-05-20T00:00:00\",\"2023-05-20T00:00:00\",\"2023-05-20T00:00:00\",\"2023-06-01T00:00:00\",\"2023-06-02T00:00:00\",\"2023-06-03T00:00:00\",\"2023-06-04T00:00:00\",\"2023-06-05T00:00:00\",\"2023-06-10T00:00:00\",\"2023-06-11T00:00:00\",\"2023-06-11T00:00:00\",\"2023-06-11T00:00:00\",\"2023-06-11T00:00:00\",\"2023-06-11T00:00:00\",\"2023-06-11T00:00:00\",\"2023-06-16T00:00:00\",\"2023-06-17T00:00:00\",\"2023-06-17T00:00:00\",\"2023-06-17T00:00:00\",\"2023-06-18T00:00:00\",\"2023-06-18T00:00:00\",\"2023-06-18T00:00:00\",\"2023-06-19T00:00:00\",\"2023-06-19T00:00:00\",\"2023-06-20T00:00:00\",\"2023-06-20T00:00:00\",\"2023-06-20T00:00:00\",\"2023-06-20T00:00:00\",\"2023-06-20T00:00:00\",\"2023-06-20T00:00:00\",\"2023-06-21T00:00:00\",\"2023-06-22T00:00:00\",\"2023-06-22T00:00:00\",\"2023-06-22T00:00:00\",\"2023-06-24T00:00:00\",\"2023-06-24T00:00:00\",\"2023-06-24T00:00:00\",\"2023-06-24T00:00:00\",\"2023-06-26T00:00:00\",\"2023-06-26T00:00:00\",\"2023-06-27T00:00:00\",\"2023-06-28T00:00:00\",\"2023-06-28T00:00:00\",\"2023-07-01T00:00:00\",\"2023-07-01T00:00:00\",\"2023-07-01T00:00:00\",\"2023-07-01T00:00:00\",\"2023-07-01T00:00:00\",\"2023-07-01T00:00:00\",\"2023-07-03T00:00:00\",\"2023-07-07T00:00:00\",\"2023-07-08T00:00:00\",\"2023-07-08T00:00:00\",\"2023-07-08T00:00:00\",\"2023-07-08T00:00:00\",\"2023-07-08T00:00:00\",\"2023-07-12T00:00:00\",\"2023-07-12T00:00:00\",\"2023-07-12T00:00:00\",\"2023-07-13T00:00:00\",\"2023-07-13T00:00:00\",\"2023-07-13T00:00:00\",\"2023-07-13T00:00:00\",\"2023-07-13T00:00:00\",\"2023-07-13T00:00:00\",\"2023-07-14T00:00:00\",\"2023-07-14T00:00:00\",\"2023-07-14T00:00:00\",\"2023-07-15T00:00:00\",\"2023-07-15T00:00:00\",\"2023-07-15T00:00:00\",\"2023-07-15T00:00:00\",\"2023-07-15T00:00:00\",\"2023-07-16T00:00:00\",\"2023-07-16T00:00:00\",\"2023-07-18T00:00:00\",\"2023-07-18T00:00:00\",\"2023-07-18T00:00:00\",\"2023-07-19T00:00:00\",\"2023-07-20T00:00:00\",\"2023-07-20T00:00:00\",\"2023-07-20T00:00:00\",\"2023-07-20T00:00:00\",\"2023-07-20T00:00:00\",\"2023-07-20T00:00:00\",\"2023-07-22T00:00:00\",\"2023-07-24T00:00:00\",\"2023-07-24T00:00:00\",\"2023-07-24T00:00:00\",\"2023-07-24T00:00:00\",\"2023-07-24T00:00:00\",\"2023-07-27T00:00:00\",\"2023-07-27T00:00:00\",\"2023-08-01T00:00:00\",\"2023-08-01T00:00:00\",\"2023-08-04T00:00:00\",\"2023-08-04T00:00:00\",\"2023-08-04T00:00:00\",\"2023-08-05T00:00:00\",\"2023-08-10T00:00:00\",\"2023-08-10T00:00:00\",\"2023-08-22T00:00:00\",\"2023-08-22T00:00:00\",\"2023-08-22T00:00:00\",\"2023-08-22T00:00:00\",\"2023-08-23T00:00:00\",\"2023-08-23T00:00:00\",\"2023-08-25T00:00:00\",\"2023-08-26T00:00:00\",\"2023-08-26T00:00:00\",\"2023-08-26T00:00:00\",\"2023-08-26T00:00:00\",\"2023-08-26T00:00:00\",\"2023-08-28T00:00:00\",\"2023-08-28T00:00:00\",\"2023-08-28T00:00:00\",\"2023-08-28T00:00:00\",\"2023-08-28T00:00:00\",\"2023-08-29T00:00:00\",\"2023-08-30T00:00:00\",\"2023-09-04T00:00:00\",\"2023-09-05T00:00:00\",\"2023-09-07T00:00:00\",\"2023-09-07T00:00:00\",\"2023-09-07T00:00:00\",\"2023-09-07T00:00:00\",\"2023-09-07T00:00:00\",\"2023-09-07T00:00:00\",\"2023-09-08T00:00:00\",\"2023-09-09T00:00:00\",\"2023-09-09T00:00:00\",\"2023-09-09T00:00:00\",\"2023-09-09T00:00:00\",\"2023-09-09T00:00:00\",\"2023-09-09T00:00:00\",\"2023-09-09T00:00:00\",\"2023-09-09T00:00:00\",\"2023-09-09T00:00:00\",\"2023-09-09T00:00:00\",\"2023-09-09T00:00:00\",\"2023-09-09T00:00:00\",\"2023-09-09T00:00:00\",\"2023-09-09T00:00:00\",\"2023-09-13T00:00:00\",\"2023-09-13T00:00:00\",\"2023-09-14T00:00:00\",\"2023-09-14T00:00:00\",\"2023-09-15T00:00:00\",\"2023-09-15T00:00:00\",\"2023-09-15T00:00:00\",\"2023-09-15T00:00:00\",\"2023-09-15T00:00:00\",\"2023-09-16T00:00:00\",\"2023-09-18T00:00:00\",\"2023-09-18T00:00:00\",\"2023-09-18T00:00:00\",\"2023-09-18T00:00:00\",\"2023-09-18T00:00:00\",\"2023-09-18T00:00:00\",\"2023-09-18T00:00:00\",\"2023-09-18T00:00:00\",\"2023-09-18T00:00:00\",\"2023-09-18T00:00:00\",\"2023-09-18T00:00:00\",\"2023-09-18T00:00:00\",\"2023-09-18T00:00:00\",\"2023-09-18T00:00:00\",\"2023-09-18T00:00:00\",\"2023-09-19T00:00:00\",\"2023-09-19T00:00:00\",\"2023-09-20T00:00:00\",\"2023-09-20T00:00:00\",\"2023-09-20T00:00:00\",\"2023-09-20T00:00:00\",\"2023-09-20T00:00:00\",\"2023-09-21T00:00:00\",\"2023-09-22T00:00:00\",\"2023-09-22T00:00:00\",\"2023-09-22T00:00:00\",\"2023-09-22T00:00:00\",\"2023-09-22T00:00:00\",\"2023-09-22T00:00:00\",\"2023-09-22T00:00:00\",\"2023-09-22T00:00:00\",\"2023-09-22T00:00:00\",\"2023-09-22T00:00:00\",\"2023-09-22T00:00:00\",\"2023-09-25T00:00:00\",\"2023-09-25T00:00:00\",\"2023-09-25T00:00:00\",\"2023-09-25T00:00:00\",\"2023-09-25T00:00:00\",\"2023-09-26T00:00:00\",\"2023-09-26T00:00:00\",\"2023-09-26T00:00:00\",\"2023-09-27T00:00:00\",\"2023-09-27T00:00:00\",\"2023-09-27T00:00:00\",\"2023-09-27T00:00:00\",\"2023-09-27T00:00:00\",\"2023-09-28T00:00:00\",\"2023-09-28T00:00:00\",\"2023-09-28T00:00:00\",\"2023-09-29T00:00:00\",\"2023-09-29T00:00:00\",\"2023-09-29T00:00:00\",\"2023-09-29T00:00:00\",\"2023-09-29T00:00:00\",\"2023-09-30T00:00:00\",\"2023-09-30T00:00:00\",\"2023-10-01T00:00:00\",\"2023-10-01T00:00:00\",\"2023-10-01T00:00:00\",\"2023-10-02T00:00:00\",\"2023-10-03T00:00:00\",\"2023-10-04T00:00:00\",\"2023-10-04T00:00:00\",\"2023-10-04T00:00:00\",\"2023-10-05T00:00:00\",\"2023-10-05T00:00:00\",\"2023-10-06T00:00:00\",\"2023-10-08T00:00:00\",\"2023-10-08T00:00:00\",\"2023-10-08T00:00:00\",\"2023-10-08T00:00:00\",\"2023-10-08T00:00:00\",\"2023-10-08T00:00:00\",\"2023-10-08T00:00:00\",\"2023-10-08T00:00:00\",\"2023-10-15T00:00:00\",\"2023-10-15T00:00:00\",\"2023-10-16T00:00:00\",\"2023-10-21T00:00:00\",\"2023-10-21T00:00:00\",\"2023-10-21T00:00:00\",\"2023-10-22T00:00:00\",\"2023-10-22T00:00:00\",\"2023-10-22T00:00:00\",\"2023-10-23T00:00:00\",\"2023-10-23T00:00:00\",\"2023-10-23T00:00:00\"],\"xaxis\":\"x\",\"y\":[1503.0,1495.0,1504.0,1495.0,1488.0,1496.0,1504.0,1496.0,1504.0,1512.0,1495.0,1487.0,1503.0,1478.0,1487.0,1497.0,1489.0,1498.0,1490.0,1499.0,1491.0,1500.0,1492.0,1502.0,1494.0,1509.0,1502.0,1510.0,1518.0,1526.0,1517.0,1517.0,1508.0,1517.0,1509.0,1525.0,1526.0,1500.0,1518.0,1541.0,1533.0,1542.0,1550.0,1542.0,1533.0,1532.0,1524.0,1531.0,1540.0,1541.0,1533.0,1549.0,1523.0,1515.0,1507.0,1507.0,1515.0,1514.0,1505.0,1496.0,1488.0,1496.0,1505.0,1497.0,1492.0,1485.0,1477.0,1468.0,1475.0,1482.0,1490.0,1483.0,1476.0,1485.0,1501.0,1494.0,1485.0,1493.0,1486.0,null,1477.0,1479.0,1487.0,1495.0,1472.0,1479.0,1470.0,1504.0,null,1496.0,1495.0,1487.0,1479.0,null,null,1486.0,1493.0,1485.0,1478.0,1492.0,1485.0,1477.0,1484.0,1469.0,1462.0,1470.0,1461.0,1469.0,1477.0,1469.0,1460.0,1453.0,1444.0,1436.0,1427.0,1420.0,1413.0,1420.0,1405.0,1413.0,1398.0,1405.0,1413.0,1406.0,1425.0,1409.0,1418.0,null,1410.0,1419.0,1412.0,1417.0,1426.0,1434.0,1467.0,1442.0,1450.0,null,1459.0,1434.0,null,1459.0,1452.0,1419.0,1426.0,1444.0,1435.0,1427.0,1435.0,1443.0,1457.0,1449.0,1449.0,1450.0,1449.0,1441.0,1441.0,1458.0,1450.0,1448.0,1441.0,1433.0,1441.0,1449.0,1456.0,1448.0,1457.0,1465.0,1458.0,1466.0,1458.0,1457.0,1466.0,1482.0,1473.0,1491.0,1499.0,null,1508.0,1500.0,1492.0,1483.0,1474.0,1489.0,1481.0,1482.0,1490.0,1482.0,1491.0,1484.0,1476.0,1469.0,1477.0,1469.0,1462.0,1470.0,1462.0,1470.0,1487.0,1478.0,1472.0,1480.0,1488.0,1487.0,1495.0,1495.0,1480.0,1473.0,null,1480.0,1487.0,1478.0,1470.0,1478.0,1485.0,1494.0,1520.0,null,1503.0,1512.0,1511.0,1519.0,1496.0,1504.0,1512.0,1501.0,1493.0,1486.0,1495.0,1503.0,1492.0,1483.0,1490.0,1499.0,1490.0,null,1505.0,1488.0,1496.0,1489.0,1482.0,1496.0,1513.0,1505.0,1512.0,1521.0,1513.0,1506.0,1490.0,1498.0,1491.0,1498.0,1483.0,1491.0,1500.0,1491.0,1475.0,1483.0,1490.0,1483.0,1475.0,1467.0,1490.0,1497.0,1498.0,1507.0,1500.0,1508.0,1516.0,1491.0,1517.0,1511.0,1518.0,1526.0,1518.0,1510.0,1518.0,1525.0,1517.0,1498.0,1490.0,null,1499.0,null,1508.0,1489.0,1476.0,1468.0,1476.0,1484.0,1476.0,1484.0,1476.0,1457.0,1458.0,1466.0,1465.0,1473.0,1480.0,1467.0,1484.0,1492.0,1483.0,1491.0,1481.0,1482.0,1474.0,1488.0,1495.0,1502.0,1502.0,1509.0,1495.0,1487.0,1494.0,null,1486.0,1495.0,1504.0,1488.0,1495.0,1495.0,1497.0,1505.0,1504.0,1513.0,1505.0,1498.0,1506.0,null,1498.0,1506.0,1513.0,1501.0,1507.0,1500.0,1509.0,1492.0,1522.0,1506.0,1513.0,1522.0,1499.0,1530.0,1498.0,1507.0,1499.0,1507.0,1499.0,1490.0,1483.0,1490.0,1486.0,1494.0,1508.0,1499.0,1501.0,1493.0,1485.0,1493.0,1517.0,1508.0,1485.0,1493.0,1501.0,null,1524.0,1508.0,1500.0,1515.0,1492.0,1500.0,1506.0,null,null,null,1499.0,1490.0,1497.0,1488.0,1496.0,1502.0,1508.0,1500.0,1490.0,1513.0,1498.0,1506.0,1513.0,1521.0,1529.0,1536.0,1544.0,1552.0,1559.0,1567.0,1576.0,1584.0],\"yaxis\":\"y\",\"type\":\"scatter\"}],                        {\"template\":{\"data\":{\"histogram2dcontour\":[{\"type\":\"histogram2dcontour\",\"colorbar\":{\"outlinewidth\":0,\"ticks\":\"\"},\"colorscale\":[[0.0,\"#0d0887\"],[0.1111111111111111,\"#46039f\"],[0.2222222222222222,\"#7201a8\"],[0.3333333333333333,\"#9c179e\"],[0.4444444444444444,\"#bd3786\"],[0.5555555555555556,\"#d8576b\"],[0.6666666666666666,\"#ed7953\"],[0.7777777777777778,\"#fb9f3a\"],[0.8888888888888888,\"#fdca26\"],[1.0,\"#f0f921\"]]}],\"choropleth\":[{\"type\":\"choropleth\",\"colorbar\":{\"outlinewidth\":0,\"ticks\":\"\"}}],\"histogram2d\":[{\"type\":\"histogram2d\",\"colorbar\":{\"outlinewidth\":0,\"ticks\":\"\"},\"colorscale\":[[0.0,\"#0d0887\"],[0.1111111111111111,\"#46039f\"],[0.2222222222222222,\"#7201a8\"],[0.3333333333333333,\"#9c179e\"],[0.4444444444444444,\"#bd3786\"],[0.5555555555555556,\"#d8576b\"],[0.6666666666666666,\"#ed7953\"],[0.7777777777777778,\"#fb9f3a\"],[0.8888888888888888,\"#fdca26\"],[1.0,\"#f0f921\"]]}],\"heatmap\":[{\"type\":\"heatmap\",\"colorbar\":{\"outlinewidth\":0,\"ticks\":\"\"},\"colorscale\":[[0.0,\"#0d0887\"],[0.1111111111111111,\"#46039f\"],[0.2222222222222222,\"#7201a8\"],[0.3333333333333333,\"#9c179e\"],[0.4444444444444444,\"#bd3786\"],[0.5555555555555556,\"#d8576b\"],[0.6666666666666666,\"#ed7953\"],[0.7777777777777778,\"#fb9f3a\"],[0.8888888888888888,\"#fdca26\"],[1.0,\"#f0f921\"]]}],\"heatmapgl\":[{\"type\":\"heatmapgl\",\"colorbar\":{\"outlinewidth\":0,\"ticks\":\"\"},\"colorscale\":[[0.0,\"#0d0887\"],[0.1111111111111111,\"#46039f\"],[0.2222222222222222,\"#7201a8\"],[0.3333333333333333,\"#9c179e\"],[0.4444444444444444,\"#bd3786\"],[0.5555555555555556,\"#d8576b\"],[0.6666666666666666,\"#ed7953\"],[0.7777777777777778,\"#fb9f3a\"],[0.8888888888888888,\"#fdca26\"],[1.0,\"#f0f921\"]]}],\"contourcarpet\":[{\"type\":\"contourcarpet\",\"colorbar\":{\"outlinewidth\":0,\"ticks\":\"\"}}],\"contour\":[{\"type\":\"contour\",\"colorbar\":{\"outlinewidth\":0,\"ticks\":\"\"},\"colorscale\":[[0.0,\"#0d0887\"],[0.1111111111111111,\"#46039f\"],[0.2222222222222222,\"#7201a8\"],[0.3333333333333333,\"#9c179e\"],[0.4444444444444444,\"#bd3786\"],[0.5555555555555556,\"#d8576b\"],[0.6666666666666666,\"#ed7953\"],[0.7777777777777778,\"#fb9f3a\"],[0.8888888888888888,\"#fdca26\"],[1.0,\"#f0f921\"]]}],\"surface\":[{\"type\":\"surface\",\"colorbar\":{\"outlinewidth\":0,\"ticks\":\"\"},\"colorscale\":[[0.0,\"#0d0887\"],[0.1111111111111111,\"#46039f\"],[0.2222222222222222,\"#7201a8\"],[0.3333333333333333,\"#9c179e\"],[0.4444444444444444,\"#bd3786\"],[0.5555555555555556,\"#d8576b\"],[0.6666666666666666,\"#ed7953\"],[0.7777777777777778,\"#fb9f3a\"],[0.8888888888888888,\"#fdca26\"],[1.0,\"#f0f921\"]]}],\"mesh3d\":[{\"type\":\"mesh3d\",\"colorbar\":{\"outlinewidth\":0,\"ticks\":\"\"}}],\"scatter\":[{\"fillpattern\":{\"fillmode\":\"overlay\",\"size\":10,\"solidity\":0.2},\"type\":\"scatter\"}],\"parcoords\":[{\"type\":\"parcoords\",\"line\":{\"colorbar\":{\"outlinewidth\":0,\"ticks\":\"\"}}}],\"scatterpolargl\":[{\"type\":\"scatterpolargl\",\"marker\":{\"colorbar\":{\"outlinewidth\":0,\"ticks\":\"\"}}}],\"bar\":[{\"error_x\":{\"color\":\"#2a3f5f\"},\"error_y\":{\"color\":\"#2a3f5f\"},\"marker\":{\"line\":{\"color\":\"#E5ECF6\",\"width\":0.5},\"pattern\":{\"fillmode\":\"overlay\",\"size\":10,\"solidity\":0.2}},\"type\":\"bar\"}],\"scattergeo\":[{\"type\":\"scattergeo\",\"marker\":{\"colorbar\":{\"outlinewidth\":0,\"ticks\":\"\"}}}],\"scatterpolar\":[{\"type\":\"scatterpolar\",\"marker\":{\"colorbar\":{\"outlinewidth\":0,\"ticks\":\"\"}}}],\"histogram\":[{\"marker\":{\"pattern\":{\"fillmode\":\"overlay\",\"size\":10,\"solidity\":0.2}},\"type\":\"histogram\"}],\"scattergl\":[{\"type\":\"scattergl\",\"marker\":{\"colorbar\":{\"outlinewidth\":0,\"ticks\":\"\"}}}],\"scatter3d\":[{\"type\":\"scatter3d\",\"line\":{\"colorbar\":{\"outlinewidth\":0,\"ticks\":\"\"}},\"marker\":{\"colorbar\":{\"outlinewidth\":0,\"ticks\":\"\"}}}],\"scattermapbox\":[{\"type\":\"scattermapbox\",\"marker\":{\"colorbar\":{\"outlinewidth\":0,\"ticks\":\"\"}}}],\"scatterternary\":[{\"type\":\"scatterternary\",\"marker\":{\"colorbar\":{\"outlinewidth\":0,\"ticks\":\"\"}}}],\"scattercarpet\":[{\"type\":\"scattercarpet\",\"marker\":{\"colorbar\":{\"outlinewidth\":0,\"ticks\":\"\"}}}],\"carpet\":[{\"aaxis\":{\"endlinecolor\":\"#2a3f5f\",\"gridcolor\":\"white\",\"linecolor\":\"white\",\"minorgridcolor\":\"white\",\"startlinecolor\":\"#2a3f5f\"},\"baxis\":{\"endlinecolor\":\"#2a3f5f\",\"gridcolor\":\"white\",\"linecolor\":\"white\",\"minorgridcolor\":\"white\",\"startlinecolor\":\"#2a3f5f\"},\"type\":\"carpet\"}],\"table\":[{\"cells\":{\"fill\":{\"color\":\"#EBF0F8\"},\"line\":{\"color\":\"white\"}},\"header\":{\"fill\":{\"color\":\"#C8D4E3\"},\"line\":{\"color\":\"white\"}},\"type\":\"table\"}],\"barpolar\":[{\"marker\":{\"line\":{\"color\":\"#E5ECF6\",\"width\":0.5},\"pattern\":{\"fillmode\":\"overlay\",\"size\":10,\"solidity\":0.2}},\"type\":\"barpolar\"}],\"pie\":[{\"automargin\":true,\"type\":\"pie\"}]},\"layout\":{\"autotypenumbers\":\"strict\",\"colorway\":[\"#636efa\",\"#EF553B\",\"#00cc96\",\"#ab63fa\",\"#FFA15A\",\"#19d3f3\",\"#FF6692\",\"#B6E880\",\"#FF97FF\",\"#FECB52\"],\"font\":{\"color\":\"#2a3f5f\"},\"hovermode\":\"closest\",\"hoverlabel\":{\"align\":\"left\"},\"paper_bgcolor\":\"white\",\"plot_bgcolor\":\"#E5ECF6\",\"polar\":{\"bgcolor\":\"#E5ECF6\",\"angularaxis\":{\"gridcolor\":\"white\",\"linecolor\":\"white\",\"ticks\":\"\"},\"radialaxis\":{\"gridcolor\":\"white\",\"linecolor\":\"white\",\"ticks\":\"\"}},\"ternary\":{\"bgcolor\":\"#E5ECF6\",\"aaxis\":{\"gridcolor\":\"white\",\"linecolor\":\"white\",\"ticks\":\"\"},\"baxis\":{\"gridcolor\":\"white\",\"linecolor\":\"white\",\"ticks\":\"\"},\"caxis\":{\"gridcolor\":\"white\",\"linecolor\":\"white\",\"ticks\":\"\"}},\"coloraxis\":{\"colorbar\":{\"outlinewidth\":0,\"ticks\":\"\"}},\"colorscale\":{\"sequential\":[[0.0,\"#0d0887\"],[0.1111111111111111,\"#46039f\"],[0.2222222222222222,\"#7201a8\"],[0.3333333333333333,\"#9c179e\"],[0.4444444444444444,\"#bd3786\"],[0.5555555555555556,\"#d8576b\"],[0.6666666666666666,\"#ed7953\"],[0.7777777777777778,\"#fb9f3a\"],[0.8888888888888888,\"#fdca26\"],[1.0,\"#f0f921\"]],\"sequentialminus\":[[0.0,\"#0d0887\"],[0.1111111111111111,\"#46039f\"],[0.2222222222222222,\"#7201a8\"],[0.3333333333333333,\"#9c179e\"],[0.4444444444444444,\"#bd3786\"],[0.5555555555555556,\"#d8576b\"],[0.6666666666666666,\"#ed7953\"],[0.7777777777777778,\"#fb9f3a\"],[0.8888888888888888,\"#fdca26\"],[1.0,\"#f0f921\"]],\"diverging\":[[0,\"#8e0152\"],[0.1,\"#c51b7d\"],[0.2,\"#de77ae\"],[0.3,\"#f1b6da\"],[0.4,\"#fde0ef\"],[0.5,\"#f7f7f7\"],[0.6,\"#e6f5d0\"],[0.7,\"#b8e186\"],[0.8,\"#7fbc41\"],[0.9,\"#4d9221\"],[1,\"#276419\"]]},\"xaxis\":{\"gridcolor\":\"white\",\"linecolor\":\"white\",\"ticks\":\"\",\"title\":{\"standoff\":15},\"zerolinecolor\":\"white\",\"automargin\":true,\"zerolinewidth\":2},\"yaxis\":{\"gridcolor\":\"white\",\"linecolor\":\"white\",\"ticks\":\"\",\"title\":{\"standoff\":15},\"zerolinecolor\":\"white\",\"automargin\":true,\"zerolinewidth\":2},\"scene\":{\"xaxis\":{\"backgroundcolor\":\"#E5ECF6\",\"gridcolor\":\"white\",\"linecolor\":\"white\",\"showbackground\":true,\"ticks\":\"\",\"zerolinecolor\":\"white\",\"gridwidth\":2},\"yaxis\":{\"backgroundcolor\":\"#E5ECF6\",\"gridcolor\":\"white\",\"linecolor\":\"white\",\"showbackground\":true,\"ticks\":\"\",\"zerolinecolor\":\"white\",\"gridwidth\":2},\"zaxis\":{\"backgroundcolor\":\"#E5ECF6\",\"gridcolor\":\"white\",\"linecolor\":\"white\",\"showbackground\":true,\"ticks\":\"\",\"zerolinecolor\":\"white\",\"gridwidth\":2}},\"shapedefaults\":{\"line\":{\"color\":\"#2a3f5f\"}},\"annotationdefaults\":{\"arrowcolor\":\"#2a3f5f\",\"arrowhead\":0,\"arrowwidth\":1},\"geo\":{\"bgcolor\":\"white\",\"landcolor\":\"#E5ECF6\",\"subunitcolor\":\"white\",\"showland\":true,\"showlakes\":true,\"lakecolor\":\"white\"},\"title\":{\"x\":0.05},\"mapbox\":{\"style\":\"light\"}}},\"xaxis\":{\"anchor\":\"y\",\"domain\":[0.0,1.0],\"title\":{\"text\":\"Date\"}},\"yaxis\":{\"anchor\":\"x\",\"domain\":[0.0,1.0],\"title\":{\"text\":\"Rating\"}},\"legend\":{\"tracegroupgap\":0},\"margin\":{\"t\":60},\"title\":{\"text\":\"Chess Ratings for year 2023\"}},                        {\"responsive\": true}                    ).then(function(){\n",
       "                            \n",
       "var gd = document.getElementById('2bc61541-cfb2-433a-8d47-542f68913f11');\n",
       "var x = new MutationObserver(function (mutations, observer) {{\n",
       "        var display = window.getComputedStyle(gd).display;\n",
       "        if (!display || display === 'none') {{\n",
       "            console.log([gd, 'removed!']);\n",
       "            Plotly.purge(gd);\n",
       "            observer.disconnect();\n",
       "        }}\n",
       "}});\n",
       "\n",
       "// Listen for the removal of the full notebook cells\n",
       "var notebookContainer = gd.closest('#notebook-container');\n",
       "if (notebookContainer) {{\n",
       "    x.observe(notebookContainer, {childList: true});\n",
       "}}\n",
       "\n",
       "// Listen for the clearing of the current output cell\n",
       "var outputEl = gd.closest('.output');\n",
       "if (outputEl) {{\n",
       "    x.observe(outputEl, {childList: true});\n",
       "}}\n",
       "\n",
       "                        })                };                });            </script>        </div>"
      ]
     },
     "metadata": {},
     "output_type": "display_data"
    }
   ],
   "source": [
    "\n",
    "# Create interactive line plots for each year\n",
    "fig = px.line(ratings_df[ratings_df['Date'].dt.year == 2019], x='Date', y='Rating', labels={'Date': 'Date', 'Rating': 'Rating'})\n",
    "fig.update_layout(title='Chess Ratings for year 2019', xaxis_title='Date', yaxis_title='Rating')\n",
    "\n",
    "# Show the plot\n",
    "fig.show()\n",
    "\n",
    "fig = px.line(ratings_df[ratings_df['Date'].dt.year == 2020], x='Date', y='Rating',labels={'Date': 'Date', 'Rating': 'Rating'})\n",
    "fig.update_layout(title='Chess Ratings for year 2020', xaxis_title='Date', yaxis_title='Rating')\n",
    "\n",
    "# Show the plot\n",
    "fig.show()\n",
    "\n",
    "\n",
    "fig = px.line(ratings_df[ratings_df['Date'].dt.year == 2021], x='Date', y='Rating',labels={'Date': 'Date', 'Rating': 'Rating'})\n",
    "fig.update_layout(title='Chess Ratings for year 2021', xaxis_title='Date', yaxis_title='Rating')\n",
    "\n",
    "# Show the plot\n",
    "fig.show()\n",
    "\n",
    "\n",
    "fig = px.line(ratings_df[ratings_df['Date'].dt.year == 2022], x='Date', y='Rating',labels={'Date': 'Date', 'Rating': 'Rating'})\n",
    "fig.update_layout(title='Chess Ratings for year 2022', xaxis_title='Date', yaxis_title='Rating')\n",
    "\n",
    "# Show the plot\n",
    "fig.show()\n",
    "\n",
    "fig = px.line(ratings_df[ratings_df['Date'].dt.year == 2023], x='Date', y='Rating',labels={'Date': 'Date', 'Rating': 'Rating'})\n",
    "fig.update_layout(title='Chess Ratings for year 2023', xaxis_title='Date', yaxis_title='Rating')\n",
    "\n",
    "# Show the plot\n",
    "fig.show()"
   ]
  },
  {
   "cell_type": "code",
   "execution_count": 56,
   "id": "b422e3ef",
   "metadata": {},
   "outputs": [
    {
     "data": {
      "application/vnd.plotly.v1+json": {
       "config": {
        "plotlyServerURL": "https://plot.ly"
       },
       "data": [
        {
         "hovertemplate": "Year=2019<br>Date=%{x}<br>Rating=%{y}<extra></extra>",
         "legendgroup": "2019",
         "line": {
          "color": "#636efa",
          "dash": "solid"
         },
         "marker": {
          "symbol": "circle"
         },
         "mode": "lines",
         "name": "2019",
         "showlegend": true,
         "type": "scattergl",
         "x": [
          "2019-10-30T00:00:00",
          "2019-10-30T00:00:00",
          "2019-10-30T00:00:00",
          "2019-10-31T00:00:00",
          "2019-10-31T00:00:00",
          "2019-10-31T00:00:00",
          "2019-10-31T00:00:00",
          "2019-10-31T00:00:00",
          "2019-10-31T00:00:00",
          "2019-10-31T00:00:00",
          "2019-10-31T00:00:00",
          "2019-10-31T00:00:00",
          "2019-11-01T00:00:00",
          "2019-11-01T00:00:00",
          "2019-11-01T00:00:00",
          "2019-11-01T00:00:00",
          "2019-11-01T00:00:00",
          "2019-11-01T00:00:00",
          "2019-11-01T00:00:00",
          "2019-11-01T00:00:00",
          "2019-11-01T00:00:00",
          "2019-11-01T00:00:00",
          "2019-11-01T00:00:00",
          "2019-11-01T00:00:00",
          "2019-11-01T00:00:00",
          "2019-11-02T00:00:00",
          "2019-11-02T00:00:00",
          "2019-11-02T00:00:00",
          "2019-11-02T00:00:00",
          "2019-11-02T00:00:00",
          "2019-11-02T00:00:00",
          "2019-11-02T00:00:00",
          "2019-11-02T00:00:00",
          "2019-11-03T00:00:00",
          "2019-11-03T00:00:00",
          "2019-11-03T00:00:00",
          "2019-11-04T00:00:00",
          "2019-11-04T00:00:00",
          "2019-11-04T00:00:00",
          "2019-11-05T00:00:00",
          "2019-11-05T00:00:00",
          "2019-11-05T00:00:00",
          "2019-11-06T00:00:00",
          "2019-11-06T00:00:00",
          "2019-11-06T00:00:00",
          "2019-11-06T00:00:00",
          "2019-11-06T00:00:00",
          "2019-11-07T00:00:00",
          "2019-11-07T00:00:00",
          "2019-11-08T00:00:00",
          "2019-11-08T00:00:00"
         ],
         "xaxis": "x",
         "y": [
          1151,
          1238,
          1362,
          1147,
          1041,
          988,
          948,
          915,
          1093,
          null,
          1204,
          889,
          816,
          814,
          798,
          811,
          827,
          827,
          873,
          854,
          828,
          812,
          797,
          818,
          798,
          822,
          811,
          823,
          824,
          829,
          841,
          843,
          834,
          null,
          658,
          810,
          823,
          834,
          826,
          822,
          831,
          810,
          824,
          818,
          816,
          807,
          800,
          793,
          785,
          776,
          771
         ],
         "yaxis": "y"
        },
        {
         "hovertemplate": "Year=2020<br>Date=%{x}<br>Rating=%{y}<extra></extra>",
         "legendgroup": "2020",
         "line": {
          "color": "#EF553B",
          "dash": "solid"
         },
         "marker": {
          "symbol": "circle"
         },
         "mode": "lines",
         "name": "2020",
         "showlegend": true,
         "type": "scattergl",
         "x": [
          "2020-04-23T00:00:00",
          "2020-04-23T00:00:00",
          "2020-04-23T00:00:00",
          "2020-04-23T00:00:00",
          "2020-04-24T00:00:00",
          "2020-04-24T00:00:00",
          "2020-04-24T00:00:00",
          "2020-04-24T00:00:00",
          "2020-04-24T00:00:00",
          "2020-04-24T00:00:00",
          "2020-04-25T00:00:00",
          "2020-04-25T00:00:00",
          "2020-04-25T00:00:00",
          "2020-04-25T00:00:00",
          "2020-04-25T00:00:00",
          "2020-04-25T00:00:00",
          "2020-04-25T00:00:00",
          "2020-04-25T00:00:00",
          "2020-04-25T00:00:00",
          "2020-04-25T00:00:00",
          "2020-04-25T00:00:00",
          "2020-04-25T00:00:00",
          "2020-04-25T00:00:00",
          "2020-04-25T00:00:00",
          "2020-04-25T00:00:00",
          "2020-04-25T00:00:00",
          "2020-04-26T00:00:00",
          "2020-04-26T00:00:00",
          "2020-04-26T00:00:00",
          "2020-04-26T00:00:00",
          "2020-04-26T00:00:00",
          "2020-04-26T00:00:00",
          "2020-04-26T00:00:00",
          "2020-04-26T00:00:00",
          "2020-04-26T00:00:00",
          "2020-04-26T00:00:00",
          "2020-04-26T00:00:00",
          "2020-04-26T00:00:00",
          "2020-04-26T00:00:00",
          "2020-04-27T00:00:00",
          "2020-04-27T00:00:00",
          "2020-04-27T00:00:00",
          "2020-04-27T00:00:00",
          "2020-04-27T00:00:00",
          "2020-04-28T00:00:00",
          "2020-04-28T00:00:00",
          "2020-04-28T00:00:00",
          "2020-04-29T00:00:00",
          "2020-04-29T00:00:00",
          "2020-04-29T00:00:00",
          "2020-04-29T00:00:00",
          "2020-04-29T00:00:00",
          "2020-04-29T00:00:00",
          "2020-04-29T00:00:00",
          "2020-04-29T00:00:00",
          "2020-04-30T00:00:00",
          "2020-04-30T00:00:00",
          "2020-04-30T00:00:00",
          "2020-04-30T00:00:00",
          "2020-05-01T00:00:00",
          "2020-05-01T00:00:00",
          "2020-05-01T00:00:00",
          "2020-05-01T00:00:00",
          "2020-05-01T00:00:00",
          "2020-05-02T00:00:00",
          "2020-05-02T00:00:00",
          "2020-05-02T00:00:00",
          "2020-05-02T00:00:00",
          "2020-05-02T00:00:00",
          "2020-05-02T00:00:00",
          "2020-05-02T00:00:00",
          "2020-05-02T00:00:00",
          "2020-05-02T00:00:00",
          "2020-05-02T00:00:00",
          "2020-05-02T00:00:00",
          "2020-05-02T00:00:00",
          "2020-05-02T00:00:00",
          "2020-05-03T00:00:00",
          "2020-05-03T00:00:00",
          "2020-05-03T00:00:00",
          "2020-05-03T00:00:00",
          "2020-05-03T00:00:00",
          "2020-05-04T00:00:00",
          "2020-05-04T00:00:00",
          "2020-05-04T00:00:00",
          "2020-05-05T00:00:00",
          "2020-05-05T00:00:00",
          "2020-05-05T00:00:00",
          "2020-05-05T00:00:00",
          "2020-05-05T00:00:00",
          "2020-05-05T00:00:00",
          "2020-05-05T00:00:00",
          "2020-05-05T00:00:00",
          "2020-05-06T00:00:00",
          "2020-05-06T00:00:00",
          "2020-05-06T00:00:00",
          "2020-05-06T00:00:00",
          "2020-05-06T00:00:00",
          "2020-05-06T00:00:00",
          "2020-05-06T00:00:00",
          "2020-05-06T00:00:00",
          "2020-05-06T00:00:00",
          "2020-05-06T00:00:00",
          "2020-05-07T00:00:00",
          "2020-05-07T00:00:00",
          "2020-05-07T00:00:00",
          "2020-05-07T00:00:00",
          "2020-05-07T00:00:00",
          "2020-05-07T00:00:00",
          "2020-05-07T00:00:00",
          "2020-05-07T00:00:00",
          "2020-05-07T00:00:00",
          "2020-05-07T00:00:00",
          "2020-05-07T00:00:00",
          "2020-05-07T00:00:00",
          "2020-05-08T00:00:00",
          "2020-05-08T00:00:00",
          "2020-05-08T00:00:00",
          "2020-05-08T00:00:00",
          "2020-05-08T00:00:00",
          "2020-05-08T00:00:00",
          "2020-05-08T00:00:00",
          "2020-05-08T00:00:00",
          "2020-05-08T00:00:00",
          "2020-05-08T00:00:00",
          "2020-05-09T00:00:00",
          "2020-05-09T00:00:00",
          "2020-05-09T00:00:00",
          "2020-05-09T00:00:00",
          "2020-05-09T00:00:00",
          "2020-05-09T00:00:00",
          "2020-05-09T00:00:00",
          "2020-05-10T00:00:00",
          "2020-05-10T00:00:00",
          "2020-05-10T00:00:00",
          "2020-05-10T00:00:00",
          "2020-05-10T00:00:00",
          "2020-05-10T00:00:00",
          "2020-05-10T00:00:00",
          "2020-05-10T00:00:00",
          "2020-05-10T00:00:00",
          "2020-05-10T00:00:00",
          "2020-05-10T00:00:00",
          "2020-05-10T00:00:00",
          "2020-05-11T00:00:00",
          "2020-05-11T00:00:00",
          "2020-05-11T00:00:00",
          "2020-05-11T00:00:00",
          "2020-05-11T00:00:00",
          "2020-05-11T00:00:00",
          "2020-05-11T00:00:00",
          "2020-05-11T00:00:00",
          "2020-05-11T00:00:00",
          "2020-05-11T00:00:00",
          "2020-05-11T00:00:00",
          "2020-05-11T00:00:00",
          "2020-05-11T00:00:00",
          "2020-05-12T00:00:00",
          "2020-05-12T00:00:00",
          "2020-05-12T00:00:00",
          "2020-05-12T00:00:00",
          "2020-05-12T00:00:00",
          "2020-05-12T00:00:00",
          "2020-05-12T00:00:00",
          "2020-05-12T00:00:00",
          "2020-05-12T00:00:00",
          "2020-05-12T00:00:00",
          "2020-05-12T00:00:00",
          "2020-05-12T00:00:00",
          "2020-05-13T00:00:00",
          "2020-05-13T00:00:00",
          "2020-05-13T00:00:00",
          "2020-05-13T00:00:00",
          "2020-05-13T00:00:00",
          "2020-05-13T00:00:00",
          "2020-05-13T00:00:00",
          "2020-05-13T00:00:00",
          "2020-05-13T00:00:00",
          "2020-05-13T00:00:00",
          "2020-05-13T00:00:00",
          "2020-05-13T00:00:00",
          "2020-05-13T00:00:00",
          "2020-05-13T00:00:00",
          "2020-05-14T00:00:00",
          "2020-05-14T00:00:00",
          "2020-05-14T00:00:00",
          "2020-05-14T00:00:00",
          "2020-05-14T00:00:00",
          "2020-05-14T00:00:00",
          "2020-05-15T00:00:00",
          "2020-05-15T00:00:00",
          "2020-05-15T00:00:00",
          "2020-05-15T00:00:00",
          "2020-05-15T00:00:00",
          "2020-05-15T00:00:00",
          "2020-05-15T00:00:00",
          "2020-05-16T00:00:00",
          "2020-05-16T00:00:00",
          "2020-05-16T00:00:00",
          "2020-05-16T00:00:00",
          "2020-05-16T00:00:00",
          "2020-05-16T00:00:00",
          "2020-05-17T00:00:00",
          "2020-05-17T00:00:00",
          "2020-05-17T00:00:00",
          "2020-05-17T00:00:00",
          "2020-05-17T00:00:00",
          "2020-05-17T00:00:00",
          "2020-05-17T00:00:00",
          "2020-05-17T00:00:00",
          "2020-05-18T00:00:00",
          "2020-05-18T00:00:00",
          "2020-05-18T00:00:00",
          "2020-05-18T00:00:00",
          "2020-05-18T00:00:00",
          "2020-05-18T00:00:00",
          "2020-05-18T00:00:00",
          "2020-05-18T00:00:00",
          "2020-05-18T00:00:00",
          "2020-05-19T00:00:00",
          "2020-05-19T00:00:00",
          "2020-05-19T00:00:00",
          "2020-05-19T00:00:00",
          "2020-05-19T00:00:00",
          "2020-05-19T00:00:00",
          "2020-05-19T00:00:00",
          "2020-05-19T00:00:00",
          "2020-05-20T00:00:00",
          "2020-05-20T00:00:00",
          "2020-05-20T00:00:00",
          "2020-05-20T00:00:00",
          "2020-05-20T00:00:00",
          "2020-05-20T00:00:00",
          "2020-05-21T00:00:00",
          "2020-05-21T00:00:00",
          "2020-05-21T00:00:00",
          "2020-05-21T00:00:00",
          "2020-05-21T00:00:00",
          "2020-05-21T00:00:00",
          "2020-05-21T00:00:00",
          "2020-05-21T00:00:00",
          "2020-05-21T00:00:00",
          "2020-05-22T00:00:00",
          "2020-05-22T00:00:00",
          "2020-05-22T00:00:00",
          "2020-05-22T00:00:00",
          "2020-05-22T00:00:00",
          "2020-05-23T00:00:00",
          "2020-05-23T00:00:00",
          "2020-05-23T00:00:00",
          "2020-05-23T00:00:00",
          "2020-05-23T00:00:00",
          "2020-05-23T00:00:00",
          "2020-05-23T00:00:00",
          "2020-05-23T00:00:00",
          "2020-05-24T00:00:00",
          "2020-05-24T00:00:00",
          "2020-05-24T00:00:00",
          "2020-05-24T00:00:00",
          "2020-05-24T00:00:00",
          "2020-05-24T00:00:00",
          "2020-05-24T00:00:00",
          "2020-05-24T00:00:00",
          "2020-05-24T00:00:00",
          "2020-05-25T00:00:00",
          "2020-05-25T00:00:00",
          "2020-05-25T00:00:00",
          "2020-05-25T00:00:00",
          "2020-05-25T00:00:00",
          "2020-05-25T00:00:00",
          "2020-05-25T00:00:00",
          "2020-05-25T00:00:00",
          "2020-05-25T00:00:00",
          "2020-05-25T00:00:00",
          "2020-05-25T00:00:00",
          "2020-05-25T00:00:00",
          "2020-05-25T00:00:00",
          "2020-05-25T00:00:00",
          "2020-05-25T00:00:00",
          "2020-05-25T00:00:00",
          "2020-05-25T00:00:00",
          "2020-05-25T00:00:00",
          "2020-05-25T00:00:00",
          "2020-05-26T00:00:00",
          "2020-05-26T00:00:00",
          "2020-05-26T00:00:00",
          "2020-05-26T00:00:00",
          "2020-05-26T00:00:00",
          "2020-05-26T00:00:00",
          "2020-05-26T00:00:00",
          "2020-05-26T00:00:00",
          "2020-05-26T00:00:00",
          "2020-05-26T00:00:00",
          "2020-05-26T00:00:00",
          "2020-05-26T00:00:00",
          "2020-05-26T00:00:00",
          "2020-05-26T00:00:00",
          "2020-05-26T00:00:00",
          "2020-05-27T00:00:00",
          "2020-05-27T00:00:00",
          "2020-05-27T00:00:00",
          "2020-05-27T00:00:00",
          "2020-05-27T00:00:00",
          "2020-05-27T00:00:00",
          "2020-05-27T00:00:00",
          "2020-05-27T00:00:00",
          "2020-05-28T00:00:00",
          "2020-05-28T00:00:00",
          "2020-05-28T00:00:00",
          "2020-05-28T00:00:00",
          "2020-05-28T00:00:00",
          "2020-05-28T00:00:00",
          "2020-05-28T00:00:00",
          "2020-05-28T00:00:00",
          "2020-05-29T00:00:00",
          "2020-05-29T00:00:00",
          "2020-05-29T00:00:00",
          "2020-05-29T00:00:00",
          "2020-05-29T00:00:00",
          "2020-05-29T00:00:00",
          "2020-05-29T00:00:00",
          "2020-05-29T00:00:00",
          "2020-05-29T00:00:00",
          "2020-05-29T00:00:00",
          "2020-05-29T00:00:00",
          "2020-05-29T00:00:00",
          "2020-05-29T00:00:00",
          "2020-05-29T00:00:00",
          "2020-05-30T00:00:00",
          "2020-05-30T00:00:00",
          "2020-05-30T00:00:00",
          "2020-05-30T00:00:00",
          "2020-05-30T00:00:00",
          "2020-05-30T00:00:00",
          "2020-05-30T00:00:00",
          "2020-05-30T00:00:00",
          "2020-05-30T00:00:00",
          "2020-05-31T00:00:00",
          "2020-05-31T00:00:00",
          "2020-05-31T00:00:00",
          "2020-05-31T00:00:00",
          "2020-05-31T00:00:00",
          "2020-05-31T00:00:00",
          "2020-05-31T00:00:00",
          "2020-05-31T00:00:00",
          "2020-05-31T00:00:00",
          "2020-05-31T00:00:00",
          "2020-05-31T00:00:00",
          "2020-06-01T00:00:00",
          "2020-06-01T00:00:00",
          "2020-06-01T00:00:00",
          "2020-06-01T00:00:00",
          "2020-06-01T00:00:00",
          "2020-06-01T00:00:00",
          "2020-06-01T00:00:00",
          "2020-06-01T00:00:00",
          "2020-06-01T00:00:00",
          "2020-06-02T00:00:00",
          "2020-06-02T00:00:00",
          "2020-06-02T00:00:00",
          "2020-06-02T00:00:00",
          "2020-06-02T00:00:00",
          "2020-06-02T00:00:00",
          "2020-06-02T00:00:00",
          "2020-06-02T00:00:00",
          "2020-06-03T00:00:00",
          "2020-06-03T00:00:00",
          "2020-06-03T00:00:00",
          "2020-06-03T00:00:00",
          "2020-06-03T00:00:00",
          "2020-06-03T00:00:00",
          "2020-06-03T00:00:00",
          "2020-06-04T00:00:00",
          "2020-06-04T00:00:00",
          "2020-06-04T00:00:00",
          "2020-06-04T00:00:00",
          "2020-06-04T00:00:00",
          "2020-06-04T00:00:00",
          "2020-06-04T00:00:00",
          "2020-06-05T00:00:00",
          "2020-06-05T00:00:00",
          "2020-06-05T00:00:00",
          "2020-06-05T00:00:00",
          "2020-06-06T00:00:00",
          "2020-06-06T00:00:00",
          "2020-06-06T00:00:00",
          "2020-06-06T00:00:00",
          "2020-06-06T00:00:00",
          "2020-06-06T00:00:00",
          "2020-06-06T00:00:00",
          "2020-06-06T00:00:00",
          "2020-06-06T00:00:00",
          "2020-06-07T00:00:00",
          "2020-06-07T00:00:00",
          "2020-06-07T00:00:00",
          "2020-06-07T00:00:00",
          "2020-06-07T00:00:00",
          "2020-06-07T00:00:00",
          "2020-06-07T00:00:00",
          "2020-06-07T00:00:00",
          "2020-06-07T00:00:00",
          "2020-06-08T00:00:00",
          "2020-06-08T00:00:00",
          "2020-06-09T00:00:00",
          "2020-06-09T00:00:00",
          "2020-06-09T00:00:00",
          "2020-06-09T00:00:00",
          "2020-06-10T00:00:00",
          "2020-06-10T00:00:00",
          "2020-06-10T00:00:00",
          "2020-06-11T00:00:00",
          "2020-06-11T00:00:00",
          "2020-06-11T00:00:00",
          "2020-06-11T00:00:00",
          "2020-06-12T00:00:00",
          "2020-06-12T00:00:00",
          "2020-06-13T00:00:00",
          "2020-06-13T00:00:00",
          "2020-06-13T00:00:00",
          "2020-06-13T00:00:00",
          "2020-06-13T00:00:00",
          "2020-06-13T00:00:00",
          "2020-06-14T00:00:00",
          "2020-06-14T00:00:00",
          "2020-06-14T00:00:00",
          "2020-06-14T00:00:00",
          "2020-06-14T00:00:00",
          "2020-06-14T00:00:00",
          "2020-06-14T00:00:00",
          "2020-06-14T00:00:00",
          "2020-06-14T00:00:00",
          "2020-06-14T00:00:00",
          "2020-06-14T00:00:00",
          "2020-06-15T00:00:00",
          "2020-06-15T00:00:00",
          "2020-06-15T00:00:00",
          "2020-06-15T00:00:00",
          "2020-06-16T00:00:00",
          "2020-06-16T00:00:00",
          "2020-06-16T00:00:00",
          "2020-06-16T00:00:00",
          "2020-06-16T00:00:00",
          "2020-06-16T00:00:00",
          "2020-06-16T00:00:00",
          "2020-06-17T00:00:00",
          "2020-06-17T00:00:00",
          "2020-06-17T00:00:00",
          "2020-06-17T00:00:00",
          "2020-06-17T00:00:00",
          "2020-06-17T00:00:00",
          "2020-06-17T00:00:00",
          "2020-06-17T00:00:00",
          "2020-06-18T00:00:00",
          "2020-06-18T00:00:00",
          "2020-06-18T00:00:00",
          "2020-06-18T00:00:00",
          "2020-06-18T00:00:00",
          "2020-06-18T00:00:00",
          "2020-06-18T00:00:00",
          "2020-06-19T00:00:00",
          "2020-06-19T00:00:00",
          "2020-06-19T00:00:00",
          "2020-06-19T00:00:00",
          "2020-06-19T00:00:00",
          "2020-06-19T00:00:00",
          "2020-06-19T00:00:00",
          "2020-06-19T00:00:00",
          "2020-06-19T00:00:00",
          "2020-06-19T00:00:00",
          "2020-06-20T00:00:00",
          "2020-06-20T00:00:00",
          "2020-06-20T00:00:00",
          "2020-06-20T00:00:00",
          "2020-06-20T00:00:00",
          "2020-06-20T00:00:00",
          "2020-06-20T00:00:00",
          "2020-06-20T00:00:00",
          "2020-06-20T00:00:00",
          "2020-06-20T00:00:00",
          "2020-06-20T00:00:00",
          "2020-06-20T00:00:00",
          "2020-06-21T00:00:00",
          "2020-06-21T00:00:00",
          "2020-06-22T00:00:00",
          "2020-06-22T00:00:00",
          "2020-06-23T00:00:00",
          "2020-06-23T00:00:00",
          "2020-06-23T00:00:00",
          "2020-06-23T00:00:00",
          "2020-06-23T00:00:00",
          "2020-06-23T00:00:00",
          "2020-06-24T00:00:00",
          "2020-06-24T00:00:00",
          "2020-06-24T00:00:00",
          "2020-06-24T00:00:00",
          "2020-06-25T00:00:00",
          "2020-06-25T00:00:00",
          "2020-06-25T00:00:00",
          "2020-06-25T00:00:00",
          "2020-06-25T00:00:00",
          "2020-06-25T00:00:00",
          "2020-06-26T00:00:00",
          "2020-06-26T00:00:00",
          "2020-06-26T00:00:00",
          "2020-06-27T00:00:00",
          "2020-06-27T00:00:00",
          "2020-06-27T00:00:00",
          "2020-06-27T00:00:00",
          "2020-06-28T00:00:00",
          "2020-06-28T00:00:00",
          "2020-06-28T00:00:00",
          "2020-06-28T00:00:00",
          "2020-06-28T00:00:00",
          "2020-06-28T00:00:00",
          "2020-06-28T00:00:00",
          "2020-06-28T00:00:00",
          "2020-06-28T00:00:00",
          "2020-06-28T00:00:00",
          "2020-06-28T00:00:00",
          "2020-06-28T00:00:00",
          "2020-06-29T00:00:00",
          "2020-06-29T00:00:00",
          "2020-06-29T00:00:00",
          "2020-06-29T00:00:00",
          "2020-06-29T00:00:00",
          "2020-06-29T00:00:00",
          "2020-06-29T00:00:00",
          "2020-06-29T00:00:00",
          "2020-06-29T00:00:00",
          "2020-06-30T00:00:00",
          "2020-06-30T00:00:00",
          "2020-06-30T00:00:00",
          "2020-06-30T00:00:00",
          "2020-06-30T00:00:00",
          "2020-06-30T00:00:00",
          "2020-06-30T00:00:00",
          "2020-06-30T00:00:00",
          "2020-06-30T00:00:00",
          "2020-06-30T00:00:00",
          "2020-07-01T00:00:00",
          "2020-07-01T00:00:00",
          "2020-07-01T00:00:00",
          "2020-07-01T00:00:00",
          "2020-07-01T00:00:00",
          "2020-07-01T00:00:00",
          "2020-07-02T00:00:00",
          "2020-07-02T00:00:00",
          "2020-07-02T00:00:00",
          "2020-07-02T00:00:00",
          "2020-07-03T00:00:00",
          "2020-07-03T00:00:00",
          "2020-07-03T00:00:00",
          "2020-07-03T00:00:00",
          "2020-07-03T00:00:00",
          "2020-07-03T00:00:00",
          "2020-07-03T00:00:00",
          "2020-07-03T00:00:00",
          "2020-07-04T00:00:00",
          "2020-07-04T00:00:00",
          "2020-07-04T00:00:00",
          "2020-07-04T00:00:00",
          "2020-07-04T00:00:00",
          "2020-07-04T00:00:00",
          "2020-07-05T00:00:00",
          "2020-07-05T00:00:00",
          "2020-07-05T00:00:00",
          "2020-07-05T00:00:00",
          "2020-07-05T00:00:00",
          "2020-07-05T00:00:00",
          "2020-07-05T00:00:00",
          "2020-07-06T00:00:00",
          "2020-07-06T00:00:00",
          "2020-07-06T00:00:00",
          "2020-07-06T00:00:00",
          "2020-07-06T00:00:00",
          "2020-07-06T00:00:00",
          "2020-07-06T00:00:00",
          "2020-07-06T00:00:00",
          "2020-07-06T00:00:00",
          "2020-07-07T00:00:00",
          "2020-07-07T00:00:00",
          "2020-07-07T00:00:00",
          "2020-07-07T00:00:00",
          "2020-07-07T00:00:00",
          "2020-07-07T00:00:00",
          "2020-07-07T00:00:00",
          "2020-07-07T00:00:00",
          "2020-07-08T00:00:00",
          "2020-07-08T00:00:00",
          "2020-07-08T00:00:00",
          "2020-07-08T00:00:00",
          "2020-07-08T00:00:00",
          "2020-07-08T00:00:00",
          "2020-07-08T00:00:00",
          "2020-07-08T00:00:00",
          "2020-07-08T00:00:00",
          "2020-07-09T00:00:00",
          "2020-07-09T00:00:00",
          "2020-07-09T00:00:00",
          "2020-07-09T00:00:00",
          "2020-07-09T00:00:00",
          "2020-07-09T00:00:00",
          "2020-07-10T00:00:00",
          "2020-07-10T00:00:00",
          "2020-07-10T00:00:00",
          "2020-07-11T00:00:00",
          "2020-07-12T00:00:00",
          "2020-07-12T00:00:00",
          "2020-07-13T00:00:00",
          "2020-07-13T00:00:00",
          "2020-07-13T00:00:00",
          "2020-07-13T00:00:00",
          "2020-07-14T00:00:00",
          "2020-07-15T00:00:00",
          "2020-07-15T00:00:00",
          "2020-07-16T00:00:00",
          "2020-07-16T00:00:00",
          "2020-07-16T00:00:00",
          "2020-07-16T00:00:00",
          "2020-07-16T00:00:00",
          "2020-07-16T00:00:00",
          "2020-07-17T00:00:00",
          "2020-07-17T00:00:00",
          "2020-07-17T00:00:00",
          "2020-07-18T00:00:00",
          "2020-07-18T00:00:00",
          "2020-07-18T00:00:00",
          "2020-07-18T00:00:00",
          "2020-07-19T00:00:00",
          "2020-07-19T00:00:00",
          "2020-07-20T00:00:00",
          "2020-07-20T00:00:00",
          "2020-07-20T00:00:00",
          "2020-07-20T00:00:00",
          "2020-07-21T00:00:00",
          "2020-07-21T00:00:00",
          "2020-07-21T00:00:00",
          "2020-07-22T00:00:00",
          "2020-07-22T00:00:00",
          "2020-07-22T00:00:00",
          "2020-07-23T00:00:00",
          "2020-07-25T00:00:00",
          "2020-07-25T00:00:00",
          "2020-07-25T00:00:00",
          "2020-07-26T00:00:00",
          "2020-07-26T00:00:00",
          "2020-07-26T00:00:00",
          "2020-07-27T00:00:00",
          "2020-07-27T00:00:00",
          "2020-07-27T00:00:00",
          "2020-07-28T00:00:00",
          "2020-07-28T00:00:00",
          "2020-07-28T00:00:00",
          "2020-07-29T00:00:00",
          "2020-07-29T00:00:00",
          "2020-07-30T00:00:00",
          "2020-07-30T00:00:00",
          "2020-07-30T00:00:00",
          "2020-07-30T00:00:00",
          "2020-07-31T00:00:00",
          "2020-07-31T00:00:00",
          "2020-07-31T00:00:00",
          "2020-08-01T00:00:00",
          "2020-08-01T00:00:00",
          "2020-08-02T00:00:00",
          "2020-08-02T00:00:00",
          "2020-08-03T00:00:00",
          "2020-08-03T00:00:00",
          "2020-08-03T00:00:00",
          "2020-08-03T00:00:00",
          "2020-08-03T00:00:00",
          "2020-08-04T00:00:00",
          "2020-08-04T00:00:00",
          "2020-08-05T00:00:00",
          "2020-08-06T00:00:00",
          "2020-08-06T00:00:00",
          "2020-08-07T00:00:00",
          "2020-08-07T00:00:00",
          "2020-08-07T00:00:00",
          "2020-08-08T00:00:00",
          "2020-08-08T00:00:00",
          "2020-08-08T00:00:00",
          "2020-08-09T00:00:00",
          "2020-08-09T00:00:00",
          "2020-08-10T00:00:00",
          "2020-08-10T00:00:00",
          "2020-08-10T00:00:00",
          "2020-08-11T00:00:00",
          "2020-08-11T00:00:00",
          "2020-08-12T00:00:00",
          "2020-08-13T00:00:00",
          "2020-08-13T00:00:00",
          "2020-08-13T00:00:00",
          "2020-08-13T00:00:00",
          "2020-08-14T00:00:00",
          "2020-08-14T00:00:00",
          "2020-08-14T00:00:00",
          "2020-08-14T00:00:00",
          "2020-08-19T00:00:00",
          "2020-08-19T00:00:00",
          "2020-08-19T00:00:00",
          "2020-08-20T00:00:00",
          "2020-08-27T00:00:00",
          "2020-08-28T00:00:00",
          "2020-08-28T00:00:00",
          "2020-08-28T00:00:00",
          "2020-08-30T00:00:00",
          "2020-08-30T00:00:00",
          "2020-08-30T00:00:00",
          "2020-08-31T00:00:00",
          "2020-08-31T00:00:00",
          "2020-09-01T00:00:00",
          "2020-09-01T00:00:00",
          "2020-09-03T00:00:00",
          "2020-09-04T00:00:00",
          "2020-09-05T00:00:00",
          "2020-09-08T00:00:00",
          "2020-09-17T00:00:00",
          "2020-09-18T00:00:00",
          "2020-09-18T00:00:00",
          "2020-09-18T00:00:00",
          "2020-09-18T00:00:00",
          "2020-10-05T00:00:00",
          "2020-10-11T00:00:00",
          "2020-10-11T00:00:00",
          "2020-10-29T00:00:00",
          "2020-11-02T00:00:00",
          "2020-11-18T00:00:00",
          "2020-11-18T00:00:00",
          "2020-11-20T00:00:00",
          "2020-11-22T00:00:00",
          "2020-11-24T00:00:00",
          "2020-11-24T00:00:00",
          "2020-11-24T00:00:00",
          "2020-11-25T00:00:00",
          "2020-11-26T00:00:00",
          "2020-11-26T00:00:00",
          "2020-11-26T00:00:00",
          "2020-11-26T00:00:00",
          "2020-11-26T00:00:00",
          "2020-11-27T00:00:00",
          "2020-11-27T00:00:00",
          "2020-11-27T00:00:00",
          "2020-11-28T00:00:00",
          "2020-11-28T00:00:00",
          "2020-11-28T00:00:00",
          "2020-11-28T00:00:00",
          "2020-11-28T00:00:00",
          "2020-11-29T00:00:00",
          "2020-11-29T00:00:00",
          "2020-11-30T00:00:00",
          "2020-11-30T00:00:00",
          "2020-12-01T00:00:00",
          "2020-12-01T00:00:00",
          "2020-12-01T00:00:00",
          "2020-12-01T00:00:00",
          "2020-12-01T00:00:00",
          "2020-12-01T00:00:00",
          "2020-12-01T00:00:00",
          "2020-12-01T00:00:00",
          "2020-12-01T00:00:00",
          "2020-12-01T00:00:00",
          "2020-12-01T00:00:00",
          "2020-12-01T00:00:00",
          "2020-12-01T00:00:00",
          "2020-12-01T00:00:00",
          "2020-12-01T00:00:00",
          "2020-12-01T00:00:00",
          "2020-12-01T00:00:00",
          "2020-12-01T00:00:00",
          "2020-12-01T00:00:00",
          "2020-12-01T00:00:00",
          "2020-12-02T00:00:00",
          "2020-12-04T00:00:00",
          "2020-12-04T00:00:00",
          "2020-12-05T00:00:00",
          "2020-12-05T00:00:00",
          "2020-12-06T00:00:00",
          "2020-12-06T00:00:00",
          "2020-12-06T00:00:00",
          "2020-12-06T00:00:00",
          "2020-12-07T00:00:00",
          "2020-12-07T00:00:00",
          "2020-12-07T00:00:00",
          "2020-12-08T00:00:00",
          "2020-12-08T00:00:00",
          "2020-12-09T00:00:00",
          "2020-12-09T00:00:00",
          "2020-12-10T00:00:00",
          "2020-12-11T00:00:00",
          "2020-12-11T00:00:00",
          "2020-12-11T00:00:00",
          "2020-12-12T00:00:00",
          "2020-12-13T00:00:00",
          "2020-12-13T00:00:00",
          "2020-12-14T00:00:00",
          "2020-12-14T00:00:00",
          "2020-12-14T00:00:00",
          "2020-12-15T00:00:00",
          "2020-12-15T00:00:00",
          "2020-12-15T00:00:00",
          "2020-12-16T00:00:00",
          "2020-12-16T00:00:00",
          "2020-12-16T00:00:00",
          "2020-12-16T00:00:00",
          "2020-12-16T00:00:00",
          "2020-12-17T00:00:00",
          "2020-12-17T00:00:00",
          "2020-12-17T00:00:00",
          "2020-12-17T00:00:00",
          "2020-12-18T00:00:00",
          "2020-12-18T00:00:00",
          "2020-12-18T00:00:00",
          "2020-12-19T00:00:00",
          "2020-12-19T00:00:00",
          "2020-12-19T00:00:00",
          "2020-12-20T00:00:00",
          "2020-12-21T00:00:00",
          "2020-12-21T00:00:00",
          "2020-12-22T00:00:00",
          "2020-12-22T00:00:00",
          "2020-12-24T00:00:00",
          "2020-12-26T00:00:00",
          "2020-12-26T00:00:00",
          "2020-12-26T00:00:00",
          "2020-12-27T00:00:00",
          "2020-12-27T00:00:00",
          "2020-12-27T00:00:00",
          "2020-12-28T00:00:00",
          "2020-12-28T00:00:00",
          "2020-12-28T00:00:00",
          "2020-12-28T00:00:00",
          "2020-12-28T00:00:00",
          "2020-12-28T00:00:00",
          "2020-12-29T00:00:00",
          "2020-12-29T00:00:00",
          "2020-12-29T00:00:00",
          "2020-12-30T00:00:00",
          "2020-12-30T00:00:00",
          "2020-12-30T00:00:00",
          "2020-12-30T00:00:00",
          "2020-12-30T00:00:00",
          "2020-12-30T00:00:00",
          "2020-12-30T00:00:00",
          "2020-12-30T00:00:00",
          "2020-12-31T00:00:00",
          "2020-12-31T00:00:00",
          "2020-12-31T00:00:00",
          "2020-12-31T00:00:00",
          "2020-12-31T00:00:00",
          "2020-12-31T00:00:00",
          "2020-12-31T00:00:00",
          "2020-12-31T00:00:00"
         ],
         "xaxis": "x",
         "y": [
          752,
          771,
          736,
          746,
          752,
          774,
          791,
          780,
          795,
          782,
          772,
          728,
          740,
          749,
          740,
          729,
          738,
          749,
          797,
          784,
          737,
          782,
          791,
          807,
          795,
          760,
          737,
          728,
          746,
          736,
          694,
          721,
          713,
          703,
          695,
          686,
          728,
          703,
          694,
          703,
          710,
          719,
          727,
          720,
          743,
          736,
          728,
          735,
          725,
          733,
          725,
          716,
          725,
          716,
          724,
          732,
          725,
          718,
          711,
          712,
          712,
          720,
          719,
          720,
          728,
          736,
          729,
          739,
          731,
          733,
          741,
          732,
          725,
          733,
          741,
          733,
          724,
          710,
          717,
          1021,
          726,
          null,
          717,
          726,
          719,
          721,
          729,
          720,
          728,
          730,
          738,
          746,
          755,
          732,
          740,
          731,
          723,
          748,
          740,
          749,
          740,
          747,
          747,
          781,
          764,
          772,
          789,
          773,
          766,
          781,
          749,
          741,
          732,
          739,
          758,
          781,
          784,
          771,
          763,
          771,
          779,
          787,
          780,
          772,
          773,
          770,
          777,
          761,
          754,
          763,
          770,
          777,
          770,
          762,
          754,
          761,
          761,
          769,
          776,
          753,
          753,
          760,
          768,
          761,
          743,
          735,
          727,
          735,
          742,
          734,
          745,
          736,
          753,
          760,
          768,
          751,
          727,
          759,
          751,
          743,
          735,
          768,
          743,
          760,
          742,
          750,
          759,
          751,
          744,
          732,
          741,
          748,
          747,
          738,
          745,
          754,
          739,
          769,
          777,
          785,
          777,
          769,
          761,
          731,
          739,
          748,
          740,
          740,
          731,
          740,
          758,
          750,
          741,
          750,
          743,
          749,
          734,
          735,
          742,
          734,
          741,
          742,
          765,
          758,
          750,
          748,
          739,
          731,
          723,
          756,
          714,
          721,
          722,
          713,
          723,
          715,
          715,
          731,
          724,
          722,
          730,
          739,
          747,
          740,
          732,
          740,
          747,
          756,
          739,
          747,
          754,
          762,
          756,
          789,
          780,
          780,
          773,
          765,
          758,
          750,
          743,
          750,
          796,
          805,
          798,
          805,
          796,
          797,
          790,
          807,
          815,
          823,
          830,
          823,
          830,
          872,
          865,
          856,
          839,
          848,
          839,
          846,
          839,
          847,
          909,
          875,
          883,
          876,
          884,
          901,
          894,
          902,
          900,
          894,
          900,
          893,
          886,
          895,
          888,
          880,
          872,
          879,
          908,
          919,
          912,
          919,
          927,
          918,
          909,
          908,
          900,
          906,
          898,
          889,
          897,
          890,
          882,
          899,
          951,
          942,
          934,
          926,
          926,
          934,
          926,
          934,
          955,
          972,
          963,
          970,
          953,
          962,
          963,
          944,
          930,
          930,
          922,
          930,
          937,
          945,
          938,
          959,
          967,
          975,
          967,
          974,
          965,
          953,
          907,
          898,
          906,
          914,
          914,
          906,
          914,
          922,
          922,
          907,
          906,
          898,
          899,
          916,
          907,
          916,
          908,
          915,
          915,
          908,
          881,
          889,
          889,
          890,
          881,
          890,
          899,
          906,
          898,
          881,
          889,
          881,
          889,
          897,
          905,
          897,
          905,
          938,
          930,
          946,
          914,
          922,
          938,
          null,
          947,
          938,
          946,
          954,
          954,
          946,
          946,
          954,
          962,
          954,
          946,
          961,
          953,
          953,
          961,
          938,
          946,
          938,
          null,
          945,
          969,
          985,
          977,
          985,
          993,
          985,
          977,
          969,
          977,
          961,
          969,
          961,
          953,
          945,
          937,
          936,
          929,
          928,
          936,
          928,
          928,
          920,
          944,
          936,
          926,
          935,
          927,
          918,
          928,
          936,
          929,
          945,
          953,
          938,
          936,
          945,
          938,
          945,
          936,
          927,
          945,
          937,
          929,
          936,
          943,
          960,
          935,
          944,
          951,
          960,
          968,
          951,
          null,
          960,
          952,
          960,
          953,
          961,
          969,
          962,
          961,
          969,
          978,
          968,
          978,
          970,
          970,
          966,
          976,
          984,
          976,
          968,
          975,
          973,
          966,
          975,
          984,
          935,
          935,
          921,
          944,
          928,
          936,
          943,
          950,
          958,
          943,
          967,
          975,
          929,
          920,
          911,
          919,
          933,
          941,
          928,
          935,
          934,
          926,
          941,
          949,
          941,
          948,
          963,
          955,
          948,
          955,
          940,
          963,
          972,
          971,
          964,
          980,
          988,
          996,
          1005,
          965,
          973,
          964,
          956,
          949,
          957,
          997,
          989,
          981,
          972,
          965,
          965,
          894,
          909,
          917,
          925,
          901,
          926,
          933,
          942,
          934,
          884,
          893,
          901,
          909,
          918,
          910,
          894,
          886,
          895,
          902,
          876,
          885,
          867,
          884,
          891,
          876,
          892,
          885,
          876,
          868,
          854,
          846,
          853,
          847,
          862,
          870,
          877,
          855,
          831,
          839,
          832,
          841,
          848,
          839,
          846,
          854,
          838,
          855,
          null,
          838,
          846,
          870,
          855,
          863,
          871,
          863,
          871,
          871,
          863,
          862,
          null,
          887,
          879,
          887,
          null,
          894,
          879,
          887,
          888,
          896,
          895,
          903,
          903,
          896,
          911,
          894,
          887,
          904,
          null,
          896,
          888,
          895,
          896,
          903,
          911,
          917,
          925,
          933,
          940,
          955,
          955,
          947,
          948,
          956,
          964,
          972,
          980,
          973,
          981,
          980,
          977,
          968,
          960,
          952,
          959,
          967,
          959,
          967,
          959,
          967,
          958,
          975,
          967,
          967,
          975,
          967,
          976,
          984,
          977,
          986,
          979,
          970,
          979,
          986,
          978,
          986,
          979,
          971,
          963,
          972,
          981,
          967,
          974,
          975,
          983,
          976,
          969,
          962,
          969,
          977,
          970,
          null,
          978,
          969,
          978,
          985,
          994,
          1004,
          1012,
          995,
          987,
          995,
          1019,
          1010,
          1018,
          1025,
          1032,
          1040,
          1032,
          1041,
          1040,
          1032,
          1032,
          1047,
          1039,
          1031,
          1031,
          1022,
          1049,
          1040,
          1056,
          1048,
          1048,
          1040,
          1040,
          1032,
          1024,
          1031,
          1038,
          1029,
          1021,
          1013,
          1013,
          1021,
          1007,
          1015,
          1014,
          1008,
          999,
          991,
          982,
          990,
          982,
          990,
          982,
          989,
          981,
          989,
          940,
          944,
          985,
          1020,
          982,
          1049,
          1070,
          1061,
          1041,
          1011,
          1011,
          985,
          1036,
          1058,
          1037,
          1018,
          1001,
          1017,
          1031,
          1016,
          1033,
          1019,
          1036,
          1044,
          1029,
          1043,
          1041,
          1043,
          1030,
          1053,
          1030,
          1043,
          1054,
          1054,
          1043,
          1079,
          1088,
          1074,
          1069,
          1064,
          1067,
          1062,
          1071,
          1082,
          1070,
          1077,
          1068,
          1055,
          1052,
          1072,
          1064,
          1052,
          1044,
          1035,
          1045,
          1086,
          1078,
          1086,
          1095,
          1087,
          1095,
          1103,
          1111,
          1103,
          1095,
          1112,
          1103,
          1111,
          1104,
          1112,
          1120,
          1112,
          1104,
          1112,
          1120,
          1128,
          1127,
          1135,
          1119,
          1126,
          1118,
          1109,
          1115,
          1108,
          1108,
          1125,
          1116,
          1125,
          1133,
          1133,
          1125,
          1133,
          1125,
          1134,
          1127,
          1136,
          1160,
          1145,
          1153,
          1167,
          1176,
          1185,
          1176,
          1167,
          1159,
          1166,
          1158,
          1165,
          1157,
          1148,
          1141,
          1162,
          1155,
          1148,
          1140,
          1148,
          1148,
          1153,
          1145,
          1138,
          1130,
          1153,
          1145,
          1137,
          1129,
          1122,
          1121,
          1130,
          1136,
          1129,
          1121,
          1129,
          1146,
          1129,
          1138,
          1136
         ],
         "yaxis": "y"
        },
        {
         "hovertemplate": "Year=2021<br>Date=%{x}<br>Rating=%{y}<extra></extra>",
         "legendgroup": "2021",
         "line": {
          "color": "#00cc96",
          "dash": "solid"
         },
         "marker": {
          "symbol": "circle"
         },
         "mode": "lines",
         "name": "2021",
         "showlegend": true,
         "type": "scattergl",
         "x": [
          "2021-01-01T00:00:00",
          "2021-01-01T00:00:00",
          "2021-01-01T00:00:00",
          "2021-01-01T00:00:00",
          "2021-01-01T00:00:00",
          "2021-01-01T00:00:00",
          "2021-01-02T00:00:00",
          "2021-01-02T00:00:00",
          "2021-01-03T00:00:00",
          "2021-01-03T00:00:00",
          "2021-01-03T00:00:00",
          "2021-01-03T00:00:00",
          "2021-01-03T00:00:00",
          "2021-01-04T00:00:00",
          "2021-01-04T00:00:00",
          "2021-01-04T00:00:00",
          "2021-01-05T00:00:00",
          "2021-01-05T00:00:00",
          "2021-01-06T00:00:00",
          "2021-01-06T00:00:00",
          "2021-01-06T00:00:00",
          "2021-01-07T00:00:00",
          "2021-01-07T00:00:00",
          "2021-01-08T00:00:00",
          "2021-01-08T00:00:00",
          "2021-01-08T00:00:00",
          "2021-01-08T00:00:00",
          "2021-01-09T00:00:00",
          "2021-01-09T00:00:00",
          "2021-01-09T00:00:00",
          "2021-01-11T00:00:00",
          "2021-01-11T00:00:00",
          "2021-01-12T00:00:00",
          "2021-01-12T00:00:00",
          "2021-01-13T00:00:00",
          "2021-01-14T00:00:00",
          "2021-01-14T00:00:00",
          "2021-01-14T00:00:00",
          "2021-01-14T00:00:00",
          "2021-01-14T00:00:00",
          "2021-01-14T00:00:00",
          "2021-01-15T00:00:00",
          "2021-01-16T00:00:00",
          "2021-01-17T00:00:00",
          "2021-01-18T00:00:00",
          "2021-01-19T00:00:00",
          "2021-01-19T00:00:00",
          "2021-01-20T00:00:00",
          "2021-01-20T00:00:00",
          "2021-01-20T00:00:00",
          "2021-01-22T00:00:00",
          "2021-01-22T00:00:00",
          "2021-01-23T00:00:00",
          "2021-01-23T00:00:00",
          "2021-01-24T00:00:00",
          "2021-01-24T00:00:00",
          "2021-01-25T00:00:00",
          "2021-01-25T00:00:00",
          "2021-01-25T00:00:00",
          "2021-01-25T00:00:00",
          "2021-01-26T00:00:00",
          "2021-01-26T00:00:00",
          "2021-01-27T00:00:00",
          "2021-01-28T00:00:00",
          "2021-01-30T00:00:00",
          "2021-01-30T00:00:00",
          "2021-01-31T00:00:00",
          "2021-02-01T00:00:00",
          "2021-02-01T00:00:00",
          "2021-02-02T00:00:00",
          "2021-02-02T00:00:00",
          "2021-02-03T00:00:00",
          "2021-02-03T00:00:00",
          "2021-02-04T00:00:00",
          "2021-02-04T00:00:00",
          "2021-02-04T00:00:00",
          "2021-02-05T00:00:00",
          "2021-02-07T00:00:00",
          "2021-02-07T00:00:00",
          "2021-02-07T00:00:00",
          "2021-02-07T00:00:00",
          "2021-02-08T00:00:00",
          "2021-02-08T00:00:00",
          "2021-02-09T00:00:00",
          "2021-02-09T00:00:00",
          "2021-02-10T00:00:00",
          "2021-02-11T00:00:00",
          "2021-02-12T00:00:00",
          "2021-02-12T00:00:00",
          "2021-02-12T00:00:00",
          "2021-02-13T00:00:00",
          "2021-02-13T00:00:00",
          "2021-02-13T00:00:00",
          "2021-02-14T00:00:00",
          "2021-02-15T00:00:00",
          "2021-02-15T00:00:00",
          "2021-02-18T00:00:00",
          "2021-02-18T00:00:00",
          "2021-02-18T00:00:00",
          "2021-02-18T00:00:00",
          "2021-02-20T00:00:00",
          "2021-02-20T00:00:00",
          "2021-02-20T00:00:00",
          "2021-02-21T00:00:00",
          "2021-02-21T00:00:00",
          "2021-02-21T00:00:00",
          "2021-02-22T00:00:00",
          "2021-02-22T00:00:00",
          "2021-02-23T00:00:00",
          "2021-02-23T00:00:00",
          "2021-02-24T00:00:00",
          "2021-02-24T00:00:00",
          "2021-02-25T00:00:00",
          "2021-02-26T00:00:00",
          "2021-02-28T00:00:00",
          "2021-03-01T00:00:00",
          "2021-03-01T00:00:00",
          "2021-03-02T00:00:00",
          "2021-03-03T00:00:00",
          "2021-03-03T00:00:00",
          "2021-03-04T00:00:00",
          "2021-03-04T00:00:00",
          "2021-03-04T00:00:00",
          "2021-03-05T00:00:00",
          "2021-03-05T00:00:00",
          "2021-03-05T00:00:00",
          "2021-03-05T00:00:00",
          "2021-03-06T00:00:00",
          "2021-03-07T00:00:00",
          "2021-03-07T00:00:00",
          "2021-03-08T00:00:00",
          "2021-03-08T00:00:00",
          "2021-03-08T00:00:00",
          "2021-03-09T00:00:00",
          "2021-03-09T00:00:00",
          "2021-03-12T00:00:00",
          "2021-03-12T00:00:00",
          "2021-03-14T00:00:00",
          "2021-03-14T00:00:00",
          "2021-03-14T00:00:00",
          "2021-03-14T00:00:00",
          "2021-03-14T00:00:00",
          "2021-03-16T00:00:00",
          "2021-03-16T00:00:00",
          "2021-03-16T00:00:00",
          "2021-03-17T00:00:00",
          "2021-03-17T00:00:00",
          "2021-03-17T00:00:00",
          "2021-03-17T00:00:00",
          "2021-03-17T00:00:00",
          "2021-03-18T00:00:00",
          "2021-03-18T00:00:00",
          "2021-03-18T00:00:00",
          "2021-03-19T00:00:00",
          "2021-03-19T00:00:00",
          "2021-03-19T00:00:00",
          "2021-03-20T00:00:00",
          "2021-03-20T00:00:00",
          "2021-03-20T00:00:00",
          "2021-03-20T00:00:00",
          "2021-03-20T00:00:00",
          "2021-03-20T00:00:00",
          "2021-03-20T00:00:00",
          "2021-03-21T00:00:00",
          "2021-03-21T00:00:00",
          "2021-03-21T00:00:00",
          "2021-03-21T00:00:00",
          "2021-03-21T00:00:00",
          "2021-03-22T00:00:00",
          "2021-03-22T00:00:00",
          "2021-03-22T00:00:00",
          "2021-03-22T00:00:00",
          "2021-03-22T00:00:00",
          "2021-03-22T00:00:00",
          "2021-03-23T00:00:00",
          "2021-03-23T00:00:00",
          "2021-03-23T00:00:00",
          "2021-03-23T00:00:00",
          "2021-03-23T00:00:00",
          "2021-03-23T00:00:00",
          "2021-03-24T00:00:00",
          "2021-03-24T00:00:00",
          "2021-03-24T00:00:00",
          "2021-03-24T00:00:00",
          "2021-03-24T00:00:00",
          "2021-03-24T00:00:00",
          "2021-03-25T00:00:00",
          "2021-03-25T00:00:00",
          "2021-03-25T00:00:00",
          "2021-03-26T00:00:00",
          "2021-03-26T00:00:00",
          "2021-03-26T00:00:00",
          "2021-03-26T00:00:00",
          "2021-03-26T00:00:00",
          "2021-03-26T00:00:00",
          "2021-03-26T00:00:00",
          "2021-03-26T00:00:00",
          "2021-03-26T00:00:00",
          "2021-03-26T00:00:00",
          "2021-03-26T00:00:00",
          "2021-03-26T00:00:00",
          "2021-03-26T00:00:00",
          "2021-03-26T00:00:00",
          "2021-03-26T00:00:00",
          "2021-03-27T00:00:00",
          "2021-03-27T00:00:00",
          "2021-03-27T00:00:00",
          "2021-03-27T00:00:00",
          "2021-03-27T00:00:00",
          "2021-03-27T00:00:00",
          "2021-03-27T00:00:00",
          "2021-03-27T00:00:00",
          "2021-03-28T00:00:00",
          "2021-03-28T00:00:00",
          "2021-03-28T00:00:00",
          "2021-03-28T00:00:00",
          "2021-03-28T00:00:00",
          "2021-03-28T00:00:00",
          "2021-03-28T00:00:00",
          "2021-03-28T00:00:00",
          "2021-03-28T00:00:00",
          "2021-03-28T00:00:00",
          "2021-03-28T00:00:00",
          "2021-03-28T00:00:00",
          "2021-03-28T00:00:00",
          "2021-03-28T00:00:00",
          "2021-03-28T00:00:00",
          "2021-03-28T00:00:00",
          "2021-03-28T00:00:00",
          "2021-03-29T00:00:00",
          "2021-03-29T00:00:00",
          "2021-03-29T00:00:00",
          "2021-03-29T00:00:00",
          "2021-03-29T00:00:00",
          "2021-03-29T00:00:00",
          "2021-03-29T00:00:00",
          "2021-03-29T00:00:00",
          "2021-03-29T00:00:00",
          "2021-03-29T00:00:00",
          "2021-03-29T00:00:00",
          "2021-03-29T00:00:00",
          "2021-03-29T00:00:00",
          "2021-03-29T00:00:00",
          "2021-03-29T00:00:00",
          "2021-03-29T00:00:00",
          "2021-03-29T00:00:00",
          "2021-03-29T00:00:00",
          "2021-03-30T00:00:00",
          "2021-03-30T00:00:00",
          "2021-03-30T00:00:00",
          "2021-03-30T00:00:00",
          "2021-03-30T00:00:00",
          "2021-03-31T00:00:00",
          "2021-03-31T00:00:00",
          "2021-03-31T00:00:00",
          "2021-04-01T00:00:00",
          "2021-04-01T00:00:00",
          "2021-04-01T00:00:00",
          "2021-04-01T00:00:00",
          "2021-04-02T00:00:00",
          "2021-04-02T00:00:00",
          "2021-04-06T00:00:00",
          "2021-04-08T00:00:00",
          "2021-04-08T00:00:00",
          "2021-04-10T00:00:00",
          "2021-04-11T00:00:00",
          "2021-04-11T00:00:00",
          "2021-04-11T00:00:00",
          "2021-04-11T00:00:00",
          "2021-04-11T00:00:00",
          "2021-04-12T00:00:00",
          "2021-04-12T00:00:00",
          "2021-04-13T00:00:00",
          "2021-04-13T00:00:00",
          "2021-04-14T00:00:00",
          "2021-04-15T00:00:00",
          "2021-04-15T00:00:00",
          "2021-04-16T00:00:00",
          "2021-04-16T00:00:00",
          "2021-04-16T00:00:00",
          "2021-04-16T00:00:00",
          "2021-04-18T00:00:00",
          "2021-04-18T00:00:00",
          "2021-04-18T00:00:00",
          "2021-04-19T00:00:00",
          "2021-04-20T00:00:00",
          "2021-04-21T00:00:00",
          "2021-04-22T00:00:00",
          "2021-04-22T00:00:00",
          "2021-04-23T00:00:00",
          "2021-04-26T00:00:00",
          "2021-04-27T00:00:00",
          "2021-04-27T00:00:00",
          "2021-04-28T00:00:00",
          "2021-04-28T00:00:00",
          "2021-04-29T00:00:00",
          "2021-04-30T00:00:00",
          "2021-05-01T00:00:00",
          "2021-05-04T00:00:00",
          "2021-05-06T00:00:00",
          "2021-05-06T00:00:00",
          "2021-05-07T00:00:00",
          "2021-05-09T00:00:00",
          "2021-05-14T00:00:00",
          "2021-05-18T00:00:00",
          "2021-05-18T00:00:00",
          "2021-05-18T00:00:00",
          "2021-05-19T00:00:00",
          "2021-05-19T00:00:00",
          "2021-06-08T00:00:00",
          "2021-06-12T00:00:00",
          "2021-06-14T00:00:00",
          "2021-06-14T00:00:00",
          "2021-06-17T00:00:00",
          "2021-06-18T00:00:00",
          "2021-06-18T00:00:00",
          "2021-06-18T00:00:00",
          "2021-06-20T00:00:00",
          "2021-06-25T00:00:00",
          "2021-06-27T00:00:00",
          "2021-06-28T00:00:00",
          "2021-07-01T00:00:00",
          "2021-07-01T00:00:00",
          "2021-07-03T00:00:00",
          "2021-07-04T00:00:00",
          "2021-07-04T00:00:00",
          "2021-07-04T00:00:00",
          "2021-07-05T00:00:00",
          "2021-07-05T00:00:00",
          "2021-07-05T00:00:00",
          "2021-07-06T00:00:00",
          "2021-07-06T00:00:00",
          "2021-07-06T00:00:00",
          "2021-07-07T00:00:00",
          "2021-07-07T00:00:00",
          "2021-07-07T00:00:00",
          "2021-07-07T00:00:00",
          "2021-07-07T00:00:00",
          "2021-07-08T00:00:00",
          "2021-07-08T00:00:00",
          "2021-07-09T00:00:00",
          "2021-07-09T00:00:00",
          "2021-07-09T00:00:00",
          "2021-07-09T00:00:00",
          "2021-07-10T00:00:00",
          "2021-07-10T00:00:00",
          "2021-07-13T00:00:00",
          "2021-07-13T00:00:00",
          "2021-07-13T00:00:00",
          "2021-07-13T00:00:00",
          "2021-07-13T00:00:00",
          "2021-07-13T00:00:00",
          "2021-07-13T00:00:00",
          "2021-07-13T00:00:00",
          "2021-07-13T00:00:00",
          "2021-07-13T00:00:00",
          "2021-07-13T00:00:00",
          "2021-07-14T00:00:00",
          "2021-07-14T00:00:00",
          "2021-07-14T00:00:00",
          "2021-07-14T00:00:00",
          "2021-07-14T00:00:00",
          "2021-07-14T00:00:00",
          "2021-07-18T00:00:00",
          "2021-07-18T00:00:00",
          "2021-07-19T00:00:00",
          "2021-07-19T00:00:00",
          "2021-07-19T00:00:00",
          "2021-07-19T00:00:00",
          "2021-07-19T00:00:00",
          "2021-07-19T00:00:00",
          "2021-07-20T00:00:00",
          "2021-07-20T00:00:00",
          "2021-07-20T00:00:00",
          "2021-07-20T00:00:00",
          "2021-07-21T00:00:00",
          "2021-07-21T00:00:00",
          "2021-07-21T00:00:00",
          "2021-07-21T00:00:00",
          "2021-07-21T00:00:00",
          "2021-07-21T00:00:00",
          "2021-07-22T00:00:00",
          "2021-07-22T00:00:00",
          "2021-07-22T00:00:00",
          "2021-07-22T00:00:00",
          "2021-07-22T00:00:00",
          "2021-07-22T00:00:00",
          "2021-07-23T00:00:00",
          "2021-07-24T00:00:00",
          "2021-07-24T00:00:00",
          "2021-07-24T00:00:00",
          "2021-07-26T00:00:00",
          "2021-07-26T00:00:00",
          "2021-07-26T00:00:00",
          "2021-07-26T00:00:00",
          "2021-07-26T00:00:00",
          "2021-07-26T00:00:00",
          "2021-07-27T00:00:00",
          "2021-07-27T00:00:00",
          "2021-07-27T00:00:00",
          "2021-07-27T00:00:00",
          "2021-07-27T00:00:00",
          "2021-07-28T00:00:00",
          "2021-07-30T00:00:00",
          "2021-07-30T00:00:00",
          "2021-07-30T00:00:00",
          "2021-07-30T00:00:00",
          "2021-07-31T00:00:00",
          "2021-07-31T00:00:00",
          "2021-07-31T00:00:00",
          "2021-07-31T00:00:00",
          "2021-07-31T00:00:00",
          "2021-08-01T00:00:00",
          "2021-08-01T00:00:00",
          "2021-08-01T00:00:00",
          "2021-08-01T00:00:00",
          "2021-08-01T00:00:00",
          "2021-08-01T00:00:00",
          "2021-08-02T00:00:00",
          "2021-08-02T00:00:00",
          "2021-08-02T00:00:00",
          "2021-08-02T00:00:00",
          "2021-08-03T00:00:00",
          "2021-08-04T00:00:00",
          "2021-08-04T00:00:00",
          "2021-08-04T00:00:00",
          "2021-08-04T00:00:00",
          "2021-08-05T00:00:00",
          "2021-08-05T00:00:00",
          "2021-08-05T00:00:00",
          "2021-08-05T00:00:00",
          "2021-08-05T00:00:00",
          "2021-08-05T00:00:00",
          "2021-08-05T00:00:00",
          "2021-08-05T00:00:00",
          "2021-08-07T00:00:00",
          "2021-08-07T00:00:00",
          "2021-08-10T00:00:00",
          "2021-08-10T00:00:00",
          "2021-08-10T00:00:00",
          "2021-08-10T00:00:00",
          "2021-08-10T00:00:00",
          "2021-08-11T00:00:00",
          "2021-08-11T00:00:00",
          "2021-08-11T00:00:00",
          "2021-08-11T00:00:00",
          "2021-08-12T00:00:00",
          "2021-08-12T00:00:00",
          "2021-08-12T00:00:00",
          "2021-08-12T00:00:00",
          "2021-08-12T00:00:00",
          "2021-08-12T00:00:00",
          "2021-08-13T00:00:00",
          "2021-08-13T00:00:00",
          "2021-08-13T00:00:00",
          "2021-08-13T00:00:00",
          "2021-08-13T00:00:00",
          "2021-08-13T00:00:00",
          "2021-08-13T00:00:00",
          "2021-08-13T00:00:00",
          "2021-08-14T00:00:00",
          "2021-08-14T00:00:00",
          "2021-08-14T00:00:00",
          "2021-08-14T00:00:00",
          "2021-08-14T00:00:00",
          "2021-08-14T00:00:00",
          "2021-08-15T00:00:00",
          "2021-08-16T00:00:00",
          "2021-08-16T00:00:00",
          "2021-08-16T00:00:00",
          "2021-08-16T00:00:00",
          "2021-08-17T00:00:00",
          "2021-08-17T00:00:00",
          "2021-08-17T00:00:00",
          "2021-08-17T00:00:00",
          "2021-08-18T00:00:00",
          "2021-08-18T00:00:00",
          "2021-08-18T00:00:00",
          "2021-08-18T00:00:00",
          "2021-08-18T00:00:00",
          "2021-08-18T00:00:00",
          "2021-08-18T00:00:00",
          "2021-08-18T00:00:00",
          "2021-08-18T00:00:00",
          "2021-08-19T00:00:00",
          "2021-08-19T00:00:00",
          "2021-08-19T00:00:00",
          "2021-08-19T00:00:00",
          "2021-08-19T00:00:00",
          "2021-08-19T00:00:00",
          "2021-08-19T00:00:00",
          "2021-08-19T00:00:00",
          "2021-08-19T00:00:00",
          "2021-08-19T00:00:00",
          "2021-08-20T00:00:00",
          "2021-08-20T00:00:00",
          "2021-08-20T00:00:00",
          "2021-08-20T00:00:00",
          "2021-08-20T00:00:00",
          "2021-08-20T00:00:00",
          "2021-08-21T00:00:00",
          "2021-08-21T00:00:00",
          "2021-08-21T00:00:00",
          "2021-08-21T00:00:00",
          "2021-08-21T00:00:00",
          "2021-08-21T00:00:00",
          "2021-08-21T00:00:00",
          "2021-08-21T00:00:00",
          "2021-08-21T00:00:00",
          "2021-08-21T00:00:00",
          "2021-08-22T00:00:00",
          "2021-08-22T00:00:00",
          "2021-08-22T00:00:00",
          "2021-08-22T00:00:00",
          "2021-08-22T00:00:00",
          "2021-08-23T00:00:00",
          "2021-08-23T00:00:00",
          "2021-08-23T00:00:00",
          "2021-08-23T00:00:00",
          "2021-08-23T00:00:00",
          "2021-08-23T00:00:00",
          "2021-08-23T00:00:00",
          "2021-08-24T00:00:00",
          "2021-08-24T00:00:00",
          "2021-08-24T00:00:00",
          "2021-08-24T00:00:00",
          "2021-08-25T00:00:00",
          "2021-08-25T00:00:00",
          "2021-08-26T00:00:00",
          "2021-08-31T00:00:00",
          "2021-08-31T00:00:00",
          "2021-08-31T00:00:00",
          "2021-08-31T00:00:00",
          "2021-09-01T00:00:00",
          "2021-09-01T00:00:00",
          "2021-09-01T00:00:00",
          "2021-09-02T00:00:00",
          "2021-09-02T00:00:00",
          "2021-09-04T00:00:00",
          "2021-09-04T00:00:00",
          "2021-09-04T00:00:00",
          "2021-09-05T00:00:00",
          "2021-09-05T00:00:00",
          "2021-09-05T00:00:00",
          "2021-09-06T00:00:00",
          "2021-09-06T00:00:00",
          "2021-09-09T00:00:00",
          "2021-09-09T00:00:00",
          "2021-09-09T00:00:00",
          "2021-09-09T00:00:00",
          "2021-09-09T00:00:00",
          "2021-09-10T00:00:00",
          "2021-09-10T00:00:00",
          "2021-09-11T00:00:00",
          "2021-09-13T00:00:00",
          "2021-09-13T00:00:00",
          "2021-09-13T00:00:00",
          "2021-09-13T00:00:00",
          "2021-09-13T00:00:00",
          "2021-09-14T00:00:00",
          "2021-09-14T00:00:00",
          "2021-09-14T00:00:00",
          "2021-09-14T00:00:00",
          "2021-09-14T00:00:00",
          "2021-09-14T00:00:00",
          "2021-09-15T00:00:00",
          "2021-09-15T00:00:00",
          "2021-09-15T00:00:00",
          "2021-09-15T00:00:00",
          "2021-09-15T00:00:00",
          "2021-09-15T00:00:00",
          "2021-09-15T00:00:00",
          "2021-09-15T00:00:00",
          "2021-09-15T00:00:00",
          "2021-09-16T00:00:00",
          "2021-09-16T00:00:00",
          "2021-09-16T00:00:00",
          "2021-09-17T00:00:00",
          "2021-09-18T00:00:00",
          "2021-09-19T00:00:00",
          "2021-09-19T00:00:00",
          "2021-09-20T00:00:00",
          "2021-09-20T00:00:00",
          "2021-09-20T00:00:00",
          "2021-09-20T00:00:00",
          "2021-09-24T00:00:00",
          "2021-09-24T00:00:00",
          "2021-09-25T00:00:00",
          "2021-09-25T00:00:00",
          "2021-09-25T00:00:00",
          "2021-09-25T00:00:00",
          "2021-09-26T00:00:00",
          "2021-09-29T00:00:00",
          "2021-10-01T00:00:00",
          "2021-10-01T00:00:00",
          "2021-10-03T00:00:00",
          "2021-10-03T00:00:00",
          "2021-10-03T00:00:00",
          "2021-10-03T00:00:00",
          "2021-10-03T00:00:00",
          "2021-10-04T00:00:00",
          "2021-10-04T00:00:00",
          "2021-10-05T00:00:00",
          "2021-10-05T00:00:00",
          "2021-10-05T00:00:00",
          "2021-10-06T00:00:00",
          "2021-10-06T00:00:00",
          "2021-10-06T00:00:00",
          "2021-10-07T00:00:00",
          "2021-10-07T00:00:00",
          "2021-10-08T00:00:00",
          "2021-10-08T00:00:00",
          "2021-10-09T00:00:00",
          "2021-10-20T00:00:00",
          "2021-10-20T00:00:00",
          "2021-10-21T00:00:00",
          "2021-10-21T00:00:00",
          "2021-10-21T00:00:00",
          "2021-10-21T00:00:00",
          "2021-10-21T00:00:00",
          "2021-10-22T00:00:00",
          "2021-10-22T00:00:00",
          "2021-10-22T00:00:00",
          "2021-10-23T00:00:00",
          "2021-10-23T00:00:00",
          "2021-10-23T00:00:00",
          "2021-10-23T00:00:00",
          "2021-10-23T00:00:00",
          "2021-10-23T00:00:00",
          "2021-10-23T00:00:00",
          "2021-10-23T00:00:00",
          "2021-10-23T00:00:00",
          "2021-10-23T00:00:00",
          "2021-10-24T00:00:00",
          "2021-10-24T00:00:00",
          "2021-10-25T00:00:00",
          "2021-10-25T00:00:00",
          "2021-10-26T00:00:00",
          "2021-10-26T00:00:00",
          "2021-10-26T00:00:00",
          "2021-10-26T00:00:00",
          "2021-10-29T00:00:00",
          "2021-10-29T00:00:00",
          "2021-10-30T00:00:00",
          "2021-10-30T00:00:00",
          "2021-10-30T00:00:00",
          "2021-10-30T00:00:00",
          "2021-10-30T00:00:00",
          "2021-10-30T00:00:00",
          "2021-10-30T00:00:00",
          "2021-10-30T00:00:00",
          "2021-10-31T00:00:00",
          "2021-11-01T00:00:00",
          "2021-11-06T00:00:00",
          "2021-11-10T00:00:00",
          "2021-11-10T00:00:00",
          "2021-11-10T00:00:00",
          "2021-11-10T00:00:00",
          "2021-11-10T00:00:00",
          "2021-11-10T00:00:00",
          "2021-11-11T00:00:00",
          "2021-11-11T00:00:00",
          "2021-11-11T00:00:00",
          "2021-11-11T00:00:00",
          "2021-11-12T00:00:00",
          "2021-11-12T00:00:00",
          "2021-11-12T00:00:00",
          "2021-11-12T00:00:00",
          "2021-11-12T00:00:00",
          "2021-11-12T00:00:00",
          "2021-11-12T00:00:00",
          "2021-11-13T00:00:00",
          "2021-11-13T00:00:00",
          "2021-11-13T00:00:00",
          "2021-11-13T00:00:00",
          "2021-11-13T00:00:00",
          "2021-11-13T00:00:00",
          "2021-11-13T00:00:00",
          "2021-11-13T00:00:00",
          "2021-11-13T00:00:00",
          "2021-11-13T00:00:00",
          "2021-11-13T00:00:00",
          "2021-11-14T00:00:00",
          "2021-11-14T00:00:00",
          "2021-11-14T00:00:00",
          "2021-11-14T00:00:00",
          "2021-11-14T00:00:00",
          "2021-11-14T00:00:00",
          "2021-11-14T00:00:00",
          "2021-11-14T00:00:00",
          "2021-11-16T00:00:00",
          "2021-11-16T00:00:00",
          "2021-11-16T00:00:00",
          "2021-11-16T00:00:00",
          "2021-11-16T00:00:00",
          "2021-11-16T00:00:00",
          "2021-11-16T00:00:00",
          "2021-11-17T00:00:00",
          "2021-11-17T00:00:00",
          "2021-11-17T00:00:00",
          "2021-11-18T00:00:00",
          "2021-11-18T00:00:00",
          "2021-11-18T00:00:00",
          "2021-11-18T00:00:00",
          "2021-11-19T00:00:00",
          "2021-11-19T00:00:00",
          "2021-11-19T00:00:00",
          "2021-11-20T00:00:00",
          "2021-11-20T00:00:00",
          "2021-11-20T00:00:00",
          "2021-11-21T00:00:00",
          "2021-11-21T00:00:00",
          "2021-11-22T00:00:00",
          "2021-11-22T00:00:00",
          "2021-11-22T00:00:00",
          "2021-11-22T00:00:00",
          "2021-11-22T00:00:00",
          "2021-11-22T00:00:00",
          "2021-11-22T00:00:00",
          "2021-11-22T00:00:00",
          "2021-11-22T00:00:00",
          "2021-11-23T00:00:00",
          "2021-11-23T00:00:00",
          "2021-11-23T00:00:00",
          "2021-11-23T00:00:00",
          "2021-11-23T00:00:00",
          "2021-11-24T00:00:00",
          "2021-11-24T00:00:00",
          "2021-11-24T00:00:00",
          "2021-11-24T00:00:00",
          "2021-11-24T00:00:00",
          "2021-11-28T00:00:00",
          "2021-11-29T00:00:00",
          "2021-11-29T00:00:00",
          "2021-11-29T00:00:00",
          "2021-11-29T00:00:00",
          "2021-12-01T00:00:00",
          "2021-12-02T00:00:00",
          "2021-12-02T00:00:00",
          "2021-12-02T00:00:00",
          "2021-12-03T00:00:00",
          "2021-12-03T00:00:00",
          "2021-12-03T00:00:00",
          "2021-12-03T00:00:00",
          "2021-12-03T00:00:00",
          "2021-12-03T00:00:00",
          "2021-12-03T00:00:00",
          "2021-12-03T00:00:00",
          "2021-12-04T00:00:00",
          "2021-12-05T00:00:00",
          "2021-12-05T00:00:00",
          "2021-12-05T00:00:00",
          "2021-12-05T00:00:00",
          "2021-12-05T00:00:00",
          "2021-12-06T00:00:00",
          "2021-12-06T00:00:00",
          "2021-12-07T00:00:00",
          "2021-12-07T00:00:00",
          "2021-12-07T00:00:00",
          "2021-12-08T00:00:00",
          "2021-12-08T00:00:00",
          "2021-12-08T00:00:00",
          "2021-12-08T00:00:00",
          "2021-12-08T00:00:00",
          "2021-12-08T00:00:00",
          "2021-12-08T00:00:00",
          "2021-12-08T00:00:00",
          "2021-12-08T00:00:00",
          "2021-12-08T00:00:00",
          "2021-12-08T00:00:00",
          "2021-12-08T00:00:00",
          "2021-12-09T00:00:00",
          "2021-12-09T00:00:00",
          "2021-12-09T00:00:00",
          "2021-12-09T00:00:00",
          "2021-12-10T00:00:00",
          "2021-12-10T00:00:00",
          "2021-12-10T00:00:00",
          "2021-12-10T00:00:00",
          "2021-12-11T00:00:00",
          "2021-12-11T00:00:00",
          "2021-12-11T00:00:00",
          "2021-12-11T00:00:00",
          "2021-12-14T00:00:00",
          "2021-12-14T00:00:00",
          "2021-12-14T00:00:00",
          "2021-12-14T00:00:00",
          "2021-12-14T00:00:00",
          "2021-12-15T00:00:00",
          "2021-12-15T00:00:00",
          "2021-12-15T00:00:00",
          "2021-12-16T00:00:00",
          "2021-12-16T00:00:00",
          "2021-12-17T00:00:00",
          "2021-12-17T00:00:00",
          "2021-12-17T00:00:00",
          "2021-12-20T00:00:00",
          "2021-12-20T00:00:00",
          "2021-12-20T00:00:00",
          "2021-12-20T00:00:00",
          "2021-12-21T00:00:00",
          "2021-12-21T00:00:00",
          "2021-12-21T00:00:00",
          "2021-12-24T00:00:00",
          "2021-12-25T00:00:00",
          "2021-12-25T00:00:00",
          "2021-12-25T00:00:00",
          "2021-12-25T00:00:00",
          "2021-12-26T00:00:00",
          "2021-12-26T00:00:00",
          "2021-12-26T00:00:00",
          "2021-12-26T00:00:00",
          "2021-12-26T00:00:00",
          "2021-12-26T00:00:00",
          "2021-12-27T00:00:00",
          "2021-12-27T00:00:00",
          "2021-12-27T00:00:00",
          "2021-12-27T00:00:00",
          "2021-12-27T00:00:00",
          "2021-12-27T00:00:00",
          "2021-12-27T00:00:00",
          "2021-12-27T00:00:00",
          "2021-12-28T00:00:00",
          "2021-12-28T00:00:00",
          "2021-12-29T00:00:00",
          "2021-12-29T00:00:00",
          "2021-12-29T00:00:00",
          "2021-12-29T00:00:00",
          "2021-12-29T00:00:00",
          "2021-12-29T00:00:00",
          "2021-12-29T00:00:00"
         ],
         "xaxis": "x",
         "y": [
          1114,
          1106,
          1097,
          1105,
          1096,
          1103,
          1119,
          1110,
          1127,
          1134,
          1126,
          1118,
          1125,
          1132,
          1124,
          1132,
          1132,
          1124,
          1139,
          1146,
          1138,
          1130,
          1138,
          1153,
          1144,
          null,
          1145,
          1136,
          1153,
          1144,
          1136,
          1144,
          1152,
          1143,
          1161,
          1211,
          1203,
          1194,
          1185,
          1177,
          1169,
          1219,
          1227,
          1235,
          1244,
          1235,
          1243,
          1251,
          1243,
          1251,
          1260,
          1252,
          1245,
          1253,
          1261,
          1269,
          1268,
          1269,
          1276,
          1277,
          1262,
          1254,
          1246,
          1254,
          1262,
          1270,
          1279,
          1295,
          1287,
          1287,
          1280,
          null,
          1272,
          1280,
          1289,
          1296,
          1304,
          1294,
          1286,
          1311,
          1302,
          1278,
          1286,
          1295,
          1286,
          1295,
          1303,
          1303,
          1294,
          1312,
          1285,
          1277,
          1285,
          1293,
          1292,
          1285,
          1284,
          1292,
          1285,
          1294,
          1285,
          1277,
          null,
          1284,
          1277,
          1269,
          1276,
          1283,
          1275,
          1283,
          1276,
          1269,
          1278,
          1287,
          1296,
          1310,
          1303,
          null,
          1317,
          1310,
          1318,
          1310,
          1318,
          1310,
          1318,
          1311,
          1303,
          1301,
          1317,
          1309,
          1309,
          1317,
          1309,
          1301,
          null,
          1303,
          1311,
          1319,
          1327,
          1335,
          1327,
          1329,
          1294,
          1303,
          1311,
          1286,
          1294,
          1295,
          1303,
          1312,
          1304,
          1313,
          1306,
          1313,
          1306,
          1297,
          1321,
          1313,
          1304,
          1295,
          1303,
          1311,
          1319,
          1310,
          1302,
          1319,
          1311,
          1310,
          1302,
          1293,
          1301,
          1309,
          1316,
          1325,
          1323,
          1332,
          1315,
          1306,
          1315,
          1307,
          1313,
          1322,
          1314,
          1306,
          1339,
          1331,
          1331,
          1324,
          1316,
          1311,
          1293,
          1284,
          1292,
          1300,
          1292,
          1302,
          1284,
          1291,
          1299,
          1307,
          1300,
          1308,
          1276,
          1284,
          1318,
          1342,
          1335,
          1327,
          1310,
          1328,
          1320,
          1319,
          1365,
          1367,
          1342,
          1350,
          1354,
          1368,
          1366,
          1358,
          1365,
          1356,
          1348,
          1356,
          1364,
          1357,
          1350,
          1357,
          1351,
          1358,
          1350,
          1322,
          1330,
          1338,
          1339,
          1340,
          1348,
          1340,
          1331,
          1340,
          1331,
          1323,
          1332,
          1324,
          1332,
          1341,
          1332,
          1297,
          1289,
          1313,
          1305,
          1297,
          1275,
          1289,
          1282,
          1275,
          1268,
          1267,
          1260,
          1284,
          1292,
          1297,
          1304,
          1295,
          1303,
          1325,
          1324,
          1331,
          1314,
          1320,
          1332,
          1322,
          1323,
          1313,
          1317,
          1310,
          1309,
          1295,
          1303,
          1310,
          1301,
          1270,
          1282,
          1288,
          1263,
          1272,
          1277,
          1284,
          1292,
          1283,
          1292,
          1286,
          1295,
          1295,
          1289,
          1303,
          1296,
          1289,
          1280,
          1286,
          1279,
          1288,
          1293,
          1302,
          1294,
          1285,
          1294,
          1301,
          1293,
          1301,
          1310,
          1310,
          1318,
          1310,
          1293,
          1302,
          1303,
          1302,
          1294,
          null,
          1288,
          1298,
          1305,
          1313,
          1320,
          1313,
          1322,
          1314,
          1323,
          1331,
          1338,
          1347,
          1356,
          1348,
          1356,
          1365,
          1357,
          1366,
          1366,
          1374,
          1373,
          1382,
          1374,
          1381,
          1389,
          null,
          1354,
          1361,
          1368,
          1360,
          1352,
          1359,
          1368,
          1368,
          1375,
          1382,
          1359,
          1346,
          1338,
          1339,
          1345,
          1361,
          1353,
          1347,
          1339,
          1365,
          1356,
          1363,
          1354,
          1362,
          1355,
          1374,
          1376,
          1369,
          1367,
          1353,
          1361,
          1370,
          1361,
          1369,
          1361,
          1377,
          1385,
          1392,
          1383,
          1392,
          1399,
          1408,
          1393,
          1386,
          1400,
          1395,
          1387,
          1394,
          1386,
          1394,
          1386,
          1379,
          1372,
          1379,
          1388,
          1380,
          1387,
          1383,
          1392,
          1394,
          1385,
          1392,
          1400,
          1407,
          1414,
          1422,
          1430,
          1422,
          1429,
          1422,
          1415,
          1424,
          1416,
          1424,
          1417,
          null,
          1425,
          1418,
          1426,
          1434,
          1442,
          1427,
          1427,
          1419,
          1427,
          1427,
          1427,
          1434,
          1427,
          1411,
          1404,
          1400,
          1398,
          1391,
          1397,
          1390,
          1407,
          1399,
          1390,
          1381,
          1365,
          1372,
          1365,
          1381,
          1372,
          1373,
          1374,
          1366,
          1373,
          1381,
          1390,
          1399,
          1407,
          1399,
          1393,
          1400,
          1402,
          1392,
          1400,
          1391,
          1410,
          1419,
          1428,
          1420,
          1428,
          1428,
          1436,
          1428,
          1420,
          1451,
          1436,
          1444,
          1453,
          1460,
          1459,
          1451,
          1452,
          1459,
          1446,
          1453,
          1432,
          1424,
          1431,
          1438,
          1444,
          1453,
          1460,
          1453,
          1424,
          1416,
          1424,
          1416,
          1424,
          1432,
          1466,
          1458,
          1450,
          1442,
          1435,
          1449,
          1433,
          1442,
          1440,
          1442,
          1463,
          1455,
          1454,
          1473,
          1464,
          1478,
          1470,
          1462,
          1479,
          1470,
          1462,
          1471,
          1471,
          1463,
          1455,
          1448,
          1440,
          1448,
          1440,
          1456,
          1449,
          1433,
          1441,
          1473,
          1482,
          1464,
          1473,
          1482,
          1475,
          1467,
          1460,
          1467,
          1474,
          1465,
          1457,
          1448,
          1455,
          1438,
          1447,
          1439,
          1431,
          1435,
          1449,
          1440,
          1432,
          1449,
          1441,
          1450,
          1441,
          1453,
          1441,
          1448,
          1446,
          1439,
          1445,
          1452,
          1445,
          1453,
          1462,
          1445,
          1461,
          1453,
          1454,
          1454,
          1461,
          1453,
          1461,
          1469,
          1462,
          1453,
          1445,
          1436,
          null,
          1452,
          1445,
          1444,
          1437,
          1413,
          1406,
          1430,
          1422,
          1413,
          1405,
          1412,
          1420,
          1413,
          1421,
          1430,
          1439,
          1448,
          1450,
          1457,
          1458,
          1466,
          1459,
          1450,
          1441,
          1448,
          1457,
          1448,
          1441,
          1433,
          1425,
          1441,
          1433,
          1432,
          1440,
          1448,
          1449,
          1456,
          1465,
          1472,
          1481,
          1516,
          1491,
          1499,
          1491,
          1499,
          1508,
          1517,
          1525,
          1498,
          1489,
          1523,
          1515,
          1507,
          1499,
          1506,
          1497,
          1490,
          1483,
          1491,
          1482,
          1480,
          1472,
          1480,
          1481,
          1465,
          1473,
          1473,
          1474,
          1488,
          1479,
          1486,
          1462,
          1470,
          1471,
          1470,
          1478,
          1463,
          1462,
          1470,
          1478,
          1485,
          1501,
          1493,
          1509,
          1502,
          1492,
          1493,
          1501,
          1492,
          1508,
          1500,
          1492,
          1484,
          1476,
          1468,
          1475,
          1483,
          1493,
          1484,
          1510,
          1502,
          1510,
          1511,
          1503,
          1494,
          1517,
          1503,
          1493,
          1501,
          1510,
          1518,
          1486,
          1526,
          1534,
          1543,
          1536,
          1543,
          1535,
          1527,
          1519,
          1527,
          1534,
          1536,
          1543,
          1535,
          1526,
          1527,
          1519,
          1512,
          1489,
          1498,
          1506,
          1514,
          1506,
          1514,
          1506,
          1513,
          1506,
          1496,
          1503,
          1512,
          1520,
          1512,
          1495,
          1504,
          1488,
          1504,
          1497,
          1479,
          1471,
          1464,
          1456,
          1447,
          1440,
          1433,
          1440,
          1449,
          1451,
          1452,
          1459,
          1460,
          1441,
          1458,
          1449,
          1451,
          1444,
          1436,
          1443,
          1452,
          1443,
          1434,
          1435,
          1442,
          1427,
          1419,
          1411,
          1426,
          1402,
          1409,
          1401,
          1394,
          1410,
          1410,
          1419,
          1412,
          1417,
          1420,
          1402,
          1433,
          1425,
          1417,
          1408,
          1409,
          1416,
          1408,
          1417,
          1417,
          1424,
          1415,
          1406,
          1397,
          1397,
          1405,
          1398,
          1389,
          1405,
          1397,
          1389,
          1398,
          1405,
          1413,
          1405,
          1397,
          1405,
          1396,
          1403,
          1395,
          1412,
          1404,
          1404,
          1396,
          1404,
          1412,
          1419,
          1426,
          1434,
          1441,
          null,
          1440,
          1433,
          1433,
          1395,
          1425,
          1418,
          1410,
          1402,
          1395,
          1387,
          1387,
          1369,
          1378,
          1363,
          1370,
          1363,
          1354,
          1346,
          1361,
          1355
         ],
         "yaxis": "y"
        },
        {
         "hovertemplate": "Year=2022<br>Date=%{x}<br>Rating=%{y}<extra></extra>",
         "legendgroup": "2022",
         "line": {
          "color": "#ab63fa",
          "dash": "solid"
         },
         "marker": {
          "symbol": "circle"
         },
         "mode": "lines",
         "name": "2022",
         "showlegend": true,
         "type": "scattergl",
         "x": [
          "2022-01-01T00:00:00",
          "2022-01-03T00:00:00",
          "2022-01-03T00:00:00",
          "2022-01-03T00:00:00",
          "2022-01-05T00:00:00",
          "2022-01-05T00:00:00",
          "2022-01-05T00:00:00",
          "2022-01-05T00:00:00",
          "2022-01-07T00:00:00",
          "2022-01-07T00:00:00",
          "2022-01-10T00:00:00",
          "2022-01-14T00:00:00",
          "2022-01-25T00:00:00",
          "2022-01-25T00:00:00",
          "2022-01-25T00:00:00",
          "2022-02-03T00:00:00",
          "2022-02-03T00:00:00",
          "2022-02-03T00:00:00",
          "2022-02-03T00:00:00",
          "2022-02-04T00:00:00",
          "2022-02-04T00:00:00",
          "2022-02-04T00:00:00",
          "2022-02-04T00:00:00",
          "2022-02-04T00:00:00",
          "2022-02-04T00:00:00",
          "2022-02-09T00:00:00",
          "2022-02-09T00:00:00",
          "2022-02-09T00:00:00",
          "2022-02-11T00:00:00",
          "2022-02-11T00:00:00",
          "2022-02-11T00:00:00",
          "2022-02-11T00:00:00",
          "2022-02-11T00:00:00",
          "2022-02-11T00:00:00",
          "2022-02-11T00:00:00",
          "2022-02-11T00:00:00",
          "2022-02-11T00:00:00",
          "2022-02-11T00:00:00",
          "2022-02-12T00:00:00",
          "2022-02-13T00:00:00",
          "2022-02-13T00:00:00",
          "2022-02-13T00:00:00",
          "2022-02-13T00:00:00",
          "2022-02-13T00:00:00",
          "2022-02-17T00:00:00",
          "2022-02-18T00:00:00",
          "2022-02-18T00:00:00",
          "2022-02-19T00:00:00",
          "2022-02-19T00:00:00",
          "2022-02-22T00:00:00",
          "2022-02-22T00:00:00",
          "2022-02-22T00:00:00",
          "2022-02-22T00:00:00",
          "2022-02-22T00:00:00",
          "2022-02-22T00:00:00",
          "2022-02-22T00:00:00",
          "2022-02-22T00:00:00",
          "2022-02-23T00:00:00",
          "2022-02-23T00:00:00",
          "2022-02-23T00:00:00",
          "2022-02-23T00:00:00",
          "2022-02-23T00:00:00",
          "2022-02-23T00:00:00",
          "2022-02-23T00:00:00",
          "2022-02-23T00:00:00",
          "2022-02-24T00:00:00",
          "2022-02-24T00:00:00",
          "2022-02-24T00:00:00",
          "2022-02-24T00:00:00",
          "2022-02-24T00:00:00",
          "2022-02-24T00:00:00",
          "2022-02-24T00:00:00",
          "2022-02-24T00:00:00",
          "2022-02-24T00:00:00",
          "2022-02-24T00:00:00",
          "2022-02-24T00:00:00",
          "2022-02-24T00:00:00",
          "2022-02-24T00:00:00",
          "2022-02-24T00:00:00",
          "2022-02-25T00:00:00",
          "2022-02-25T00:00:00",
          "2022-02-25T00:00:00",
          "2022-02-25T00:00:00",
          "2022-02-25T00:00:00",
          "2022-02-25T00:00:00",
          "2022-02-25T00:00:00",
          "2022-02-25T00:00:00",
          "2022-02-25T00:00:00",
          "2022-02-25T00:00:00",
          "2022-02-26T00:00:00",
          "2022-02-26T00:00:00",
          "2022-02-26T00:00:00",
          "2022-02-27T00:00:00",
          "2022-02-27T00:00:00",
          "2022-02-28T00:00:00",
          "2022-02-28T00:00:00",
          "2022-03-01T00:00:00",
          "2022-03-01T00:00:00",
          "2022-03-01T00:00:00",
          "2022-03-01T00:00:00",
          "2022-03-01T00:00:00",
          "2022-03-01T00:00:00",
          "2022-03-01T00:00:00",
          "2022-03-01T00:00:00",
          "2022-03-01T00:00:00",
          "2022-03-03T00:00:00",
          "2022-03-03T00:00:00",
          "2022-03-03T00:00:00",
          "2022-03-03T00:00:00",
          "2022-03-03T00:00:00",
          "2022-03-03T00:00:00",
          "2022-03-03T00:00:00",
          "2022-03-03T00:00:00",
          "2022-03-03T00:00:00",
          "2022-03-03T00:00:00",
          "2022-03-03T00:00:00",
          "2022-03-03T00:00:00",
          "2022-03-03T00:00:00",
          "2022-03-03T00:00:00",
          "2022-03-03T00:00:00",
          "2022-03-03T00:00:00",
          "2022-03-03T00:00:00",
          "2022-03-04T00:00:00",
          "2022-03-04T00:00:00",
          "2022-03-04T00:00:00",
          "2022-03-04T00:00:00",
          "2022-03-04T00:00:00",
          "2022-03-04T00:00:00",
          "2022-03-04T00:00:00",
          "2022-03-05T00:00:00",
          "2022-03-05T00:00:00",
          "2022-03-05T00:00:00",
          "2022-03-05T00:00:00",
          "2022-03-06T00:00:00",
          "2022-03-06T00:00:00",
          "2022-03-06T00:00:00",
          "2022-03-06T00:00:00",
          "2022-03-06T00:00:00",
          "2022-03-06T00:00:00",
          "2022-03-07T00:00:00",
          "2022-03-07T00:00:00",
          "2022-03-09T00:00:00",
          "2022-03-10T00:00:00",
          "2022-03-10T00:00:00",
          "2022-03-10T00:00:00",
          "2022-03-10T00:00:00",
          "2022-03-10T00:00:00",
          "2022-03-11T00:00:00",
          "2022-03-11T00:00:00",
          "2022-03-12T00:00:00",
          "2022-03-12T00:00:00",
          "2022-03-13T00:00:00",
          "2022-03-13T00:00:00",
          "2022-03-14T00:00:00",
          "2022-03-16T00:00:00",
          "2022-03-19T00:00:00",
          "2022-03-19T00:00:00",
          "2022-03-19T00:00:00",
          "2022-03-20T00:00:00",
          "2022-03-22T00:00:00",
          "2022-03-22T00:00:00",
          "2022-03-22T00:00:00",
          "2022-03-23T00:00:00",
          "2022-03-23T00:00:00",
          "2022-03-23T00:00:00",
          "2022-03-23T00:00:00",
          "2022-03-24T00:00:00",
          "2022-03-24T00:00:00",
          "2022-03-24T00:00:00",
          "2022-03-24T00:00:00",
          "2022-03-24T00:00:00",
          "2022-03-24T00:00:00",
          "2022-03-24T00:00:00",
          "2022-03-24T00:00:00",
          "2022-03-24T00:00:00",
          "2022-03-25T00:00:00",
          "2022-03-25T00:00:00",
          "2022-03-26T00:00:00",
          "2022-03-26T00:00:00",
          "2022-03-27T00:00:00",
          "2022-03-27T00:00:00",
          "2022-03-27T00:00:00",
          "2022-03-27T00:00:00",
          "2022-03-28T00:00:00",
          "2022-03-28T00:00:00",
          "2022-03-29T00:00:00",
          "2022-03-29T00:00:00",
          "2022-03-29T00:00:00",
          "2022-03-29T00:00:00",
          "2022-03-29T00:00:00",
          "2022-03-30T00:00:00",
          "2022-03-30T00:00:00",
          "2022-03-31T00:00:00",
          "2022-03-31T00:00:00",
          "2022-03-31T00:00:00",
          "2022-03-31T00:00:00",
          "2022-04-01T00:00:00",
          "2022-04-01T00:00:00",
          "2022-04-01T00:00:00",
          "2022-04-01T00:00:00",
          "2022-04-01T00:00:00",
          "2022-04-01T00:00:00",
          "2022-04-01T00:00:00",
          "2022-04-01T00:00:00",
          "2022-04-02T00:00:00",
          "2022-04-02T00:00:00",
          "2022-04-02T00:00:00",
          "2022-04-02T00:00:00",
          "2022-04-03T00:00:00",
          "2022-04-04T00:00:00",
          "2022-04-04T00:00:00",
          "2022-04-05T00:00:00",
          "2022-04-05T00:00:00",
          "2022-04-08T00:00:00",
          "2022-04-09T00:00:00",
          "2022-04-09T00:00:00",
          "2022-04-09T00:00:00",
          "2022-04-10T00:00:00",
          "2022-04-12T00:00:00",
          "2022-04-12T00:00:00",
          "2022-04-13T00:00:00",
          "2022-04-13T00:00:00",
          "2022-04-18T00:00:00",
          "2022-04-18T00:00:00",
          "2022-04-23T00:00:00",
          "2022-04-25T00:00:00",
          "2022-04-25T00:00:00",
          "2022-04-26T00:00:00",
          "2022-04-26T00:00:00",
          "2022-04-26T00:00:00",
          "2022-04-27T00:00:00",
          "2022-05-02T00:00:00",
          "2022-05-02T00:00:00",
          "2022-05-02T00:00:00",
          "2022-05-03T00:00:00",
          "2022-05-03T00:00:00",
          "2022-05-03T00:00:00",
          "2022-05-06T00:00:00",
          "2022-05-06T00:00:00",
          "2022-05-06T00:00:00",
          "2022-05-07T00:00:00",
          "2022-05-07T00:00:00",
          "2022-05-08T00:00:00",
          "2022-05-08T00:00:00",
          "2022-05-08T00:00:00",
          "2022-05-08T00:00:00",
          "2022-05-08T00:00:00",
          "2022-05-09T00:00:00",
          "2022-05-09T00:00:00",
          "2022-05-13T00:00:00",
          "2022-05-13T00:00:00",
          "2022-05-16T00:00:00",
          "2022-05-30T00:00:00",
          "2022-05-30T00:00:00",
          "2022-05-31T00:00:00",
          "2022-05-31T00:00:00",
          "2022-05-31T00:00:00",
          "2022-06-06T00:00:00",
          "2022-06-15T00:00:00",
          "2022-06-16T00:00:00",
          "2022-06-27T00:00:00",
          "2022-07-03T00:00:00",
          "2022-07-03T00:00:00",
          "2022-07-03T00:00:00",
          "2022-07-03T00:00:00",
          "2022-07-03T00:00:00",
          "2022-07-03T00:00:00",
          "2022-07-03T00:00:00",
          "2022-07-03T00:00:00",
          "2022-07-05T00:00:00",
          "2022-07-16T00:00:00",
          "2022-09-04T00:00:00",
          "2022-09-20T00:00:00",
          "2022-09-20T00:00:00",
          "2022-09-20T00:00:00"
         ],
         "xaxis": "x",
         "y": [
          1355,
          1363,
          null,
          1370,
          1371,
          1378,
          1385,
          1392,
          1383,
          1375,
          1367,
          1371,
          1363,
          null,
          1356,
          1365,
          1372,
          1349,
          1356,
          1365,
          1341,
          1349,
          1357,
          1333,
          1326,
          1335,
          1327,
          1336,
          1359,
          1367,
          1375,
          null,
          1367,
          1345,
          1352,
          1336,
          1344,
          1359,
          1351,
          1359,
          1351,
          1334,
          1343,
          1342,
          1366,
          1374,
          1382,
          1374,
          1381,
          1381,
          1388,
          1390,
          1383,
          1376,
          1384,
          1391,
          1399,
          1400,
          1392,
          1407,
          1400,
          1409,
          1417,
          null,
          1424,
          1406,
          1399,
          1408,
          1416,
          1424,
          1432,
          1424,
          1424,
          1431,
          1424,
          1431,
          1424,
          1432,
          1416,
          1416,
          1408,
          1417,
          1424,
          1424,
          1405,
          1406,
          1397,
          1397,
          1415,
          1400,
          1392,
          1383,
          1374,
          1382,
          1391,
          1382,
          1389,
          1390,
          1382,
          1398,
          1389,
          1399,
          1383,
          1391,
          1391,
          1406,
          1397,
          1389,
          1380,
          1372,
          1401,
          1387,
          1378,
          1385,
          1393,
          1385,
          1393,
          1379,
          1405,
          1414,
          1389,
          1397,
          1417,
          1400,
          1408,
          1400,
          1392,
          1401,
          1409,
          1406,
          1415,
          1414,
          1424,
          1389,
          1421,
          1414,
          1406,
          1397,
          1380,
          1388,
          1380,
          1373,
          1380,
          1393,
          1386,
          1379,
          1371,
          1377,
          1385,
          1385,
          1393,
          1386,
          1378,
          1385,
          1392,
          1399,
          1399,
          1406,
          1406,
          1398,
          1390,
          1398,
          1405,
          1413,
          1422,
          1430,
          1420,
          1428,
          1429,
          1421,
          1429,
          1436,
          1428,
          1421,
          1421,
          1427,
          1419,
          1426,
          1419,
          1411,
          1418,
          1411,
          null,
          1404,
          1411,
          1411,
          1395,
          1404,
          1420,
          1403,
          1411,
          1418,
          1425,
          1416,
          1409,
          1417,
          1399,
          1407,
          1407,
          1399,
          null,
          1391,
          1406,
          1415,
          1390,
          1390,
          1398,
          1397,
          1383,
          1382,
          1374,
          1374,
          1366,
          1374,
          1383,
          1374,
          1382,
          1374,
          1381,
          1372,
          1380,
          1389,
          1398,
          1391,
          1399,
          1401,
          1403,
          1411,
          1394,
          1403,
          1418,
          null,
          1427,
          1434,
          1427,
          1419,
          1427,
          1421,
          1420,
          1413,
          1414,
          1413,
          1404,
          1412,
          1420,
          1412,
          1405,
          1404,
          1413,
          1396,
          1405,
          1414,
          1421,
          1428,
          1419,
          1411,
          1402,
          1393,
          1393,
          1401,
          1408,
          1401,
          1417,
          1406,
          1397,
          1388,
          1395,
          null,
          1409,
          1398,
          1389,
          1375,
          1388,
          1374,
          null
         ],
         "yaxis": "y"
        },
        {
         "hovertemplate": "Year=2023<br>Date=%{x}<br>Rating=%{y}<extra></extra>",
         "legendgroup": "2023",
         "line": {
          "color": "#FFA15A",
          "dash": "solid"
         },
         "marker": {
          "symbol": "circle"
         },
         "mode": "lines",
         "name": "2023",
         "showlegend": true,
         "type": "scattergl",
         "x": [
          "2023-02-11T00:00:00",
          "2023-03-11T00:00:00",
          "2023-03-11T00:00:00",
          "2023-03-13T00:00:00",
          "2023-03-14T00:00:00",
          "2023-03-14T00:00:00",
          "2023-05-16T00:00:00",
          "2023-05-16T00:00:00",
          "2023-05-16T00:00:00",
          "2023-05-16T00:00:00",
          "2023-05-16T00:00:00",
          "2023-05-16T00:00:00",
          "2023-05-16T00:00:00",
          "2023-05-16T00:00:00",
          "2023-05-16T00:00:00",
          "2023-05-18T00:00:00",
          "2023-06-22T00:00:00",
          "2023-06-22T00:00:00",
          "2023-06-23T00:00:00",
          "2023-06-23T00:00:00",
          "2023-07-26T00:00:00",
          "2023-07-26T00:00:00",
          "2023-07-26T00:00:00",
          "2023-07-26T00:00:00",
          "2023-07-26T00:00:00",
          "2023-08-01T00:00:00",
          "2023-08-01T00:00:00",
          "2023-08-24T00:00:00",
          "2023-08-26T00:00:00",
          "2023-08-26T00:00:00",
          "2023-08-28T00:00:00",
          "2023-08-28T00:00:00",
          "2023-08-28T00:00:00",
          "2023-08-28T00:00:00",
          "2023-08-28T00:00:00",
          "2023-08-28T00:00:00",
          "2023-08-30T00:00:00",
          "2023-08-30T00:00:00",
          "2023-08-30T00:00:00",
          "2023-08-30T00:00:00",
          "2023-08-30T00:00:00",
          "2023-08-30T00:00:00",
          "2023-08-30T00:00:00",
          "2023-08-30T00:00:00",
          "2023-08-30T00:00:00",
          "2023-08-30T00:00:00",
          "2023-08-30T00:00:00",
          "2023-08-30T00:00:00",
          "2023-08-30T00:00:00",
          "2023-08-30T00:00:00",
          "2023-08-30T00:00:00",
          "2023-08-30T00:00:00",
          "2023-09-08T00:00:00",
          "2023-09-09T00:00:00",
          "2023-09-09T00:00:00",
          "2023-09-10T00:00:00",
          "2023-09-12T00:00:00",
          "2023-09-12T00:00:00",
          "2023-09-12T00:00:00",
          "2023-09-24T00:00:00",
          "2023-09-24T00:00:00",
          "2023-09-24T00:00:00",
          "2023-09-24T00:00:00",
          "2023-09-25T00:00:00",
          "2023-09-25T00:00:00",
          "2023-09-25T00:00:00",
          "2023-09-29T00:00:00",
          "2023-10-03T00:00:00",
          "2023-10-03T00:00:00",
          "2023-10-03T00:00:00",
          "2023-10-03T00:00:00",
          "2023-10-03T00:00:00",
          "2023-10-04T00:00:00",
          "2023-10-07T00:00:00",
          "2023-10-09T00:00:00",
          "2023-10-09T00:00:00",
          "2023-10-09T00:00:00",
          "2023-10-09T00:00:00",
          "2023-10-10T00:00:00",
          "2023-10-10T00:00:00",
          "2023-10-10T00:00:00",
          "2023-10-17T00:00:00"
         ],
         "xaxis": "x",
         "y": [
          1351,
          1344,
          1324,
          1365,
          1322,
          1343,
          1341,
          1316,
          1289,
          1310,
          1291,
          1304,
          1326,
          1294,
          1310,
          1280,
          1301,
          1323,
          1341,
          1356,
          1400,
          1387,
          1371,
          1354,
          1338,
          1401,
          1416,
          1432,
          1447,
          1433,
          1417,
          1405,
          1391,
          1405,
          1394,
          1406,
          1418,
          1406,
          1413,
          1404,
          1395,
          1438,
          1422,
          1413,
          1405,
          1414,
          1430,
          1396,
          1405,
          1423,
          1414,
          1405,
          1447,
          null,
          1441,
          1449,
          1449,
          1457,
          1457,
          1472,
          1464,
          1456,
          1448,
          1471,
          1479,
          1479,
          1487,
          1488,
          1496,
          1479,
          1487,
          1478,
          1470,
          1479,
          1477,
          1470,
          1462,
          1471,
          1462,
          1455,
          1469,
          1447
         ],
         "yaxis": "y"
        }
       ],
       "layout": {
        "legend": {
         "title": {
          "text": "Year"
         },
         "tracegroupgap": 0
        },
        "margin": {
         "t": 60
        },
        "template": {
         "data": {
          "bar": [
           {
            "error_x": {
             "color": "#2a3f5f"
            },
            "error_y": {
             "color": "#2a3f5f"
            },
            "marker": {
             "line": {
              "color": "#E5ECF6",
              "width": 0.5
             },
             "pattern": {
              "fillmode": "overlay",
              "size": 10,
              "solidity": 0.2
             }
            },
            "type": "bar"
           }
          ],
          "barpolar": [
           {
            "marker": {
             "line": {
              "color": "#E5ECF6",
              "width": 0.5
             },
             "pattern": {
              "fillmode": "overlay",
              "size": 10,
              "solidity": 0.2
             }
            },
            "type": "barpolar"
           }
          ],
          "carpet": [
           {
            "aaxis": {
             "endlinecolor": "#2a3f5f",
             "gridcolor": "white",
             "linecolor": "white",
             "minorgridcolor": "white",
             "startlinecolor": "#2a3f5f"
            },
            "baxis": {
             "endlinecolor": "#2a3f5f",
             "gridcolor": "white",
             "linecolor": "white",
             "minorgridcolor": "white",
             "startlinecolor": "#2a3f5f"
            },
            "type": "carpet"
           }
          ],
          "choropleth": [
           {
            "colorbar": {
             "outlinewidth": 0,
             "ticks": ""
            },
            "type": "choropleth"
           }
          ],
          "contour": [
           {
            "colorbar": {
             "outlinewidth": 0,
             "ticks": ""
            },
            "colorscale": [
             [
              0,
              "#0d0887"
             ],
             [
              0.1111111111111111,
              "#46039f"
             ],
             [
              0.2222222222222222,
              "#7201a8"
             ],
             [
              0.3333333333333333,
              "#9c179e"
             ],
             [
              0.4444444444444444,
              "#bd3786"
             ],
             [
              0.5555555555555556,
              "#d8576b"
             ],
             [
              0.6666666666666666,
              "#ed7953"
             ],
             [
              0.7777777777777778,
              "#fb9f3a"
             ],
             [
              0.8888888888888888,
              "#fdca26"
             ],
             [
              1,
              "#f0f921"
             ]
            ],
            "type": "contour"
           }
          ],
          "contourcarpet": [
           {
            "colorbar": {
             "outlinewidth": 0,
             "ticks": ""
            },
            "type": "contourcarpet"
           }
          ],
          "heatmap": [
           {
            "colorbar": {
             "outlinewidth": 0,
             "ticks": ""
            },
            "colorscale": [
             [
              0,
              "#0d0887"
             ],
             [
              0.1111111111111111,
              "#46039f"
             ],
             [
              0.2222222222222222,
              "#7201a8"
             ],
             [
              0.3333333333333333,
              "#9c179e"
             ],
             [
              0.4444444444444444,
              "#bd3786"
             ],
             [
              0.5555555555555556,
              "#d8576b"
             ],
             [
              0.6666666666666666,
              "#ed7953"
             ],
             [
              0.7777777777777778,
              "#fb9f3a"
             ],
             [
              0.8888888888888888,
              "#fdca26"
             ],
             [
              1,
              "#f0f921"
             ]
            ],
            "type": "heatmap"
           }
          ],
          "heatmapgl": [
           {
            "colorbar": {
             "outlinewidth": 0,
             "ticks": ""
            },
            "colorscale": [
             [
              0,
              "#0d0887"
             ],
             [
              0.1111111111111111,
              "#46039f"
             ],
             [
              0.2222222222222222,
              "#7201a8"
             ],
             [
              0.3333333333333333,
              "#9c179e"
             ],
             [
              0.4444444444444444,
              "#bd3786"
             ],
             [
              0.5555555555555556,
              "#d8576b"
             ],
             [
              0.6666666666666666,
              "#ed7953"
             ],
             [
              0.7777777777777778,
              "#fb9f3a"
             ],
             [
              0.8888888888888888,
              "#fdca26"
             ],
             [
              1,
              "#f0f921"
             ]
            ],
            "type": "heatmapgl"
           }
          ],
          "histogram": [
           {
            "marker": {
             "pattern": {
              "fillmode": "overlay",
              "size": 10,
              "solidity": 0.2
             }
            },
            "type": "histogram"
           }
          ],
          "histogram2d": [
           {
            "colorbar": {
             "outlinewidth": 0,
             "ticks": ""
            },
            "colorscale": [
             [
              0,
              "#0d0887"
             ],
             [
              0.1111111111111111,
              "#46039f"
             ],
             [
              0.2222222222222222,
              "#7201a8"
             ],
             [
              0.3333333333333333,
              "#9c179e"
             ],
             [
              0.4444444444444444,
              "#bd3786"
             ],
             [
              0.5555555555555556,
              "#d8576b"
             ],
             [
              0.6666666666666666,
              "#ed7953"
             ],
             [
              0.7777777777777778,
              "#fb9f3a"
             ],
             [
              0.8888888888888888,
              "#fdca26"
             ],
             [
              1,
              "#f0f921"
             ]
            ],
            "type": "histogram2d"
           }
          ],
          "histogram2dcontour": [
           {
            "colorbar": {
             "outlinewidth": 0,
             "ticks": ""
            },
            "colorscale": [
             [
              0,
              "#0d0887"
             ],
             [
              0.1111111111111111,
              "#46039f"
             ],
             [
              0.2222222222222222,
              "#7201a8"
             ],
             [
              0.3333333333333333,
              "#9c179e"
             ],
             [
              0.4444444444444444,
              "#bd3786"
             ],
             [
              0.5555555555555556,
              "#d8576b"
             ],
             [
              0.6666666666666666,
              "#ed7953"
             ],
             [
              0.7777777777777778,
              "#fb9f3a"
             ],
             [
              0.8888888888888888,
              "#fdca26"
             ],
             [
              1,
              "#f0f921"
             ]
            ],
            "type": "histogram2dcontour"
           }
          ],
          "mesh3d": [
           {
            "colorbar": {
             "outlinewidth": 0,
             "ticks": ""
            },
            "type": "mesh3d"
           }
          ],
          "parcoords": [
           {
            "line": {
             "colorbar": {
              "outlinewidth": 0,
              "ticks": ""
             }
            },
            "type": "parcoords"
           }
          ],
          "pie": [
           {
            "automargin": true,
            "type": "pie"
           }
          ],
          "scatter": [
           {
            "fillpattern": {
             "fillmode": "overlay",
             "size": 10,
             "solidity": 0.2
            },
            "type": "scatter"
           }
          ],
          "scatter3d": [
           {
            "line": {
             "colorbar": {
              "outlinewidth": 0,
              "ticks": ""
             }
            },
            "marker": {
             "colorbar": {
              "outlinewidth": 0,
              "ticks": ""
             }
            },
            "type": "scatter3d"
           }
          ],
          "scattercarpet": [
           {
            "marker": {
             "colorbar": {
              "outlinewidth": 0,
              "ticks": ""
             }
            },
            "type": "scattercarpet"
           }
          ],
          "scattergeo": [
           {
            "marker": {
             "colorbar": {
              "outlinewidth": 0,
              "ticks": ""
             }
            },
            "type": "scattergeo"
           }
          ],
          "scattergl": [
           {
            "marker": {
             "colorbar": {
              "outlinewidth": 0,
              "ticks": ""
             }
            },
            "type": "scattergl"
           }
          ],
          "scattermapbox": [
           {
            "marker": {
             "colorbar": {
              "outlinewidth": 0,
              "ticks": ""
             }
            },
            "type": "scattermapbox"
           }
          ],
          "scatterpolar": [
           {
            "marker": {
             "colorbar": {
              "outlinewidth": 0,
              "ticks": ""
             }
            },
            "type": "scatterpolar"
           }
          ],
          "scatterpolargl": [
           {
            "marker": {
             "colorbar": {
              "outlinewidth": 0,
              "ticks": ""
             }
            },
            "type": "scatterpolargl"
           }
          ],
          "scatterternary": [
           {
            "marker": {
             "colorbar": {
              "outlinewidth": 0,
              "ticks": ""
             }
            },
            "type": "scatterternary"
           }
          ],
          "surface": [
           {
            "colorbar": {
             "outlinewidth": 0,
             "ticks": ""
            },
            "colorscale": [
             [
              0,
              "#0d0887"
             ],
             [
              0.1111111111111111,
              "#46039f"
             ],
             [
              0.2222222222222222,
              "#7201a8"
             ],
             [
              0.3333333333333333,
              "#9c179e"
             ],
             [
              0.4444444444444444,
              "#bd3786"
             ],
             [
              0.5555555555555556,
              "#d8576b"
             ],
             [
              0.6666666666666666,
              "#ed7953"
             ],
             [
              0.7777777777777778,
              "#fb9f3a"
             ],
             [
              0.8888888888888888,
              "#fdca26"
             ],
             [
              1,
              "#f0f921"
             ]
            ],
            "type": "surface"
           }
          ],
          "table": [
           {
            "cells": {
             "fill": {
              "color": "#EBF0F8"
             },
             "line": {
              "color": "white"
             }
            },
            "header": {
             "fill": {
              "color": "#C8D4E3"
             },
             "line": {
              "color": "white"
             }
            },
            "type": "table"
           }
          ]
         },
         "layout": {
          "annotationdefaults": {
           "arrowcolor": "#2a3f5f",
           "arrowhead": 0,
           "arrowwidth": 1
          },
          "autotypenumbers": "strict",
          "coloraxis": {
           "colorbar": {
            "outlinewidth": 0,
            "ticks": ""
           }
          },
          "colorscale": {
           "diverging": [
            [
             0,
             "#8e0152"
            ],
            [
             0.1,
             "#c51b7d"
            ],
            [
             0.2,
             "#de77ae"
            ],
            [
             0.3,
             "#f1b6da"
            ],
            [
             0.4,
             "#fde0ef"
            ],
            [
             0.5,
             "#f7f7f7"
            ],
            [
             0.6,
             "#e6f5d0"
            ],
            [
             0.7,
             "#b8e186"
            ],
            [
             0.8,
             "#7fbc41"
            ],
            [
             0.9,
             "#4d9221"
            ],
            [
             1,
             "#276419"
            ]
           ],
           "sequential": [
            [
             0,
             "#0d0887"
            ],
            [
             0.1111111111111111,
             "#46039f"
            ],
            [
             0.2222222222222222,
             "#7201a8"
            ],
            [
             0.3333333333333333,
             "#9c179e"
            ],
            [
             0.4444444444444444,
             "#bd3786"
            ],
            [
             0.5555555555555556,
             "#d8576b"
            ],
            [
             0.6666666666666666,
             "#ed7953"
            ],
            [
             0.7777777777777778,
             "#fb9f3a"
            ],
            [
             0.8888888888888888,
             "#fdca26"
            ],
            [
             1,
             "#f0f921"
            ]
           ],
           "sequentialminus": [
            [
             0,
             "#0d0887"
            ],
            [
             0.1111111111111111,
             "#46039f"
            ],
            [
             0.2222222222222222,
             "#7201a8"
            ],
            [
             0.3333333333333333,
             "#9c179e"
            ],
            [
             0.4444444444444444,
             "#bd3786"
            ],
            [
             0.5555555555555556,
             "#d8576b"
            ],
            [
             0.6666666666666666,
             "#ed7953"
            ],
            [
             0.7777777777777778,
             "#fb9f3a"
            ],
            [
             0.8888888888888888,
             "#fdca26"
            ],
            [
             1,
             "#f0f921"
            ]
           ]
          },
          "colorway": [
           "#636efa",
           "#EF553B",
           "#00cc96",
           "#ab63fa",
           "#FFA15A",
           "#19d3f3",
           "#FF6692",
           "#B6E880",
           "#FF97FF",
           "#FECB52"
          ],
          "font": {
           "color": "#2a3f5f"
          },
          "geo": {
           "bgcolor": "white",
           "lakecolor": "white",
           "landcolor": "#E5ECF6",
           "showlakes": true,
           "showland": true,
           "subunitcolor": "white"
          },
          "hoverlabel": {
           "align": "left"
          },
          "hovermode": "closest",
          "mapbox": {
           "style": "light"
          },
          "paper_bgcolor": "white",
          "plot_bgcolor": "#E5ECF6",
          "polar": {
           "angularaxis": {
            "gridcolor": "white",
            "linecolor": "white",
            "ticks": ""
           },
           "bgcolor": "#E5ECF6",
           "radialaxis": {
            "gridcolor": "white",
            "linecolor": "white",
            "ticks": ""
           }
          },
          "scene": {
           "xaxis": {
            "backgroundcolor": "#E5ECF6",
            "gridcolor": "white",
            "gridwidth": 2,
            "linecolor": "white",
            "showbackground": true,
            "ticks": "",
            "zerolinecolor": "white"
           },
           "yaxis": {
            "backgroundcolor": "#E5ECF6",
            "gridcolor": "white",
            "gridwidth": 2,
            "linecolor": "white",
            "showbackground": true,
            "ticks": "",
            "zerolinecolor": "white"
           },
           "zaxis": {
            "backgroundcolor": "#E5ECF6",
            "gridcolor": "white",
            "gridwidth": 2,
            "linecolor": "white",
            "showbackground": true,
            "ticks": "",
            "zerolinecolor": "white"
           }
          },
          "shapedefaults": {
           "line": {
            "color": "#2a3f5f"
           }
          },
          "ternary": {
           "aaxis": {
            "gridcolor": "white",
            "linecolor": "white",
            "ticks": ""
           },
           "baxis": {
            "gridcolor": "white",
            "linecolor": "white",
            "ticks": ""
           },
           "bgcolor": "#E5ECF6",
           "caxis": {
            "gridcolor": "white",
            "linecolor": "white",
            "ticks": ""
           }
          },
          "title": {
           "x": 0.05
          },
          "xaxis": {
           "automargin": true,
           "gridcolor": "white",
           "linecolor": "white",
           "ticks": "",
           "title": {
            "standoff": 15
           },
           "zerolinecolor": "white",
           "zerolinewidth": 2
          },
          "yaxis": {
           "automargin": true,
           "gridcolor": "white",
           "linecolor": "white",
           "ticks": "",
           "title": {
            "standoff": 15
           },
           "zerolinecolor": "white",
           "zerolinewidth": 2
          }
         }
        },
        "title": {
         "text": "Chess Ratings Over Time (Grouped by Year)"
        },
        "xaxis": {
         "anchor": "y",
         "domain": [
          0,
          1
         ],
         "title": {
          "text": "Date"
         }
        },
        "yaxis": {
         "anchor": "x",
         "domain": [
          0,
          1
         ],
         "title": {
          "text": "Rating"
         }
        }
       }
      },
      "text/html": [
       "<div>                            <div id=\"dc31e111-8410-45e4-9693-9821b7ad5ae0\" class=\"plotly-graph-div\" style=\"height:525px; width:100%;\"></div>            <script type=\"text/javascript\">                require([\"plotly\"], function(Plotly) {                    window.PLOTLYENV=window.PLOTLYENV || {};                                    if (document.getElementById(\"dc31e111-8410-45e4-9693-9821b7ad5ae0\")) {                    Plotly.newPlot(                        \"dc31e111-8410-45e4-9693-9821b7ad5ae0\",                        [{\"hovertemplate\":\"Year=2019\\u003cbr\\u003eDate=%{x}\\u003cbr\\u003eRating=%{y}\\u003cextra\\u003e\\u003c\\u002fextra\\u003e\",\"legendgroup\":\"2019\",\"line\":{\"color\":\"#636efa\",\"dash\":\"solid\"},\"marker\":{\"symbol\":\"circle\"},\"mode\":\"lines\",\"name\":\"2019\",\"showlegend\":true,\"x\":[\"2019-10-30T00:00:00\",\"2019-10-30T00:00:00\",\"2019-10-30T00:00:00\",\"2019-10-31T00:00:00\",\"2019-10-31T00:00:00\",\"2019-10-31T00:00:00\",\"2019-10-31T00:00:00\",\"2019-10-31T00:00:00\",\"2019-10-31T00:00:00\",\"2019-10-31T00:00:00\",\"2019-10-31T00:00:00\",\"2019-10-31T00:00:00\",\"2019-11-01T00:00:00\",\"2019-11-01T00:00:00\",\"2019-11-01T00:00:00\",\"2019-11-01T00:00:00\",\"2019-11-01T00:00:00\",\"2019-11-01T00:00:00\",\"2019-11-01T00:00:00\",\"2019-11-01T00:00:00\",\"2019-11-01T00:00:00\",\"2019-11-01T00:00:00\",\"2019-11-01T00:00:00\",\"2019-11-01T00:00:00\",\"2019-11-01T00:00:00\",\"2019-11-02T00:00:00\",\"2019-11-02T00:00:00\",\"2019-11-02T00:00:00\",\"2019-11-02T00:00:00\",\"2019-11-02T00:00:00\",\"2019-11-02T00:00:00\",\"2019-11-02T00:00:00\",\"2019-11-02T00:00:00\",\"2019-11-03T00:00:00\",\"2019-11-03T00:00:00\",\"2019-11-03T00:00:00\",\"2019-11-04T00:00:00\",\"2019-11-04T00:00:00\",\"2019-11-04T00:00:00\",\"2019-11-05T00:00:00\",\"2019-11-05T00:00:00\",\"2019-11-05T00:00:00\",\"2019-11-06T00:00:00\",\"2019-11-06T00:00:00\",\"2019-11-06T00:00:00\",\"2019-11-06T00:00:00\",\"2019-11-06T00:00:00\",\"2019-11-07T00:00:00\",\"2019-11-07T00:00:00\",\"2019-11-08T00:00:00\",\"2019-11-08T00:00:00\"],\"xaxis\":\"x\",\"y\":[1151.0,1238.0,1362.0,1147.0,1041.0,988.0,948.0,915.0,1093.0,null,1204.0,889.0,816.0,814.0,798.0,811.0,827.0,827.0,873.0,854.0,828.0,812.0,797.0,818.0,798.0,822.0,811.0,823.0,824.0,829.0,841.0,843.0,834.0,null,658.0,810.0,823.0,834.0,826.0,822.0,831.0,810.0,824.0,818.0,816.0,807.0,800.0,793.0,785.0,776.0,771.0],\"yaxis\":\"y\",\"type\":\"scattergl\"},{\"hovertemplate\":\"Year=2020\\u003cbr\\u003eDate=%{x}\\u003cbr\\u003eRating=%{y}\\u003cextra\\u003e\\u003c\\u002fextra\\u003e\",\"legendgroup\":\"2020\",\"line\":{\"color\":\"#EF553B\",\"dash\":\"solid\"},\"marker\":{\"symbol\":\"circle\"},\"mode\":\"lines\",\"name\":\"2020\",\"showlegend\":true,\"x\":[\"2020-04-23T00:00:00\",\"2020-04-23T00:00:00\",\"2020-04-23T00:00:00\",\"2020-04-23T00:00:00\",\"2020-04-24T00:00:00\",\"2020-04-24T00:00:00\",\"2020-04-24T00:00:00\",\"2020-04-24T00:00:00\",\"2020-04-24T00:00:00\",\"2020-04-24T00:00:00\",\"2020-04-25T00:00:00\",\"2020-04-25T00:00:00\",\"2020-04-25T00:00:00\",\"2020-04-25T00:00:00\",\"2020-04-25T00:00:00\",\"2020-04-25T00:00:00\",\"2020-04-25T00:00:00\",\"2020-04-25T00:00:00\",\"2020-04-25T00:00:00\",\"2020-04-25T00:00:00\",\"2020-04-25T00:00:00\",\"2020-04-25T00:00:00\",\"2020-04-25T00:00:00\",\"2020-04-25T00:00:00\",\"2020-04-25T00:00:00\",\"2020-04-25T00:00:00\",\"2020-04-26T00:00:00\",\"2020-04-26T00:00:00\",\"2020-04-26T00:00:00\",\"2020-04-26T00:00:00\",\"2020-04-26T00:00:00\",\"2020-04-26T00:00:00\",\"2020-04-26T00:00:00\",\"2020-04-26T00:00:00\",\"2020-04-26T00:00:00\",\"2020-04-26T00:00:00\",\"2020-04-26T00:00:00\",\"2020-04-26T00:00:00\",\"2020-04-26T00:00:00\",\"2020-04-27T00:00:00\",\"2020-04-27T00:00:00\",\"2020-04-27T00:00:00\",\"2020-04-27T00:00:00\",\"2020-04-27T00:00:00\",\"2020-04-28T00:00:00\",\"2020-04-28T00:00:00\",\"2020-04-28T00:00:00\",\"2020-04-29T00:00:00\",\"2020-04-29T00:00:00\",\"2020-04-29T00:00:00\",\"2020-04-29T00:00:00\",\"2020-04-29T00:00:00\",\"2020-04-29T00:00:00\",\"2020-04-29T00:00:00\",\"2020-04-29T00:00:00\",\"2020-04-30T00:00:00\",\"2020-04-30T00:00:00\",\"2020-04-30T00:00:00\",\"2020-04-30T00:00:00\",\"2020-05-01T00:00:00\",\"2020-05-01T00:00:00\",\"2020-05-01T00:00:00\",\"2020-05-01T00:00:00\",\"2020-05-01T00:00:00\",\"2020-05-02T00:00:00\",\"2020-05-02T00:00:00\",\"2020-05-02T00:00:00\",\"2020-05-02T00:00:00\",\"2020-05-02T00:00:00\",\"2020-05-02T00:00:00\",\"2020-05-02T00:00:00\",\"2020-05-02T00:00:00\",\"2020-05-02T00:00:00\",\"2020-05-02T00:00:00\",\"2020-05-02T00:00:00\",\"2020-05-02T00:00:00\",\"2020-05-02T00:00:00\",\"2020-05-03T00:00:00\",\"2020-05-03T00:00:00\",\"2020-05-03T00:00:00\",\"2020-05-03T00:00:00\",\"2020-05-03T00:00:00\",\"2020-05-04T00:00:00\",\"2020-05-04T00:00:00\",\"2020-05-04T00:00:00\",\"2020-05-05T00:00:00\",\"2020-05-05T00:00:00\",\"2020-05-05T00:00:00\",\"2020-05-05T00:00:00\",\"2020-05-05T00:00:00\",\"2020-05-05T00:00:00\",\"2020-05-05T00:00:00\",\"2020-05-05T00:00:00\",\"2020-05-06T00:00:00\",\"2020-05-06T00:00:00\",\"2020-05-06T00:00:00\",\"2020-05-06T00:00:00\",\"2020-05-06T00:00:00\",\"2020-05-06T00:00:00\",\"2020-05-06T00:00:00\",\"2020-05-06T00:00:00\",\"2020-05-06T00:00:00\",\"2020-05-06T00:00:00\",\"2020-05-07T00:00:00\",\"2020-05-07T00:00:00\",\"2020-05-07T00:00:00\",\"2020-05-07T00:00:00\",\"2020-05-07T00:00:00\",\"2020-05-07T00:00:00\",\"2020-05-07T00:00:00\",\"2020-05-07T00:00:00\",\"2020-05-07T00:00:00\",\"2020-05-07T00:00:00\",\"2020-05-07T00:00:00\",\"2020-05-07T00:00:00\",\"2020-05-08T00:00:00\",\"2020-05-08T00:00:00\",\"2020-05-08T00:00:00\",\"2020-05-08T00:00:00\",\"2020-05-08T00:00:00\",\"2020-05-08T00:00:00\",\"2020-05-08T00:00:00\",\"2020-05-08T00:00:00\",\"2020-05-08T00:00:00\",\"2020-05-08T00:00:00\",\"2020-05-09T00:00:00\",\"2020-05-09T00:00:00\",\"2020-05-09T00:00:00\",\"2020-05-09T00:00:00\",\"2020-05-09T00:00:00\",\"2020-05-09T00:00:00\",\"2020-05-09T00:00:00\",\"2020-05-10T00:00:00\",\"2020-05-10T00:00:00\",\"2020-05-10T00:00:00\",\"2020-05-10T00:00:00\",\"2020-05-10T00:00:00\",\"2020-05-10T00:00:00\",\"2020-05-10T00:00:00\",\"2020-05-10T00:00:00\",\"2020-05-10T00:00:00\",\"2020-05-10T00:00:00\",\"2020-05-10T00:00:00\",\"2020-05-10T00:00:00\",\"2020-05-11T00:00:00\",\"2020-05-11T00:00:00\",\"2020-05-11T00:00:00\",\"2020-05-11T00:00:00\",\"2020-05-11T00:00:00\",\"2020-05-11T00:00:00\",\"2020-05-11T00:00:00\",\"2020-05-11T00:00:00\",\"2020-05-11T00:00:00\",\"2020-05-11T00:00:00\",\"2020-05-11T00:00:00\",\"2020-05-11T00:00:00\",\"2020-05-11T00:00:00\",\"2020-05-12T00:00:00\",\"2020-05-12T00:00:00\",\"2020-05-12T00:00:00\",\"2020-05-12T00:00:00\",\"2020-05-12T00:00:00\",\"2020-05-12T00:00:00\",\"2020-05-12T00:00:00\",\"2020-05-12T00:00:00\",\"2020-05-12T00:00:00\",\"2020-05-12T00:00:00\",\"2020-05-12T00:00:00\",\"2020-05-12T00:00:00\",\"2020-05-13T00:00:00\",\"2020-05-13T00:00:00\",\"2020-05-13T00:00:00\",\"2020-05-13T00:00:00\",\"2020-05-13T00:00:00\",\"2020-05-13T00:00:00\",\"2020-05-13T00:00:00\",\"2020-05-13T00:00:00\",\"2020-05-13T00:00:00\",\"2020-05-13T00:00:00\",\"2020-05-13T00:00:00\",\"2020-05-13T00:00:00\",\"2020-05-13T00:00:00\",\"2020-05-13T00:00:00\",\"2020-05-14T00:00:00\",\"2020-05-14T00:00:00\",\"2020-05-14T00:00:00\",\"2020-05-14T00:00:00\",\"2020-05-14T00:00:00\",\"2020-05-14T00:00:00\",\"2020-05-15T00:00:00\",\"2020-05-15T00:00:00\",\"2020-05-15T00:00:00\",\"2020-05-15T00:00:00\",\"2020-05-15T00:00:00\",\"2020-05-15T00:00:00\",\"2020-05-15T00:00:00\",\"2020-05-16T00:00:00\",\"2020-05-16T00:00:00\",\"2020-05-16T00:00:00\",\"2020-05-16T00:00:00\",\"2020-05-16T00:00:00\",\"2020-05-16T00:00:00\",\"2020-05-17T00:00:00\",\"2020-05-17T00:00:00\",\"2020-05-17T00:00:00\",\"2020-05-17T00:00:00\",\"2020-05-17T00:00:00\",\"2020-05-17T00:00:00\",\"2020-05-17T00:00:00\",\"2020-05-17T00:00:00\",\"2020-05-18T00:00:00\",\"2020-05-18T00:00:00\",\"2020-05-18T00:00:00\",\"2020-05-18T00:00:00\",\"2020-05-18T00:00:00\",\"2020-05-18T00:00:00\",\"2020-05-18T00:00:00\",\"2020-05-18T00:00:00\",\"2020-05-18T00:00:00\",\"2020-05-19T00:00:00\",\"2020-05-19T00:00:00\",\"2020-05-19T00:00:00\",\"2020-05-19T00:00:00\",\"2020-05-19T00:00:00\",\"2020-05-19T00:00:00\",\"2020-05-19T00:00:00\",\"2020-05-19T00:00:00\",\"2020-05-20T00:00:00\",\"2020-05-20T00:00:00\",\"2020-05-20T00:00:00\",\"2020-05-20T00:00:00\",\"2020-05-20T00:00:00\",\"2020-05-20T00:00:00\",\"2020-05-21T00:00:00\",\"2020-05-21T00:00:00\",\"2020-05-21T00:00:00\",\"2020-05-21T00:00:00\",\"2020-05-21T00:00:00\",\"2020-05-21T00:00:00\",\"2020-05-21T00:00:00\",\"2020-05-21T00:00:00\",\"2020-05-21T00:00:00\",\"2020-05-22T00:00:00\",\"2020-05-22T00:00:00\",\"2020-05-22T00:00:00\",\"2020-05-22T00:00:00\",\"2020-05-22T00:00:00\",\"2020-05-23T00:00:00\",\"2020-05-23T00:00:00\",\"2020-05-23T00:00:00\",\"2020-05-23T00:00:00\",\"2020-05-23T00:00:00\",\"2020-05-23T00:00:00\",\"2020-05-23T00:00:00\",\"2020-05-23T00:00:00\",\"2020-05-24T00:00:00\",\"2020-05-24T00:00:00\",\"2020-05-24T00:00:00\",\"2020-05-24T00:00:00\",\"2020-05-24T00:00:00\",\"2020-05-24T00:00:00\",\"2020-05-24T00:00:00\",\"2020-05-24T00:00:00\",\"2020-05-24T00:00:00\",\"2020-05-25T00:00:00\",\"2020-05-25T00:00:00\",\"2020-05-25T00:00:00\",\"2020-05-25T00:00:00\",\"2020-05-25T00:00:00\",\"2020-05-25T00:00:00\",\"2020-05-25T00:00:00\",\"2020-05-25T00:00:00\",\"2020-05-25T00:00:00\",\"2020-05-25T00:00:00\",\"2020-05-25T00:00:00\",\"2020-05-25T00:00:00\",\"2020-05-25T00:00:00\",\"2020-05-25T00:00:00\",\"2020-05-25T00:00:00\",\"2020-05-25T00:00:00\",\"2020-05-25T00:00:00\",\"2020-05-25T00:00:00\",\"2020-05-25T00:00:00\",\"2020-05-26T00:00:00\",\"2020-05-26T00:00:00\",\"2020-05-26T00:00:00\",\"2020-05-26T00:00:00\",\"2020-05-26T00:00:00\",\"2020-05-26T00:00:00\",\"2020-05-26T00:00:00\",\"2020-05-26T00:00:00\",\"2020-05-26T00:00:00\",\"2020-05-26T00:00:00\",\"2020-05-26T00:00:00\",\"2020-05-26T00:00:00\",\"2020-05-26T00:00:00\",\"2020-05-26T00:00:00\",\"2020-05-26T00:00:00\",\"2020-05-27T00:00:00\",\"2020-05-27T00:00:00\",\"2020-05-27T00:00:00\",\"2020-05-27T00:00:00\",\"2020-05-27T00:00:00\",\"2020-05-27T00:00:00\",\"2020-05-27T00:00:00\",\"2020-05-27T00:00:00\",\"2020-05-28T00:00:00\",\"2020-05-28T00:00:00\",\"2020-05-28T00:00:00\",\"2020-05-28T00:00:00\",\"2020-05-28T00:00:00\",\"2020-05-28T00:00:00\",\"2020-05-28T00:00:00\",\"2020-05-28T00:00:00\",\"2020-05-29T00:00:00\",\"2020-05-29T00:00:00\",\"2020-05-29T00:00:00\",\"2020-05-29T00:00:00\",\"2020-05-29T00:00:00\",\"2020-05-29T00:00:00\",\"2020-05-29T00:00:00\",\"2020-05-29T00:00:00\",\"2020-05-29T00:00:00\",\"2020-05-29T00:00:00\",\"2020-05-29T00:00:00\",\"2020-05-29T00:00:00\",\"2020-05-29T00:00:00\",\"2020-05-29T00:00:00\",\"2020-05-30T00:00:00\",\"2020-05-30T00:00:00\",\"2020-05-30T00:00:00\",\"2020-05-30T00:00:00\",\"2020-05-30T00:00:00\",\"2020-05-30T00:00:00\",\"2020-05-30T00:00:00\",\"2020-05-30T00:00:00\",\"2020-05-30T00:00:00\",\"2020-05-31T00:00:00\",\"2020-05-31T00:00:00\",\"2020-05-31T00:00:00\",\"2020-05-31T00:00:00\",\"2020-05-31T00:00:00\",\"2020-05-31T00:00:00\",\"2020-05-31T00:00:00\",\"2020-05-31T00:00:00\",\"2020-05-31T00:00:00\",\"2020-05-31T00:00:00\",\"2020-05-31T00:00:00\",\"2020-06-01T00:00:00\",\"2020-06-01T00:00:00\",\"2020-06-01T00:00:00\",\"2020-06-01T00:00:00\",\"2020-06-01T00:00:00\",\"2020-06-01T00:00:00\",\"2020-06-01T00:00:00\",\"2020-06-01T00:00:00\",\"2020-06-01T00:00:00\",\"2020-06-02T00:00:00\",\"2020-06-02T00:00:00\",\"2020-06-02T00:00:00\",\"2020-06-02T00:00:00\",\"2020-06-02T00:00:00\",\"2020-06-02T00:00:00\",\"2020-06-02T00:00:00\",\"2020-06-02T00:00:00\",\"2020-06-03T00:00:00\",\"2020-06-03T00:00:00\",\"2020-06-03T00:00:00\",\"2020-06-03T00:00:00\",\"2020-06-03T00:00:00\",\"2020-06-03T00:00:00\",\"2020-06-03T00:00:00\",\"2020-06-04T00:00:00\",\"2020-06-04T00:00:00\",\"2020-06-04T00:00:00\",\"2020-06-04T00:00:00\",\"2020-06-04T00:00:00\",\"2020-06-04T00:00:00\",\"2020-06-04T00:00:00\",\"2020-06-05T00:00:00\",\"2020-06-05T00:00:00\",\"2020-06-05T00:00:00\",\"2020-06-05T00:00:00\",\"2020-06-06T00:00:00\",\"2020-06-06T00:00:00\",\"2020-06-06T00:00:00\",\"2020-06-06T00:00:00\",\"2020-06-06T00:00:00\",\"2020-06-06T00:00:00\",\"2020-06-06T00:00:00\",\"2020-06-06T00:00:00\",\"2020-06-06T00:00:00\",\"2020-06-07T00:00:00\",\"2020-06-07T00:00:00\",\"2020-06-07T00:00:00\",\"2020-06-07T00:00:00\",\"2020-06-07T00:00:00\",\"2020-06-07T00:00:00\",\"2020-06-07T00:00:00\",\"2020-06-07T00:00:00\",\"2020-06-07T00:00:00\",\"2020-06-08T00:00:00\",\"2020-06-08T00:00:00\",\"2020-06-09T00:00:00\",\"2020-06-09T00:00:00\",\"2020-06-09T00:00:00\",\"2020-06-09T00:00:00\",\"2020-06-10T00:00:00\",\"2020-06-10T00:00:00\",\"2020-06-10T00:00:00\",\"2020-06-11T00:00:00\",\"2020-06-11T00:00:00\",\"2020-06-11T00:00:00\",\"2020-06-11T00:00:00\",\"2020-06-12T00:00:00\",\"2020-06-12T00:00:00\",\"2020-06-13T00:00:00\",\"2020-06-13T00:00:00\",\"2020-06-13T00:00:00\",\"2020-06-13T00:00:00\",\"2020-06-13T00:00:00\",\"2020-06-13T00:00:00\",\"2020-06-14T00:00:00\",\"2020-06-14T00:00:00\",\"2020-06-14T00:00:00\",\"2020-06-14T00:00:00\",\"2020-06-14T00:00:00\",\"2020-06-14T00:00:00\",\"2020-06-14T00:00:00\",\"2020-06-14T00:00:00\",\"2020-06-14T00:00:00\",\"2020-06-14T00:00:00\",\"2020-06-14T00:00:00\",\"2020-06-15T00:00:00\",\"2020-06-15T00:00:00\",\"2020-06-15T00:00:00\",\"2020-06-15T00:00:00\",\"2020-06-16T00:00:00\",\"2020-06-16T00:00:00\",\"2020-06-16T00:00:00\",\"2020-06-16T00:00:00\",\"2020-06-16T00:00:00\",\"2020-06-16T00:00:00\",\"2020-06-16T00:00:00\",\"2020-06-17T00:00:00\",\"2020-06-17T00:00:00\",\"2020-06-17T00:00:00\",\"2020-06-17T00:00:00\",\"2020-06-17T00:00:00\",\"2020-06-17T00:00:00\",\"2020-06-17T00:00:00\",\"2020-06-17T00:00:00\",\"2020-06-18T00:00:00\",\"2020-06-18T00:00:00\",\"2020-06-18T00:00:00\",\"2020-06-18T00:00:00\",\"2020-06-18T00:00:00\",\"2020-06-18T00:00:00\",\"2020-06-18T00:00:00\",\"2020-06-19T00:00:00\",\"2020-06-19T00:00:00\",\"2020-06-19T00:00:00\",\"2020-06-19T00:00:00\",\"2020-06-19T00:00:00\",\"2020-06-19T00:00:00\",\"2020-06-19T00:00:00\",\"2020-06-19T00:00:00\",\"2020-06-19T00:00:00\",\"2020-06-19T00:00:00\",\"2020-06-20T00:00:00\",\"2020-06-20T00:00:00\",\"2020-06-20T00:00:00\",\"2020-06-20T00:00:00\",\"2020-06-20T00:00:00\",\"2020-06-20T00:00:00\",\"2020-06-20T00:00:00\",\"2020-06-20T00:00:00\",\"2020-06-20T00:00:00\",\"2020-06-20T00:00:00\",\"2020-06-20T00:00:00\",\"2020-06-20T00:00:00\",\"2020-06-21T00:00:00\",\"2020-06-21T00:00:00\",\"2020-06-22T00:00:00\",\"2020-06-22T00:00:00\",\"2020-06-23T00:00:00\",\"2020-06-23T00:00:00\",\"2020-06-23T00:00:00\",\"2020-06-23T00:00:00\",\"2020-06-23T00:00:00\",\"2020-06-23T00:00:00\",\"2020-06-24T00:00:00\",\"2020-06-24T00:00:00\",\"2020-06-24T00:00:00\",\"2020-06-24T00:00:00\",\"2020-06-25T00:00:00\",\"2020-06-25T00:00:00\",\"2020-06-25T00:00:00\",\"2020-06-25T00:00:00\",\"2020-06-25T00:00:00\",\"2020-06-25T00:00:00\",\"2020-06-26T00:00:00\",\"2020-06-26T00:00:00\",\"2020-06-26T00:00:00\",\"2020-06-27T00:00:00\",\"2020-06-27T00:00:00\",\"2020-06-27T00:00:00\",\"2020-06-27T00:00:00\",\"2020-06-28T00:00:00\",\"2020-06-28T00:00:00\",\"2020-06-28T00:00:00\",\"2020-06-28T00:00:00\",\"2020-06-28T00:00:00\",\"2020-06-28T00:00:00\",\"2020-06-28T00:00:00\",\"2020-06-28T00:00:00\",\"2020-06-28T00:00:00\",\"2020-06-28T00:00:00\",\"2020-06-28T00:00:00\",\"2020-06-28T00:00:00\",\"2020-06-29T00:00:00\",\"2020-06-29T00:00:00\",\"2020-06-29T00:00:00\",\"2020-06-29T00:00:00\",\"2020-06-29T00:00:00\",\"2020-06-29T00:00:00\",\"2020-06-29T00:00:00\",\"2020-06-29T00:00:00\",\"2020-06-29T00:00:00\",\"2020-06-30T00:00:00\",\"2020-06-30T00:00:00\",\"2020-06-30T00:00:00\",\"2020-06-30T00:00:00\",\"2020-06-30T00:00:00\",\"2020-06-30T00:00:00\",\"2020-06-30T00:00:00\",\"2020-06-30T00:00:00\",\"2020-06-30T00:00:00\",\"2020-06-30T00:00:00\",\"2020-07-01T00:00:00\",\"2020-07-01T00:00:00\",\"2020-07-01T00:00:00\",\"2020-07-01T00:00:00\",\"2020-07-01T00:00:00\",\"2020-07-01T00:00:00\",\"2020-07-02T00:00:00\",\"2020-07-02T00:00:00\",\"2020-07-02T00:00:00\",\"2020-07-02T00:00:00\",\"2020-07-03T00:00:00\",\"2020-07-03T00:00:00\",\"2020-07-03T00:00:00\",\"2020-07-03T00:00:00\",\"2020-07-03T00:00:00\",\"2020-07-03T00:00:00\",\"2020-07-03T00:00:00\",\"2020-07-03T00:00:00\",\"2020-07-04T00:00:00\",\"2020-07-04T00:00:00\",\"2020-07-04T00:00:00\",\"2020-07-04T00:00:00\",\"2020-07-04T00:00:00\",\"2020-07-04T00:00:00\",\"2020-07-05T00:00:00\",\"2020-07-05T00:00:00\",\"2020-07-05T00:00:00\",\"2020-07-05T00:00:00\",\"2020-07-05T00:00:00\",\"2020-07-05T00:00:00\",\"2020-07-05T00:00:00\",\"2020-07-06T00:00:00\",\"2020-07-06T00:00:00\",\"2020-07-06T00:00:00\",\"2020-07-06T00:00:00\",\"2020-07-06T00:00:00\",\"2020-07-06T00:00:00\",\"2020-07-06T00:00:00\",\"2020-07-06T00:00:00\",\"2020-07-06T00:00:00\",\"2020-07-07T00:00:00\",\"2020-07-07T00:00:00\",\"2020-07-07T00:00:00\",\"2020-07-07T00:00:00\",\"2020-07-07T00:00:00\",\"2020-07-07T00:00:00\",\"2020-07-07T00:00:00\",\"2020-07-07T00:00:00\",\"2020-07-08T00:00:00\",\"2020-07-08T00:00:00\",\"2020-07-08T00:00:00\",\"2020-07-08T00:00:00\",\"2020-07-08T00:00:00\",\"2020-07-08T00:00:00\",\"2020-07-08T00:00:00\",\"2020-07-08T00:00:00\",\"2020-07-08T00:00:00\",\"2020-07-09T00:00:00\",\"2020-07-09T00:00:00\",\"2020-07-09T00:00:00\",\"2020-07-09T00:00:00\",\"2020-07-09T00:00:00\",\"2020-07-09T00:00:00\",\"2020-07-10T00:00:00\",\"2020-07-10T00:00:00\",\"2020-07-10T00:00:00\",\"2020-07-11T00:00:00\",\"2020-07-12T00:00:00\",\"2020-07-12T00:00:00\",\"2020-07-13T00:00:00\",\"2020-07-13T00:00:00\",\"2020-07-13T00:00:00\",\"2020-07-13T00:00:00\",\"2020-07-14T00:00:00\",\"2020-07-15T00:00:00\",\"2020-07-15T00:00:00\",\"2020-07-16T00:00:00\",\"2020-07-16T00:00:00\",\"2020-07-16T00:00:00\",\"2020-07-16T00:00:00\",\"2020-07-16T00:00:00\",\"2020-07-16T00:00:00\",\"2020-07-17T00:00:00\",\"2020-07-17T00:00:00\",\"2020-07-17T00:00:00\",\"2020-07-18T00:00:00\",\"2020-07-18T00:00:00\",\"2020-07-18T00:00:00\",\"2020-07-18T00:00:00\",\"2020-07-19T00:00:00\",\"2020-07-19T00:00:00\",\"2020-07-20T00:00:00\",\"2020-07-20T00:00:00\",\"2020-07-20T00:00:00\",\"2020-07-20T00:00:00\",\"2020-07-21T00:00:00\",\"2020-07-21T00:00:00\",\"2020-07-21T00:00:00\",\"2020-07-22T00:00:00\",\"2020-07-22T00:00:00\",\"2020-07-22T00:00:00\",\"2020-07-23T00:00:00\",\"2020-07-25T00:00:00\",\"2020-07-25T00:00:00\",\"2020-07-25T00:00:00\",\"2020-07-26T00:00:00\",\"2020-07-26T00:00:00\",\"2020-07-26T00:00:00\",\"2020-07-27T00:00:00\",\"2020-07-27T00:00:00\",\"2020-07-27T00:00:00\",\"2020-07-28T00:00:00\",\"2020-07-28T00:00:00\",\"2020-07-28T00:00:00\",\"2020-07-29T00:00:00\",\"2020-07-29T00:00:00\",\"2020-07-30T00:00:00\",\"2020-07-30T00:00:00\",\"2020-07-30T00:00:00\",\"2020-07-30T00:00:00\",\"2020-07-31T00:00:00\",\"2020-07-31T00:00:00\",\"2020-07-31T00:00:00\",\"2020-08-01T00:00:00\",\"2020-08-01T00:00:00\",\"2020-08-02T00:00:00\",\"2020-08-02T00:00:00\",\"2020-08-03T00:00:00\",\"2020-08-03T00:00:00\",\"2020-08-03T00:00:00\",\"2020-08-03T00:00:00\",\"2020-08-03T00:00:00\",\"2020-08-04T00:00:00\",\"2020-08-04T00:00:00\",\"2020-08-05T00:00:00\",\"2020-08-06T00:00:00\",\"2020-08-06T00:00:00\",\"2020-08-07T00:00:00\",\"2020-08-07T00:00:00\",\"2020-08-07T00:00:00\",\"2020-08-08T00:00:00\",\"2020-08-08T00:00:00\",\"2020-08-08T00:00:00\",\"2020-08-09T00:00:00\",\"2020-08-09T00:00:00\",\"2020-08-10T00:00:00\",\"2020-08-10T00:00:00\",\"2020-08-10T00:00:00\",\"2020-08-11T00:00:00\",\"2020-08-11T00:00:00\",\"2020-08-12T00:00:00\",\"2020-08-13T00:00:00\",\"2020-08-13T00:00:00\",\"2020-08-13T00:00:00\",\"2020-08-13T00:00:00\",\"2020-08-14T00:00:00\",\"2020-08-14T00:00:00\",\"2020-08-14T00:00:00\",\"2020-08-14T00:00:00\",\"2020-08-19T00:00:00\",\"2020-08-19T00:00:00\",\"2020-08-19T00:00:00\",\"2020-08-20T00:00:00\",\"2020-08-27T00:00:00\",\"2020-08-28T00:00:00\",\"2020-08-28T00:00:00\",\"2020-08-28T00:00:00\",\"2020-08-30T00:00:00\",\"2020-08-30T00:00:00\",\"2020-08-30T00:00:00\",\"2020-08-31T00:00:00\",\"2020-08-31T00:00:00\",\"2020-09-01T00:00:00\",\"2020-09-01T00:00:00\",\"2020-09-03T00:00:00\",\"2020-09-04T00:00:00\",\"2020-09-05T00:00:00\",\"2020-09-08T00:00:00\",\"2020-09-17T00:00:00\",\"2020-09-18T00:00:00\",\"2020-09-18T00:00:00\",\"2020-09-18T00:00:00\",\"2020-09-18T00:00:00\",\"2020-10-05T00:00:00\",\"2020-10-11T00:00:00\",\"2020-10-11T00:00:00\",\"2020-10-29T00:00:00\",\"2020-11-02T00:00:00\",\"2020-11-18T00:00:00\",\"2020-11-18T00:00:00\",\"2020-11-20T00:00:00\",\"2020-11-22T00:00:00\",\"2020-11-24T00:00:00\",\"2020-11-24T00:00:00\",\"2020-11-24T00:00:00\",\"2020-11-25T00:00:00\",\"2020-11-26T00:00:00\",\"2020-11-26T00:00:00\",\"2020-11-26T00:00:00\",\"2020-11-26T00:00:00\",\"2020-11-26T00:00:00\",\"2020-11-27T00:00:00\",\"2020-11-27T00:00:00\",\"2020-11-27T00:00:00\",\"2020-11-28T00:00:00\",\"2020-11-28T00:00:00\",\"2020-11-28T00:00:00\",\"2020-11-28T00:00:00\",\"2020-11-28T00:00:00\",\"2020-11-29T00:00:00\",\"2020-11-29T00:00:00\",\"2020-11-30T00:00:00\",\"2020-11-30T00:00:00\",\"2020-12-01T00:00:00\",\"2020-12-01T00:00:00\",\"2020-12-01T00:00:00\",\"2020-12-01T00:00:00\",\"2020-12-01T00:00:00\",\"2020-12-01T00:00:00\",\"2020-12-01T00:00:00\",\"2020-12-01T00:00:00\",\"2020-12-01T00:00:00\",\"2020-12-01T00:00:00\",\"2020-12-01T00:00:00\",\"2020-12-01T00:00:00\",\"2020-12-01T00:00:00\",\"2020-12-01T00:00:00\",\"2020-12-01T00:00:00\",\"2020-12-01T00:00:00\",\"2020-12-01T00:00:00\",\"2020-12-01T00:00:00\",\"2020-12-01T00:00:00\",\"2020-12-01T00:00:00\",\"2020-12-02T00:00:00\",\"2020-12-04T00:00:00\",\"2020-12-04T00:00:00\",\"2020-12-05T00:00:00\",\"2020-12-05T00:00:00\",\"2020-12-06T00:00:00\",\"2020-12-06T00:00:00\",\"2020-12-06T00:00:00\",\"2020-12-06T00:00:00\",\"2020-12-07T00:00:00\",\"2020-12-07T00:00:00\",\"2020-12-07T00:00:00\",\"2020-12-08T00:00:00\",\"2020-12-08T00:00:00\",\"2020-12-09T00:00:00\",\"2020-12-09T00:00:00\",\"2020-12-10T00:00:00\",\"2020-12-11T00:00:00\",\"2020-12-11T00:00:00\",\"2020-12-11T00:00:00\",\"2020-12-12T00:00:00\",\"2020-12-13T00:00:00\",\"2020-12-13T00:00:00\",\"2020-12-14T00:00:00\",\"2020-12-14T00:00:00\",\"2020-12-14T00:00:00\",\"2020-12-15T00:00:00\",\"2020-12-15T00:00:00\",\"2020-12-15T00:00:00\",\"2020-12-16T00:00:00\",\"2020-12-16T00:00:00\",\"2020-12-16T00:00:00\",\"2020-12-16T00:00:00\",\"2020-12-16T00:00:00\",\"2020-12-17T00:00:00\",\"2020-12-17T00:00:00\",\"2020-12-17T00:00:00\",\"2020-12-17T00:00:00\",\"2020-12-18T00:00:00\",\"2020-12-18T00:00:00\",\"2020-12-18T00:00:00\",\"2020-12-19T00:00:00\",\"2020-12-19T00:00:00\",\"2020-12-19T00:00:00\",\"2020-12-20T00:00:00\",\"2020-12-21T00:00:00\",\"2020-12-21T00:00:00\",\"2020-12-22T00:00:00\",\"2020-12-22T00:00:00\",\"2020-12-24T00:00:00\",\"2020-12-26T00:00:00\",\"2020-12-26T00:00:00\",\"2020-12-26T00:00:00\",\"2020-12-27T00:00:00\",\"2020-12-27T00:00:00\",\"2020-12-27T00:00:00\",\"2020-12-28T00:00:00\",\"2020-12-28T00:00:00\",\"2020-12-28T00:00:00\",\"2020-12-28T00:00:00\",\"2020-12-28T00:00:00\",\"2020-12-28T00:00:00\",\"2020-12-29T00:00:00\",\"2020-12-29T00:00:00\",\"2020-12-29T00:00:00\",\"2020-12-30T00:00:00\",\"2020-12-30T00:00:00\",\"2020-12-30T00:00:00\",\"2020-12-30T00:00:00\",\"2020-12-30T00:00:00\",\"2020-12-30T00:00:00\",\"2020-12-30T00:00:00\",\"2020-12-30T00:00:00\",\"2020-12-31T00:00:00\",\"2020-12-31T00:00:00\",\"2020-12-31T00:00:00\",\"2020-12-31T00:00:00\",\"2020-12-31T00:00:00\",\"2020-12-31T00:00:00\",\"2020-12-31T00:00:00\",\"2020-12-31T00:00:00\"],\"xaxis\":\"x\",\"y\":[752.0,771.0,736.0,746.0,752.0,774.0,791.0,780.0,795.0,782.0,772.0,728.0,740.0,749.0,740.0,729.0,738.0,749.0,797.0,784.0,737.0,782.0,791.0,807.0,795.0,760.0,737.0,728.0,746.0,736.0,694.0,721.0,713.0,703.0,695.0,686.0,728.0,703.0,694.0,703.0,710.0,719.0,727.0,720.0,743.0,736.0,728.0,735.0,725.0,733.0,725.0,716.0,725.0,716.0,724.0,732.0,725.0,718.0,711.0,712.0,712.0,720.0,719.0,720.0,728.0,736.0,729.0,739.0,731.0,733.0,741.0,732.0,725.0,733.0,741.0,733.0,724.0,710.0,717.0,1021.0,726.0,null,717.0,726.0,719.0,721.0,729.0,720.0,728.0,730.0,738.0,746.0,755.0,732.0,740.0,731.0,723.0,748.0,740.0,749.0,740.0,747.0,747.0,781.0,764.0,772.0,789.0,773.0,766.0,781.0,749.0,741.0,732.0,739.0,758.0,781.0,784.0,771.0,763.0,771.0,779.0,787.0,780.0,772.0,773.0,770.0,777.0,761.0,754.0,763.0,770.0,777.0,770.0,762.0,754.0,761.0,761.0,769.0,776.0,753.0,753.0,760.0,768.0,761.0,743.0,735.0,727.0,735.0,742.0,734.0,745.0,736.0,753.0,760.0,768.0,751.0,727.0,759.0,751.0,743.0,735.0,768.0,743.0,760.0,742.0,750.0,759.0,751.0,744.0,732.0,741.0,748.0,747.0,738.0,745.0,754.0,739.0,769.0,777.0,785.0,777.0,769.0,761.0,731.0,739.0,748.0,740.0,740.0,731.0,740.0,758.0,750.0,741.0,750.0,743.0,749.0,734.0,735.0,742.0,734.0,741.0,742.0,765.0,758.0,750.0,748.0,739.0,731.0,723.0,756.0,714.0,721.0,722.0,713.0,723.0,715.0,715.0,731.0,724.0,722.0,730.0,739.0,747.0,740.0,732.0,740.0,747.0,756.0,739.0,747.0,754.0,762.0,756.0,789.0,780.0,780.0,773.0,765.0,758.0,750.0,743.0,750.0,796.0,805.0,798.0,805.0,796.0,797.0,790.0,807.0,815.0,823.0,830.0,823.0,830.0,872.0,865.0,856.0,839.0,848.0,839.0,846.0,839.0,847.0,909.0,875.0,883.0,876.0,884.0,901.0,894.0,902.0,900.0,894.0,900.0,893.0,886.0,895.0,888.0,880.0,872.0,879.0,908.0,919.0,912.0,919.0,927.0,918.0,909.0,908.0,900.0,906.0,898.0,889.0,897.0,890.0,882.0,899.0,951.0,942.0,934.0,926.0,926.0,934.0,926.0,934.0,955.0,972.0,963.0,970.0,953.0,962.0,963.0,944.0,930.0,930.0,922.0,930.0,937.0,945.0,938.0,959.0,967.0,975.0,967.0,974.0,965.0,953.0,907.0,898.0,906.0,914.0,914.0,906.0,914.0,922.0,922.0,907.0,906.0,898.0,899.0,916.0,907.0,916.0,908.0,915.0,915.0,908.0,881.0,889.0,889.0,890.0,881.0,890.0,899.0,906.0,898.0,881.0,889.0,881.0,889.0,897.0,905.0,897.0,905.0,938.0,930.0,946.0,914.0,922.0,938.0,null,947.0,938.0,946.0,954.0,954.0,946.0,946.0,954.0,962.0,954.0,946.0,961.0,953.0,953.0,961.0,938.0,946.0,938.0,null,945.0,969.0,985.0,977.0,985.0,993.0,985.0,977.0,969.0,977.0,961.0,969.0,961.0,953.0,945.0,937.0,936.0,929.0,928.0,936.0,928.0,928.0,920.0,944.0,936.0,926.0,935.0,927.0,918.0,928.0,936.0,929.0,945.0,953.0,938.0,936.0,945.0,938.0,945.0,936.0,927.0,945.0,937.0,929.0,936.0,943.0,960.0,935.0,944.0,951.0,960.0,968.0,951.0,null,960.0,952.0,960.0,953.0,961.0,969.0,962.0,961.0,969.0,978.0,968.0,978.0,970.0,970.0,966.0,976.0,984.0,976.0,968.0,975.0,973.0,966.0,975.0,984.0,935.0,935.0,921.0,944.0,928.0,936.0,943.0,950.0,958.0,943.0,967.0,975.0,929.0,920.0,911.0,919.0,933.0,941.0,928.0,935.0,934.0,926.0,941.0,949.0,941.0,948.0,963.0,955.0,948.0,955.0,940.0,963.0,972.0,971.0,964.0,980.0,988.0,996.0,1005.0,965.0,973.0,964.0,956.0,949.0,957.0,997.0,989.0,981.0,972.0,965.0,965.0,894.0,909.0,917.0,925.0,901.0,926.0,933.0,942.0,934.0,884.0,893.0,901.0,909.0,918.0,910.0,894.0,886.0,895.0,902.0,876.0,885.0,867.0,884.0,891.0,876.0,892.0,885.0,876.0,868.0,854.0,846.0,853.0,847.0,862.0,870.0,877.0,855.0,831.0,839.0,832.0,841.0,848.0,839.0,846.0,854.0,838.0,855.0,null,838.0,846.0,870.0,855.0,863.0,871.0,863.0,871.0,871.0,863.0,862.0,null,887.0,879.0,887.0,null,894.0,879.0,887.0,888.0,896.0,895.0,903.0,903.0,896.0,911.0,894.0,887.0,904.0,null,896.0,888.0,895.0,896.0,903.0,911.0,917.0,925.0,933.0,940.0,955.0,955.0,947.0,948.0,956.0,964.0,972.0,980.0,973.0,981.0,980.0,977.0,968.0,960.0,952.0,959.0,967.0,959.0,967.0,959.0,967.0,958.0,975.0,967.0,967.0,975.0,967.0,976.0,984.0,977.0,986.0,979.0,970.0,979.0,986.0,978.0,986.0,979.0,971.0,963.0,972.0,981.0,967.0,974.0,975.0,983.0,976.0,969.0,962.0,969.0,977.0,970.0,null,978.0,969.0,978.0,985.0,994.0,1004.0,1012.0,995.0,987.0,995.0,1019.0,1010.0,1018.0,1025.0,1032.0,1040.0,1032.0,1041.0,1040.0,1032.0,1032.0,1047.0,1039.0,1031.0,1031.0,1022.0,1049.0,1040.0,1056.0,1048.0,1048.0,1040.0,1040.0,1032.0,1024.0,1031.0,1038.0,1029.0,1021.0,1013.0,1013.0,1021.0,1007.0,1015.0,1014.0,1008.0,999.0,991.0,982.0,990.0,982.0,990.0,982.0,989.0,981.0,989.0,940.0,944.0,985.0,1020.0,982.0,1049.0,1070.0,1061.0,1041.0,1011.0,1011.0,985.0,1036.0,1058.0,1037.0,1018.0,1001.0,1017.0,1031.0,1016.0,1033.0,1019.0,1036.0,1044.0,1029.0,1043.0,1041.0,1043.0,1030.0,1053.0,1030.0,1043.0,1054.0,1054.0,1043.0,1079.0,1088.0,1074.0,1069.0,1064.0,1067.0,1062.0,1071.0,1082.0,1070.0,1077.0,1068.0,1055.0,1052.0,1072.0,1064.0,1052.0,1044.0,1035.0,1045.0,1086.0,1078.0,1086.0,1095.0,1087.0,1095.0,1103.0,1111.0,1103.0,1095.0,1112.0,1103.0,1111.0,1104.0,1112.0,1120.0,1112.0,1104.0,1112.0,1120.0,1128.0,1127.0,1135.0,1119.0,1126.0,1118.0,1109.0,1115.0,1108.0,1108.0,1125.0,1116.0,1125.0,1133.0,1133.0,1125.0,1133.0,1125.0,1134.0,1127.0,1136.0,1160.0,1145.0,1153.0,1167.0,1176.0,1185.0,1176.0,1167.0,1159.0,1166.0,1158.0,1165.0,1157.0,1148.0,1141.0,1162.0,1155.0,1148.0,1140.0,1148.0,1148.0,1153.0,1145.0,1138.0,1130.0,1153.0,1145.0,1137.0,1129.0,1122.0,1121.0,1130.0,1136.0,1129.0,1121.0,1129.0,1146.0,1129.0,1138.0,1136.0],\"yaxis\":\"y\",\"type\":\"scattergl\"},{\"hovertemplate\":\"Year=2021\\u003cbr\\u003eDate=%{x}\\u003cbr\\u003eRating=%{y}\\u003cextra\\u003e\\u003c\\u002fextra\\u003e\",\"legendgroup\":\"2021\",\"line\":{\"color\":\"#00cc96\",\"dash\":\"solid\"},\"marker\":{\"symbol\":\"circle\"},\"mode\":\"lines\",\"name\":\"2021\",\"showlegend\":true,\"x\":[\"2021-01-01T00:00:00\",\"2021-01-01T00:00:00\",\"2021-01-01T00:00:00\",\"2021-01-01T00:00:00\",\"2021-01-01T00:00:00\",\"2021-01-01T00:00:00\",\"2021-01-02T00:00:00\",\"2021-01-02T00:00:00\",\"2021-01-03T00:00:00\",\"2021-01-03T00:00:00\",\"2021-01-03T00:00:00\",\"2021-01-03T00:00:00\",\"2021-01-03T00:00:00\",\"2021-01-04T00:00:00\",\"2021-01-04T00:00:00\",\"2021-01-04T00:00:00\",\"2021-01-05T00:00:00\",\"2021-01-05T00:00:00\",\"2021-01-06T00:00:00\",\"2021-01-06T00:00:00\",\"2021-01-06T00:00:00\",\"2021-01-07T00:00:00\",\"2021-01-07T00:00:00\",\"2021-01-08T00:00:00\",\"2021-01-08T00:00:00\",\"2021-01-08T00:00:00\",\"2021-01-08T00:00:00\",\"2021-01-09T00:00:00\",\"2021-01-09T00:00:00\",\"2021-01-09T00:00:00\",\"2021-01-11T00:00:00\",\"2021-01-11T00:00:00\",\"2021-01-12T00:00:00\",\"2021-01-12T00:00:00\",\"2021-01-13T00:00:00\",\"2021-01-14T00:00:00\",\"2021-01-14T00:00:00\",\"2021-01-14T00:00:00\",\"2021-01-14T00:00:00\",\"2021-01-14T00:00:00\",\"2021-01-14T00:00:00\",\"2021-01-15T00:00:00\",\"2021-01-16T00:00:00\",\"2021-01-17T00:00:00\",\"2021-01-18T00:00:00\",\"2021-01-19T00:00:00\",\"2021-01-19T00:00:00\",\"2021-01-20T00:00:00\",\"2021-01-20T00:00:00\",\"2021-01-20T00:00:00\",\"2021-01-22T00:00:00\",\"2021-01-22T00:00:00\",\"2021-01-23T00:00:00\",\"2021-01-23T00:00:00\",\"2021-01-24T00:00:00\",\"2021-01-24T00:00:00\",\"2021-01-25T00:00:00\",\"2021-01-25T00:00:00\",\"2021-01-25T00:00:00\",\"2021-01-25T00:00:00\",\"2021-01-26T00:00:00\",\"2021-01-26T00:00:00\",\"2021-01-27T00:00:00\",\"2021-01-28T00:00:00\",\"2021-01-30T00:00:00\",\"2021-01-30T00:00:00\",\"2021-01-31T00:00:00\",\"2021-02-01T00:00:00\",\"2021-02-01T00:00:00\",\"2021-02-02T00:00:00\",\"2021-02-02T00:00:00\",\"2021-02-03T00:00:00\",\"2021-02-03T00:00:00\",\"2021-02-04T00:00:00\",\"2021-02-04T00:00:00\",\"2021-02-04T00:00:00\",\"2021-02-05T00:00:00\",\"2021-02-07T00:00:00\",\"2021-02-07T00:00:00\",\"2021-02-07T00:00:00\",\"2021-02-07T00:00:00\",\"2021-02-08T00:00:00\",\"2021-02-08T00:00:00\",\"2021-02-09T00:00:00\",\"2021-02-09T00:00:00\",\"2021-02-10T00:00:00\",\"2021-02-11T00:00:00\",\"2021-02-12T00:00:00\",\"2021-02-12T00:00:00\",\"2021-02-12T00:00:00\",\"2021-02-13T00:00:00\",\"2021-02-13T00:00:00\",\"2021-02-13T00:00:00\",\"2021-02-14T00:00:00\",\"2021-02-15T00:00:00\",\"2021-02-15T00:00:00\",\"2021-02-18T00:00:00\",\"2021-02-18T00:00:00\",\"2021-02-18T00:00:00\",\"2021-02-18T00:00:00\",\"2021-02-20T00:00:00\",\"2021-02-20T00:00:00\",\"2021-02-20T00:00:00\",\"2021-02-21T00:00:00\",\"2021-02-21T00:00:00\",\"2021-02-21T00:00:00\",\"2021-02-22T00:00:00\",\"2021-02-22T00:00:00\",\"2021-02-23T00:00:00\",\"2021-02-23T00:00:00\",\"2021-02-24T00:00:00\",\"2021-02-24T00:00:00\",\"2021-02-25T00:00:00\",\"2021-02-26T00:00:00\",\"2021-02-28T00:00:00\",\"2021-03-01T00:00:00\",\"2021-03-01T00:00:00\",\"2021-03-02T00:00:00\",\"2021-03-03T00:00:00\",\"2021-03-03T00:00:00\",\"2021-03-04T00:00:00\",\"2021-03-04T00:00:00\",\"2021-03-04T00:00:00\",\"2021-03-05T00:00:00\",\"2021-03-05T00:00:00\",\"2021-03-05T00:00:00\",\"2021-03-05T00:00:00\",\"2021-03-06T00:00:00\",\"2021-03-07T00:00:00\",\"2021-03-07T00:00:00\",\"2021-03-08T00:00:00\",\"2021-03-08T00:00:00\",\"2021-03-08T00:00:00\",\"2021-03-09T00:00:00\",\"2021-03-09T00:00:00\",\"2021-03-12T00:00:00\",\"2021-03-12T00:00:00\",\"2021-03-14T00:00:00\",\"2021-03-14T00:00:00\",\"2021-03-14T00:00:00\",\"2021-03-14T00:00:00\",\"2021-03-14T00:00:00\",\"2021-03-16T00:00:00\",\"2021-03-16T00:00:00\",\"2021-03-16T00:00:00\",\"2021-03-17T00:00:00\",\"2021-03-17T00:00:00\",\"2021-03-17T00:00:00\",\"2021-03-17T00:00:00\",\"2021-03-17T00:00:00\",\"2021-03-18T00:00:00\",\"2021-03-18T00:00:00\",\"2021-03-18T00:00:00\",\"2021-03-19T00:00:00\",\"2021-03-19T00:00:00\",\"2021-03-19T00:00:00\",\"2021-03-20T00:00:00\",\"2021-03-20T00:00:00\",\"2021-03-20T00:00:00\",\"2021-03-20T00:00:00\",\"2021-03-20T00:00:00\",\"2021-03-20T00:00:00\",\"2021-03-20T00:00:00\",\"2021-03-21T00:00:00\",\"2021-03-21T00:00:00\",\"2021-03-21T00:00:00\",\"2021-03-21T00:00:00\",\"2021-03-21T00:00:00\",\"2021-03-22T00:00:00\",\"2021-03-22T00:00:00\",\"2021-03-22T00:00:00\",\"2021-03-22T00:00:00\",\"2021-03-22T00:00:00\",\"2021-03-22T00:00:00\",\"2021-03-23T00:00:00\",\"2021-03-23T00:00:00\",\"2021-03-23T00:00:00\",\"2021-03-23T00:00:00\",\"2021-03-23T00:00:00\",\"2021-03-23T00:00:00\",\"2021-03-24T00:00:00\",\"2021-03-24T00:00:00\",\"2021-03-24T00:00:00\",\"2021-03-24T00:00:00\",\"2021-03-24T00:00:00\",\"2021-03-24T00:00:00\",\"2021-03-25T00:00:00\",\"2021-03-25T00:00:00\",\"2021-03-25T00:00:00\",\"2021-03-26T00:00:00\",\"2021-03-26T00:00:00\",\"2021-03-26T00:00:00\",\"2021-03-26T00:00:00\",\"2021-03-26T00:00:00\",\"2021-03-26T00:00:00\",\"2021-03-26T00:00:00\",\"2021-03-26T00:00:00\",\"2021-03-26T00:00:00\",\"2021-03-26T00:00:00\",\"2021-03-26T00:00:00\",\"2021-03-26T00:00:00\",\"2021-03-26T00:00:00\",\"2021-03-26T00:00:00\",\"2021-03-26T00:00:00\",\"2021-03-27T00:00:00\",\"2021-03-27T00:00:00\",\"2021-03-27T00:00:00\",\"2021-03-27T00:00:00\",\"2021-03-27T00:00:00\",\"2021-03-27T00:00:00\",\"2021-03-27T00:00:00\",\"2021-03-27T00:00:00\",\"2021-03-28T00:00:00\",\"2021-03-28T00:00:00\",\"2021-03-28T00:00:00\",\"2021-03-28T00:00:00\",\"2021-03-28T00:00:00\",\"2021-03-28T00:00:00\",\"2021-03-28T00:00:00\",\"2021-03-28T00:00:00\",\"2021-03-28T00:00:00\",\"2021-03-28T00:00:00\",\"2021-03-28T00:00:00\",\"2021-03-28T00:00:00\",\"2021-03-28T00:00:00\",\"2021-03-28T00:00:00\",\"2021-03-28T00:00:00\",\"2021-03-28T00:00:00\",\"2021-03-28T00:00:00\",\"2021-03-29T00:00:00\",\"2021-03-29T00:00:00\",\"2021-03-29T00:00:00\",\"2021-03-29T00:00:00\",\"2021-03-29T00:00:00\",\"2021-03-29T00:00:00\",\"2021-03-29T00:00:00\",\"2021-03-29T00:00:00\",\"2021-03-29T00:00:00\",\"2021-03-29T00:00:00\",\"2021-03-29T00:00:00\",\"2021-03-29T00:00:00\",\"2021-03-29T00:00:00\",\"2021-03-29T00:00:00\",\"2021-03-29T00:00:00\",\"2021-03-29T00:00:00\",\"2021-03-29T00:00:00\",\"2021-03-29T00:00:00\",\"2021-03-30T00:00:00\",\"2021-03-30T00:00:00\",\"2021-03-30T00:00:00\",\"2021-03-30T00:00:00\",\"2021-03-30T00:00:00\",\"2021-03-31T00:00:00\",\"2021-03-31T00:00:00\",\"2021-03-31T00:00:00\",\"2021-04-01T00:00:00\",\"2021-04-01T00:00:00\",\"2021-04-01T00:00:00\",\"2021-04-01T00:00:00\",\"2021-04-02T00:00:00\",\"2021-04-02T00:00:00\",\"2021-04-06T00:00:00\",\"2021-04-08T00:00:00\",\"2021-04-08T00:00:00\",\"2021-04-10T00:00:00\",\"2021-04-11T00:00:00\",\"2021-04-11T00:00:00\",\"2021-04-11T00:00:00\",\"2021-04-11T00:00:00\",\"2021-04-11T00:00:00\",\"2021-04-12T00:00:00\",\"2021-04-12T00:00:00\",\"2021-04-13T00:00:00\",\"2021-04-13T00:00:00\",\"2021-04-14T00:00:00\",\"2021-04-15T00:00:00\",\"2021-04-15T00:00:00\",\"2021-04-16T00:00:00\",\"2021-04-16T00:00:00\",\"2021-04-16T00:00:00\",\"2021-04-16T00:00:00\",\"2021-04-18T00:00:00\",\"2021-04-18T00:00:00\",\"2021-04-18T00:00:00\",\"2021-04-19T00:00:00\",\"2021-04-20T00:00:00\",\"2021-04-21T00:00:00\",\"2021-04-22T00:00:00\",\"2021-04-22T00:00:00\",\"2021-04-23T00:00:00\",\"2021-04-26T00:00:00\",\"2021-04-27T00:00:00\",\"2021-04-27T00:00:00\",\"2021-04-28T00:00:00\",\"2021-04-28T00:00:00\",\"2021-04-29T00:00:00\",\"2021-04-30T00:00:00\",\"2021-05-01T00:00:00\",\"2021-05-04T00:00:00\",\"2021-05-06T00:00:00\",\"2021-05-06T00:00:00\",\"2021-05-07T00:00:00\",\"2021-05-09T00:00:00\",\"2021-05-14T00:00:00\",\"2021-05-18T00:00:00\",\"2021-05-18T00:00:00\",\"2021-05-18T00:00:00\",\"2021-05-19T00:00:00\",\"2021-05-19T00:00:00\",\"2021-06-08T00:00:00\",\"2021-06-12T00:00:00\",\"2021-06-14T00:00:00\",\"2021-06-14T00:00:00\",\"2021-06-17T00:00:00\",\"2021-06-18T00:00:00\",\"2021-06-18T00:00:00\",\"2021-06-18T00:00:00\",\"2021-06-20T00:00:00\",\"2021-06-25T00:00:00\",\"2021-06-27T00:00:00\",\"2021-06-28T00:00:00\",\"2021-07-01T00:00:00\",\"2021-07-01T00:00:00\",\"2021-07-03T00:00:00\",\"2021-07-04T00:00:00\",\"2021-07-04T00:00:00\",\"2021-07-04T00:00:00\",\"2021-07-05T00:00:00\",\"2021-07-05T00:00:00\",\"2021-07-05T00:00:00\",\"2021-07-06T00:00:00\",\"2021-07-06T00:00:00\",\"2021-07-06T00:00:00\",\"2021-07-07T00:00:00\",\"2021-07-07T00:00:00\",\"2021-07-07T00:00:00\",\"2021-07-07T00:00:00\",\"2021-07-07T00:00:00\",\"2021-07-08T00:00:00\",\"2021-07-08T00:00:00\",\"2021-07-09T00:00:00\",\"2021-07-09T00:00:00\",\"2021-07-09T00:00:00\",\"2021-07-09T00:00:00\",\"2021-07-10T00:00:00\",\"2021-07-10T00:00:00\",\"2021-07-13T00:00:00\",\"2021-07-13T00:00:00\",\"2021-07-13T00:00:00\",\"2021-07-13T00:00:00\",\"2021-07-13T00:00:00\",\"2021-07-13T00:00:00\",\"2021-07-13T00:00:00\",\"2021-07-13T00:00:00\",\"2021-07-13T00:00:00\",\"2021-07-13T00:00:00\",\"2021-07-13T00:00:00\",\"2021-07-14T00:00:00\",\"2021-07-14T00:00:00\",\"2021-07-14T00:00:00\",\"2021-07-14T00:00:00\",\"2021-07-14T00:00:00\",\"2021-07-14T00:00:00\",\"2021-07-18T00:00:00\",\"2021-07-18T00:00:00\",\"2021-07-19T00:00:00\",\"2021-07-19T00:00:00\",\"2021-07-19T00:00:00\",\"2021-07-19T00:00:00\",\"2021-07-19T00:00:00\",\"2021-07-19T00:00:00\",\"2021-07-20T00:00:00\",\"2021-07-20T00:00:00\",\"2021-07-20T00:00:00\",\"2021-07-20T00:00:00\",\"2021-07-21T00:00:00\",\"2021-07-21T00:00:00\",\"2021-07-21T00:00:00\",\"2021-07-21T00:00:00\",\"2021-07-21T00:00:00\",\"2021-07-21T00:00:00\",\"2021-07-22T00:00:00\",\"2021-07-22T00:00:00\",\"2021-07-22T00:00:00\",\"2021-07-22T00:00:00\",\"2021-07-22T00:00:00\",\"2021-07-22T00:00:00\",\"2021-07-23T00:00:00\",\"2021-07-24T00:00:00\",\"2021-07-24T00:00:00\",\"2021-07-24T00:00:00\",\"2021-07-26T00:00:00\",\"2021-07-26T00:00:00\",\"2021-07-26T00:00:00\",\"2021-07-26T00:00:00\",\"2021-07-26T00:00:00\",\"2021-07-26T00:00:00\",\"2021-07-27T00:00:00\",\"2021-07-27T00:00:00\",\"2021-07-27T00:00:00\",\"2021-07-27T00:00:00\",\"2021-07-27T00:00:00\",\"2021-07-28T00:00:00\",\"2021-07-30T00:00:00\",\"2021-07-30T00:00:00\",\"2021-07-30T00:00:00\",\"2021-07-30T00:00:00\",\"2021-07-31T00:00:00\",\"2021-07-31T00:00:00\",\"2021-07-31T00:00:00\",\"2021-07-31T00:00:00\",\"2021-07-31T00:00:00\",\"2021-08-01T00:00:00\",\"2021-08-01T00:00:00\",\"2021-08-01T00:00:00\",\"2021-08-01T00:00:00\",\"2021-08-01T00:00:00\",\"2021-08-01T00:00:00\",\"2021-08-02T00:00:00\",\"2021-08-02T00:00:00\",\"2021-08-02T00:00:00\",\"2021-08-02T00:00:00\",\"2021-08-03T00:00:00\",\"2021-08-04T00:00:00\",\"2021-08-04T00:00:00\",\"2021-08-04T00:00:00\",\"2021-08-04T00:00:00\",\"2021-08-05T00:00:00\",\"2021-08-05T00:00:00\",\"2021-08-05T00:00:00\",\"2021-08-05T00:00:00\",\"2021-08-05T00:00:00\",\"2021-08-05T00:00:00\",\"2021-08-05T00:00:00\",\"2021-08-05T00:00:00\",\"2021-08-07T00:00:00\",\"2021-08-07T00:00:00\",\"2021-08-10T00:00:00\",\"2021-08-10T00:00:00\",\"2021-08-10T00:00:00\",\"2021-08-10T00:00:00\",\"2021-08-10T00:00:00\",\"2021-08-11T00:00:00\",\"2021-08-11T00:00:00\",\"2021-08-11T00:00:00\",\"2021-08-11T00:00:00\",\"2021-08-12T00:00:00\",\"2021-08-12T00:00:00\",\"2021-08-12T00:00:00\",\"2021-08-12T00:00:00\",\"2021-08-12T00:00:00\",\"2021-08-12T00:00:00\",\"2021-08-13T00:00:00\",\"2021-08-13T00:00:00\",\"2021-08-13T00:00:00\",\"2021-08-13T00:00:00\",\"2021-08-13T00:00:00\",\"2021-08-13T00:00:00\",\"2021-08-13T00:00:00\",\"2021-08-13T00:00:00\",\"2021-08-14T00:00:00\",\"2021-08-14T00:00:00\",\"2021-08-14T00:00:00\",\"2021-08-14T00:00:00\",\"2021-08-14T00:00:00\",\"2021-08-14T00:00:00\",\"2021-08-15T00:00:00\",\"2021-08-16T00:00:00\",\"2021-08-16T00:00:00\",\"2021-08-16T00:00:00\",\"2021-08-16T00:00:00\",\"2021-08-17T00:00:00\",\"2021-08-17T00:00:00\",\"2021-08-17T00:00:00\",\"2021-08-17T00:00:00\",\"2021-08-18T00:00:00\",\"2021-08-18T00:00:00\",\"2021-08-18T00:00:00\",\"2021-08-18T00:00:00\",\"2021-08-18T00:00:00\",\"2021-08-18T00:00:00\",\"2021-08-18T00:00:00\",\"2021-08-18T00:00:00\",\"2021-08-18T00:00:00\",\"2021-08-19T00:00:00\",\"2021-08-19T00:00:00\",\"2021-08-19T00:00:00\",\"2021-08-19T00:00:00\",\"2021-08-19T00:00:00\",\"2021-08-19T00:00:00\",\"2021-08-19T00:00:00\",\"2021-08-19T00:00:00\",\"2021-08-19T00:00:00\",\"2021-08-19T00:00:00\",\"2021-08-20T00:00:00\",\"2021-08-20T00:00:00\",\"2021-08-20T00:00:00\",\"2021-08-20T00:00:00\",\"2021-08-20T00:00:00\",\"2021-08-20T00:00:00\",\"2021-08-21T00:00:00\",\"2021-08-21T00:00:00\",\"2021-08-21T00:00:00\",\"2021-08-21T00:00:00\",\"2021-08-21T00:00:00\",\"2021-08-21T00:00:00\",\"2021-08-21T00:00:00\",\"2021-08-21T00:00:00\",\"2021-08-21T00:00:00\",\"2021-08-21T00:00:00\",\"2021-08-22T00:00:00\",\"2021-08-22T00:00:00\",\"2021-08-22T00:00:00\",\"2021-08-22T00:00:00\",\"2021-08-22T00:00:00\",\"2021-08-23T00:00:00\",\"2021-08-23T00:00:00\",\"2021-08-23T00:00:00\",\"2021-08-23T00:00:00\",\"2021-08-23T00:00:00\",\"2021-08-23T00:00:00\",\"2021-08-23T00:00:00\",\"2021-08-24T00:00:00\",\"2021-08-24T00:00:00\",\"2021-08-24T00:00:00\",\"2021-08-24T00:00:00\",\"2021-08-25T00:00:00\",\"2021-08-25T00:00:00\",\"2021-08-26T00:00:00\",\"2021-08-31T00:00:00\",\"2021-08-31T00:00:00\",\"2021-08-31T00:00:00\",\"2021-08-31T00:00:00\",\"2021-09-01T00:00:00\",\"2021-09-01T00:00:00\",\"2021-09-01T00:00:00\",\"2021-09-02T00:00:00\",\"2021-09-02T00:00:00\",\"2021-09-04T00:00:00\",\"2021-09-04T00:00:00\",\"2021-09-04T00:00:00\",\"2021-09-05T00:00:00\",\"2021-09-05T00:00:00\",\"2021-09-05T00:00:00\",\"2021-09-06T00:00:00\",\"2021-09-06T00:00:00\",\"2021-09-09T00:00:00\",\"2021-09-09T00:00:00\",\"2021-09-09T00:00:00\",\"2021-09-09T00:00:00\",\"2021-09-09T00:00:00\",\"2021-09-10T00:00:00\",\"2021-09-10T00:00:00\",\"2021-09-11T00:00:00\",\"2021-09-13T00:00:00\",\"2021-09-13T00:00:00\",\"2021-09-13T00:00:00\",\"2021-09-13T00:00:00\",\"2021-09-13T00:00:00\",\"2021-09-14T00:00:00\",\"2021-09-14T00:00:00\",\"2021-09-14T00:00:00\",\"2021-09-14T00:00:00\",\"2021-09-14T00:00:00\",\"2021-09-14T00:00:00\",\"2021-09-15T00:00:00\",\"2021-09-15T00:00:00\",\"2021-09-15T00:00:00\",\"2021-09-15T00:00:00\",\"2021-09-15T00:00:00\",\"2021-09-15T00:00:00\",\"2021-09-15T00:00:00\",\"2021-09-15T00:00:00\",\"2021-09-15T00:00:00\",\"2021-09-16T00:00:00\",\"2021-09-16T00:00:00\",\"2021-09-16T00:00:00\",\"2021-09-17T00:00:00\",\"2021-09-18T00:00:00\",\"2021-09-19T00:00:00\",\"2021-09-19T00:00:00\",\"2021-09-20T00:00:00\",\"2021-09-20T00:00:00\",\"2021-09-20T00:00:00\",\"2021-09-20T00:00:00\",\"2021-09-24T00:00:00\",\"2021-09-24T00:00:00\",\"2021-09-25T00:00:00\",\"2021-09-25T00:00:00\",\"2021-09-25T00:00:00\",\"2021-09-25T00:00:00\",\"2021-09-26T00:00:00\",\"2021-09-29T00:00:00\",\"2021-10-01T00:00:00\",\"2021-10-01T00:00:00\",\"2021-10-03T00:00:00\",\"2021-10-03T00:00:00\",\"2021-10-03T00:00:00\",\"2021-10-03T00:00:00\",\"2021-10-03T00:00:00\",\"2021-10-04T00:00:00\",\"2021-10-04T00:00:00\",\"2021-10-05T00:00:00\",\"2021-10-05T00:00:00\",\"2021-10-05T00:00:00\",\"2021-10-06T00:00:00\",\"2021-10-06T00:00:00\",\"2021-10-06T00:00:00\",\"2021-10-07T00:00:00\",\"2021-10-07T00:00:00\",\"2021-10-08T00:00:00\",\"2021-10-08T00:00:00\",\"2021-10-09T00:00:00\",\"2021-10-20T00:00:00\",\"2021-10-20T00:00:00\",\"2021-10-21T00:00:00\",\"2021-10-21T00:00:00\",\"2021-10-21T00:00:00\",\"2021-10-21T00:00:00\",\"2021-10-21T00:00:00\",\"2021-10-22T00:00:00\",\"2021-10-22T00:00:00\",\"2021-10-22T00:00:00\",\"2021-10-23T00:00:00\",\"2021-10-23T00:00:00\",\"2021-10-23T00:00:00\",\"2021-10-23T00:00:00\",\"2021-10-23T00:00:00\",\"2021-10-23T00:00:00\",\"2021-10-23T00:00:00\",\"2021-10-23T00:00:00\",\"2021-10-23T00:00:00\",\"2021-10-23T00:00:00\",\"2021-10-24T00:00:00\",\"2021-10-24T00:00:00\",\"2021-10-25T00:00:00\",\"2021-10-25T00:00:00\",\"2021-10-26T00:00:00\",\"2021-10-26T00:00:00\",\"2021-10-26T00:00:00\",\"2021-10-26T00:00:00\",\"2021-10-29T00:00:00\",\"2021-10-29T00:00:00\",\"2021-10-30T00:00:00\",\"2021-10-30T00:00:00\",\"2021-10-30T00:00:00\",\"2021-10-30T00:00:00\",\"2021-10-30T00:00:00\",\"2021-10-30T00:00:00\",\"2021-10-30T00:00:00\",\"2021-10-30T00:00:00\",\"2021-10-31T00:00:00\",\"2021-11-01T00:00:00\",\"2021-11-06T00:00:00\",\"2021-11-10T00:00:00\",\"2021-11-10T00:00:00\",\"2021-11-10T00:00:00\",\"2021-11-10T00:00:00\",\"2021-11-10T00:00:00\",\"2021-11-10T00:00:00\",\"2021-11-11T00:00:00\",\"2021-11-11T00:00:00\",\"2021-11-11T00:00:00\",\"2021-11-11T00:00:00\",\"2021-11-12T00:00:00\",\"2021-11-12T00:00:00\",\"2021-11-12T00:00:00\",\"2021-11-12T00:00:00\",\"2021-11-12T00:00:00\",\"2021-11-12T00:00:00\",\"2021-11-12T00:00:00\",\"2021-11-13T00:00:00\",\"2021-11-13T00:00:00\",\"2021-11-13T00:00:00\",\"2021-11-13T00:00:00\",\"2021-11-13T00:00:00\",\"2021-11-13T00:00:00\",\"2021-11-13T00:00:00\",\"2021-11-13T00:00:00\",\"2021-11-13T00:00:00\",\"2021-11-13T00:00:00\",\"2021-11-13T00:00:00\",\"2021-11-14T00:00:00\",\"2021-11-14T00:00:00\",\"2021-11-14T00:00:00\",\"2021-11-14T00:00:00\",\"2021-11-14T00:00:00\",\"2021-11-14T00:00:00\",\"2021-11-14T00:00:00\",\"2021-11-14T00:00:00\",\"2021-11-16T00:00:00\",\"2021-11-16T00:00:00\",\"2021-11-16T00:00:00\",\"2021-11-16T00:00:00\",\"2021-11-16T00:00:00\",\"2021-11-16T00:00:00\",\"2021-11-16T00:00:00\",\"2021-11-17T00:00:00\",\"2021-11-17T00:00:00\",\"2021-11-17T00:00:00\",\"2021-11-18T00:00:00\",\"2021-11-18T00:00:00\",\"2021-11-18T00:00:00\",\"2021-11-18T00:00:00\",\"2021-11-19T00:00:00\",\"2021-11-19T00:00:00\",\"2021-11-19T00:00:00\",\"2021-11-20T00:00:00\",\"2021-11-20T00:00:00\",\"2021-11-20T00:00:00\",\"2021-11-21T00:00:00\",\"2021-11-21T00:00:00\",\"2021-11-22T00:00:00\",\"2021-11-22T00:00:00\",\"2021-11-22T00:00:00\",\"2021-11-22T00:00:00\",\"2021-11-22T00:00:00\",\"2021-11-22T00:00:00\",\"2021-11-22T00:00:00\",\"2021-11-22T00:00:00\",\"2021-11-22T00:00:00\",\"2021-11-23T00:00:00\",\"2021-11-23T00:00:00\",\"2021-11-23T00:00:00\",\"2021-11-23T00:00:00\",\"2021-11-23T00:00:00\",\"2021-11-24T00:00:00\",\"2021-11-24T00:00:00\",\"2021-11-24T00:00:00\",\"2021-11-24T00:00:00\",\"2021-11-24T00:00:00\",\"2021-11-28T00:00:00\",\"2021-11-29T00:00:00\",\"2021-11-29T00:00:00\",\"2021-11-29T00:00:00\",\"2021-11-29T00:00:00\",\"2021-12-01T00:00:00\",\"2021-12-02T00:00:00\",\"2021-12-02T00:00:00\",\"2021-12-02T00:00:00\",\"2021-12-03T00:00:00\",\"2021-12-03T00:00:00\",\"2021-12-03T00:00:00\",\"2021-12-03T00:00:00\",\"2021-12-03T00:00:00\",\"2021-12-03T00:00:00\",\"2021-12-03T00:00:00\",\"2021-12-03T00:00:00\",\"2021-12-04T00:00:00\",\"2021-12-05T00:00:00\",\"2021-12-05T00:00:00\",\"2021-12-05T00:00:00\",\"2021-12-05T00:00:00\",\"2021-12-05T00:00:00\",\"2021-12-06T00:00:00\",\"2021-12-06T00:00:00\",\"2021-12-07T00:00:00\",\"2021-12-07T00:00:00\",\"2021-12-07T00:00:00\",\"2021-12-08T00:00:00\",\"2021-12-08T00:00:00\",\"2021-12-08T00:00:00\",\"2021-12-08T00:00:00\",\"2021-12-08T00:00:00\",\"2021-12-08T00:00:00\",\"2021-12-08T00:00:00\",\"2021-12-08T00:00:00\",\"2021-12-08T00:00:00\",\"2021-12-08T00:00:00\",\"2021-12-08T00:00:00\",\"2021-12-08T00:00:00\",\"2021-12-09T00:00:00\",\"2021-12-09T00:00:00\",\"2021-12-09T00:00:00\",\"2021-12-09T00:00:00\",\"2021-12-10T00:00:00\",\"2021-12-10T00:00:00\",\"2021-12-10T00:00:00\",\"2021-12-10T00:00:00\",\"2021-12-11T00:00:00\",\"2021-12-11T00:00:00\",\"2021-12-11T00:00:00\",\"2021-12-11T00:00:00\",\"2021-12-14T00:00:00\",\"2021-12-14T00:00:00\",\"2021-12-14T00:00:00\",\"2021-12-14T00:00:00\",\"2021-12-14T00:00:00\",\"2021-12-15T00:00:00\",\"2021-12-15T00:00:00\",\"2021-12-15T00:00:00\",\"2021-12-16T00:00:00\",\"2021-12-16T00:00:00\",\"2021-12-17T00:00:00\",\"2021-12-17T00:00:00\",\"2021-12-17T00:00:00\",\"2021-12-20T00:00:00\",\"2021-12-20T00:00:00\",\"2021-12-20T00:00:00\",\"2021-12-20T00:00:00\",\"2021-12-21T00:00:00\",\"2021-12-21T00:00:00\",\"2021-12-21T00:00:00\",\"2021-12-24T00:00:00\",\"2021-12-25T00:00:00\",\"2021-12-25T00:00:00\",\"2021-12-25T00:00:00\",\"2021-12-25T00:00:00\",\"2021-12-26T00:00:00\",\"2021-12-26T00:00:00\",\"2021-12-26T00:00:00\",\"2021-12-26T00:00:00\",\"2021-12-26T00:00:00\",\"2021-12-26T00:00:00\",\"2021-12-27T00:00:00\",\"2021-12-27T00:00:00\",\"2021-12-27T00:00:00\",\"2021-12-27T00:00:00\",\"2021-12-27T00:00:00\",\"2021-12-27T00:00:00\",\"2021-12-27T00:00:00\",\"2021-12-27T00:00:00\",\"2021-12-28T00:00:00\",\"2021-12-28T00:00:00\",\"2021-12-29T00:00:00\",\"2021-12-29T00:00:00\",\"2021-12-29T00:00:00\",\"2021-12-29T00:00:00\",\"2021-12-29T00:00:00\",\"2021-12-29T00:00:00\",\"2021-12-29T00:00:00\"],\"xaxis\":\"x\",\"y\":[1114.0,1106.0,1097.0,1105.0,1096.0,1103.0,1119.0,1110.0,1127.0,1134.0,1126.0,1118.0,1125.0,1132.0,1124.0,1132.0,1132.0,1124.0,1139.0,1146.0,1138.0,1130.0,1138.0,1153.0,1144.0,null,1145.0,1136.0,1153.0,1144.0,1136.0,1144.0,1152.0,1143.0,1161.0,1211.0,1203.0,1194.0,1185.0,1177.0,1169.0,1219.0,1227.0,1235.0,1244.0,1235.0,1243.0,1251.0,1243.0,1251.0,1260.0,1252.0,1245.0,1253.0,1261.0,1269.0,1268.0,1269.0,1276.0,1277.0,1262.0,1254.0,1246.0,1254.0,1262.0,1270.0,1279.0,1295.0,1287.0,1287.0,1280.0,null,1272.0,1280.0,1289.0,1296.0,1304.0,1294.0,1286.0,1311.0,1302.0,1278.0,1286.0,1295.0,1286.0,1295.0,1303.0,1303.0,1294.0,1312.0,1285.0,1277.0,1285.0,1293.0,1292.0,1285.0,1284.0,1292.0,1285.0,1294.0,1285.0,1277.0,null,1284.0,1277.0,1269.0,1276.0,1283.0,1275.0,1283.0,1276.0,1269.0,1278.0,1287.0,1296.0,1310.0,1303.0,null,1317.0,1310.0,1318.0,1310.0,1318.0,1310.0,1318.0,1311.0,1303.0,1301.0,1317.0,1309.0,1309.0,1317.0,1309.0,1301.0,null,1303.0,1311.0,1319.0,1327.0,1335.0,1327.0,1329.0,1294.0,1303.0,1311.0,1286.0,1294.0,1295.0,1303.0,1312.0,1304.0,1313.0,1306.0,1313.0,1306.0,1297.0,1321.0,1313.0,1304.0,1295.0,1303.0,1311.0,1319.0,1310.0,1302.0,1319.0,1311.0,1310.0,1302.0,1293.0,1301.0,1309.0,1316.0,1325.0,1323.0,1332.0,1315.0,1306.0,1315.0,1307.0,1313.0,1322.0,1314.0,1306.0,1339.0,1331.0,1331.0,1324.0,1316.0,1311.0,1293.0,1284.0,1292.0,1300.0,1292.0,1302.0,1284.0,1291.0,1299.0,1307.0,1300.0,1308.0,1276.0,1284.0,1318.0,1342.0,1335.0,1327.0,1310.0,1328.0,1320.0,1319.0,1365.0,1367.0,1342.0,1350.0,1354.0,1368.0,1366.0,1358.0,1365.0,1356.0,1348.0,1356.0,1364.0,1357.0,1350.0,1357.0,1351.0,1358.0,1350.0,1322.0,1330.0,1338.0,1339.0,1340.0,1348.0,1340.0,1331.0,1340.0,1331.0,1323.0,1332.0,1324.0,1332.0,1341.0,1332.0,1297.0,1289.0,1313.0,1305.0,1297.0,1275.0,1289.0,1282.0,1275.0,1268.0,1267.0,1260.0,1284.0,1292.0,1297.0,1304.0,1295.0,1303.0,1325.0,1324.0,1331.0,1314.0,1320.0,1332.0,1322.0,1323.0,1313.0,1317.0,1310.0,1309.0,1295.0,1303.0,1310.0,1301.0,1270.0,1282.0,1288.0,1263.0,1272.0,1277.0,1284.0,1292.0,1283.0,1292.0,1286.0,1295.0,1295.0,1289.0,1303.0,1296.0,1289.0,1280.0,1286.0,1279.0,1288.0,1293.0,1302.0,1294.0,1285.0,1294.0,1301.0,1293.0,1301.0,1310.0,1310.0,1318.0,1310.0,1293.0,1302.0,1303.0,1302.0,1294.0,null,1288.0,1298.0,1305.0,1313.0,1320.0,1313.0,1322.0,1314.0,1323.0,1331.0,1338.0,1347.0,1356.0,1348.0,1356.0,1365.0,1357.0,1366.0,1366.0,1374.0,1373.0,1382.0,1374.0,1381.0,1389.0,null,1354.0,1361.0,1368.0,1360.0,1352.0,1359.0,1368.0,1368.0,1375.0,1382.0,1359.0,1346.0,1338.0,1339.0,1345.0,1361.0,1353.0,1347.0,1339.0,1365.0,1356.0,1363.0,1354.0,1362.0,1355.0,1374.0,1376.0,1369.0,1367.0,1353.0,1361.0,1370.0,1361.0,1369.0,1361.0,1377.0,1385.0,1392.0,1383.0,1392.0,1399.0,1408.0,1393.0,1386.0,1400.0,1395.0,1387.0,1394.0,1386.0,1394.0,1386.0,1379.0,1372.0,1379.0,1388.0,1380.0,1387.0,1383.0,1392.0,1394.0,1385.0,1392.0,1400.0,1407.0,1414.0,1422.0,1430.0,1422.0,1429.0,1422.0,1415.0,1424.0,1416.0,1424.0,1417.0,null,1425.0,1418.0,1426.0,1434.0,1442.0,1427.0,1427.0,1419.0,1427.0,1427.0,1427.0,1434.0,1427.0,1411.0,1404.0,1400.0,1398.0,1391.0,1397.0,1390.0,1407.0,1399.0,1390.0,1381.0,1365.0,1372.0,1365.0,1381.0,1372.0,1373.0,1374.0,1366.0,1373.0,1381.0,1390.0,1399.0,1407.0,1399.0,1393.0,1400.0,1402.0,1392.0,1400.0,1391.0,1410.0,1419.0,1428.0,1420.0,1428.0,1428.0,1436.0,1428.0,1420.0,1451.0,1436.0,1444.0,1453.0,1460.0,1459.0,1451.0,1452.0,1459.0,1446.0,1453.0,1432.0,1424.0,1431.0,1438.0,1444.0,1453.0,1460.0,1453.0,1424.0,1416.0,1424.0,1416.0,1424.0,1432.0,1466.0,1458.0,1450.0,1442.0,1435.0,1449.0,1433.0,1442.0,1440.0,1442.0,1463.0,1455.0,1454.0,1473.0,1464.0,1478.0,1470.0,1462.0,1479.0,1470.0,1462.0,1471.0,1471.0,1463.0,1455.0,1448.0,1440.0,1448.0,1440.0,1456.0,1449.0,1433.0,1441.0,1473.0,1482.0,1464.0,1473.0,1482.0,1475.0,1467.0,1460.0,1467.0,1474.0,1465.0,1457.0,1448.0,1455.0,1438.0,1447.0,1439.0,1431.0,1435.0,1449.0,1440.0,1432.0,1449.0,1441.0,1450.0,1441.0,1453.0,1441.0,1448.0,1446.0,1439.0,1445.0,1452.0,1445.0,1453.0,1462.0,1445.0,1461.0,1453.0,1454.0,1454.0,1461.0,1453.0,1461.0,1469.0,1462.0,1453.0,1445.0,1436.0,null,1452.0,1445.0,1444.0,1437.0,1413.0,1406.0,1430.0,1422.0,1413.0,1405.0,1412.0,1420.0,1413.0,1421.0,1430.0,1439.0,1448.0,1450.0,1457.0,1458.0,1466.0,1459.0,1450.0,1441.0,1448.0,1457.0,1448.0,1441.0,1433.0,1425.0,1441.0,1433.0,1432.0,1440.0,1448.0,1449.0,1456.0,1465.0,1472.0,1481.0,1516.0,1491.0,1499.0,1491.0,1499.0,1508.0,1517.0,1525.0,1498.0,1489.0,1523.0,1515.0,1507.0,1499.0,1506.0,1497.0,1490.0,1483.0,1491.0,1482.0,1480.0,1472.0,1480.0,1481.0,1465.0,1473.0,1473.0,1474.0,1488.0,1479.0,1486.0,1462.0,1470.0,1471.0,1470.0,1478.0,1463.0,1462.0,1470.0,1478.0,1485.0,1501.0,1493.0,1509.0,1502.0,1492.0,1493.0,1501.0,1492.0,1508.0,1500.0,1492.0,1484.0,1476.0,1468.0,1475.0,1483.0,1493.0,1484.0,1510.0,1502.0,1510.0,1511.0,1503.0,1494.0,1517.0,1503.0,1493.0,1501.0,1510.0,1518.0,1486.0,1526.0,1534.0,1543.0,1536.0,1543.0,1535.0,1527.0,1519.0,1527.0,1534.0,1536.0,1543.0,1535.0,1526.0,1527.0,1519.0,1512.0,1489.0,1498.0,1506.0,1514.0,1506.0,1514.0,1506.0,1513.0,1506.0,1496.0,1503.0,1512.0,1520.0,1512.0,1495.0,1504.0,1488.0,1504.0,1497.0,1479.0,1471.0,1464.0,1456.0,1447.0,1440.0,1433.0,1440.0,1449.0,1451.0,1452.0,1459.0,1460.0,1441.0,1458.0,1449.0,1451.0,1444.0,1436.0,1443.0,1452.0,1443.0,1434.0,1435.0,1442.0,1427.0,1419.0,1411.0,1426.0,1402.0,1409.0,1401.0,1394.0,1410.0,1410.0,1419.0,1412.0,1417.0,1420.0,1402.0,1433.0,1425.0,1417.0,1408.0,1409.0,1416.0,1408.0,1417.0,1417.0,1424.0,1415.0,1406.0,1397.0,1397.0,1405.0,1398.0,1389.0,1405.0,1397.0,1389.0,1398.0,1405.0,1413.0,1405.0,1397.0,1405.0,1396.0,1403.0,1395.0,1412.0,1404.0,1404.0,1396.0,1404.0,1412.0,1419.0,1426.0,1434.0,1441.0,null,1440.0,1433.0,1433.0,1395.0,1425.0,1418.0,1410.0,1402.0,1395.0,1387.0,1387.0,1369.0,1378.0,1363.0,1370.0,1363.0,1354.0,1346.0,1361.0,1355.0],\"yaxis\":\"y\",\"type\":\"scattergl\"},{\"hovertemplate\":\"Year=2022\\u003cbr\\u003eDate=%{x}\\u003cbr\\u003eRating=%{y}\\u003cextra\\u003e\\u003c\\u002fextra\\u003e\",\"legendgroup\":\"2022\",\"line\":{\"color\":\"#ab63fa\",\"dash\":\"solid\"},\"marker\":{\"symbol\":\"circle\"},\"mode\":\"lines\",\"name\":\"2022\",\"showlegend\":true,\"x\":[\"2022-01-01T00:00:00\",\"2022-01-03T00:00:00\",\"2022-01-03T00:00:00\",\"2022-01-03T00:00:00\",\"2022-01-05T00:00:00\",\"2022-01-05T00:00:00\",\"2022-01-05T00:00:00\",\"2022-01-05T00:00:00\",\"2022-01-07T00:00:00\",\"2022-01-07T00:00:00\",\"2022-01-10T00:00:00\",\"2022-01-14T00:00:00\",\"2022-01-25T00:00:00\",\"2022-01-25T00:00:00\",\"2022-01-25T00:00:00\",\"2022-02-03T00:00:00\",\"2022-02-03T00:00:00\",\"2022-02-03T00:00:00\",\"2022-02-03T00:00:00\",\"2022-02-04T00:00:00\",\"2022-02-04T00:00:00\",\"2022-02-04T00:00:00\",\"2022-02-04T00:00:00\",\"2022-02-04T00:00:00\",\"2022-02-04T00:00:00\",\"2022-02-09T00:00:00\",\"2022-02-09T00:00:00\",\"2022-02-09T00:00:00\",\"2022-02-11T00:00:00\",\"2022-02-11T00:00:00\",\"2022-02-11T00:00:00\",\"2022-02-11T00:00:00\",\"2022-02-11T00:00:00\",\"2022-02-11T00:00:00\",\"2022-02-11T00:00:00\",\"2022-02-11T00:00:00\",\"2022-02-11T00:00:00\",\"2022-02-11T00:00:00\",\"2022-02-12T00:00:00\",\"2022-02-13T00:00:00\",\"2022-02-13T00:00:00\",\"2022-02-13T00:00:00\",\"2022-02-13T00:00:00\",\"2022-02-13T00:00:00\",\"2022-02-17T00:00:00\",\"2022-02-18T00:00:00\",\"2022-02-18T00:00:00\",\"2022-02-19T00:00:00\",\"2022-02-19T00:00:00\",\"2022-02-22T00:00:00\",\"2022-02-22T00:00:00\",\"2022-02-22T00:00:00\",\"2022-02-22T00:00:00\",\"2022-02-22T00:00:00\",\"2022-02-22T00:00:00\",\"2022-02-22T00:00:00\",\"2022-02-22T00:00:00\",\"2022-02-23T00:00:00\",\"2022-02-23T00:00:00\",\"2022-02-23T00:00:00\",\"2022-02-23T00:00:00\",\"2022-02-23T00:00:00\",\"2022-02-23T00:00:00\",\"2022-02-23T00:00:00\",\"2022-02-23T00:00:00\",\"2022-02-24T00:00:00\",\"2022-02-24T00:00:00\",\"2022-02-24T00:00:00\",\"2022-02-24T00:00:00\",\"2022-02-24T00:00:00\",\"2022-02-24T00:00:00\",\"2022-02-24T00:00:00\",\"2022-02-24T00:00:00\",\"2022-02-24T00:00:00\",\"2022-02-24T00:00:00\",\"2022-02-24T00:00:00\",\"2022-02-24T00:00:00\",\"2022-02-24T00:00:00\",\"2022-02-24T00:00:00\",\"2022-02-25T00:00:00\",\"2022-02-25T00:00:00\",\"2022-02-25T00:00:00\",\"2022-02-25T00:00:00\",\"2022-02-25T00:00:00\",\"2022-02-25T00:00:00\",\"2022-02-25T00:00:00\",\"2022-02-25T00:00:00\",\"2022-02-25T00:00:00\",\"2022-02-25T00:00:00\",\"2022-02-26T00:00:00\",\"2022-02-26T00:00:00\",\"2022-02-26T00:00:00\",\"2022-02-27T00:00:00\",\"2022-02-27T00:00:00\",\"2022-02-28T00:00:00\",\"2022-02-28T00:00:00\",\"2022-03-01T00:00:00\",\"2022-03-01T00:00:00\",\"2022-03-01T00:00:00\",\"2022-03-01T00:00:00\",\"2022-03-01T00:00:00\",\"2022-03-01T00:00:00\",\"2022-03-01T00:00:00\",\"2022-03-01T00:00:00\",\"2022-03-01T00:00:00\",\"2022-03-03T00:00:00\",\"2022-03-03T00:00:00\",\"2022-03-03T00:00:00\",\"2022-03-03T00:00:00\",\"2022-03-03T00:00:00\",\"2022-03-03T00:00:00\",\"2022-03-03T00:00:00\",\"2022-03-03T00:00:00\",\"2022-03-03T00:00:00\",\"2022-03-03T00:00:00\",\"2022-03-03T00:00:00\",\"2022-03-03T00:00:00\",\"2022-03-03T00:00:00\",\"2022-03-03T00:00:00\",\"2022-03-03T00:00:00\",\"2022-03-03T00:00:00\",\"2022-03-03T00:00:00\",\"2022-03-04T00:00:00\",\"2022-03-04T00:00:00\",\"2022-03-04T00:00:00\",\"2022-03-04T00:00:00\",\"2022-03-04T00:00:00\",\"2022-03-04T00:00:00\",\"2022-03-04T00:00:00\",\"2022-03-05T00:00:00\",\"2022-03-05T00:00:00\",\"2022-03-05T00:00:00\",\"2022-03-05T00:00:00\",\"2022-03-06T00:00:00\",\"2022-03-06T00:00:00\",\"2022-03-06T00:00:00\",\"2022-03-06T00:00:00\",\"2022-03-06T00:00:00\",\"2022-03-06T00:00:00\",\"2022-03-07T00:00:00\",\"2022-03-07T00:00:00\",\"2022-03-09T00:00:00\",\"2022-03-10T00:00:00\",\"2022-03-10T00:00:00\",\"2022-03-10T00:00:00\",\"2022-03-10T00:00:00\",\"2022-03-10T00:00:00\",\"2022-03-11T00:00:00\",\"2022-03-11T00:00:00\",\"2022-03-12T00:00:00\",\"2022-03-12T00:00:00\",\"2022-03-13T00:00:00\",\"2022-03-13T00:00:00\",\"2022-03-14T00:00:00\",\"2022-03-16T00:00:00\",\"2022-03-19T00:00:00\",\"2022-03-19T00:00:00\",\"2022-03-19T00:00:00\",\"2022-03-20T00:00:00\",\"2022-03-22T00:00:00\",\"2022-03-22T00:00:00\",\"2022-03-22T00:00:00\",\"2022-03-23T00:00:00\",\"2022-03-23T00:00:00\",\"2022-03-23T00:00:00\",\"2022-03-23T00:00:00\",\"2022-03-24T00:00:00\",\"2022-03-24T00:00:00\",\"2022-03-24T00:00:00\",\"2022-03-24T00:00:00\",\"2022-03-24T00:00:00\",\"2022-03-24T00:00:00\",\"2022-03-24T00:00:00\",\"2022-03-24T00:00:00\",\"2022-03-24T00:00:00\",\"2022-03-25T00:00:00\",\"2022-03-25T00:00:00\",\"2022-03-26T00:00:00\",\"2022-03-26T00:00:00\",\"2022-03-27T00:00:00\",\"2022-03-27T00:00:00\",\"2022-03-27T00:00:00\",\"2022-03-27T00:00:00\",\"2022-03-28T00:00:00\",\"2022-03-28T00:00:00\",\"2022-03-29T00:00:00\",\"2022-03-29T00:00:00\",\"2022-03-29T00:00:00\",\"2022-03-29T00:00:00\",\"2022-03-29T00:00:00\",\"2022-03-30T00:00:00\",\"2022-03-30T00:00:00\",\"2022-03-31T00:00:00\",\"2022-03-31T00:00:00\",\"2022-03-31T00:00:00\",\"2022-03-31T00:00:00\",\"2022-04-01T00:00:00\",\"2022-04-01T00:00:00\",\"2022-04-01T00:00:00\",\"2022-04-01T00:00:00\",\"2022-04-01T00:00:00\",\"2022-04-01T00:00:00\",\"2022-04-01T00:00:00\",\"2022-04-01T00:00:00\",\"2022-04-02T00:00:00\",\"2022-04-02T00:00:00\",\"2022-04-02T00:00:00\",\"2022-04-02T00:00:00\",\"2022-04-03T00:00:00\",\"2022-04-04T00:00:00\",\"2022-04-04T00:00:00\",\"2022-04-05T00:00:00\",\"2022-04-05T00:00:00\",\"2022-04-08T00:00:00\",\"2022-04-09T00:00:00\",\"2022-04-09T00:00:00\",\"2022-04-09T00:00:00\",\"2022-04-10T00:00:00\",\"2022-04-12T00:00:00\",\"2022-04-12T00:00:00\",\"2022-04-13T00:00:00\",\"2022-04-13T00:00:00\",\"2022-04-18T00:00:00\",\"2022-04-18T00:00:00\",\"2022-04-23T00:00:00\",\"2022-04-25T00:00:00\",\"2022-04-25T00:00:00\",\"2022-04-26T00:00:00\",\"2022-04-26T00:00:00\",\"2022-04-26T00:00:00\",\"2022-04-27T00:00:00\",\"2022-05-02T00:00:00\",\"2022-05-02T00:00:00\",\"2022-05-02T00:00:00\",\"2022-05-03T00:00:00\",\"2022-05-03T00:00:00\",\"2022-05-03T00:00:00\",\"2022-05-06T00:00:00\",\"2022-05-06T00:00:00\",\"2022-05-06T00:00:00\",\"2022-05-07T00:00:00\",\"2022-05-07T00:00:00\",\"2022-05-08T00:00:00\",\"2022-05-08T00:00:00\",\"2022-05-08T00:00:00\",\"2022-05-08T00:00:00\",\"2022-05-08T00:00:00\",\"2022-05-09T00:00:00\",\"2022-05-09T00:00:00\",\"2022-05-13T00:00:00\",\"2022-05-13T00:00:00\",\"2022-05-16T00:00:00\",\"2022-05-30T00:00:00\",\"2022-05-30T00:00:00\",\"2022-05-31T00:00:00\",\"2022-05-31T00:00:00\",\"2022-05-31T00:00:00\",\"2022-06-06T00:00:00\",\"2022-06-15T00:00:00\",\"2022-06-16T00:00:00\",\"2022-06-27T00:00:00\",\"2022-07-03T00:00:00\",\"2022-07-03T00:00:00\",\"2022-07-03T00:00:00\",\"2022-07-03T00:00:00\",\"2022-07-03T00:00:00\",\"2022-07-03T00:00:00\",\"2022-07-03T00:00:00\",\"2022-07-03T00:00:00\",\"2022-07-05T00:00:00\",\"2022-07-16T00:00:00\",\"2022-09-04T00:00:00\",\"2022-09-20T00:00:00\",\"2022-09-20T00:00:00\",\"2022-09-20T00:00:00\"],\"xaxis\":\"x\",\"y\":[1355.0,1363.0,null,1370.0,1371.0,1378.0,1385.0,1392.0,1383.0,1375.0,1367.0,1371.0,1363.0,null,1356.0,1365.0,1372.0,1349.0,1356.0,1365.0,1341.0,1349.0,1357.0,1333.0,1326.0,1335.0,1327.0,1336.0,1359.0,1367.0,1375.0,null,1367.0,1345.0,1352.0,1336.0,1344.0,1359.0,1351.0,1359.0,1351.0,1334.0,1343.0,1342.0,1366.0,1374.0,1382.0,1374.0,1381.0,1381.0,1388.0,1390.0,1383.0,1376.0,1384.0,1391.0,1399.0,1400.0,1392.0,1407.0,1400.0,1409.0,1417.0,null,1424.0,1406.0,1399.0,1408.0,1416.0,1424.0,1432.0,1424.0,1424.0,1431.0,1424.0,1431.0,1424.0,1432.0,1416.0,1416.0,1408.0,1417.0,1424.0,1424.0,1405.0,1406.0,1397.0,1397.0,1415.0,1400.0,1392.0,1383.0,1374.0,1382.0,1391.0,1382.0,1389.0,1390.0,1382.0,1398.0,1389.0,1399.0,1383.0,1391.0,1391.0,1406.0,1397.0,1389.0,1380.0,1372.0,1401.0,1387.0,1378.0,1385.0,1393.0,1385.0,1393.0,1379.0,1405.0,1414.0,1389.0,1397.0,1417.0,1400.0,1408.0,1400.0,1392.0,1401.0,1409.0,1406.0,1415.0,1414.0,1424.0,1389.0,1421.0,1414.0,1406.0,1397.0,1380.0,1388.0,1380.0,1373.0,1380.0,1393.0,1386.0,1379.0,1371.0,1377.0,1385.0,1385.0,1393.0,1386.0,1378.0,1385.0,1392.0,1399.0,1399.0,1406.0,1406.0,1398.0,1390.0,1398.0,1405.0,1413.0,1422.0,1430.0,1420.0,1428.0,1429.0,1421.0,1429.0,1436.0,1428.0,1421.0,1421.0,1427.0,1419.0,1426.0,1419.0,1411.0,1418.0,1411.0,null,1404.0,1411.0,1411.0,1395.0,1404.0,1420.0,1403.0,1411.0,1418.0,1425.0,1416.0,1409.0,1417.0,1399.0,1407.0,1407.0,1399.0,null,1391.0,1406.0,1415.0,1390.0,1390.0,1398.0,1397.0,1383.0,1382.0,1374.0,1374.0,1366.0,1374.0,1383.0,1374.0,1382.0,1374.0,1381.0,1372.0,1380.0,1389.0,1398.0,1391.0,1399.0,1401.0,1403.0,1411.0,1394.0,1403.0,1418.0,null,1427.0,1434.0,1427.0,1419.0,1427.0,1421.0,1420.0,1413.0,1414.0,1413.0,1404.0,1412.0,1420.0,1412.0,1405.0,1404.0,1413.0,1396.0,1405.0,1414.0,1421.0,1428.0,1419.0,1411.0,1402.0,1393.0,1393.0,1401.0,1408.0,1401.0,1417.0,1406.0,1397.0,1388.0,1395.0,null,1409.0,1398.0,1389.0,1375.0,1388.0,1374.0,null],\"yaxis\":\"y\",\"type\":\"scattergl\"},{\"hovertemplate\":\"Year=2023\\u003cbr\\u003eDate=%{x}\\u003cbr\\u003eRating=%{y}\\u003cextra\\u003e\\u003c\\u002fextra\\u003e\",\"legendgroup\":\"2023\",\"line\":{\"color\":\"#FFA15A\",\"dash\":\"solid\"},\"marker\":{\"symbol\":\"circle\"},\"mode\":\"lines\",\"name\":\"2023\",\"showlegend\":true,\"x\":[\"2023-02-11T00:00:00\",\"2023-03-11T00:00:00\",\"2023-03-11T00:00:00\",\"2023-03-13T00:00:00\",\"2023-03-14T00:00:00\",\"2023-03-14T00:00:00\",\"2023-05-16T00:00:00\",\"2023-05-16T00:00:00\",\"2023-05-16T00:00:00\",\"2023-05-16T00:00:00\",\"2023-05-16T00:00:00\",\"2023-05-16T00:00:00\",\"2023-05-16T00:00:00\",\"2023-05-16T00:00:00\",\"2023-05-16T00:00:00\",\"2023-05-18T00:00:00\",\"2023-06-22T00:00:00\",\"2023-06-22T00:00:00\",\"2023-06-23T00:00:00\",\"2023-06-23T00:00:00\",\"2023-07-26T00:00:00\",\"2023-07-26T00:00:00\",\"2023-07-26T00:00:00\",\"2023-07-26T00:00:00\",\"2023-07-26T00:00:00\",\"2023-08-01T00:00:00\",\"2023-08-01T00:00:00\",\"2023-08-24T00:00:00\",\"2023-08-26T00:00:00\",\"2023-08-26T00:00:00\",\"2023-08-28T00:00:00\",\"2023-08-28T00:00:00\",\"2023-08-28T00:00:00\",\"2023-08-28T00:00:00\",\"2023-08-28T00:00:00\",\"2023-08-28T00:00:00\",\"2023-08-30T00:00:00\",\"2023-08-30T00:00:00\",\"2023-08-30T00:00:00\",\"2023-08-30T00:00:00\",\"2023-08-30T00:00:00\",\"2023-08-30T00:00:00\",\"2023-08-30T00:00:00\",\"2023-08-30T00:00:00\",\"2023-08-30T00:00:00\",\"2023-08-30T00:00:00\",\"2023-08-30T00:00:00\",\"2023-08-30T00:00:00\",\"2023-08-30T00:00:00\",\"2023-08-30T00:00:00\",\"2023-08-30T00:00:00\",\"2023-08-30T00:00:00\",\"2023-09-08T00:00:00\",\"2023-09-09T00:00:00\",\"2023-09-09T00:00:00\",\"2023-09-10T00:00:00\",\"2023-09-12T00:00:00\",\"2023-09-12T00:00:00\",\"2023-09-12T00:00:00\",\"2023-09-24T00:00:00\",\"2023-09-24T00:00:00\",\"2023-09-24T00:00:00\",\"2023-09-24T00:00:00\",\"2023-09-25T00:00:00\",\"2023-09-25T00:00:00\",\"2023-09-25T00:00:00\",\"2023-09-29T00:00:00\",\"2023-10-03T00:00:00\",\"2023-10-03T00:00:00\",\"2023-10-03T00:00:00\",\"2023-10-03T00:00:00\",\"2023-10-03T00:00:00\",\"2023-10-04T00:00:00\",\"2023-10-07T00:00:00\",\"2023-10-09T00:00:00\",\"2023-10-09T00:00:00\",\"2023-10-09T00:00:00\",\"2023-10-09T00:00:00\",\"2023-10-10T00:00:00\",\"2023-10-10T00:00:00\",\"2023-10-10T00:00:00\",\"2023-10-17T00:00:00\"],\"xaxis\":\"x\",\"y\":[1351.0,1344.0,1324.0,1365.0,1322.0,1343.0,1341.0,1316.0,1289.0,1310.0,1291.0,1304.0,1326.0,1294.0,1310.0,1280.0,1301.0,1323.0,1341.0,1356.0,1400.0,1387.0,1371.0,1354.0,1338.0,1401.0,1416.0,1432.0,1447.0,1433.0,1417.0,1405.0,1391.0,1405.0,1394.0,1406.0,1418.0,1406.0,1413.0,1404.0,1395.0,1438.0,1422.0,1413.0,1405.0,1414.0,1430.0,1396.0,1405.0,1423.0,1414.0,1405.0,1447.0,null,1441.0,1449.0,1449.0,1457.0,1457.0,1472.0,1464.0,1456.0,1448.0,1471.0,1479.0,1479.0,1487.0,1488.0,1496.0,1479.0,1487.0,1478.0,1470.0,1479.0,1477.0,1470.0,1462.0,1471.0,1462.0,1455.0,1469.0,1447.0],\"yaxis\":\"y\",\"type\":\"scattergl\"}],                        {\"template\":{\"data\":{\"histogram2dcontour\":[{\"type\":\"histogram2dcontour\",\"colorbar\":{\"outlinewidth\":0,\"ticks\":\"\"},\"colorscale\":[[0.0,\"#0d0887\"],[0.1111111111111111,\"#46039f\"],[0.2222222222222222,\"#7201a8\"],[0.3333333333333333,\"#9c179e\"],[0.4444444444444444,\"#bd3786\"],[0.5555555555555556,\"#d8576b\"],[0.6666666666666666,\"#ed7953\"],[0.7777777777777778,\"#fb9f3a\"],[0.8888888888888888,\"#fdca26\"],[1.0,\"#f0f921\"]]}],\"choropleth\":[{\"type\":\"choropleth\",\"colorbar\":{\"outlinewidth\":0,\"ticks\":\"\"}}],\"histogram2d\":[{\"type\":\"histogram2d\",\"colorbar\":{\"outlinewidth\":0,\"ticks\":\"\"},\"colorscale\":[[0.0,\"#0d0887\"],[0.1111111111111111,\"#46039f\"],[0.2222222222222222,\"#7201a8\"],[0.3333333333333333,\"#9c179e\"],[0.4444444444444444,\"#bd3786\"],[0.5555555555555556,\"#d8576b\"],[0.6666666666666666,\"#ed7953\"],[0.7777777777777778,\"#fb9f3a\"],[0.8888888888888888,\"#fdca26\"],[1.0,\"#f0f921\"]]}],\"heatmap\":[{\"type\":\"heatmap\",\"colorbar\":{\"outlinewidth\":0,\"ticks\":\"\"},\"colorscale\":[[0.0,\"#0d0887\"],[0.1111111111111111,\"#46039f\"],[0.2222222222222222,\"#7201a8\"],[0.3333333333333333,\"#9c179e\"],[0.4444444444444444,\"#bd3786\"],[0.5555555555555556,\"#d8576b\"],[0.6666666666666666,\"#ed7953\"],[0.7777777777777778,\"#fb9f3a\"],[0.8888888888888888,\"#fdca26\"],[1.0,\"#f0f921\"]]}],\"heatmapgl\":[{\"type\":\"heatmapgl\",\"colorbar\":{\"outlinewidth\":0,\"ticks\":\"\"},\"colorscale\":[[0.0,\"#0d0887\"],[0.1111111111111111,\"#46039f\"],[0.2222222222222222,\"#7201a8\"],[0.3333333333333333,\"#9c179e\"],[0.4444444444444444,\"#bd3786\"],[0.5555555555555556,\"#d8576b\"],[0.6666666666666666,\"#ed7953\"],[0.7777777777777778,\"#fb9f3a\"],[0.8888888888888888,\"#fdca26\"],[1.0,\"#f0f921\"]]}],\"contourcarpet\":[{\"type\":\"contourcarpet\",\"colorbar\":{\"outlinewidth\":0,\"ticks\":\"\"}}],\"contour\":[{\"type\":\"contour\",\"colorbar\":{\"outlinewidth\":0,\"ticks\":\"\"},\"colorscale\":[[0.0,\"#0d0887\"],[0.1111111111111111,\"#46039f\"],[0.2222222222222222,\"#7201a8\"],[0.3333333333333333,\"#9c179e\"],[0.4444444444444444,\"#bd3786\"],[0.5555555555555556,\"#d8576b\"],[0.6666666666666666,\"#ed7953\"],[0.7777777777777778,\"#fb9f3a\"],[0.8888888888888888,\"#fdca26\"],[1.0,\"#f0f921\"]]}],\"surface\":[{\"type\":\"surface\",\"colorbar\":{\"outlinewidth\":0,\"ticks\":\"\"},\"colorscale\":[[0.0,\"#0d0887\"],[0.1111111111111111,\"#46039f\"],[0.2222222222222222,\"#7201a8\"],[0.3333333333333333,\"#9c179e\"],[0.4444444444444444,\"#bd3786\"],[0.5555555555555556,\"#d8576b\"],[0.6666666666666666,\"#ed7953\"],[0.7777777777777778,\"#fb9f3a\"],[0.8888888888888888,\"#fdca26\"],[1.0,\"#f0f921\"]]}],\"mesh3d\":[{\"type\":\"mesh3d\",\"colorbar\":{\"outlinewidth\":0,\"ticks\":\"\"}}],\"scatter\":[{\"fillpattern\":{\"fillmode\":\"overlay\",\"size\":10,\"solidity\":0.2},\"type\":\"scatter\"}],\"parcoords\":[{\"type\":\"parcoords\",\"line\":{\"colorbar\":{\"outlinewidth\":0,\"ticks\":\"\"}}}],\"scatterpolargl\":[{\"type\":\"scatterpolargl\",\"marker\":{\"colorbar\":{\"outlinewidth\":0,\"ticks\":\"\"}}}],\"bar\":[{\"error_x\":{\"color\":\"#2a3f5f\"},\"error_y\":{\"color\":\"#2a3f5f\"},\"marker\":{\"line\":{\"color\":\"#E5ECF6\",\"width\":0.5},\"pattern\":{\"fillmode\":\"overlay\",\"size\":10,\"solidity\":0.2}},\"type\":\"bar\"}],\"scattergeo\":[{\"type\":\"scattergeo\",\"marker\":{\"colorbar\":{\"outlinewidth\":0,\"ticks\":\"\"}}}],\"scatterpolar\":[{\"type\":\"scatterpolar\",\"marker\":{\"colorbar\":{\"outlinewidth\":0,\"ticks\":\"\"}}}],\"histogram\":[{\"marker\":{\"pattern\":{\"fillmode\":\"overlay\",\"size\":10,\"solidity\":0.2}},\"type\":\"histogram\"}],\"scattergl\":[{\"type\":\"scattergl\",\"marker\":{\"colorbar\":{\"outlinewidth\":0,\"ticks\":\"\"}}}],\"scatter3d\":[{\"type\":\"scatter3d\",\"line\":{\"colorbar\":{\"outlinewidth\":0,\"ticks\":\"\"}},\"marker\":{\"colorbar\":{\"outlinewidth\":0,\"ticks\":\"\"}}}],\"scattermapbox\":[{\"type\":\"scattermapbox\",\"marker\":{\"colorbar\":{\"outlinewidth\":0,\"ticks\":\"\"}}}],\"scatterternary\":[{\"type\":\"scatterternary\",\"marker\":{\"colorbar\":{\"outlinewidth\":0,\"ticks\":\"\"}}}],\"scattercarpet\":[{\"type\":\"scattercarpet\",\"marker\":{\"colorbar\":{\"outlinewidth\":0,\"ticks\":\"\"}}}],\"carpet\":[{\"aaxis\":{\"endlinecolor\":\"#2a3f5f\",\"gridcolor\":\"white\",\"linecolor\":\"white\",\"minorgridcolor\":\"white\",\"startlinecolor\":\"#2a3f5f\"},\"baxis\":{\"endlinecolor\":\"#2a3f5f\",\"gridcolor\":\"white\",\"linecolor\":\"white\",\"minorgridcolor\":\"white\",\"startlinecolor\":\"#2a3f5f\"},\"type\":\"carpet\"}],\"table\":[{\"cells\":{\"fill\":{\"color\":\"#EBF0F8\"},\"line\":{\"color\":\"white\"}},\"header\":{\"fill\":{\"color\":\"#C8D4E3\"},\"line\":{\"color\":\"white\"}},\"type\":\"table\"}],\"barpolar\":[{\"marker\":{\"line\":{\"color\":\"#E5ECF6\",\"width\":0.5},\"pattern\":{\"fillmode\":\"overlay\",\"size\":10,\"solidity\":0.2}},\"type\":\"barpolar\"}],\"pie\":[{\"automargin\":true,\"type\":\"pie\"}]},\"layout\":{\"autotypenumbers\":\"strict\",\"colorway\":[\"#636efa\",\"#EF553B\",\"#00cc96\",\"#ab63fa\",\"#FFA15A\",\"#19d3f3\",\"#FF6692\",\"#B6E880\",\"#FF97FF\",\"#FECB52\"],\"font\":{\"color\":\"#2a3f5f\"},\"hovermode\":\"closest\",\"hoverlabel\":{\"align\":\"left\"},\"paper_bgcolor\":\"white\",\"plot_bgcolor\":\"#E5ECF6\",\"polar\":{\"bgcolor\":\"#E5ECF6\",\"angularaxis\":{\"gridcolor\":\"white\",\"linecolor\":\"white\",\"ticks\":\"\"},\"radialaxis\":{\"gridcolor\":\"white\",\"linecolor\":\"white\",\"ticks\":\"\"}},\"ternary\":{\"bgcolor\":\"#E5ECF6\",\"aaxis\":{\"gridcolor\":\"white\",\"linecolor\":\"white\",\"ticks\":\"\"},\"baxis\":{\"gridcolor\":\"white\",\"linecolor\":\"white\",\"ticks\":\"\"},\"caxis\":{\"gridcolor\":\"white\",\"linecolor\":\"white\",\"ticks\":\"\"}},\"coloraxis\":{\"colorbar\":{\"outlinewidth\":0,\"ticks\":\"\"}},\"colorscale\":{\"sequential\":[[0.0,\"#0d0887\"],[0.1111111111111111,\"#46039f\"],[0.2222222222222222,\"#7201a8\"],[0.3333333333333333,\"#9c179e\"],[0.4444444444444444,\"#bd3786\"],[0.5555555555555556,\"#d8576b\"],[0.6666666666666666,\"#ed7953\"],[0.7777777777777778,\"#fb9f3a\"],[0.8888888888888888,\"#fdca26\"],[1.0,\"#f0f921\"]],\"sequentialminus\":[[0.0,\"#0d0887\"],[0.1111111111111111,\"#46039f\"],[0.2222222222222222,\"#7201a8\"],[0.3333333333333333,\"#9c179e\"],[0.4444444444444444,\"#bd3786\"],[0.5555555555555556,\"#d8576b\"],[0.6666666666666666,\"#ed7953\"],[0.7777777777777778,\"#fb9f3a\"],[0.8888888888888888,\"#fdca26\"],[1.0,\"#f0f921\"]],\"diverging\":[[0,\"#8e0152\"],[0.1,\"#c51b7d\"],[0.2,\"#de77ae\"],[0.3,\"#f1b6da\"],[0.4,\"#fde0ef\"],[0.5,\"#f7f7f7\"],[0.6,\"#e6f5d0\"],[0.7,\"#b8e186\"],[0.8,\"#7fbc41\"],[0.9,\"#4d9221\"],[1,\"#276419\"]]},\"xaxis\":{\"gridcolor\":\"white\",\"linecolor\":\"white\",\"ticks\":\"\",\"title\":{\"standoff\":15},\"zerolinecolor\":\"white\",\"automargin\":true,\"zerolinewidth\":2},\"yaxis\":{\"gridcolor\":\"white\",\"linecolor\":\"white\",\"ticks\":\"\",\"title\":{\"standoff\":15},\"zerolinecolor\":\"white\",\"automargin\":true,\"zerolinewidth\":2},\"scene\":{\"xaxis\":{\"backgroundcolor\":\"#E5ECF6\",\"gridcolor\":\"white\",\"linecolor\":\"white\",\"showbackground\":true,\"ticks\":\"\",\"zerolinecolor\":\"white\",\"gridwidth\":2},\"yaxis\":{\"backgroundcolor\":\"#E5ECF6\",\"gridcolor\":\"white\",\"linecolor\":\"white\",\"showbackground\":true,\"ticks\":\"\",\"zerolinecolor\":\"white\",\"gridwidth\":2},\"zaxis\":{\"backgroundcolor\":\"#E5ECF6\",\"gridcolor\":\"white\",\"linecolor\":\"white\",\"showbackground\":true,\"ticks\":\"\",\"zerolinecolor\":\"white\",\"gridwidth\":2}},\"shapedefaults\":{\"line\":{\"color\":\"#2a3f5f\"}},\"annotationdefaults\":{\"arrowcolor\":\"#2a3f5f\",\"arrowhead\":0,\"arrowwidth\":1},\"geo\":{\"bgcolor\":\"white\",\"landcolor\":\"#E5ECF6\",\"subunitcolor\":\"white\",\"showland\":true,\"showlakes\":true,\"lakecolor\":\"white\"},\"title\":{\"x\":0.05},\"mapbox\":{\"style\":\"light\"}}},\"xaxis\":{\"anchor\":\"y\",\"domain\":[0.0,1.0],\"title\":{\"text\":\"Date\"}},\"yaxis\":{\"anchor\":\"x\",\"domain\":[0.0,1.0],\"title\":{\"text\":\"Rating\"}},\"legend\":{\"title\":{\"text\":\"Year\"},\"tracegroupgap\":0},\"margin\":{\"t\":60},\"title\":{\"text\":\"Chess Ratings Over Time (Grouped by Year)\"}},                        {\"responsive\": true}                    ).then(function(){\n",
       "                            \n",
       "var gd = document.getElementById('dc31e111-8410-45e4-9693-9821b7ad5ae0');\n",
       "var x = new MutationObserver(function (mutations, observer) {{\n",
       "        var display = window.getComputedStyle(gd).display;\n",
       "        if (!display || display === 'none') {{\n",
       "            console.log([gd, 'removed!']);\n",
       "            Plotly.purge(gd);\n",
       "            observer.disconnect();\n",
       "        }}\n",
       "}});\n",
       "\n",
       "// Listen for the removal of the full notebook cells\n",
       "var notebookContainer = gd.closest('#notebook-container');\n",
       "if (notebookContainer) {{\n",
       "    x.observe(notebookContainer, {childList: true});\n",
       "}}\n",
       "\n",
       "// Listen for the clearing of the current output cell\n",
       "var outputEl = gd.closest('.output');\n",
       "if (outputEl) {{\n",
       "    x.observe(outputEl, {childList: true});\n",
       "}}\n",
       "\n",
       "                        })                };                });            </script>        </div>"
      ]
     },
     "metadata": {},
     "output_type": "display_data"
    },
    {
     "data": {
      "text/plain": [
       "<Figure size 640x480 with 0 Axes>"
      ]
     },
     "metadata": {},
     "output_type": "display_data"
    }
   ],
   "source": [
    "ratings_df['Year'] = ratings_df['Date'].dt.year\n",
    "years = ratings_df['Year'].unique()[:5]\n",
    "\n",
    "# Create interactive line plots for each year\n",
    "fig = px.line(ratings_df[ratings_df['Year'].isin(years)], x='Date', y='Rating', color='Year', labels={'Date': 'Date', 'Rating': 'Rating'})\n",
    "fig.update_layout(title='Chess Ratings Over Time (Grouped by Year)', xaxis_title='Date', yaxis_title='Rating')\n",
    "\n",
    "# Show the plot\n",
    "fig.show()\n",
    "plt.clf() "
   ]
  },
  {
   "cell_type": "markdown",
   "id": "0bb25a43",
   "metadata": {},
   "source": [
    "### Pie Chart for Games Result in Rapid"
   ]
  },
  {
   "cell_type": "code",
   "execution_count": 43,
   "id": "67e442fc",
   "metadata": {},
   "outputs": [],
   "source": [
    "rapidresult = []\n",
    "for i,row in games_data.iterrows():\n",
    "    if row['time_control'] == 'Rapid':\n",
    "        result = row['result']\n",
    "        rapidresult.append(result)\n",
    "rapidresult = pd.DataFrame(rapidresult)"
   ]
  },
  {
   "cell_type": "code",
   "execution_count": 59,
   "id": "05bdbcd1",
   "metadata": {},
   "outputs": [
    {
     "data": {
      "image/png": "[encoded data removed]",
      "text/plain": [
       "<Figure size 640x480 with 1 Axes>"
      ]
     },
     "metadata": {},
     "output_type": "display_data"
    }
   ],
   "source": [
    "result_counts = rapidresult.value_counts()\n",
    "sns.set_theme(style=\"whitegrid\")\n",
    "plt.figure()\n",
    "plt.pie(result_counts,autopct='%.2f')\n",
    "plt.axis('equal')\n",
    "plt.legend(labels=result_counts.index, loc='upper right', bbox_to_anchor=(1, 1))\n",
    "plt.show()"
   ]
  },
  {
   "cell_type": "markdown",
   "id": "1ff182ae",
   "metadata": {},
   "source": [
    "### Pie Chart for Games Result in Bullet"
   ]
  },
  {
   "cell_type": "code",
   "execution_count": 60,
   "id": "f933d52b",
   "metadata": {},
   "outputs": [],
   "source": [
    "bulletresult = []\n",
    "for i,row in games_data.iterrows():\n",
    "    if row['time_control'] == 'Bullet':\n",
    "        result = row['result']\n",
    "        bulletresult.append(result)\n",
    "bulletresult = pd.DataFrame(bulletresult)"
   ]
  },
  {
   "cell_type": "code",
   "execution_count": 61,
   "id": "49b0fa49",
   "metadata": {},
   "outputs": [
    {
     "data": {
      "image/png": "[encoded data removed]",
      "text/plain": [
       "<Figure size 640x480 with 1 Axes>"
      ]
     },
     "metadata": {},
     "output_type": "display_data"
    }
   ],
   "source": [
    "result_counts = bulletresult.value_counts()\n",
    "sns.set_theme(style=\"whitegrid\")\n",
    "plt.figure()\n",
    "plt.pie(result_counts,autopct='%.2f')\n",
    "plt.axis('equal')\n",
    "plt.legend(labels=result_counts.index, loc='upper right', bbox_to_anchor=(1, 1))\n",
    "plt.show()"
   ]
  },
  {
   "cell_type": "markdown",
   "id": "84371a1a",
   "metadata": {},
   "source": [
    "### Pie Chart For games Result In Blitz"
   ]
  },
  {
   "cell_type": "code",
   "execution_count": 62,
   "id": "87c3fd2c",
   "metadata": {},
   "outputs": [],
   "source": [
    "blitzresult = []\n",
    "for i,row in games_data.iterrows():\n",
    "    if row['time_control'] == 'Blitz':\n",
    "        result = row['result']\n",
    "        blitzresult.append(result)\n",
    "blitzresult = pd.DataFrame(blitzresult)"
   ]
  },
  {
   "cell_type": "code",
   "execution_count": 63,
   "id": "4f0698b7",
   "metadata": {},
   "outputs": [
    {
     "data": {
      "image/png": "[encoded data removed]",
      "text/plain": [
       "<Figure size 640x480 with 1 Axes>"
      ]
     },
     "metadata": {},
     "output_type": "display_data"
    }
   ],
   "source": [
    "result_counts = blitzresult.value_counts()\n",
    "sns.set_theme(style=\"whitegrid\")\n",
    "plt.figure()\n",
    "plt.pie(result_counts,autopct='%.2f')\n",
    "plt.axis('equal')\n",
    "plt.legend(labels=result_counts.index, loc='upper right', bbox_to_anchor=(1, 1))\n",
    "plt.show()"
   ]
  },
  {
   "cell_type": "markdown",
   "id": "4558a013",
   "metadata": {},
   "source": [
    "### Bar Chart"
   ]
  },
  {
   "cell_type": "code",
   "execution_count": 96,
   "id": "b1055eed",
   "metadata": {},
   "outputs": [],
   "source": [
    "openings = games_data['Opening'].value_counts()"
   ]
  },
  {
   "cell_type": "code",
   "execution_count": 97,
   "id": "71d375db",
   "metadata": {},
   "outputs": [
    {
     "data": {
      "application/vnd.plotly.v1+json": {
       "config": {
        "plotlyServerURL": "https://plot.ly"
       },
       "data": [
        {
         "alignmentgroup": "True",
         "hovertemplate": "Openings=%{x}<br>Count=%{y}<extra></extra>",
         "legendgroup": "",
         "marker": {
          "color": "#636efa",
          "pattern": {
           "shape": ""
          }
         },
         "name": "",
         "offsetgroup": "",
         "orientation": "v",
         "showlegend": false,
         "textposition": "auto",
         "type": "bar",
         "x": [
          "Queen's pawn game",
          "Sicillian Defense",
          "Queen's Pawn' Opening",
          "Queen's Gambit Accepted or Declined",
          "Caro-Kann Defense",
          "Polish(Sokolsky) Opening",
          "Old Benoni Defense",
          "Scandinavian Defense",
          "King's Pawn Opening",
          "Centre game",
          "Robatsch (modern) defence",
          "King's Indian Defense",
          "King's pawn opening",
          "Reti Opening",
          "King's Knight Opening",
          "Nimzovich-Larsen attack",
          "English Opening",
          "French Defense",
          "Mixed of opening I usually not played Or Missing data",
          "Bird's Opening",
          "Dutch",
          "Old Indian Defense",
          "Nimzo-Indian Defense",
          "Pirc defence",
          "Bishop's opening",
          "Scotch Opening",
          "Petrov's Defense",
          "Vienna game",
          "Budapest Defense",
          "Alekhine's defence",
          "King's Indian, East Indian Defense",
          "Ruy Lopez (Spanish Opening)",
          "Philidor's Defense",
          "Gruenfeld Defense",
          "King's Gambit",
          "Two Knights Defence",
          "Four Knights, Scotch Variation",
          "Italian Game",
          "Three Knights Game",
          "Benoni Defense",
          "Queen's Indian defence",
          "Richter-Veresov attack",
          "Modern defence, Averbakh system",
          "Neo-Gruenfeld defence"
         ],
         "xaxis": "x",
         "y": [
          1330,
          1118,
          1004,
          772,
          460,
          306,
          195,
          131,
          114,
          113,
          104,
          72,
          63,
          56,
          47,
          44,
          44,
          42,
          40,
          33,
          32,
          29,
          27,
          25,
          19,
          17,
          14,
          12,
          11,
          10,
          9,
          9,
          8,
          8,
          7,
          7,
          7,
          4,
          3,
          2,
          2,
          1,
          1,
          1
         ],
         "yaxis": "y"
        }
       ],
       "layout": {
        "barmode": "relative",
        "height": 1000,
        "legend": {
         "tracegroupgap": 0
        },
        "margin": {
         "t": 60
        },
        "template": {
         "data": {
          "bar": [
           {
            "error_x": {
             "color": "#2a3f5f"
            },
            "error_y": {
             "color": "#2a3f5f"
            },
            "marker": {
             "line": {
              "color": "#E5ECF6",
              "width": 0.5
             },
             "pattern": {
              "fillmode": "overlay",
              "size": 10,
              "solidity": 0.2
             }
            },
            "type": "bar"
           }
          ],
          "barpolar": [
           {
            "marker": {
             "line": {
              "color": "#E5ECF6",
              "width": 0.5
             },
             "pattern": {
              "fillmode": "overlay",
              "size": 10,
              "solidity": 0.2
             }
            },
            "type": "barpolar"
           }
          ],
          "carpet": [
           {
            "aaxis": {
             "endlinecolor": "#2a3f5f",
             "gridcolor": "white",
             "linecolor": "white",
             "minorgridcolor": "white",
             "startlinecolor": "#2a3f5f"
            },
            "baxis": {
             "endlinecolor": "#2a3f5f",
             "gridcolor": "white",
             "linecolor": "white",
             "minorgridcolor": "white",
             "startlinecolor": "#2a3f5f"
            },
            "type": "carpet"
           }
          ],
          "choropleth": [
           {
            "colorbar": {
             "outlinewidth": 0,
             "ticks": ""
            },
            "type": "choropleth"
           }
          ],
          "contour": [
           {
            "colorbar": {
             "outlinewidth": 0,
             "ticks": ""
            },
            "colorscale": [
             [
              0,
              "#0d0887"
             ],
             [
              0.1111111111111111,
              "#46039f"
             ],
             [
              0.2222222222222222,
              "#7201a8"
             ],
             [
              0.3333333333333333,
              "#9c179e"
             ],
             [
              0.4444444444444444,
              "#bd3786"
             ],
             [
              0.5555555555555556,
              "#d8576b"
             ],
             [
              0.6666666666666666,
              "#ed7953"
             ],
             [
              0.7777777777777778,
              "#fb9f3a"
             ],
             [
              0.8888888888888888,
              "#fdca26"
             ],
             [
              1,
              "#f0f921"
             ]
            ],
            "type": "contour"
           }
          ],
          "contourcarpet": [
           {
            "colorbar": {
             "outlinewidth": 0,
             "ticks": ""
            },
            "type": "contourcarpet"
           }
          ],
          "heatmap": [
           {
            "colorbar": {
             "outlinewidth": 0,
             "ticks": ""
            },
            "colorscale": [
             [
              0,
              "#0d0887"
             ],
             [
              0.1111111111111111,
              "#46039f"
             ],
             [
              0.2222222222222222,
              "#7201a8"
             ],
             [
              0.3333333333333333,
              "#9c179e"
             ],
             [
              0.4444444444444444,
              "#bd3786"
             ],
             [
              0.5555555555555556,
              "#d8576b"
             ],
             [
              0.6666666666666666,
              "#ed7953"
             ],
             [
              0.7777777777777778,
              "#fb9f3a"
             ],
             [
              0.8888888888888888,
              "#fdca26"
             ],
             [
              1,
              "#f0f921"
             ]
            ],
            "type": "heatmap"
           }
          ],
          "heatmapgl": [
           {
            "colorbar": {
             "outlinewidth": 0,
             "ticks": ""
            },
            "colorscale": [
             [
              0,
              "#0d0887"
             ],
             [
              0.1111111111111111,
              "#46039f"
             ],
             [
              0.2222222222222222,
              "#7201a8"
             ],
             [
              0.3333333333333333,
              "#9c179e"
             ],
             [
              0.4444444444444444,
              "#bd3786"
             ],
             [
              0.5555555555555556,
              "#d8576b"
             ],
             [
              0.6666666666666666,
              "#ed7953"
             ],
             [
              0.7777777777777778,
              "#fb9f3a"
             ],
             [
              0.8888888888888888,
              "#fdca26"
             ],
             [
              1,
              "#f0f921"
             ]
            ],
            "type": "heatmapgl"
           }
          ],
          "histogram": [
           {
            "marker": {
             "pattern": {
              "fillmode": "overlay",
              "size": 10,
              "solidity": 0.2
             }
            },
            "type": "histogram"
           }
          ],
          "histogram2d": [
           {
            "colorbar": {
             "outlinewidth": 0,
             "ticks": ""
            },
            "colorscale": [
             [
              0,
              "#0d0887"
             ],
             [
              0.1111111111111111,
              "#46039f"
             ],
             [
              0.2222222222222222,
              "#7201a8"
             ],
             [
              0.3333333333333333,
              "#9c179e"
             ],
             [
              0.4444444444444444,
              "#bd3786"
             ],
             [
              0.5555555555555556,
              "#d8576b"
             ],
             [
              0.6666666666666666,
              "#ed7953"
             ],
             [
              0.7777777777777778,
              "#fb9f3a"
             ],
             [
              0.8888888888888888,
              "#fdca26"
             ],
             [
              1,
              "#f0f921"
             ]
            ],
            "type": "histogram2d"
           }
          ],
          "histogram2dcontour": [
           {
            "colorbar": {
             "outlinewidth": 0,
             "ticks": ""
            },
            "colorscale": [
             [
              0,
              "#0d0887"
             ],
             [
              0.1111111111111111,
              "#46039f"
             ],
             [
              0.2222222222222222,
              "#7201a8"
             ],
             [
              0.3333333333333333,
              "#9c179e"
             ],
             [
              0.4444444444444444,
              "#bd3786"
             ],
             [
              0.5555555555555556,
              "#d8576b"
             ],
             [
              0.6666666666666666,
              "#ed7953"
             ],
             [
              0.7777777777777778,
              "#fb9f3a"
             ],
             [
              0.8888888888888888,
              "#fdca26"
             ],
             [
              1,
              "#f0f921"
             ]
            ],
            "type": "histogram2dcontour"
           }
          ],
          "mesh3d": [
           {
            "colorbar": {
             "outlinewidth": 0,
             "ticks": ""
            },
            "type": "mesh3d"
           }
          ],
          "parcoords": [
           {
            "line": {
             "colorbar": {
              "outlinewidth": 0,
              "ticks": ""
             }
            },
            "type": "parcoords"
           }
          ],
          "pie": [
           {
            "automargin": true,
            "type": "pie"
           }
          ],
          "scatter": [
           {
            "fillpattern": {
             "fillmode": "overlay",
             "size": 10,
             "solidity": 0.2
            },
            "type": "scatter"
           }
          ],
          "scatter3d": [
           {
            "line": {
             "colorbar": {
              "outlinewidth": 0,
              "ticks": ""
             }
            },
            "marker": {
             "colorbar": {
              "outlinewidth": 0,
              "ticks": ""
             }
            },
            "type": "scatter3d"
           }
          ],
          "scattercarpet": [
           {
            "marker": {
             "colorbar": {
              "outlinewidth": 0,
              "ticks": ""
             }
            },
            "type": "scattercarpet"
           }
          ],
          "scattergeo": [
           {
            "marker": {
             "colorbar": {
              "outlinewidth": 0,
              "ticks": ""
             }
            },
            "type": "scattergeo"
           }
          ],
          "scattergl": [
           {
            "marker": {
             "colorbar": {
              "outlinewidth": 0,
              "ticks": ""
             }
            },
            "type": "scattergl"
           }
          ],
          "scattermapbox": [
           {
            "marker": {
             "colorbar": {
              "outlinewidth": 0,
              "ticks": ""
             }
            },
            "type": "scattermapbox"
           }
          ],
          "scatterpolar": [
           {
            "marker": {
             "colorbar": {
              "outlinewidth": 0,
              "ticks": ""
             }
            },
            "type": "scatterpolar"
           }
          ],
          "scatterpolargl": [
           {
            "marker": {
             "colorbar": {
              "outlinewidth": 0,
              "ticks": ""
             }
            },
            "type": "scatterpolargl"
           }
          ],
          "scatterternary": [
           {
            "marker": {
             "colorbar": {
              "outlinewidth": 0,
              "ticks": ""
             }
            },
            "type": "scatterternary"
           }
          ],
          "surface": [
           {
            "colorbar": {
             "outlinewidth": 0,
             "ticks": ""
            },
            "colorscale": [
             [
              0,
              "#0d0887"
             ],
             [
              0.1111111111111111,
              "#46039f"
             ],
             [
              0.2222222222222222,
              "#7201a8"
             ],
             [
              0.3333333333333333,
              "#9c179e"
             ],
             [
              0.4444444444444444,
              "#bd3786"
             ],
             [
              0.5555555555555556,
              "#d8576b"
             ],
             [
              0.6666666666666666,
              "#ed7953"
             ],
             [
              0.7777777777777778,
              "#fb9f3a"
             ],
             [
              0.8888888888888888,
              "#fdca26"
             ],
             [
              1,
              "#f0f921"
             ]
            ],
            "type": "surface"
           }
          ],
          "table": [
           {
            "cells": {
             "fill": {
              "color": "#EBF0F8"
             },
             "line": {
              "color": "white"
             }
            },
            "header": {
             "fill": {
              "color": "#C8D4E3"
             },
             "line": {
              "color": "white"
             }
            },
            "type": "table"
           }
          ]
         },
         "layout": {
          "annotationdefaults": {
           "arrowcolor": "#2a3f5f",
           "arrowhead": 0,
           "arrowwidth": 1
          },
          "autotypenumbers": "strict",
          "coloraxis": {
           "colorbar": {
            "outlinewidth": 0,
            "ticks": ""
           }
          },
          "colorscale": {
           "diverging": [
            [
             0,
             "#8e0152"
            ],
            [
             0.1,
             "#c51b7d"
            ],
            [
             0.2,
             "#de77ae"
            ],
            [
             0.3,
             "#f1b6da"
            ],
            [
             0.4,
             "#fde0ef"
            ],
            [
             0.5,
             "#f7f7f7"
            ],
            [
             0.6,
             "#e6f5d0"
            ],
            [
             0.7,
             "#b8e186"
            ],
            [
             0.8,
             "#7fbc41"
            ],
            [
             0.9,
             "#4d9221"
            ],
            [
             1,
             "#276419"
            ]
           ],
           "sequential": [
            [
             0,
             "#0d0887"
            ],
            [
             0.1111111111111111,
             "#46039f"
            ],
            [
             0.2222222222222222,
             "#7201a8"
            ],
            [
             0.3333333333333333,
             "#9c179e"
            ],
            [
             0.4444444444444444,
             "#bd3786"
            ],
            [
             0.5555555555555556,
             "#d8576b"
            ],
            [
             0.6666666666666666,
             "#ed7953"
            ],
            [
             0.7777777777777778,
             "#fb9f3a"
            ],
            [
             0.8888888888888888,
             "#fdca26"
            ],
            [
             1,
             "#f0f921"
            ]
           ],
           "sequentialminus": [
            [
             0,
             "#0d0887"
            ],
            [
             0.1111111111111111,
             "#46039f"
            ],
            [
             0.2222222222222222,
             "#7201a8"
            ],
            [
             0.3333333333333333,
             "#9c179e"
            ],
            [
             0.4444444444444444,
             "#bd3786"
            ],
            [
             0.5555555555555556,
             "#d8576b"
            ],
            [
             0.6666666666666666,
             "#ed7953"
            ],
            [
             0.7777777777777778,
             "#fb9f3a"
            ],
            [
             0.8888888888888888,
             "#fdca26"
            ],
            [
             1,
             "#f0f921"
            ]
           ]
          },
          "colorway": [
           "#636efa",
           "#EF553B",
           "#00cc96",
           "#ab63fa",
           "#FFA15A",
           "#19d3f3",
           "#FF6692",
           "#B6E880",
           "#FF97FF",
           "#FECB52"
          ],
          "font": {
           "color": "#2a3f5f"
          },
          "geo": {
           "bgcolor": "white",
           "lakecolor": "white",
           "landcolor": "#E5ECF6",
           "showlakes": true,
           "showland": true,
           "subunitcolor": "white"
          },
          "hoverlabel": {
           "align": "left"
          },
          "hovermode": "closest",
          "mapbox": {
           "style": "light"
          },
          "paper_bgcolor": "white",
          "plot_bgcolor": "#E5ECF6",
          "polar": {
           "angularaxis": {
            "gridcolor": "white",
            "linecolor": "white",
            "ticks": ""
           },
           "bgcolor": "#E5ECF6",
           "radialaxis": {
            "gridcolor": "white",
            "linecolor": "white",
            "ticks": ""
           }
          },
          "scene": {
           "xaxis": {
            "backgroundcolor": "#E5ECF6",
            "gridcolor": "white",
            "gridwidth": 2,
            "linecolor": "white",
            "showbackground": true,
            "ticks": "",
            "zerolinecolor": "white"
           },
           "yaxis": {
            "backgroundcolor": "#E5ECF6",
            "gridcolor": "white",
            "gridwidth": 2,
            "linecolor": "white",
            "showbackground": true,
            "ticks": "",
            "zerolinecolor": "white"
           },
           "zaxis": {
            "backgroundcolor": "#E5ECF6",
            "gridcolor": "white",
            "gridwidth": 2,
            "linecolor": "white",
            "showbackground": true,
            "ticks": "",
            "zerolinecolor": "white"
           }
          },
          "shapedefaults": {
           "line": {
            "color": "#2a3f5f"
           }
          },
          "ternary": {
           "aaxis": {
            "gridcolor": "white",
            "linecolor": "white",
            "ticks": ""
           },
           "baxis": {
            "gridcolor": "white",
            "linecolor": "white",
            "ticks": ""
           },
           "bgcolor": "#E5ECF6",
           "caxis": {
            "gridcolor": "white",
            "linecolor": "white",
            "ticks": ""
           }
          },
          "title": {
           "x": 0.05
          },
          "xaxis": {
           "automargin": true,
           "gridcolor": "white",
           "linecolor": "white",
           "ticks": "",
           "title": {
            "standoff": 15
           },
           "zerolinecolor": "white",
           "zerolinewidth": 2
          },
          "yaxis": {
           "automargin": true,
           "gridcolor": "white",
           "linecolor": "white",
           "ticks": "",
           "title": {
            "standoff": 15
           },
           "zerolinecolor": "white",
           "zerolinewidth": 2
          }
         }
        },
        "width": 1000,
        "xaxis": {
         "anchor": "y",
         "domain": [
          0,
          1
         ],
         "title": {
          "text": "Openings"
         }
        },
        "yaxis": {
         "anchor": "x",
         "domain": [
          0,
          1
         ],
         "title": {
          "text": "Count"
         }
        }
       }
      },
      "text/html": [
       "<div>                            <div id=\"78ba9d36-074d-4927-8919-6805dc36a3cc\" class=\"plotly-graph-div\" style=\"height:1000px; width:1000px;\"></div>            <script type=\"text/javascript\">                require([\"plotly\"], function(Plotly) {                    window.PLOTLYENV=window.PLOTLYENV || {};                                    if (document.getElementById(\"78ba9d36-074d-4927-8919-6805dc36a3cc\")) {                    Plotly.newPlot(                        \"78ba9d36-074d-4927-8919-6805dc36a3cc\",                        [{\"alignmentgroup\":\"True\",\"hovertemplate\":\"Openings=%{x}\\u003cbr\\u003eCount=%{y}\\u003cextra\\u003e\\u003c\\u002fextra\\u003e\",\"legendgroup\":\"\",\"marker\":{\"color\":\"#636efa\",\"pattern\":{\"shape\":\"\"}},\"name\":\"\",\"offsetgroup\":\"\",\"orientation\":\"v\",\"showlegend\":false,\"textposition\":\"auto\",\"x\":[\"Queen's pawn game\",\"Sicillian Defense\",\"Queen's Pawn' Opening\",\"Queen's Gambit Accepted or Declined\",\"Caro-Kann Defense\",\"Polish(Sokolsky) Opening\",\"Old Benoni Defense\",\"Scandinavian Defense\",\"King's Pawn Opening\",\"Centre game\",\"Robatsch (modern) defence\",\"King's Indian Defense\",\"King's pawn opening\",\"Reti Opening\",\"King's Knight Opening\",\"Nimzovich-Larsen attack\",\"English Opening\",\"French Defense\",\"Mixed of opening I usually not played Or Missing data\",\"Bird's Opening\",\"Dutch\",\"Old Indian Defense\",\"Nimzo-Indian Defense\",\"Pirc defence\",\"Bishop's opening\",\"Scotch Opening\",\"Petrov's Defense\",\"Vienna game\",\"Budapest Defense\",\"Alekhine's defence\",\"King's Indian, East Indian Defense\",\"Ruy Lopez (Spanish Opening)\",\"Philidor's Defense\",\"Gruenfeld Defense\",\"King's Gambit\",\"Two Knights Defence\",\"Four Knights, Scotch Variation\",\"Italian Game\",\"Three Knights Game\",\"Benoni Defense\",\"Queen's Indian defence\",\"Richter-Veresov attack\",\"Modern defence, Averbakh system\",\"Neo-Gruenfeld defence\"],\"xaxis\":\"x\",\"y\":[1330,1118,1004,772,460,306,195,131,114,113,104,72,63,56,47,44,44,42,40,33,32,29,27,25,19,17,14,12,11,10,9,9,8,8,7,7,7,4,3,2,2,1,1,1],\"yaxis\":\"y\",\"type\":\"bar\"}],                        {\"template\":{\"data\":{\"histogram2dcontour\":[{\"type\":\"histogram2dcontour\",\"colorbar\":{\"outlinewidth\":0,\"ticks\":\"\"},\"colorscale\":[[0.0,\"#0d0887\"],[0.1111111111111111,\"#46039f\"],[0.2222222222222222,\"#7201a8\"],[0.3333333333333333,\"#9c179e\"],[0.4444444444444444,\"#bd3786\"],[0.5555555555555556,\"#d8576b\"],[0.6666666666666666,\"#ed7953\"],[0.7777777777777778,\"#fb9f3a\"],[0.8888888888888888,\"#fdca26\"],[1.0,\"#f0f921\"]]}],\"choropleth\":[{\"type\":\"choropleth\",\"colorbar\":{\"outlinewidth\":0,\"ticks\":\"\"}}],\"histogram2d\":[{\"type\":\"histogram2d\",\"colorbar\":{\"outlinewidth\":0,\"ticks\":\"\"},\"colorscale\":[[0.0,\"#0d0887\"],[0.1111111111111111,\"#46039f\"],[0.2222222222222222,\"#7201a8\"],[0.3333333333333333,\"#9c179e\"],[0.4444444444444444,\"#bd3786\"],[0.5555555555555556,\"#d8576b\"],[0.6666666666666666,\"#ed7953\"],[0.7777777777777778,\"#fb9f3a\"],[0.8888888888888888,\"#fdca26\"],[1.0,\"#f0f921\"]]}],\"heatmap\":[{\"type\":\"heatmap\",\"colorbar\":{\"outlinewidth\":0,\"ticks\":\"\"},\"colorscale\":[[0.0,\"#0d0887\"],[0.1111111111111111,\"#46039f\"],[0.2222222222222222,\"#7201a8\"],[0.3333333333333333,\"#9c179e\"],[0.4444444444444444,\"#bd3786\"],[0.5555555555555556,\"#d8576b\"],[0.6666666666666666,\"#ed7953\"],[0.7777777777777778,\"#fb9f3a\"],[0.8888888888888888,\"#fdca26\"],[1.0,\"#f0f921\"]]}],\"heatmapgl\":[{\"type\":\"heatmapgl\",\"colorbar\":{\"outlinewidth\":0,\"ticks\":\"\"},\"colorscale\":[[0.0,\"#0d0887\"],[0.1111111111111111,\"#46039f\"],[0.2222222222222222,\"#7201a8\"],[0.3333333333333333,\"#9c179e\"],[0.4444444444444444,\"#bd3786\"],[0.5555555555555556,\"#d8576b\"],[0.6666666666666666,\"#ed7953\"],[0.7777777777777778,\"#fb9f3a\"],[0.8888888888888888,\"#fdca26\"],[1.0,\"#f0f921\"]]}],\"contourcarpet\":[{\"type\":\"contourcarpet\",\"colorbar\":{\"outlinewidth\":0,\"ticks\":\"\"}}],\"contour\":[{\"type\":\"contour\",\"colorbar\":{\"outlinewidth\":0,\"ticks\":\"\"},\"colorscale\":[[0.0,\"#0d0887\"],[0.1111111111111111,\"#46039f\"],[0.2222222222222222,\"#7201a8\"],[0.3333333333333333,\"#9c179e\"],[0.4444444444444444,\"#bd3786\"],[0.5555555555555556,\"#d8576b\"],[0.6666666666666666,\"#ed7953\"],[0.7777777777777778,\"#fb9f3a\"],[0.8888888888888888,\"#fdca26\"],[1.0,\"#f0f921\"]]}],\"surface\":[{\"type\":\"surface\",\"colorbar\":{\"outlinewidth\":0,\"ticks\":\"\"},\"colorscale\":[[0.0,\"#0d0887\"],[0.1111111111111111,\"#46039f\"],[0.2222222222222222,\"#7201a8\"],[0.3333333333333333,\"#9c179e\"],[0.4444444444444444,\"#bd3786\"],[0.5555555555555556,\"#d8576b\"],[0.6666666666666666,\"#ed7953\"],[0.7777777777777778,\"#fb9f3a\"],[0.8888888888888888,\"#fdca26\"],[1.0,\"#f0f921\"]]}],\"mesh3d\":[{\"type\":\"mesh3d\",\"colorbar\":{\"outlinewidth\":0,\"ticks\":\"\"}}],\"scatter\":[{\"fillpattern\":{\"fillmode\":\"overlay\",\"size\":10,\"solidity\":0.2},\"type\":\"scatter\"}],\"parcoords\":[{\"type\":\"parcoords\",\"line\":{\"colorbar\":{\"outlinewidth\":0,\"ticks\":\"\"}}}],\"scatterpolargl\":[{\"type\":\"scatterpolargl\",\"marker\":{\"colorbar\":{\"outlinewidth\":0,\"ticks\":\"\"}}}],\"bar\":[{\"error_x\":{\"color\":\"#2a3f5f\"},\"error_y\":{\"color\":\"#2a3f5f\"},\"marker\":{\"line\":{\"color\":\"#E5ECF6\",\"width\":0.5},\"pattern\":{\"fillmode\":\"overlay\",\"size\":10,\"solidity\":0.2}},\"type\":\"bar\"}],\"scattergeo\":[{\"type\":\"scattergeo\",\"marker\":{\"colorbar\":{\"outlinewidth\":0,\"ticks\":\"\"}}}],\"scatterpolar\":[{\"type\":\"scatterpolar\",\"marker\":{\"colorbar\":{\"outlinewidth\":0,\"ticks\":\"\"}}}],\"histogram\":[{\"marker\":{\"pattern\":{\"fillmode\":\"overlay\",\"size\":10,\"solidity\":0.2}},\"type\":\"histogram\"}],\"scattergl\":[{\"type\":\"scattergl\",\"marker\":{\"colorbar\":{\"outlinewidth\":0,\"ticks\":\"\"}}}],\"scatter3d\":[{\"type\":\"scatter3d\",\"line\":{\"colorbar\":{\"outlinewidth\":0,\"ticks\":\"\"}},\"marker\":{\"colorbar\":{\"outlinewidth\":0,\"ticks\":\"\"}}}],\"scattermapbox\":[{\"type\":\"scattermapbox\",\"marker\":{\"colorbar\":{\"outlinewidth\":0,\"ticks\":\"\"}}}],\"scatterternary\":[{\"type\":\"scatterternary\",\"marker\":{\"colorbar\":{\"outlinewidth\":0,\"ticks\":\"\"}}}],\"scattercarpet\":[{\"type\":\"scattercarpet\",\"marker\":{\"colorbar\":{\"outlinewidth\":0,\"ticks\":\"\"}}}],\"carpet\":[{\"aaxis\":{\"endlinecolor\":\"#2a3f5f\",\"gridcolor\":\"white\",\"linecolor\":\"white\",\"minorgridcolor\":\"white\",\"startlinecolor\":\"#2a3f5f\"},\"baxis\":{\"endlinecolor\":\"#2a3f5f\",\"gridcolor\":\"white\",\"linecolor\":\"white\",\"minorgridcolor\":\"white\",\"startlinecolor\":\"#2a3f5f\"},\"type\":\"carpet\"}],\"table\":[{\"cells\":{\"fill\":{\"color\":\"#EBF0F8\"},\"line\":{\"color\":\"white\"}},\"header\":{\"fill\":{\"color\":\"#C8D4E3\"},\"line\":{\"color\":\"white\"}},\"type\":\"table\"}],\"barpolar\":[{\"marker\":{\"line\":{\"color\":\"#E5ECF6\",\"width\":0.5},\"pattern\":{\"fillmode\":\"overlay\",\"size\":10,\"solidity\":0.2}},\"type\":\"barpolar\"}],\"pie\":[{\"automargin\":true,\"type\":\"pie\"}]},\"layout\":{\"autotypenumbers\":\"strict\",\"colorway\":[\"#636efa\",\"#EF553B\",\"#00cc96\",\"#ab63fa\",\"#FFA15A\",\"#19d3f3\",\"#FF6692\",\"#B6E880\",\"#FF97FF\",\"#FECB52\"],\"font\":{\"color\":\"#2a3f5f\"},\"hovermode\":\"closest\",\"hoverlabel\":{\"align\":\"left\"},\"paper_bgcolor\":\"white\",\"plot_bgcolor\":\"#E5ECF6\",\"polar\":{\"bgcolor\":\"#E5ECF6\",\"angularaxis\":{\"gridcolor\":\"white\",\"linecolor\":\"white\",\"ticks\":\"\"},\"radialaxis\":{\"gridcolor\":\"white\",\"linecolor\":\"white\",\"ticks\":\"\"}},\"ternary\":{\"bgcolor\":\"#E5ECF6\",\"aaxis\":{\"gridcolor\":\"white\",\"linecolor\":\"white\",\"ticks\":\"\"},\"baxis\":{\"gridcolor\":\"white\",\"linecolor\":\"white\",\"ticks\":\"\"},\"caxis\":{\"gridcolor\":\"white\",\"linecolor\":\"white\",\"ticks\":\"\"}},\"coloraxis\":{\"colorbar\":{\"outlinewidth\":0,\"ticks\":\"\"}},\"colorscale\":{\"sequential\":[[0.0,\"#0d0887\"],[0.1111111111111111,\"#46039f\"],[0.2222222222222222,\"#7201a8\"],[0.3333333333333333,\"#9c179e\"],[0.4444444444444444,\"#bd3786\"],[0.5555555555555556,\"#d8576b\"],[0.6666666666666666,\"#ed7953\"],[0.7777777777777778,\"#fb9f3a\"],[0.8888888888888888,\"#fdca26\"],[1.0,\"#f0f921\"]],\"sequentialminus\":[[0.0,\"#0d0887\"],[0.1111111111111111,\"#46039f\"],[0.2222222222222222,\"#7201a8\"],[0.3333333333333333,\"#9c179e\"],[0.4444444444444444,\"#bd3786\"],[0.5555555555555556,\"#d8576b\"],[0.6666666666666666,\"#ed7953\"],[0.7777777777777778,\"#fb9f3a\"],[0.8888888888888888,\"#fdca26\"],[1.0,\"#f0f921\"]],\"diverging\":[[0,\"#8e0152\"],[0.1,\"#c51b7d\"],[0.2,\"#de77ae\"],[0.3,\"#f1b6da\"],[0.4,\"#fde0ef\"],[0.5,\"#f7f7f7\"],[0.6,\"#e6f5d0\"],[0.7,\"#b8e186\"],[0.8,\"#7fbc41\"],[0.9,\"#4d9221\"],[1,\"#276419\"]]},\"xaxis\":{\"gridcolor\":\"white\",\"linecolor\":\"white\",\"ticks\":\"\",\"title\":{\"standoff\":15},\"zerolinecolor\":\"white\",\"automargin\":true,\"zerolinewidth\":2},\"yaxis\":{\"gridcolor\":\"white\",\"linecolor\":\"white\",\"ticks\":\"\",\"title\":{\"standoff\":15},\"zerolinecolor\":\"white\",\"automargin\":true,\"zerolinewidth\":2},\"scene\":{\"xaxis\":{\"backgroundcolor\":\"#E5ECF6\",\"gridcolor\":\"white\",\"linecolor\":\"white\",\"showbackground\":true,\"ticks\":\"\",\"zerolinecolor\":\"white\",\"gridwidth\":2},\"yaxis\":{\"backgroundcolor\":\"#E5ECF6\",\"gridcolor\":\"white\",\"linecolor\":\"white\",\"showbackground\":true,\"ticks\":\"\",\"zerolinecolor\":\"white\",\"gridwidth\":2},\"zaxis\":{\"backgroundcolor\":\"#E5ECF6\",\"gridcolor\":\"white\",\"linecolor\":\"white\",\"showbackground\":true,\"ticks\":\"\",\"zerolinecolor\":\"white\",\"gridwidth\":2}},\"shapedefaults\":{\"line\":{\"color\":\"#2a3f5f\"}},\"annotationdefaults\":{\"arrowcolor\":\"#2a3f5f\",\"arrowhead\":0,\"arrowwidth\":1},\"geo\":{\"bgcolor\":\"white\",\"landcolor\":\"#E5ECF6\",\"subunitcolor\":\"white\",\"showland\":true,\"showlakes\":true,\"lakecolor\":\"white\"},\"title\":{\"x\":0.05},\"mapbox\":{\"style\":\"light\"}}},\"xaxis\":{\"anchor\":\"y\",\"domain\":[0.0,1.0],\"title\":{\"text\":\"Openings\"}},\"yaxis\":{\"anchor\":\"x\",\"domain\":[0.0,1.0],\"title\":{\"text\":\"Count\"}},\"legend\":{\"tracegroupgap\":0},\"margin\":{\"t\":60},\"barmode\":\"relative\",\"width\":1000,\"height\":1000},                        {\"responsive\": true}                    ).then(function(){\n",
       "                            \n",
       "var gd = document.getElementById('78ba9d36-074d-4927-8919-6805dc36a3cc');\n",
       "var x = new MutationObserver(function (mutations, observer) {{\n",
       "        var display = window.getComputedStyle(gd).display;\n",
       "        if (!display || display === 'none') {{\n",
       "            console.log([gd, 'removed!']);\n",
       "            Plotly.purge(gd);\n",
       "            observer.disconnect();\n",
       "        }}\n",
       "}});\n",
       "\n",
       "// Listen for the removal of the full notebook cells\n",
       "var notebookContainer = gd.closest('#notebook-container');\n",
       "if (notebookContainer) {{\n",
       "    x.observe(notebookContainer, {childList: true});\n",
       "}}\n",
       "\n",
       "// Listen for the clearing of the current output cell\n",
       "var outputEl = gd.closest('.output');\n",
       "if (outputEl) {{\n",
       "    x.observe(outputEl, {childList: true});\n",
       "}}\n",
       "\n",
       "                        })                };                });            </script>        </div>"
      ]
     },
     "metadata": {},
     "output_type": "display_data"
    }
   ],
   "source": [
    "openings = openings.reset_index()\n",
    "openings.columns = ['Openings', 'Count']\n",
    "fig = px.bar(openings, x='Openings', y='Count')\n",
    "fig.update_layout(width=1000, height=1000)\n",
    "fig.show()"
   ]
  },
  {
   "cell_type": "markdown",
   "id": "5540f3b7",
   "metadata": {},
   "source": [
    "### Bar Chart for Games I won Using Particular Opening"
   ]
  },
  {
   "cell_type": "code",
   "execution_count": 105,
   "id": "8e254baa",
   "metadata": {},
   "outputs": [],
   "source": [
    "won_openings = games_data[games_data['result']=='Won']['Opening'].value_counts()"
   ]
  },
  {
   "cell_type": "code",
   "execution_count": 106,
   "id": "3256981d",
   "metadata": {},
   "outputs": [
    {
     "data": {
      "application/vnd.plotly.v1+json": {
       "config": {
        "plotlyServerURL": "https://plot.ly"
       },
       "data": [
        {
         "alignmentgroup": "True",
         "hovertemplate": "Openings=%{x}<br>Won=%{y}<extra></extra>",
         "legendgroup": "",
         "marker": {
          "color": "#636efa",
          "pattern": {
           "shape": ""
          }
         },
         "name": "",
         "offsetgroup": "",
         "orientation": "v",
         "showlegend": false,
         "textposition": "auto",
         "type": "bar",
         "x": [
          "Queen's pawn game",
          "Sicillian Defense",
          "Queen's Pawn' Opening",
          "Queen's Gambit Accepted or Declined",
          "Caro-Kann Defense",
          "Polish(Sokolsky) Opening",
          "Old Benoni Defense",
          "Scandinavian Defense",
          "King's Pawn Opening",
          "Centre game",
          "Robatsch (modern) defence",
          "King's Indian Defense",
          "King's pawn opening",
          "Reti Opening",
          "Nimzovich-Larsen attack",
          "King's Knight Opening",
          "English Opening",
          "Bird's Opening",
          "Dutch",
          "Mixed of opening I usually not played Or Missing data",
          "French Defense",
          "Old Indian Defense",
          "Pirc defence",
          "Nimzo-Indian Defense",
          "Vienna game",
          "Scotch Opening",
          "Bishop's opening",
          "Petrov's Defense",
          "Alekhine's defence",
          "King's Gambit",
          "Two Knights Defence",
          "Gruenfeld Defense",
          "Philidor's Defense",
          "Ruy Lopez (Spanish Opening)",
          "Benoni Defense",
          "Queen's Indian defence",
          "Three Knights Game",
          "Budapest Defense",
          "Four Knights, Scotch Variation",
          "Modern defence, Averbakh system",
          "King's Indian, East Indian Defense",
          "Neo-Gruenfeld defence"
         ],
         "xaxis": "x",
         "y": [
          672,
          565,
          518,
          404,
          227,
          158,
          104,
          65,
          56,
          48,
          45,
          35,
          34,
          30,
          24,
          23,
          21,
          19,
          18,
          18,
          17,
          13,
          12,
          11,
          8,
          7,
          5,
          5,
          5,
          4,
          4,
          3,
          3,
          3,
          2,
          2,
          2,
          2,
          1,
          1,
          1,
          1
         ],
         "yaxis": "y"
        }
       ],
       "layout": {
        "barmode": "relative",
        "height": 1000,
        "legend": {
         "tracegroupgap": 0
        },
        "margin": {
         "t": 60
        },
        "template": {
         "data": {
          "bar": [
           {
            "error_x": {
             "color": "#2a3f5f"
            },
            "error_y": {
             "color": "#2a3f5f"
            },
            "marker": {
             "line": {
              "color": "#E5ECF6",
              "width": 0.5
             },
             "pattern": {
              "fillmode": "overlay",
              "size": 10,
              "solidity": 0.2
             }
            },
            "type": "bar"
           }
          ],
          "barpolar": [
           {
            "marker": {
             "line": {
              "color": "#E5ECF6",
              "width": 0.5
             },
             "pattern": {
              "fillmode": "overlay",
              "size": 10,
              "solidity": 0.2
             }
            },
            "type": "barpolar"
           }
          ],
          "carpet": [
           {
            "aaxis": {
             "endlinecolor": "#2a3f5f",
             "gridcolor": "white",
             "linecolor": "white",
             "minorgridcolor": "white",
             "startlinecolor": "#2a3f5f"
            },
            "baxis": {
             "endlinecolor": "#2a3f5f",
             "gridcolor": "white",
             "linecolor": "white",
             "minorgridcolor": "white",
             "startlinecolor": "#2a3f5f"
            },
            "type": "carpet"
           }
          ],
          "choropleth": [
           {
            "colorbar": {
             "outlinewidth": 0,
             "ticks": ""
            },
            "type": "choropleth"
           }
          ],
          "contour": [
           {
            "colorbar": {
             "outlinewidth": 0,
             "ticks": ""
            },
            "colorscale": [
             [
              0,
              "#0d0887"
             ],
             [
              0.1111111111111111,
              "#46039f"
             ],
             [
              0.2222222222222222,
              "#7201a8"
             ],
             [
              0.3333333333333333,
              "#9c179e"
             ],
             [
              0.4444444444444444,
              "#bd3786"
             ],
             [
              0.5555555555555556,
              "#d8576b"
             ],
             [
              0.6666666666666666,
              "#ed7953"
             ],
             [
              0.7777777777777778,
              "#fb9f3a"
             ],
             [
              0.8888888888888888,
              "#fdca26"
             ],
             [
              1,
              "#f0f921"
             ]
            ],
            "type": "contour"
           }
          ],
          "contourcarpet": [
           {
            "colorbar": {
             "outlinewidth": 0,
             "ticks": ""
            },
            "type": "contourcarpet"
           }
          ],
          "heatmap": [
           {
            "colorbar": {
             "outlinewidth": 0,
             "ticks": ""
            },
            "colorscale": [
             [
              0,
              "#0d0887"
             ],
             [
              0.1111111111111111,
              "#46039f"
             ],
             [
              0.2222222222222222,
              "#7201a8"
             ],
             [
              0.3333333333333333,
              "#9c179e"
             ],
             [
              0.4444444444444444,
              "#bd3786"
             ],
             [
              0.5555555555555556,
              "#d8576b"
             ],
             [
              0.6666666666666666,
              "#ed7953"
             ],
             [
              0.7777777777777778,
              "#fb9f3a"
             ],
             [
              0.8888888888888888,
              "#fdca26"
             ],
             [
              1,
              "#f0f921"
             ]
            ],
            "type": "heatmap"
           }
          ],
          "heatmapgl": [
           {
            "colorbar": {
             "outlinewidth": 0,
             "ticks": ""
            },
            "colorscale": [
             [
              0,
              "#0d0887"
             ],
             [
              0.1111111111111111,
              "#46039f"
             ],
             [
              0.2222222222222222,
              "#7201a8"
             ],
             [
              0.3333333333333333,
              "#9c179e"
             ],
             [
              0.4444444444444444,
              "#bd3786"
             ],
             [
              0.5555555555555556,
              "#d8576b"
             ],
             [
              0.6666666666666666,
              "#ed7953"
             ],
             [
              0.7777777777777778,
              "#fb9f3a"
             ],
             [
              0.8888888888888888,
              "#fdca26"
             ],
             [
              1,
              "#f0f921"
             ]
            ],
            "type": "heatmapgl"
           }
          ],
          "histogram": [
           {
            "marker": {
             "pattern": {
              "fillmode": "overlay",
              "size": 10,
              "solidity": 0.2
             }
            },
            "type": "histogram"
           }
          ],
          "histogram2d": [
           {
            "colorbar": {
             "outlinewidth": 0,
             "ticks": ""
            },
            "colorscale": [
             [
              0,
              "#0d0887"
             ],
             [
              0.1111111111111111,
              "#46039f"
             ],
             [
              0.2222222222222222,
              "#7201a8"
             ],
             [
              0.3333333333333333,
              "#9c179e"
             ],
             [
              0.4444444444444444,
              "#bd3786"
             ],
             [
              0.5555555555555556,
              "#d8576b"
             ],
             [
              0.6666666666666666,
              "#ed7953"
             ],
             [
              0.7777777777777778,
              "#fb9f3a"
             ],
             [
              0.8888888888888888,
              "#fdca26"
             ],
             [
              1,
              "#f0f921"
             ]
            ],
            "type": "histogram2d"
           }
          ],
          "histogram2dcontour": [
           {
            "colorbar": {
             "outlinewidth": 0,
             "ticks": ""
            },
            "colorscale": [
             [
              0,
              "#0d0887"
             ],
             [
              0.1111111111111111,
              "#46039f"
             ],
             [
              0.2222222222222222,
              "#7201a8"
             ],
             [
              0.3333333333333333,
              "#9c179e"
             ],
             [
              0.4444444444444444,
              "#bd3786"
             ],
             [
              0.5555555555555556,
              "#d8576b"
             ],
             [
              0.6666666666666666,
              "#ed7953"
             ],
             [
              0.7777777777777778,
              "#fb9f3a"
             ],
             [
              0.8888888888888888,
              "#fdca26"
             ],
             [
              1,
              "#f0f921"
             ]
            ],
            "type": "histogram2dcontour"
           }
          ],
          "mesh3d": [
           {
            "colorbar": {
             "outlinewidth": 0,
             "ticks": ""
            },
            "type": "mesh3d"
           }
          ],
          "parcoords": [
           {
            "line": {
             "colorbar": {
              "outlinewidth": 0,
              "ticks": ""
             }
            },
            "type": "parcoords"
           }
          ],
          "pie": [
           {
            "automargin": true,
            "type": "pie"
           }
          ],
          "scatter": [
           {
            "fillpattern": {
             "fillmode": "overlay",
             "size": 10,
             "solidity": 0.2
            },
            "type": "scatter"
           }
          ],
          "scatter3d": [
           {
            "line": {
             "colorbar": {
              "outlinewidth": 0,
              "ticks": ""
             }
            },
            "marker": {
             "colorbar": {
              "outlinewidth": 0,
              "ticks": ""
             }
            },
            "type": "scatter3d"
           }
          ],
          "scattercarpet": [
           {
            "marker": {
             "colorbar": {
              "outlinewidth": 0,
              "ticks": ""
             }
            },
            "type": "scattercarpet"
           }
          ],
          "scattergeo": [
           {
            "marker": {
             "colorbar": {
              "outlinewidth": 0,
              "ticks": ""
             }
            },
            "type": "scattergeo"
           }
          ],
          "scattergl": [
           {
            "marker": {
             "colorbar": {
              "outlinewidth": 0,
              "ticks": ""
             }
            },
            "type": "scattergl"
           }
          ],
          "scattermapbox": [
           {
            "marker": {
             "colorbar": {
              "outlinewidth": 0,
              "ticks": ""
             }
            },
            "type": "scattermapbox"
           }
          ],
          "scatterpolar": [
           {
            "marker": {
             "colorbar": {
              "outlinewidth": 0,
              "ticks": ""
             }
            },
            "type": "scatterpolar"
           }
          ],
          "scatterpolargl": [
           {
            "marker": {
             "colorbar": {
              "outlinewidth": 0,
              "ticks": ""
             }
            },
            "type": "scatterpolargl"
           }
          ],
          "scatterternary": [
           {
            "marker": {
             "colorbar": {
              "outlinewidth": 0,
              "ticks": ""
             }
            },
            "type": "scatterternary"
           }
          ],
          "surface": [
           {
            "colorbar": {
             "outlinewidth": 0,
             "ticks": ""
            },
            "colorscale": [
             [
              0,
              "#0d0887"
             ],
             [
              0.1111111111111111,
              "#46039f"
             ],
             [
              0.2222222222222222,
              "#7201a8"
             ],
             [
              0.3333333333333333,
              "#9c179e"
             ],
             [
              0.4444444444444444,
              "#bd3786"
             ],
             [
              0.5555555555555556,
              "#d8576b"
             ],
             [
              0.6666666666666666,
              "#ed7953"
             ],
             [
              0.7777777777777778,
              "#fb9f3a"
             ],
             [
              0.8888888888888888,
              "#fdca26"
             ],
             [
              1,
              "#f0f921"
             ]
            ],
            "type": "surface"
           }
          ],
          "table": [
           {
            "cells": {
             "fill": {
              "color": "#EBF0F8"
             },
             "line": {
              "color": "white"
             }
            },
            "header": {
             "fill": {
              "color": "#C8D4E3"
             },
             "line": {
              "color": "white"
             }
            },
            "type": "table"
           }
          ]
         },
         "layout": {
          "annotationdefaults": {
           "arrowcolor": "#2a3f5f",
           "arrowhead": 0,
           "arrowwidth": 1
          },
          "autotypenumbers": "strict",
          "coloraxis": {
           "colorbar": {
            "outlinewidth": 0,
            "ticks": ""
           }
          },
          "colorscale": {
           "diverging": [
            [
             0,
             "#8e0152"
            ],
            [
             0.1,
             "#c51b7d"
            ],
            [
             0.2,
             "#de77ae"
            ],
            [
             0.3,
             "#f1b6da"
            ],
            [
             0.4,
             "#fde0ef"
            ],
            [
             0.5,
             "#f7f7f7"
            ],
            [
             0.6,
             "#e6f5d0"
            ],
            [
             0.7,
             "#b8e186"
            ],
            [
             0.8,
             "#7fbc41"
            ],
            [
             0.9,
             "#4d9221"
            ],
            [
             1,
             "#276419"
            ]
           ],
           "sequential": [
            [
             0,
             "#0d0887"
            ],
            [
             0.1111111111111111,
             "#46039f"
            ],
            [
             0.2222222222222222,
             "#7201a8"
            ],
            [
             0.3333333333333333,
             "#9c179e"
            ],
            [
             0.4444444444444444,
             "#bd3786"
            ],
            [
             0.5555555555555556,
             "#d8576b"
            ],
            [
             0.6666666666666666,
             "#ed7953"
            ],
            [
             0.7777777777777778,
             "#fb9f3a"
            ],
            [
             0.8888888888888888,
             "#fdca26"
            ],
            [
             1,
             "#f0f921"
            ]
           ],
           "sequentialminus": [
            [
             0,
             "#0d0887"
            ],
            [
             0.1111111111111111,
             "#46039f"
            ],
            [
             0.2222222222222222,
             "#7201a8"
            ],
            [
             0.3333333333333333,
             "#9c179e"
            ],
            [
             0.4444444444444444,
             "#bd3786"
            ],
            [
             0.5555555555555556,
             "#d8576b"
            ],
            [
             0.6666666666666666,
             "#ed7953"
            ],
            [
             0.7777777777777778,
             "#fb9f3a"
            ],
            [
             0.8888888888888888,
             "#fdca26"
            ],
            [
             1,
             "#f0f921"
            ]
           ]
          },
          "colorway": [
           "#636efa",
           "#EF553B",
           "#00cc96",
           "#ab63fa",
           "#FFA15A",
           "#19d3f3",
           "#FF6692",
           "#B6E880",
           "#FF97FF",
           "#FECB52"
          ],
          "font": {
           "color": "#2a3f5f"
          },
          "geo": {
           "bgcolor": "white",
           "lakecolor": "white",
           "landcolor": "#E5ECF6",
           "showlakes": true,
           "showland": true,
           "subunitcolor": "white"
          },
          "hoverlabel": {
           "align": "left"
          },
          "hovermode": "closest",
          "mapbox": {
           "style": "light"
          },
          "paper_bgcolor": "white",
          "plot_bgcolor": "#E5ECF6",
          "polar": {
           "angularaxis": {
            "gridcolor": "white",
            "linecolor": "white",
            "ticks": ""
           },
           "bgcolor": "#E5ECF6",
           "radialaxis": {
            "gridcolor": "white",
            "linecolor": "white",
            "ticks": ""
           }
          },
          "scene": {
           "xaxis": {
            "backgroundcolor": "#E5ECF6",
            "gridcolor": "white",
            "gridwidth": 2,
            "linecolor": "white",
            "showbackground": true,
            "ticks": "",
            "zerolinecolor": "white"
           },
           "yaxis": {
            "backgroundcolor": "#E5ECF6",
            "gridcolor": "white",
            "gridwidth": 2,
            "linecolor": "white",
            "showbackground": true,
            "ticks": "",
            "zerolinecolor": "white"
           },
           "zaxis": {
            "backgroundcolor": "#E5ECF6",
            "gridcolor": "white",
            "gridwidth": 2,
            "linecolor": "white",
            "showbackground": true,
            "ticks": "",
            "zerolinecolor": "white"
           }
          },
          "shapedefaults": {
           "line": {
            "color": "#2a3f5f"
           }
          },
          "ternary": {
           "aaxis": {
            "gridcolor": "white",
            "linecolor": "white",
            "ticks": ""
           },
           "baxis": {
            "gridcolor": "white",
            "linecolor": "white",
            "ticks": ""
           },
           "bgcolor": "#E5ECF6",
           "caxis": {
            "gridcolor": "white",
            "linecolor": "white",
            "ticks": ""
           }
          },
          "title": {
           "x": 0.05
          },
          "xaxis": {
           "automargin": true,
           "gridcolor": "white",
           "linecolor": "white",
           "ticks": "",
           "title": {
            "standoff": 15
           },
           "zerolinecolor": "white",
           "zerolinewidth": 2
          },
          "yaxis": {
           "automargin": true,
           "gridcolor": "white",
           "linecolor": "white",
           "ticks": "",
           "title": {
            "standoff": 15
           },
           "zerolinecolor": "white",
           "zerolinewidth": 2
          }
         }
        },
        "width": 1000,
        "xaxis": {
         "anchor": "y",
         "domain": [
          0,
          1
         ],
         "title": {
          "text": "Openings"
         }
        },
        "yaxis": {
         "anchor": "x",
         "domain": [
          0,
          1
         ],
         "title": {
          "text": "Won"
         }
        }
       }
      },
      "text/html": [
       "<div>                            <div id=\"f8da3e4b-36e3-43c4-bf85-a8566817efc5\" class=\"plotly-graph-div\" style=\"height:1000px; width:1000px;\"></div>            <script type=\"text/javascript\">                require([\"plotly\"], function(Plotly) {                    window.PLOTLYENV=window.PLOTLYENV || {};                                    if (document.getElementById(\"f8da3e4b-36e3-43c4-bf85-a8566817efc5\")) {                    Plotly.newPlot(                        \"f8da3e4b-36e3-43c4-bf85-a8566817efc5\",                        [{\"alignmentgroup\":\"True\",\"hovertemplate\":\"Openings=%{x}\\u003cbr\\u003eWon=%{y}\\u003cextra\\u003e\\u003c\\u002fextra\\u003e\",\"legendgroup\":\"\",\"marker\":{\"color\":\"#636efa\",\"pattern\":{\"shape\":\"\"}},\"name\":\"\",\"offsetgroup\":\"\",\"orientation\":\"v\",\"showlegend\":false,\"textposition\":\"auto\",\"x\":[\"Queen's pawn game\",\"Sicillian Defense\",\"Queen's Pawn' Opening\",\"Queen's Gambit Accepted or Declined\",\"Caro-Kann Defense\",\"Polish(Sokolsky) Opening\",\"Old Benoni Defense\",\"Scandinavian Defense\",\"King's Pawn Opening\",\"Centre game\",\"Robatsch (modern) defence\",\"King's Indian Defense\",\"King's pawn opening\",\"Reti Opening\",\"Nimzovich-Larsen attack\",\"King's Knight Opening\",\"English Opening\",\"Bird's Opening\",\"Dutch\",\"Mixed of opening I usually not played Or Missing data\",\"French Defense\",\"Old Indian Defense\",\"Pirc defence\",\"Nimzo-Indian Defense\",\"Vienna game\",\"Scotch Opening\",\"Bishop's opening\",\"Petrov's Defense\",\"Alekhine's defence\",\"King's Gambit\",\"Two Knights Defence\",\"Gruenfeld Defense\",\"Philidor's Defense\",\"Ruy Lopez (Spanish Opening)\",\"Benoni Defense\",\"Queen's Indian defence\",\"Three Knights Game\",\"Budapest Defense\",\"Four Knights, Scotch Variation\",\"Modern defence, Averbakh system\",\"King's Indian, East Indian Defense\",\"Neo-Gruenfeld defence\"],\"xaxis\":\"x\",\"y\":[672,565,518,404,227,158,104,65,56,48,45,35,34,30,24,23,21,19,18,18,17,13,12,11,8,7,5,5,5,4,4,3,3,3,2,2,2,2,1,1,1,1],\"yaxis\":\"y\",\"type\":\"bar\"}],                        {\"template\":{\"data\":{\"histogram2dcontour\":[{\"type\":\"histogram2dcontour\",\"colorbar\":{\"outlinewidth\":0,\"ticks\":\"\"},\"colorscale\":[[0.0,\"#0d0887\"],[0.1111111111111111,\"#46039f\"],[0.2222222222222222,\"#7201a8\"],[0.3333333333333333,\"#9c179e\"],[0.4444444444444444,\"#bd3786\"],[0.5555555555555556,\"#d8576b\"],[0.6666666666666666,\"#ed7953\"],[0.7777777777777778,\"#fb9f3a\"],[0.8888888888888888,\"#fdca26\"],[1.0,\"#f0f921\"]]}],\"choropleth\":[{\"type\":\"choropleth\",\"colorbar\":{\"outlinewidth\":0,\"ticks\":\"\"}}],\"histogram2d\":[{\"type\":\"histogram2d\",\"colorbar\":{\"outlinewidth\":0,\"ticks\":\"\"},\"colorscale\":[[0.0,\"#0d0887\"],[0.1111111111111111,\"#46039f\"],[0.2222222222222222,\"#7201a8\"],[0.3333333333333333,\"#9c179e\"],[0.4444444444444444,\"#bd3786\"],[0.5555555555555556,\"#d8576b\"],[0.6666666666666666,\"#ed7953\"],[0.7777777777777778,\"#fb9f3a\"],[0.8888888888888888,\"#fdca26\"],[1.0,\"#f0f921\"]]}],\"heatmap\":[{\"type\":\"heatmap\",\"colorbar\":{\"outlinewidth\":0,\"ticks\":\"\"},\"colorscale\":[[0.0,\"#0d0887\"],[0.1111111111111111,\"#46039f\"],[0.2222222222222222,\"#7201a8\"],[0.3333333333333333,\"#9c179e\"],[0.4444444444444444,\"#bd3786\"],[0.5555555555555556,\"#d8576b\"],[0.6666666666666666,\"#ed7953\"],[0.7777777777777778,\"#fb9f3a\"],[0.8888888888888888,\"#fdca26\"],[1.0,\"#f0f921\"]]}],\"heatmapgl\":[{\"type\":\"heatmapgl\",\"colorbar\":{\"outlinewidth\":0,\"ticks\":\"\"},\"colorscale\":[[0.0,\"#0d0887\"],[0.1111111111111111,\"#46039f\"],[0.2222222222222222,\"#7201a8\"],[0.3333333333333333,\"#9c179e\"],[0.4444444444444444,\"#bd3786\"],[0.5555555555555556,\"#d8576b\"],[0.6666666666666666,\"#ed7953\"],[0.7777777777777778,\"#fb9f3a\"],[0.8888888888888888,\"#fdca26\"],[1.0,\"#f0f921\"]]}],\"contourcarpet\":[{\"type\":\"contourcarpet\",\"colorbar\":{\"outlinewidth\":0,\"ticks\":\"\"}}],\"contour\":[{\"type\":\"contour\",\"colorbar\":{\"outlinewidth\":0,\"ticks\":\"\"},\"colorscale\":[[0.0,\"#0d0887\"],[0.1111111111111111,\"#46039f\"],[0.2222222222222222,\"#7201a8\"],[0.3333333333333333,\"#9c179e\"],[0.4444444444444444,\"#bd3786\"],[0.5555555555555556,\"#d8576b\"],[0.6666666666666666,\"#ed7953\"],[0.7777777777777778,\"#fb9f3a\"],[0.8888888888888888,\"#fdca26\"],[1.0,\"#f0f921\"]]}],\"surface\":[{\"type\":\"surface\",\"colorbar\":{\"outlinewidth\":0,\"ticks\":\"\"},\"colorscale\":[[0.0,\"#0d0887\"],[0.1111111111111111,\"#46039f\"],[0.2222222222222222,\"#7201a8\"],[0.3333333333333333,\"#9c179e\"],[0.4444444444444444,\"#bd3786\"],[0.5555555555555556,\"#d8576b\"],[0.6666666666666666,\"#ed7953\"],[0.7777777777777778,\"#fb9f3a\"],[0.8888888888888888,\"#fdca26\"],[1.0,\"#f0f921\"]]}],\"mesh3d\":[{\"type\":\"mesh3d\",\"colorbar\":{\"outlinewidth\":0,\"ticks\":\"\"}}],\"scatter\":[{\"fillpattern\":{\"fillmode\":\"overlay\",\"size\":10,\"solidity\":0.2},\"type\":\"scatter\"}],\"parcoords\":[{\"type\":\"parcoords\",\"line\":{\"colorbar\":{\"outlinewidth\":0,\"ticks\":\"\"}}}],\"scatterpolargl\":[{\"type\":\"scatterpolargl\",\"marker\":{\"colorbar\":{\"outlinewidth\":0,\"ticks\":\"\"}}}],\"bar\":[{\"error_x\":{\"color\":\"#2a3f5f\"},\"error_y\":{\"color\":\"#2a3f5f\"},\"marker\":{\"line\":{\"color\":\"#E5ECF6\",\"width\":0.5},\"pattern\":{\"fillmode\":\"overlay\",\"size\":10,\"solidity\":0.2}},\"type\":\"bar\"}],\"scattergeo\":[{\"type\":\"scattergeo\",\"marker\":{\"colorbar\":{\"outlinewidth\":0,\"ticks\":\"\"}}}],\"scatterpolar\":[{\"type\":\"scatterpolar\",\"marker\":{\"colorbar\":{\"outlinewidth\":0,\"ticks\":\"\"}}}],\"histogram\":[{\"marker\":{\"pattern\":{\"fillmode\":\"overlay\",\"size\":10,\"solidity\":0.2}},\"type\":\"histogram\"}],\"scattergl\":[{\"type\":\"scattergl\",\"marker\":{\"colorbar\":{\"outlinewidth\":0,\"ticks\":\"\"}}}],\"scatter3d\":[{\"type\":\"scatter3d\",\"line\":{\"colorbar\":{\"outlinewidth\":0,\"ticks\":\"\"}},\"marker\":{\"colorbar\":{\"outlinewidth\":0,\"ticks\":\"\"}}}],\"scattermapbox\":[{\"type\":\"scattermapbox\",\"marker\":{\"colorbar\":{\"outlinewidth\":0,\"ticks\":\"\"}}}],\"scatterternary\":[{\"type\":\"scatterternary\",\"marker\":{\"colorbar\":{\"outlinewidth\":0,\"ticks\":\"\"}}}],\"scattercarpet\":[{\"type\":\"scattercarpet\",\"marker\":{\"colorbar\":{\"outlinewidth\":0,\"ticks\":\"\"}}}],\"carpet\":[{\"aaxis\":{\"endlinecolor\":\"#2a3f5f\",\"gridcolor\":\"white\",\"linecolor\":\"white\",\"minorgridcolor\":\"white\",\"startlinecolor\":\"#2a3f5f\"},\"baxis\":{\"endlinecolor\":\"#2a3f5f\",\"gridcolor\":\"white\",\"linecolor\":\"white\",\"minorgridcolor\":\"white\",\"startlinecolor\":\"#2a3f5f\"},\"type\":\"carpet\"}],\"table\":[{\"cells\":{\"fill\":{\"color\":\"#EBF0F8\"},\"line\":{\"color\":\"white\"}},\"header\":{\"fill\":{\"color\":\"#C8D4E3\"},\"line\":{\"color\":\"white\"}},\"type\":\"table\"}],\"barpolar\":[{\"marker\":{\"line\":{\"color\":\"#E5ECF6\",\"width\":0.5},\"pattern\":{\"fillmode\":\"overlay\",\"size\":10,\"solidity\":0.2}},\"type\":\"barpolar\"}],\"pie\":[{\"automargin\":true,\"type\":\"pie\"}]},\"layout\":{\"autotypenumbers\":\"strict\",\"colorway\":[\"#636efa\",\"#EF553B\",\"#00cc96\",\"#ab63fa\",\"#FFA15A\",\"#19d3f3\",\"#FF6692\",\"#B6E880\",\"#FF97FF\",\"#FECB52\"],\"font\":{\"color\":\"#2a3f5f\"},\"hovermode\":\"closest\",\"hoverlabel\":{\"align\":\"left\"},\"paper_bgcolor\":\"white\",\"plot_bgcolor\":\"#E5ECF6\",\"polar\":{\"bgcolor\":\"#E5ECF6\",\"angularaxis\":{\"gridcolor\":\"white\",\"linecolor\":\"white\",\"ticks\":\"\"},\"radialaxis\":{\"gridcolor\":\"white\",\"linecolor\":\"white\",\"ticks\":\"\"}},\"ternary\":{\"bgcolor\":\"#E5ECF6\",\"aaxis\":{\"gridcolor\":\"white\",\"linecolor\":\"white\",\"ticks\":\"\"},\"baxis\":{\"gridcolor\":\"white\",\"linecolor\":\"white\",\"ticks\":\"\"},\"caxis\":{\"gridcolor\":\"white\",\"linecolor\":\"white\",\"ticks\":\"\"}},\"coloraxis\":{\"colorbar\":{\"outlinewidth\":0,\"ticks\":\"\"}},\"colorscale\":{\"sequential\":[[0.0,\"#0d0887\"],[0.1111111111111111,\"#46039f\"],[0.2222222222222222,\"#7201a8\"],[0.3333333333333333,\"#9c179e\"],[0.4444444444444444,\"#bd3786\"],[0.5555555555555556,\"#d8576b\"],[0.6666666666666666,\"#ed7953\"],[0.7777777777777778,\"#fb9f3a\"],[0.8888888888888888,\"#fdca26\"],[1.0,\"#f0f921\"]],\"sequentialminus\":[[0.0,\"#0d0887\"],[0.1111111111111111,\"#46039f\"],[0.2222222222222222,\"#7201a8\"],[0.3333333333333333,\"#9c179e\"],[0.4444444444444444,\"#bd3786\"],[0.5555555555555556,\"#d8576b\"],[0.6666666666666666,\"#ed7953\"],[0.7777777777777778,\"#fb9f3a\"],[0.8888888888888888,\"#fdca26\"],[1.0,\"#f0f921\"]],\"diverging\":[[0,\"#8e0152\"],[0.1,\"#c51b7d\"],[0.2,\"#de77ae\"],[0.3,\"#f1b6da\"],[0.4,\"#fde0ef\"],[0.5,\"#f7f7f7\"],[0.6,\"#e6f5d0\"],[0.7,\"#b8e186\"],[0.8,\"#7fbc41\"],[0.9,\"#4d9221\"],[1,\"#276419\"]]},\"xaxis\":{\"gridcolor\":\"white\",\"linecolor\":\"white\",\"ticks\":\"\",\"title\":{\"standoff\":15},\"zerolinecolor\":\"white\",\"automargin\":true,\"zerolinewidth\":2},\"yaxis\":{\"gridcolor\":\"white\",\"linecolor\":\"white\",\"ticks\":\"\",\"title\":{\"standoff\":15},\"zerolinecolor\":\"white\",\"automargin\":true,\"zerolinewidth\":2},\"scene\":{\"xaxis\":{\"backgroundcolor\":\"#E5ECF6\",\"gridcolor\":\"white\",\"linecolor\":\"white\",\"showbackground\":true,\"ticks\":\"\",\"zerolinecolor\":\"white\",\"gridwidth\":2},\"yaxis\":{\"backgroundcolor\":\"#E5ECF6\",\"gridcolor\":\"white\",\"linecolor\":\"white\",\"showbackground\":true,\"ticks\":\"\",\"zerolinecolor\":\"white\",\"gridwidth\":2},\"zaxis\":{\"backgroundcolor\":\"#E5ECF6\",\"gridcolor\":\"white\",\"linecolor\":\"white\",\"showbackground\":true,\"ticks\":\"\",\"zerolinecolor\":\"white\",\"gridwidth\":2}},\"shapedefaults\":{\"line\":{\"color\":\"#2a3f5f\"}},\"annotationdefaults\":{\"arrowcolor\":\"#2a3f5f\",\"arrowhead\":0,\"arrowwidth\":1},\"geo\":{\"bgcolor\":\"white\",\"landcolor\":\"#E5ECF6\",\"subunitcolor\":\"white\",\"showland\":true,\"showlakes\":true,\"lakecolor\":\"white\"},\"title\":{\"x\":0.05},\"mapbox\":{\"style\":\"light\"}}},\"xaxis\":{\"anchor\":\"y\",\"domain\":[0.0,1.0],\"title\":{\"text\":\"Openings\"}},\"yaxis\":{\"anchor\":\"x\",\"domain\":[0.0,1.0],\"title\":{\"text\":\"Won\"}},\"legend\":{\"tracegroupgap\":0},\"margin\":{\"t\":60},\"barmode\":\"relative\",\"width\":1000,\"height\":1000},                        {\"responsive\": true}                    ).then(function(){\n",
       "                            \n",
       "var gd = document.getElementById('f8da3e4b-36e3-43c4-bf85-a8566817efc5');\n",
       "var x = new MutationObserver(function (mutations, observer) {{\n",
       "        var display = window.getComputedStyle(gd).display;\n",
       "        if (!display || display === 'none') {{\n",
       "            console.log([gd, 'removed!']);\n",
       "            Plotly.purge(gd);\n",
       "            observer.disconnect();\n",
       "        }}\n",
       "}});\n",
       "\n",
       "// Listen for the removal of the full notebook cells\n",
       "var notebookContainer = gd.closest('#notebook-container');\n",
       "if (notebookContainer) {{\n",
       "    x.observe(notebookContainer, {childList: true});\n",
       "}}\n",
       "\n",
       "// Listen for the clearing of the current output cell\n",
       "var outputEl = gd.closest('.output');\n",
       "if (outputEl) {{\n",
       "    x.observe(outputEl, {childList: true});\n",
       "}}\n",
       "\n",
       "                        })                };                });            </script>        </div>"
      ]
     },
     "metadata": {},
     "output_type": "display_data"
    }
   ],
   "source": [
    "won_openings = won_openings.reset_index()\n",
    "won_openings.columns = ['Openings', 'Won']\n",
    "fig = px.bar(won_openings, x='Openings', y='Won')\n",
    "fig.update_layout(width=1000, height=1000)\n",
    "fig.show()"
   ]
  },
  {
   "cell_type": "code",
   "execution_count": 110,
   "id": "f724d524",
   "metadata": {
    "scrolled": false
   },
   "outputs": [
    {
     "data": {
      "application/vnd.plotly.v1+json": {
       "config": {
        "plotlyServerURL": "https://plot.ly"
       },
       "data": [
        {
         "alignmentgroup": "True",
         "hovertemplate": "Openings=%{x}<br>Lost=%{y}<extra></extra>",
         "legendgroup": "",
         "marker": {
          "color": "#636efa",
          "pattern": {
           "shape": ""
          }
         },
         "name": "",
         "offsetgroup": "",
         "orientation": "v",
         "showlegend": false,
         "textposition": "auto",
         "type": "bar",
         "x": [
          "Queen's pawn game",
          "Sicillian Defense",
          "Queen's Pawn' Opening",
          "Queen's Gambit Accepted or Declined",
          "Caro-Kann Defense",
          "Polish(Sokolsky) Opening",
          "Old Benoni Defense",
          "Centre game",
          "Scandinavian Defense",
          "Robatsch (modern) defence",
          "King's Pawn Opening",
          "King's Indian Defense",
          "King's pawn opening",
          "French Defense",
          "Reti Opening",
          "King's Knight Opening",
          "Mixed of opening I usually not played Or Missing data",
          "English Opening",
          "Nimzovich-Larsen attack",
          "Nimzo-Indian Defense",
          "Bishop's opening",
          "Dutch",
          "Pirc defence",
          "Bird's Opening",
          "Old Indian Defense",
          "Scotch Opening",
          "Budapest Defense",
          "Petrov's Defense",
          "King's Indian, East Indian Defense",
          "Four Knights, Scotch Variation",
          "Ruy Lopez (Spanish Opening)",
          "Gruenfeld Defense",
          "Alekhine's defence",
          "Italian Game",
          "Philidor's Defense",
          "Two Knights Defence",
          "King's Gambit",
          "Vienna game",
          "Three Knights Game",
          "Richter-Veresov attack"
         ],
         "xaxis": "x",
         "y": [
          616,
          529,
          460,
          349,
          221,
          140,
          88,
          65,
          61,
          54,
          53,
          36,
          28,
          23,
          23,
          21,
          21,
          21,
          20,
          16,
          14,
          13,
          13,
          13,
          13,
          9,
          8,
          8,
          7,
          6,
          6,
          5,
          5,
          4,
          4,
          3,
          3,
          3,
          1,
          1
         ],
         "yaxis": "y"
        }
       ],
       "layout": {
        "barmode": "relative",
        "height": 1000,
        "legend": {
         "tracegroupgap": 0
        },
        "margin": {
         "t": 60
        },
        "template": {
         "data": {
          "bar": [
           {
            "error_x": {
             "color": "#2a3f5f"
            },
            "error_y": {
             "color": "#2a3f5f"
            },
            "marker": {
             "line": {
              "color": "#E5ECF6",
              "width": 0.5
             },
             "pattern": {
              "fillmode": "overlay",
              "size": 10,
              "solidity": 0.2
             }
            },
            "type": "bar"
           }
          ],
          "barpolar": [
           {
            "marker": {
             "line": {
              "color": "#E5ECF6",
              "width": 0.5
             },
             "pattern": {
              "fillmode": "overlay",
              "size": 10,
              "solidity": 0.2
             }
            },
            "type": "barpolar"
           }
          ],
          "carpet": [
           {
            "aaxis": {
             "endlinecolor": "#2a3f5f",
             "gridcolor": "white",
             "linecolor": "white",
             "minorgridcolor": "white",
             "startlinecolor": "#2a3f5f"
            },
            "baxis": {
             "endlinecolor": "#2a3f5f",
             "gridcolor": "white",
             "linecolor": "white",
             "minorgridcolor": "white",
             "startlinecolor": "#2a3f5f"
            },
            "type": "carpet"
           }
          ],
          "choropleth": [
           {
            "colorbar": {
             "outlinewidth": 0,
             "ticks": ""
            },
            "type": "choropleth"
           }
          ],
          "contour": [
           {
            "colorbar": {
             "outlinewidth": 0,
             "ticks": ""
            },
            "colorscale": [
             [
              0,
              "#0d0887"
             ],
             [
              0.1111111111111111,
              "#46039f"
             ],
             [
              0.2222222222222222,
              "#7201a8"
             ],
             [
              0.3333333333333333,
              "#9c179e"
             ],
             [
              0.4444444444444444,
              "#bd3786"
             ],
             [
              0.5555555555555556,
              "#d8576b"
             ],
             [
              0.6666666666666666,
              "#ed7953"
             ],
             [
              0.7777777777777778,
              "#fb9f3a"
             ],
             [
              0.8888888888888888,
              "#fdca26"
             ],
             [
              1,
              "#f0f921"
             ]
            ],
            "type": "contour"
           }
          ],
          "contourcarpet": [
           {
            "colorbar": {
             "outlinewidth": 0,
             "ticks": ""
            },
            "type": "contourcarpet"
           }
          ],
          "heatmap": [
           {
            "colorbar": {
             "outlinewidth": 0,
             "ticks": ""
            },
            "colorscale": [
             [
              0,
              "#0d0887"
             ],
             [
              0.1111111111111111,
              "#46039f"
             ],
             [
              0.2222222222222222,
              "#7201a8"
             ],
             [
              0.3333333333333333,
              "#9c179e"
             ],
             [
              0.4444444444444444,
              "#bd3786"
             ],
             [
              0.5555555555555556,
              "#d8576b"
             ],
             [
              0.6666666666666666,
              "#ed7953"
             ],
             [
              0.7777777777777778,
              "#fb9f3a"
             ],
             [
              0.8888888888888888,
              "#fdca26"
             ],
             [
              1,
              "#f0f921"
             ]
            ],
            "type": "heatmap"
           }
          ],
          "heatmapgl": [
           {
            "colorbar": {
             "outlinewidth": 0,
             "ticks": ""
            },
            "colorscale": [
             [
              0,
              "#0d0887"
             ],
             [
              0.1111111111111111,
              "#46039f"
             ],
             [
              0.2222222222222222,
              "#7201a8"
             ],
             [
              0.3333333333333333,
              "#9c179e"
             ],
             [
              0.4444444444444444,
              "#bd3786"
             ],
             [
              0.5555555555555556,
              "#d8576b"
             ],
             [
              0.6666666666666666,
              "#ed7953"
             ],
             [
              0.7777777777777778,
              "#fb9f3a"
             ],
             [
              0.8888888888888888,
              "#fdca26"
             ],
             [
              1,
              "#f0f921"
             ]
            ],
            "type": "heatmapgl"
           }
          ],
          "histogram": [
           {
            "marker": {
             "pattern": {
              "fillmode": "overlay",
              "size": 10,
              "solidity": 0.2
             }
            },
            "type": "histogram"
           }
          ],
          "histogram2d": [
           {
            "colorbar": {
             "outlinewidth": 0,
             "ticks": ""
            },
            "colorscale": [
             [
              0,
              "#0d0887"
             ],
             [
              0.1111111111111111,
              "#46039f"
             ],
             [
              0.2222222222222222,
              "#7201a8"
             ],
             [
              0.3333333333333333,
              "#9c179e"
             ],
             [
              0.4444444444444444,
              "#bd3786"
             ],
             [
              0.5555555555555556,
              "#d8576b"
             ],
             [
              0.6666666666666666,
              "#ed7953"
             ],
             [
              0.7777777777777778,
              "#fb9f3a"
             ],
             [
              0.8888888888888888,
              "#fdca26"
             ],
             [
              1,
              "#f0f921"
             ]
            ],
            "type": "histogram2d"
           }
          ],
          "histogram2dcontour": [
           {
            "colorbar": {
             "outlinewidth": 0,
             "ticks": ""
            },
            "colorscale": [
             [
              0,
              "#0d0887"
             ],
             [
              0.1111111111111111,
              "#46039f"
             ],
             [
              0.2222222222222222,
              "#7201a8"
             ],
             [
              0.3333333333333333,
              "#9c179e"
             ],
             [
              0.4444444444444444,
              "#bd3786"
             ],
             [
              0.5555555555555556,
              "#d8576b"
             ],
             [
              0.6666666666666666,
              "#ed7953"
             ],
             [
              0.7777777777777778,
              "#fb9f3a"
             ],
             [
              0.8888888888888888,
              "#fdca26"
             ],
             [
              1,
              "#f0f921"
             ]
            ],
            "type": "histogram2dcontour"
           }
          ],
          "mesh3d": [
           {
            "colorbar": {
             "outlinewidth": 0,
             "ticks": ""
            },
            "type": "mesh3d"
           }
          ],
          "parcoords": [
           {
            "line": {
             "colorbar": {
              "outlinewidth": 0,
              "ticks": ""
             }
            },
            "type": "parcoords"
           }
          ],
          "pie": [
           {
            "automargin": true,
            "type": "pie"
           }
          ],
          "scatter": [
           {
            "fillpattern": {
             "fillmode": "overlay",
             "size": 10,
             "solidity": 0.2
            },
            "type": "scatter"
           }
          ],
          "scatter3d": [
           {
            "line": {
             "colorbar": {
              "outlinewidth": 0,
              "ticks": ""
             }
            },
            "marker": {
             "colorbar": {
              "outlinewidth": 0,
              "ticks": ""
             }
            },
            "type": "scatter3d"
           }
          ],
          "scattercarpet": [
           {
            "marker": {
             "colorbar": {
              "outlinewidth": 0,
              "ticks": ""
             }
            },
            "type": "scattercarpet"
           }
          ],
          "scattergeo": [
           {
            "marker": {
             "colorbar": {
              "outlinewidth": 0,
              "ticks": ""
             }
            },
            "type": "scattergeo"
           }
          ],
          "scattergl": [
           {
            "marker": {
             "colorbar": {
              "outlinewidth": 0,
              "ticks": ""
             }
            },
            "type": "scattergl"
           }
          ],
          "scattermapbox": [
           {
            "marker": {
             "colorbar": {
              "outlinewidth": 0,
              "ticks": ""
             }
            },
            "type": "scattermapbox"
           }
          ],
          "scatterpolar": [
           {
            "marker": {
             "colorbar": {
              "outlinewidth": 0,
              "ticks": ""
             }
            },
            "type": "scatterpolar"
           }
          ],
          "scatterpolargl": [
           {
            "marker": {
             "colorbar": {
              "outlinewidth": 0,
              "ticks": ""
             }
            },
            "type": "scatterpolargl"
           }
          ],
          "scatterternary": [
           {
            "marker": {
             "colorbar": {
              "outlinewidth": 0,
              "ticks": ""
             }
            },
            "type": "scatterternary"
           }
          ],
          "surface": [
           {
            "colorbar": {
             "outlinewidth": 0,
             "ticks": ""
            },
            "colorscale": [
             [
              0,
              "#0d0887"
             ],
             [
              0.1111111111111111,
              "#46039f"
             ],
             [
              0.2222222222222222,
              "#7201a8"
             ],
             [
              0.3333333333333333,
              "#9c179e"
             ],
             [
              0.4444444444444444,
              "#bd3786"
             ],
             [
              0.5555555555555556,
              "#d8576b"
             ],
             [
              0.6666666666666666,
              "#ed7953"
             ],
             [
              0.7777777777777778,
              "#fb9f3a"
             ],
             [
              0.8888888888888888,
              "#fdca26"
             ],
             [
              1,
              "#f0f921"
             ]
            ],
            "type": "surface"
           }
          ],
          "table": [
           {
            "cells": {
             "fill": {
              "color": "#EBF0F8"
             },
             "line": {
              "color": "white"
             }
            },
            "header": {
             "fill": {
              "color": "#C8D4E3"
             },
             "line": {
              "color": "white"
             }
            },
            "type": "table"
           }
          ]
         },
         "layout": {
          "annotationdefaults": {
           "arrowcolor": "#2a3f5f",
           "arrowhead": 0,
           "arrowwidth": 1
          },
          "autotypenumbers": "strict",
          "coloraxis": {
           "colorbar": {
            "outlinewidth": 0,
            "ticks": ""
           }
          },
          "colorscale": {
           "diverging": [
            [
             0,
             "#8e0152"
            ],
            [
             0.1,
             "#c51b7d"
            ],
            [
             0.2,
             "#de77ae"
            ],
            [
             0.3,
             "#f1b6da"
            ],
            [
             0.4,
             "#fde0ef"
            ],
            [
             0.5,
             "#f7f7f7"
            ],
            [
             0.6,
             "#e6f5d0"
            ],
            [
             0.7,
             "#b8e186"
            ],
            [
             0.8,
             "#7fbc41"
            ],
            [
             0.9,
             "#4d9221"
            ],
            [
             1,
             "#276419"
            ]
           ],
           "sequential": [
            [
             0,
             "#0d0887"
            ],
            [
             0.1111111111111111,
             "#46039f"
            ],
            [
             0.2222222222222222,
             "#7201a8"
            ],
            [
             0.3333333333333333,
             "#9c179e"
            ],
            [
             0.4444444444444444,
             "#bd3786"
            ],
            [
             0.5555555555555556,
             "#d8576b"
            ],
            [
             0.6666666666666666,
             "#ed7953"
            ],
            [
             0.7777777777777778,
             "#fb9f3a"
            ],
            [
             0.8888888888888888,
             "#fdca26"
            ],
            [
             1,
             "#f0f921"
            ]
           ],
           "sequentialminus": [
            [
             0,
             "#0d0887"
            ],
            [
             0.1111111111111111,
             "#46039f"
            ],
            [
             0.2222222222222222,
             "#7201a8"
            ],
            [
             0.3333333333333333,
             "#9c179e"
            ],
            [
             0.4444444444444444,
             "#bd3786"
            ],
            [
             0.5555555555555556,
             "#d8576b"
            ],
            [
             0.6666666666666666,
             "#ed7953"
            ],
            [
             0.7777777777777778,
             "#fb9f3a"
            ],
            [
             0.8888888888888888,
             "#fdca26"
            ],
            [
             1,
             "#f0f921"
            ]
           ]
          },
          "colorway": [
           "#636efa",
           "#EF553B",
           "#00cc96",
           "#ab63fa",
           "#FFA15A",
           "#19d3f3",
           "#FF6692",
           "#B6E880",
           "#FF97FF",
           "#FECB52"
          ],
          "font": {
           "color": "#2a3f5f"
          },
          "geo": {
           "bgcolor": "white",
           "lakecolor": "white",
           "landcolor": "#E5ECF6",
           "showlakes": true,
           "showland": true,
           "subunitcolor": "white"
          },
          "hoverlabel": {
           "align": "left"
          },
          "hovermode": "closest",
          "mapbox": {
           "style": "light"
          },
          "paper_bgcolor": "white",
          "plot_bgcolor": "#E5ECF6",
          "polar": {
           "angularaxis": {
            "gridcolor": "white",
            "linecolor": "white",
            "ticks": ""
           },
           "bgcolor": "#E5ECF6",
           "radialaxis": {
            "gridcolor": "white",
            "linecolor": "white",
            "ticks": ""
           }
          },
          "scene": {
           "xaxis": {
            "backgroundcolor": "#E5ECF6",
            "gridcolor": "white",
            "gridwidth": 2,
            "linecolor": "white",
            "showbackground": true,
            "ticks": "",
            "zerolinecolor": "white"
           },
           "yaxis": {
            "backgroundcolor": "#E5ECF6",
            "gridcolor": "white",
            "gridwidth": 2,
            "linecolor": "white",
            "showbackground": true,
            "ticks": "",
            "zerolinecolor": "white"
           },
           "zaxis": {
            "backgroundcolor": "#E5ECF6",
            "gridcolor": "white",
            "gridwidth": 2,
            "linecolor": "white",
            "showbackground": true,
            "ticks": "",
            "zerolinecolor": "white"
           }
          },
          "shapedefaults": {
           "line": {
            "color": "#2a3f5f"
           }
          },
          "ternary": {
           "aaxis": {
            "gridcolor": "white",
            "linecolor": "white",
            "ticks": ""
           },
           "baxis": {
            "gridcolor": "white",
            "linecolor": "white",
            "ticks": ""
           },
           "bgcolor": "#E5ECF6",
           "caxis": {
            "gridcolor": "white",
            "linecolor": "white",
            "ticks": ""
           }
          },
          "title": {
           "x": 0.05
          },
          "xaxis": {
           "automargin": true,
           "gridcolor": "white",
           "linecolor": "white",
           "ticks": "",
           "title": {
            "standoff": 15
           },
           "zerolinecolor": "white",
           "zerolinewidth": 2
          },
          "yaxis": {
           "automargin": true,
           "gridcolor": "white",
           "linecolor": "white",
           "ticks": "",
           "title": {
            "standoff": 15
           },
           "zerolinecolor": "white",
           "zerolinewidth": 2
          }
         }
        },
        "width": 1000,
        "xaxis": {
         "anchor": "y",
         "domain": [
          0,
          1
         ],
         "title": {
          "text": "Openings"
         }
        },
        "yaxis": {
         "anchor": "x",
         "domain": [
          0,
          1
         ],
         "title": {
          "text": "Lost"
         }
        }
       }
      },
      "text/html": [
       "<div>                            <div id=\"473ee8cb-9cae-4d35-b901-5e107efdf6c1\" class=\"plotly-graph-div\" style=\"height:1000px; width:1000px;\"></div>            <script type=\"text/javascript\">                require([\"plotly\"], function(Plotly) {                    window.PLOTLYENV=window.PLOTLYENV || {};                                    if (document.getElementById(\"473ee8cb-9cae-4d35-b901-5e107efdf6c1\")) {                    Plotly.newPlot(                        \"473ee8cb-9cae-4d35-b901-5e107efdf6c1\",                        [{\"alignmentgroup\":\"True\",\"hovertemplate\":\"Openings=%{x}\\u003cbr\\u003eLost=%{y}\\u003cextra\\u003e\\u003c\\u002fextra\\u003e\",\"legendgroup\":\"\",\"marker\":{\"color\":\"#636efa\",\"pattern\":{\"shape\":\"\"}},\"name\":\"\",\"offsetgroup\":\"\",\"orientation\":\"v\",\"showlegend\":false,\"textposition\":\"auto\",\"x\":[\"Queen's pawn game\",\"Sicillian Defense\",\"Queen's Pawn' Opening\",\"Queen's Gambit Accepted or Declined\",\"Caro-Kann Defense\",\"Polish(Sokolsky) Opening\",\"Old Benoni Defense\",\"Centre game\",\"Scandinavian Defense\",\"Robatsch (modern) defence\",\"King's Pawn Opening\",\"King's Indian Defense\",\"King's pawn opening\",\"French Defense\",\"Reti Opening\",\"King's Knight Opening\",\"Mixed of opening I usually not played Or Missing data\",\"English Opening\",\"Nimzovich-Larsen attack\",\"Nimzo-Indian Defense\",\"Bishop's opening\",\"Dutch\",\"Pirc defence\",\"Bird's Opening\",\"Old Indian Defense\",\"Scotch Opening\",\"Budapest Defense\",\"Petrov's Defense\",\"King's Indian, East Indian Defense\",\"Four Knights, Scotch Variation\",\"Ruy Lopez (Spanish Opening)\",\"Gruenfeld Defense\",\"Alekhine's defence\",\"Italian Game\",\"Philidor's Defense\",\"Two Knights Defence\",\"King's Gambit\",\"Vienna game\",\"Three Knights Game\",\"Richter-Veresov attack\"],\"xaxis\":\"x\",\"y\":[616,529,460,349,221,140,88,65,61,54,53,36,28,23,23,21,21,21,20,16,14,13,13,13,13,9,8,8,7,6,6,5,5,4,4,3,3,3,1,1],\"yaxis\":\"y\",\"type\":\"bar\"}],                        {\"template\":{\"data\":{\"histogram2dcontour\":[{\"type\":\"histogram2dcontour\",\"colorbar\":{\"outlinewidth\":0,\"ticks\":\"\"},\"colorscale\":[[0.0,\"#0d0887\"],[0.1111111111111111,\"#46039f\"],[0.2222222222222222,\"#7201a8\"],[0.3333333333333333,\"#9c179e\"],[0.4444444444444444,\"#bd3786\"],[0.5555555555555556,\"#d8576b\"],[0.6666666666666666,\"#ed7953\"],[0.7777777777777778,\"#fb9f3a\"],[0.8888888888888888,\"#fdca26\"],[1.0,\"#f0f921\"]]}],\"choropleth\":[{\"type\":\"choropleth\",\"colorbar\":{\"outlinewidth\":0,\"ticks\":\"\"}}],\"histogram2d\":[{\"type\":\"histogram2d\",\"colorbar\":{\"outlinewidth\":0,\"ticks\":\"\"},\"colorscale\":[[0.0,\"#0d0887\"],[0.1111111111111111,\"#46039f\"],[0.2222222222222222,\"#7201a8\"],[0.3333333333333333,\"#9c179e\"],[0.4444444444444444,\"#bd3786\"],[0.5555555555555556,\"#d8576b\"],[0.6666666666666666,\"#ed7953\"],[0.7777777777777778,\"#fb9f3a\"],[0.8888888888888888,\"#fdca26\"],[1.0,\"#f0f921\"]]}],\"heatmap\":[{\"type\":\"heatmap\",\"colorbar\":{\"outlinewidth\":0,\"ticks\":\"\"},\"colorscale\":[[0.0,\"#0d0887\"],[0.1111111111111111,\"#46039f\"],[0.2222222222222222,\"#7201a8\"],[0.3333333333333333,\"#9c179e\"],[0.4444444444444444,\"#bd3786\"],[0.5555555555555556,\"#d8576b\"],[0.6666666666666666,\"#ed7953\"],[0.7777777777777778,\"#fb9f3a\"],[0.8888888888888888,\"#fdca26\"],[1.0,\"#f0f921\"]]}],\"heatmapgl\":[{\"type\":\"heatmapgl\",\"colorbar\":{\"outlinewidth\":0,\"ticks\":\"\"},\"colorscale\":[[0.0,\"#0d0887\"],[0.1111111111111111,\"#46039f\"],[0.2222222222222222,\"#7201a8\"],[0.3333333333333333,\"#9c179e\"],[0.4444444444444444,\"#bd3786\"],[0.5555555555555556,\"#d8576b\"],[0.6666666666666666,\"#ed7953\"],[0.7777777777777778,\"#fb9f3a\"],[0.8888888888888888,\"#fdca26\"],[1.0,\"#f0f921\"]]}],\"contourcarpet\":[{\"type\":\"contourcarpet\",\"colorbar\":{\"outlinewidth\":0,\"ticks\":\"\"}}],\"contour\":[{\"type\":\"contour\",\"colorbar\":{\"outlinewidth\":0,\"ticks\":\"\"},\"colorscale\":[[0.0,\"#0d0887\"],[0.1111111111111111,\"#46039f\"],[0.2222222222222222,\"#7201a8\"],[0.3333333333333333,\"#9c179e\"],[0.4444444444444444,\"#bd3786\"],[0.5555555555555556,\"#d8576b\"],[0.6666666666666666,\"#ed7953\"],[0.7777777777777778,\"#fb9f3a\"],[0.8888888888888888,\"#fdca26\"],[1.0,\"#f0f921\"]]}],\"surface\":[{\"type\":\"surface\",\"colorbar\":{\"outlinewidth\":0,\"ticks\":\"\"},\"colorscale\":[[0.0,\"#0d0887\"],[0.1111111111111111,\"#46039f\"],[0.2222222222222222,\"#7201a8\"],[0.3333333333333333,\"#9c179e\"],[0.4444444444444444,\"#bd3786\"],[0.5555555555555556,\"#d8576b\"],[0.6666666666666666,\"#ed7953\"],[0.7777777777777778,\"#fb9f3a\"],[0.8888888888888888,\"#fdca26\"],[1.0,\"#f0f921\"]]}],\"mesh3d\":[{\"type\":\"mesh3d\",\"colorbar\":{\"outlinewidth\":0,\"ticks\":\"\"}}],\"scatter\":[{\"fillpattern\":{\"fillmode\":\"overlay\",\"size\":10,\"solidity\":0.2},\"type\":\"scatter\"}],\"parcoords\":[{\"type\":\"parcoords\",\"line\":{\"colorbar\":{\"outlinewidth\":0,\"ticks\":\"\"}}}],\"scatterpolargl\":[{\"type\":\"scatterpolargl\",\"marker\":{\"colorbar\":{\"outlinewidth\":0,\"ticks\":\"\"}}}],\"bar\":[{\"error_x\":{\"color\":\"#2a3f5f\"},\"error_y\":{\"color\":\"#2a3f5f\"},\"marker\":{\"line\":{\"color\":\"#E5ECF6\",\"width\":0.5},\"pattern\":{\"fillmode\":\"overlay\",\"size\":10,\"solidity\":0.2}},\"type\":\"bar\"}],\"scattergeo\":[{\"type\":\"scattergeo\",\"marker\":{\"colorbar\":{\"outlinewidth\":0,\"ticks\":\"\"}}}],\"scatterpolar\":[{\"type\":\"scatterpolar\",\"marker\":{\"colorbar\":{\"outlinewidth\":0,\"ticks\":\"\"}}}],\"histogram\":[{\"marker\":{\"pattern\":{\"fillmode\":\"overlay\",\"size\":10,\"solidity\":0.2}},\"type\":\"histogram\"}],\"scattergl\":[{\"type\":\"scattergl\",\"marker\":{\"colorbar\":{\"outlinewidth\":0,\"ticks\":\"\"}}}],\"scatter3d\":[{\"type\":\"scatter3d\",\"line\":{\"colorbar\":{\"outlinewidth\":0,\"ticks\":\"\"}},\"marker\":{\"colorbar\":{\"outlinewidth\":0,\"ticks\":\"\"}}}],\"scattermapbox\":[{\"type\":\"scattermapbox\",\"marker\":{\"colorbar\":{\"outlinewidth\":0,\"ticks\":\"\"}}}],\"scatterternary\":[{\"type\":\"scatterternary\",\"marker\":{\"colorbar\":{\"outlinewidth\":0,\"ticks\":\"\"}}}],\"scattercarpet\":[{\"type\":\"scattercarpet\",\"marker\":{\"colorbar\":{\"outlinewidth\":0,\"ticks\":\"\"}}}],\"carpet\":[{\"aaxis\":{\"endlinecolor\":\"#2a3f5f\",\"gridcolor\":\"white\",\"linecolor\":\"white\",\"minorgridcolor\":\"white\",\"startlinecolor\":\"#2a3f5f\"},\"baxis\":{\"endlinecolor\":\"#2a3f5f\",\"gridcolor\":\"white\",\"linecolor\":\"white\",\"minorgridcolor\":\"white\",\"startlinecolor\":\"#2a3f5f\"},\"type\":\"carpet\"}],\"table\":[{\"cells\":{\"fill\":{\"color\":\"#EBF0F8\"},\"line\":{\"color\":\"white\"}},\"header\":{\"fill\":{\"color\":\"#C8D4E3\"},\"line\":{\"color\":\"white\"}},\"type\":\"table\"}],\"barpolar\":[{\"marker\":{\"line\":{\"color\":\"#E5ECF6\",\"width\":0.5},\"pattern\":{\"fillmode\":\"overlay\",\"size\":10,\"solidity\":0.2}},\"type\":\"barpolar\"}],\"pie\":[{\"automargin\":true,\"type\":\"pie\"}]},\"layout\":{\"autotypenumbers\":\"strict\",\"colorway\":[\"#636efa\",\"#EF553B\",\"#00cc96\",\"#ab63fa\",\"#FFA15A\",\"#19d3f3\",\"#FF6692\",\"#B6E880\",\"#FF97FF\",\"#FECB52\"],\"font\":{\"color\":\"#2a3f5f\"},\"hovermode\":\"closest\",\"hoverlabel\":{\"align\":\"left\"},\"paper_bgcolor\":\"white\",\"plot_bgcolor\":\"#E5ECF6\",\"polar\":{\"bgcolor\":\"#E5ECF6\",\"angularaxis\":{\"gridcolor\":\"white\",\"linecolor\":\"white\",\"ticks\":\"\"},\"radialaxis\":{\"gridcolor\":\"white\",\"linecolor\":\"white\",\"ticks\":\"\"}},\"ternary\":{\"bgcolor\":\"#E5ECF6\",\"aaxis\":{\"gridcolor\":\"white\",\"linecolor\":\"white\",\"ticks\":\"\"},\"baxis\":{\"gridcolor\":\"white\",\"linecolor\":\"white\",\"ticks\":\"\"},\"caxis\":{\"gridcolor\":\"white\",\"linecolor\":\"white\",\"ticks\":\"\"}},\"coloraxis\":{\"colorbar\":{\"outlinewidth\":0,\"ticks\":\"\"}},\"colorscale\":{\"sequential\":[[0.0,\"#0d0887\"],[0.1111111111111111,\"#46039f\"],[0.2222222222222222,\"#7201a8\"],[0.3333333333333333,\"#9c179e\"],[0.4444444444444444,\"#bd3786\"],[0.5555555555555556,\"#d8576b\"],[0.6666666666666666,\"#ed7953\"],[0.7777777777777778,\"#fb9f3a\"],[0.8888888888888888,\"#fdca26\"],[1.0,\"#f0f921\"]],\"sequentialminus\":[[0.0,\"#0d0887\"],[0.1111111111111111,\"#46039f\"],[0.2222222222222222,\"#7201a8\"],[0.3333333333333333,\"#9c179e\"],[0.4444444444444444,\"#bd3786\"],[0.5555555555555556,\"#d8576b\"],[0.6666666666666666,\"#ed7953\"],[0.7777777777777778,\"#fb9f3a\"],[0.8888888888888888,\"#fdca26\"],[1.0,\"#f0f921\"]],\"diverging\":[[0,\"#8e0152\"],[0.1,\"#c51b7d\"],[0.2,\"#de77ae\"],[0.3,\"#f1b6da\"],[0.4,\"#fde0ef\"],[0.5,\"#f7f7f7\"],[0.6,\"#e6f5d0\"],[0.7,\"#b8e186\"],[0.8,\"#7fbc41\"],[0.9,\"#4d9221\"],[1,\"#276419\"]]},\"xaxis\":{\"gridcolor\":\"white\",\"linecolor\":\"white\",\"ticks\":\"\",\"title\":{\"standoff\":15},\"zerolinecolor\":\"white\",\"automargin\":true,\"zerolinewidth\":2},\"yaxis\":{\"gridcolor\":\"white\",\"linecolor\":\"white\",\"ticks\":\"\",\"title\":{\"standoff\":15},\"zerolinecolor\":\"white\",\"automargin\":true,\"zerolinewidth\":2},\"scene\":{\"xaxis\":{\"backgroundcolor\":\"#E5ECF6\",\"gridcolor\":\"white\",\"linecolor\":\"white\",\"showbackground\":true,\"ticks\":\"\",\"zerolinecolor\":\"white\",\"gridwidth\":2},\"yaxis\":{\"backgroundcolor\":\"#E5ECF6\",\"gridcolor\":\"white\",\"linecolor\":\"white\",\"showbackground\":true,\"ticks\":\"\",\"zerolinecolor\":\"white\",\"gridwidth\":2},\"zaxis\":{\"backgroundcolor\":\"#E5ECF6\",\"gridcolor\":\"white\",\"linecolor\":\"white\",\"showbackground\":true,\"ticks\":\"\",\"zerolinecolor\":\"white\",\"gridwidth\":2}},\"shapedefaults\":{\"line\":{\"color\":\"#2a3f5f\"}},\"annotationdefaults\":{\"arrowcolor\":\"#2a3f5f\",\"arrowhead\":0,\"arrowwidth\":1},\"geo\":{\"bgcolor\":\"white\",\"landcolor\":\"#E5ECF6\",\"subunitcolor\":\"white\",\"showland\":true,\"showlakes\":true,\"lakecolor\":\"white\"},\"title\":{\"x\":0.05},\"mapbox\":{\"style\":\"light\"}}},\"xaxis\":{\"anchor\":\"y\",\"domain\":[0.0,1.0],\"title\":{\"text\":\"Openings\"}},\"yaxis\":{\"anchor\":\"x\",\"domain\":[0.0,1.0],\"title\":{\"text\":\"Lost\"}},\"legend\":{\"tracegroupgap\":0},\"margin\":{\"t\":60},\"barmode\":\"relative\",\"width\":1000,\"height\":1000},                        {\"responsive\": true}                    ).then(function(){\n",
       "                            \n",
       "var gd = document.getElementById('473ee8cb-9cae-4d35-b901-5e107efdf6c1');\n",
       "var x = new MutationObserver(function (mutations, observer) {{\n",
       "        var display = window.getComputedStyle(gd).display;\n",
       "        if (!display || display === 'none') {{\n",
       "            console.log([gd, 'removed!']);\n",
       "            Plotly.purge(gd);\n",
       "            observer.disconnect();\n",
       "        }}\n",
       "}});\n",
       "\n",
       "// Listen for the removal of the full notebook cells\n",
       "var notebookContainer = gd.closest('#notebook-container');\n",
       "if (notebookContainer) {{\n",
       "    x.observe(notebookContainer, {childList: true});\n",
       "}}\n",
       "\n",
       "// Listen for the clearing of the current output cell\n",
       "var outputEl = gd.closest('.output');\n",
       "if (outputEl) {{\n",
       "    x.observe(outputEl, {childList: true});\n",
       "}}\n",
       "\n",
       "                        })                };                });            </script>        </div>"
      ]
     },
     "metadata": {},
     "output_type": "display_data"
    }
   ],
   "source": [
    "lost_openings = games_data[games_data['result']=='Lost']['Opening'].value_counts()\n",
    "lost_openings = lost_openings.reset_index()\n",
    "lost_openings.columns = ['Openings', 'Lost']\n",
    "fig = px.bar(lost_openings, x='Openings', y='Lost')\n",
    "fig.update_layout(width=1000, height=1000)\n",
    "fig.show()"
   ]
  },
  {
   "cell_type": "code",
   "execution_count": null,
   "id": "145da1da",
   "metadata": {},
   "outputs": [],
   "source": []
  }
 ],
 "metadata": {
  "kernelspec": {
   "display_name": "Python 3 (ipykernel)",
   "language": "python",
   "name": "python3"
  },
  "language_info": {
   "codemirror_mode": {
    "name": "ipython",
    "version": 3
   },
   "file_extension": ".py",
   "mimetype": "text/x-python",
   "name": "python",
   "nbconvert_exporter": "python",
   "pygments_lexer": "ipython3",
   "version": "3.8.17"
  }
 },
 "nbformat": 4,
 "nbformat_minor": 5
}
